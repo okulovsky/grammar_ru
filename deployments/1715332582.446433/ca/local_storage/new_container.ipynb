{
 "cells": [
  {
   "cell_type": "code",
   "execution_count": 1,
   "metadata": {},
   "outputs": [
    {
     "data": {
      "text/plain": [
       "Container(name='Mnist_container', tag='1', entry_point=None, dependencies=['torch', 'torchvision'], deployed_folders=['ca'], pusher=None, python_version='3.8', root_path=None, additional_dependencies=None, custom_dockerfile_template=None, custom_entryfile_template=None, custom_setup_py_template=None, custom_dockerignore_template=None)"
      ]
     },
     "execution_count": 1,
     "metadata": {},
     "output_type": "execute_result"
    }
   ],
   "source": [
    "from container import Container, SimpleContainerPusher, Deployment,ExampleJob\n",
    "\n",
    "from pathlib import Path\n",
    "\n",
    "\n",
    "container = Container(\n",
    "        name ='Mnist_container',\n",
    "        tag ='1',\n",
    "        entry_point = None,\n",
    "        dependencies = ['torch', 'torchvision'],\n",
    "        deployed_folders =['ca'],\n",
    "        pusher = None,\n",
    "    )\n",
    "\n",
    "container"
   ]
  },
  {
   "cell_type": "code",
   "execution_count": null,
   "metadata": {},
   "outputs": [
    {
     "name": "stdout",
     "output_type": "stream",
     "text": [
      "\n",
      "c:\\users\\nikya\\pycharmprojects\\grammar\\grammar_ru\\deployments\\1714732734.565852\n"
     ]
    }
   ],
   "source": [
    "container.build()"
   ]
  },
  {
   "cell_type": "code",
   "execution_count": null,
   "metadata": {},
   "outputs": [],
   "source": []
  }
 ],
 "metadata": {
  "kernelspec": {
   "display_name": "Python 3 (ipykernel)",
   "language": "python",
   "name": "python3"
  },
  "language_info": {
   "codemirror_mode": {
    "name": "ipython",
    "version": 3
   },
   "file_extension": ".py",
   "mimetype": "text/x-python",
   "name": "python",
   "nbconvert_exporter": "python",
   "pygments_lexer": "ipython3",
   "version": "3.9.18"
  }
 },
 "nbformat": 4,
 "nbformat_minor": 2
}
