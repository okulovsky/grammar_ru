{
 "metadata": {
  "kernelspec": {
   "language": "python",
   "display_name": "Python 3",
   "name": "python3"
  },
  "language_info": {
   "name": "python",
   "version": "3.10.12",
   "mimetype": "text/x-python",
   "codemirror_mode": {
    "name": "ipython",
    "version": 3
   },
   "pygments_lexer": "ipython3",
   "nbconvert_exporter": "python",
   "file_extension": ".py"
  },
  "kaggle": {
   "accelerator": "gpu",
   "dataSources": [
    {
     "sourceId": 7288044,
     "sourceType": "datasetVersion",
     "datasetId": 4226472
    }
   ],
   "dockerImageVersionId": 30627,
   "isInternetEnabled": true,
   "language": "python",
   "sourceType": "notebook",
   "isGpuEnabled": true
  }
 },
 "nbformat_minor": 4,
 "nbformat": 4,
 "cells": [
  {
   "cell_type": "markdown",
   "source": [
    "# Предобработка датасета\n",
    "Приведем датасет к виду text,paraphrase(для удобства возьмем один)"
   ],
   "metadata": {}
  },
  {
   "cell_type": "code",
   "source": [
    "data = \"/kaggle/input/paraphrases/chatgpt_paraphrases.csv\""
   ],
   "metadata": {
    "execution": {
     "iopub.status.busy": "2024-01-17T22:40:53.642678Z",
     "iopub.execute_input": "2024-01-17T22:40:53.643390Z",
     "iopub.status.idle": "2024-01-17T22:40:53.647487Z",
     "shell.execute_reply.started": "2024-01-17T22:40:53.643352Z",
     "shell.execute_reply": "2024-01-17T22:40:53.646495Z"
    },
    "trusted": true
   },
   "execution_count": 179,
   "outputs": []
  },
  {
   "cell_type": "code",
   "source": [
    "import pandas as pd\n",
    "import ast"
   ],
   "metadata": {
    "execution": {
     "iopub.status.busy": "2024-01-17T22:40:54.823202Z",
     "iopub.execute_input": "2024-01-17T22:40:54.823925Z",
     "iopub.status.idle": "2024-01-17T22:40:54.828188Z",
     "shell.execute_reply.started": "2024-01-17T22:40:54.823890Z",
     "shell.execute_reply": "2024-01-17T22:40:54.827197Z"
    },
    "trusted": true
   },
   "execution_count": 180,
   "outputs": []
  },
  {
   "cell_type": "code",
   "source": [
    "df_n = pd.read_csv(data)\n",
    "df_n"
   ],
   "metadata": {
    "execution": {
     "iopub.status.busy": "2024-01-17T22:40:56.119640Z",
     "iopub.execute_input": "2024-01-17T22:40:56.120045Z",
     "iopub.status.idle": "2024-01-17T22:40:59.811494Z",
     "shell.execute_reply.started": "2024-01-17T22:40:56.120000Z",
     "shell.execute_reply": "2024-01-17T22:40:59.810553Z"
    },
    "trusted": true
   },
   "execution_count": 181,
   "outputs": [
    {
     "execution_count": 181,
     "output_type": "execute_result",
     "data": {
      "text/plain": "                                                     text  \\\n0       What is the step by step guide to invest in sh...   \n1       What is the story of Kohinoor (Koh-i-Noor) Dia...   \n2       How can I increase the speed of my internet co...   \n3       Why am I mentally very lonely? How can I solve...   \n4       Which one dissolve in water quikly sugar, salt...   \n...                                                   ...   \n419192  He wants to see prices brought down across the...   \n419193  Costs: The Department for Environment, Food an...   \n419194  Details of the action on water bills are expec...   \n419195  Chancellor George Osborne signalled the govern...   \n419196  But Mr Miliband appeared to steal a march on t...   \n\n                                              paraphrases  category    source  \n0       ['Can you provide a detailed procedure for inv...  question     quora  \n1       ['Can you tell me about the history of the Koh...  question     quora  \n2       ['What are some ways to enhance my internet sp...  question     quora  \n3       ['What is causing my mental loneliness and how...  question     quora  \n4       ['Among sugar, salt, methane, and carbon dioxi...  question     quora  \n...                                                   ...       ...       ...  \n419192  ['He desires a reduction in prices across all ...  sentence  cnn_news  \n419193  ['The Department for Environment, Food and Rur...  sentence  cnn_news  \n419194  [\"Downing Street is expected to reveal specifi...  sentence  cnn_news  \n419195  [\"In a speech last month, Chancellor George Os...  sentence  cnn_news  \n419196  ['Yesterday, Mr Miliband warned that the indus...  sentence  cnn_news  \n\n[419197 rows x 4 columns]",
      "text/html": "<div>\n<style scoped>\n    .dataframe tbody tr th:only-of-type {\n        vertical-align: middle;\n    }\n\n    .dataframe tbody tr th {\n        vertical-align: top;\n    }\n\n    .dataframe thead th {\n        text-align: right;\n    }\n</style>\n<table border=\"1\" class=\"dataframe\">\n  <thead>\n    <tr style=\"text-align: right;\">\n      <th></th>\n      <th>text</th>\n      <th>paraphrases</th>\n      <th>category</th>\n      <th>source</th>\n    </tr>\n  </thead>\n  <tbody>\n    <tr>\n      <th>0</th>\n      <td>What is the step by step guide to invest in sh...</td>\n      <td>['Can you provide a detailed procedure for inv...</td>\n      <td>question</td>\n      <td>quora</td>\n    </tr>\n    <tr>\n      <th>1</th>\n      <td>What is the story of Kohinoor (Koh-i-Noor) Dia...</td>\n      <td>['Can you tell me about the history of the Koh...</td>\n      <td>question</td>\n      <td>quora</td>\n    </tr>\n    <tr>\n      <th>2</th>\n      <td>How can I increase the speed of my internet co...</td>\n      <td>['What are some ways to enhance my internet sp...</td>\n      <td>question</td>\n      <td>quora</td>\n    </tr>\n    <tr>\n      <th>3</th>\n      <td>Why am I mentally very lonely? How can I solve...</td>\n      <td>['What is causing my mental loneliness and how...</td>\n      <td>question</td>\n      <td>quora</td>\n    </tr>\n    <tr>\n      <th>4</th>\n      <td>Which one dissolve in water quikly sugar, salt...</td>\n      <td>['Among sugar, salt, methane, and carbon dioxi...</td>\n      <td>question</td>\n      <td>quora</td>\n    </tr>\n    <tr>\n      <th>...</th>\n      <td>...</td>\n      <td>...</td>\n      <td>...</td>\n      <td>...</td>\n    </tr>\n    <tr>\n      <th>419192</th>\n      <td>He wants to see prices brought down across the...</td>\n      <td>['He desires a reduction in prices across all ...</td>\n      <td>sentence</td>\n      <td>cnn_news</td>\n    </tr>\n    <tr>\n      <th>419193</th>\n      <td>Costs: The Department for Environment, Food an...</td>\n      <td>['The Department for Environment, Food and Rur...</td>\n      <td>sentence</td>\n      <td>cnn_news</td>\n    </tr>\n    <tr>\n      <th>419194</th>\n      <td>Details of the action on water bills are expec...</td>\n      <td>[\"Downing Street is expected to reveal specifi...</td>\n      <td>sentence</td>\n      <td>cnn_news</td>\n    </tr>\n    <tr>\n      <th>419195</th>\n      <td>Chancellor George Osborne signalled the govern...</td>\n      <td>[\"In a speech last month, Chancellor George Os...</td>\n      <td>sentence</td>\n      <td>cnn_news</td>\n    </tr>\n    <tr>\n      <th>419196</th>\n      <td>But Mr Miliband appeared to steal a march on t...</td>\n      <td>['Yesterday, Mr Miliband warned that the indus...</td>\n      <td>sentence</td>\n      <td>cnn_news</td>\n    </tr>\n  </tbody>\n</table>\n<p>419197 rows × 4 columns</p>\n</div>"
     },
     "metadata": {}
    }
   ]
  },
  {
   "cell_type": "code",
   "source": [
    "df = df_n.iloc[:, :2]\n",
    "df"
   ],
   "metadata": {
    "execution": {
     "iopub.status.busy": "2024-01-17T22:41:03.218212Z",
     "iopub.execute_input": "2024-01-17T22:41:03.218606Z",
     "iopub.status.idle": "2024-01-17T22:41:03.230745Z",
     "shell.execute_reply.started": "2024-01-17T22:41:03.218573Z",
     "shell.execute_reply": "2024-01-17T22:41:03.229625Z"
    },
    "trusted": true
   },
   "execution_count": 183,
   "outputs": [
    {
     "execution_count": 183,
     "output_type": "execute_result",
     "data": {
      "text/plain": "                                                     text  \\\n0       What is the step by step guide to invest in sh...   \n1       What is the story of Kohinoor (Koh-i-Noor) Dia...   \n2       How can I increase the speed of my internet co...   \n3       Why am I mentally very lonely? How can I solve...   \n4       Which one dissolve in water quikly sugar, salt...   \n...                                                   ...   \n419192  He wants to see prices brought down across the...   \n419193  Costs: The Department for Environment, Food an...   \n419194  Details of the action on water bills are expec...   \n419195  Chancellor George Osborne signalled the govern...   \n419196  But Mr Miliband appeared to steal a march on t...   \n\n                                              paraphrases  \n0       ['Can you provide a detailed procedure for inv...  \n1       ['Can you tell me about the history of the Koh...  \n2       ['What are some ways to enhance my internet sp...  \n3       ['What is causing my mental loneliness and how...  \n4       ['Among sugar, salt, methane, and carbon dioxi...  \n...                                                   ...  \n419192  ['He desires a reduction in prices across all ...  \n419193  ['The Department for Environment, Food and Rur...  \n419194  [\"Downing Street is expected to reveal specifi...  \n419195  [\"In a speech last month, Chancellor George Os...  \n419196  ['Yesterday, Mr Miliband warned that the indus...  \n\n[419197 rows x 2 columns]",
      "text/html": "<div>\n<style scoped>\n    .dataframe tbody tr th:only-of-type {\n        vertical-align: middle;\n    }\n\n    .dataframe tbody tr th {\n        vertical-align: top;\n    }\n\n    .dataframe thead th {\n        text-align: right;\n    }\n</style>\n<table border=\"1\" class=\"dataframe\">\n  <thead>\n    <tr style=\"text-align: right;\">\n      <th></th>\n      <th>text</th>\n      <th>paraphrases</th>\n    </tr>\n  </thead>\n  <tbody>\n    <tr>\n      <th>0</th>\n      <td>What is the step by step guide to invest in sh...</td>\n      <td>['Can you provide a detailed procedure for inv...</td>\n    </tr>\n    <tr>\n      <th>1</th>\n      <td>What is the story of Kohinoor (Koh-i-Noor) Dia...</td>\n      <td>['Can you tell me about the history of the Koh...</td>\n    </tr>\n    <tr>\n      <th>2</th>\n      <td>How can I increase the speed of my internet co...</td>\n      <td>['What are some ways to enhance my internet sp...</td>\n    </tr>\n    <tr>\n      <th>3</th>\n      <td>Why am I mentally very lonely? How can I solve...</td>\n      <td>['What is causing my mental loneliness and how...</td>\n    </tr>\n    <tr>\n      <th>4</th>\n      <td>Which one dissolve in water quikly sugar, salt...</td>\n      <td>['Among sugar, salt, methane, and carbon dioxi...</td>\n    </tr>\n    <tr>\n      <th>...</th>\n      <td>...</td>\n      <td>...</td>\n    </tr>\n    <tr>\n      <th>419192</th>\n      <td>He wants to see prices brought down across the...</td>\n      <td>['He desires a reduction in prices across all ...</td>\n    </tr>\n    <tr>\n      <th>419193</th>\n      <td>Costs: The Department for Environment, Food an...</td>\n      <td>['The Department for Environment, Food and Rur...</td>\n    </tr>\n    <tr>\n      <th>419194</th>\n      <td>Details of the action on water bills are expec...</td>\n      <td>[\"Downing Street is expected to reveal specifi...</td>\n    </tr>\n    <tr>\n      <th>419195</th>\n      <td>Chancellor George Osborne signalled the govern...</td>\n      <td>[\"In a speech last month, Chancellor George Os...</td>\n    </tr>\n    <tr>\n      <th>419196</th>\n      <td>But Mr Miliband appeared to steal a march on t...</td>\n      <td>['Yesterday, Mr Miliband warned that the indus...</td>\n    </tr>\n  </tbody>\n</table>\n<p>419197 rows × 2 columns</p>\n</div>"
     },
     "metadata": {}
    }
   ]
  },
  {
   "cell_type": "code",
   "source": [
    "df['paraphrases'] = df['paraphrases'].apply(lambda x: ast.literal_eval(x)[0] if x else None)\n",
    "df"
   ],
   "metadata": {
    "execution": {
     "iopub.status.busy": "2024-01-17T22:41:19.652818Z",
     "iopub.execute_input": "2024-01-17T22:41:19.653673Z",
     "iopub.status.idle": "2024-01-17T22:41:19.666625Z",
     "shell.execute_reply.started": "2024-01-17T22:41:19.653629Z",
     "shell.execute_reply": "2024-01-17T22:41:19.665009Z"
    },
    "trusted": true
   },
   "execution_count": 187,
   "outputs": [
    {
     "traceback": [
      "Traceback \u001B[0;36m(most recent call last)\u001B[0m:\n",
      "\u001B[0m  File \u001B[1;32m/opt/conda/lib/python3.10/site-packages/IPython/core/interactiveshell.py:3508\u001B[0m in \u001B[1;35mrun_code\u001B[0m\n    exec(code_obj, self.user_global_ns, self.user_ns)\u001B[0m\n",
      "\u001B[0m  Cell \u001B[1;32mIn[187], line 1\u001B[0m\n    df['paraphrases'] = df['paraphrases'].apply(lambda x: ast.literal_eval(x)[0] if x else None)\u001B[0m\n",
      "\u001B[0m  File \u001B[1;32m/opt/conda/lib/python3.10/site-packages/pandas/core/series.py:4764\u001B[0m in \u001B[1;35mapply\u001B[0m\n    ).apply()\u001B[0m\n",
      "\u001B[0m  File \u001B[1;32m/opt/conda/lib/python3.10/site-packages/pandas/core/apply.py:1209\u001B[0m in \u001B[1;35mapply\u001B[0m\n    return self.apply_standard()\u001B[0m\n",
      "\u001B[0m  File \u001B[1;32m/opt/conda/lib/python3.10/site-packages/pandas/core/apply.py:1289\u001B[0m in \u001B[1;35mapply_standard\u001B[0m\n    mapped = obj._map_values(\u001B[0m\n",
      "\u001B[0m  File \u001B[1;32m/opt/conda/lib/python3.10/site-packages/pandas/core/base.py:921\u001B[0m in \u001B[1;35m_map_values\u001B[0m\n    return algorithms.map_array(arr, mapper, na_action=na_action, convert=convert)\u001B[0m\n",
      "\u001B[0m  File \u001B[1;32m/opt/conda/lib/python3.10/site-packages/pandas/core/algorithms.py:1814\u001B[0m in \u001B[1;35mmap_array\u001B[0m\n    return lib.map_infer(values, mapper, convert=convert)\u001B[0m\n",
      "\u001B[0m  File \u001B[1;32mlib.pyx:2926\u001B[0m in \u001B[1;35mpandas._libs.lib.map_infer\u001B[0m\n",
      "\u001B[0m  Cell \u001B[1;32mIn[187], line 1\u001B[0m in \u001B[1;35m<lambda>\u001B[0m\n    df['paraphrases'] = df['paraphrases'].apply(lambda x: ast.literal_eval(x)[0] if x else None)\u001B[0m\n",
      "\u001B[0m  File \u001B[1;32m/opt/conda/lib/python3.10/ast.py:64\u001B[0m in \u001B[1;35mliteral_eval\u001B[0m\n    node_or_string = parse(node_or_string.lstrip(\" \\t\"), mode='eval')\u001B[0m\n",
      "\u001B[0;36m  File \u001B[0;32m/opt/conda/lib/python3.10/ast.py:50\u001B[0;36m in \u001B[0;35mparse\u001B[0;36m\n\u001B[0;31m    return compile(source, filename, mode, flags,\u001B[0;36m\n",
      "\u001B[0;36m  File \u001B[0;32m<unknown>:1\u001B[0;36m\u001B[0m\n\u001B[0;31m    Can you provide a detailed procedure for investing in the Indian stock market?\u001B[0m\n\u001B[0m        ^\u001B[0m\n\u001B[0;31mSyntaxError\u001B[0m\u001B[0;31m:\u001B[0m invalid syntax\n"
     ],
     "ename": "SyntaxError",
     "evalue": "invalid syntax (<unknown>, line 1)",
     "output_type": "error"
    }
   ]
  },
  {
   "cell_type": "code",
   "source": [
    "from sklearn.model_selection import train_test_split"
   ],
   "metadata": {
    "execution": {
     "iopub.status.busy": "2024-01-17T22:41:22.854222Z",
     "iopub.execute_input": "2024-01-17T22:41:22.854846Z",
     "iopub.status.idle": "2024-01-17T22:41:22.859387Z",
     "shell.execute_reply.started": "2024-01-17T22:41:22.854814Z",
     "shell.execute_reply": "2024-01-17T22:41:22.858272Z"
    },
    "trusted": true
   },
   "execution_count": 188,
   "outputs": []
  },
  {
   "cell_type": "markdown",
   "source": [
    "**обрежем датасет, чтобы проверить работоспособность всего**"
   ],
   "metadata": {}
  },
  {
   "cell_type": "code",
   "source": [
    "df = df[:1000]"
   ],
   "metadata": {
    "execution": {
     "iopub.status.busy": "2024-01-17T22:41:25.081282Z",
     "iopub.execute_input": "2024-01-17T22:41:25.081684Z",
     "iopub.status.idle": "2024-01-17T22:41:25.086637Z",
     "shell.execute_reply.started": "2024-01-17T22:41:25.081653Z",
     "shell.execute_reply": "2024-01-17T22:41:25.085501Z"
    },
    "trusted": true
   },
   "execution_count": 189,
   "outputs": []
  },
  {
   "cell_type": "code",
   "source": [
    "train_df, test_df = train_test_split(df, train_size=0.8, random_state=42)"
   ],
   "metadata": {
    "execution": {
     "iopub.status.busy": "2024-01-17T22:41:27.774573Z",
     "iopub.execute_input": "2024-01-17T22:41:27.775489Z",
     "iopub.status.idle": "2024-01-17T22:41:27.783081Z",
     "shell.execute_reply.started": "2024-01-17T22:41:27.775453Z",
     "shell.execute_reply": "2024-01-17T22:41:27.782112Z"
    },
    "trusted": true
   },
   "execution_count": 190,
   "outputs": []
  },
  {
   "cell_type": "code",
   "source": [
    "train_df"
   ],
   "metadata": {
    "execution": {
     "iopub.status.busy": "2024-01-17T22:41:29.479911Z",
     "iopub.execute_input": "2024-01-17T22:41:29.480802Z",
     "iopub.status.idle": "2024-01-17T22:41:29.492873Z",
     "shell.execute_reply.started": "2024-01-17T22:41:29.480768Z",
     "shell.execute_reply": "2024-01-17T22:41:29.491930Z"
    },
    "trusted": true
   },
   "execution_count": 191,
   "outputs": [
    {
     "execution_count": 191,
     "output_type": "execute_result",
     "data": {
      "text/plain": "                                                  text  \\\n29              How should I prepare for CA final law?   \n535  What is an interesting fact that you know and ...   \n695                       How light bend with gravity?   \n557   How do I start a successful private equity firm?   \n836            How can I wake up early in the morning?   \n..                                                 ...   \n106             Have you ever heard of travel hacking?   \n270         Why aren't there more apps like Word Lens?   \n860     What can I do to improve my question on Quora?   \n435  Should I learn AngularJS 1.5 instead of Angula...   \n102  What were the war strategies of the Union and ...   \n\n                                           paraphrases  \n29   What are the best ways to get ready for CA fin...  \n535  Can you share a fascinating piece of informati...  \n695  In what way does gravity cause the bending of ...  \n557  What are the steps to establish a profitable p...  \n836  What are some ways to wake up early in the mor...  \n..                                                 ...  \n106  Are you familiar with the concept of travel ha...  \n270  What is the reason for the scarcity of apps si...  \n860                How can I enhance my Quora inquiry?  \n435  Is it better to learn AngularJS 1.5 instead of...  \n102  What were the military tactics employed by the...  \n\n[800 rows x 2 columns]",
      "text/html": "<div>\n<style scoped>\n    .dataframe tbody tr th:only-of-type {\n        vertical-align: middle;\n    }\n\n    .dataframe tbody tr th {\n        vertical-align: top;\n    }\n\n    .dataframe thead th {\n        text-align: right;\n    }\n</style>\n<table border=\"1\" class=\"dataframe\">\n  <thead>\n    <tr style=\"text-align: right;\">\n      <th></th>\n      <th>text</th>\n      <th>paraphrases</th>\n    </tr>\n  </thead>\n  <tbody>\n    <tr>\n      <th>29</th>\n      <td>How should I prepare for CA final law?</td>\n      <td>What are the best ways to get ready for CA fin...</td>\n    </tr>\n    <tr>\n      <th>535</th>\n      <td>What is an interesting fact that you know and ...</td>\n      <td>Can you share a fascinating piece of informati...</td>\n    </tr>\n    <tr>\n      <th>695</th>\n      <td>How light bend with gravity?</td>\n      <td>In what way does gravity cause the bending of ...</td>\n    </tr>\n    <tr>\n      <th>557</th>\n      <td>How do I start a successful private equity firm?</td>\n      <td>What are the steps to establish a profitable p...</td>\n    </tr>\n    <tr>\n      <th>836</th>\n      <td>How can I wake up early in the morning?</td>\n      <td>What are some ways to wake up early in the mor...</td>\n    </tr>\n    <tr>\n      <th>...</th>\n      <td>...</td>\n      <td>...</td>\n    </tr>\n    <tr>\n      <th>106</th>\n      <td>Have you ever heard of travel hacking?</td>\n      <td>Are you familiar with the concept of travel ha...</td>\n    </tr>\n    <tr>\n      <th>270</th>\n      <td>Why aren't there more apps like Word Lens?</td>\n      <td>What is the reason for the scarcity of apps si...</td>\n    </tr>\n    <tr>\n      <th>860</th>\n      <td>What can I do to improve my question on Quora?</td>\n      <td>How can I enhance my Quora inquiry?</td>\n    </tr>\n    <tr>\n      <th>435</th>\n      <td>Should I learn AngularJS 1.5 instead of Angula...</td>\n      <td>Is it better to learn AngularJS 1.5 instead of...</td>\n    </tr>\n    <tr>\n      <th>102</th>\n      <td>What were the war strategies of the Union and ...</td>\n      <td>What were the military tactics employed by the...</td>\n    </tr>\n  </tbody>\n</table>\n<p>800 rows × 2 columns</p>\n</div>"
     },
     "metadata": {}
    }
   ]
  },
  {
   "cell_type": "markdown",
   "source": [
    "# Дообучение gpt с lora"
   ],
   "metadata": {}
  },
  {
   "cell_type": "code",
   "source": [
    "!pip install --upgrade accelerate\n",
    "!pip install peft\n",
    "!pip install datasets"
   ],
   "metadata": {
    "execution": {
     "iopub.status.busy": "2024-01-17T22:41:32.550541Z",
     "iopub.execute_input": "2024-01-17T22:41:32.551548Z",
     "iopub.status.idle": "2024-01-17T22:42:09.356572Z",
     "shell.execute_reply.started": "2024-01-17T22:41:32.551512Z",
     "shell.execute_reply": "2024-01-17T22:42:09.355422Z"
    },
    "trusted": true
   },
   "execution_count": 192,
   "outputs": [
    {
     "name": "stdout",
     "text": "Requirement already satisfied: accelerate in /opt/conda/lib/python3.10/site-packages (0.26.1)\nRequirement already satisfied: numpy>=1.17 in /opt/conda/lib/python3.10/site-packages (from accelerate) (1.24.3)\nRequirement already satisfied: packaging>=20.0 in /opt/conda/lib/python3.10/site-packages (from accelerate) (21.3)\nRequirement already satisfied: psutil in /opt/conda/lib/python3.10/site-packages (from accelerate) (5.9.3)\nRequirement already satisfied: pyyaml in /opt/conda/lib/python3.10/site-packages (from accelerate) (6.0.1)\nRequirement already satisfied: torch>=1.10.0 in /opt/conda/lib/python3.10/site-packages (from accelerate) (2.0.0)\nRequirement already satisfied: huggingface-hub in /opt/conda/lib/python3.10/site-packages (from accelerate) (0.19.4)\nRequirement already satisfied: safetensors>=0.3.1 in /opt/conda/lib/python3.10/site-packages (from accelerate) (0.4.1)\nRequirement already satisfied: pyparsing!=3.0.5,>=2.0.2 in /opt/conda/lib/python3.10/site-packages (from packaging>=20.0->accelerate) (3.0.9)\nRequirement already satisfied: filelock in /opt/conda/lib/python3.10/site-packages (from torch>=1.10.0->accelerate) (3.12.2)\nRequirement already satisfied: typing-extensions in /opt/conda/lib/python3.10/site-packages (from torch>=1.10.0->accelerate) (4.5.0)\nRequirement already satisfied: sympy in /opt/conda/lib/python3.10/site-packages (from torch>=1.10.0->accelerate) (1.12)\nRequirement already satisfied: networkx in /opt/conda/lib/python3.10/site-packages (from torch>=1.10.0->accelerate) (3.1)\nRequirement already satisfied: jinja2 in /opt/conda/lib/python3.10/site-packages (from torch>=1.10.0->accelerate) (3.1.2)\nRequirement already satisfied: fsspec>=2023.5.0 in /opt/conda/lib/python3.10/site-packages (from huggingface-hub->accelerate) (2023.12.2)\nRequirement already satisfied: requests in /opt/conda/lib/python3.10/site-packages (from huggingface-hub->accelerate) (2.31.0)\nRequirement already satisfied: tqdm>=4.42.1 in /opt/conda/lib/python3.10/site-packages (from huggingface-hub->accelerate) (4.66.1)\nRequirement already satisfied: MarkupSafe>=2.0 in /opt/conda/lib/python3.10/site-packages (from jinja2->torch>=1.10.0->accelerate) (2.1.3)\nRequirement already satisfied: charset-normalizer<4,>=2 in /opt/conda/lib/python3.10/site-packages (from requests->huggingface-hub->accelerate) (3.2.0)\nRequirement already satisfied: idna<4,>=2.5 in /opt/conda/lib/python3.10/site-packages (from requests->huggingface-hub->accelerate) (3.4)\nRequirement already satisfied: urllib3<3,>=1.21.1 in /opt/conda/lib/python3.10/site-packages (from requests->huggingface-hub->accelerate) (1.26.15)\nRequirement already satisfied: certifi>=2017.4.17 in /opt/conda/lib/python3.10/site-packages (from requests->huggingface-hub->accelerate) (2023.11.17)\nRequirement already satisfied: mpmath>=0.19 in /opt/conda/lib/python3.10/site-packages (from sympy->torch>=1.10.0->accelerate) (1.3.0)\nRequirement already satisfied: peft in /opt/conda/lib/python3.10/site-packages (0.7.1)\nRequirement already satisfied: numpy>=1.17 in /opt/conda/lib/python3.10/site-packages (from peft) (1.24.3)\nRequirement already satisfied: packaging>=20.0 in /opt/conda/lib/python3.10/site-packages (from peft) (21.3)\nRequirement already satisfied: psutil in /opt/conda/lib/python3.10/site-packages (from peft) (5.9.3)\nRequirement already satisfied: pyyaml in /opt/conda/lib/python3.10/site-packages (from peft) (6.0.1)\nRequirement already satisfied: torch>=1.13.0 in /opt/conda/lib/python3.10/site-packages (from peft) (2.0.0)\nRequirement already satisfied: transformers in /opt/conda/lib/python3.10/site-packages (from peft) (4.36.0)\nRequirement already satisfied: tqdm in /opt/conda/lib/python3.10/site-packages (from peft) (4.66.1)\nRequirement already satisfied: accelerate>=0.21.0 in /opt/conda/lib/python3.10/site-packages (from peft) (0.26.1)\nRequirement already satisfied: safetensors in /opt/conda/lib/python3.10/site-packages (from peft) (0.4.1)\nRequirement already satisfied: huggingface-hub>=0.17.0 in /opt/conda/lib/python3.10/site-packages (from peft) (0.19.4)\nRequirement already satisfied: filelock in /opt/conda/lib/python3.10/site-packages (from huggingface-hub>=0.17.0->peft) (3.12.2)\nRequirement already satisfied: fsspec>=2023.5.0 in /opt/conda/lib/python3.10/site-packages (from huggingface-hub>=0.17.0->peft) (2023.12.2)\nRequirement already satisfied: requests in /opt/conda/lib/python3.10/site-packages (from huggingface-hub>=0.17.0->peft) (2.31.0)\nRequirement already satisfied: typing-extensions>=3.7.4.3 in /opt/conda/lib/python3.10/site-packages (from huggingface-hub>=0.17.0->peft) (4.5.0)\nRequirement already satisfied: pyparsing!=3.0.5,>=2.0.2 in /opt/conda/lib/python3.10/site-packages (from packaging>=20.0->peft) (3.0.9)\nRequirement already satisfied: sympy in /opt/conda/lib/python3.10/site-packages (from torch>=1.13.0->peft) (1.12)\nRequirement already satisfied: networkx in /opt/conda/lib/python3.10/site-packages (from torch>=1.13.0->peft) (3.1)\nRequirement already satisfied: jinja2 in /opt/conda/lib/python3.10/site-packages (from torch>=1.13.0->peft) (3.1.2)\nRequirement already satisfied: regex!=2019.12.17 in /opt/conda/lib/python3.10/site-packages (from transformers->peft) (2023.8.8)\nRequirement already satisfied: tokenizers<0.19,>=0.14 in /opt/conda/lib/python3.10/site-packages (from transformers->peft) (0.15.0)\nRequirement already satisfied: MarkupSafe>=2.0 in /opt/conda/lib/python3.10/site-packages (from jinja2->torch>=1.13.0->peft) (2.1.3)\nRequirement already satisfied: charset-normalizer<4,>=2 in /opt/conda/lib/python3.10/site-packages (from requests->huggingface-hub>=0.17.0->peft) (3.2.0)\nRequirement already satisfied: idna<4,>=2.5 in /opt/conda/lib/python3.10/site-packages (from requests->huggingface-hub>=0.17.0->peft) (3.4)\nRequirement already satisfied: urllib3<3,>=1.21.1 in /opt/conda/lib/python3.10/site-packages (from requests->huggingface-hub>=0.17.0->peft) (1.26.15)\nRequirement already satisfied: certifi>=2017.4.17 in /opt/conda/lib/python3.10/site-packages (from requests->huggingface-hub>=0.17.0->peft) (2023.11.17)\nRequirement already satisfied: mpmath>=0.19 in /opt/conda/lib/python3.10/site-packages (from sympy->torch>=1.13.0->peft) (1.3.0)\nRequirement already satisfied: datasets in /opt/conda/lib/python3.10/site-packages (2.1.0)\nRequirement already satisfied: numpy>=1.17 in /opt/conda/lib/python3.10/site-packages (from datasets) (1.24.3)\nRequirement already satisfied: pyarrow>=5.0.0 in /opt/conda/lib/python3.10/site-packages (from datasets) (11.0.0)\nRequirement already satisfied: dill in /opt/conda/lib/python3.10/site-packages (from datasets) (0.3.7)\nRequirement already satisfied: pandas in /opt/conda/lib/python3.10/site-packages (from datasets) (2.0.3)\nRequirement already satisfied: requests>=2.19.0 in /opt/conda/lib/python3.10/site-packages (from datasets) (2.31.0)\nRequirement already satisfied: tqdm>=4.62.1 in /opt/conda/lib/python3.10/site-packages (from datasets) (4.66.1)\nRequirement already satisfied: xxhash in /opt/conda/lib/python3.10/site-packages (from datasets) (3.4.1)\nRequirement already satisfied: multiprocess in /opt/conda/lib/python3.10/site-packages (from datasets) (0.70.15)\nRequirement already satisfied: fsspec[http]>=2021.05.0 in /opt/conda/lib/python3.10/site-packages (from datasets) (2023.12.2)\nRequirement already satisfied: aiohttp in /opt/conda/lib/python3.10/site-packages (from datasets) (3.8.5)\nRequirement already satisfied: huggingface-hub<1.0.0,>=0.1.0 in /opt/conda/lib/python3.10/site-packages (from datasets) (0.19.4)\nRequirement already satisfied: packaging in /opt/conda/lib/python3.10/site-packages (from datasets) (21.3)\nRequirement already satisfied: responses<0.19 in /opt/conda/lib/python3.10/site-packages (from datasets) (0.18.0)\nRequirement already satisfied: attrs>=17.3.0 in /opt/conda/lib/python3.10/site-packages (from aiohttp->datasets) (23.1.0)\nRequirement already satisfied: charset-normalizer<4.0,>=2.0 in /opt/conda/lib/python3.10/site-packages (from aiohttp->datasets) (3.2.0)\nRequirement already satisfied: multidict<7.0,>=4.5 in /opt/conda/lib/python3.10/site-packages (from aiohttp->datasets) (6.0.4)\nRequirement already satisfied: async-timeout<5.0,>=4.0.0a3 in /opt/conda/lib/python3.10/site-packages (from aiohttp->datasets) (4.0.3)\nRequirement already satisfied: yarl<2.0,>=1.0 in /opt/conda/lib/python3.10/site-packages (from aiohttp->datasets) (1.9.2)\nRequirement already satisfied: frozenlist>=1.1.1 in /opt/conda/lib/python3.10/site-packages (from aiohttp->datasets) (1.4.0)\nRequirement already satisfied: aiosignal>=1.1.2 in /opt/conda/lib/python3.10/site-packages (from aiohttp->datasets) (1.3.1)\nRequirement already satisfied: filelock in /opt/conda/lib/python3.10/site-packages (from huggingface-hub<1.0.0,>=0.1.0->datasets) (3.12.2)\nRequirement already satisfied: pyyaml>=5.1 in /opt/conda/lib/python3.10/site-packages (from huggingface-hub<1.0.0,>=0.1.0->datasets) (6.0.1)\nRequirement already satisfied: typing-extensions>=3.7.4.3 in /opt/conda/lib/python3.10/site-packages (from huggingface-hub<1.0.0,>=0.1.0->datasets) (4.5.0)\nRequirement already satisfied: pyparsing!=3.0.5,>=2.0.2 in /opt/conda/lib/python3.10/site-packages (from packaging->datasets) (3.0.9)\nRequirement already satisfied: idna<4,>=2.5 in /opt/conda/lib/python3.10/site-packages (from requests>=2.19.0->datasets) (3.4)\nRequirement already satisfied: urllib3<3,>=1.21.1 in /opt/conda/lib/python3.10/site-packages (from requests>=2.19.0->datasets) (1.26.15)\nRequirement already satisfied: certifi>=2017.4.17 in /opt/conda/lib/python3.10/site-packages (from requests>=2.19.0->datasets) (2023.11.17)\nRequirement already satisfied: python-dateutil>=2.8.2 in /opt/conda/lib/python3.10/site-packages (from pandas->datasets) (2.8.2)\nRequirement already satisfied: pytz>=2020.1 in /opt/conda/lib/python3.10/site-packages (from pandas->datasets) (2023.3)\nRequirement already satisfied: tzdata>=2022.1 in /opt/conda/lib/python3.10/site-packages (from pandas->datasets) (2023.3)\nRequirement already satisfied: six>=1.5 in /opt/conda/lib/python3.10/site-packages (from python-dateutil>=2.8.2->pandas->datasets) (1.16.0)\n",
     "output_type": "stream"
    }
   ]
  },
  {
   "cell_type": "code",
   "source": [
    "import pandas as pd\n",
    "import torch\n",
    "from transformers import GPT2LMHeadModel, GPT2Tokenizer, Trainer, TrainingArguments\n",
    "from datasets import load_metric, Dataset\n",
    "from torch.utils.data import DataLoader\n",
    "\n",
    "from peft import get_peft_config, PeftModel, PeftConfig, get_peft_model, LoraConfig, TaskType\n"
   ],
   "metadata": {
    "execution": {
     "iopub.status.busy": "2024-01-17T22:42:09.358774Z",
     "iopub.execute_input": "2024-01-17T22:42:09.359135Z",
     "iopub.status.idle": "2024-01-17T22:42:09.365107Z",
     "shell.execute_reply.started": "2024-01-17T22:42:09.359104Z",
     "shell.execute_reply": "2024-01-17T22:42:09.364177Z"
    },
    "trusted": true
   },
   "execution_count": 193,
   "outputs": []
  },
  {
   "cell_type": "code",
   "source": [
    "tokenizer = GPT2Tokenizer.from_pretrained('gpt2')\n",
    "tokenizer.pad_token = tokenizer.eos_token"
   ],
   "metadata": {
    "execution": {
     "iopub.status.busy": "2024-01-17T22:42:09.366482Z",
     "iopub.execute_input": "2024-01-17T22:42:09.366789Z",
     "iopub.status.idle": "2024-01-17T22:42:09.703155Z",
     "shell.execute_reply.started": "2024-01-17T22:42:09.366763Z",
     "shell.execute_reply": "2024-01-17T22:42:09.702087Z"
    },
    "trusted": true
   },
   "execution_count": 194,
   "outputs": []
  },
  {
   "cell_type": "code",
   "source": [
    "train = tokenizer(train_df['text'].tolist(), truncation=True, padding=True)\n",
    "test = tokenizer(test_df['text'].tolist(), truncation=True, padding=True)"
   ],
   "metadata": {
    "execution": {
     "iopub.status.busy": "2024-01-17T22:42:41.403951Z",
     "iopub.execute_input": "2024-01-17T22:42:41.405117Z",
     "iopub.status.idle": "2024-01-17T22:42:41.703577Z",
     "shell.execute_reply.started": "2024-01-17T22:42:41.405074Z",
     "shell.execute_reply": "2024-01-17T22:42:41.702739Z"
    },
    "trusted": true
   },
   "execution_count": 199,
   "outputs": []
  },
  {
   "cell_type": "code",
   "source": [
    "def shift(input_ids):\n",
    "   return [tokenizer.pad_token_id] + input_ids[:-1]\n",
    "\n",
    "train['labels'] = [shift(ids) for ids in train['input_ids']]\n",
    "test['labels'] = [shift(ids) for ids in test['input_ids']]"
   ],
   "metadata": {
    "execution": {
     "iopub.status.busy": "2024-01-17T22:42:43.241753Z",
     "iopub.execute_input": "2024-01-17T22:42:43.242679Z",
     "iopub.status.idle": "2024-01-17T22:42:43.250447Z",
     "shell.execute_reply.started": "2024-01-17T22:42:43.242642Z",
     "shell.execute_reply": "2024-01-17T22:42:43.249448Z"
    },
    "trusted": true
   },
   "execution_count": 200,
   "outputs": []
  },
  {
   "cell_type": "code",
   "source": [
    "train_data = Dataset.from_dict(train)\n",
    "test_data = Dataset.from_dict(test)"
   ],
   "metadata": {
    "trusted": true
   },
   "execution_count": 201,
   "outputs": []
  },
  {
   "cell_type": "code",
   "source": [
    "train_data"
   ],
   "metadata": {
    "trusted": true
   },
   "execution_count": 202,
   "outputs": [
    {
     "execution_count": 202,
     "output_type": "execute_result",
     "data": {
      "text/plain": "Dataset({\n    features: ['input_ids', 'attention_mask', 'labels'],\n    num_rows: 800\n})"
     },
     "metadata": {}
    }
   ]
  },
  {
   "cell_type": "code",
   "source": [
    "model = GPT2LMHeadModel.from_pretrained('gpt2')"
   ],
   "metadata": {
    "trusted": true
   },
   "execution_count": 203,
   "outputs": []
  },
  {
   "cell_type": "code",
   "source": [
    "peft_config = LoraConfig(\n",
    "    task_type=TaskType.CAUSAL_LM,  # task_type, token classification (TaskType.CAUSAL_LM)\n",
    "    inference_mode=False,\n",
    "    r=8,                           # r, the dimension of the low-rank matrices\n",
    "    lora_alpha=16,                 # lora_alpha, scaling factor for the weight matrices\n",
    "    lora_dropout=0.3,              # lora_dropout, dropout probability of the LoRA layers\n",
    "    fan_in_fan_out=True,\n",
    "    bias=\"lora_only\"               # bias, set to only lora layers to train\n",
    "\n",
    ")"
   ],
   "metadata": {
    "execution": {
     "iopub.status.busy": "2024-01-17T22:42:52.142538Z",
     "iopub.execute_input": "2024-01-17T22:42:52.143250Z",
     "iopub.status.idle": "2024-01-17T22:42:52.148506Z",
     "shell.execute_reply.started": "2024-01-17T22:42:52.143218Z",
     "shell.execute_reply": "2024-01-17T22:42:52.147521Z"
    },
    "trusted": true
   },
   "execution_count": 204,
   "outputs": []
  },
  {
   "cell_type": "code",
   "source": [
    "lora_model = get_peft_model(model, peft_config)\n",
    "lora_model.print_trainable_parameters()"
   ],
   "metadata": {
    "trusted": true
   },
   "execution_count": 205,
   "outputs": [
    {
     "name": "stdout",
     "text": "trainable params: 294,912 || all params: 124,734,720 || trainable%: 0.23643136409814364\n",
     "output_type": "stream"
    }
   ]
  },
  {
   "cell_type": "code",
   "source": [
    "training_args = TrainingArguments(\n",
    "    'lora_with_gpt_2',\n",
    "    num_train_epochs=400,\n",
    "    per_device_train_batch_size=32,\n",
    "    per_device_eval_batch_size=32,\n",
    "    dataloader_num_workers=2,\n",
    "\n",
    "    evaluation_strategy = \"steps\",\n",
    "    logging_strategy=\"steps\",\n",
    "    save_strategy=\"steps\",\n",
    "    eval_steps=30,\n",
    "    logging_steps=30,\n",
    "    save_steps=30,\n",
    "\n",
    "    learning_rate=1e-3,\n",
    "    weight_decay=0.01,\n",
    "    save_total_limit=10,\n",
    "    report_to='none',\n",
    "\n",
    "    load_best_model_at_end=True\n",
    ")"
   ],
   "metadata": {
    "trusted": true
   },
   "execution_count": 206,
   "outputs": []
  },
  {
   "cell_type": "code",
   "source": [
    "import matplotlib.pyplot as plt"
   ],
   "metadata": {
    "execution": {
     "iopub.status.busy": "2024-01-17T22:42:57.970081Z",
     "iopub.execute_input": "2024-01-17T22:42:57.970467Z",
     "iopub.status.idle": "2024-01-17T22:42:57.975078Z",
     "shell.execute_reply.started": "2024-01-17T22:42:57.970436Z",
     "shell.execute_reply": "2024-01-17T22:42:57.973973Z"
    },
    "trusted": true
   },
   "execution_count": 207,
   "outputs": []
  },
  {
   "cell_type": "code",
   "source": [
    "# !pip install rouge_score"
   ],
   "metadata": {
    "execution": {
     "iopub.status.busy": "2024-01-17T22:09:18.454652Z",
     "iopub.execute_input": "2024-01-17T22:09:18.455549Z",
     "iopub.status.idle": "2024-01-17T22:09:32.893256Z",
     "shell.execute_reply.started": "2024-01-17T22:09:18.455511Z",
     "shell.execute_reply": "2024-01-17T22:09:32.892065Z"
    },
    "trusted": true
   },
   "execution_count": 80,
   "outputs": [
    {
     "name": "stdout",
     "text": "Collecting rouge_score\n  Downloading rouge_score-0.1.2.tar.gz (17 kB)\n  Preparing metadata (setup.py) ... \u001B[?25ldone\n\u001B[?25hRequirement already satisfied: absl-py in /opt/conda/lib/python3.10/site-packages (from rouge_score) (1.4.0)\nRequirement already satisfied: nltk in /opt/conda/lib/python3.10/site-packages (from rouge_score) (3.2.4)\nRequirement already satisfied: numpy in /opt/conda/lib/python3.10/site-packages (from rouge_score) (1.24.3)\nRequirement already satisfied: six>=1.14.0 in /opt/conda/lib/python3.10/site-packages (from rouge_score) (1.16.0)\nBuilding wheels for collected packages: rouge_score\n  Building wheel for rouge_score (setup.py) ... \u001B[?25ldone\n\u001B[?25h  Created wheel for rouge_score: filename=rouge_score-0.1.2-py3-none-any.whl size=24932 sha256=0b9a4b6cc55dd3f250a8bb970f4e3b92bdedbd8a74f9d5934ef436ac59595ee7\n  Stored in directory: /root/.cache/pip/wheels/5f/dd/89/461065a73be61a532ff8599a28e9beef17985c9e9c31e541b4\nSuccessfully built rouge_score\nInstalling collected packages: rouge_score\nSuccessfully installed rouge_score-0.1.2\n",
     "output_type": "stream"
    }
   ]
  },
  {
   "cell_type": "code",
   "source": [
    "# from datasets import load_metric\n",
    "# import numpy as np\n",
    "\n",
    "# bleu_metric = load_metric('bleu')\n",
    "# rouge_metric = load_metric('rouge')"
   ],
   "metadata": {
    "execution": {
     "iopub.status.busy": "2024-01-17T22:29:32.068944Z",
     "iopub.execute_input": "2024-01-17T22:29:32.069949Z",
     "iopub.status.idle": "2024-01-17T22:29:32.841246Z",
     "shell.execute_reply.started": "2024-01-17T22:29:32.069912Z",
     "shell.execute_reply": "2024-01-17T22:29:32.840455Z"
    },
    "trusted": true
   },
   "execution_count": 139,
   "outputs": []
  },
  {
   "cell_type": "code",
   "source": [
    "# def compute_metrics(eval_pred):\n",
    "#     predictions, labels = eval_pred\n",
    "#     predictions = np.argmax(predictions, axis=-1)\n",
    "\n",
    "#     decoded_preds = [tokenizer.decode(pred, skip_special_tokens=True) for pred in predictions]\n",
    "#     decoded_labels = [tokenizer.decode(label, skip_special_tokens=True) for label in labels]\n",
    "\n",
    "#     decoded_preds = [[pred] for pred in decoded_preds]\n",
    "#     decoded_labels = [[[label]] for label in decoded_labels]\n",
    "\n",
    "#     bleu_score = bleu_metric.compute(predictions=decoded_preds, references=decoded_labels)\n",
    "#     rouge_score = rouge_metric.compute(predictions=decoded_preds, references=decoded_labels)\n",
    "\n",
    "#     bleu = bleu_score.get('score', 0)  \n",
    "#     rouge_l_fmeasure = rouge_score['rougeL'].mid.fmeasure  \n",
    "\n",
    "#     return {\"bleu\": bleu, \"rouge_l_fmeasure\": rouge_l_fmeasure}\n"
   ],
   "metadata": {
    "execution": {
     "iopub.status.busy": "2024-01-17T22:29:34.653603Z",
     "iopub.execute_input": "2024-01-17T22:29:34.654477Z",
     "iopub.status.idle": "2024-01-17T22:29:34.662177Z",
     "shell.execute_reply.started": "2024-01-17T22:29:34.654441Z",
     "shell.execute_reply": "2024-01-17T22:29:34.661239Z"
    },
    "trusted": true
   },
   "execution_count": 140,
   "outputs": []
  },
  {
   "cell_type": "code",
   "source": [
    "class TrainingLogger(TrainerCallback):\n",
    "    def __init__(self):\n",
    "        self.train_loss = []\n",
    "        self.eval_loss = []\n",
    "#         self.bleu_scores = []\n",
    "#         self.rouge_scores = []\n",
    "        self.eval_steps = []\n",
    "\n",
    "    def on_log(self, args, state, control, logs=None, **kwargs):\n",
    "        if 'loss' in logs:\n",
    "            self.train_loss.append(logs['loss'])\n",
    "        if 'eval_loss' in logs:\n",
    "            self.eval_loss.append(logs['eval_loss'])\n",
    "            self.eval_steps.append(state.global_step)\n",
    "#             self.bleu_scores.append(logs.get('eval_bleu', None))\n",
    "#             self.rouge_scores.append(logs.get('eval_rougeL', None))  \n"
   ],
   "metadata": {
    "execution": {
     "iopub.status.busy": "2024-01-17T22:43:05.124274Z",
     "iopub.execute_input": "2024-01-17T22:43:05.124692Z",
     "iopub.status.idle": "2024-01-17T22:43:05.131966Z",
     "shell.execute_reply.started": "2024-01-17T22:43:05.124654Z",
     "shell.execute_reply": "2024-01-17T22:43:05.130718Z"
    },
    "trusted": true
   },
   "execution_count": 208,
   "outputs": []
  },
  {
   "cell_type": "code",
   "source": [
    "logger = TrainingLogger()"
   ],
   "metadata": {
    "execution": {
     "iopub.status.busy": "2024-01-17T22:43:07.142720Z",
     "iopub.execute_input": "2024-01-17T22:43:07.143139Z",
     "iopub.status.idle": "2024-01-17T22:43:07.147746Z",
     "shell.execute_reply.started": "2024-01-17T22:43:07.143102Z",
     "shell.execute_reply": "2024-01-17T22:43:07.146723Z"
    },
    "trusted": true
   },
   "execution_count": 209,
   "outputs": []
  },
  {
   "cell_type": "code",
   "source": [
    "trainer = Trainer(\n",
    "    model=lora_model,\n",
    "    args=training_args,\n",
    "    train_dataset=train_data,\n",
    "    eval_dataset=test_data,\n",
    "#     compute_metrics=compute_metrics,\n",
    "    callbacks=[logger]\n",
    ")"
   ],
   "metadata": {
    "execution": {
     "iopub.status.busy": "2024-01-17T22:43:08.910849Z",
     "iopub.execute_input": "2024-01-17T22:43:08.911595Z",
     "iopub.status.idle": "2024-01-17T22:43:09.083191Z",
     "shell.execute_reply.started": "2024-01-17T22:43:08.911558Z",
     "shell.execute_reply": "2024-01-17T22:43:09.082311Z"
    },
    "trusted": true
   },
   "execution_count": 210,
   "outputs": []
  },
  {
   "cell_type": "code",
   "source": [
    "train_output = trainer.train()\n",
    "trainer.model.save_pretrained('finetuned_model')"
   ],
   "metadata": {
    "execution": {
     "iopub.status.busy": "2024-01-17T22:43:12.723899Z",
     "iopub.execute_input": "2024-01-17T22:43:12.724287Z",
     "iopub.status.idle": "2024-01-17T23:14:46.880247Z",
     "shell.execute_reply.started": "2024-01-17T22:43:12.724257Z",
     "shell.execute_reply": "2024-01-17T23:14:46.879223Z"
    },
    "trusted": true
   },
   "execution_count": 211,
   "outputs": [
    {
     "output_type": "display_data",
     "data": {
      "text/plain": "<IPython.core.display.HTML object>",
      "text/html": "\n    <div>\n      \n      <progress value='10000' max='10000' style='width:300px; height:20px; vertical-align: middle;'></progress>\n      [10000/10000 31:33, Epoch 400/400]\n    </div>\n    <table border=\"1\" class=\"dataframe\">\n  <thead>\n <tr style=\"text-align: left;\">\n      <th>Step</th>\n      <th>Training Loss</th>\n      <th>Validation Loss</th>\n    </tr>\n  </thead>\n  <tbody>\n    <tr>\n      <td>30</td>\n      <td>3.084300</td>\n      <td>0.324948</td>\n    </tr>\n    <tr>\n      <td>60</td>\n      <td>0.177700</td>\n      <td>0.067156</td>\n    </tr>\n    <tr>\n      <td>90</td>\n      <td>0.089000</td>\n      <td>0.050923</td>\n    </tr>\n    <tr>\n      <td>120</td>\n      <td>0.078200</td>\n      <td>0.034397</td>\n    </tr>\n    <tr>\n      <td>150</td>\n      <td>0.063300</td>\n      <td>0.029268</td>\n    </tr>\n    <tr>\n      <td>180</td>\n      <td>0.062500</td>\n      <td>0.015355</td>\n    </tr>\n    <tr>\n      <td>210</td>\n      <td>0.056100</td>\n      <td>0.013854</td>\n    </tr>\n    <tr>\n      <td>240</td>\n      <td>0.052600</td>\n      <td>0.009387</td>\n    </tr>\n    <tr>\n      <td>270</td>\n      <td>0.049900</td>\n      <td>0.004843</td>\n    </tr>\n    <tr>\n      <td>300</td>\n      <td>0.044700</td>\n      <td>0.002499</td>\n    </tr>\n    <tr>\n      <td>330</td>\n      <td>0.039900</td>\n      <td>0.003578</td>\n    </tr>\n    <tr>\n      <td>360</td>\n      <td>0.047200</td>\n      <td>0.006971</td>\n    </tr>\n    <tr>\n      <td>390</td>\n      <td>0.039800</td>\n      <td>0.001485</td>\n    </tr>\n    <tr>\n      <td>420</td>\n      <td>0.026700</td>\n      <td>0.001847</td>\n    </tr>\n    <tr>\n      <td>450</td>\n      <td>0.024700</td>\n      <td>0.000901</td>\n    </tr>\n    <tr>\n      <td>480</td>\n      <td>0.014300</td>\n      <td>0.000574</td>\n    </tr>\n    <tr>\n      <td>510</td>\n      <td>0.012200</td>\n      <td>0.000386</td>\n    </tr>\n    <tr>\n      <td>540</td>\n      <td>0.010600</td>\n      <td>0.000376</td>\n    </tr>\n    <tr>\n      <td>570</td>\n      <td>0.009200</td>\n      <td>0.000312</td>\n    </tr>\n    <tr>\n      <td>600</td>\n      <td>0.007800</td>\n      <td>0.000172</td>\n    </tr>\n    <tr>\n      <td>630</td>\n      <td>0.006900</td>\n      <td>0.000422</td>\n    </tr>\n    <tr>\n      <td>660</td>\n      <td>0.007100</td>\n      <td>0.000340</td>\n    </tr>\n    <tr>\n      <td>690</td>\n      <td>0.006100</td>\n      <td>0.000319</td>\n    </tr>\n    <tr>\n      <td>720</td>\n      <td>0.005700</td>\n      <td>0.000116</td>\n    </tr>\n    <tr>\n      <td>750</td>\n      <td>0.005800</td>\n      <td>0.000084</td>\n    </tr>\n    <tr>\n      <td>780</td>\n      <td>0.004700</td>\n      <td>0.000292</td>\n    </tr>\n    <tr>\n      <td>810</td>\n      <td>0.005100</td>\n      <td>0.000114</td>\n    </tr>\n    <tr>\n      <td>840</td>\n      <td>0.007900</td>\n      <td>0.000138</td>\n    </tr>\n    <tr>\n      <td>870</td>\n      <td>0.004500</td>\n      <td>0.000161</td>\n    </tr>\n    <tr>\n      <td>900</td>\n      <td>0.004600</td>\n      <td>0.000069</td>\n    </tr>\n    <tr>\n      <td>930</td>\n      <td>0.003900</td>\n      <td>0.000061</td>\n    </tr>\n    <tr>\n      <td>960</td>\n      <td>0.003400</td>\n      <td>0.001057</td>\n    </tr>\n    <tr>\n      <td>990</td>\n      <td>0.003100</td>\n      <td>0.000037</td>\n    </tr>\n    <tr>\n      <td>1020</td>\n      <td>0.003800</td>\n      <td>0.000539</td>\n    </tr>\n    <tr>\n      <td>1050</td>\n      <td>0.004200</td>\n      <td>0.000889</td>\n    </tr>\n    <tr>\n      <td>1080</td>\n      <td>0.003300</td>\n      <td>0.001329</td>\n    </tr>\n    <tr>\n      <td>1110</td>\n      <td>0.004000</td>\n      <td>0.000895</td>\n    </tr>\n    <tr>\n      <td>1140</td>\n      <td>0.002100</td>\n      <td>0.000318</td>\n    </tr>\n    <tr>\n      <td>1170</td>\n      <td>0.002900</td>\n      <td>0.000029</td>\n    </tr>\n    <tr>\n      <td>1200</td>\n      <td>0.002300</td>\n      <td>0.001237</td>\n    </tr>\n    <tr>\n      <td>1230</td>\n      <td>0.002400</td>\n      <td>0.000073</td>\n    </tr>\n    <tr>\n      <td>1260</td>\n      <td>0.002000</td>\n      <td>0.000361</td>\n    </tr>\n    <tr>\n      <td>1290</td>\n      <td>0.001900</td>\n      <td>0.000106</td>\n    </tr>\n    <tr>\n      <td>1320</td>\n      <td>0.002100</td>\n      <td>0.000273</td>\n    </tr>\n    <tr>\n      <td>1350</td>\n      <td>0.002000</td>\n      <td>0.000335</td>\n    </tr>\n    <tr>\n      <td>1380</td>\n      <td>0.002000</td>\n      <td>0.000116</td>\n    </tr>\n    <tr>\n      <td>1410</td>\n      <td>0.002800</td>\n      <td>0.001241</td>\n    </tr>\n    <tr>\n      <td>1440</td>\n      <td>0.002400</td>\n      <td>0.000035</td>\n    </tr>\n    <tr>\n      <td>1470</td>\n      <td>0.002400</td>\n      <td>0.000828</td>\n    </tr>\n    <tr>\n      <td>1500</td>\n      <td>0.002200</td>\n      <td>0.000621</td>\n    </tr>\n    <tr>\n      <td>1530</td>\n      <td>0.002200</td>\n      <td>0.000041</td>\n    </tr>\n    <tr>\n      <td>1560</td>\n      <td>0.001700</td>\n      <td>0.000028</td>\n    </tr>\n    <tr>\n      <td>1590</td>\n      <td>0.001900</td>\n      <td>0.000021</td>\n    </tr>\n    <tr>\n      <td>1620</td>\n      <td>0.002100</td>\n      <td>0.000016</td>\n    </tr>\n    <tr>\n      <td>1650</td>\n      <td>0.002200</td>\n      <td>0.000076</td>\n    </tr>\n    <tr>\n      <td>1680</td>\n      <td>0.001600</td>\n      <td>0.000537</td>\n    </tr>\n    <tr>\n      <td>1710</td>\n      <td>0.001500</td>\n      <td>0.001057</td>\n    </tr>\n    <tr>\n      <td>1740</td>\n      <td>0.002000</td>\n      <td>0.000778</td>\n    </tr>\n    <tr>\n      <td>1770</td>\n      <td>0.001500</td>\n      <td>0.002355</td>\n    </tr>\n    <tr>\n      <td>1800</td>\n      <td>0.001200</td>\n      <td>0.001475</td>\n    </tr>\n    <tr>\n      <td>1830</td>\n      <td>0.001100</td>\n      <td>0.001216</td>\n    </tr>\n    <tr>\n      <td>1860</td>\n      <td>0.002100</td>\n      <td>0.000593</td>\n    </tr>\n    <tr>\n      <td>1890</td>\n      <td>0.001700</td>\n      <td>0.000557</td>\n    </tr>\n    <tr>\n      <td>1920</td>\n      <td>0.001400</td>\n      <td>0.000735</td>\n    </tr>\n    <tr>\n      <td>1950</td>\n      <td>0.001200</td>\n      <td>0.000662</td>\n    </tr>\n    <tr>\n      <td>1980</td>\n      <td>0.001200</td>\n      <td>0.001108</td>\n    </tr>\n    <tr>\n      <td>2010</td>\n      <td>0.001000</td>\n      <td>0.000650</td>\n    </tr>\n    <tr>\n      <td>2040</td>\n      <td>0.002000</td>\n      <td>0.001399</td>\n    </tr>\n    <tr>\n      <td>2070</td>\n      <td>0.001000</td>\n      <td>0.002032</td>\n    </tr>\n    <tr>\n      <td>2100</td>\n      <td>0.001100</td>\n      <td>0.001022</td>\n    </tr>\n    <tr>\n      <td>2130</td>\n      <td>0.001600</td>\n      <td>0.001021</td>\n    </tr>\n    <tr>\n      <td>2160</td>\n      <td>0.001100</td>\n      <td>0.000089</td>\n    </tr>\n    <tr>\n      <td>2190</td>\n      <td>0.001600</td>\n      <td>0.000484</td>\n    </tr>\n    <tr>\n      <td>2220</td>\n      <td>0.001700</td>\n      <td>0.000140</td>\n    </tr>\n    <tr>\n      <td>2250</td>\n      <td>0.002000</td>\n      <td>0.000082</td>\n    </tr>\n    <tr>\n      <td>2280</td>\n      <td>0.001300</td>\n      <td>0.000329</td>\n    </tr>\n    <tr>\n      <td>2310</td>\n      <td>0.001300</td>\n      <td>0.001297</td>\n    </tr>\n    <tr>\n      <td>2340</td>\n      <td>0.001300</td>\n      <td>0.001268</td>\n    </tr>\n    <tr>\n      <td>2370</td>\n      <td>0.001200</td>\n      <td>0.001551</td>\n    </tr>\n    <tr>\n      <td>2400</td>\n      <td>0.001300</td>\n      <td>0.003994</td>\n    </tr>\n    <tr>\n      <td>2430</td>\n      <td>0.001200</td>\n      <td>0.003021</td>\n    </tr>\n    <tr>\n      <td>2460</td>\n      <td>0.000900</td>\n      <td>0.004568</td>\n    </tr>\n    <tr>\n      <td>2490</td>\n      <td>0.000900</td>\n      <td>0.003928</td>\n    </tr>\n    <tr>\n      <td>2520</td>\n      <td>0.001000</td>\n      <td>0.000269</td>\n    </tr>\n    <tr>\n      <td>2550</td>\n      <td>0.000800</td>\n      <td>0.000164</td>\n    </tr>\n    <tr>\n      <td>2580</td>\n      <td>0.000800</td>\n      <td>0.000235</td>\n    </tr>\n    <tr>\n      <td>2610</td>\n      <td>0.000700</td>\n      <td>0.000225</td>\n    </tr>\n    <tr>\n      <td>2640</td>\n      <td>0.000800</td>\n      <td>0.000296</td>\n    </tr>\n    <tr>\n      <td>2670</td>\n      <td>0.001000</td>\n      <td>0.000373</td>\n    </tr>\n    <tr>\n      <td>2700</td>\n      <td>0.001300</td>\n      <td>0.001016</td>\n    </tr>\n    <tr>\n      <td>2730</td>\n      <td>0.001300</td>\n      <td>0.000120</td>\n    </tr>\n    <tr>\n      <td>2760</td>\n      <td>0.001900</td>\n      <td>0.004558</td>\n    </tr>\n    <tr>\n      <td>2790</td>\n      <td>0.000900</td>\n      <td>0.000340</td>\n    </tr>\n    <tr>\n      <td>2820</td>\n      <td>0.000800</td>\n      <td>0.000216</td>\n    </tr>\n    <tr>\n      <td>2850</td>\n      <td>0.000900</td>\n      <td>0.000073</td>\n    </tr>\n    <tr>\n      <td>2880</td>\n      <td>0.001000</td>\n      <td>0.000009</td>\n    </tr>\n    <tr>\n      <td>2910</td>\n      <td>0.000700</td>\n      <td>0.000008</td>\n    </tr>\n    <tr>\n      <td>2940</td>\n      <td>0.000600</td>\n      <td>0.000007</td>\n    </tr>\n    <tr>\n      <td>2970</td>\n      <td>0.000700</td>\n      <td>0.000014</td>\n    </tr>\n    <tr>\n      <td>3000</td>\n      <td>0.000600</td>\n      <td>0.000010</td>\n    </tr>\n    <tr>\n      <td>3030</td>\n      <td>0.000500</td>\n      <td>0.000011</td>\n    </tr>\n    <tr>\n      <td>3060</td>\n      <td>0.000600</td>\n      <td>0.000053</td>\n    </tr>\n    <tr>\n      <td>3090</td>\n      <td>0.000700</td>\n      <td>0.000038</td>\n    </tr>\n    <tr>\n      <td>3120</td>\n      <td>0.000600</td>\n      <td>0.000338</td>\n    </tr>\n    <tr>\n      <td>3150</td>\n      <td>0.000600</td>\n      <td>0.000362</td>\n    </tr>\n    <tr>\n      <td>3180</td>\n      <td>0.000400</td>\n      <td>0.000012</td>\n    </tr>\n    <tr>\n      <td>3210</td>\n      <td>0.000700</td>\n      <td>0.000010</td>\n    </tr>\n    <tr>\n      <td>3240</td>\n      <td>0.000600</td>\n      <td>0.000007</td>\n    </tr>\n    <tr>\n      <td>3270</td>\n      <td>0.000800</td>\n      <td>0.000007</td>\n    </tr>\n    <tr>\n      <td>3300</td>\n      <td>0.000500</td>\n      <td>0.000005</td>\n    </tr>\n    <tr>\n      <td>3330</td>\n      <td>0.000700</td>\n      <td>0.000006</td>\n    </tr>\n    <tr>\n      <td>3360</td>\n      <td>0.000500</td>\n      <td>0.000134</td>\n    </tr>\n    <tr>\n      <td>3390</td>\n      <td>0.000600</td>\n      <td>0.000347</td>\n    </tr>\n    <tr>\n      <td>3420</td>\n      <td>0.000400</td>\n      <td>0.000122</td>\n    </tr>\n    <tr>\n      <td>3450</td>\n      <td>0.000400</td>\n      <td>0.000104</td>\n    </tr>\n    <tr>\n      <td>3480</td>\n      <td>0.000500</td>\n      <td>0.000034</td>\n    </tr>\n    <tr>\n      <td>3510</td>\n      <td>0.000500</td>\n      <td>0.000030</td>\n    </tr>\n    <tr>\n      <td>3540</td>\n      <td>0.000500</td>\n      <td>0.000010</td>\n    </tr>\n    <tr>\n      <td>3570</td>\n      <td>0.000500</td>\n      <td>0.000034</td>\n    </tr>\n    <tr>\n      <td>3600</td>\n      <td>0.000500</td>\n      <td>0.000008</td>\n    </tr>\n    <tr>\n      <td>3630</td>\n      <td>0.000500</td>\n      <td>0.000005</td>\n    </tr>\n    <tr>\n      <td>3660</td>\n      <td>0.000400</td>\n      <td>0.000004</td>\n    </tr>\n    <tr>\n      <td>3690</td>\n      <td>0.000400</td>\n      <td>0.000006</td>\n    </tr>\n    <tr>\n      <td>3720</td>\n      <td>0.000500</td>\n      <td>0.000017</td>\n    </tr>\n    <tr>\n      <td>3750</td>\n      <td>0.000500</td>\n      <td>0.000046</td>\n    </tr>\n    <tr>\n      <td>3780</td>\n      <td>0.000400</td>\n      <td>0.000091</td>\n    </tr>\n    <tr>\n      <td>3810</td>\n      <td>0.000400</td>\n      <td>0.000160</td>\n    </tr>\n    <tr>\n      <td>3840</td>\n      <td>0.000400</td>\n      <td>0.000409</td>\n    </tr>\n    <tr>\n      <td>3870</td>\n      <td>0.000500</td>\n      <td>0.000783</td>\n    </tr>\n    <tr>\n      <td>3900</td>\n      <td>0.000300</td>\n      <td>0.000841</td>\n    </tr>\n    <tr>\n      <td>3930</td>\n      <td>0.000400</td>\n      <td>0.001012</td>\n    </tr>\n    <tr>\n      <td>3960</td>\n      <td>0.000400</td>\n      <td>0.001287</td>\n    </tr>\n    <tr>\n      <td>3990</td>\n      <td>0.000400</td>\n      <td>0.001114</td>\n    </tr>\n    <tr>\n      <td>4020</td>\n      <td>0.000600</td>\n      <td>0.000492</td>\n    </tr>\n    <tr>\n      <td>4050</td>\n      <td>0.000500</td>\n      <td>0.001259</td>\n    </tr>\n    <tr>\n      <td>4080</td>\n      <td>0.000400</td>\n      <td>0.001264</td>\n    </tr>\n    <tr>\n      <td>4110</td>\n      <td>0.000500</td>\n      <td>0.001432</td>\n    </tr>\n    <tr>\n      <td>4140</td>\n      <td>0.000500</td>\n      <td>0.000707</td>\n    </tr>\n    <tr>\n      <td>4170</td>\n      <td>0.000300</td>\n      <td>0.000864</td>\n    </tr>\n    <tr>\n      <td>4200</td>\n      <td>0.000300</td>\n      <td>0.001072</td>\n    </tr>\n    <tr>\n      <td>4230</td>\n      <td>0.000600</td>\n      <td>0.000898</td>\n    </tr>\n    <tr>\n      <td>4260</td>\n      <td>0.000700</td>\n      <td>0.001387</td>\n    </tr>\n    <tr>\n      <td>4290</td>\n      <td>0.000800</td>\n      <td>0.001683</td>\n    </tr>\n    <tr>\n      <td>4320</td>\n      <td>0.000400</td>\n      <td>0.000005</td>\n    </tr>\n    <tr>\n      <td>4350</td>\n      <td>0.000400</td>\n      <td>0.000006</td>\n    </tr>\n    <tr>\n      <td>4380</td>\n      <td>0.000400</td>\n      <td>0.000031</td>\n    </tr>\n    <tr>\n      <td>4410</td>\n      <td>0.000800</td>\n      <td>0.000482</td>\n    </tr>\n    <tr>\n      <td>4440</td>\n      <td>0.000600</td>\n      <td>0.000558</td>\n    </tr>\n    <tr>\n      <td>4470</td>\n      <td>0.000700</td>\n      <td>0.000015</td>\n    </tr>\n    <tr>\n      <td>4500</td>\n      <td>0.000600</td>\n      <td>0.000020</td>\n    </tr>\n    <tr>\n      <td>4530</td>\n      <td>0.000900</td>\n      <td>0.000006</td>\n    </tr>\n    <tr>\n      <td>4560</td>\n      <td>0.000800</td>\n      <td>0.000007</td>\n    </tr>\n    <tr>\n      <td>4590</td>\n      <td>0.000800</td>\n      <td>0.000043</td>\n    </tr>\n    <tr>\n      <td>4620</td>\n      <td>0.000600</td>\n      <td>0.000778</td>\n    </tr>\n    <tr>\n      <td>4650</td>\n      <td>0.000400</td>\n      <td>0.000747</td>\n    </tr>\n    <tr>\n      <td>4680</td>\n      <td>0.000400</td>\n      <td>0.000817</td>\n    </tr>\n    <tr>\n      <td>4710</td>\n      <td>0.000700</td>\n      <td>0.000278</td>\n    </tr>\n    <tr>\n      <td>4740</td>\n      <td>0.000500</td>\n      <td>0.000005</td>\n    </tr>\n    <tr>\n      <td>4770</td>\n      <td>0.000600</td>\n      <td>0.000004</td>\n    </tr>\n    <tr>\n      <td>4800</td>\n      <td>0.000500</td>\n      <td>0.000005</td>\n    </tr>\n    <tr>\n      <td>4830</td>\n      <td>0.001000</td>\n      <td>0.000008</td>\n    </tr>\n    <tr>\n      <td>4860</td>\n      <td>0.000500</td>\n      <td>0.000013</td>\n    </tr>\n    <tr>\n      <td>4890</td>\n      <td>0.000500</td>\n      <td>0.000292</td>\n    </tr>\n    <tr>\n      <td>4920</td>\n      <td>0.000400</td>\n      <td>0.000133</td>\n    </tr>\n    <tr>\n      <td>4950</td>\n      <td>0.000400</td>\n      <td>0.000069</td>\n    </tr>\n    <tr>\n      <td>4980</td>\n      <td>0.000600</td>\n      <td>0.000034</td>\n    </tr>\n    <tr>\n      <td>5010</td>\n      <td>0.000500</td>\n      <td>0.000142</td>\n    </tr>\n    <tr>\n      <td>5040</td>\n      <td>0.000300</td>\n      <td>0.000540</td>\n    </tr>\n    <tr>\n      <td>5070</td>\n      <td>0.000500</td>\n      <td>0.000058</td>\n    </tr>\n    <tr>\n      <td>5100</td>\n      <td>0.000300</td>\n      <td>0.000151</td>\n    </tr>\n    <tr>\n      <td>5130</td>\n      <td>0.000400</td>\n      <td>0.000841</td>\n    </tr>\n    <tr>\n      <td>5160</td>\n      <td>0.000500</td>\n      <td>0.000483</td>\n    </tr>\n    <tr>\n      <td>5190</td>\n      <td>0.000500</td>\n      <td>0.000289</td>\n    </tr>\n    <tr>\n      <td>5220</td>\n      <td>0.000400</td>\n      <td>0.000226</td>\n    </tr>\n    <tr>\n      <td>5250</td>\n      <td>0.000300</td>\n      <td>0.000271</td>\n    </tr>\n    <tr>\n      <td>5280</td>\n      <td>0.000500</td>\n      <td>0.000561</td>\n    </tr>\n    <tr>\n      <td>5310</td>\n      <td>0.000600</td>\n      <td>0.001025</td>\n    </tr>\n    <tr>\n      <td>5340</td>\n      <td>0.000800</td>\n      <td>0.000043</td>\n    </tr>\n    <tr>\n      <td>5370</td>\n      <td>0.000400</td>\n      <td>0.000104</td>\n    </tr>\n    <tr>\n      <td>5400</td>\n      <td>0.000400</td>\n      <td>0.000229</td>\n    </tr>\n    <tr>\n      <td>5430</td>\n      <td>0.000300</td>\n      <td>0.000007</td>\n    </tr>\n    <tr>\n      <td>5460</td>\n      <td>0.000400</td>\n      <td>0.000005</td>\n    </tr>\n    <tr>\n      <td>5490</td>\n      <td>0.000200</td>\n      <td>0.000005</td>\n    </tr>\n    <tr>\n      <td>5520</td>\n      <td>0.000300</td>\n      <td>0.000004</td>\n    </tr>\n    <tr>\n      <td>5550</td>\n      <td>0.000600</td>\n      <td>0.000052</td>\n    </tr>\n    <tr>\n      <td>5580</td>\n      <td>0.000400</td>\n      <td>0.000361</td>\n    </tr>\n    <tr>\n      <td>5610</td>\n      <td>0.000400</td>\n      <td>0.000341</td>\n    </tr>\n    <tr>\n      <td>5640</td>\n      <td>0.000200</td>\n      <td>0.000179</td>\n    </tr>\n    <tr>\n      <td>5670</td>\n      <td>0.000400</td>\n      <td>0.000451</td>\n    </tr>\n    <tr>\n      <td>5700</td>\n      <td>0.000300</td>\n      <td>0.000280</td>\n    </tr>\n    <tr>\n      <td>5730</td>\n      <td>0.000400</td>\n      <td>0.000521</td>\n    </tr>\n    <tr>\n      <td>5760</td>\n      <td>0.000300</td>\n      <td>0.000003</td>\n    </tr>\n    <tr>\n      <td>5790</td>\n      <td>0.000500</td>\n      <td>0.000003</td>\n    </tr>\n    <tr>\n      <td>5820</td>\n      <td>0.000200</td>\n      <td>0.000003</td>\n    </tr>\n    <tr>\n      <td>5850</td>\n      <td>0.000400</td>\n      <td>0.000003</td>\n    </tr>\n    <tr>\n      <td>5880</td>\n      <td>0.000200</td>\n      <td>0.000003</td>\n    </tr>\n    <tr>\n      <td>5910</td>\n      <td>0.000200</td>\n      <td>0.000003</td>\n    </tr>\n    <tr>\n      <td>5940</td>\n      <td>0.000300</td>\n      <td>0.000003</td>\n    </tr>\n    <tr>\n      <td>5970</td>\n      <td>0.000200</td>\n      <td>0.000003</td>\n    </tr>\n    <tr>\n      <td>6000</td>\n      <td>0.000200</td>\n      <td>0.000003</td>\n    </tr>\n    <tr>\n      <td>6030</td>\n      <td>0.000300</td>\n      <td>0.000004</td>\n    </tr>\n    <tr>\n      <td>6060</td>\n      <td>0.000200</td>\n      <td>0.000004</td>\n    </tr>\n    <tr>\n      <td>6090</td>\n      <td>0.000200</td>\n      <td>0.000003</td>\n    </tr>\n    <tr>\n      <td>6120</td>\n      <td>0.000300</td>\n      <td>0.000007</td>\n    </tr>\n    <tr>\n      <td>6150</td>\n      <td>0.000400</td>\n      <td>0.000004</td>\n    </tr>\n    <tr>\n      <td>6180</td>\n      <td>0.000300</td>\n      <td>0.000004</td>\n    </tr>\n    <tr>\n      <td>6210</td>\n      <td>0.000300</td>\n      <td>0.000004</td>\n    </tr>\n    <tr>\n      <td>6240</td>\n      <td>0.000300</td>\n      <td>0.000004</td>\n    </tr>\n    <tr>\n      <td>6270</td>\n      <td>0.000200</td>\n      <td>0.000071</td>\n    </tr>\n    <tr>\n      <td>6300</td>\n      <td>0.000200</td>\n      <td>0.000221</td>\n    </tr>\n    <tr>\n      <td>6330</td>\n      <td>0.000200</td>\n      <td>0.000172</td>\n    </tr>\n    <tr>\n      <td>6360</td>\n      <td>0.000300</td>\n      <td>0.000425</td>\n    </tr>\n    <tr>\n      <td>6390</td>\n      <td>0.000200</td>\n      <td>0.000176</td>\n    </tr>\n    <tr>\n      <td>6420</td>\n      <td>0.000400</td>\n      <td>0.000007</td>\n    </tr>\n    <tr>\n      <td>6450</td>\n      <td>0.000400</td>\n      <td>0.000044</td>\n    </tr>\n    <tr>\n      <td>6480</td>\n      <td>0.000400</td>\n      <td>0.000018</td>\n    </tr>\n    <tr>\n      <td>6510</td>\n      <td>0.000200</td>\n      <td>0.000053</td>\n    </tr>\n    <tr>\n      <td>6540</td>\n      <td>0.000300</td>\n      <td>0.000041</td>\n    </tr>\n    <tr>\n      <td>6570</td>\n      <td>0.000300</td>\n      <td>0.000293</td>\n    </tr>\n    <tr>\n      <td>6600</td>\n      <td>0.000200</td>\n      <td>0.000007</td>\n    </tr>\n    <tr>\n      <td>6630</td>\n      <td>0.000200</td>\n      <td>0.000004</td>\n    </tr>\n    <tr>\n      <td>6660</td>\n      <td>0.000200</td>\n      <td>0.000003</td>\n    </tr>\n    <tr>\n      <td>6690</td>\n      <td>0.000300</td>\n      <td>0.000003</td>\n    </tr>\n    <tr>\n      <td>6720</td>\n      <td>0.000300</td>\n      <td>0.000009</td>\n    </tr>\n    <tr>\n      <td>6750</td>\n      <td>0.000200</td>\n      <td>0.000005</td>\n    </tr>\n    <tr>\n      <td>6780</td>\n      <td>0.000300</td>\n      <td>0.000003</td>\n    </tr>\n    <tr>\n      <td>6810</td>\n      <td>0.000200</td>\n      <td>0.000003</td>\n    </tr>\n    <tr>\n      <td>6840</td>\n      <td>0.000200</td>\n      <td>0.000003</td>\n    </tr>\n    <tr>\n      <td>6870</td>\n      <td>0.000300</td>\n      <td>0.000006</td>\n    </tr>\n    <tr>\n      <td>6900</td>\n      <td>0.000400</td>\n      <td>0.000005</td>\n    </tr>\n    <tr>\n      <td>6930</td>\n      <td>0.000200</td>\n      <td>0.000003</td>\n    </tr>\n    <tr>\n      <td>6960</td>\n      <td>0.000300</td>\n      <td>0.000003</td>\n    </tr>\n    <tr>\n      <td>6990</td>\n      <td>0.000200</td>\n      <td>0.000003</td>\n    </tr>\n    <tr>\n      <td>7020</td>\n      <td>0.000300</td>\n      <td>0.000003</td>\n    </tr>\n    <tr>\n      <td>7050</td>\n      <td>0.001400</td>\n      <td>0.002545</td>\n    </tr>\n    <tr>\n      <td>7080</td>\n      <td>0.001000</td>\n      <td>0.000319</td>\n    </tr>\n    <tr>\n      <td>7110</td>\n      <td>0.000300</td>\n      <td>0.000448</td>\n    </tr>\n    <tr>\n      <td>7140</td>\n      <td>0.000600</td>\n      <td>0.000373</td>\n    </tr>\n    <tr>\n      <td>7170</td>\n      <td>0.000300</td>\n      <td>0.000473</td>\n    </tr>\n    <tr>\n      <td>7200</td>\n      <td>0.000300</td>\n      <td>0.000513</td>\n    </tr>\n    <tr>\n      <td>7230</td>\n      <td>0.000400</td>\n      <td>0.000450</td>\n    </tr>\n    <tr>\n      <td>7260</td>\n      <td>0.000400</td>\n      <td>0.000132</td>\n    </tr>\n    <tr>\n      <td>7290</td>\n      <td>0.000300</td>\n      <td>0.000061</td>\n    </tr>\n    <tr>\n      <td>7320</td>\n      <td>0.000200</td>\n      <td>0.000149</td>\n    </tr>\n    <tr>\n      <td>7350</td>\n      <td>0.000400</td>\n      <td>0.001321</td>\n    </tr>\n    <tr>\n      <td>7380</td>\n      <td>0.000200</td>\n      <td>0.002189</td>\n    </tr>\n    <tr>\n      <td>7410</td>\n      <td>0.000100</td>\n      <td>0.002279</td>\n    </tr>\n    <tr>\n      <td>7440</td>\n      <td>0.000200</td>\n      <td>0.002060</td>\n    </tr>\n    <tr>\n      <td>7470</td>\n      <td>0.000500</td>\n      <td>0.002006</td>\n    </tr>\n    <tr>\n      <td>7500</td>\n      <td>0.000200</td>\n      <td>0.002193</td>\n    </tr>\n    <tr>\n      <td>7530</td>\n      <td>0.000300</td>\n      <td>0.001996</td>\n    </tr>\n    <tr>\n      <td>7560</td>\n      <td>0.000200</td>\n      <td>0.001829</td>\n    </tr>\n    <tr>\n      <td>7590</td>\n      <td>0.000300</td>\n      <td>0.002354</td>\n    </tr>\n    <tr>\n      <td>7620</td>\n      <td>0.000300</td>\n      <td>0.002091</td>\n    </tr>\n    <tr>\n      <td>7650</td>\n      <td>0.000200</td>\n      <td>0.001980</td>\n    </tr>\n    <tr>\n      <td>7680</td>\n      <td>0.000100</td>\n      <td>0.002001</td>\n    </tr>\n    <tr>\n      <td>7710</td>\n      <td>0.000200</td>\n      <td>0.001762</td>\n    </tr>\n    <tr>\n      <td>7740</td>\n      <td>0.000200</td>\n      <td>0.001819</td>\n    </tr>\n    <tr>\n      <td>7770</td>\n      <td>0.000200</td>\n      <td>0.001782</td>\n    </tr>\n    <tr>\n      <td>7800</td>\n      <td>0.000300</td>\n      <td>0.001048</td>\n    </tr>\n    <tr>\n      <td>7830</td>\n      <td>0.000200</td>\n      <td>0.000510</td>\n    </tr>\n    <tr>\n      <td>7860</td>\n      <td>0.000200</td>\n      <td>0.000408</td>\n    </tr>\n    <tr>\n      <td>7890</td>\n      <td>0.000100</td>\n      <td>0.000433</td>\n    </tr>\n    <tr>\n      <td>7920</td>\n      <td>0.000200</td>\n      <td>0.000589</td>\n    </tr>\n    <tr>\n      <td>7950</td>\n      <td>0.000200</td>\n      <td>0.000765</td>\n    </tr>\n    <tr>\n      <td>7980</td>\n      <td>0.000300</td>\n      <td>0.000709</td>\n    </tr>\n    <tr>\n      <td>8010</td>\n      <td>0.000200</td>\n      <td>0.000804</td>\n    </tr>\n    <tr>\n      <td>8040</td>\n      <td>0.000200</td>\n      <td>0.000799</td>\n    </tr>\n    <tr>\n      <td>8070</td>\n      <td>0.000100</td>\n      <td>0.000846</td>\n    </tr>\n    <tr>\n      <td>8100</td>\n      <td>0.000100</td>\n      <td>0.000949</td>\n    </tr>\n    <tr>\n      <td>8130</td>\n      <td>0.000200</td>\n      <td>0.000929</td>\n    </tr>\n    <tr>\n      <td>8160</td>\n      <td>0.000200</td>\n      <td>0.001244</td>\n    </tr>\n    <tr>\n      <td>8190</td>\n      <td>0.000400</td>\n      <td>0.000489</td>\n    </tr>\n    <tr>\n      <td>8220</td>\n      <td>0.000100</td>\n      <td>0.000372</td>\n    </tr>\n    <tr>\n      <td>8250</td>\n      <td>0.000200</td>\n      <td>0.000451</td>\n    </tr>\n    <tr>\n      <td>8280</td>\n      <td>0.000100</td>\n      <td>0.000517</td>\n    </tr>\n    <tr>\n      <td>8310</td>\n      <td>0.000300</td>\n      <td>0.000732</td>\n    </tr>\n    <tr>\n      <td>8340</td>\n      <td>0.000100</td>\n      <td>0.001182</td>\n    </tr>\n    <tr>\n      <td>8370</td>\n      <td>0.000100</td>\n      <td>0.001016</td>\n    </tr>\n    <tr>\n      <td>8400</td>\n      <td>0.000100</td>\n      <td>0.001078</td>\n    </tr>\n    <tr>\n      <td>8430</td>\n      <td>0.000200</td>\n      <td>0.001065</td>\n    </tr>\n    <tr>\n      <td>8460</td>\n      <td>0.000100</td>\n      <td>0.001079</td>\n    </tr>\n    <tr>\n      <td>8490</td>\n      <td>0.000200</td>\n      <td>0.001076</td>\n    </tr>\n    <tr>\n      <td>8520</td>\n      <td>0.000200</td>\n      <td>0.001007</td>\n    </tr>\n    <tr>\n      <td>8550</td>\n      <td>0.000200</td>\n      <td>0.000401</td>\n    </tr>\n    <tr>\n      <td>8580</td>\n      <td>0.000200</td>\n      <td>0.000337</td>\n    </tr>\n    <tr>\n      <td>8610</td>\n      <td>0.000100</td>\n      <td>0.000371</td>\n    </tr>\n    <tr>\n      <td>8640</td>\n      <td>0.000100</td>\n      <td>0.000387</td>\n    </tr>\n    <tr>\n      <td>8670</td>\n      <td>0.000100</td>\n      <td>0.000473</td>\n    </tr>\n    <tr>\n      <td>8700</td>\n      <td>0.000300</td>\n      <td>0.000588</td>\n    </tr>\n    <tr>\n      <td>8730</td>\n      <td>0.000200</td>\n      <td>0.000887</td>\n    </tr>\n    <tr>\n      <td>8760</td>\n      <td>0.000200</td>\n      <td>0.000896</td>\n    </tr>\n    <tr>\n      <td>8790</td>\n      <td>0.000100</td>\n      <td>0.000853</td>\n    </tr>\n    <tr>\n      <td>8820</td>\n      <td>0.000100</td>\n      <td>0.000902</td>\n    </tr>\n    <tr>\n      <td>8850</td>\n      <td>0.000300</td>\n      <td>0.000748</td>\n    </tr>\n    <tr>\n      <td>8880</td>\n      <td>0.000100</td>\n      <td>0.000771</td>\n    </tr>\n    <tr>\n      <td>8910</td>\n      <td>0.000100</td>\n      <td>0.000791</td>\n    </tr>\n    <tr>\n      <td>8940</td>\n      <td>0.000300</td>\n      <td>0.000734</td>\n    </tr>\n    <tr>\n      <td>8970</td>\n      <td>0.000100</td>\n      <td>0.000689</td>\n    </tr>\n    <tr>\n      <td>9000</td>\n      <td>0.000200</td>\n      <td>0.000819</td>\n    </tr>\n    <tr>\n      <td>9030</td>\n      <td>0.000200</td>\n      <td>0.001002</td>\n    </tr>\n    <tr>\n      <td>9060</td>\n      <td>0.000200</td>\n      <td>0.001035</td>\n    </tr>\n    <tr>\n      <td>9090</td>\n      <td>0.000200</td>\n      <td>0.001037</td>\n    </tr>\n    <tr>\n      <td>9120</td>\n      <td>0.000100</td>\n      <td>0.001063</td>\n    </tr>\n    <tr>\n      <td>9150</td>\n      <td>0.000100</td>\n      <td>0.001025</td>\n    </tr>\n    <tr>\n      <td>9180</td>\n      <td>0.000200</td>\n      <td>0.001174</td>\n    </tr>\n    <tr>\n      <td>9210</td>\n      <td>0.000200</td>\n      <td>0.001152</td>\n    </tr>\n    <tr>\n      <td>9240</td>\n      <td>0.000100</td>\n      <td>0.001173</td>\n    </tr>\n    <tr>\n      <td>9270</td>\n      <td>0.000100</td>\n      <td>0.001196</td>\n    </tr>\n    <tr>\n      <td>9300</td>\n      <td>0.000100</td>\n      <td>0.001298</td>\n    </tr>\n    <tr>\n      <td>9330</td>\n      <td>0.000100</td>\n      <td>0.001325</td>\n    </tr>\n    <tr>\n      <td>9360</td>\n      <td>0.000200</td>\n      <td>0.001365</td>\n    </tr>\n    <tr>\n      <td>9390</td>\n      <td>0.000100</td>\n      <td>0.001408</td>\n    </tr>\n    <tr>\n      <td>9420</td>\n      <td>0.000200</td>\n      <td>0.001395</td>\n    </tr>\n    <tr>\n      <td>9450</td>\n      <td>0.000200</td>\n      <td>0.001404</td>\n    </tr>\n    <tr>\n      <td>9480</td>\n      <td>0.000100</td>\n      <td>0.001477</td>\n    </tr>\n    <tr>\n      <td>9510</td>\n      <td>0.000200</td>\n      <td>0.001394</td>\n    </tr>\n    <tr>\n      <td>9540</td>\n      <td>0.000200</td>\n      <td>0.001202</td>\n    </tr>\n    <tr>\n      <td>9570</td>\n      <td>0.000100</td>\n      <td>0.001210</td>\n    </tr>\n    <tr>\n      <td>9600</td>\n      <td>0.000100</td>\n      <td>0.001187</td>\n    </tr>\n    <tr>\n      <td>9630</td>\n      <td>0.000100</td>\n      <td>0.001188</td>\n    </tr>\n    <tr>\n      <td>9660</td>\n      <td>0.000200</td>\n      <td>0.001151</td>\n    </tr>\n    <tr>\n      <td>9690</td>\n      <td>0.000100</td>\n      <td>0.001183</td>\n    </tr>\n    <tr>\n      <td>9720</td>\n      <td>0.000200</td>\n      <td>0.001210</td>\n    </tr>\n    <tr>\n      <td>9750</td>\n      <td>0.000100</td>\n      <td>0.001175</td>\n    </tr>\n    <tr>\n      <td>9780</td>\n      <td>0.000200</td>\n      <td>0.001190</td>\n    </tr>\n    <tr>\n      <td>9810</td>\n      <td>0.000100</td>\n      <td>0.001170</td>\n    </tr>\n    <tr>\n      <td>9840</td>\n      <td>0.000100</td>\n      <td>0.001223</td>\n    </tr>\n    <tr>\n      <td>9870</td>\n      <td>0.000200</td>\n      <td>0.001203</td>\n    </tr>\n    <tr>\n      <td>9900</td>\n      <td>0.000200</td>\n      <td>0.001245</td>\n    </tr>\n    <tr>\n      <td>9930</td>\n      <td>0.000100</td>\n      <td>0.001241</td>\n    </tr>\n    <tr>\n      <td>9960</td>\n      <td>0.000100</td>\n      <td>0.001240</td>\n    </tr>\n    <tr>\n      <td>9990</td>\n      <td>0.000400</td>\n      <td>0.001241</td>\n    </tr>\n  </tbody>\n</table><p>"
     },
     "metadata": {}
    },
    {
     "name": "stderr",
     "text": "Checkpoint destination directory lora_with_gpt_2/checkpoint-30 already exists and is non-empty.Saving will proceed but saved results may be invalid.\n",
     "output_type": "stream"
    }
   ]
  },
  {
   "cell_type": "code",
   "source": [
    "plt.figure(figsize=(12, 6))\n",
    "plt.plot(logger.train_loss, label='Train Loss')\n",
    "plt.xlabel('Steps')\n",
    "plt.ylabel('Loss')\n",
    "plt.title('Training Loss')\n",
    "plt.legend()\n",
    "plt.show()\n",
    "\n",
    "plt.figure(figsize=(12, 6))\n",
    "plt.plot(logger.eval_steps, logger.eval_loss, label='Eval Loss')\n",
    "plt.xlabel('Steps')\n",
    "plt.ylabel('Loss')\n",
    "plt.title('Evaluation Loss')\n",
    "plt.legend()\n",
    "plt.show()\n"
   ],
   "metadata": {
    "execution": {
     "iopub.status.busy": "2024-01-17T23:19:52.479096Z",
     "iopub.execute_input": "2024-01-17T23:19:52.479891Z",
     "iopub.status.idle": "2024-01-17T23:19:53.097501Z",
     "shell.execute_reply.started": "2024-01-17T23:19:52.479857Z",
     "shell.execute_reply": "2024-01-17T23:19:53.096454Z"
    },
    "trusted": true
   },
   "execution_count": 213,
   "outputs": [
    {
     "output_type": "display_data",
     "data": {
      "text/plain": "<Figure size 1200x600 with 1 Axes>",
      "image/png": "[encoded data removed]"
     },
     "metadata": {}
    },
    {
     "output_type": "display_data",
     "data": {
      "text/plain": "<Figure size 1200x600 with 1 Axes>",
      "image/png": "[encoded data removed]"
     },
     "metadata": {}
    }
   ]
  },
  {
   "cell_type": "code",
   "source": [
    "trainer.model.save_pretrained(\"lora-gpt2\")"
   ],
   "metadata": {
    "execution": {
     "iopub.status.busy": "2024-01-17T23:20:09.183613Z",
     "iopub.execute_input": "2024-01-17T23:20:09.184445Z",
     "iopub.status.idle": "2024-01-17T23:20:09.222126Z",
     "shell.execute_reply.started": "2024-01-17T23:20:09.184407Z",
     "shell.execute_reply": "2024-01-17T23:20:09.221059Z"
    },
    "trusted": true
   },
   "execution_count": 214,
   "outputs": []
  },
  {
   "cell_type": "code",
   "source": [
    "eval_results = trainer.evaluate()\n",
    "eval_results"
   ],
   "metadata": {
    "execution": {
     "iopub.status.busy": "2024-01-17T23:22:48.158386Z",
     "iopub.execute_input": "2024-01-17T23:22:48.158817Z",
     "iopub.status.idle": "2024-01-17T23:22:48.901420Z",
     "shell.execute_reply.started": "2024-01-17T23:22:48.158781Z",
     "shell.execute_reply": "2024-01-17T23:22:48.900279Z"
    },
    "trusted": true
   },
   "execution_count": 216,
   "outputs": [
    {
     "execution_count": 216,
     "output_type": "execute_result",
     "data": {
      "text/plain": "{'eval_loss': 2.5651650048530428e-06,\n 'eval_runtime': 0.7311,\n 'eval_samples_per_second': 273.543,\n 'eval_steps_per_second': 9.574,\n 'epoch': 400.0}"
     },
     "metadata": {}
    }
   ]
  },
  {
   "cell_type": "code",
   "source": [
    "from datasets import load_metric\n",
    "import numpy as np"
   ],
   "metadata": {
    "execution": {
     "iopub.status.busy": "2024-01-17T23:24:30.985846Z",
     "iopub.execute_input": "2024-01-17T23:24:30.986341Z",
     "iopub.status.idle": "2024-01-17T23:24:30.991574Z",
     "shell.execute_reply.started": "2024-01-17T23:24:30.986305Z",
     "shell.execute_reply": "2024-01-17T23:24:30.990528Z"
    },
    "trusted": true
   },
   "execution_count": 217,
   "outputs": []
  },
  {
   "cell_type": "code",
   "source": [
    "rouge_metric = load_metric('rouge')\n",
    "bleu_metric = load_metric('bleu')"
   ],
   "metadata": {
    "execution": {
     "iopub.status.busy": "2024-01-17T23:24:38.119017Z",
     "iopub.execute_input": "2024-01-17T23:24:38.119964Z",
     "iopub.status.idle": "2024-01-17T23:24:39.166861Z",
     "shell.execute_reply.started": "2024-01-17T23:24:38.119926Z",
     "shell.execute_reply": "2024-01-17T23:24:39.166007Z"
    },
    "trusted": true
   },
   "execution_count": 218,
   "outputs": []
  },
  {
   "cell_type": "code",
   "source": [
    "# from nltk.translate.bleu_score import sentence_bleu\n",
    "\n",
    "# reference = [['это', 'эталонный', 'текст', 'на', 'русском']]\n",
    "# candidate = ['это', 'сгенерированный', 'текст', 'на', 'русском']\n",
    "\n",
    "# bleu_score = sentence_bleu(reference, candidate)\n",
    "# print(f\"BLEU Score: {bleu_score}\")"
   ],
   "metadata": {},
   "execution_count": null,
   "outputs": []
  },
  {
   "cell_type": "code",
   "source": [
    "def compute_metrics(eval_pred):\n",
    "    predictions, labels = eval_pred\n",
    "    predictions = np.argmax(predictions, axis=-1)\n",
    "\n",
    "    decoded_preds = [tokenizer.decode(pred, skip_special_tokens=True) for pred in predictions]\n",
    "    decoded_labels = [tokenizer.decode(label, skip_special_tokens=True) for label in labels]\n",
    "\n",
    "    decoded_preds = [[pred] for pred in decoded_preds]\n",
    "    decoded_labels = [[[label]] for label in decoded_labels]\n",
    "\n",
    "    bleu_score = bleu_metric.compute(predictions=decoded_preds, references=decoded_labels)\n",
    "    rouge_score = rouge_metric.compute(predictions=decoded_preds, references=decoded_labels)\n",
    "\n",
    "    bleu = bleu_score.get('score')  \n",
    "    rouge_l_fmeasure = rouge_score['rougeL'].mid.fmeasure  \n",
    "\n",
    "    return {\"bleu\": bleu, \"rouge_l_fmeasure\": rouge_l_fmeasure}\n",
    "\n",
    "\n",
    "trainer = Trainer(\n",
    "    model=lora_model,\n",
    "    args=training_args,\n",
    "    train_dataset=train_data,\n",
    "    eval_dataset=test_data,\n",
    "    compute_metrics=compute_metrics\n",
    ")\n",
    "\n",
    "eval_results = trainer.evaluate()\n",
    "\n",
    "print(\"Evaluation results:\", eval_results)"
   ],
   "metadata": {
    "execution": {
     "iopub.status.busy": "2024-01-17T23:26:37.642576Z",
     "iopub.execute_input": "2024-01-17T23:26:37.643379Z",
     "iopub.status.idle": "2024-01-17T23:26:41.273199Z",
     "shell.execute_reply.started": "2024-01-17T23:26:37.643340Z",
     "shell.execute_reply": "2024-01-17T23:26:41.272106Z"
    },
    "trusted": true
   },
   "execution_count": 222,
   "outputs": [
    {
     "output_type": "display_data",
     "data": {
      "text/plain": "<IPython.core.display.HTML object>",
      "text/html": "\n    <div>\n      \n      <progress value='7' max='7' style='width:300px; height:20px; vertical-align: middle;'></progress>\n      [7/7 00:00]\n    </div>\n    "
     },
     "metadata": {}
    },
    {
     "name": "stdout",
     "text": "Evaluation results: {'eval_loss': 2.5651650048530428e-06, 'eval_bleu': None, 'eval_rouge_l_fmeasure': 1.0, 'eval_runtime': 3.4888, 'eval_samples_per_second': 57.326, 'eval_steps_per_second': 2.006}\n",
     "output_type": "stream"
    }
   ]
  }
 ]
}
