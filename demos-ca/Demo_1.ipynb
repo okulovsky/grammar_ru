{
 "cells": [
  {
   "cell_type": "markdown",
   "metadata": {},
   "source": [
    "# Creative Articulator \n",
    "\n",
    "## Overview"
   ]
  },
  {
   "cell_type": "markdown",
   "metadata": {},
   "source": [
    "In this demo, we will look at all the processes in Creative Articulator namely:\n",
    " - the creation of a parallel corpus\n",
    " - the division of text into fragments \n",
    " - translation of text."
   ]
  },
  {
   "cell_type": "markdown",
   "metadata": {},
   "source": [
    "## Parallel corpus\n",
    "\n",
    "A parallel corpus is a handy tool that allows you to link parts from different corpus. With it, all the corpus will be stored in a single zip file.\n",
    "\n",
    "In this demonstration, we will work with texts and retellings of Fyodor Mikhailovich Dostoevsky's novel Crime and Punishment, which are located in the `sourse` folder.\n",
    "\n",
    "\n",
    "The first step is to create a corpus of texts and retellings that are stored in md format."
   ]
  },
  {
   "cell_type": "markdown",
   "metadata": {},
   "source": [
    "#### Сorpus for English text:"
   ]
  },
  {
   "cell_type": "code",
   "execution_count": 1,
   "metadata": {
    "ExecuteTime": {
     "end_time": "2023-12-27T10:08:12.798956256Z",
     "start_time": "2023-12-27T10:07:58.229463647Z"
    }
   },
   "outputs": [
    {
     "data": {
      "text/plain": "  0%|          | 0/1 [00:00<?, ?it/s]",
      "application/vnd.jupyter.widget-view+json": {
       "version_major": 2,
       "version_minor": 0,
       "model_id": "cea1e23fc619451391f6d17976bf4661"
      }
     },
     "metadata": {},
     "output_type": "display_data"
    }
   ],
   "source": [
    "from tg.grammar_ru.corpus import CorpusBuilder\n",
    "from pathlib import Path\n",
    "\n",
    "\n",
    "CorpusBuilder.convert_interformat_folder_to_corpus(\n",
    "    Path('./files/eng_crime_and_puhishment.base.zip'),\n",
    "    Path('./source/book/eng'),\n",
    "    ['book']\n",
    ")\n"
   ]
  },
  {
   "cell_type": "code",
   "execution_count": 2,
   "metadata": {
    "ExecuteTime": {
     "end_time": "2023-12-27T10:10:49.581536158Z",
     "start_time": "2023-12-27T10:10:49.492842709Z"
    }
   },
   "outputs": [
    {
     "data": {
      "text/plain": "                                                         filename  \\\nfile_id                                                             \n738035a3-8c1a-40b5-b95f-5c97cc807f98  eng_crime_and_punishment.md   \n928089b8-7cd0-43ff-bee0-b0d1dad94435  eng_crime_and_punishment.md   \nee2b3868-1ea9-4b05-8de2-8986e4937806  eng_crime_and_punishment.md   \n5c4a55e4-d858-401a-8cc1-25ba6ef4872e  eng_crime_and_punishment.md   \n51912192-37a7-495b-aebd-e88e44ec5ba6  eng_crime_and_punishment.md   \n\n                                                      timestamp  part_index  \\\nfile_id                                                                       \n738035a3-8c1a-40b5-b95f-5c97cc807f98 2023-12-27 15:08:11.009357           0   \n928089b8-7cd0-43ff-bee0-b0d1dad94435 2023-12-27 15:08:11.027783           1   \nee2b3868-1ea9-4b05-8de2-8986e4937806 2023-12-27 15:08:11.077782           2   \n5c4a55e4-d858-401a-8cc1-25ba6ef4872e 2023-12-27 15:08:11.115738           3   \n51912192-37a7-495b-aebd-e88e44ec5ba6 2023-12-27 15:08:11.154274           4   \n\n                                      token_count  character_count  ordinal  \\\nfile_id                                                                       \n738035a3-8c1a-40b5-b95f-5c97cc807f98         4028            15089        0   \n928089b8-7cd0-43ff-bee0-b0d1dad94435         8965            32957        1   \nee2b3868-1ea9-4b05-8de2-8986e4937806         6439            24251        2   \n5c4a55e4-d858-401a-8cc1-25ba6ef4872e         6473            23395        3   \n51912192-37a7-495b-aebd-e88e44ec5ba6         5342            19413        4   \n\n                                      header_0 header_1         headers  \\\nfile_id                                                                   \n738035a3-8c1a-40b5-b95f-5c97cc807f98  Part One        I    Part One / I   \n928089b8-7cd0-43ff-bee0-b0d1dad94435  Part One       II   Part One / II   \nee2b3868-1ea9-4b05-8de2-8986e4937806  Part One      III  Part One / III   \n5c4a55e4-d858-401a-8cc1-25ba6ef4872e  Part One       IV   Part One / IV   \n51912192-37a7-495b-aebd-e88e44ec5ba6  Part One        V    Part One / V   \n\n                                                          book  max_id  \nfile_id                                                                 \n738035a3-8c1a-40b5-b95f-5c97cc807f98  eng_crime_and_punishment    4029  \n928089b8-7cd0-43ff-bee0-b0d1dad94435  eng_crime_and_punishment   22995  \nee2b3868-1ea9-4b05-8de2-8986e4937806  eng_crime_and_punishment   39435  \n5c4a55e4-d858-401a-8cc1-25ba6ef4872e  eng_crime_and_punishment   55909  \n51912192-37a7-495b-aebd-e88e44ec5ba6  eng_crime_and_punishment   71252  ",
      "text/html": "<div>\n<style scoped>\n    .dataframe tbody tr th:only-of-type {\n        vertical-align: middle;\n    }\n\n    .dataframe tbody tr th {\n        vertical-align: top;\n    }\n\n    .dataframe thead th {\n        text-align: right;\n    }\n</style>\n<table border=\"1\" class=\"dataframe\">\n  <thead>\n    <tr style=\"text-align: right;\">\n      <th></th>\n      <th>filename</th>\n      <th>timestamp</th>\n      <th>part_index</th>\n      <th>token_count</th>\n      <th>character_count</th>\n      <th>ordinal</th>\n      <th>header_0</th>\n      <th>header_1</th>\n      <th>headers</th>\n      <th>book</th>\n      <th>max_id</th>\n    </tr>\n    <tr>\n      <th>file_id</th>\n      <th></th>\n      <th></th>\n      <th></th>\n      <th></th>\n      <th></th>\n      <th></th>\n      <th></th>\n      <th></th>\n      <th></th>\n      <th></th>\n      <th></th>\n    </tr>\n  </thead>\n  <tbody>\n    <tr>\n      <th>738035a3-8c1a-40b5-b95f-5c97cc807f98</th>\n      <td>eng_crime_and_punishment.md</td>\n      <td>2023-12-27 15:08:11.009357</td>\n      <td>0</td>\n      <td>4028</td>\n      <td>15089</td>\n      <td>0</td>\n      <td>Part One</td>\n      <td>I</td>\n      <td>Part One / I</td>\n      <td>eng_crime_and_punishment</td>\n      <td>4029</td>\n    </tr>\n    <tr>\n      <th>928089b8-7cd0-43ff-bee0-b0d1dad94435</th>\n      <td>eng_crime_and_punishment.md</td>\n      <td>2023-12-27 15:08:11.027783</td>\n      <td>1</td>\n      <td>8965</td>\n      <td>32957</td>\n      <td>1</td>\n      <td>Part One</td>\n      <td>II</td>\n      <td>Part One / II</td>\n      <td>eng_crime_and_punishment</td>\n      <td>22995</td>\n    </tr>\n    <tr>\n      <th>ee2b3868-1ea9-4b05-8de2-8986e4937806</th>\n      <td>eng_crime_and_punishment.md</td>\n      <td>2023-12-27 15:08:11.077782</td>\n      <td>2</td>\n      <td>6439</td>\n      <td>24251</td>\n      <td>2</td>\n      <td>Part One</td>\n      <td>III</td>\n      <td>Part One / III</td>\n      <td>eng_crime_and_punishment</td>\n      <td>39435</td>\n    </tr>\n    <tr>\n      <th>5c4a55e4-d858-401a-8cc1-25ba6ef4872e</th>\n      <td>eng_crime_and_punishment.md</td>\n      <td>2023-12-27 15:08:11.115738</td>\n      <td>3</td>\n      <td>6473</td>\n      <td>23395</td>\n      <td>3</td>\n      <td>Part One</td>\n      <td>IV</td>\n      <td>Part One / IV</td>\n      <td>eng_crime_and_punishment</td>\n      <td>55909</td>\n    </tr>\n    <tr>\n      <th>51912192-37a7-495b-aebd-e88e44ec5ba6</th>\n      <td>eng_crime_and_punishment.md</td>\n      <td>2023-12-27 15:08:11.154274</td>\n      <td>4</td>\n      <td>5342</td>\n      <td>19413</td>\n      <td>4</td>\n      <td>Part One</td>\n      <td>V</td>\n      <td>Part One / V</td>\n      <td>eng_crime_and_punishment</td>\n      <td>71252</td>\n    </tr>\n  </tbody>\n</table>\n</div>"
     },
     "execution_count": 2,
     "metadata": {},
     "output_type": "execute_result"
    }
   ],
   "source": [
    "\n",
    "from tg.grammar_ru.corpus import CorpusReader\n",
    "\n",
    "\n",
    "eng_book_reader = CorpusReader(Path('./files/eng_crime_and_puhishment.base.zip'))\n",
    "eng_book = eng_book_reader.get_toc().index\n",
    "\n",
    "eng_book_reader.get_toc()[:5]"
   ]
  },
  {
   "cell_type": "markdown",
   "metadata": {},
   "source": [
    "#### Corpus for English retelling:"
   ]
  },
  {
   "cell_type": "code",
   "execution_count": 3,
   "metadata": {
    "ExecuteTime": {
     "end_time": "2023-12-27T10:10:58.738525631Z",
     "start_time": "2023-12-27T10:10:52.219412569Z"
    }
   },
   "outputs": [
    {
     "data": {
      "text/plain": "  0%|          | 0/1 [00:00<?, ?it/s]",
      "application/vnd.jupyter.widget-view+json": {
       "version_major": 2,
       "version_minor": 0,
       "model_id": "6f13a70491ca474aa1344ffbe23bfb92"
      }
     },
     "metadata": {},
     "output_type": "display_data"
    }
   ],
   "source": [
    "CorpusBuilder.convert_interformat_folder_to_corpus(\n",
    "    Path('./files/eng_retell.base.zip'),\n",
    "    Path('./source/retell/eng'),\n",
    "    ['book']\n",
    ")"
   ]
  },
  {
   "cell_type": "code",
   "execution_count": 4,
   "metadata": {
    "ExecuteTime": {
     "end_time": "2023-12-27T10:10:58.755700800Z",
     "start_time": "2023-12-27T10:10:58.738101794Z"
    }
   },
   "outputs": [
    {
     "data": {
      "text/plain": "                                           filename  \\\nfile_id                                               \n7a543a9e-cc6e-4576-94bc-308ce108cc6a  eng_retell.md   \n204d2980-55f1-41d8-b6dd-8aeaa6f89da0  eng_retell.md   \n2abf631d-72c5-4419-a572-b9de4a45c43d  eng_retell.md   \n5da92a95-87d2-4598-a7cc-598aae5b48d6  eng_retell.md   \n0e93cdbd-4f9d-4c7d-bbd1-0e3f535d724a  eng_retell.md   \n\n                                                      timestamp  part_index  \\\nfile_id                                                                       \n7a543a9e-cc6e-4576-94bc-308ce108cc6a 2023-12-27 15:10:56.644316           0   \n204d2980-55f1-41d8-b6dd-8aeaa6f89da0 2023-12-27 15:10:56.667129           1   \n2abf631d-72c5-4419-a572-b9de4a45c43d 2023-12-27 15:10:56.750246           2   \n5da92a95-87d2-4598-a7cc-598aae5b48d6 2023-12-27 15:10:56.822975           3   \n0e93cdbd-4f9d-4c7d-bbd1-0e3f535d724a 2023-12-27 15:10:56.994579           4   \n\n                                      token_count  character_count  ordinal  \\\nfile_id                                                                       \n7a543a9e-cc6e-4576-94bc-308ce108cc6a          776             3295        0   \n204d2980-55f1-41d8-b6dd-8aeaa6f89da0         1191             5178        1   \n2abf631d-72c5-4419-a572-b9de4a45c43d         1042             4464        2   \n5da92a95-87d2-4598-a7cc-598aae5b48d6         1098             4711        3   \n0e93cdbd-4f9d-4c7d-bbd1-0e3f535d724a          954             3932        4   \n\n                                     header_0   header_1             headers  \\\nfile_id                                                                        \n7a543a9e-cc6e-4576-94bc-308ce108cc6a   Part I  Chapter 1  Part I / Chapter 1   \n204d2980-55f1-41d8-b6dd-8aeaa6f89da0   Part I  Chapter 2  Part I / Chapter 2   \n2abf631d-72c5-4419-a572-b9de4a45c43d   Part I  Chapter 3  Part I / Chapter 3   \n5da92a95-87d2-4598-a7cc-598aae5b48d6   Part I  Chapter 4  Part I / Chapter 4   \n0e93cdbd-4f9d-4c7d-bbd1-0e3f535d724a   Part I  Chapter 5  Part I / Chapter 5   \n\n                                            book  max_id  \nfile_id                                                   \n7a543a9e-cc6e-4576-94bc-308ce108cc6a  eng_retell     777  \n204d2980-55f1-41d8-b6dd-8aeaa6f89da0  eng_retell   11969  \n2abf631d-72c5-4419-a572-b9de4a45c43d  eng_retell   23012  \n5da92a95-87d2-4598-a7cc-598aae5b48d6  eng_retell   34111  \n0e93cdbd-4f9d-4c7d-bbd1-0e3f535d724a  eng_retell   45066  ",
      "text/html": "<div>\n<style scoped>\n    .dataframe tbody tr th:only-of-type {\n        vertical-align: middle;\n    }\n\n    .dataframe tbody tr th {\n        vertical-align: top;\n    }\n\n    .dataframe thead th {\n        text-align: right;\n    }\n</style>\n<table border=\"1\" class=\"dataframe\">\n  <thead>\n    <tr style=\"text-align: right;\">\n      <th></th>\n      <th>filename</th>\n      <th>timestamp</th>\n      <th>part_index</th>\n      <th>token_count</th>\n      <th>character_count</th>\n      <th>ordinal</th>\n      <th>header_0</th>\n      <th>header_1</th>\n      <th>headers</th>\n      <th>book</th>\n      <th>max_id</th>\n    </tr>\n    <tr>\n      <th>file_id</th>\n      <th></th>\n      <th></th>\n      <th></th>\n      <th></th>\n      <th></th>\n      <th></th>\n      <th></th>\n      <th></th>\n      <th></th>\n      <th></th>\n      <th></th>\n    </tr>\n  </thead>\n  <tbody>\n    <tr>\n      <th>7a543a9e-cc6e-4576-94bc-308ce108cc6a</th>\n      <td>eng_retell.md</td>\n      <td>2023-12-27 15:10:56.644316</td>\n      <td>0</td>\n      <td>776</td>\n      <td>3295</td>\n      <td>0</td>\n      <td>Part I</td>\n      <td>Chapter 1</td>\n      <td>Part I / Chapter 1</td>\n      <td>eng_retell</td>\n      <td>777</td>\n    </tr>\n    <tr>\n      <th>204d2980-55f1-41d8-b6dd-8aeaa6f89da0</th>\n      <td>eng_retell.md</td>\n      <td>2023-12-27 15:10:56.667129</td>\n      <td>1</td>\n      <td>1191</td>\n      <td>5178</td>\n      <td>1</td>\n      <td>Part I</td>\n      <td>Chapter 2</td>\n      <td>Part I / Chapter 2</td>\n      <td>eng_retell</td>\n      <td>11969</td>\n    </tr>\n    <tr>\n      <th>2abf631d-72c5-4419-a572-b9de4a45c43d</th>\n      <td>eng_retell.md</td>\n      <td>2023-12-27 15:10:56.750246</td>\n      <td>2</td>\n      <td>1042</td>\n      <td>4464</td>\n      <td>2</td>\n      <td>Part I</td>\n      <td>Chapter 3</td>\n      <td>Part I / Chapter 3</td>\n      <td>eng_retell</td>\n      <td>23012</td>\n    </tr>\n    <tr>\n      <th>5da92a95-87d2-4598-a7cc-598aae5b48d6</th>\n      <td>eng_retell.md</td>\n      <td>2023-12-27 15:10:56.822975</td>\n      <td>3</td>\n      <td>1098</td>\n      <td>4711</td>\n      <td>3</td>\n      <td>Part I</td>\n      <td>Chapter 4</td>\n      <td>Part I / Chapter 4</td>\n      <td>eng_retell</td>\n      <td>34111</td>\n    </tr>\n    <tr>\n      <th>0e93cdbd-4f9d-4c7d-bbd1-0e3f535d724a</th>\n      <td>eng_retell.md</td>\n      <td>2023-12-27 15:10:56.994579</td>\n      <td>4</td>\n      <td>954</td>\n      <td>3932</td>\n      <td>4</td>\n      <td>Part I</td>\n      <td>Chapter 5</td>\n      <td>Part I / Chapter 5</td>\n      <td>eng_retell</td>\n      <td>45066</td>\n    </tr>\n  </tbody>\n</table>\n</div>"
     },
     "execution_count": 4,
     "metadata": {},
     "output_type": "execute_result"
    }
   ],
   "source": [
    "eng_retell_reader = CorpusReader(Path('./files/eng_retell.base.zip'))\n",
    "eng_retell = eng_retell_reader.get_toc().index\n",
    "eng_retell_reader.get_toc()[:5]"
   ]
  },
  {
   "cell_type": "markdown",
   "metadata": {},
   "source": [
    "#### Сorpus for Russian text:"
   ]
  },
  {
   "cell_type": "code",
   "execution_count": 5,
   "metadata": {
    "ExecuteTime": {
     "end_time": "2023-12-27T10:11:13.218878242Z",
     "start_time": "2023-12-27T10:10:58.758121653Z"
    }
   },
   "outputs": [
    {
     "data": {
      "text/plain": "  0%|          | 0/1 [00:00<?, ?it/s]",
      "application/vnd.jupyter.widget-view+json": {
       "version_major": 2,
       "version_minor": 0,
       "model_id": "d5cb587b448b4c90b223b7b1fb27af8b"
      }
     },
     "metadata": {},
     "output_type": "display_data"
    }
   ],
   "source": [
    "CorpusBuilder.convert_interformat_folder_to_corpus(\n",
    "    Path('./files/ru_crime_and_puhishment.base.zip'),\n",
    "    Path('./source/book/ru'),\n",
    "    ['book']\n",
    ")"
   ]
  },
  {
   "cell_type": "code",
   "execution_count": 6,
   "metadata": {
    "ExecuteTime": {
     "end_time": "2023-12-27T10:11:13.374289516Z",
     "start_time": "2023-12-27T10:11:13.224873451Z"
    }
   },
   "outputs": [
    {
     "data": {
      "text/plain": "                                                        filename  \\\nfile_id                                                            \n5db7a05d-3e68-49d1-ac12-dcea52df2264  ru_crime_and_punishment.md   \nf9e60fb2-3ca4-4acd-bd41-4cda4264b9f9  ru_crime_and_punishment.md   \n0a2c433b-8bba-4c1a-a9ab-f5cff2c204c6  ru_crime_and_punishment.md   \n2eb52a41-c250-4978-a699-b25ea8357ca9  ru_crime_and_punishment.md   \ne69e10ec-27b1-41ab-b8a6-a803fbbc4321  ru_crime_and_punishment.md   \n\n                                                      timestamp  part_index  \\\nfile_id                                                                       \n5db7a05d-3e68-49d1-ac12-dcea52df2264 2023-12-27 15:11:11.658676           0   \nf9e60fb2-3ca4-4acd-bd41-4cda4264b9f9 2023-12-27 15:11:11.666428           1   \n0a2c433b-8bba-4c1a-a9ab-f5cff2c204c6 2023-12-27 15:11:11.710340           2   \n2eb52a41-c250-4978-a699-b25ea8357ca9 2023-12-27 15:11:11.744969           3   \ne69e10ec-27b1-41ab-b8a6-a803fbbc4321 2023-12-27 15:11:11.781872           4   \n\n                                      token_count  character_count  ordinal  \\\nfile_id                                                                       \n5db7a05d-3e68-49d1-ac12-dcea52df2264         3243            13794        0   \nf9e60fb2-3ca4-4acd-bd41-4cda4264b9f9         7122            29360        1   \n0a2c433b-8bba-4c1a-a9ab-f5cff2c204c6         5526            22721        2   \n2eb52a41-c250-4978-a699-b25ea8357ca9         5231            21071        3   \ne69e10ec-27b1-41ab-b8a6-a803fbbc4321         4285            17322        4   \n\n                                          header_0 header_1  \\\nfile_id                                                       \n5db7a05d-3e68-49d1-ac12-dcea52df2264  ЧАСТЬ ПЕРВАЯ        I   \nf9e60fb2-3ca4-4acd-bd41-4cda4264b9f9  ЧАСТЬ ПЕРВАЯ       II   \n0a2c433b-8bba-4c1a-a9ab-f5cff2c204c6  ЧАСТЬ ПЕРВАЯ      III   \n2eb52a41-c250-4978-a699-b25ea8357ca9  ЧАСТЬ ПЕРВАЯ       IV   \ne69e10ec-27b1-41ab-b8a6-a803fbbc4321  ЧАСТЬ ПЕРВАЯ        V   \n\n                                                 headers  \\\nfile_id                                                    \n5db7a05d-3e68-49d1-ac12-dcea52df2264    ЧАСТЬ ПЕРВАЯ / I   \nf9e60fb2-3ca4-4acd-bd41-4cda4264b9f9   ЧАСТЬ ПЕРВАЯ / II   \n0a2c433b-8bba-4c1a-a9ab-f5cff2c204c6  ЧАСТЬ ПЕРВАЯ / III   \n2eb52a41-c250-4978-a699-b25ea8357ca9   ЧАСТЬ ПЕРВАЯ / IV   \ne69e10ec-27b1-41ab-b8a6-a803fbbc4321    ЧАСТЬ ПЕРВАЯ / V   \n\n                                                         book  max_id  \nfile_id                                                                \n5db7a05d-3e68-49d1-ac12-dcea52df2264  ru_crime_and_punishment    3244  \nf9e60fb2-3ca4-4acd-bd41-4cda4264b9f9  ru_crime_and_punishment   20367  \n0a2c433b-8bba-4c1a-a9ab-f5cff2c204c6  ru_crime_and_punishment   35894  \n2eb52a41-c250-4978-a699-b25ea8357ca9  ru_crime_and_punishment   51126  \ne69e10ec-27b1-41ab-b8a6-a803fbbc4321  ru_crime_and_punishment   65412  ",
      "text/html": "<div>\n<style scoped>\n    .dataframe tbody tr th:only-of-type {\n        vertical-align: middle;\n    }\n\n    .dataframe tbody tr th {\n        vertical-align: top;\n    }\n\n    .dataframe thead th {\n        text-align: right;\n    }\n</style>\n<table border=\"1\" class=\"dataframe\">\n  <thead>\n    <tr style=\"text-align: right;\">\n      <th></th>\n      <th>filename</th>\n      <th>timestamp</th>\n      <th>part_index</th>\n      <th>token_count</th>\n      <th>character_count</th>\n      <th>ordinal</th>\n      <th>header_0</th>\n      <th>header_1</th>\n      <th>headers</th>\n      <th>book</th>\n      <th>max_id</th>\n    </tr>\n    <tr>\n      <th>file_id</th>\n      <th></th>\n      <th></th>\n      <th></th>\n      <th></th>\n      <th></th>\n      <th></th>\n      <th></th>\n      <th></th>\n      <th></th>\n      <th></th>\n      <th></th>\n    </tr>\n  </thead>\n  <tbody>\n    <tr>\n      <th>5db7a05d-3e68-49d1-ac12-dcea52df2264</th>\n      <td>ru_crime_and_punishment.md</td>\n      <td>2023-12-27 15:11:11.658676</td>\n      <td>0</td>\n      <td>3243</td>\n      <td>13794</td>\n      <td>0</td>\n      <td>ЧАСТЬ ПЕРВАЯ</td>\n      <td>I</td>\n      <td>ЧАСТЬ ПЕРВАЯ / I</td>\n      <td>ru_crime_and_punishment</td>\n      <td>3244</td>\n    </tr>\n    <tr>\n      <th>f9e60fb2-3ca4-4acd-bd41-4cda4264b9f9</th>\n      <td>ru_crime_and_punishment.md</td>\n      <td>2023-12-27 15:11:11.666428</td>\n      <td>1</td>\n      <td>7122</td>\n      <td>29360</td>\n      <td>1</td>\n      <td>ЧАСТЬ ПЕРВАЯ</td>\n      <td>II</td>\n      <td>ЧАСТЬ ПЕРВАЯ / II</td>\n      <td>ru_crime_and_punishment</td>\n      <td>20367</td>\n    </tr>\n    <tr>\n      <th>0a2c433b-8bba-4c1a-a9ab-f5cff2c204c6</th>\n      <td>ru_crime_and_punishment.md</td>\n      <td>2023-12-27 15:11:11.710340</td>\n      <td>2</td>\n      <td>5526</td>\n      <td>22721</td>\n      <td>2</td>\n      <td>ЧАСТЬ ПЕРВАЯ</td>\n      <td>III</td>\n      <td>ЧАСТЬ ПЕРВАЯ / III</td>\n      <td>ru_crime_and_punishment</td>\n      <td>35894</td>\n    </tr>\n    <tr>\n      <th>2eb52a41-c250-4978-a699-b25ea8357ca9</th>\n      <td>ru_crime_and_punishment.md</td>\n      <td>2023-12-27 15:11:11.744969</td>\n      <td>3</td>\n      <td>5231</td>\n      <td>21071</td>\n      <td>3</td>\n      <td>ЧАСТЬ ПЕРВАЯ</td>\n      <td>IV</td>\n      <td>ЧАСТЬ ПЕРВАЯ / IV</td>\n      <td>ru_crime_and_punishment</td>\n      <td>51126</td>\n    </tr>\n    <tr>\n      <th>e69e10ec-27b1-41ab-b8a6-a803fbbc4321</th>\n      <td>ru_crime_and_punishment.md</td>\n      <td>2023-12-27 15:11:11.781872</td>\n      <td>4</td>\n      <td>4285</td>\n      <td>17322</td>\n      <td>4</td>\n      <td>ЧАСТЬ ПЕРВАЯ</td>\n      <td>V</td>\n      <td>ЧАСТЬ ПЕРВАЯ / V</td>\n      <td>ru_crime_and_punishment</td>\n      <td>65412</td>\n    </tr>\n  </tbody>\n</table>\n</div>"
     },
     "execution_count": 6,
     "metadata": {},
     "output_type": "execute_result"
    }
   ],
   "source": [
    "ru_book_reader = CorpusReader(Path('./files/ru_crime_and_puhishment.base.zip'))\n",
    "ru_book = ru_book_reader.get_toc().index\n",
    "ru_book_reader.get_toc()[:5]"
   ]
  },
  {
   "cell_type": "markdown",
   "metadata": {},
   "source": [
    "#### Corpus for Russian retelling:"
   ]
  },
  {
   "cell_type": "code",
   "execution_count": 7,
   "metadata": {
    "ExecuteTime": {
     "end_time": "2023-12-27T10:11:15.647984626Z",
     "start_time": "2023-12-27T10:11:13.297490387Z"
    }
   },
   "outputs": [
    {
     "data": {
      "text/plain": "  0%|          | 0/1 [00:00<?, ?it/s]",
      "application/vnd.jupyter.widget-view+json": {
       "version_major": 2,
       "version_minor": 0,
       "model_id": "da12a717d8784587ab67c02df8ae2d30"
      }
     },
     "metadata": {},
     "output_type": "display_data"
    }
   ],
   "source": [
    "CorpusBuilder.convert_interformat_folder_to_corpus(\n",
    "    Path('./files/ru_retell.base.zip'),\n",
    "    Path('./source/retell/ru'),\n",
    "    ['book']\n",
    "    )"
   ]
  },
  {
   "cell_type": "code",
   "execution_count": 8,
   "metadata": {
    "ExecuteTime": {
     "end_time": "2023-12-27T10:11:15.697244850Z",
     "start_time": "2023-12-27T10:11:15.652093330Z"
    }
   },
   "outputs": [
    {
     "data": {
      "text/plain": "                                          filename                  timestamp  \\\nfile_id                                                                         \nfd4315a4-090c-4be9-a434-e54641dac573  ru_retell.md 2023-12-27 15:11:14.665396   \nd2f2c7e0-0104-46eb-8187-f6b3f90a98a1  ru_retell.md 2023-12-27 15:11:14.677788   \n8e358096-9ec7-4091-a0f1-e9a5ed5882ba  ru_retell.md 2023-12-27 15:11:14.714580   \n70c0d8f3-6c4c-43cd-b0f3-b326a727dd8a  ru_retell.md 2023-12-27 15:11:14.762616   \n92afc221-4d5c-44da-ab16-83eab96527ca  ru_retell.md 2023-12-27 15:11:14.802364   \n\n                                      part_index  token_count  \\\nfile_id                                                         \nfd4315a4-090c-4be9-a434-e54641dac573           0          396   \nd2f2c7e0-0104-46eb-8187-f6b3f90a98a1           1          704   \n8e358096-9ec7-4091-a0f1-e9a5ed5882ba           2          280   \n70c0d8f3-6c4c-43cd-b0f3-b326a727dd8a           3          461   \n92afc221-4d5c-44da-ab16-83eab96527ca           4          193   \n\n                                      character_count  ordinal header_0  \\\nfile_id                                                                   \nfd4315a4-090c-4be9-a434-e54641dac573             1814        0  Часть 1   \nd2f2c7e0-0104-46eb-8187-f6b3f90a98a1             3090        1  Часть 1   \n8e358096-9ec7-4091-a0f1-e9a5ed5882ba             1330        2  Часть 1   \n70c0d8f3-6c4c-43cd-b0f3-b326a727dd8a             2020        3  Часть 1   \n92afc221-4d5c-44da-ab16-83eab96527ca              892        4  Часть 1   \n\n                                                             header_1  \\\nfile_id                                                                 \nfd4315a4-090c-4be9-a434-e54641dac573   Глава 1: Знакомство с Родионом   \nd2f2c7e0-0104-46eb-8187-f6b3f90a98a1  Глава 2: Встреча с Мармеладовым   \n8e358096-9ec7-4091-a0f1-e9a5ed5882ba           Глава 3: Письмо матери   \n70c0d8f3-6c4c-43cd-b0f3-b326a727dd8a          Глава 4: Мысли о сестре   \n92afc221-4d5c-44da-ab16-83eab96527ca       Глава 5: Сон Раскольникова   \n\n                                                                        headers  \\\nfile_id                                                                           \nfd4315a4-090c-4be9-a434-e54641dac573   Часть 1 / Глава 1: Знакомство с Родионом   \nd2f2c7e0-0104-46eb-8187-f6b3f90a98a1  Часть 1 / Глава 2: Встреча с Мармеладовым   \n8e358096-9ec7-4091-a0f1-e9a5ed5882ba           Часть 1 / Глава 3: Письмо матери   \n70c0d8f3-6c4c-43cd-b0f3-b326a727dd8a          Часть 1 / Глава 4: Мысли о сестре   \n92afc221-4d5c-44da-ab16-83eab96527ca       Часть 1 / Глава 5: Сон Раскольникова   \n\n                                           book  max_id  \nfile_id                                                  \nfd4315a4-090c-4be9-a434-e54641dac573  ru_retell     397  \nd2f2c7e0-0104-46eb-8187-f6b3f90a98a1  ru_retell   11102  \n8e358096-9ec7-4091-a0f1-e9a5ed5882ba  ru_retell   21383  \n70c0d8f3-6c4c-43cd-b0f3-b326a727dd8a  ru_retell   31845  \n92afc221-4d5c-44da-ab16-83eab96527ca  ru_retell   42039  ",
      "text/html": "<div>\n<style scoped>\n    .dataframe tbody tr th:only-of-type {\n        vertical-align: middle;\n    }\n\n    .dataframe tbody tr th {\n        vertical-align: top;\n    }\n\n    .dataframe thead th {\n        text-align: right;\n    }\n</style>\n<table border=\"1\" class=\"dataframe\">\n  <thead>\n    <tr style=\"text-align: right;\">\n      <th></th>\n      <th>filename</th>\n      <th>timestamp</th>\n      <th>part_index</th>\n      <th>token_count</th>\n      <th>character_count</th>\n      <th>ordinal</th>\n      <th>header_0</th>\n      <th>header_1</th>\n      <th>headers</th>\n      <th>book</th>\n      <th>max_id</th>\n    </tr>\n    <tr>\n      <th>file_id</th>\n      <th></th>\n      <th></th>\n      <th></th>\n      <th></th>\n      <th></th>\n      <th></th>\n      <th></th>\n      <th></th>\n      <th></th>\n      <th></th>\n      <th></th>\n    </tr>\n  </thead>\n  <tbody>\n    <tr>\n      <th>fd4315a4-090c-4be9-a434-e54641dac573</th>\n      <td>ru_retell.md</td>\n      <td>2023-12-27 15:11:14.665396</td>\n      <td>0</td>\n      <td>396</td>\n      <td>1814</td>\n      <td>0</td>\n      <td>Часть 1</td>\n      <td>Глава 1: Знакомство с Родионом</td>\n      <td>Часть 1 / Глава 1: Знакомство с Родионом</td>\n      <td>ru_retell</td>\n      <td>397</td>\n    </tr>\n    <tr>\n      <th>d2f2c7e0-0104-46eb-8187-f6b3f90a98a1</th>\n      <td>ru_retell.md</td>\n      <td>2023-12-27 15:11:14.677788</td>\n      <td>1</td>\n      <td>704</td>\n      <td>3090</td>\n      <td>1</td>\n      <td>Часть 1</td>\n      <td>Глава 2: Встреча с Мармеладовым</td>\n      <td>Часть 1 / Глава 2: Встреча с Мармеладовым</td>\n      <td>ru_retell</td>\n      <td>11102</td>\n    </tr>\n    <tr>\n      <th>8e358096-9ec7-4091-a0f1-e9a5ed5882ba</th>\n      <td>ru_retell.md</td>\n      <td>2023-12-27 15:11:14.714580</td>\n      <td>2</td>\n      <td>280</td>\n      <td>1330</td>\n      <td>2</td>\n      <td>Часть 1</td>\n      <td>Глава 3: Письмо матери</td>\n      <td>Часть 1 / Глава 3: Письмо матери</td>\n      <td>ru_retell</td>\n      <td>21383</td>\n    </tr>\n    <tr>\n      <th>70c0d8f3-6c4c-43cd-b0f3-b326a727dd8a</th>\n      <td>ru_retell.md</td>\n      <td>2023-12-27 15:11:14.762616</td>\n      <td>3</td>\n      <td>461</td>\n      <td>2020</td>\n      <td>3</td>\n      <td>Часть 1</td>\n      <td>Глава 4: Мысли о сестре</td>\n      <td>Часть 1 / Глава 4: Мысли о сестре</td>\n      <td>ru_retell</td>\n      <td>31845</td>\n    </tr>\n    <tr>\n      <th>92afc221-4d5c-44da-ab16-83eab96527ca</th>\n      <td>ru_retell.md</td>\n      <td>2023-12-27 15:11:14.802364</td>\n      <td>4</td>\n      <td>193</td>\n      <td>892</td>\n      <td>4</td>\n      <td>Часть 1</td>\n      <td>Глава 5: Сон Раскольникова</td>\n      <td>Часть 1 / Глава 5: Сон Раскольникова</td>\n      <td>ru_retell</td>\n      <td>42039</td>\n    </tr>\n  </tbody>\n</table>\n</div>"
     },
     "execution_count": 8,
     "metadata": {},
     "output_type": "execute_result"
    }
   ],
   "source": [
    "ru_retell_reader = CorpusReader(Path('./files/ru_retell.base.zip'))\n",
    "ru_retell = ru_retell_reader.get_toc().index\n",
    "ru_retell_reader.get_toc()[:5]"
   ]
  },
  {
   "cell_type": "markdown",
   "metadata": {},
   "source": [
    "Next, we form a parallel corpus"
   ]
  },
  {
   "cell_type": "code",
   "execution_count": 9,
   "metadata": {
    "ExecuteTime": {
     "end_time": "2023-12-27T10:11:15.802079118Z",
     "start_time": "2023-12-27T10:11:15.693570783Z"
    }
   },
   "outputs": [],
   "source": [
    "import pandas as pd\n",
    "\n",
    "def add_relation(df_1,df_2,name_1,name_2):\n",
    "    rel_1 = pd.DataFrame({'file_1':df_1, 'file_2':df_2,'relation_name':f\"{name_1}_{name_2}\"})\n",
    "    rel_2 = pd.DataFrame({'file_1':df_2, 'file_2':df_1,'relation_name':f\"{name_2}_{name_1}\"})\n",
    "    rel = pd.concat([rel_1,rel_2])\n",
    "    return rel\n",
    "\n",
    "def add_dfs(name):\n",
    "    frames = list(name.get_frames())\n",
    "    dfs = dict(zip(name.get_toc().index,frames))\n",
    "\n",
    "    return dfs"
   ]
  },
  {
   "cell_type": "code",
   "execution_count": 10,
   "metadata": {
    "ExecuteTime": {
     "end_time": "2023-12-27T10:11:24.178484376Z",
     "start_time": "2023-12-27T10:11:15.737510951Z"
    }
   },
   "outputs": [],
   "source": [
    "CorpusBuilder.update_parallel_data(\n",
    "    Path('./files/parallel_corpus.zip'),\n",
    "    add_dfs(ru_book_reader),\n",
    "    \"ru_book\",\n",
    "    None)\n",
    "\n",
    "CorpusBuilder.update_parallel_data(\n",
    "    Path('./files/parallel_corpus.zip'),\n",
    "    add_dfs(ru_retell_reader),\n",
    "    \"ru_retell\",\n",
    "    add_relation(ru_book_reader.get_toc().index,ru_retell_reader.get_toc().index,\"ru_book\",\"ru_retell\"))\n",
    "\n",
    "CorpusBuilder.update_parallel_data(\n",
    "    Path('./files/parallel_corpus.zip'),\n",
    "    add_dfs(eng_book_reader),\n",
    "    \"eng_book\",\n",
    "    add_relation(ru_book_reader.get_toc().index,eng_book_reader.get_toc().index,\"ru_book\",\"eng_book\"))\n",
    "\n",
    "\n",
    "CorpusBuilder.update_parallel_data(\n",
    "    Path('./files/parallel_corpus.zip'),\n",
    "    add_dfs(eng_retell_reader),\n",
    "    \"eng_retell\",\n",
    "    add_relation(eng_book_reader.get_toc().index,eng_retell_reader.get_toc().index,\"eng_book\",\"eng_retell\"))\n",
    "\n"
   ]
  },
  {
   "cell_type": "markdown",
   "metadata": {},
   "source": [
    "We check that all parts have been successfully recorded"
   ]
  },
  {
   "cell_type": "code",
   "execution_count": 11,
   "metadata": {
    "ExecuteTime": {
     "end_time": "2023-12-27T10:11:24.202616716Z",
     "start_time": "2023-12-27T10:11:24.181180370Z"
    }
   },
   "outputs": [
    {
     "data": {
      "text/plain": "array(['ru_book', 'ru_retell', 'eng_book', 'eng_retell'], dtype=object)"
     },
     "execution_count": 11,
     "metadata": {},
     "output_type": "execute_result"
    }
   ],
   "source": [
    "reader = CorpusReader(Path('./files/parallel_corpus.zip'))\n",
    "\n",
    "df = reader.get_toc()\n",
    "\n",
    "df.subcorpus_name.unique()"
   ]
  },
  {
   "cell_type": "markdown",
   "metadata": {},
   "source": [
    "## Translate text"
   ]
  },
  {
   "cell_type": "code",
   "execution_count": 12,
   "metadata": {
    "ExecuteTime": {
     "end_time": "2023-12-27T10:11:24.223443617Z",
     "start_time": "2023-12-27T10:11:24.200518817Z"
    }
   },
   "outputs": [],
   "source": [
    "path_parallel_corpus = Path('./files/parallel_corpus.zip')"
   ]
  },
  {
   "cell_type": "code",
   "execution_count": null,
   "metadata": {},
   "outputs": [],
   "source": [
    "#!pip install googletrans==3.1.0a0"
   ]
  },
  {
   "cell_type": "code",
   "execution_count": 14,
   "metadata": {
    "ExecuteTime": {
     "end_time": "2023-12-27T10:12:34.800301835Z",
     "start_time": "2023-12-27T10:12:11.969197975Z"
    }
   },
   "outputs": [
    {
     "data": {
      "text/plain": "  0%|          | 0/1 [00:00<?, ?it/s]",
      "application/vnd.jupyter.widget-view+json": {
       "version_major": 2,
       "version_minor": 0,
       "model_id": "7b8b07e19ec64bf58e4d9a6267b81ec0"
      }
     },
     "metadata": {},
     "output_type": "display_data"
    }
   ],
   "source": [
    "from tg.ca.utils_translate import translate_subcorpus\n",
    "\n",
    "translate_subcorpus(path_parallel_corpus,\"eng_retell\")"
   ]
  },
  {
   "cell_type": "code",
   "execution_count": 15,
   "metadata": {
    "ExecuteTime": {
     "end_time": "2023-12-27T10:12:37.079624810Z",
     "start_time": "2023-12-27T10:12:37.046708502Z"
    }
   },
   "outputs": [
    {
     "data": {
      "text/plain": "array(['ru_book', 'ru_retell', 'eng_book', 'eng_retell', 'ru_translate'],\n      dtype=object)"
     },
     "execution_count": 15,
     "metadata": {},
     "output_type": "execute_result"
    }
   ],
   "source": [
    "reader = CorpusReader(Path('./files/parallel_corpus.zip'))\n",
    "\n",
    "df = reader.get_toc()\n",
    "\n",
    "df.subcorpus_name.unique()"
   ]
  },
  {
   "cell_type": "markdown",
   "metadata": {},
   "source": [
    "### Remove Corpuses"
   ]
  },
  {
   "cell_type": "code",
   "execution_count": 1,
   "metadata": {
    "ExecuteTime": {
     "end_time": "2023-12-27T11:27:10.090582428Z",
     "start_time": "2023-12-27T11:27:10.089352836Z"
    }
   },
   "outputs": [],
   "source": [
    "import os\n",
    "from pathlib import Path\n",
    "\n",
    "os.remove(Path('./files/eng_crime_and_puhishment.base.zip'))\n",
    "os.remove(Path('./files/eng_retell.base.zip'))\n",
    "os.remove(Path('./files/ru_crime_and_puhishment.base.zip'))\n",
    "os.remove(Path('./files/ru_retell.base.zip'))\n",
    "os.remove(Path('./files/translate.base.zip'))"
   ]
  }
 ],
 "metadata": {
  "kernelspec": {
   "display_name": "grammar",
   "language": "python",
   "name": "python3"
  },
  "language_info": {
   "codemirror_mode": {
    "name": "ipython",
    "version": 3
   },
   "file_extension": ".py",
   "mimetype": "text/x-python",
   "name": "python",
   "nbconvert_exporter": "python",
   "pygments_lexer": "ipython3",
   "version": "3.9.18"
  }
 },
 "nbformat": 4,
 "nbformat_minor": 2
}
