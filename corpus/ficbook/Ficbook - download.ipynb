{
 "cells": [
  {
   "cell_type": "markdown",
   "id": "5440bbe0",
   "metadata": {},
   "source": [
    "Укажите в NAME название фэндома"
   ]
  },
  {
   "cell_type": "code",
   "execution_count": 1,
   "id": "9ef658fc",
   "metadata": {},
   "outputs": [],
   "source": [
    "from tg.grammar_ru import Loc\n",
    "import os\n",
    "NAME = 'Frei'\n",
    "\n",
    "# Я храню скачанные файлы в другой папке, не в data-cache\n",
    "CORPUS_FOLDER = Loc.root_path.parent/'corpus_files'\n",
    "FOLDER = CORPUS_FOLDER/'raw/ficbook'/NAME\n",
    "MD_FOLDER =CORPUS_FOLDER/'processed/ficbook/'/NAME\n",
    "\n",
    "FOLDER\n",
    "os.makedirs(FOLDER, exist_ok=True)"
   ]
  },
  {
   "cell_type": "markdown",
   "id": "b44d92f5",
   "metadata": {},
   "source": [
    "## Search results"
   ]
  },
  {
   "cell_type": "markdown",
   "id": "8d4b8a8d",
   "metadata": {},
   "source": [
    "* Откройте в файрфоксе (именно в нем) страницу поиска и укажите там критерии, которые вам нужны. \n",
    "* Перейдите на вторую страницу поиска\n",
    "* Скопируйте url и замените в нем p=2 на p={0}\n",
    "* Скорректируйте values так, чтобы оно соответствовало количеству страниц поиска"
   ]
  },
  {
   "cell_type": "code",
   "execution_count": 3,
   "id": "2ef5aa05",
   "metadata": {},
   "outputs": [
    {
     "data": {
      "application/json": {
       "ascii": false,
       "bar_format": null,
       "colour": null,
       "elapsed": 0.016114234924316406,
       "initial": 0,
       "n": 0,
       "ncols": null,
       "nrows": 24,
       "postfix": null,
       "prefix": "",
       "rate": null,
       "total": 35,
       "unit": "it",
       "unit_divisor": 1000,
       "unit_scale": false
      },
      "application/vnd.jupyter.widget-view+json": {
       "model_id": "0509e8d7d539412d9f11e2093d7bb36a",
       "version_major": 2,
       "version_minor": 0
      },
      "text/plain": [
       "  0%|          | 0/35 [00:00<?, ?it/s]"
      ]
     },
     "metadata": {},
     "output_type": "display_data"
    }
   ],
   "source": [
    "from tg.grammar_ru.ml.corpus.downloader import download\n",
    "pattern = 'https://ficbook.net/find?fandom_filter=fandom&fandom_group_id=1&fandom_ids%5B0%5D=1066&deny_other=1&pages_range=1&pages_min=&pages_max=&ratings%5B0%5D=5&ratings%5B1%5D=6&transl=1&directions%5B0%5D=1&likes_min=&likes_max=&rewards_min=&date_create_min=2022-11-28&date_create_max=2022-11-28&date_update_min=2022-11-28&date_update_max=2022-11-28&title=&sort=1&rnd=470746937&find=%D0%9D%D0%B0%D0%B9%D1%82%D0%B8!&p={0}#result'\n",
    "values = [str(i) for i in range(1,36)]\n",
    "download(\n",
    "    url_pattern = pattern,\n",
    "    folder = FOLDER/'search',\n",
    "    values = values,\n",
    "    cookies_for_domain = '.ficbook.net'\n",
    ")"
   ]
  },
  {
   "cell_type": "markdown",
   "id": "7561c107",
   "metadata": {},
   "source": [
    "# Main pages"
   ]
  },
  {
   "cell_type": "markdown",
   "id": "8debabf7",
   "metadata": {},
   "source": [
    "Главные страницы - это то, куда ведут страницы поиска. Иногда они содержат все произведение целиком, иногда - просто оглавление"
   ]
  },
  {
   "cell_type": "code",
   "execution_count": 5,
   "id": "07500d99",
   "metadata": {},
   "outputs": [],
   "source": [
    "from yo_fluq_ds import *\n",
    "import bs4\n",
    "\n",
    "def get_links_from_search_page(text):\n",
    "    bs = bs4.BeautifulSoup(text)\n",
    "    links = bs.find_all('a')\n",
    "    links = Query.en(links).select(lambda z: z.attrs['href']).where(lambda z: z.startswith('/readfic/')).to_list()\n",
    "    return links\n",
    "\n",
    "\n",
    "head_links = Query.folder(FOLDER/'search').select(FileIO.read_text).select_many(get_links_from_search_page).to_list()\n"
   ]
  },
  {
   "cell_type": "code",
   "execution_count": 6,
   "id": "739fe44e",
   "metadata": {},
   "outputs": [
    {
     "data": {
      "text/plain": [
       "'/readfic/4887623'"
      ]
     },
     "execution_count": 6,
     "metadata": {},
     "output_type": "execute_result"
    }
   ],
   "source": [
    "head_links[0]"
   ]
  },
  {
   "cell_type": "code",
   "execution_count": 7,
   "id": "446f8867",
   "metadata": {},
   "outputs": [
    {
     "data": {
      "application/json": {
       "ascii": false,
       "bar_format": null,
       "colour": null,
       "elapsed": 0.046045780181884766,
       "initial": 0,
       "n": 0,
       "ncols": null,
       "nrows": 24,
       "postfix": null,
       "prefix": "",
       "rate": null,
       "total": 700,
       "unit": "it",
       "unit_divisor": 1000,
       "unit_scale": false
      },
      "application/vnd.jupyter.widget-view+json": {
       "model_id": "9a5a5f7838e9462d9a166af19d8a49ab",
       "version_major": 2,
       "version_minor": 0
      },
      "text/plain": [
       "  0%|          | 0/700 [00:00<?, ?it/s]"
      ]
     },
     "metadata": {},
     "output_type": "display_data"
    }
   ],
   "source": [
    "download(\n",
    "    url_pattern = 'https://ficbook.net{0}',\n",
    "    folder = FOLDER/'heads',\n",
    "    values = head_links,\n",
    "    cookies_for_domain = '.ficbook.net',\n",
    "    pause_time = 2\n",
    ")"
   ]
  },
  {
   "cell_type": "markdown",
   "id": "a773a1f8",
   "metadata": {},
   "source": [
    "# Content Pages"
   ]
  },
  {
   "cell_type": "markdown",
   "id": "2e770061",
   "metadata": {},
   "source": [
    "Длинные произведения являются ссылками на другие страницы - контентные. Скачаем и их тоже."
   ]
  },
  {
   "cell_type": "code",
   "execution_count": 8,
   "id": "ca5d4248",
   "metadata": {},
   "outputs": [],
   "source": [
    "import re\n",
    "def get_part_links(page):\n",
    "    reg = '/readfic.*#part_content'\n",
    "    bs = bs4.BeautifulSoup(page)\n",
    "    links = bs.find_all('a')\n",
    "    links = Query.en(links).select(lambda z: z.attrs.get('href','')).where(lambda z: re.match(reg, z)).to_list()\n",
    "    return links\n",
    "\n",
    "content_pages = Query.folder(FOLDER/'heads').select(FileIO.read_text).select_many(get_part_links).to_list()\n"
   ]
  },
  {
   "cell_type": "code",
   "execution_count": 9,
   "id": "55e4dc25",
   "metadata": {},
   "outputs": [
    {
     "data": {
      "application/json": {
       "ascii": false,
       "bar_format": null,
       "colour": null,
       "elapsed": 0.053053855895996094,
       "initial": 0,
       "n": 0,
       "ncols": null,
       "nrows": 24,
       "postfix": null,
       "prefix": "",
       "rate": null,
       "total": 662,
       "unit": "it",
       "unit_divisor": 1000,
       "unit_scale": false
      },
      "application/vnd.jupyter.widget-view+json": {
       "model_id": "7120b18999c94135b4254daee510fa0e",
       "version_major": 2,
       "version_minor": 0
      },
      "text/plain": [
       "  0%|          | 0/662 [00:00<?, ?it/s]"
      ]
     },
     "metadata": {},
     "output_type": "display_data"
    }
   ],
   "source": [
    "download(\n",
    "    url_pattern = 'https://ficbook.net{0}',\n",
    "    folder = FOLDER/'content',\n",
    "    values = content_pages,\n",
    "    cookies_for_domain = '.ficbook.net',\n",
    "    pause_time = 2\n",
    ")"
   ]
  },
  {
   "cell_type": "code",
   "execution_count": 10,
   "id": "15b088af",
   "metadata": {},
   "outputs": [],
   "source": [
    "## Parsing"
   ]
  },
  {
   "cell_type": "code",
   "execution_count": 11,
   "id": "b3710fa2",
   "metadata": {},
   "outputs": [],
   "source": [
    "one_pages = Query.folder(FOLDER/'heads').where(lambda z: len(get_part_links(FileIO.read_text(z)))==0).to_list()"
   ]
  },
  {
   "cell_type": "code",
   "execution_count": 12,
   "id": "2239de47",
   "metadata": {},
   "outputs": [],
   "source": [
    "content_pages = Query.folder(FOLDER/'content').to_list()"
   ]
  },
  {
   "cell_type": "code",
   "execution_count": 13,
   "id": "af61e018",
   "metadata": {},
   "outputs": [],
   "source": [
    "parseable_pages = one_pages+content_pages"
   ]
  },
  {
   "cell_type": "code",
   "execution_count": 14,
   "id": "7f1f2b1b",
   "metadata": {},
   "outputs": [],
   "source": [
    "FileIO.write_json([str(c) for c in parseable_pages],'parseable_pages.json')"
   ]
  }
 ],
 "metadata": {
  "kernelspec": {
   "display_name": "Python 3 (ipykernel)",
   "language": "python",
   "name": "python3"
  },
  "language_info": {
   "codemirror_mode": {
    "name": "ipython",
    "version": 3
   },
   "file_extension": ".py",
   "mimetype": "text/x-python",
   "name": "python",
   "nbconvert_exporter": "python",
   "pygments_lexer": "ipython3",
   "version": "3.8.13"
  }
 },
 "nbformat": 4,
 "nbformat_minor": 5
}
