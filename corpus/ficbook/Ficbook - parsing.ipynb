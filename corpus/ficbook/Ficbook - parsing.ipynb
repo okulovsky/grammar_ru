{
 "cells": [
  {
   "cell_type": "code",
   "execution_count": 10,
   "id": "c2c67ef2",
   "metadata": {},
   "outputs": [],
   "source": [
    "\n",
    "from tg.grammar_ru import Loc\n",
    "NAME = 'Frei'\n",
    "\n",
    "\n",
    "CORPUS_FOLDER = Loc.root_path.parent/'corpus_files'\n",
    "FOLDER = CORPUS_FOLDER/'raw/ficbook'/NAME\n",
    "MD_FOLDER =CORPUS_FOLDER/'processed/ficbook/'/NAME\n"
   ]
  },
  {
   "cell_type": "code",
   "execution_count": 11,
   "id": "e80f864e",
   "metadata": {},
   "outputs": [],
   "source": [
    "from yo_fluq_ds import *\n",
    "\n",
    "\n",
    "parseable_pages = FileIO.read_json('parseable_pages.json')"
   ]
  },
  {
   "cell_type": "code",
   "execution_count": 13,
   "id": "a019a767",
   "metadata": {},
   "outputs": [
    {
     "name": "stdout",
     "output_type": "stream",
     "text": [
      "# Два мира - Явь и Сон\n",
      "\n",
      "## Часть 1\n",
      "\n",
      "$ {\"author\": \"Ram Ro\", \"likes\": \"21\"}\n",
      "\n",
      "На перекрестке тысячи миров.\n",
      "\n",
      "В пустых глазах давно уже не детских\n",
      "\n",
      "Опять граничат выдумки из снов\n",
      "\n",
      "С реальностью холодной, с\n"
     ]
    }
   ],
   "source": [
    "import bs4 \n",
    "\n",
    "\n",
    "def find_single(self,   \n",
    "            name=None,\n",
    "            attrs={},\n",
    "            recursive=True,\n",
    "            string=None,\n",
    "            limit=None,\n",
    "            **kwargs):\n",
    "    result = self.find_all(name=name, attrs=attrs, recursive=recursive, string=string, limit=limit, **kwargs)\n",
    "    if len(result)!=1:\n",
    "        raise ValueError(f'Expected single element, but was {len(result)}')\n",
    "    return result[0]\n",
    "bs4.BeautifulSoup.find_single = find_single\n",
    "\n",
    "def parse(html):\n",
    "    bs = bs4.BeautifulSoup(html)\n",
    "    result = Obj()\n",
    "    result.title = bs.find_single('h1').text\n",
    "    result.author = ', '.join([c.text for c in bs.find_all('a', attrs={'class':'creator-nickname'})])\n",
    "    \n",
    "    result.likes = '-1'\n",
    "    \n",
    "    likes = bs.find_all('span', attrs={'class': 'badge-text js-marks-plus'})\n",
    "    if len(likes) == 1:\n",
    "        result.likes = likes[0].text\n",
    "\n",
    "    result.content = bs.find_single('div', attrs={'id': 'content'}).text\n",
    "    subtitles = bs.find_all('h2')\n",
    "    if len(subtitles)==1:\n",
    "        subtitle = subtitles[0]\n",
    "    elif subtitles[0].text=='18+':\n",
    "        subtitle = subtitles[1]\n",
    "    else:\n",
    "        raise ValueError(f'Unexpected subtitles\\n{subtitles}')\n",
    "    \n",
    "    \n",
    "    result.subtitle = subtitle.text\n",
    "    \n",
    "    return result\n",
    "\n",
    "import json\n",
    "\n",
    "def to_md(parsed):\n",
    "    result = []\n",
    "    result.append(f'# {parsed.title}')\n",
    "    result.append(f'## {parsed.subtitle}')\n",
    "    result.append(f'$ {json.dumps(dict(author=parsed.author, likes=parsed.likes))}')\n",
    "    for s in parsed.content.split('\\n'):\n",
    "        s = s.strip()\n",
    "        if s!='':\n",
    "            result.append(s)\n",
    "    return '\\n\\n'.join(result)\n",
    "\n",
    "\n",
    "\n",
    "fname = parseable_pages[10]\n",
    "text = FileIO.read_text(fname)\n",
    "#print(text)\n",
    "parsed = parse(FileIO.read_text(fname))\n",
    "print(to_md(parsed)[:200])"
   ]
  },
  {
   "cell_type": "code",
   "execution_count": 15,
   "id": "6a7abfff",
   "metadata": {},
   "outputs": [
    {
     "data": {
      "application/json": {
       "ascii": false,
       "bar_format": null,
       "colour": null,
       "elapsed": 0.047147512435913086,
       "initial": 0,
       "n": 0,
       "ncols": null,
       "nrows": 24,
       "postfix": null,
       "prefix": "",
       "rate": null,
       "total": null,
       "unit": "it",
       "unit_divisor": 1000,
       "unit_scale": false
      },
      "application/vnd.jupyter.widget-view+json": {
       "model_id": "ded9248b9d904da6a980e050ad3386d3",
       "version_major": 2,
       "version_minor": 0
      },
      "text/plain": [
       "0it [00:00, ?it/s]"
      ]
     },
     "metadata": {},
     "output_type": "display_data"
    }
   ],
   "source": [
    "os.makedirs(MD_FOLDER, exist_ok=True)\n",
    "if True:\n",
    "    for i,p in Query.en(enumerate(parseable_pages)).feed(fluq.with_progress_bar()):\n",
    "        try:\n",
    "            parsed = parse(FileIO.read_text(p))\n",
    "            md = to_md(parsed)\n",
    "            FileIO.write_text(md,MD_FOLDER/f'{i}.md')\n",
    "        except:\n",
    "            print(p)\n",
    "            raise"
   ]
  },
  {
   "cell_type": "code",
   "execution_count": 16,
   "id": "e998c386",
   "metadata": {},
   "outputs": [
    {
     "data": {
      "application/json": {
       "ascii": false,
       "bar_format": null,
       "colour": null,
       "elapsed": 0.020037412643432617,
       "initial": 0,
       "n": 0,
       "ncols": null,
       "nrows": 24,
       "postfix": null,
       "prefix": "",
       "rate": null,
       "total": 2188,
       "unit": "it",
       "unit_divisor": 1000,
       "unit_scale": false
      },
      "application/vnd.jupyter.widget-view+json": {
       "model_id": "63b075bd9ffe45ef9c92b1fd64f02a65",
       "version_major": 2,
       "version_minor": 0
      },
      "text/plain": [
       "  0%|          | 0/2188 [00:00<?, ?it/s]"
      ]
     },
     "metadata": {},
     "output_type": "display_data"
    }
   ],
   "source": [
    "from tg.grammar_ru.ml.corpus import CorpusBuilder\n",
    "\n",
    "CorpusBuilder.convert_interformat_folder_to_corpus(\n",
    "    Loc.corpus_path/'ficbook.base.zip',\n",
    "    MD_FOLDER.parent,\n",
    "    ['fandom', 'num']\n",
    ")"
   ]
  },
  {
   "cell_type": "code",
   "execution_count": 19,
   "id": "0bfa2763",
   "metadata": {},
   "outputs": [],
   "source": [
    "from tg.grammar_ru import CorpusReader, Separator\n",
    "\n",
    "reader = CorpusReader(Loc.corpus_path/'ficbook.base.zip')\n",
    "toc = reader.get_toc()\n"
   ]
  },
  {
   "cell_type": "code",
   "execution_count": 23,
   "id": "7095df03",
   "metadata": {},
   "outputs": [
    {
     "data": {
      "text/plain": [
       "fandom\n",
       "Frei      1655318\n",
       "Martin    1584779\n",
       "Name: token_count, dtype: int64"
      ]
     },
     "execution_count": 23,
     "metadata": {},
     "output_type": "execute_result"
    }
   ],
   "source": [
    "toc.groupby('fandom').token_count.sum()"
   ]
  }
 ],
 "metadata": {
  "kernelspec": {
   "display_name": "Python 3 (ipykernel)",
   "language": "python",
   "name": "python3"
  },
  "language_info": {
   "codemirror_mode": {
    "name": "ipython",
    "version": 3
   },
   "file_extension": ".py",
   "mimetype": "text/x-python",
   "name": "python",
   "nbconvert_exporter": "python",
   "pygments_lexer": "ipython3",
   "version": "3.8.13"
  }
 },
 "nbformat": 4,
 "nbformat_minor": 5
}
