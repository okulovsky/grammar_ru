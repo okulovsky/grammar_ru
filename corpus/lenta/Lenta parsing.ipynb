{
 "cells": [
  {
   "cell_type": "code",
   "execution_count": 4,
   "id": "b157aa40",
   "metadata": {},
   "outputs": [],
   "source": [
    "import corus\n",
    "from tg.grammar_ru.common import Loc\n",
    "import subprocess"
   ]
  },
  {
   "cell_type": "code",
   "execution_count": 5,
   "id": "c9919376",
   "metadata": {},
   "outputs": [],
   "source": [
    "import os\n",
    "PATH = Loc.temp_path/'lenta.gz'\n",
    "\n",
    "if not os.path.isfile(PATH):\n",
    "    subprocess.call([\n",
    "        'wget',\n",
    "        'https://github.com/yutkin/Lenta.Ru-News-Dataset/releases/download/v1.0/lenta-ru-news.csv.gz',\n",
    "        '-O',\n",
    "        PATH\n",
    "    ])"
   ]
  },
  {
   "cell_type": "code",
   "execution_count": 6,
   "id": "844107fb",
   "metadata": {},
   "outputs": [
    {
     "data": {
      "text/plain": [
       "LentaRecord(\n",
       "    url='https://lenta.ru/news/2018/12/14/cancer/',\n",
       "    title='Названы регионы России с\\xa0самой высокой смертностью от\\xa0рака',\n",
       "    text='Вице-премьер по социальным вопросам Татьяна Голикова рассказала, в каких регионах России зафиксирована наиболее высокая смертность от рака, сообщает РИА Новости. По словам Голиковой, чаще всего онкологические заболевания становились причиной смерти в Псковской, Тверской, Тульской и Орловской областях, а также в Севастополе. Вице-премьер напомнила, что главные факторы смертности в России — рак и болезни системы кровообращения. В начале года стало известно, что смертность от онкологических заболеваний среди россиян снизилась впервые за три года. По данным Росстата, в 2017 году от рака умерли 289 тысяч человек. Это на 3,5 процента меньше, чем годом ранее.',\n",
       "    topic='Россия',\n",
       "    tags='Общество',\n",
       "    date=None\n",
       ")"
      ]
     },
     "execution_count": 6,
     "metadata": {},
     "output_type": "execute_result"
    }
   ],
   "source": [
    "from yo_fluq_ds import *\n",
    "\n",
    "def get_lenta():\n",
    "    return Queryable(corus.load_lenta(PATH), 739351)\n",
    "\n",
    "get_lenta().first()"
   ]
  },
  {
   "cell_type": "code",
   "execution_count": 7,
   "id": "c03c8d3e",
   "metadata": {},
   "outputs": [
    {
     "data": {
      "application/vnd.jupyter.widget-view+json": {
       "model_id": "f42f7180cfb94587a16b3a1f96515abf",
       "version_major": 2,
       "version_minor": 0
      },
      "text/plain": [
       "  0%|          | 0/739351 [00:00<?, ?it/s]"
      ]
     },
     "metadata": {},
     "output_type": "display_data"
    }
   ],
   "source": [
    "import shutil\n",
    "\n",
    "PROCESSED = Loc.processed_path/'lenta'\n",
    "shutil.rmtree(PROCESSED, ignore_errors = True)\n",
    "os.makedirs(PROCESSED)\n",
    "\n",
    "buffer = []\n",
    "length = 0\n",
    "file_index = 0\n",
    "\n",
    "for rec in get_lenta().feed(fluq.with_progress_bar()):\n",
    "    buffer.append(rec.text)\n",
    "    length+=len(rec.text)\n",
    "    if length>1000000:\n",
    "        text = f'# Partition {file_index}\\n\\n'\n",
    "        text += '\\n\\n'.join(buffer)\n",
    "        FileIO.write_text(text, PROCESSED/f'{file_index}.md')\n",
    "        file_index+=1\n",
    "        buffer = []\n",
    "        length = 0"
   ]
  },
  {
   "cell_type": "code",
   "execution_count": 9,
   "id": "5a40e699",
   "metadata": {},
   "outputs": [
    {
     "data": {
      "application/vnd.jupyter.widget-view+json": {
       "model_id": "0138b4320b884d9e9e24daac83aad109",
       "version_major": 2,
       "version_minor": 0
      },
      "text/plain": [
       "  0%|          | 0/986 [00:00<?, ?it/s]"
      ]
     },
     "metadata": {},
     "output_type": "display_data"
    }
   ],
   "source": [
    "from tg.grammar_ru.corpus import CorpusBuilder\n",
    "\n",
    "CorpusBuilder.convert_interformat_folder_to_corpus(\n",
    "    Loc.corpus_path/'lenta.base.zip',\n",
    "    PROCESSED,\n",
    "    ['partition']\n",
    ")"
   ]
  }
 ],
 "metadata": {
  "kernelspec": {
   "display_name": "Python 3 (ipykernel)",
   "language": "python",
   "name": "python3"
  },
  "language_info": {
   "codemirror_mode": {
    "name": "ipython",
    "version": 3
   },
   "file_extension": ".py",
   "mimetype": "text/x-python",
   "name": "python",
   "nbconvert_exporter": "python",
   "pygments_lexer": "ipython3",
   "version": "3.9.18"
  }
 },
 "nbformat": 4,
 "nbformat_minor": 5
}
