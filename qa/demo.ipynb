{
 "cells": [
  {
   "cell_type": "markdown",
   "source": [
    "# Проверка бандла в Microsoft Word"
   ],
   "metadata": {
    "collapsed": false
   },
   "id": "1da33d89e42d7990"
  },
  {
   "cell_type": "markdown",
   "source": [
    "Загрузим Data Bundle"
   ],
   "metadata": {
    "collapsed": false
   },
   "id": "d06a1b51207a8843"
  },
  {
   "cell_type": "code",
   "outputs": [
    {
     "data": {
      "text/plain": "       word_id  sentence_id  word_index  paragraph_id  word_tail  \\\n0            0            0           0             0          1   \n1            1            0           1             0          1   \n2            2            0           2             0          0   \n3            3            0           3             0          0   \n4            4            0           4             0          1   \n...        ...          ...         ...           ...        ...   \n66199    66199        66188           6         66188          1   \n66200    66200        66188           7         66188          1   \n66201    66201        66188           8         66188          1   \n66202    66202        66188           9         66188          0   \n66203    66203        66188          10         66188          0   \n\n               word word_type  word_length  \\\n0                 —     punct            1   \n1             Фильм        ru            5   \n2                 «     punct            1   \n3      Растворяться        ru           12   \n4                 »     punct            1   \n...             ...       ...          ...   \n66199         будут        ru            5   \n66200      делиться        ru            8   \n66201         между        ru            5   \n66202     сторонами        ru            9   \n66203             ?     punct            1   \n\n                                    file_id       corpus_id  is_target  label  \\\n0      273a88ef-0d47-4a69-8c84-9b91e2d5427f  transfuzed.zip      False      0   \n1      273a88ef-0d47-4a69-8c84-9b91e2d5427f  transfuzed.zip      False      0   \n2      273a88ef-0d47-4a69-8c84-9b91e2d5427f  transfuzed.zip      False      0   \n3      273a88ef-0d47-4a69-8c84-9b91e2d5427f  transfuzed.zip       True      0   \n4      273a88ef-0d47-4a69-8c84-9b91e2d5427f  transfuzed.zip      False      0   \n...                                     ...             ...        ...    ...   \n66199  273a88ef-0d47-4a69-8c84-9b91e2d5427f  transfuzed.zip      False      0   \n66200  273a88ef-0d47-4a69-8c84-9b91e2d5427f  transfuzed.zip       True      0   \n66201  273a88ef-0d47-4a69-8c84-9b91e2d5427f  transfuzed.zip      False      0   \n66202  273a88ef-0d47-4a69-8c84-9b91e2d5427f  transfuzed.zip      False      0   \n66203  273a88ef-0d47-4a69-8c84-9b91e2d5427f  transfuzed.zip      False      0   \n\n      original_corpus  original_word_id  original_sentence_id  \\\n0        pub.base.zip                68                     4   \n1        pub.base.zip                69                     4   \n2        pub.base.zip                70                     4   \n3        pub.base.zip                71                     4   \n4        pub.base.zip                72                     4   \n...               ...               ...                   ...   \n66199    pub.base.zip          38468826              38468369   \n66200    pub.base.zip          38468827              38468369   \n66201    pub.base.zip          38468828              38468369   \n66202    pub.base.zip          38468829              38468369   \n66203    pub.base.zip          38468830              38468369   \n\n       original_paragraph_id  updated  \n0                          2    False  \n1                          2    False  \n2                          2    False  \n3                          2    False  \n4                          2    False  \n...                      ...      ...  \n66199               38468341    False  \n66200               38468341    False  \n66201               38468341    False  \n66202               38468341    False  \n66203               38468341    False  \n\n[49990 rows x 17 columns]",
      "text/html": "<div>\n<style scoped>\n    .dataframe tbody tr th:only-of-type {\n        vertical-align: middle;\n    }\n\n    .dataframe tbody tr th {\n        vertical-align: top;\n    }\n\n    .dataframe thead th {\n        text-align: right;\n    }\n</style>\n<table border=\"1\" class=\"dataframe\">\n  <thead>\n    <tr style=\"text-align: right;\">\n      <th></th>\n      <th>word_id</th>\n      <th>sentence_id</th>\n      <th>word_index</th>\n      <th>paragraph_id</th>\n      <th>word_tail</th>\n      <th>word</th>\n      <th>word_type</th>\n      <th>word_length</th>\n      <th>file_id</th>\n      <th>corpus_id</th>\n      <th>is_target</th>\n      <th>label</th>\n      <th>original_corpus</th>\n      <th>original_word_id</th>\n      <th>original_sentence_id</th>\n      <th>original_paragraph_id</th>\n      <th>updated</th>\n    </tr>\n  </thead>\n  <tbody>\n    <tr>\n      <th>0</th>\n      <td>0</td>\n      <td>0</td>\n      <td>0</td>\n      <td>0</td>\n      <td>1</td>\n      <td>—</td>\n      <td>punct</td>\n      <td>1</td>\n      <td>273a88ef-0d47-4a69-8c84-9b91e2d5427f</td>\n      <td>transfuzed.zip</td>\n      <td>False</td>\n      <td>0</td>\n      <td>pub.base.zip</td>\n      <td>68</td>\n      <td>4</td>\n      <td>2</td>\n      <td>False</td>\n    </tr>\n    <tr>\n      <th>1</th>\n      <td>1</td>\n      <td>0</td>\n      <td>1</td>\n      <td>0</td>\n      <td>1</td>\n      <td>Фильм</td>\n      <td>ru</td>\n      <td>5</td>\n      <td>273a88ef-0d47-4a69-8c84-9b91e2d5427f</td>\n      <td>transfuzed.zip</td>\n      <td>False</td>\n      <td>0</td>\n      <td>pub.base.zip</td>\n      <td>69</td>\n      <td>4</td>\n      <td>2</td>\n      <td>False</td>\n    </tr>\n    <tr>\n      <th>2</th>\n      <td>2</td>\n      <td>0</td>\n      <td>2</td>\n      <td>0</td>\n      <td>0</td>\n      <td>«</td>\n      <td>punct</td>\n      <td>1</td>\n      <td>273a88ef-0d47-4a69-8c84-9b91e2d5427f</td>\n      <td>transfuzed.zip</td>\n      <td>False</td>\n      <td>0</td>\n      <td>pub.base.zip</td>\n      <td>70</td>\n      <td>4</td>\n      <td>2</td>\n      <td>False</td>\n    </tr>\n    <tr>\n      <th>3</th>\n      <td>3</td>\n      <td>0</td>\n      <td>3</td>\n      <td>0</td>\n      <td>0</td>\n      <td>Растворяться</td>\n      <td>ru</td>\n      <td>12</td>\n      <td>273a88ef-0d47-4a69-8c84-9b91e2d5427f</td>\n      <td>transfuzed.zip</td>\n      <td>True</td>\n      <td>0</td>\n      <td>pub.base.zip</td>\n      <td>71</td>\n      <td>4</td>\n      <td>2</td>\n      <td>False</td>\n    </tr>\n    <tr>\n      <th>4</th>\n      <td>4</td>\n      <td>0</td>\n      <td>4</td>\n      <td>0</td>\n      <td>1</td>\n      <td>»</td>\n      <td>punct</td>\n      <td>1</td>\n      <td>273a88ef-0d47-4a69-8c84-9b91e2d5427f</td>\n      <td>transfuzed.zip</td>\n      <td>False</td>\n      <td>0</td>\n      <td>pub.base.zip</td>\n      <td>72</td>\n      <td>4</td>\n      <td>2</td>\n      <td>False</td>\n    </tr>\n    <tr>\n      <th>...</th>\n      <td>...</td>\n      <td>...</td>\n      <td>...</td>\n      <td>...</td>\n      <td>...</td>\n      <td>...</td>\n      <td>...</td>\n      <td>...</td>\n      <td>...</td>\n      <td>...</td>\n      <td>...</td>\n      <td>...</td>\n      <td>...</td>\n      <td>...</td>\n      <td>...</td>\n      <td>...</td>\n      <td>...</td>\n    </tr>\n    <tr>\n      <th>66199</th>\n      <td>66199</td>\n      <td>66188</td>\n      <td>6</td>\n      <td>66188</td>\n      <td>1</td>\n      <td>будут</td>\n      <td>ru</td>\n      <td>5</td>\n      <td>273a88ef-0d47-4a69-8c84-9b91e2d5427f</td>\n      <td>transfuzed.zip</td>\n      <td>False</td>\n      <td>0</td>\n      <td>pub.base.zip</td>\n      <td>38468826</td>\n      <td>38468369</td>\n      <td>38468341</td>\n      <td>False</td>\n    </tr>\n    <tr>\n      <th>66200</th>\n      <td>66200</td>\n      <td>66188</td>\n      <td>7</td>\n      <td>66188</td>\n      <td>1</td>\n      <td>делиться</td>\n      <td>ru</td>\n      <td>8</td>\n      <td>273a88ef-0d47-4a69-8c84-9b91e2d5427f</td>\n      <td>transfuzed.zip</td>\n      <td>True</td>\n      <td>0</td>\n      <td>pub.base.zip</td>\n      <td>38468827</td>\n      <td>38468369</td>\n      <td>38468341</td>\n      <td>False</td>\n    </tr>\n    <tr>\n      <th>66201</th>\n      <td>66201</td>\n      <td>66188</td>\n      <td>8</td>\n      <td>66188</td>\n      <td>1</td>\n      <td>между</td>\n      <td>ru</td>\n      <td>5</td>\n      <td>273a88ef-0d47-4a69-8c84-9b91e2d5427f</td>\n      <td>transfuzed.zip</td>\n      <td>False</td>\n      <td>0</td>\n      <td>pub.base.zip</td>\n      <td>38468828</td>\n      <td>38468369</td>\n      <td>38468341</td>\n      <td>False</td>\n    </tr>\n    <tr>\n      <th>66202</th>\n      <td>66202</td>\n      <td>66188</td>\n      <td>9</td>\n      <td>66188</td>\n      <td>0</td>\n      <td>сторонами</td>\n      <td>ru</td>\n      <td>9</td>\n      <td>273a88ef-0d47-4a69-8c84-9b91e2d5427f</td>\n      <td>transfuzed.zip</td>\n      <td>False</td>\n      <td>0</td>\n      <td>pub.base.zip</td>\n      <td>38468829</td>\n      <td>38468369</td>\n      <td>38468341</td>\n      <td>False</td>\n    </tr>\n    <tr>\n      <th>66203</th>\n      <td>66203</td>\n      <td>66188</td>\n      <td>10</td>\n      <td>66188</td>\n      <td>0</td>\n      <td>?</td>\n      <td>punct</td>\n      <td>1</td>\n      <td>273a88ef-0d47-4a69-8c84-9b91e2d5427f</td>\n      <td>transfuzed.zip</td>\n      <td>False</td>\n      <td>0</td>\n      <td>pub.base.zip</td>\n      <td>38468830</td>\n      <td>38468369</td>\n      <td>38468341</td>\n      <td>False</td>\n    </tr>\n  </tbody>\n</table>\n<p>49990 rows × 17 columns</p>\n</div>"
     },
     "execution_count": 120,
     "metadata": {},
     "output_type": "execute_result"
    }
   ],
   "source": [
    "from tg.common import DataBundle\n",
    "\n",
    "db = DataBundle.load(r'C:\\Users\\Bogdan\\PycharmProjects\\grammar_ru\\demos\\files\\tsa-test.zip')\n",
    "\n",
    "src = db.src\n",
    "src"
   ],
   "metadata": {
    "collapsed": true,
    "ExecuteTime": {
     "end_time": "2024-01-12T19:58:30.863477200Z",
     "start_time": "2024-01-12T19:58:30.608853300Z"
    }
   },
   "id": "initial_id",
   "execution_count": 120
  },
  {
   "cell_type": "markdown",
   "source": [
    "Подключим клиент для работы с MS Word"
   ],
   "metadata": {
    "collapsed": false
   },
   "id": "8b03c1988ae35b3b"
  },
  {
   "cell_type": "code",
   "outputs": [
    {
     "data": {
      "text/plain": "[SpellError(word='боротся', index=3, start_position=21, end_position=28, suggestions=['борется', 'борются', 'бороться', 'берётся', 'берется', 'берутся', 'бурится', 'бурятся', 'боролся', 'боротая'])]"
     },
     "execution_count": 121,
     "metadata": {},
     "output_type": "execute_result"
    }
   ],
   "source": [
    "from qa.enums.language import Language\n",
    "from word_client import MSWordClient\n",
    "\n",
    "client = MSWordClient(Language.RUSSIAN)\n",
    "\n",
    "client.spell_check(\"Мне часто приходится боротся с трудностями\")"
   ],
   "metadata": {
    "collapsed": false,
    "ExecuteTime": {
     "end_time": "2024-01-12T19:58:36.210102800Z",
     "start_time": "2024-01-12T19:58:33.311287600Z"
    }
   },
   "id": "d6c85205dfd10d16",
   "execution_count": 121
  },
  {
   "cell_type": "markdown",
   "source": [
    "Получим список случайных идентификаторов предложений"
   ],
   "metadata": {
    "collapsed": false
   },
   "id": "736a1fb9f60f37d0"
  },
  {
   "cell_type": "code",
   "outputs": [],
   "source": [
    "import numpy as np\n",
    "\n",
    "\n",
    "ALL_SENTENCES_COUNT = 100\n",
    "NEGATIVE_SENTENCES_COUNT = 60\n",
    "\n",
    "uniq_sentence_ids = np.random.choice(src['sentence_id'].unique(), ALL_SENTENCES_COUNT, replace=False)"
   ],
   "metadata": {
    "collapsed": false,
    "ExecuteTime": {
     "end_time": "2024-01-12T19:58:37.039924700Z",
     "start_time": "2024-01-12T19:58:37.006936Z"
    }
   },
   "id": "ad1399837da42d1f",
   "execution_count": 122
  },
  {
   "cell_type": "markdown",
   "source": [
    "Получим dataframe с корректными предложениями"
   ],
   "metadata": {
    "collapsed": false
   },
   "id": "659ff00a29d2047b"
  },
  {
   "cell_type": "code",
   "outputs": [
    {
     "data": {
      "text/plain": "     word_id  sentence_id  word_index  paragraph_id  word_tail   word  \\\n444      444          332           0           332          1    Они   \n445      445          332           1           332          1     не   \n446      446          332           2           332          1  ровня   \n447      447          332           3           332          1     ни   \n448      448          332           4           332          1     по   \n\n    word_type  word_length                               file_id  \\\n444        ru            3  273a88ef-0d47-4a69-8c84-9b91e2d5427f   \n445        ru            2  273a88ef-0d47-4a69-8c84-9b91e2d5427f   \n446        ru            5  273a88ef-0d47-4a69-8c84-9b91e2d5427f   \n447        ru            2  273a88ef-0d47-4a69-8c84-9b91e2d5427f   \n448        ru            2  273a88ef-0d47-4a69-8c84-9b91e2d5427f   \n\n          corpus_id  is_target  label original_corpus  original_word_id  \\\n444  transfuzed.zip      False      1    pub.base.zip            132715   \n445  transfuzed.zip      False      1    pub.base.zip            132716   \n446  transfuzed.zip      False      1    pub.base.zip            132717   \n447  transfuzed.zip      False      1    pub.base.zip            132718   \n448  transfuzed.zip      False      1    pub.base.zip            132719   \n\n     original_sentence_id  original_paragraph_id  updated  \n444                132292                 132281    False  \n445                132292                 132281    False  \n446                132292                 132281    False  \n447                132292                 132281    False  \n448                132292                 132281    False  ",
      "text/html": "<div>\n<style scoped>\n    .dataframe tbody tr th:only-of-type {\n        vertical-align: middle;\n    }\n\n    .dataframe tbody tr th {\n        vertical-align: top;\n    }\n\n    .dataframe thead th {\n        text-align: right;\n    }\n</style>\n<table border=\"1\" class=\"dataframe\">\n  <thead>\n    <tr style=\"text-align: right;\">\n      <th></th>\n      <th>word_id</th>\n      <th>sentence_id</th>\n      <th>word_index</th>\n      <th>paragraph_id</th>\n      <th>word_tail</th>\n      <th>word</th>\n      <th>word_type</th>\n      <th>word_length</th>\n      <th>file_id</th>\n      <th>corpus_id</th>\n      <th>is_target</th>\n      <th>label</th>\n      <th>original_corpus</th>\n      <th>original_word_id</th>\n      <th>original_sentence_id</th>\n      <th>original_paragraph_id</th>\n      <th>updated</th>\n    </tr>\n  </thead>\n  <tbody>\n    <tr>\n      <th>444</th>\n      <td>444</td>\n      <td>332</td>\n      <td>0</td>\n      <td>332</td>\n      <td>1</td>\n      <td>Они</td>\n      <td>ru</td>\n      <td>3</td>\n      <td>273a88ef-0d47-4a69-8c84-9b91e2d5427f</td>\n      <td>transfuzed.zip</td>\n      <td>False</td>\n      <td>1</td>\n      <td>pub.base.zip</td>\n      <td>132715</td>\n      <td>132292</td>\n      <td>132281</td>\n      <td>False</td>\n    </tr>\n    <tr>\n      <th>445</th>\n      <td>445</td>\n      <td>332</td>\n      <td>1</td>\n      <td>332</td>\n      <td>1</td>\n      <td>не</td>\n      <td>ru</td>\n      <td>2</td>\n      <td>273a88ef-0d47-4a69-8c84-9b91e2d5427f</td>\n      <td>transfuzed.zip</td>\n      <td>False</td>\n      <td>1</td>\n      <td>pub.base.zip</td>\n      <td>132716</td>\n      <td>132292</td>\n      <td>132281</td>\n      <td>False</td>\n    </tr>\n    <tr>\n      <th>446</th>\n      <td>446</td>\n      <td>332</td>\n      <td>2</td>\n      <td>332</td>\n      <td>1</td>\n      <td>ровня</td>\n      <td>ru</td>\n      <td>5</td>\n      <td>273a88ef-0d47-4a69-8c84-9b91e2d5427f</td>\n      <td>transfuzed.zip</td>\n      <td>False</td>\n      <td>1</td>\n      <td>pub.base.zip</td>\n      <td>132717</td>\n      <td>132292</td>\n      <td>132281</td>\n      <td>False</td>\n    </tr>\n    <tr>\n      <th>447</th>\n      <td>447</td>\n      <td>332</td>\n      <td>3</td>\n      <td>332</td>\n      <td>1</td>\n      <td>ни</td>\n      <td>ru</td>\n      <td>2</td>\n      <td>273a88ef-0d47-4a69-8c84-9b91e2d5427f</td>\n      <td>transfuzed.zip</td>\n      <td>False</td>\n      <td>1</td>\n      <td>pub.base.zip</td>\n      <td>132718</td>\n      <td>132292</td>\n      <td>132281</td>\n      <td>False</td>\n    </tr>\n    <tr>\n      <th>448</th>\n      <td>448</td>\n      <td>332</td>\n      <td>4</td>\n      <td>332</td>\n      <td>1</td>\n      <td>по</td>\n      <td>ru</td>\n      <td>2</td>\n      <td>273a88ef-0d47-4a69-8c84-9b91e2d5427f</td>\n      <td>transfuzed.zip</td>\n      <td>False</td>\n      <td>1</td>\n      <td>pub.base.zip</td>\n      <td>132719</td>\n      <td>132292</td>\n      <td>132281</td>\n      <td>False</td>\n    </tr>\n  </tbody>\n</table>\n</div>"
     },
     "execution_count": 123,
     "metadata": {},
     "output_type": "execute_result"
    }
   ],
   "source": [
    "positive_sentence_ids = uniq_sentence_ids[NEGATIVE_SENTENCES_COUNT:]\n",
    "\n",
    "positive_src = src[src['sentence_id'].isin(positive_sentence_ids)]\n",
    "\n",
    "positive_src.head()"
   ],
   "metadata": {
    "collapsed": false,
    "ExecuteTime": {
     "end_time": "2024-01-12T19:58:38.389296600Z",
     "start_time": "2024-01-12T19:58:38.321294600Z"
    }
   },
   "id": "6411ddf081cff5ea",
   "execution_count": 123
  },
  {
   "cell_type": "markdown",
   "source": [
    "Получим отрицательный dataframe с предложениями, где правильные глаголы на -тся/-ться заменены на ошибочные"
   ],
   "metadata": {
    "collapsed": false
   },
   "id": "14b55be8d314d686"
  },
  {
   "cell_type": "code",
   "outputs": [
    {
     "data": {
      "text/plain": "      word_id  sentence_id  word_index  paragraph_id  word_tail        word  \\\n4104     4104         4104           0          4104          1     Автором   \n4105     4105         4104           1          4104          1          на   \n4106     4106         4104           2          4104          1  программке   \n4107     4107         4104           3          4104          1    значится   \n4108     4108         4104           4          4104          0           В   \n\n     word_type  word_length                               file_id  \\\n4104        ru            7  273a88ef-0d47-4a69-8c84-9b91e2d5427f   \n4105        ru            2  273a88ef-0d47-4a69-8c84-9b91e2d5427f   \n4106        ru           10  273a88ef-0d47-4a69-8c84-9b91e2d5427f   \n4107        ru            8  273a88ef-0d47-4a69-8c84-9b91e2d5427f   \n4108        ru            1  273a88ef-0d47-4a69-8c84-9b91e2d5427f   \n\n           corpus_id  is_target  label original_corpus  original_word_id  \\\n4104  transfuzed.zip      False      1    pub.base.zip           3099442   \n4105  transfuzed.zip      False      1    pub.base.zip           3099443   \n4106  transfuzed.zip      False      1    pub.base.zip           3099444   \n4107  transfuzed.zip       True      1    pub.base.zip           3099445   \n4108  transfuzed.zip      False      1    pub.base.zip           3099446   \n\n      original_sentence_id  original_paragraph_id  updated  \n4104               3099051                3099034    False  \n4105               3099051                3099034    False  \n4106               3099051                3099034    False  \n4107               3099051                3099034    False  \n4108               3099051                3099034    False  ",
      "text/html": "<div>\n<style scoped>\n    .dataframe tbody tr th:only-of-type {\n        vertical-align: middle;\n    }\n\n    .dataframe tbody tr th {\n        vertical-align: top;\n    }\n\n    .dataframe thead th {\n        text-align: right;\n    }\n</style>\n<table border=\"1\" class=\"dataframe\">\n  <thead>\n    <tr style=\"text-align: right;\">\n      <th></th>\n      <th>word_id</th>\n      <th>sentence_id</th>\n      <th>word_index</th>\n      <th>paragraph_id</th>\n      <th>word_tail</th>\n      <th>word</th>\n      <th>word_type</th>\n      <th>word_length</th>\n      <th>file_id</th>\n      <th>corpus_id</th>\n      <th>is_target</th>\n      <th>label</th>\n      <th>original_corpus</th>\n      <th>original_word_id</th>\n      <th>original_sentence_id</th>\n      <th>original_paragraph_id</th>\n      <th>updated</th>\n    </tr>\n  </thead>\n  <tbody>\n    <tr>\n      <th>4104</th>\n      <td>4104</td>\n      <td>4104</td>\n      <td>0</td>\n      <td>4104</td>\n      <td>1</td>\n      <td>Автором</td>\n      <td>ru</td>\n      <td>7</td>\n      <td>273a88ef-0d47-4a69-8c84-9b91e2d5427f</td>\n      <td>transfuzed.zip</td>\n      <td>False</td>\n      <td>1</td>\n      <td>pub.base.zip</td>\n      <td>3099442</td>\n      <td>3099051</td>\n      <td>3099034</td>\n      <td>False</td>\n    </tr>\n    <tr>\n      <th>4105</th>\n      <td>4105</td>\n      <td>4104</td>\n      <td>1</td>\n      <td>4104</td>\n      <td>1</td>\n      <td>на</td>\n      <td>ru</td>\n      <td>2</td>\n      <td>273a88ef-0d47-4a69-8c84-9b91e2d5427f</td>\n      <td>transfuzed.zip</td>\n      <td>False</td>\n      <td>1</td>\n      <td>pub.base.zip</td>\n      <td>3099443</td>\n      <td>3099051</td>\n      <td>3099034</td>\n      <td>False</td>\n    </tr>\n    <tr>\n      <th>4106</th>\n      <td>4106</td>\n      <td>4104</td>\n      <td>2</td>\n      <td>4104</td>\n      <td>1</td>\n      <td>программке</td>\n      <td>ru</td>\n      <td>10</td>\n      <td>273a88ef-0d47-4a69-8c84-9b91e2d5427f</td>\n      <td>transfuzed.zip</td>\n      <td>False</td>\n      <td>1</td>\n      <td>pub.base.zip</td>\n      <td>3099444</td>\n      <td>3099051</td>\n      <td>3099034</td>\n      <td>False</td>\n    </tr>\n    <tr>\n      <th>4107</th>\n      <td>4107</td>\n      <td>4104</td>\n      <td>3</td>\n      <td>4104</td>\n      <td>1</td>\n      <td>значится</td>\n      <td>ru</td>\n      <td>8</td>\n      <td>273a88ef-0d47-4a69-8c84-9b91e2d5427f</td>\n      <td>transfuzed.zip</td>\n      <td>True</td>\n      <td>1</td>\n      <td>pub.base.zip</td>\n      <td>3099445</td>\n      <td>3099051</td>\n      <td>3099034</td>\n      <td>False</td>\n    </tr>\n    <tr>\n      <th>4108</th>\n      <td>4108</td>\n      <td>4104</td>\n      <td>4</td>\n      <td>4104</td>\n      <td>0</td>\n      <td>В</td>\n      <td>ru</td>\n      <td>1</td>\n      <td>273a88ef-0d47-4a69-8c84-9b91e2d5427f</td>\n      <td>transfuzed.zip</td>\n      <td>False</td>\n      <td>1</td>\n      <td>pub.base.zip</td>\n      <td>3099446</td>\n      <td>3099051</td>\n      <td>3099034</td>\n      <td>False</td>\n    </tr>\n  </tbody>\n</table>\n</div>"
     },
     "execution_count": 124,
     "metadata": {},
     "output_type": "execute_result"
    }
   ],
   "source": [
    "negative_sentence_ids = uniq_sentence_ids[:NEGATIVE_SENTENCES_COUNT]\n",
    "negative_src = src[src['sentence_id'].isin(negative_sentence_ids)]\n",
    "\n",
    "def replace_endings(word):\n",
    "    if word.endswith('тся'):\n",
    "        return word[:-3] + 'ться'\n",
    "    elif word.endswith('ться'):\n",
    "        return word[:-4] + 'тся'\n",
    "    else:\n",
    "        return word\n",
    "\n",
    "negative_src = negative_src.copy()\n",
    "negative_src['word'] = negative_src['word'].apply(replace_endings)\n",
    "\n",
    "negative_src.head()"
   ],
   "metadata": {
    "collapsed": false,
    "ExecuteTime": {
     "end_time": "2024-01-12T19:58:39.594158400Z",
     "start_time": "2024-01-12T19:58:39.566542500Z"
    }
   },
   "id": "4633c6595a4778a5",
   "execution_count": 124
  },
  {
   "cell_type": "code",
   "outputs": [],
   "source": [
    "from pandas import DataFrame\n",
    "from tg.grammar_ru import Separator\n",
    "\n",
    "\n",
    "def get_errors_count(df: DataFrame) -> int:\n",
    "    errors_count = 0\n",
    "\n",
    "    for id in df['sentence_id'].unique():\n",
    "        sentence = Separator.Viewer().to_text(df.loc[df.sentence_id == id])\n",
    "        errors_count += len(client.spell_check(sentence, error_qualifier=TsaErrorQualifier))\n",
    "\n",
    "    return errors_count"
   ],
   "metadata": {
    "collapsed": false,
    "ExecuteTime": {
     "end_time": "2024-01-12T19:58:40.505263100Z",
     "start_time": "2024-01-12T19:58:40.469269300Z"
    }
   },
   "id": "be41003f100b46e1",
   "execution_count": 125
  },
  {
   "cell_type": "markdown",
   "source": [
    "Получим число ошибок употребления -тся/-ться, которое найдет MS Word в предложениях из позитивного dataframe"
   ],
   "metadata": {
    "collapsed": false
   },
   "id": "27d7ac9f4d454133"
  },
  {
   "cell_type": "code",
   "outputs": [
    {
     "data": {
      "text/plain": "1"
     },
     "execution_count": 126,
     "metadata": {},
     "output_type": "execute_result"
    }
   ],
   "source": [
    "positive_errors_count = get_errors_count(positive_src)\n",
    "positive_errors_count"
   ],
   "metadata": {
    "collapsed": false,
    "ExecuteTime": {
     "end_time": "2024-01-12T20:01:04.113600100Z",
     "start_time": "2024-01-12T19:58:42.041190700Z"
    }
   },
   "id": "a1f96d12bdfe2988",
   "execution_count": 126
  },
  {
   "cell_type": "markdown",
   "source": [
    "Получим число ошибок употребления -тся/-ться, которое найдет MS Word в предложениях из отрицательного dataframe"
   ],
   "metadata": {
    "collapsed": false
   },
   "id": "c379b838c264222a"
  },
  {
   "cell_type": "code",
   "outputs": [
    {
     "data": {
      "text/plain": "12"
     },
     "execution_count": 127,
     "metadata": {},
     "output_type": "execute_result"
    }
   ],
   "source": [
    "negative_errors_count = get_errors_count(negative_src)\n",
    "negative_errors_count"
   ],
   "metadata": {
    "collapsed": false,
    "ExecuteTime": {
     "end_time": "2024-01-12T20:05:13.844979200Z",
     "start_time": "2024-01-12T20:01:18.668872300Z"
    }
   },
   "id": "8daf85ee8411787c",
   "execution_count": 127
  },
  {
   "cell_type": "code",
   "outputs": [
    {
     "data": {
      "text/plain": "(12, 1, 39, 51)"
     },
     "execution_count": 129,
     "metadata": {},
     "output_type": "execute_result"
    }
   ],
   "source": [
    "true_positive = negative_errors_count # ошибка есть и она найдена\n",
    "false_positive = positive_errors_count # ошибки нет, но она найдена\n",
    "true_negative = positive_src[positive_src['is_target'] == True].shape[0] - positive_errors_count # ошибки нет и она не найдена\n",
    "false_negative = negative_src[negative_src['is_target'] == True].shape[0] - negative_errors_count # ошибка есть, но она не найдена\n",
    "\n",
    "true_positive, false_positive, true_negative, false_negative"
   ],
   "metadata": {
    "collapsed": false,
    "ExecuteTime": {
     "end_time": "2024-01-12T20:21:29.675129400Z",
     "start_time": "2024-01-12T20:21:29.647140600Z"
    }
   },
   "id": "2c6005e1a921f11b",
   "execution_count": 129
  },
  {
   "cell_type": "markdown",
   "source": [
    "Посчитаем точность"
   ],
   "metadata": {
    "collapsed": false
   },
   "id": "8b67d07712a5c8e4"
  },
  {
   "cell_type": "code",
   "outputs": [
    {
     "data": {
      "text/plain": "0.9230769230769231"
     },
     "execution_count": 130,
     "metadata": {},
     "output_type": "execute_result"
    }
   ],
   "source": [
    "precision = true_positive / (true_positive + false_positive)\n",
    "\n",
    "precision"
   ],
   "metadata": {
    "collapsed": false,
    "ExecuteTime": {
     "end_time": "2024-01-12T20:22:28.882300600Z",
     "start_time": "2024-01-12T20:22:28.854299600Z"
    }
   },
   "id": "913dc6fc72b2460",
   "execution_count": 130
  },
  {
   "cell_type": "markdown",
   "source": [
    "Посчитаем полноту"
   ],
   "metadata": {
    "collapsed": false
   },
   "id": "c28d883e8236b20e"
  },
  {
   "cell_type": "code",
   "outputs": [
    {
     "data": {
      "text/plain": "0.19047619047619047"
     },
     "execution_count": 131,
     "metadata": {},
     "output_type": "execute_result"
    }
   ],
   "source": [
    "recall = true_positive / (true_positive + false_negative)\n",
    "\n",
    "recall"
   ],
   "metadata": {
    "collapsed": false,
    "ExecuteTime": {
     "end_time": "2024-01-12T20:22:59.777258300Z",
     "start_time": "2024-01-12T20:22:59.744807500Z"
    }
   },
   "id": "c7988077785219fe",
   "execution_count": 131
  },
  {
   "cell_type": "markdown",
   "source": [
    "Посчитаем f1"
   ],
   "metadata": {
    "collapsed": false
   },
   "id": "80be25ba42fb0897"
  },
  {
   "cell_type": "code",
   "outputs": [
    {
     "data": {
      "text/plain": "0.31578947368421056"
     },
     "execution_count": 132,
     "metadata": {},
     "output_type": "execute_result"
    }
   ],
   "source": [
    "f1_score = 2 * precision * recall / (recall + precision)\n",
    "\n",
    "f1_score"
   ],
   "metadata": {
    "collapsed": false,
    "ExecuteTime": {
     "end_time": "2024-01-12T20:23:35.275839600Z",
     "start_time": "2024-01-12T20:23:35.192842700Z"
    }
   },
   "id": "13e29e0ca5e6f1dc",
   "execution_count": 132
  }
 ],
 "metadata": {
  "kernelspec": {
   "display_name": "Python 3",
   "language": "python",
   "name": "python3"
  },
  "language_info": {
   "codemirror_mode": {
    "name": "ipython",
    "version": 2
   },
   "file_extension": ".py",
   "mimetype": "text/x-python",
   "name": "python",
   "nbconvert_exporter": "python",
   "pygments_lexer": "ipython2",
   "version": "2.7.6"
  }
 },
 "nbformat": 4,
 "nbformat_minor": 5
}
