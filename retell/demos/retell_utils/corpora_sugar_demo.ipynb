{
 "cells": [
  {
   "cell_type": "markdown",
   "source": [
    "## Corpora_sugar demo"
   ],
   "metadata": {
    "collapsed": false
   },
   "id": "1e0a1491c20df8a2"
  },
  {
   "cell_type": "code",
   "execution_count": 1,
   "outputs": [],
   "source": [
    "from retell.retell_utils.corpora_sugar import *\n",
    "from pathlib import Path\n",
    "from tg.grammar_ru.corpus import CorpusReader"
   ],
   "metadata": {
    "collapsed": false,
    "ExecuteTime": {
     "end_time": "2023-08-17T18:22:00.857949731Z",
     "start_time": "2023-08-17T18:21:56.740417509Z"
    }
   },
   "id": "1bf774c1bf550fde"
  },
  {
   "cell_type": "markdown",
   "source": [
    "## Для начала - корпус\n",
    "#### Как можно понять из названия - это \"синтаксический сахар\" для корпусов.\n",
    "Для работы необходимо создать экземпляр класса, передав в конструктор корпус(а)."
   ],
   "metadata": {
    "collapsed": false
   },
   "id": "99ea5c7bb3bd6ea0"
  },
  {
   "cell_type": "code",
   "execution_count": 2,
   "outputs": [],
   "source": [
    "retell_corpus = CorpusReader(Path(\"../../featurized_corpuses/All retell.featurized.retell.corpus.zip\"))\n",
    "text_corpus = CorpusReader(Path(\"../../featurized_corpuses/books.featurized.zip\"))\n",
    "eng_retell_corpus = CorpusReader(Path(\"../../featurized_corpuses/eng/Martin.featurized.retell.corpus.zip\"))\n",
    "eng_text_corpus = CorpusReader(Path(\"../../featurized_corpuses/books/eng/Martin.featurized.books.corpus.zip\"))"
   ],
   "metadata": {
    "collapsed": false,
    "ExecuteTime": {
     "end_time": "2023-08-17T18:22:00.879497916Z",
     "start_time": "2023-08-17T18:22:00.860191563Z"
    }
   },
   "id": "f41c5ada48d3ba22"
  },
  {
   "cell_type": "markdown",
   "source": [
    "## Создание\n",
    "#### Передаём полученные корпуса"
   ],
   "metadata": {
    "collapsed": false
   },
   "id": "fcdc172b0f2be2e3"
  },
  {
   "cell_type": "code",
   "execution_count": 3,
   "outputs": [],
   "source": [
    "corpus_sugar = CorpusSugar(text_corpus,retell_corpus)\n",
    "eng_corpus_sugar = CorpusSugar(eng_text_corpus,eng_retell_corpus)"
   ],
   "metadata": {
    "collapsed": false,
    "ExecuteTime": {
     "end_time": "2023-08-17T18:22:01.099632643Z",
     "start_time": "2023-08-17T18:22:00.866616624Z"
    }
   },
   "id": "81450b1d9bd00045"
  },
  {
   "cell_type": "markdown",
   "source": [
    "## Функционал\n",
    "- Получение всех книг автора в форматах: книга, пересказ, краткий пересказ\n",
    "- Получения конкретной книги автора с заданным форматом\n",
    "- Получение конкретной главы книги (всех предложений в ней по его id\n",
    "- Получение пересказа написанного человеком в формате: пересказа, короткого пересказа\n",
    "- Получение нормальной формы(ru-pymorphy) и stem формы (eng-nltk.snowball) всех предложений главы"
   ],
   "metadata": {
    "collapsed": false
   },
   "id": "d9db33e41811ed4c"
  },
  {
   "cell_type": "markdown",
   "source": [
    "### Получение всех книг автора\n",
    "get_books_retell_info_by_author"
   ],
   "metadata": {
    "collapsed": false
   },
   "id": "f7e5df2f91c16721"
  },
  {
   "cell_type": "code",
   "execution_count": 4,
   "outputs": [],
   "source": [
    "books, retell_books, summary_books = corpus_sugar.get_books_retell_info_by_author('Мартин')\n",
    "eng_books, eng_retell_books, _ = eng_corpus_sugar.get_books_retell_info_by_author('Martin')"
   ],
   "metadata": {
    "collapsed": false,
    "ExecuteTime": {
     "end_time": "2023-08-17T18:22:01.410771976Z",
     "start_time": "2023-08-17T18:22:01.104077826Z"
    }
   },
   "id": "7db97fcbfea584c7"
  },
  {
   "cell_type": "code",
   "execution_count": 5,
   "outputs": [
    {
     "data": {
      "text/plain": "                                                         filename  \\\nfile_id                                                             \n57af3a88-680a-43d4-a022-09bc23026182  fantasy/en/Мартин-ПЛИО-3.md   \n\n                                                      timestamp  part_index  \\\nfile_id                                                                       \n57af3a88-680a-43d4-a022-09bc23026182 2022-10-14 22:07:27.516905           1   \n\n                                      token_count  character_count  ordinal  \\\nfile_id                                                                       \n57af3a88-680a-43d4-a022-09bc23026182         6444            26175     1630   \n\n                                                        header_0 header_1  \\\nfile_id                                                                     \n57af3a88-680a-43d4-a022-09bc23026182  ДЖОРДЖ МАРТИН / БУРЯ МЕЧЕЙ   ПРОЛОГ   \n\n                                                                  headers  \\\nfile_id                                                                     \n57af3a88-680a-43d4-a022-09bc23026182  ДЖОРДЖ МАРТИН / БУРЯ МЕЧЕЙ / ПРОЛОГ   \n\n                                        genre original_language  author  \\\nfile_id                                                                   \n57af3a88-680a-43d4-a022-09bc23026182  fantasy                en  Мартин   \n\n                                     series volume    max_id header_2 header_3  \nfile_id                                                                         \n57af3a88-680a-43d4-a022-09bc23026182   ПЛИО      3  22854000     None     None  ",
      "text/html": "<div>\n<style scoped>\n    .dataframe tbody tr th:only-of-type {\n        vertical-align: middle;\n    }\n\n    .dataframe tbody tr th {\n        vertical-align: top;\n    }\n\n    .dataframe thead th {\n        text-align: right;\n    }\n</style>\n<table border=\"1\" class=\"dataframe\">\n  <thead>\n    <tr style=\"text-align: right;\">\n      <th></th>\n      <th>filename</th>\n      <th>timestamp</th>\n      <th>part_index</th>\n      <th>token_count</th>\n      <th>character_count</th>\n      <th>ordinal</th>\n      <th>header_0</th>\n      <th>header_1</th>\n      <th>headers</th>\n      <th>genre</th>\n      <th>original_language</th>\n      <th>author</th>\n      <th>series</th>\n      <th>volume</th>\n      <th>max_id</th>\n      <th>header_2</th>\n      <th>header_3</th>\n    </tr>\n    <tr>\n      <th>file_id</th>\n      <th></th>\n      <th></th>\n      <th></th>\n      <th></th>\n      <th></th>\n      <th></th>\n      <th></th>\n      <th></th>\n      <th></th>\n      <th></th>\n      <th></th>\n      <th></th>\n      <th></th>\n      <th></th>\n      <th></th>\n      <th></th>\n      <th></th>\n    </tr>\n  </thead>\n  <tbody>\n    <tr>\n      <th>57af3a88-680a-43d4-a022-09bc23026182</th>\n      <td>fantasy/en/Мартин-ПЛИО-3.md</td>\n      <td>2022-10-14 22:07:27.516905</td>\n      <td>1</td>\n      <td>6444</td>\n      <td>26175</td>\n      <td>1630</td>\n      <td>ДЖОРДЖ МАРТИН / БУРЯ МЕЧЕЙ</td>\n      <td>ПРОЛОГ</td>\n      <td>ДЖОРДЖ МАРТИН / БУРЯ МЕЧЕЙ / ПРОЛОГ</td>\n      <td>fantasy</td>\n      <td>en</td>\n      <td>Мартин</td>\n      <td>ПЛИО</td>\n      <td>3</td>\n      <td>22854000</td>\n      <td>None</td>\n      <td>None</td>\n    </tr>\n  </tbody>\n</table>\n</div>"
     },
     "metadata": {},
     "output_type": "display_data"
    },
    {
     "data": {
      "text/plain": "                                                                     filename  \\\nfile_id                                                                         \n063b25b0-9629-486f-8c37-25234e51e3a2  Мартин-Игра престолов (роман)-retell.md   \n\n                                                      timestamp  part_index  \\\nfile_id                                                                       \n063b25b0-9629-486f-8c37-25234e51e3a2 2023-04-14 00:00:09.270759           0   \n\n                                      token_count  character_count  ordinal  \\\nfile_id                                                                       \n063b25b0-9629-486f-8c37-25234e51e3a2          631             2976      633   \n\n                                                    header_0  \\\nfile_id                                                        \n063b25b0-9629-486f-8c37-25234e51e3a2  Игра_престолов,_Пролог   \n\n                                                     headers  author  \\\nfile_id                                                                \n063b25b0-9629-486f-8c37-25234e51e3a2  Игра_престолов,_Пролог  Мартин   \n\n                                                   book_name text_type  \\\nfile_id                                                                  \n063b25b0-9629-486f-8c37-25234e51e3a2  Игра престолов (роман)    retell   \n\n                                       max_id  \nfile_id                                        \n063b25b0-9629-486f-8c37-25234e51e3a2  6462295  ",
      "text/html": "<div>\n<style scoped>\n    .dataframe tbody tr th:only-of-type {\n        vertical-align: middle;\n    }\n\n    .dataframe tbody tr th {\n        vertical-align: top;\n    }\n\n    .dataframe thead th {\n        text-align: right;\n    }\n</style>\n<table border=\"1\" class=\"dataframe\">\n  <thead>\n    <tr style=\"text-align: right;\">\n      <th></th>\n      <th>filename</th>\n      <th>timestamp</th>\n      <th>part_index</th>\n      <th>token_count</th>\n      <th>character_count</th>\n      <th>ordinal</th>\n      <th>header_0</th>\n      <th>headers</th>\n      <th>author</th>\n      <th>book_name</th>\n      <th>text_type</th>\n      <th>max_id</th>\n    </tr>\n    <tr>\n      <th>file_id</th>\n      <th></th>\n      <th></th>\n      <th></th>\n      <th></th>\n      <th></th>\n      <th></th>\n      <th></th>\n      <th></th>\n      <th></th>\n      <th></th>\n      <th></th>\n      <th></th>\n    </tr>\n  </thead>\n  <tbody>\n    <tr>\n      <th>063b25b0-9629-486f-8c37-25234e51e3a2</th>\n      <td>Мартин-Игра престолов (роман)-retell.md</td>\n      <td>2023-04-14 00:00:09.270759</td>\n      <td>0</td>\n      <td>631</td>\n      <td>2976</td>\n      <td>633</td>\n      <td>Игра_престолов,_Пролог</td>\n      <td>Игра_престолов,_Пролог</td>\n      <td>Мартин</td>\n      <td>Игра престолов (роман)</td>\n      <td>retell</td>\n      <td>6462295</td>\n    </tr>\n  </tbody>\n</table>\n</div>"
     },
     "metadata": {},
     "output_type": "display_data"
    }
   ],
   "source": [
    "display(books[0].iloc[:1])\n",
    "display(retell_books[1].iloc[:1])"
   ],
   "metadata": {
    "collapsed": false,
    "ExecuteTime": {
     "end_time": "2023-08-17T18:22:01.457820640Z",
     "start_time": "2023-08-17T18:22:01.411693568Z"
    }
   },
   "id": "5ff966731d185ca6"
  },
  {
   "cell_type": "markdown",
   "source": [
    "### Получения конкретной книги автора с заданным форматом"
   ],
   "metadata": {
    "collapsed": false
   },
   "id": "62208eb556904d0f"
  },
  {
   "cell_type": "code",
   "execution_count": 6,
   "outputs": [],
   "source": [
    "book_name = \"Буря мечей\"\n",
    "book, retell_book = [corpus_sugar.get_book_by_name(book_name,corpus_type,'Мартин') for corpus_type in ['book','retell']]"
   ],
   "metadata": {
    "collapsed": false,
    "ExecuteTime": {
     "end_time": "2023-08-17T18:22:01.470901912Z",
     "start_time": "2023-08-17T18:22:01.461599540Z"
    }
   },
   "id": "5b20197ad4102384"
  },
  {
   "cell_type": "code",
   "execution_count": 7,
   "outputs": [
    {
     "data": {
      "text/plain": "                                                         filename  \\\nfile_id                                                             \n57af3a88-680a-43d4-a022-09bc23026182  fantasy/en/Мартин-ПЛИО-3.md   \n\n                                                      timestamp  part_index  \\\nfile_id                                                                       \n57af3a88-680a-43d4-a022-09bc23026182 2022-10-14 22:07:27.516905           1   \n\n                                      token_count  character_count  ordinal  \\\nfile_id                                                                       \n57af3a88-680a-43d4-a022-09bc23026182         6444            26175     1630   \n\n                                                        header_0 header_1  \\\nfile_id                                                                     \n57af3a88-680a-43d4-a022-09bc23026182  ДЖОРДЖ МАРТИН / БУРЯ МЕЧЕЙ   ПРОЛОГ   \n\n                                                                  headers  \\\nfile_id                                                                     \n57af3a88-680a-43d4-a022-09bc23026182  ДЖОРДЖ МАРТИН / БУРЯ МЕЧЕЙ / ПРОЛОГ   \n\n                                        genre original_language  author  \\\nfile_id                                                                   \n57af3a88-680a-43d4-a022-09bc23026182  fantasy                en  Мартин   \n\n                                     series volume    max_id header_2 header_3  \nfile_id                                                                         \n57af3a88-680a-43d4-a022-09bc23026182   ПЛИО      3  22854000     None     None  ",
      "text/html": "<div>\n<style scoped>\n    .dataframe tbody tr th:only-of-type {\n        vertical-align: middle;\n    }\n\n    .dataframe tbody tr th {\n        vertical-align: top;\n    }\n\n    .dataframe thead th {\n        text-align: right;\n    }\n</style>\n<table border=\"1\" class=\"dataframe\">\n  <thead>\n    <tr style=\"text-align: right;\">\n      <th></th>\n      <th>filename</th>\n      <th>timestamp</th>\n      <th>part_index</th>\n      <th>token_count</th>\n      <th>character_count</th>\n      <th>ordinal</th>\n      <th>header_0</th>\n      <th>header_1</th>\n      <th>headers</th>\n      <th>genre</th>\n      <th>original_language</th>\n      <th>author</th>\n      <th>series</th>\n      <th>volume</th>\n      <th>max_id</th>\n      <th>header_2</th>\n      <th>header_3</th>\n    </tr>\n    <tr>\n      <th>file_id</th>\n      <th></th>\n      <th></th>\n      <th></th>\n      <th></th>\n      <th></th>\n      <th></th>\n      <th></th>\n      <th></th>\n      <th></th>\n      <th></th>\n      <th></th>\n      <th></th>\n      <th></th>\n      <th></th>\n      <th></th>\n      <th></th>\n      <th></th>\n    </tr>\n  </thead>\n  <tbody>\n    <tr>\n      <th>57af3a88-680a-43d4-a022-09bc23026182</th>\n      <td>fantasy/en/Мартин-ПЛИО-3.md</td>\n      <td>2022-10-14 22:07:27.516905</td>\n      <td>1</td>\n      <td>6444</td>\n      <td>26175</td>\n      <td>1630</td>\n      <td>ДЖОРДЖ МАРТИН / БУРЯ МЕЧЕЙ</td>\n      <td>ПРОЛОГ</td>\n      <td>ДЖОРДЖ МАРТИН / БУРЯ МЕЧЕЙ / ПРОЛОГ</td>\n      <td>fantasy</td>\n      <td>en</td>\n      <td>Мартин</td>\n      <td>ПЛИО</td>\n      <td>3</td>\n      <td>22854000</td>\n      <td>None</td>\n      <td>None</td>\n    </tr>\n  </tbody>\n</table>\n</div>"
     },
     "metadata": {},
     "output_type": "display_data"
    },
    {
     "data": {
      "text/plain": "                                                         filename  \\\nfile_id                                                             \nb512c9bc-9ff9-46a1-bdb4-9b62736b1452  Мартин-Буря мечей-retell.md   \n\n                                                      timestamp  part_index  \\\nfile_id                                                                       \nb512c9bc-9ff9-46a1-bdb4-9b62736b1452 2023-04-14 00:00:01.113257           0   \n\n                                      token_count  character_count  ordinal  \\\nfile_id                                                                       \nb512c9bc-9ff9-46a1-bdb4-9b62736b1452          343             1591      379   \n\n                                                header_0             headers  \\\nfile_id                                                                        \nb512c9bc-9ff9-46a1-bdb4-9b62736b1452  Буря_мечей,_Пролог  Буря_мечей,_Пролог   \n\n                                      author   book_name text_type   max_id  \nfile_id                                                                      \nb512c9bc-9ff9-46a1-bdb4-9b62736b1452  Мартин  Буря мечей    retell  3854939  ",
      "text/html": "<div>\n<style scoped>\n    .dataframe tbody tr th:only-of-type {\n        vertical-align: middle;\n    }\n\n    .dataframe tbody tr th {\n        vertical-align: top;\n    }\n\n    .dataframe thead th {\n        text-align: right;\n    }\n</style>\n<table border=\"1\" class=\"dataframe\">\n  <thead>\n    <tr style=\"text-align: right;\">\n      <th></th>\n      <th>filename</th>\n      <th>timestamp</th>\n      <th>part_index</th>\n      <th>token_count</th>\n      <th>character_count</th>\n      <th>ordinal</th>\n      <th>header_0</th>\n      <th>headers</th>\n      <th>author</th>\n      <th>book_name</th>\n      <th>text_type</th>\n      <th>max_id</th>\n    </tr>\n    <tr>\n      <th>file_id</th>\n      <th></th>\n      <th></th>\n      <th></th>\n      <th></th>\n      <th></th>\n      <th></th>\n      <th></th>\n      <th></th>\n      <th></th>\n      <th></th>\n      <th></th>\n      <th></th>\n    </tr>\n  </thead>\n  <tbody>\n    <tr>\n      <th>b512c9bc-9ff9-46a1-bdb4-9b62736b1452</th>\n      <td>Мартин-Буря мечей-retell.md</td>\n      <td>2023-04-14 00:00:01.113257</td>\n      <td>0</td>\n      <td>343</td>\n      <td>1591</td>\n      <td>379</td>\n      <td>Буря_мечей,_Пролог</td>\n      <td>Буря_мечей,_Пролог</td>\n      <td>Мартин</td>\n      <td>Буря мечей</td>\n      <td>retell</td>\n      <td>3854939</td>\n    </tr>\n  </tbody>\n</table>\n</div>"
     },
     "metadata": {},
     "output_type": "display_data"
    }
   ],
   "source": [
    "display(book.iloc[:1])\n",
    "display(retell_book.iloc[:1])"
   ],
   "metadata": {
    "collapsed": false,
    "ExecuteTime": {
     "end_time": "2023-08-17T18:22:01.800479781Z",
     "start_time": "2023-08-17T18:22:01.468393635Z"
    }
   },
   "id": "ff18944a3c7cf5c6"
  },
  {
   "cell_type": "markdown",
   "source": [
    "### Получение конкретной главы книги (всех предложений в ней) по id\n",
    "\n",
    "Можно указать откуда брать главу - из пересказа или из книги"
   ],
   "metadata": {
    "collapsed": false
   },
   "id": "765e61e072022dab"
  },
  {
   "cell_type": "code",
   "execution_count": 8,
   "outputs": [
    {
     "data": {
      "text/plain": "'57af3a88-680a-43d4-a022-09bc23026182'"
     },
     "metadata": {},
     "output_type": "display_data"
    },
    {
     "data": {
      "text/plain": "'b512c9bc-9ff9-46a1-bdb4-9b62736b1452'"
     },
     "metadata": {},
     "output_type": "display_data"
    }
   ],
   "source": [
    "chapter_id, retell_chapter_id = book.index[0],retell_book.index[0]\n",
    "display(chapter_id)\n",
    "display(retell_chapter_id)"
   ],
   "metadata": {
    "collapsed": false,
    "ExecuteTime": {
     "end_time": "2023-08-17T18:22:01.801084773Z",
     "start_time": "2023-08-17T18:22:01.539899612Z"
    }
   },
   "id": "3a83d35592bf2313"
  },
  {
   "cell_type": "code",
   "execution_count": 9,
   "outputs": [
    {
     "data": {
      "text/plain": "'День был серый , стоял жестокий холод , и собаки не хотели брать след .Большая черная сука , понюхав отпечатки медвежьих лап , поджала хвост и отошла к сбившейся в кучу стае .'"
     },
     "execution_count": 9,
     "metadata": {},
     "output_type": "execute_result"
    }
   ],
   "source": [
    "''.join([' '.join(sent) for sent in corpus_sugar.get_sentences(chapter_id)[:2]])"
   ],
   "metadata": {
    "collapsed": false,
    "ExecuteTime": {
     "end_time": "2023-08-17T18:22:02.216991230Z",
     "start_time": "2023-08-17T18:22:01.540175945Z"
    }
   },
   "id": "d754ee6db3d0d6b9"
  },
  {
   "cell_type": "code",
   "execution_count": 10,
   "outputs": [
    {
     "data": {
      "text/plain": "'Ненависть Четта к Джону Сноу и Сэмвеллу Тарли достигает предела .Четт был помощником мейстера Эймона .'"
     },
     "execution_count": 10,
     "metadata": {},
     "output_type": "execute_result"
    }
   ],
   "source": [
    "''.join([' '.join(sent) for sent in corpus_sugar.get_sentences(retell_chapter_id, corpus_type='retell')[:2]])"
   ],
   "metadata": {
    "collapsed": false,
    "ExecuteTime": {
     "end_time": "2023-08-17T18:22:02.450585402Z",
     "start_time": "2023-08-17T18:22:02.118942500Z"
    }
   },
   "id": "2a22417cfae69ecb"
  },
  {
   "cell_type": "markdown",
   "source": [
    "### Получение пересказа написанного человеком в формате: пересказа, короткого пересказа\n",
    "\n",
    "Если книга не указана, то берётся первая книга с указанным типом пересказа."
   ],
   "metadata": {
    "collapsed": false
   },
   "id": "1968a0d0a91f562"
  },
  {
   "cell_type": "code",
   "execution_count": 11,
   "outputs": [
    {
     "name": "stdout",
     "output_type": "stream",
     "text": [
      "Ненависть Четта к Джону Сноу и Сэмвеллу Тарли достигает предела .\n",
      "Четт был помощником мейстера Эймона .\n",
      "Служба была лучшим , что он изведал в жизни .\n",
      "Мейстер был нетребователен .\n",
      "Четт только прибирался у воронов , разводил огонь и подавал еду .\n"
     ]
    }
   ],
   "source": [
    "print(\n",
    "    corpus_sugar.get_true_retell(\n",
    "        author_name='Мартин', retell_type='retell', retell_detail=5,book_name=book_name)[0]\n",
    ")"
   ],
   "metadata": {
    "collapsed": false,
    "ExecuteTime": {
     "end_time": "2023-08-17T18:22:09.955949499Z",
     "start_time": "2023-08-17T18:22:02.250120337Z"
    }
   },
   "id": "cfb622287fcdb736"
  },
  {
   "cell_type": "markdown",
   "source": [
    "### Получение нормальной формы(ru-pymorphy) предложений главы\n",
    "Так же можно указать тип корпуса (книга, пересказ)"
   ],
   "metadata": {
    "collapsed": false
   },
   "id": "77cdce4e8c3f889b"
  },
  {
   "cell_type": "code",
   "execution_count": 12,
   "outputs": [],
   "source": [
    "sentences, norm_form_sentences = corpus_sugar.get_sentences_with_norm_form(chapter_id)"
   ],
   "metadata": {
    "collapsed": false,
    "ExecuteTime": {
     "end_time": "2023-08-17T18:22:11.003428927Z",
     "start_time": "2023-08-17T18:22:09.956743091Z"
    }
   },
   "id": "e9cb9d911bf6c218"
  },
  {
   "cell_type": "code",
   "execution_count": 13,
   "outputs": [
    {
     "data": {
      "text/plain": "'День был серый , стоял жестокий холод , и собаки не хотели брать след .'"
     },
     "metadata": {},
     "output_type": "display_data"
    },
    {
     "data": {
      "text/plain": "'день быть серый , стоять жестокий холод , и собака не хотеть брать след .'"
     },
     "metadata": {},
     "output_type": "display_data"
    }
   ],
   "source": [
    "display(' '.join(sentences[0]))\n",
    "display(' '.join(norm_form_sentences[0].values))"
   ],
   "metadata": {
    "collapsed": false,
    "ExecuteTime": {
     "end_time": "2023-08-17T18:22:11.015294856Z",
     "start_time": "2023-08-17T18:22:11.006848244Z"
    }
   },
   "id": "ccded8829bc8cdad"
  },
  {
   "cell_type": "markdown",
   "source": [
    "### Получение stem формы (eng-nltk.snowball) предложений главы\n",
    "Так же можно указать тип корпуса (книга, пересказ)"
   ],
   "metadata": {
    "collapsed": false
   },
   "id": "8e2e74137349ed70"
  },
  {
   "cell_type": "code",
   "execution_count": 14,
   "outputs": [
    {
     "data": {
      "text/plain": "'1104469b-e276-4909-a3ad-3ae962833bba'"
     },
     "metadata": {},
     "output_type": "display_data"
    },
    {
     "data": {
      "text/plain": "'aebf9cd8-770e-4f4c-9778-77166d4ee87d'"
     },
     "metadata": {},
     "output_type": "display_data"
    }
   ],
   "source": [
    "eng_chapter_id, eng_retell_chapter_id = eng_books[0].index[0],eng_retell_books[0].index[0]\n",
    "display(eng_chapter_id)\n",
    "display(eng_retell_chapter_id)"
   ],
   "metadata": {
    "collapsed": false,
    "ExecuteTime": {
     "end_time": "2023-08-17T18:22:11.092314128Z",
     "start_time": "2023-08-17T18:22:11.022265418Z"
    }
   },
   "id": "9c56b9131e176b54"
  },
  {
   "cell_type": "code",
   "execution_count": 15,
   "outputs": [],
   "source": [
    "eng_sentences, stem_form_sentences = eng_corpus_sugar.get_sentences_with_stem_form(eng_retell_chapter_id,corpus_type='retell')"
   ],
   "metadata": {
    "collapsed": false,
    "ExecuteTime": {
     "end_time": "2023-08-17T18:22:11.216026885Z",
     "start_time": "2023-08-17T18:22:11.062427687Z"
    }
   },
   "id": "336dcc05f21b5167"
  },
  {
   "cell_type": "code",
   "execution_count": 16,
   "outputs": [
    {
     "data": {
      "text/plain": "'At the same time , hot steam has begun to issue from vents beneath the Dragonmont volcano , and a white raven has arrived from the Citadel , declaring the end of the longest summer in living memory ; too many omens to deny .'"
     },
     "metadata": {},
     "output_type": "display_data"
    },
    {
     "data": {
      "text/plain": "'at the same time , hot steam has begun to issu from vent beneath the dragonmont volcano , and a white raven has arriv from the citadel , declar the end of the longest summer in live memori ; too mani omen to deni .'"
     },
     "metadata": {},
     "output_type": "display_data"
    }
   ],
   "source": [
    "display(' '.join(eng_sentences[3]))\n",
    "display(' '.join(stem_form_sentences[3].values))"
   ],
   "metadata": {
    "collapsed": false,
    "ExecuteTime": {
     "end_time": "2023-08-17T18:22:11.230438828Z",
     "start_time": "2023-08-17T18:22:11.219497392Z"
    }
   },
   "id": "d961a72e385c7f48"
  },
  {
   "cell_type": "code",
   "execution_count": 16,
   "outputs": [],
   "source": [],
   "metadata": {
    "collapsed": false,
    "ExecuteTime": {
     "end_time": "2023-08-17T18:22:11.233442240Z",
     "start_time": "2023-08-17T18:22:11.229706450Z"
    }
   },
   "id": "9003a5f66a389ff5"
  }
 ],
 "metadata": {
  "kernelspec": {
   "display_name": "Python 3",
   "language": "python",
   "name": "python3"
  },
  "language_info": {
   "codemirror_mode": {
    "name": "ipython",
    "version": 2
   },
   "file_extension": ".py",
   "mimetype": "text/x-python",
   "name": "python",
   "nbconvert_exporter": "python",
   "pygments_lexer": "ipython2",
   "version": "2.7.6"
  }
 },
 "nbformat": 4,
 "nbformat_minor": 5
}
