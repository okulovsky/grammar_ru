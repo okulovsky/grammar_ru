{
 "cells": [
  {
   "cell_type": "code",
   "execution_count": 1,
   "id": "initial_id",
   "metadata": {
    "collapsed": true,
    "ExecuteTime": {
     "end_time": "2024-03-25T09:45:26.199842Z",
     "start_time": "2024-03-25T09:45:26.177747Z"
    }
   },
   "outputs": [],
   "source": [
    "import zipfile\n",
    "from pathlib import Path\n",
    "import os\n"
   ]
  },
  {
   "cell_type": "code",
   "outputs": [],
   "source": [
    "#tg/grammar_ru/corpus/formats\n",
    "tg_path = Path(\"/home/mixailkys/Загрузки/Telegram Desktop/\")\n",
    "extract_to = Path(\"/home/mixailkys/Dataspell_projects/grammar_ru/diplom/data\")"
   ],
   "metadata": {
    "collapsed": false,
    "ExecuteTime": {
     "end_time": "2024-03-25T09:45:26.212606Z",
     "start_time": "2024-03-25T09:45:26.206092Z"
    }
   },
   "id": "7c3892c5755df6ac",
   "execution_count": 2
  },
  {
   "cell_type": "code",
   "outputs": [],
   "source": [
    "def extract_fb2(prefix, path_to_extract_to):\n",
    "    prefixed = [filename for filename in os.listdir(tg_path) if filename.startswith(prefix)]\n",
    "    for file in prefixed:\n",
    "        with zipfile.ZipFile(tg_path / file, 'r') as zip_ref:\n",
    "            zip_ref.extractall(path_to_extract_to)\n",
    "\n",
    "def reaname_unzipped(extract_to,series):\n",
    "    extracted_files = os.listdir(extract_to)\n",
    "    for file in extracted_files:\n",
    "        file_name = file\n",
    "        rename_to = file.split('-')\n",
    "        rename_to = rename_to[:1] + [series.lower()] + rename_to[2:]\n",
    "        rename_to = '-'.join(rename_to)\n",
    "        os.rename(extract_to / file_name, extract_to / rename_to)"
   ],
   "metadata": {
    "collapsed": false,
    "ExecuteTime": {
     "end_time": "2024-03-19T11:45:13.839117Z",
     "start_time": "2024-03-19T11:45:13.822957Z"
    }
   },
   "id": "e61d7671cc2f3e1d",
   "execution_count": 10
  },
  {
   "cell_type": "code",
   "outputs": [],
   "source": [
    "from tg.grammar_ru.corpus.formats.fb2_scripts import Fb2Scripts"
   ],
   "metadata": {
    "collapsed": false,
    "ExecuteTime": {
     "end_time": "2024-03-19T10:37:45.826239Z",
     "start_time": "2024-03-19T10:37:38.880801Z"
    }
   },
   "id": "508c6c5a3d732399",
   "execution_count": 4
  },
  {
   "cell_type": "code",
   "outputs": [],
   "source": [
    "b_p = tg_path/'dzhoan_rouling-harry_potter_and_the_chamb.zip'\n",
    "Fb2Scripts.convert_file(b_p,tg_path,extract_to/'Rowling'/'md')"
   ],
   "metadata": {
    "collapsed": false,
    "ExecuteTime": {
     "end_time": "2024-03-19T10:26:04.472407Z",
     "start_time": "2024-03-19T10:26:04.239203Z"
    }
   },
   "id": "323f974e52b7fa2b",
   "execution_count": 44
  },
  {
   "cell_type": "code",
   "outputs": [],
   "source": [
    "authors = ['Djordan','Rowling','Martin']\n",
    "serieses = ['The Wheel of Time','Harry Potter','A Song of Ice and Fire']"
   ],
   "metadata": {
    "collapsed": false,
    "ExecuteTime": {
     "end_time": "2024-03-19T11:43:02.026234Z",
     "start_time": "2024-03-19T11:43:02.021474Z"
    }
   },
   "id": "77cfd2ca79b6ca6b",
   "execution_count": 5
  },
  {
   "cell_type": "code",
   "outputs": [],
   "source": [
    "for series, author in zip(serieses,authors):\n",
    "    rename_to = extract_to / author / 'md'\n",
    "    reaname_unzipped(rename_to,series)"
   ],
   "metadata": {
    "collapsed": false,
    "ExecuteTime": {
     "end_time": "2024-03-19T11:45:15.623215Z",
     "start_time": "2024-03-19T11:45:15.608758Z"
    }
   },
   "id": "86a5711dbd30dc00",
   "execution_count": 11
  },
  {
   "cell_type": "code",
   "outputs": [
    {
     "data": {
      "text/plain": "PosixPath('/home/mixailkys/Dataspell_projects/grammar_ru/diplom/data')"
     },
     "execution_count": 39,
     "metadata": {},
     "output_type": "execute_result"
    }
   ],
   "source": [
    "extract_to"
   ],
   "metadata": {
    "collapsed": false,
    "ExecuteTime": {
     "end_time": "2024-03-19T10:05:18.588692Z",
     "start_time": "2024-03-19T10:05:18.581766Z"
    }
   },
   "id": "636de5c35405b84a",
   "execution_count": 39
  },
  {
   "cell_type": "code",
   "outputs": [],
   "source": [
    "author = 'Rowling'\n",
    "from_ = extract_to / author / 'zip'\n",
    "to_ = extract_to / author / 'md'\n",
    "Fb2Scripts.convert_all(from_, to_)"
   ],
   "metadata": {
    "collapsed": false,
    "ExecuteTime": {
     "end_time": "2024-03-19T10:22:31.725288Z",
     "start_time": "2024-03-19T10:22:29.815411Z"
    }
   },
   "id": "cf30c074d3cb5ae6",
   "execution_count": 43
  },
  {
   "cell_type": "code",
   "outputs": [],
   "source": "from grammar_ru.corpus import CorpusBuilder",
   "metadata": {
    "collapsed": false,
    "ExecuteTime": {
     "end_time": "2024-03-25T09:45:42.322631Z",
     "start_time": "2024-03-25T09:45:40.272353Z"
    }
   },
   "id": "920815b1b1b1017",
   "execution_count": 3
  },
  {
   "cell_type": "code",
   "outputs": [],
   "source": [
    "path_to_diplom = Path(\"/home/mixailkys/Dataspell_projects/grammar_ru/diplom\")\n",
    "path_to_corpora = path_to_diplom / 'corpora'\n",
    "path_to_data = path_to_diplom / 'data'"
   ],
   "metadata": {
    "collapsed": false,
    "ExecuteTime": {
     "end_time": "2024-03-25T09:45:43.685300Z",
     "start_time": "2024-03-25T09:45:43.678970Z"
    }
   },
   "id": "5ac3d887ca16df27",
   "execution_count": 4
  },
  {
   "cell_type": "code",
   "outputs": [
    {
     "data": {
      "text/plain": "  0%|          | 0/27 [00:00<?, ?it/s]",
      "application/vnd.jupyter.widget-view+json": {
       "version_major": 2,
       "version_minor": 0,
       "model_id": "5a217c645b204b418e8b80b23fae5d52"
      }
     },
     "metadata": {},
     "output_type": "display_data"
    }
   ],
   "source": [
    "path_to_authors = extract_to / 'to_corpus'\n",
    "CorpusBuilder.convert_interformat_folder_to_corpus(\n",
    "    Path(path_to_corpora /'diplom.base.zip'),\n",
    "    path_to_authors,\n",
    "    ['author','series','book_name','id_in_series']\n",
    ")"
   ],
   "metadata": {
    "collapsed": false,
    "ExecuteTime": {
     "end_time": "2024-03-25T09:55:28.440923Z",
     "start_time": "2024-03-25T09:45:47.738238Z"
    }
   },
   "id": "6ecf6304f2ada070",
   "execution_count": 5
  },
  {
   "cell_type": "code",
   "outputs": [],
   "source": [
    "from tg.grammar_ru.corpus import CorpusReader"
   ],
   "metadata": {
    "collapsed": false,
    "ExecuteTime": {
     "end_time": "2024-03-19T12:04:24.050125Z",
     "start_time": "2024-03-19T12:04:24.042808Z"
    }
   },
   "id": "74707b7b017152ef",
   "execution_count": 16
  },
  {
   "cell_type": "code",
   "outputs": [],
   "source": [
    "corpus = CorpusReader(path_to_corpora/'diplom.base.zip')"
   ],
   "metadata": {
    "collapsed": false,
    "ExecuteTime": {
     "end_time": "2024-03-19T12:04:52.145548Z",
     "start_time": "2024-03-19T12:04:52.141432Z"
    }
   },
   "id": "9e714e963aca3f67",
   "execution_count": 17
  },
  {
   "cell_type": "code",
   "outputs": [],
   "source": [],
   "metadata": {
    "collapsed": false,
    "ExecuteTime": {
     "end_time": "2024-03-19T12:05:00.240252Z",
     "start_time": "2024-03-19T12:05:00.234468Z"
    }
   },
   "id": "f93907f789f11597",
   "execution_count": 17
  }
 ],
 "metadata": {
  "kernelspec": {
   "display_name": "Python 3",
   "language": "python",
   "name": "python3"
  },
  "language_info": {
   "codemirror_mode": {
    "name": "ipython",
    "version": 2
   },
   "file_extension": ".py",
   "mimetype": "text/x-python",
   "name": "python",
   "nbconvert_exporter": "python",
   "pygments_lexer": "ipython2",
   "version": "2.7.6"
  }
 },
 "nbformat": 4,
 "nbformat_minor": 5
}
