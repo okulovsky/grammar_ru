{
 "cells": [
  {
   "cell_type": "code",
   "id": "initial_id",
   "metadata": {
    "collapsed": true,
    "ExecuteTime": {
     "end_time": "2024-05-03T12:07:15.746180Z",
     "start_time": "2024-05-03T12:07:11.614429Z"
    }
   },
   "source": [
    "from pathlib import Path\n",
    "import os\n",
    "import pandas as pd\n",
    "import numpy as np\n",
    "from tqdm.auto import tqdm\n",
    "from grammar_ru.corpus import CorpusReader, CorpusBuilder\n",
    "from diplom.utils.corpus_utils import CorpusFramework\n",
    "from diplom.utils.dialog_markuper import DialogMarkupFeaturizer\n",
    "#from diplom.utils.speech_action_maker import SpeechActionFeaturizer\n",
    "import matplotlib.pyplot as plt\n",
    "from torch.nn.functional import cosine_similarity\n",
    "from collections import defaultdict\n",
    "import torch\n",
    "#reported speach. "
   ],
   "execution_count": 1,
   "outputs": []
  },
  {
   "metadata": {
    "ExecuteTime": {
     "end_time": "2024-05-03T12:07:15.759845Z",
     "start_time": "2024-05-03T12:07:15.748065Z"
    }
   },
   "cell_type": "code",
   "source": "torch.cuda.get_device_properties(0)",
   "id": "af7f10c768773ab8",
   "execution_count": 2,
   "outputs": []
  },
  {
   "metadata": {
    "ExecuteTime": {
     "end_time": "2024-05-03T12:07:15.768348Z",
     "start_time": "2024-05-03T12:07:15.764291Z"
    }
   },
   "cell_type": "code",
   "source": "device = torch.device('cuda:0')",
   "id": "802d4ce2740e70e1",
   "execution_count": 3,
   "outputs": []
  },
  {
   "metadata": {
    "ExecuteTime": {
     "end_time": "2024-05-03T12:07:15.777315Z",
     "start_time": "2024-05-03T12:07:15.771566Z"
    }
   },
   "cell_type": "code",
   "source": [
    "path_corpus = Path(f\"./data/corpora/diplom.wow.zip\")\n",
    "corpus = CorpusReader(path_corpus)\n",
    "corpus_framework = CorpusFramework(corpus)"
   ],
   "id": "2552c378dddff17f",
   "execution_count": 4,
   "outputs": []
  },
  {
   "metadata": {
    "ExecuteTime": {
     "end_time": "2024-05-03T12:07:15.874053Z",
     "start_time": "2024-05-03T12:07:15.779233Z"
    }
   },
   "cell_type": "code",
   "source": "authors = corpus.get_toc().author.unique()",
   "id": "3cd0686fc96687bd",
   "execution_count": 5,
   "outputs": []
  },
  {
   "metadata": {
    "ExecuteTime": {
     "end_time": "2024-05-03T12:07:15.879140Z",
     "start_time": "2024-05-03T12:07:15.875401Z"
    }
   },
   "cell_type": "code",
   "source": [
    "# whole_dataset = []\n",
    "# \n",
    "# for author in tqdm(authors):\n",
    "#     series_count = len(corpus_framework.get_books_by_author(author))\n",
    "#     for book_id in range(series_count):\n",
    "#         try:\n",
    "#             book = corpus_framework.get_book_by_author_and_series_id(author, book_id)\n",
    "#         except IndexError:\n",
    "#             print(f\"Не нашлась книга {book_id} для {author}, проверить df\")\n",
    "#             continue\n",
    "#         chapters_count = len(book)\n",
    "#         for chapter_id in range(chapters_count):\n",
    "#             chapter = corpus_framework.get_chapter_as_bundle(book, chapter_id)\n",
    "#             whole_dataset.append(chapter)"
   ],
   "id": "708a58656545f39f",
   "execution_count": 6,
   "outputs": []
  },
  {
   "metadata": {
    "ExecuteTime": {
     "end_time": "2024-05-03T12:07:15.884835Z",
     "start_time": "2024-05-03T12:07:15.881286Z"
    }
   },
   "cell_type": "code",
   "source": "# text_corpus = pd.concat([d.speech_action for d in whole_dataset])",
   "id": "1812fcbbd01f8930",
   "execution_count": 7,
   "outputs": []
  },
  {
   "metadata": {
    "ExecuteTime": {
     "end_time": "2024-05-03T12:07:15.890216Z",
     "start_time": "2024-05-03T12:07:15.886697Z"
    }
   },
   "cell_type": "code",
   "source": [
    "# text_corpus = text_corpus.reset_index(drop=True)#.to_csv('text_corpus.csv')\n",
    "# text_corpus.sample_id = text_corpus.index\n",
    "# text_corpus.to_csv('text_corpus.csv', index=False)"
   ],
   "id": "ae8b7bbd8c483751",
   "execution_count": 8,
   "outputs": []
  },
  {
   "metadata": {
    "ExecuteTime": {
     "end_time": "2024-05-03T12:07:15.939269Z",
     "start_time": "2024-05-03T12:07:15.892417Z"
    }
   },
   "cell_type": "code",
   "source": "text_corpus = pd.read_csv('text_corpus.csv')",
   "id": "6dd526366be13cbc",
   "execution_count": 9,
   "outputs": []
  },
  {
   "metadata": {
    "ExecuteTime": {
     "end_time": "2024-05-03T12:07:15.959614Z",
     "start_time": "2024-05-03T12:07:15.945152Z"
    }
   },
   "cell_type": "code",
   "source": [
    "labels = text_corpus['action'].unique().tolist()\n",
    "labels = [s.strip() for s in labels ]\n",
    "labels"
   ],
   "id": "af297910b9ef2c54",
   "execution_count": 10,
   "outputs": []
  },
  {
   "metadata": {
    "ExecuteTime": {
     "end_time": "2024-05-03T12:07:15.965847Z",
     "start_time": "2024-05-03T12:07:15.961615Z"
    }
   },
   "cell_type": "code",
   "source": [
    "NUM_LABELS= len(labels)\n",
    "\n",
    "id2label={id:label for id,label in enumerate(labels)}\n",
    "\n",
    "label2id={label:id for id,label in enumerate(labels)}"
   ],
   "id": "d42467760c27ca78",
   "execution_count": 11,
   "outputs": []
  },
  {
   "metadata": {
    "ExecuteTime": {
     "end_time": "2024-05-03T12:07:15.988491Z",
     "start_time": "2024-05-03T12:07:15.967750Z"
    }
   },
   "cell_type": "code",
   "source": "text_corpus[\"labels\"]=text_corpus.action.map(lambda x: label2id[x.strip()])",
   "id": "8f436488ab5a09d0",
   "execution_count": 12,
   "outputs": []
  },
  {
   "metadata": {
    "ExecuteTime": {
     "end_time": "2024-05-03T12:07:15.996249Z",
     "start_time": "2024-05-03T12:07:15.990589Z"
    }
   },
   "cell_type": "code",
   "source": [
    "pie_count = lambda x: '{:.0f}'.format(x * (text_corpus['action'].count()) / 100)\n",
    "pie_count_without_said = lambda x: '{:.0f}'.format(x * (text_corpus.loc[text_corpus.action != 'said','action'].count()) / 100)"
   ],
   "id": "efd721522440596e",
   "execution_count": 13,
   "outputs": []
  },
  {
   "metadata": {
    "ExecuteTime": {
     "end_time": "2024-05-03T12:47:48.546938Z",
     "start_time": "2024-05-03T12:47:48.533740Z"
    }
   },
   "cell_type": "code",
   "source": "text_corpus.loc[text_corpus.action=='say','speech']",
   "id": "b4ee7191a35c0a77",
   "execution_count": 48,
   "outputs": []
  },
  {
   "metadata": {},
   "cell_type": "markdown",
   "source": "# Диаграмма со всеми словами",
   "id": "1e906a83b1e97fb9"
  },
  {
   "metadata": {
    "ExecuteTime": {
     "end_time": "2024-05-03T12:07:18.678559Z",
     "start_time": "2024-05-03T12:07:15.998666Z"
    }
   },
   "cell_type": "code",
   "source": "text_corpus.action.value_counts().plot(kind='pie', figsize=(10,10),autopct=pie_count)",
   "id": "17989cbd2d8829a4",
   "execution_count": 14,
   "outputs": []
  },
  {
   "metadata": {},
   "cell_type": "markdown",
   "source": "# Диаграмма без said",
   "id": "f59c8fdd182cd2dd"
  },
  {
   "metadata": {
    "ExecuteTime": {
     "end_time": "2024-05-03T12:07:21.548115Z",
     "start_time": "2024-05-03T12:07:18.680378Z"
    }
   },
   "cell_type": "code",
   "source": "text_corpus.loc[text_corpus.action != 'said','action'].value_counts().plot(kind='pie', figsize=(10,10),autopct=pie_count_without_said)",
   "id": "b2be0383b5b15c5f",
   "execution_count": 15,
   "outputs": []
  },
  {
   "metadata": {},
   "cell_type": "markdown",
   "source": "# Токенизация",
   "id": "e84e0b5e7641945d"
  },
  {
   "metadata": {},
   "cell_type": "markdown",
   "source": "### Сохраняю в файлик спич, чтоб потом обучать токенайзер",
   "id": "20a812dac9311aa9"
  },
  {
   "metadata": {
    "ExecuteTime": {
     "end_time": "2024-05-03T12:07:21.555585Z",
     "start_time": "2024-05-03T12:07:21.550219Z"
    }
   },
   "cell_type": "code",
   "source": "#np.savetxt(r'speechs.txt', text_corpus.speech.values, fmt='%s')",
   "id": "9109a7ed19af23ec",
   "execution_count": 16,
   "outputs": []
  },
  {
   "metadata": {
    "ExecuteTime": {
     "end_time": "2024-05-03T12:07:22.314360Z",
     "start_time": "2024-05-03T12:07:21.558568Z"
    }
   },
   "cell_type": "code",
   "source": [
    "from transformers import AutoTokenizer\n",
    "\n",
    "tokenizer = AutoTokenizer.from_pretrained(\"distilbert/distilbert-base-uncased\")"
   ],
   "id": "d3cf02bfe421ca3e",
   "execution_count": 17,
   "outputs": []
  },
  {
   "metadata": {
    "ExecuteTime": {
     "end_time": "2024-05-03T12:07:23.200891Z",
     "start_time": "2024-05-03T12:07:22.315664Z"
    }
   },
   "cell_type": "code",
   "source": [
    "iterator = text_corpus.speech.values\n",
    "\n",
    "tokenizer.train_new_from_iterator(iterator, vocab_size=30522)"
   ],
   "id": "a3a82d51bd1b1fa4",
   "execution_count": 18,
   "outputs": []
  },
  {
   "metadata": {
    "ExecuteTime": {
     "end_time": "2024-05-03T12:07:23.275297Z",
     "start_time": "2024-05-03T12:07:23.203023Z"
    }
   },
   "cell_type": "code",
   "source": "tokenizer.save_pretrained('best_bert_tokenizer')",
   "id": "20cd714ff2d8c538",
   "execution_count": 19,
   "outputs": []
  },
  {
   "metadata": {
    "ExecuteTime": {
     "end_time": "2024-05-03T12:07:23.314202Z",
     "start_time": "2024-05-03T12:07:23.277628Z"
    }
   },
   "cell_type": "code",
   "source": "tokenizer = AutoTokenizer.from_pretrained('best_bert_tokenizer')",
   "id": "7d79be7887c48a7",
   "execution_count": 20,
   "outputs": []
  },
  {
   "metadata": {
    "ExecuteTime": {
     "end_time": "2024-05-03T12:07:23.323531Z",
     "start_time": "2024-05-03T12:07:23.316002Z"
    }
   },
   "cell_type": "code",
   "source": "tokenizer.tokenize(\"\"\"I wasn't sleeping, my Lord,\"\"\")",
   "id": "74b184d40a9ca2d4",
   "execution_count": 21,
   "outputs": []
  },
  {
   "metadata": {
    "ExecuteTime": {
     "end_time": "2024-05-23T09:44:30.536984Z",
     "start_time": "2024-05-23T09:44:27.540271Z"
    }
   },
   "cell_type": "code",
   "source": [
    "import datasets\n",
    "\n",
    "dataset = datasets.Dataset.from_pandas(text_corpus.drop(['sample_id','action'], axis=1).rename({'speech':'text'}, axis=1))"
   ],
   "id": "801b23fa4607424b",
   "execution_count": 1,
   "outputs": []
  },
  {
   "metadata": {
    "ExecuteTime": {
     "end_time": "2024-05-03T12:07:23.555016Z",
     "start_time": "2024-05-03T12:07:23.550651Z"
    }
   },
   "cell_type": "code",
   "source": [
    "def tokenize_function(examples):\n",
    "    return tokenizer(examples[\"text\"], padding=\"max_length\", truncation=True)"
   ],
   "id": "ee9a57a086082be2",
   "execution_count": 23,
   "outputs": []
  },
  {
   "metadata": {
    "ExecuteTime": {
     "end_time": "2024-05-03T12:07:24.637165Z",
     "start_time": "2024-05-03T12:07:23.557165Z"
    }
   },
   "cell_type": "code",
   "source": "tokenized_datasets = dataset.map(tokenize_function, batched=True)",
   "id": "e85a497fce422484",
   "execution_count": 24,
   "outputs": []
  },
  {
   "metadata": {
    "ExecuteTime": {
     "end_time": "2024-05-03T12:07:24.659847Z",
     "start_time": "2024-05-03T12:07:24.638924Z"
    }
   },
   "cell_type": "code",
   "source": [
    "dict_set = tokenized_datasets.train_test_split(test_size=0.1,train_size=0.9)\n",
    "train_dataset, test_dataset = dict_set['train'], dict_set['test']"
   ],
   "id": "edb0000c0032e1b7",
   "execution_count": 25,
   "outputs": []
  },
  {
   "metadata": {
    "ExecuteTime": {
     "end_time": "2024-05-03T12:07:24.880573Z",
     "start_time": "2024-05-03T12:07:24.661465Z"
    }
   },
   "cell_type": "code",
   "source": [
    "from transformers import DistilBertConfig, DistilBertForSequenceClassification, DataCollatorWithPadding\n",
    "\n",
    "config = DistilBertConfig(\n",
    "    vocab_size=30522,\n",
    "    dim=256,\n",
    "    hidden_dim=256,\n",
    "    num_labels=NUM_LABELS,\n",
    "    n_heads=4,\n",
    "    n_layers=2,\n",
    ")\n",
    "\n",
    "model = DistilBertForSequenceClassification(config)\n",
    "print('No of parameters: ', model.num_parameters())\n",
    "\n",
    "\n",
    "data_collator = DataCollatorWithPadding(tokenizer=tokenizer)"
   ],
   "id": "a56d325ac30d1ddc",
   "execution_count": 26,
   "outputs": []
  },
  {
   "metadata": {
    "ExecuteTime": {
     "end_time": "2024-05-03T12:07:25.222778Z",
     "start_time": "2024-05-03T12:07:24.882288Z"
    }
   },
   "cell_type": "code",
   "source": [
    "from transformers import Trainer, TrainingArguments\n",
    "\n",
    "training_args = TrainingArguments(\n",
    "    output_dir='custom_bert_output/',\n",
    "    overwrite_output_dir=True,\n",
    "    num_train_epochs=1,\n",
    "    per_device_train_batch_size=4,#16,\n",
    "    save_steps=10_000,\n",
    "    save_total_limit=2,\n",
    "    prediction_loss_only=True,\n",
    "    report_to=['none'],\n",
    ")\n",
    "\n",
    "trainer = Trainer(\n",
    "    model=model,\n",
    "    args=training_args,\n",
    "    data_collator=data_collator,\n",
    "    train_dataset=train_dataset,\n",
    ")"
   ],
   "id": "4ab37a21bacb5c66",
   "execution_count": 27,
   "outputs": []
  },
  {
   "metadata": {
    "ExecuteTime": {
     "end_time": "2024-05-03T12:10:53.110175Z",
     "start_time": "2024-05-03T12:08:52.139200Z"
    }
   },
   "cell_type": "code",
   "source": "trainer.train()",
   "id": "4df17d77864e9a01",
   "execution_count": 28,
   "outputs": []
  },
  {
   "metadata": {
    "ExecuteTime": {
     "end_time": "2024-05-03T12:17:53.506400Z",
     "start_time": "2024-05-03T12:17:53.434892Z"
    }
   },
   "cell_type": "code",
   "source": "trainer.save_model('custom_bert_output/')",
   "id": "e96b557c7ce1e5e6",
   "execution_count": 29,
   "outputs": []
  },
  {
   "metadata": {
    "ExecuteTime": {
     "end_time": "2024-05-03T12:18:08.755272Z",
     "start_time": "2024-05-03T12:18:08.598563Z"
    }
   },
   "cell_type": "code",
   "source": "test_model = DistilBertForSequenceClassification.from_pretrained('custom_bert_output/')",
   "id": "c53da99c48b9c44c",
   "execution_count": 30,
   "outputs": []
  },
  {
   "metadata": {
    "ExecuteTime": {
     "end_time": "2024-05-03T12:19:12.396478Z",
     "start_time": "2024-05-03T12:19:12.090208Z"
    }
   },
   "cell_type": "code",
   "source": [
    "from transformers import pipeline\n",
    "\n",
    "predict_label = pipeline('sentiment-analysis', model=test_model, tokenizer=tokenizer)"
   ],
   "id": "313757f63673e8a9",
   "execution_count": 31,
   "outputs": []
  },
  {
   "metadata": {
    "ExecuteTime": {
     "end_time": "2024-05-03T12:19:51.130340Z",
     "start_time": "2024-05-03T12:19:51.117442Z"
    }
   },
   "cell_type": "code",
   "source": "text_corpus.tail(5)",
   "id": "34b403a727a0f95d",
   "execution_count": 34,
   "outputs": []
  },
  {
   "metadata": {
    "ExecuteTime": {
     "end_time": "2024-05-03T12:20:14.733651Z",
     "start_time": "2024-05-03T12:20:14.727563Z"
    }
   },
   "cell_type": "code",
   "source": "pred_res = predict_label(\"\"\"Get in here, Slayer,\"\"\")",
   "id": "ce73ce60a4ecae32",
   "execution_count": 36,
   "outputs": []
  },
  {
   "metadata": {
    "ExecuteTime": {
     "end_time": "2024-05-03T12:20:45.629417Z",
     "start_time": "2024-05-03T12:20:45.624555Z"
    }
   },
   "cell_type": "code",
   "source": "pred_res",
   "id": "e0dafce74008e99e",
   "execution_count": 42,
   "outputs": []
  },
  {
   "metadata": {
    "ExecuteTime": {
     "end_time": "2024-05-03T12:20:40.554439Z",
     "start_time": "2024-05-03T12:20:40.549747Z"
    }
   },
   "cell_type": "code",
   "source": "id2label[int(pred_res[0]['label'][-1])]",
   "id": "b8619121705ad5e",
   "execution_count": 41,
   "outputs": []
  },
  {
   "metadata": {
    "ExecuteTime": {
     "end_time": "2024-05-03T12:21:06.096709Z",
     "start_time": "2024-05-03T12:21:06.090408Z"
    }
   },
   "cell_type": "code",
   "source": "test_dataset[3]",
   "id": "2d62a5dd6bda3b53",
   "execution_count": 46,
   "outputs": []
  },
  {
   "metadata": {
    "ExecuteTime": {
     "end_time": "2024-05-03T12:21:15.086583Z",
     "start_time": "2024-05-03T12:21:15.077918Z"
    }
   },
   "cell_type": "code",
   "source": "predict_label(\"\"\"I know this fellow,\"\"\")",
   "id": "33318d5b7b2773e4",
   "execution_count": 47,
   "outputs": []
  }
 ],
 "metadata": {
  "kernelspec": {
   "display_name": "Python 3",
   "language": "python",
   "name": "python3"
  },
  "language_info": {
   "codemirror_mode": {
    "name": "ipython",
    "version": 2
   },
   "file_extension": ".py",
   "mimetype": "text/x-python",
   "name": "python",
   "nbconvert_exporter": "python",
   "pygments_lexer": "ipython2",
   "version": "2.7.6"
  }
 },
 "nbformat": 4,
 "nbformat_minor": 5
}
