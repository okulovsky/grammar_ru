{
 "cells": [
  {
   "cell_type": "code",
   "execution_count": 1,
   "id": "initial_id",
   "metadata": {
    "collapsed": true,
    "ExecuteTime": {
     "end_time": "2024-04-23T10:18:47.151531Z",
     "start_time": "2024-04-23T10:18:46.965800Z"
    }
   },
   "outputs": [],
   "source": [
    "import bs4\n",
    "import requests"
   ]
  },
  {
   "cell_type": "code",
   "outputs": [],
   "source": [
    "url = 'https://en.wiktionary.org/wiki/Thesaurus:utter' \n",
    "\n",
    "response = requests.get(url)\n",
    "soup = bs4.BeautifulSoup(response.text, 'html.parser')\n"
   ],
   "metadata": {
    "collapsed": false,
    "ExecuteTime": {
     "end_time": "2024-04-23T10:19:21.395052Z",
     "start_time": "2024-04-23T10:19:20.994347Z"
    }
   },
   "id": "aa9d9e0da06b0caf",
   "execution_count": 3
  },
  {
   "cell_type": "code",
   "outputs": [],
   "source": [
    "all_spans = soup.findAll('span', {'class': 'Latn'})\n",
    "verbs = [span.find('a').get('title') for span in all_spans]"
   ],
   "metadata": {
    "collapsed": false,
    "ExecuteTime": {
     "end_time": "2024-04-23T10:24:57.956277Z",
     "start_time": "2024-04-23T10:24:57.945074Z"
    }
   },
   "id": "4011ecab47eada34",
   "execution_count": 19
  },
  {
   "cell_type": "code",
   "outputs": [],
   "source": [
    "# write list of str to txt.file \n",
    "with open('verbs.txt', 'w') as f:\n",
    "    for item in verbs:\n",
    "        f.write(\"%s\\n\" % item)"
   ],
   "metadata": {
    "collapsed": false,
    "ExecuteTime": {
     "end_time": "2024-04-23T10:25:16.124879Z",
     "start_time": "2024-04-23T10:25:16.116749Z"
    }
   },
   "id": "19f978436650954e",
   "execution_count": 20
  }
 ],
 "metadata": {
  "kernelspec": {
   "display_name": "Python 3",
   "language": "python",
   "name": "python3"
  },
  "language_info": {
   "codemirror_mode": {
    "name": "ipython",
    "version": 2
   },
   "file_extension": ".py",
   "mimetype": "text/x-python",
   "name": "python",
   "nbconvert_exporter": "python",
   "pygments_lexer": "ipython2",
   "version": "2.7.6"
  }
 },
 "nbformat": 4,
 "nbformat_minor": 5
}
