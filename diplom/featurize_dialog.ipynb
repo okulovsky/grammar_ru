{
 "cells": [
  {
   "cell_type": "code",
   "execution_count": 1,
   "id": "initial_id",
   "metadata": {
    "collapsed": true,
    "ExecuteTime": {
     "end_time": "2024-04-22T13:02:11.041376Z",
     "start_time": "2024-04-22T13:02:06.927769Z"
    }
   },
   "source": [
    "from pathlib import Path\n",
    "import os\n",
    "import pandas as pd\n",
    "import numpy as np\n",
    "from tqdm.auto import tqdm\n",
    "from grammar_ru.corpus import CorpusReader, CorpusBuilder\n",
    "from diplom.utils.corpus_utils import CorpusFramework\n",
    "from diplom.utils.dialog_markuper import DialogMarkupFeaturizer\n",
    "from grammar_ru.features import SnowballFeaturizer\n",
    "import matplotlib.pyplot as plt\n",
    "#reported speach."
   ],
   "outputs": []
  },
  {
   "cell_type": "code",
   "source": [
    "def make_merged_df(bundle, only_dialog = False):\n",
    "    src, dialog_markup = bundle.src, bundle.dialog_markup\n",
    "    merged = dialog_markup.merge(chapter.src, on='word_id')\n",
    "    return merged[(merged.dialog_token_type != 'none')] if only_dialog else merged\n",
    "\n",
    "def get_chapter_bundle(author, series_id, chapter_id):\n",
    "    book = corpus_framework.get_book_by_author_and_series_id(author,series_id)\n",
    "    chapter = corpus_framework.get_chapter_as_bundle(book, chapter_id)\n",
    "    return chapter"
   ],
   "metadata": {
    "collapsed": false,
    "ExecuteTime": {
     "end_time": "2024-04-02T10:31:03.674577Z",
     "start_time": "2024-04-02T10:31:03.668513Z"
    }
   },
   "id": "d9531516516071fd",
   "execution_count": 38,
   "outputs": []
  },
  {
   "cell_type": "code",
   "source": [
    "path_corpus = Path(\"./data/corpora/diplom.featurized.zip\")\n",
    "corpus = CorpusReader(path_corpus)\n",
    "corpus_framework = CorpusFramework(corpus)"
   ],
   "metadata": {
    "collapsed": false,
    "ExecuteTime": {
     "end_time": "2024-04-02T08:09:52.297774Z",
     "start_time": "2024-04-02T08:09:52.293593Z"
    }
   },
   "id": "f97ebd85f48f160d",
   "execution_count": 3,
   "outputs": []
  },
  {
   "cell_type": "code",
   "source": [
    "authors = corpus.get_toc().author.unique()\n",
    "djordan,rowling,martin = authors\n",
    "info_columns = ['word_id','sentence_id','word', 'dialog_token_type', 'dialog_id']"
   ],
   "metadata": {
    "collapsed": false,
    "ExecuteTime": {
     "end_time": "2024-04-02T10:28:18.026079Z",
     "start_time": "2024-04-02T10:28:17.990528Z"
    }
   },
   "id": "18bd0296b43f997a",
   "execution_count": 36,
   "outputs": []
  },
  {
   "cell_type": "code",
   "source": [
    "djordan_chapter = get_chapter_bundle(djordan,1,1)\n",
    "rowling_chapter = get_chapter_bundle(rowling,1,1)\n",
    "martin_chapter = get_chapter_bundle(martin,1,1)"
   ],
   "metadata": {
    "collapsed": false,
    "ExecuteTime": {
     "end_time": "2024-04-02T10:53:17.826297Z",
     "start_time": "2024-04-02T10:53:17.151585Z"
    }
   },
   "id": "afedf0d207110ae1",
   "execution_count": 41,
   "outputs": []
  },
  {
   "cell_type": "code",
   "source": [
    "djordan_dialog = make_merged_df(rowling_chapter)"
   ],
   "metadata": {
    "collapsed": false,
    "ExecuteTime": {
     "end_time": "2024-04-02T10:53:42.383760Z",
     "start_time": "2024-04-02T10:53:42.371284Z"
    }
   },
   "id": "1251a4b58c450912",
   "execution_count": 44,
   "outputs": []
  },
  {
   "cell_type": "code",
   "source": [
    "book = corpus_framework.get_book_by_author_and_series_id(author,0)\n",
    "chapter = corpus_framework.get_chapter_as_bundle(book, 1)"
   ],
   "metadata": {
    "collapsed": false,
    "ExecuteTime": {
     "end_time": "2024-04-02T10:53:47.008134Z",
     "start_time": "2024-04-02T10:53:46.687679Z"
    }
   },
   "id": "d69517b19493d644",
   "execution_count": 46,
   "outputs": []
  },
  {
   "cell_type": "code",
   "source": [
    "CorpusBuilder.featurize_corpus(\n",
    "    path_corpus,\n",
    "    Path(f\"./data/corpora/diplom.featurized.zip\"),\n",
    "    [\n",
    "        DialogMarkupFeaturizer(['\"','“','”','“']),\n",
    "    ]\n",
    ")"
   ],
   "metadata": {
    "collapsed": false,
    "ExecuteTime": {
     "end_time": "2024-04-02T08:08:48.037398Z",
     "start_time": "2024-04-02T06:54:32.929084Z"
    }
   },
   "id": "abc361eccc8b8010",
   "execution_count": 25,
   "outputs": []
  },
  {
   "cell_type": "code",
   "source": [
    "path_to_dialog = Path(\"./data/corpora/diplom.featurized.zip\")\n",
    "CorpusBuilder.featurize_corpus(\n",
    "    path_to_dialog,\n",
    "    Path(f\"./data/corpora/diplom.complete.featurized.zip\"),\n",
    "    [\n",
    "        SnowballFeaturizer(language=\"eng\"),\n",
    "    ]\n",
    ")"
   ],
   "metadata": {
    "collapsed": false,
    "ExecuteTime": {
     "end_time": "2024-04-22T13:11:25.603859Z",
     "start_time": "2024-04-22T13:02:32.628817Z"
    }
   },
   "id": "4d3641751507e35f",
   "execution_count": 2,
   "outputs": []
  },
  {
   "cell_type": "code",
   "source": [
    "src.loc[src.word_type=='punct'].word.value_counts()"
   ],
   "metadata": {
    "collapsed": false,
    "ExecuteTime": {
     "end_time": "2024-03-26T13:02:07.044968Z",
     "start_time": "2024-03-26T13:02:07.033587Z"
    }
   },
   "id": "f9edf44d92a4ceef",
   "execution_count": 46,
   "outputs": []
  },
  {
   "cell_type": "code",
   "source": [
    "merged.loc[(merged.dialog_id > 40) & (merged.dialog_id < 50),info_columns]"
   ],
   "metadata": {
    "collapsed": false
   },
   "id": "620a7eaf5ab9034e",
   "execution_count": null,
   "outputs": []
  },
  {
   "cell_type": "code",
   "source": [
    "def test_all_book_and_chapters(corpus,dialog_dashes):\n",
    "    authors = corpus.get_toc().author.unique()\n",
    "    djordan = authors[0]\n",
    "    for book_id in tqdm(range(15)):\n",
    "        book = corpus_framework.get_book_by_author_and_series_id(djordan,book_id)\n",
    "        for chapter_id in range(len(book)):\n",
    "            chapter = corpus_framework.get_chapter_as_bundle(book, chapter_id)\n",
    "            DialogMarkupFeaturizer(dialog_dashes).featurize(chapter)\n",
    "            src = chapter.src\n",
    "            dialog_only = chapter.dialog_markup\n",
    "            merged = dialog_only.merge(src, on='word_id')\n",
    "            check_to_monotonness(merged)\n",
    "            print(f\"\\n b_id: {book_id}, c_id: {chapter_id} --------------------------\\n\")"
   ],
   "metadata": {
    "collapsed": false,
    "ExecuteTime": {
     "end_time": "2024-03-26T12:50:22.970710Z",
     "start_time": "2024-03-26T12:50:22.962241Z"
    }
   },
   "id": "4fdaa9ee4c9a5a7c",
   "execution_count": 6,
   "outputs": []
  },
  {
   "cell_type": "code",
   "source": [
    "test_all_book_and_chapters(corpus,['\"','“','”'])"
   ],
   "metadata": {
    "collapsed": false
   },
   "id": "3abad16e75799159",
   "execution_count": null,
   "outputs": []
  },
  {
   "cell_type": "code",
   "source": [
    "check_to_monotonness(merged)"
   ],
   "metadata": {
    "collapsed": false,
    "ExecuteTime": {
     "end_time": "2024-03-26T12:19:05.422Z",
     "start_time": "2024-03-26T12:19:05.257887Z"
    }
   },
   "id": "ae236dc52fbda94b",
   "execution_count": 23,
   "outputs": []
  },
  {
   "cell_type": "code",
   "source": [
    "print(corpus_framework.show_as_text(dialog_only))"
   ],
   "metadata": {
    "collapsed": false,
    "ExecuteTime": {
     "end_time": "2024-03-26T12:14:48.395879Z",
     "start_time": "2024-03-26T12:14:48.359398Z"
    }
   },
   "id": "7ba8e3f25ed14396",
   "execution_count": 12,
   "outputs": []
  },
  {
   "cell_type": "code",
   "source": [
    "chapter.src"
   ],
   "metadata": {
    "collapsed": false,
    "ExecuteTime": {
     "end_time": "2024-04-01T10:31:04.540358Z",
     "start_time": "2024-04-01T10:31:04.516044Z"
    }
   },
   "id": "40a247ba4a451034",
   "execution_count": 9,
   "outputs": []
  },
  {
   "cell_type": "code",
   "source": [
    "#_src = chapter.src\n",
    "df = db.src.copy()\n",
    "dialog_columns, dialog_dash = ['dialog_type', 'dialog_id', 'dialog_token_type'], ['\"', '“', '”']\n",
    "df[dialog_columns] = 'text', 0, 'none'\n",
    "in_dialog = False\n",
    "dialog_id = 0\n",
    "prev_paragraph_id,prev_paragraph_dialog_id = df.paragraph_id.min(), 0\n",
    "dialog_buffer = []\n",
    "\n",
    "\n",
    "def dialog_trigger(df, buffer, id, dialog_id, in_dialog):\n",
    "    for word_id, dialog_token_type in buffer:\n",
    "        df.loc[word_id, dialog_columns] = 'dialog', dialog_id, dialog_token_type, \n",
    "    df.loc[id, 'dialog_token_type'] = 'dialog-dash'\n",
    "    df.loc[id, 'dialog_type'] = 'dialog'\n",
    "    dialog_id += 1\n",
    "    df.loc[id, 'dialog_id'] = dialog_id\n",
    "    dialog_id += 1\n",
    "    in_dialog = not in_dialog\n",
    "    return dialog_id, in_dialog, []\n",
    "\n",
    "\n",
    "for row in df.itertuples():\n",
    "    word, word_type, word_id, sentence_id, paragraph_id = row.word, row.word_type, row.word_id, row.sentence_id, row.paragraph_id\n",
    "    \n",
    "    if prev_paragraph_id != paragraph_id:\n",
    "        if in_dialog:\n",
    "            in_dialog =  False\n",
    "            df.loc[df.paragraph_id == prev_paragraph_id, dialog_columns] = 'wrong',prev_paragraph_dialog_id + 1, 'none'\n",
    "            dialog_id = prev_paragraph_dialog_id + 2\n",
    "        else:\n",
    "            prev_paragraph_dialog_id = dialog_id\n",
    "            prev_paragraph_id = paragraph_id    \n",
    "            \n",
    "    if in_dialog:\n",
    "        if word in dialog_dash:  #exit from dialog\n",
    "            dialog_id, in_dialog, dialog_buffer = dialog_trigger(df, dialog_buffer, row.Index, dialog_id, in_dialog)\n",
    "            #fill dialog with action\n",
    "            df.loc[(df.sentence_id == sentence_id) & (df.word_id < word_id) & (df.dialog_token_type == 'none'), dialog_columns] = 'dialog', dialog_id - 4, 'action'\n",
    "            df.loc[(df.sentence_id == sentence_id) & (df.word_id > word_id) & (df.dialog_token_type == 'none'), dialog_columns] = 'dialog', dialog_id, 'action'\n",
    "        else:\n",
    "            dialog_token_type = 'dialog-symbol' if word_type == 'punct' else 'speech'\n",
    "            dialog_buffer.append((word_id, dialog_token_type))\n",
    "    else:\n",
    "        if word in dialog_dash:\n",
    "            dialog_id, in_dialog, dialog_buffer = dialog_trigger(df, [], row.Index, dialog_id, in_dialog)\n",
    "        else:\n",
    "            df.loc[row.Index, 'dialog_id'] = dialog_id"
   ],
   "metadata": {
    "collapsed": false,
    "ExecuteTime": {
     "end_time": "2024-04-01T15:50:48.961111Z",
     "start_time": "2024-04-01T15:50:48.930506Z"
    }
   },
   "id": "a633c73376e1766b",
   "execution_count": 19,
   "outputs": []
  },
  {
   "cell_type": "code",
   "source": [
    "df"
   ],
   "metadata": {
    "collapsed": false,
    "ExecuteTime": {
     "end_time": "2024-04-01T15:50:51.104465Z",
     "start_time": "2024-04-01T15:50:51.086770Z"
    }
   },
   "id": "a00d65160e06384",
   "execution_count": 20,
   "outputs": []
  },
  {
   "cell_type": "code",
   "source": [
    "df.loc[df.word.isin(dialog_dash),info_columns].groupby('sentence_id').count()"
   ],
   "metadata": {
    "collapsed": false,
    "ExecuteTime": {
     "end_time": "2024-04-01T12:23:32.724023Z",
     "start_time": "2024-04-01T12:23:32.693713Z"
    }
   },
   "id": "bb872af0f93846dd",
   "execution_count": 65,
   "outputs": []
  },
  {
   "cell_type": "code",
   "source": [
    "debug_columns = ['paragraph_id','word_id','sentence_id','word', 'dialog_token_type', 'dialog_id', 'dialog_type']"
   ],
   "metadata": {
    "collapsed": false,
    "ExecuteTime": {
     "end_time": "2024-04-01T12:24:29.390623Z",
     "start_time": "2024-04-01T12:24:29.386189Z"
    }
   },
   "id": "cbd0981744ab05e1",
   "execution_count": 66,
   "outputs": []
  },
  {
   "cell_type": "code",
   "source": [
    "df.loc[(df.paragraph_id >= 20480306) & (df.paragraph_id <= 20480308),debug_columns]"
   ],
   "metadata": {
    "collapsed": false,
    "ExecuteTime": {
     "end_time": "2024-04-01T12:39:44.151376Z",
     "start_time": "2024-04-01T12:39:44.123008Z"
    }
   },
   "id": "20103f3812b54743",
   "execution_count": 71,
   "outputs": []
  },
  {
   "cell_type": "code",
   "source": [
    "df.loc[df.dialog_type == 'wrong',debug_columns]"
   ],
   "metadata": {
    "collapsed": false,
    "ExecuteTime": {
     "end_time": "2024-04-01T12:24:30.363011Z",
     "start_time": "2024-04-01T12:24:30.339747Z"
    }
   },
   "id": "e7c730effa7c91d2",
   "execution_count": 67,
   "outputs": []
  },
  {
   "cell_type": "code",
   "source": [
    "df.loc[(df.sentence_id >= 20480824 - 1) & (df.sentence_id <= 20480824 + 1),debug_columns]"
   ],
   "metadata": {
    "collapsed": false,
    "ExecuteTime": {
     "end_time": "2024-04-01T12:04:49.450507Z",
     "start_time": "2024-04-01T12:04:49.397014Z"
    }
   },
   "id": "56938ebde9bfe38",
   "execution_count": 61,
   "outputs": []
  },
  {
   "cell_type": "code",
   "source": [
    "df.loc[(df.word_id > 20483751 - 30) & (df.word_id < 20483751 + 100),info_columns]"
   ],
   "metadata": {
    "collapsed": false,
    "ExecuteTime": {
     "end_time": "2024-04-01T11:36:59.449906Z",
     "start_time": "2024-04-01T11:36:59.427543Z"
    }
   },
   "id": "3f257cf86519dfca",
   "execution_count": 48,
   "outputs": []
  },
  {
   "cell_type": "code",
   "source": [
    "s = 'John says: \"Hello, how are you? and gone.\\n \"Have a nice day\", he said.'"
   ],
   "metadata": {
    "collapsed": false,
    "ExecuteTime": {
     "end_time": "2024-04-01T16:33:56.204077Z",
     "start_time": "2024-04-01T16:33:56.199386Z"
    }
   },
   "id": "83c3acff015744bc",
   "execution_count": 2,
   "outputs": []
  },
  {
   "cell_type": "code",
   "source": [
    "from grammar_ru.common import Separator, DataBundle\n",
    "fd = Separator.separate_string(s)\n",
    "db = DataBundle(src=fd)\n",
    "featurizer = DialogMarkupFeaturizer(['\"'])\n",
    "featurizer.featurize(db)"
   ],
   "metadata": {
    "collapsed": false,
    "ExecuteTime": {
     "end_time": "2024-04-01T16:33:56.475090Z",
     "start_time": "2024-04-01T16:33:56.435550Z"
    }
   },
   "id": "a36373374328c0af",
   "execution_count": 3,
   "outputs": []
  },
  {
   "cell_type": "code",
   "source": [
    "db.dialog_markup"
   ],
   "metadata": {
    "collapsed": false,
    "ExecuteTime": {
     "end_time": "2024-04-01T16:33:56.673340Z",
     "start_time": "2024-04-01T16:33:56.649872Z"
    }
   },
   "id": "296240d34f171973",
   "execution_count": 4,
   "outputs": []
  },
  {
   "cell_type": "code",
   "source": [],
   "metadata": {
    "collapsed": false,
    "ExecuteTime": {
     "end_time": "2024-04-01T14:34:01.266791Z",
     "start_time": "2024-04-01T14:34:01.263836Z"
    }
   },
   "id": "83ffba031c5c92f4",
   "execution_count": 12,
   "outputs": []
  }
 ],
 "metadata": {
  "kernelspec": {
   "display_name": "Python 3",
   "language": "python",
   "name": "python3"
  },
  "language_info": {
   "codemirror_mode": {
    "name": "ipython",
    "version": 2
   },
   "file_extension": ".py",
   "mimetype": "text/x-python",
   "name": "python",
   "nbconvert_exporter": "python",
   "pygments_lexer": "ipython2",
   "version": "2.7.6"
  }
 },
 "nbformat": 4,
 "nbformat_minor": 5
}
