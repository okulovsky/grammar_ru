{
 "cells": [
  {
   "cell_type": "markdown",
   "metadata": {
    "cellId": "cdug13c9dlhlzuyuleqfwq",
    "id": "aSWEcS2XKgzi"
   },
   "source": [
    "### Practice: Parameter Efficient Fine-Tuning\n",
    "In this notebook, you're gonna fine-tune large language models within limited GPU memory."
   ]
  },
  {
   "cell_type": "code",
   "execution_count": null,
   "metadata": {
    "cellId": "ha11l3yw1wvflq9ehh8iz",
    "colab": {
     "base_uri": "https://localhost:8080/",
     "height": 1000
    },
    "id": "7xeRF_hSKgzs",
    "outputId": "5eb55f43-e985-4a71-aa28-929fc8133bb0"
   },
   "source": [
    "#!g2.1\n",
    "%pip install --quiet transformers==4.34.1 accelerate==0.24.0 sentencepiece==0.1.99 optimum==1.13.2 peft==0.5.0 bitsandbytes==0.41.2.post2\n",
    "%pip install datasets\n",
    "\n",
    "import torch\n",
    "import torch.nn as nn\n",
    "import torch.nn.functional as F\n",
    "\n",
    "import transformers\n",
    "import datasets\n",
    "from tqdm.auto import tqdm, trange\n",
    "assert torch.cuda.is_available(), \"you need cuda for this part\"\n",
    "device = torch.device('cuda' if torch.cuda.is_available() else 'cpu')"
   ],
   "outputs": []
  },
  {
   "cell_type": "code",
   "execution_count": null,
   "metadata": {
    "cellId": "dna6m3a5q6mz5604eocpln",
    "id": "VMzFwx29Kgzu"
   },
   "source": [
    "#!g2.1\n",
    "model_name = 'Enoch/llama-7b-hf'\n",
    "\n",
    "# loading Llama tokenizer ...\n",
    "tokenizer = transformers.LlamaTokenizer.from_pretrained(model_name, device_map=device)\n",
    "tokenizer.pad_token_id = tokenizer.eos_token_id\n",
    "\n",
    "# ... and the model itself\n",
    "model = transformers.AutoModelForCausalLM.from_pretrained(\n",
    "    model_name, device_map='auto', low_cpu_mem_usage=True, offload_state_dict=True,\n",
    "    load_in_4bit=True, torch_dtype=torch.float32,  # weights are 4-bit; layernorms and activations are fp32\n",
    ")\n",
    "for param in model.parameters():\n",
    "    param.requires_grad=False\n",
    "\n",
    "model.gradient_checkpointing_enable()  # only store a small subset of activations, re-compute the rest.\n",
    "model.enable_input_require_grads()     # override an implementation quirk in gradient checkpoints that disables backprop unless inputs require grad\n",
    "# more on gradient checkpointing: https://pytorch.org/docs/stable/checkpoint.html https://arxiv.org/abs/1604.06174"
   ],
   "outputs": []
  },
  {
   "cell_type": "markdown",
   "metadata": {
    "cellId": "j244c5eyr6o5i3ftxtzlr9",
    "id": "rgspB2JwSIS2"
   },
   "source": [
    "### Prompt tuning: the story of a fox (2 pts)\n",
    "\n",
    "![img](https://i.imgur.com/Ux3qQAu.png) (source: theodd1souts.fandom.com)"
   ]
  },
  {
   "cell_type": "code",
   "execution_count": 17,
   "metadata": {
    "cellId": "yso7ja3553ivjgkkcbw1c",
    "colab": {
     "base_uri": "https://localhost:8080/"
    },
    "id": "H13pYFRxQi4U",
    "outputId": "597e1af9-399a-41ab-8d8d-9c1c216d906c"
   },
   "source": [
    "#!g2.1\n",
    "prompt = 'A quick brown fox'\n",
    "batch = tokenizer(prompt, return_tensors='pt', return_token_type_ids=False).to(device)\n",
    "\n",
    "for i in range(10):\n",
    "    next_token = model(**batch).logits[0, -1].argmax(-1).reshape(1, 1)\n",
    "    batch['input_ids'] = torch.cat([batch['input_ids'], next_token], dim=-1)\n",
    "    batch['attention_mask'] = torch.cat([batch['attention_mask'], torch.ones_like(next_token)], dim=-1)\n",
    "\n",
    "print(\"\\nOutput:\", tokenizer.decode(batch['input_ids'][0].cpu().numpy().tolist()))"
   ],
   "outputs": []
  },
  {
   "cell_type": "markdown",
   "metadata": {
    "cellId": "pfvc3wajckqxjaep8qbozl",
    "id": "VVhZACT6SgLq"
   },
   "source": [
    "What a blatant lie! This particular fox assures you that it didn't in fact jump over the lazy dog. No, sir! The fox was just minding its own business. __Your task is to train the model to say truth: no dog was jumped over today.__"
   ]
  },
  {
   "cell_type": "code",
   "execution_count": 18,
   "metadata": {
    "cellId": "muudyv3a1v0yjs5r8jegyc",
    "colab": {
     "base_uri": "https://localhost:8080/"
    },
    "id": "_r6UVDl4NEua",
    "outputId": "67ab27e0-af96-41c7-f0a9-db92e842cd80"
   },
   "source": [
    "#!g2.1\n",
    "the_truth = \"A quick brown fox did not jump over the lazy dog. Besides, that dog deserved it anyway!\"\n",
    "batch = tokenizer(the_truth, return_tensors='pt', return_token_type_ids=False).to(device)\n",
    "outputs = model(**batch)\n",
    "\n",
    "next_word_logits = outputs.logits[:, :-1]\n",
    "true_next_tokens = batch['input_ids'][:, 1:]\n",
    "loss = F.cross_entropy(next_word_logits.flatten(0, 1), true_next_tokens.flatten(0, 1))\n",
    "\n",
    "print(\"Loss:\", loss)"
   ],
   "outputs": []
  },
  {
   "cell_type": "markdown",
   "metadata": {
    "cellId": "jpwlx5mu9n9t5r43wkqdp8",
    "id": "amvNufS8WXa0"
   },
   "source": [
    "Except, we can't train the entire model - that would be 28GB gradients in float32. Instead, let's run [prompt tuning](https://arxiv.org/abs/2104.08691).\n",
    "\n",
    "![img](https://i.imgur.com/VwNNKnb.png)\n"
   ]
  },
  {
   "cell_type": "code",
   "execution_count": 19,
   "metadata": {
    "cellId": "y0z1puq0k2jwjw9yq9vh8o",
    "id": "73ZOCFRZWR98"
   },
   "source": [
    "#!g2.1\n",
    "class WordEmbeddingsWithLearnedPrompts(nn.Module):\n",
    "    \"\"\"\n",
    "    To perform prompt tuning, you will need to replace model's original word embeddings with a layer - THIS layer\n",
    "     - that inserts trainable prompts instead of the first N token embeddings. \"\"\"\n",
    "\n",
    "    def __init__(self, word_embeddings: nn.Embedding, num_prompts: int):\n",
    "        super().__init__()\n",
    "        self.original_word_embeddings = word_embeddings\n",
    "        self.num_prompts = num_prompts\n",
    "        self.learnable_prompts = nn.Parameter(\n",
    "            torch.randn(1, num_prompts, word_embeddings.embedding_dim), requires_grad=True)\n",
    "\n",
    "    def forward(self, input_ids: torch.LongTensor):\n",
    "        # input_ids shape: [batch_size, seq length]\n",
    "        assert input_ids.dtype == torch.int64\n",
    "        assert input_ids.shape[1] > self.num_prompts\n",
    "        assert torch.all(input_ids[:, :self.num_prompts] == tokenizer.pad_token_id).item(), \"don't forget to prepend several BOS tokens to input_ids\"\n",
    "\n",
    "        # Your task: embed input_ids, but replace the first :num_prompts: tokens with self.learnable_prompts\n",
    "        # This is because we will prepend :num_prompts: padding tokens at the beginning\n",
    "\n",
    "        # After you are done, you must produce a word embedding vector for each token in input_ids,\n",
    "        # except that the first :num_prompts: vectors should equal learnable_prompts;\n",
    "        # any additional vectors after first :num_prompts: ones should be embedded as usual\n",
    "        # Note: since you're dealing with trainable params, please torch.cat instead of item assignment\n",
    "\n",
    "        # <YOUR CODE HERE>\n",
    "        learnable_part = self.learnable_prompts.repeat(input_ids.size(0), 1, 1)\n",
    "        frozet_part = self.original_word_embeddings(input_ids[:, self.num_prompts:])\n",
    "        your_outputs_with_prompts_as_per_instructions_above = torch.cat((learnable_part, frozet_part), dim=1)\n",
    "\n",
    "        return your_outputs_with_prompts_as_per_instructions_above"
   ],
   "outputs": []
  },
  {
   "cell_type": "code",
   "execution_count": 20,
   "metadata": {
    "cellId": "gudqfvm8q7m0oxp5ypqsx9",
    "colab": {
     "base_uri": "https://localhost:8080/"
    },
    "id": "kxUyUU2uT2f1",
    "outputId": "9d0de5c1-162a-4a6f-92c1-1a7f41069464"
   },
   "source": [
    "#!g2.1\n",
    "num_prompts = 16\n",
    "test_emb_layer = WordEmbeddingsWithLearnedPrompts(model.model.embed_tokens, num_prompts=num_prompts).to(device)\n",
    "test_input_ids = tokenizer(\"a cat say on a may\", return_tensors='pt')['input_ids'].to(device)\n",
    "\n",
    "space_for_prompts = torch.full([len(test_input_ids), num_prompts], fill_value=tokenizer.pad_token_id,\n",
    "                               dtype=torch.int64, device=device)\n",
    "test_inputs_with_prompts = torch.cat([space_for_prompts, test_input_ids], dim=1)\n",
    "\n",
    "with torch.cuda.amp.autocast():\n",
    "    test_prompt_embeddings = test_emb_layer(test_inputs_with_prompts)\n",
    "\n",
    "assert test_prompt_embeddings.shape[:2] == test_inputs_with_prompts.shape\n",
    "assert test_prompt_embeddings.shape[-1] == model.config.hidden_size\n",
    "assert torch.allclose(test_prompt_embeddings[:, :num_prompts], test_emb_layer.learnable_prompts.float())\n",
    "assert torch.allclose(test_prompt_embeddings[:, num_prompts:], model.model.embed_tokens(test_input_ids).float())\n",
    "print(\"Looks legit!\")"
   ],
   "outputs": []
  },
  {
   "cell_type": "markdown",
   "metadata": {
    "cellId": "d09hplt7g6m1hoqqnhc0vz",
    "id": "FbKPgfT-crqW"
   },
   "source": [
    "__Now that it works,__ let's inject learnable prompts into the main model and teach it about foxes."
   ]
  },
  {
   "cell_type": "code",
   "execution_count": 21,
   "metadata": {
    "cellId": "p603wpfthrjl3tpp3ym2",
    "id": "QRe0lpREV49G"
   },
   "source": [
    "#!g2.1\n",
    "assert isinstance(model.model.embed_tokens, nn.Embedding), \"you have already replaced the embedding layer. If the replacement is broken, please reload the model\"\n",
    "\n",
    "model.model.embed_tokens = WordEmbeddingsWithLearnedPrompts(model.model.embed_tokens, num_prompts=num_prompts).to(device)\n",
    "\n",
    "opt = torch.optim.Adam([model.model.embed_tokens.learnable_prompts], lr=0.01)"
   ],
   "outputs": []
  },
  {
   "cell_type": "code",
   "execution_count": 22,
   "metadata": {
    "cellId": "cf9pnvuf19bh84i6q626wn",
    "id": "3gVQzgdka-Bm",
    "outputId": "87b92a37-3bc9-48bd-c61e-31225876943f"
   },
   "source": [
    "#!g2.1\n",
    "the_truth = \"A quick brown fox did not jump over the lazy dog. Besides, that dog deserved it anyway!\"\n",
    "batch = tokenizer(the_truth, return_tensors='pt', return_token_type_ids=False).to(device)\n",
    "space_for_prompts = torch.full([len(test_input_ids), num_prompts], fill_value=tokenizer.pad_token_id,\n",
    "                               dtype=torch.int64, device=device)\n",
    "batch['input_ids'] = torch.cat([space_for_prompts, batch['input_ids']], dim=1)\n",
    "batch['attention_mask'] = torch.cat([torch.ones_like(space_for_prompts), batch['attention_mask']], dim=1)\n",
    "\n",
    "outputs = model(**batch)\n",
    "next_word_logits = outputs.logits[:, num_prompts : -1, :]\n",
    "true_next_tokens = batch['input_ids'][:, num_prompts + 1:]\n",
    "loss = F.cross_entropy(next_word_logits.flatten(0, 1), true_next_tokens.flatten(0, 1))\n",
    "print(\"Loss:\", loss)\n",
    "\n",
    "\n",
    "# raise NotImplemented(\"Your task: iteratively train the model to reduce loss using prompt optimizer (opt)\")\n",
    "NUM_ITERATION = 61\n",
    "for i in range(NUM_ITERATION):\n",
    "    opt.zero_grad()\n",
    "    outputs = model(**batch)\n",
    "    next_word_logits = outputs.logits[:, num_prompts:-1, :]\n",
    "    true_next_tokens = batch.input_ids[:, num_prompts + 1:]\n",
    "    loss = F.cross_entropy(next_word_logits.flatten(0, 1), true_next_tokens.flatten(0, 1))\n",
    "    loss.backward()\n",
    "    opt.step()\n",
    "    if i % 10 == 0:\n",
    "        print(f\"{i}. Loss:\", loss.item())  # Вывести текущие потери\n",
    "\n",
    "assert loss.item() <= 0.1\n",
    "print(\"Good job!\")"
   ],
   "outputs": []
  },
  {
   "cell_type": "code",
   "execution_count": 23,
   "metadata": {
    "cellId": "rkb19g44cygf03h1gnta75",
    "id": "F7DkWHD-r1Xo",
    "outputId": "6d693891-3c63-4158-acb3-db69b72d9102"
   },
   "source": [
    "#!g2.1\n",
    "prompt = 'A quick brown fox'\n",
    "batch = tokenizer(prompt, return_tensors='pt', return_token_type_ids=False).to(device)\n",
    "batch['input_ids'] = torch.cat([space_for_prompts, batch['input_ids']], dim=1)\n",
    "batch['attention_mask'] = torch.cat([torch.ones_like(space_for_prompts), batch['attention_mask']], dim=1)\n",
    "\n",
    "\n",
    "for i in range(15):\n",
    "    next_token = model(**batch).logits[0, -1].argmax(-1).reshape(1, 1)\n",
    "    batch['input_ids'] = torch.cat([batch['input_ids'], next_token], dim=-1)\n",
    "    batch['attention_mask'] = torch.cat([batch['attention_mask'], torch.ones_like(next_token)], dim=-1)\n",
    "\n",
    "print(\"\\nOutput:\", tokenizer.decode(batch['input_ids'][0, num_prompts:].cpu().numpy().tolist()))\n",
    "\n",
    "# if you did everything right, the model will deny that the fox jumped over the lazy dog"
   ],
   "outputs": []
  },
  {
   "cell_type": "markdown",
   "metadata": {
    "cellId": "1r6xwbr86macu90xlc92ap",
    "id": "sEkoFNdlshv_"
   },
   "source": [
    "### Using HuggingFace PEFT (2 points)\n",
    "\n",
    "[`peft`](https://huggingface.co/docs/peft/index) is a transformer's sister library that allows you to apply various __p__arameter __e__fficient __f__ine-__t__uning methods to pre-trained transformers. The library imlements both prompt tuning, prefix tuning, as well as several adapter-based techniques under a common interface:\n",
    "\n"
   ]
  },
  {
   "cell_type": "code",
   "execution_count": 25,
   "metadata": {
    "cellId": "9iy9x2uqrdq3ly85j8qiuk",
    "colab": {
     "base_uri": "https://localhost:8080/"
    },
    "id": "mqEEpZm2Q4UC",
    "outputId": "2b760d0e-ac1e-4580-9472-997d1275385d"
   },
   "source": [
    "#!g2.1\n",
    "import peft\n",
    "assert isinstance(model.model.embed_tokens, nn.Embedding), \"please reload the model\"\n",
    "\n",
    "peft_config = peft.PromptTuningConfig(task_type=peft.TaskType.CAUSAL_LM, num_virtual_tokens=16)\n",
    "model = peft.get_peft_model(model, peft_config)  # note: for most peft methods, this line also modifies model in-place\n",
    "print(\"Trainable parameters:\", sum(p.numel() for p in model.parameters() if p.requires_grad))\n",
    "print(\"Total parameters (excluding quantization):\", sum(p.numel() for p in model.parameters()))"
   ],
   "outputs": []
  },
  {
   "cell_type": "code",
   "execution_count": null,
   "metadata": {
    "cellId": "2po3mg4dhcmpmsttxnd81m",
    "id": "UW54GnzCwVpp"
   },
   "source": [
    "#!g2.1\n",
    "# Your task: optimize the PEFT-wrapped model to achieve next token prediction loss < 0.1, but this time using PEFT\n",
    "# Please note: you no longer need to prepend PAD tokens, but you still need to skip :num_virtual_tokens: first logits.\n",
    "# Finally, generate the sentence to make sure that the model learned the truth."
   ],
   "outputs": []
  },
  {
   "cell_type": "code",
   "execution_count": null,
   "metadata": {
    "cellId": "vo5s23l2l7gxzfgudt9i",
    "id": "71vJ9Mq7w67f"
   },
   "source": [
    "#!g2.1\n",
    "# Feel free to structure your code as you see fit - as long as it's legible :)"
   ],
   "outputs": []
  },
  {
   "cell_type": "code",
   "execution_count": 26,
   "metadata": {
    "cellId": "2m5wcn6bsqnjwl88neubmf",
    "id": "hH4bWGbLbqUO",
    "outputId": "c9a92078-2216-47ea-d295-f02f4e19abd3"
   },
   "source": [
    "#!g2.1\n",
    "the_truth = \"A quick brown fox did not jump over the lazy dog. Besides, that dog deserved it anyway!\"\n",
    "batch = tokenizer(the_truth, return_tensors='pt', return_token_type_ids=False).to(device)\n",
    "\n",
    "outputs = model(**batch)\n",
    "next_word_logits = outputs.logits[:, model.peft_config[\"default\"].num_virtual_tokens: -1, :]\n",
    "true_next_tokens = batch['input_ids'][:, 1:]\n",
    "\n",
    "loss = F.cross_entropy(next_word_logits.flatten(0, 1), true_next_tokens.flatten(0, 1))\n",
    "print(\"Loss:\", loss)\n",
    "\n",
    "NUM_ITERATION = 61\n",
    "opt = torch.optim.Adam(model.parameters(), lr=0.01)\n",
    "for i in range(NUM_ITERATION):\n",
    "    opt.zero_grad()\n",
    "    outputs = model(**batch)\n",
    "    next_word_logits = outputs.logits[:, model.peft_config[\"default\"].num_virtual_tokens: -1, :]\n",
    "    true_next_tokens = batch['input_ids'][:, 1:]\n",
    "    loss = F.cross_entropy(next_word_logits.flatten(0, 1), true_next_tokens.flatten(0, 1))\n",
    "    loss.backward()\n",
    "    opt.step()\n",
    "    if i % 10 == 0:\n",
    "        print(f\"{i}. Loss:\", loss.item())  # Вывести текущие потери\n",
    "\n",
    "assert loss.item() <= 0.1\n",
    "print(\"Good job!\")"
   ],
   "outputs": []
  },
  {
   "cell_type": "code",
   "execution_count": 27,
   "metadata": {
    "cellId": "ilaky3idcdplz8l92tselp",
    "id": "KDDRYK8hbqUQ",
    "outputId": "e1225c27-c41e-4954-f427-a434e689c5b5"
   },
   "source": [
    "#!g2.1\n",
    "prompt = 'A quick brown fox'\n",
    "batch = tokenizer(prompt, return_tensors='pt', return_token_type_ids=False).to(device)\n",
    "\n",
    "for i in range(15):\n",
    "    next_token = model(**batch).logits[0, -1].argmax(-1).reshape(1, 1)\n",
    "    batch['input_ids'] = torch.cat([batch['input_ids'], next_token], dim=-1)\n",
    "    batch['attention_mask'] = torch.cat([batch['attention_mask'], torch.ones_like(next_token)], dim=-1)\n",
    "\n",
    "print(\"\\nOutput:\", tokenizer.decode(batch['input_ids'][0].cpu().numpy().tolist()))"
   ],
   "outputs": []
  },
  {
   "cell_type": "markdown",
   "metadata": {
    "cellId": "f9qlp51peai0hhzy9ikxa",
    "id": "uCkpKYjWxfhk"
   },
   "source": [
    "### Parameter-efficient finetuning with LoRA (2 points)\n",
    "\n",
    "When training on more serious tasks, you can use low-rank adapters based on the [LoRA paper](https://arxiv.org/pdf/2106.09685.pdf).\n",
    "\n",
    "The core idea is to add low-rank adapters __in parallel with existing linear layers,__ like this:\n",
    "<center><img src=\"https://i.imgur.com/6bQLNiG.png\" width=240px></center>\n",
    "\n",
    "In the original LoRA paper, the adapters were only added to attention projection matrices. However, [subsequent works](https://arxiv.org/abs/2305.14314) show that it is useful to adapt FFNs as well. But before we do any training, we need to implement the basic LoRA layer."
   ]
  },
  {
   "cell_type": "code",
   "execution_count": 39,
   "metadata": {
    "cellId": "yob94477cgtfhrmf7wj2",
    "colab": {
     "base_uri": "https://localhost:8080/",
     "height": 77,
     "referenced_widgets": [
      "49a22dba8b1a40ddaa1927efbdb1a436",
      "8910480443b54490a63e6a18eb9846bc",
      "c8551f80bc6f4de587eb0210f67c4468",
      "a39a12ca99544e168f2a01247c7764ca",
      "b90c5448a12d4783bc874005e3f6f057",
      "ccdfbcb39c2f440fa509ac260a31add2",
      "1024d8ec403f4abbaf184f20cf4a68c2",
      "64a27ff1ad5f44679793bb8a53b202de",
      "58c69514504c46eabc7f36ca333fc40f",
      "92928513765c480a903e96a227b0ea1c",
      "282da1beb02d421ab4cc14b2fee64e4b"
     ]
    },
    "id": "8zundaSzx90r",
    "outputId": "da652232-3f52-4815-9a4b-a92482e08a56"
   },
   "source": [
    "#!g2.1\n",
    "# re-load the model to remove any previous PEFT tuners\n",
    "model = transformers.AutoModelForCausalLM.from_pretrained(\n",
    "    model_name, device_map='auto', low_cpu_mem_usage=True, offload_state_dict=True,\n",
    "    load_in_4bit=True, torch_dtype=torch.float32,  # weights are 4-bit; layernorms and activations are fp32\n",
    ")\n",
    "for param in model.parameters():\n",
    "    param.requires_grad=False\n",
    "model.gradient_checkpointing_enable()\n",
    "model.enable_input_require_grads()"
   ],
   "outputs": []
  },
  {
   "cell_type": "code",
   "execution_count": 40,
   "metadata": {
    "cellId": "4bzt9lips9q5r6i80pww1g",
    "id": "MJ_hq4fwyPVR"
   },
   "source": [
    "#!g2.1\n",
    "class LoRALayer(nn.Module):\n",
    "    \"\"\"Wraps a linear layer with LoRA-like adapter. Wraps an existing OPT linear layer\"\"\"\n",
    "    def __init__(self, module: nn.Linear, rank: int):\n",
    "        super().__init__()\n",
    "        self.module = module  # pre-trained (frozen) linear layer\n",
    "        self.adapter_A = nn.Parameter(torch.empty(module.in_features, rank, device=module.weight.device))\n",
    "        nn.init.kaiming_uniform_(self.adapter_A, a=5 ** 0.5)\n",
    "        self.adapter_B = nn.Parameter(torch.zeros(rank, module.out_features, device=module.weight.device))\n",
    "\n",
    "    def forward(self, input):\n",
    "        # Apply self.module and LoRA adapter, return the sum (self.module outputs + adapter outputs)\n",
    "        #  <YOUR CODE HERE>\n",
    "        module_outputs = self.module(input)\n",
    "        adapter_outputs = torch.matmul(input, self.adapter_A)\n",
    "        adapter_outputs = torch.matmul(adapter_outputs, self.adapter_B)\n",
    "        return module_outputs + adapter_outputs"
   ],
   "outputs": []
  },
  {
   "cell_type": "code",
   "execution_count": 41,
   "metadata": {
    "cellId": "m6158mueq3csoms64jym",
    "colab": {
     "base_uri": "https://localhost:8080/"
    },
    "id": "tTzOs65JydcS",
    "outputId": "48849930-5b70-4f3c-886f-ddfa36c70652"
   },
   "source": [
    "#!g2.1\n",
    "# test your implementation\n",
    "test_linear = nn.Linear(128, 128)\n",
    "test_linear.weight.data[...] = torch.eye(128)\n",
    "test_adapter = LoRALayer(test_linear, rank=8)\n",
    "\n",
    "assert torch.allclose(test_adapter(torch.ones(1, 1, 128)), test_linear.bias + 1), \"please check your forward pass\"\n",
    "\n",
    "test_adapter.adapter_A.data[...] = torch.linspace(0.1, -0.5, 128 * 8).view(128, 8)\n",
    "test_adapter.adapter_B.data[...] = torch.linspace(0.5, -0.1, 128 * 8).view(8, 128)\n",
    "test_linear.bias.data[...] = torch.linspace(1., -1., 128)\n",
    "\n",
    "dummy_loss = F.mse_loss(test_adapter(torch.ones(1, 128) / 128).squeeze(), torch.linspace(-1, 1, 128))\n",
    "assert torch.allclose(dummy_loss, torch.tensor(1.3711389), rtol=0, atol=1e-4)\n",
    "dummy_loss.backward()\n",
    "assert all(w.grad is not None for w in [test_adapter.adapter_A, test_adapter.adapter_B]), \"some adapter weights have no grad\"\n",
    "assert torch.allclose(test_adapter.adapter_A.grad.sum(), torch.tensor(-0.60158), rtol=0, atol=1e-4), \"bad grad w.r.t. A\"\n",
    "assert torch.allclose(test_adapter.adapter_B.grad.sum(), torch.tensor(0.9931), rtol=0, atol=1e-4), \"bad grad w.r.t. B\"\n",
    "# note: bad grad means that your code is different from LoRA paper OR that your code is not autograd-friendly (e.g. no_grad)\n",
    "del dummy_loss, test_linear, test_adapter\n",
    "print(\"All tests passed!\")"
   ],
   "outputs": []
  },
  {
   "cell_type": "markdown",
   "metadata": {
    "cellId": "339m7g5e3rc4fictmogkcu",
    "id": "tajVTsvLulB6"
   },
   "source": [
    "### Apply LoRA to the model\n",
    "\n",
    "The code below applies LoRA adapters on top of Q/K/V linear layers in Llama attention. You may also choose to modify other layers:\n",
    "* self_attn.o_proj - attention output projection\n",
    "* mlp.up_proj, mlp.gate_proj, mlp.down_proj - transformer feedforward layers\n",
    "* lm_head - output LM head\n",
    "\n",
    "__Note:__ please scroll down for the homework task"
   ]
  },
  {
   "cell_type": "code",
   "execution_count": 42,
   "metadata": {
    "cellId": "9z6phqhzozn0xj2337c0igg",
    "id": "davyUVEwulB6"
   },
   "source": [
    "#!g2.1\n",
    "lora_rank = 8\n",
    "\n",
    "for name, module in model.model.layers.named_modules():\n",
    "    if 'LlamaDecoderLayer' in repr(type(module)):\n",
    "        module.self_attn.q_proj = LoRALayer(module.self_attn.q_proj, rank=lora_rank).to(device)\n",
    "        module.self_attn.k_proj = LoRALayer(module.self_attn.k_proj, rank=lora_rank).to(device)\n",
    "        module.self_attn.v_proj = LoRALayer(module.self_attn.v_proj, rank=lora_rank).to(device)\n",
    "\n",
    "assert sum(isinstance(module, LoRALayer) for module in model.modules()) == 96  # for Llama-7B"
   ],
   "outputs": []
  },
  {
   "cell_type": "code",
   "execution_count": 43,
   "metadata": {
    "cellId": "0ly7je1tqq7b5pj8gv1y625",
    "colab": {
     "base_uri": "https://localhost:8080/"
    },
    "id": "AWzfvc0EulB6",
    "outputId": "c6582878-4f8c-455a-86a5-668205829339"
   },
   "source": [
    "#!g2.1\n",
    "batch = tokenizer(\"This model wants to share its greatest secret:\", return_tensors='pt', return_token_type_ids=False)\n",
    "# test a single training step, make sure we get meaningful gradients\n",
    "with torch.cuda.amp.autocast(dtype=torch.float32):\n",
    "    out = model.forward(**batch)\n",
    "    (out.logits.norm() / 100).backward()\n",
    "\n",
    "for i, module in enumerate(model.modules()):\n",
    "    if isinstance(module, LoRALayer):\n",
    "        assert module.adapter_B.grad is not None\n",
    "        assert module.adapter_B.grad.norm().item() > 0\n",
    "\n",
    "model.zero_grad(set_to_none=True)\n",
    "print(\"Grad check successful, well done!\")"
   ],
   "outputs": []
  },
  {
   "cell_type": "markdown",
   "metadata": {
    "cellId": "nu002fhkzcdpyxth01hdl",
    "id": "rjIJ1vkUulB7"
   },
   "source": [
    "### (example) How to train your model\n",
    "\n",
    "The example below shows how to train the LoRA adapters on a dummy dataset. You will need to run a _similar_ training task later.\n",
    "\n",
    "__Note:__ please scroll down for the homework task"
   ]
  },
  {
   "cell_type": "code",
   "execution_count": 44,
   "metadata": {
    "cellId": "qwhym9yi82mdq72oeb5s",
    "colab": {
     "base_uri": "https://localhost:8080/",
     "height": 173
    },
    "id": "r9mIpntHulB8",
    "outputId": "2f1a80a5-7463-4c9b-cdf0-88a0176afed1"
   },
   "source": [
    "#!g2.1\n",
    "# checking if the model can learn. Change max_steps for proper training\n",
    "import datasets\n",
    "data = datasets.load_dataset(\"Abirate/english_quotes\", split=\"train[:32]\") # 32 lines\n",
    "data = data.map(lambda samples: tokenizer(samples['quote']), batched=True)\n",
    "model._hf_peft_config_loaded = True  # silence a warning from HF trainer\n",
    "\n",
    "trainer = transformers.Trainer(\n",
    "    model=model, train_dataset=data,\n",
    "    args=transformers.TrainingArguments(\n",
    "        per_device_train_batch_size=2, gradient_accumulation_steps=1,\n",
    "        # note: if you want larger batch size, increase gradient_accumulation_steps\n",
    "        warmup_steps=250, max_steps=2, learning_rate=2e-4, fp16=True,\n",
    "        logging_steps=1, output_dir='outputs', report_to=None),\n",
    "    data_collator=transformers.DataCollatorForLanguageModeling(tokenizer, mlm=False)\n",
    ")\n",
    "# if you see cache warnings, set `model.config.use_cache = False` to silence them. Please re-enable for inference!\n",
    "\n",
    "trainer.train()\n",
    "\n",
    "# NOTE: this is just an example! you do not have to wait for this progressbar to finish :)"
   ],
   "outputs": []
  },
  {
   "cell_type": "markdown",
   "metadata": {
    "cellId": "4zm65gzwreb2b16b084a92",
    "id": "DQUlqoEAulB8"
   },
   "source": [
    "### Final task: *actually* train the model (4 points)\n",
    "\n",
    "Your task is to fine-tune the model to _generate python code_. Please use the above examples for inspiration. More specifically,\n",
    "\n",
    "* __dataset:__ use [codeparrot-clean](https://huggingface.co/datasets/codeparrot/codeparrot-clean) or any other data containing python code. Since you do not need much data for this excercise, it is enough to use just shorter validation subset of `codeparrots`\n",
    "* __preprocessing:__ select python code based on file extentions (.py)  (may skip in case of codeparrot - it is 100% python)\n",
    "* __short lines:__ please take the first 512 characters of each line\n",
    "* __adapter type:__ please use LoRA as defined above __plus at least one of:__\n",
    "   - extra adapter on lm_head\n",
    "   - extra adapter on MLP components (mlp.*)\n",
    "   - trainable input embeddings (requires tweaking memory usage)\n",
    "\n",
    "* __training:__ you do not have to train to convergence. If all goes well, your model should `.generate` code after 500 steps. Please use batch size of at least 4 (4 x 1 x 512 tokens) using `gradient_accumulation_steps=4`.\n",
    "\n",
    "\n",
    "Note: the peft library also has LoRA implementation. However, we ask that for this assignment you show at least one complete training run with your own LoRA code.\n",
    "\n",
    "__Alternative assignment:__ Instead of doing python code, feel free to substitute the task with any other dataset, e.g. your favorite artist or podcast, as long as it's ethical. If you choose your own task, please show examples of what your model learned - or did not learn, akin to the code examples below."
   ]
  },
  {
   "cell_type": "code",
   "execution_count": 50,
   "metadata": {
    "cellId": "czv068edwd6h2vzn3xiip",
    "colab": {
     "base_uri": "https://localhost:8080/",
     "height": 0
    },
    "id": "_LfFWSYhulB8",
    "outputId": "42dbd484-baa1-44b4-f1e3-29c24f4fb338"
   },
   "source": [
    "#!g2.1\n",
    "prompts =  ['', 'import', 'from', 'while', 'try', 'if', 'for', 'torch']  # feel free to add a few more that are not 100% assiciated with Python\n",
    "\n",
    "# <A WHOLE LOT OF YOUR CODE>\n",
    "\n",
    "################################\n",
    "# ЗАГРУЗКА TOKENIZER И DATASET #\n",
    "################################\n",
    "model_name = 'Enoch/llama-7b-hf'\n",
    "tokenizer = transformers.LlamaTokenizer.from_pretrained(model_name, device_map=device)\n",
    "tokenizer.pad_token_id = tokenizer.eos_token_id\n",
    "\n",
    "data = datasets.load_dataset(\"codeparrot/codeparrot-clean-valid\", split=\"train\")\n",
    "data = data.map(lambda samples: {\"content\": samples['content'][:512]})\n",
    "data = data.map(\n",
    "    lambda samples: tokenizer(samples[\"content\"], return_tensors='pt', truncation=True, padding=\"max_length\", max_length=512), \n",
    "    batched=True\n",
    ")\n",
    "\n",
    "\n",
    "################################\n",
    "# ФУНКЦИЯ ДЛЯ ГЕНЕРАЦИИ ТЕКСТА #\n",
    "################################\n",
    "def generate_text(model, prompts, max_new_tokens=512):\n",
    "    prompt2generate_text = {}\n",
    "\n",
    "    for prompt in prompts:\n",
    "        batch = tokenizer(prompt, return_tensors='pt', return_token_type_ids=False).to(device)\n",
    "        generation_config = transformers.GenerationConfig(max_new_tokens=max_new_tokens, do_sample=True, top_p=0.9)\n",
    "        output_tokens = model.generate(**batch, generation_config=generation_config)\n",
    "        prompt2generate_text[prompt] = tokenizer.decode(output_tokens[0].cpu())\n",
    "\n",
    "    return prompt2generate_text\n",
    "\n",
    "\n",
    "###############################\n",
    "# ФУНКЦИЯ ДЛЯ ОБУЧЕНИЯ МОДЕЛИ #\n",
    "###############################\n",
    "def train_model(model):    \n",
    "    trainer = transformers.Trainer(\n",
    "        model=model, \n",
    "        train_dataset=data,\n",
    "        \n",
    "        args=transformers.TrainingArguments(\n",
    "            per_device_train_batch_size=4,\n",
    "            gradient_accumulation_steps=4,            \n",
    "            warmup_steps=250,\n",
    "            max_steps=499,\n",
    "            learning_rate=2e-4,\n",
    "            fp16=True,\n",
    "            output_dir='outputs', \n",
    "            logging_steps=50, \n",
    "            report_to=None\n",
    "        ),\n",
    "        \n",
    "        data_collator=transformers.DataCollatorForLanguageModeling(tokenizer, mlm=False)\n",
    "    )\n",
    "\n",
    "    trainer.train()\n",
    "\n",
    "# generate baseline samples with the selected prompts before finetuning\n",
    "# please feel free to use transformers.Trainer (as above) or your custom training code\n",
    "# after the training concludes, please show examples of text generated by your model. It is expected to look like Python code fragments\n",
    "# print the generation examples nicely (suggestion: use pandas or HTML) for easier comparison\n",
    "# note: your LoRA-enhanced model can run generation the same way as the non-trained model (above)\n",
    "\n",
    "\n",
    "###########################\n",
    "# ЗАГРУЗКА БАЗОВОЙ МОДЕЛИ #\n",
    "###########################    \n",
    "model = transformers.AutoModelForCausalLM.from_pretrained(\n",
    "    model_name, \n",
    "    device_map='auto', \n",
    "    low_cpu_mem_usage=True, \n",
    "    offload_state_dict=True,\n",
    "    load_in_4bit=True, \n",
    "    torch_dtype=torch.float32,\n",
    ")\n",
    "for param in model.parameters():\n",
    "    param.requires_grad=False\n",
    "    \n",
    "model.config.use_cache = False\n",
    "model._hf_peft_config_loaded = True\n",
    " \n",
    "\n",
    "############################\n",
    "# ГЕНЕРАЦИЯ ДО ФАЙНТЮНИНГА #\n",
    "############################\n",
    "generate_before_finetuning = generate_text(model, prompts)\n",
    "\n",
    "\n",
    "#########################\n",
    "# ДОБАВЛЕНИЕ LORA LAYER #\n",
    "#########################\n",
    "lora_rank = 8\n",
    "for name, module in model.model.layers.named_modules():\n",
    "    if 'LlamaDecoderLayer' in repr(type(module)):\n",
    "        module.self_attn.q_proj = LoRALayer(module.self_attn.q_proj, rank=lora_rank).to(device)\n",
    "        module.self_attn.k_proj = LoRALayer(module.self_attn.k_proj, rank=lora_rank).to(device)\n",
    "        module.self_attn.v_proj = LoRALayer(module.self_attn.v_proj, rank=lora_rank).to(device)\n",
    "\n",
    "model.lm_head = LoRALayer(model.lm_head, rank=lora_rank).to(device)\n",
    "\n",
    "\n",
    "#####################\n",
    "# ФАЙНТЮНИНГ МОДЕЛИ #\n",
    "#####################\n",
    "train_model(model)\n",
    "\n",
    "\n",
    "###############################\n",
    "# ГЕНЕРАЦИЯ ПОСЛЕ ФАЙНТЮНИНГА #\n",
    "###############################\n",
    "generate_after_finetuning = generate_text(model, prompts)"
   ],
   "outputs": []
  },
  {
   "cell_type": "code",
   "execution_count": 54,
   "metadata": {
    "cellId": "jc9zfwkagqdhq7673lnwk6",
    "colab": {
     "base_uri": "https://localhost:8080/",
     "height": 1000
    },
    "id": "SSucUeB4ulB9",
    "outputId": "9104437b-dc25-4265-8d33-52053ed2caf2"
   },
   "source": [
    "#!g2.1\n",
    "# This template helps to compare generated code samples in pretty table form\n",
    "# feel free to present your work in other forms\n",
    "\n",
    "from IPython.display import HTML, display\n",
    "table_template = \"\"\"<table style=\"border:1px solid black\" >\n",
    "  <tr>\n",
    "    <th style=\"text-align: center; border:1px solid black\">PROMPT</th>\n",
    "    <th style=\"text-align: center; border:1px solid black\">BEFORE</th>\n",
    "    <th style=\"text-align: center; border:1px solid black\">AFTER</th>\n",
    "  </tr>\n",
    "{}\n",
    "</table>\"\"\"\n",
    "\n",
    "row_template = '''  <tr>\n",
    "    <td style=\"width:20%; border:1px solid black\"><pre align=\"left\">`{}`</pre></td>\n",
    "    <td style=\"width:40%; border:1px solid black\"><pre align=\"left\">{}</pre></td>\n",
    "    <td style=\"width:40%; border:1px solid black\"><pre align=\"left\">{}</pre></td>\n",
    "  </tr>'''\n",
    "\n",
    "rows = []\n",
    "\n",
    "for prompt in prompts:\n",
    "    # replace placeholders in the format() arguments\n",
    "    #rows.append(row_template.format(prompt, \"BEFORE FINETUNING\", \"TO BE GENERATED AFTER FINETUNING\"))\n",
    "    rows.append(row_template.format(prompt, generate_before_finetuning[prompt][3:], generate_after_finetuning[prompt][3:]))\n",
    "\n",
    "display(HTML(table_template.format('\\n'.join(rows))))"
   ],
   "outputs": []
  },
  {
   "cell_type": "markdown",
   "metadata": {
    "cellId": "vntk4k3ep1pgxt4csynks8",
    "id": "hrKidv5KulB9"
   },
   "source": [
    "If you reach this: congratulations! you've completed everything in this practice session.\n",
    "\n",
    "If you want to dig deeper, try to implement prompt-tuning (for bonus points!).\n",
    "You can read more about prompt tuning variants in paper [1](https://arxiv.org/abs/2104.08691) or paper [2](https://arxiv.org/abs/2101.00190). Both versions can be implemented by passing trainable prompts as `model.forward(..., past_key_values=your_prompts)`.\n",
    "\n",
    "\n",
    "\n",
    "### Read more\n",
    "\n",
    "* How post-training quantization works: https://arxiv.org/abs/2208.07339\n",
    "* An overview of running large models: https://huggingface.co/docs/accelerate/package_reference/big_modeling\n",
    "* A general library for different adapter types: https://adapterhub.ml/\n",
    "\n",
    "\n",
    "### [extra info] Running other models.\n",
    "\n",
    "This notebook's code can run with other models of similar size, such as [Falcon-7B](https://huggingface.co/tiiuae/falcon-7b), [OPT-6.7B](https://huggingface.co/facebook/opt-6.7b) or [BLOOM-7.1B](https://huggingface.co/bigscience/bloom-7b1). However, they will require minor code tweaks:\n",
    "1. change the model name in `AutoModelForCausalLM.from_pretrained()` __and__ `AutoTokenizer`\n",
    "2. In the prompt tuning code, change `model.model.embed_tokens` to refer to the target model's word embeddings. Simply `print(model)` to navigate to them.\n",
    "3. Change code to add Lora layers - specifically where you what the transformer block components, since those components now have different names."
   ]
  }
 ],
 "metadata": {
  "accelerator": "GPU",
  "colab": {
   "gpuType": "T4",
   "provenance": []
  },
  "language_info": {
   "codemirror_mode": {
    "name": "ipython",
    "version": 3
   },
   "file_extension": ".py",
   "mimetype": "text/x-python",
   "name": "python",
   "nbconvert_exporter": "python",
   "pygments_lexer": "ipython3",
   "version": "3.7.7"
  },
  "notebookId": "e937a6ee-2155-458a-b4c0-55e2bf874691",
  "notebookPath": "practice.ipynb",
  "widgets": {
   "application/vnd.jupyter.widget-state+json": {
    "0234e3ccdbf240c591e9eea64fb1f66b": {
     "model_module": "@jupyter-widgets/controls",
     "model_module_version": "1.5.0",
     "model_name": "DescriptionStyleModel",
     "state": {
      "_model_module": "@jupyter-widgets/controls",
      "_model_module_version": "1.5.0",
      "_model_name": "DescriptionStyleModel",
      "_view_count": null,
      "_view_module": "@jupyter-widgets/base",
      "_view_module_version": "1.2.0",
      "_view_name": "StyleView",
      "description_width": ""
     }
    },
    "0c52ea837a974da2951abc732b7f0036": {
     "model_module": "@jupyter-widgets/base",
     "model_module_version": "1.2.0",
     "model_name": "LayoutModel",
     "state": {
      "_model_module": "@jupyter-widgets/base",
      "_model_module_version": "1.2.0",
      "_model_name": "LayoutModel",
      "_view_count": null,
      "_view_module": "@jupyter-widgets/base",
      "_view_module_version": "1.2.0",
      "_view_name": "LayoutView",
      "align_content": null,
      "align_items": null,
      "align_self": null,
      "border": null,
      "bottom": null,
      "display": null,
      "flex": null,
      "flex_flow": null,
      "grid_area": null,
      "grid_auto_columns": null,
      "grid_auto_flow": null,
      "grid_auto_rows": null,
      "grid_column": null,
      "grid_gap": null,
      "grid_row": null,
      "grid_template_areas": null,
      "grid_template_columns": null,
      "grid_template_rows": null,
      "height": null,
      "justify_content": null,
      "justify_items": null,
      "left": null,
      "margin": null,
      "max_height": null,
      "max_width": null,
      "min_height": null,
      "min_width": null,
      "object_fit": null,
      "object_position": null,
      "order": null,
      "overflow": null,
      "overflow_x": null,
      "overflow_y": null,
      "padding": null,
      "right": null,
      "top": null,
      "visibility": null,
      "width": null
     }
    },
    "1024d8ec403f4abbaf184f20cf4a68c2": {
     "model_module": "@jupyter-widgets/controls",
     "model_module_version": "1.5.0",
     "model_name": "DescriptionStyleModel",
     "state": {
      "_model_module": "@jupyter-widgets/controls",
      "_model_module_version": "1.5.0",
      "_model_name": "DescriptionStyleModel",
      "_view_count": null,
      "_view_module": "@jupyter-widgets/base",
      "_view_module_version": "1.2.0",
      "_view_name": "StyleView",
      "description_width": ""
     }
    },
    "282da1beb02d421ab4cc14b2fee64e4b": {
     "model_module": "@jupyter-widgets/controls",
     "model_module_version": "1.5.0",
     "model_name": "DescriptionStyleModel",
     "state": {
      "_model_module": "@jupyter-widgets/controls",
      "_model_module_version": "1.5.0",
      "_model_name": "DescriptionStyleModel",
      "_view_count": null,
      "_view_module": "@jupyter-widgets/base",
      "_view_module_version": "1.2.0",
      "_view_name": "StyleView",
      "description_width": ""
     }
    },
    "43efc796835f45a0bfef729dc49dac66": {
     "model_module": "@jupyter-widgets/controls",
     "model_module_version": "1.5.0",
     "model_name": "HBoxModel",
     "state": {
      "_dom_classes": [],
      "_model_module": "@jupyter-widgets/controls",
      "_model_module_version": "1.5.0",
      "_model_name": "HBoxModel",
      "_view_count": null,
      "_view_module": "@jupyter-widgets/controls",
      "_view_module_version": "1.5.0",
      "_view_name": "HBoxView",
      "box_style": "",
      "children": [
       "IPY_MODEL_575e94f1138846158e53d678d5265439",
       "IPY_MODEL_afa42e51ff3b491f9ebcda9a5599709e",
       "IPY_MODEL_7eb71bd89f314c3ab9d08fb07d300064"
      ],
      "layout": "IPY_MODEL_a084b2b4d58444f89d96751751e84437"
     }
    },
    "49a22dba8b1a40ddaa1927efbdb1a436": {
     "model_module": "@jupyter-widgets/controls",
     "model_module_version": "1.5.0",
     "model_name": "HBoxModel",
     "state": {
      "_dom_classes": [],
      "_model_module": "@jupyter-widgets/controls",
      "_model_module_version": "1.5.0",
      "_model_name": "HBoxModel",
      "_view_count": null,
      "_view_module": "@jupyter-widgets/controls",
      "_view_module_version": "1.5.0",
      "_view_name": "HBoxView",
      "box_style": "",
      "children": [
       "IPY_MODEL_8910480443b54490a63e6a18eb9846bc",
       "IPY_MODEL_c8551f80bc6f4de587eb0210f67c4468",
       "IPY_MODEL_a39a12ca99544e168f2a01247c7764ca"
      ],
      "layout": "IPY_MODEL_b90c5448a12d4783bc874005e3f6f057"
     }
    },
    "575e94f1138846158e53d678d5265439": {
     "model_module": "@jupyter-widgets/controls",
     "model_module_version": "1.5.0",
     "model_name": "HTMLModel",
     "state": {
      "_dom_classes": [],
      "_model_module": "@jupyter-widgets/controls",
      "_model_module_version": "1.5.0",
      "_model_name": "HTMLModel",
      "_view_count": null,
      "_view_module": "@jupyter-widgets/controls",
      "_view_module_version": "1.5.0",
      "_view_name": "HTMLView",
      "description": "",
      "description_tooltip": null,
      "layout": "IPY_MODEL_7608b69a0fbe474d81ea1461d6b7300e",
      "placeholder": "​",
      "style": "IPY_MODEL_0234e3ccdbf240c591e9eea64fb1f66b",
      "value": "Loading checkpoint shards: 100%"
     }
    },
    "58c69514504c46eabc7f36ca333fc40f": {
     "model_module": "@jupyter-widgets/controls",
     "model_module_version": "1.5.0",
     "model_name": "ProgressStyleModel",
     "state": {
      "_model_module": "@jupyter-widgets/controls",
      "_model_module_version": "1.5.0",
      "_model_name": "ProgressStyleModel",
      "_view_count": null,
      "_view_module": "@jupyter-widgets/base",
      "_view_module_version": "1.2.0",
      "_view_name": "StyleView",
      "bar_color": null,
      "description_width": ""
     }
    },
    "64a27ff1ad5f44679793bb8a53b202de": {
     "model_module": "@jupyter-widgets/base",
     "model_module_version": "1.2.0",
     "model_name": "LayoutModel",
     "state": {
      "_model_module": "@jupyter-widgets/base",
      "_model_module_version": "1.2.0",
      "_model_name": "LayoutModel",
      "_view_count": null,
      "_view_module": "@jupyter-widgets/base",
      "_view_module_version": "1.2.0",
      "_view_name": "LayoutView",
      "align_content": null,
      "align_items": null,
      "align_self": null,
      "border": null,
      "bottom": null,
      "display": null,
      "flex": null,
      "flex_flow": null,
      "grid_area": null,
      "grid_auto_columns": null,
      "grid_auto_flow": null,
      "grid_auto_rows": null,
      "grid_column": null,
      "grid_gap": null,
      "grid_row": null,
      "grid_template_areas": null,
      "grid_template_columns": null,
      "grid_template_rows": null,
      "height": null,
      "justify_content": null,
      "justify_items": null,
      "left": null,
      "margin": null,
      "max_height": null,
      "max_width": null,
      "min_height": null,
      "min_width": null,
      "object_fit": null,
      "object_position": null,
      "order": null,
      "overflow": null,
      "overflow_x": null,
      "overflow_y": null,
      "padding": null,
      "right": null,
      "top": null,
      "visibility": null,
      "width": null
     }
    },
    "67c7f643642346d1a8c6634761adb823": {
     "model_module": "@jupyter-widgets/controls",
     "model_module_version": "1.5.0",
     "model_name": "DescriptionStyleModel",
     "state": {
      "_model_module": "@jupyter-widgets/controls",
      "_model_module_version": "1.5.0",
      "_model_name": "DescriptionStyleModel",
      "_view_count": null,
      "_view_module": "@jupyter-widgets/base",
      "_view_module_version": "1.2.0",
      "_view_name": "StyleView",
      "description_width": ""
     }
    },
    "7608b69a0fbe474d81ea1461d6b7300e": {
     "model_module": "@jupyter-widgets/base",
     "model_module_version": "1.2.0",
     "model_name": "LayoutModel",
     "state": {
      "_model_module": "@jupyter-widgets/base",
      "_model_module_version": "1.2.0",
      "_model_name": "LayoutModel",
      "_view_count": null,
      "_view_module": "@jupyter-widgets/base",
      "_view_module_version": "1.2.0",
      "_view_name": "LayoutView",
      "align_content": null,
      "align_items": null,
      "align_self": null,
      "border": null,
      "bottom": null,
      "display": null,
      "flex": null,
      "flex_flow": null,
      "grid_area": null,
      "grid_auto_columns": null,
      "grid_auto_flow": null,
      "grid_auto_rows": null,
      "grid_column": null,
      "grid_gap": null,
      "grid_row": null,
      "grid_template_areas": null,
      "grid_template_columns": null,
      "grid_template_rows": null,
      "height": null,
      "justify_content": null,
      "justify_items": null,
      "left": null,
      "margin": null,
      "max_height": null,
      "max_width": null,
      "min_height": null,
      "min_width": null,
      "object_fit": null,
      "object_position": null,
      "order": null,
      "overflow": null,
      "overflow_x": null,
      "overflow_y": null,
      "padding": null,
      "right": null,
      "top": null,
      "visibility": null,
      "width": null
     }
    },
    "7eb71bd89f314c3ab9d08fb07d300064": {
     "model_module": "@jupyter-widgets/controls",
     "model_module_version": "1.5.0",
     "model_name": "HTMLModel",
     "state": {
      "_dom_classes": [],
      "_model_module": "@jupyter-widgets/controls",
      "_model_module_version": "1.5.0",
      "_model_name": "HTMLModel",
      "_view_count": null,
      "_view_module": "@jupyter-widgets/controls",
      "_view_module_version": "1.5.0",
      "_view_name": "HTMLView",
      "description": "",
      "description_tooltip": null,
      "layout": "IPY_MODEL_0c52ea837a974da2951abc732b7f0036",
      "placeholder": "​",
      "style": "IPY_MODEL_67c7f643642346d1a8c6634761adb823",
      "value": " 33/33 [01:46&lt;00:00,  3.41s/it]"
     }
    },
    "8910480443b54490a63e6a18eb9846bc": {
     "model_module": "@jupyter-widgets/controls",
     "model_module_version": "1.5.0",
     "model_name": "HTMLModel",
     "state": {
      "_dom_classes": [],
      "_model_module": "@jupyter-widgets/controls",
      "_model_module_version": "1.5.0",
      "_model_name": "HTMLModel",
      "_view_count": null,
      "_view_module": "@jupyter-widgets/controls",
      "_view_module_version": "1.5.0",
      "_view_name": "HTMLView",
      "description": "",
      "description_tooltip": null,
      "layout": "IPY_MODEL_ccdfbcb39c2f440fa509ac260a31add2",
      "placeholder": "​",
      "style": "IPY_MODEL_1024d8ec403f4abbaf184f20cf4a68c2",
      "value": "Loading checkpoint shards: 100%"
     }
    },
    "92928513765c480a903e96a227b0ea1c": {
     "model_module": "@jupyter-widgets/base",
     "model_module_version": "1.2.0",
     "model_name": "LayoutModel",
     "state": {
      "_model_module": "@jupyter-widgets/base",
      "_model_module_version": "1.2.0",
      "_model_name": "LayoutModel",
      "_view_count": null,
      "_view_module": "@jupyter-widgets/base",
      "_view_module_version": "1.2.0",
      "_view_name": "LayoutView",
      "align_content": null,
      "align_items": null,
      "align_self": null,
      "border": null,
      "bottom": null,
      "display": null,
      "flex": null,
      "flex_flow": null,
      "grid_area": null,
      "grid_auto_columns": null,
      "grid_auto_flow": null,
      "grid_auto_rows": null,
      "grid_column": null,
      "grid_gap": null,
      "grid_row": null,
      "grid_template_areas": null,
      "grid_template_columns": null,
      "grid_template_rows": null,
      "height": null,
      "justify_content": null,
      "justify_items": null,
      "left": null,
      "margin": null,
      "max_height": null,
      "max_width": null,
      "min_height": null,
      "min_width": null,
      "object_fit": null,
      "object_position": null,
      "order": null,
      "overflow": null,
      "overflow_x": null,
      "overflow_y": null,
      "padding": null,
      "right": null,
      "top": null,
      "visibility": null,
      "width": null
     }
    },
    "9b97050770af4748aa0baae3eab55c05": {
     "model_module": "@jupyter-widgets/base",
     "model_module_version": "1.2.0",
     "model_name": "LayoutModel",
     "state": {
      "_model_module": "@jupyter-widgets/base",
      "_model_module_version": "1.2.0",
      "_model_name": "LayoutModel",
      "_view_count": null,
      "_view_module": "@jupyter-widgets/base",
      "_view_module_version": "1.2.0",
      "_view_name": "LayoutView",
      "align_content": null,
      "align_items": null,
      "align_self": null,
      "border": null,
      "bottom": null,
      "display": null,
      "flex": null,
      "flex_flow": null,
      "grid_area": null,
      "grid_auto_columns": null,
      "grid_auto_flow": null,
      "grid_auto_rows": null,
      "grid_column": null,
      "grid_gap": null,
      "grid_row": null,
      "grid_template_areas": null,
      "grid_template_columns": null,
      "grid_template_rows": null,
      "height": null,
      "justify_content": null,
      "justify_items": null,
      "left": null,
      "margin": null,
      "max_height": null,
      "max_width": null,
      "min_height": null,
      "min_width": null,
      "object_fit": null,
      "object_position": null,
      "order": null,
      "overflow": null,
      "overflow_x": null,
      "overflow_y": null,
      "padding": null,
      "right": null,
      "top": null,
      "visibility": null,
      "width": null
     }
    },
    "a084b2b4d58444f89d96751751e84437": {
     "model_module": "@jupyter-widgets/base",
     "model_module_version": "1.2.0",
     "model_name": "LayoutModel",
     "state": {
      "_model_module": "@jupyter-widgets/base",
      "_model_module_version": "1.2.0",
      "_model_name": "LayoutModel",
      "_view_count": null,
      "_view_module": "@jupyter-widgets/base",
      "_view_module_version": "1.2.0",
      "_view_name": "LayoutView",
      "align_content": null,
      "align_items": null,
      "align_self": null,
      "border": null,
      "bottom": null,
      "display": null,
      "flex": null,
      "flex_flow": null,
      "grid_area": null,
      "grid_auto_columns": null,
      "grid_auto_flow": null,
      "grid_auto_rows": null,
      "grid_column": null,
      "grid_gap": null,
      "grid_row": null,
      "grid_template_areas": null,
      "grid_template_columns": null,
      "grid_template_rows": null,
      "height": null,
      "justify_content": null,
      "justify_items": null,
      "left": null,
      "margin": null,
      "max_height": null,
      "max_width": null,
      "min_height": null,
      "min_width": null,
      "object_fit": null,
      "object_position": null,
      "order": null,
      "overflow": null,
      "overflow_x": null,
      "overflow_y": null,
      "padding": null,
      "right": null,
      "top": null,
      "visibility": null,
      "width": null
     }
    },
    "a39a12ca99544e168f2a01247c7764ca": {
     "model_module": "@jupyter-widgets/controls",
     "model_module_version": "1.5.0",
     "model_name": "HTMLModel",
     "state": {
      "_dom_classes": [],
      "_model_module": "@jupyter-widgets/controls",
      "_model_module_version": "1.5.0",
      "_model_name": "HTMLModel",
      "_view_count": null,
      "_view_module": "@jupyter-widgets/controls",
      "_view_module_version": "1.5.0",
      "_view_name": "HTMLView",
      "description": "",
      "description_tooltip": null,
      "layout": "IPY_MODEL_92928513765c480a903e96a227b0ea1c",
      "placeholder": "​",
      "style": "IPY_MODEL_282da1beb02d421ab4cc14b2fee64e4b",
      "value": " 33/33 [01:38&lt;00:00,  2.97s/it]"
     }
    },
    "afa42e51ff3b491f9ebcda9a5599709e": {
     "model_module": "@jupyter-widgets/controls",
     "model_module_version": "1.5.0",
     "model_name": "FloatProgressModel",
     "state": {
      "_dom_classes": [],
      "_model_module": "@jupyter-widgets/controls",
      "_model_module_version": "1.5.0",
      "_model_name": "FloatProgressModel",
      "_view_count": null,
      "_view_module": "@jupyter-widgets/controls",
      "_view_module_version": "1.5.0",
      "_view_name": "ProgressView",
      "bar_style": "success",
      "description": "",
      "description_tooltip": null,
      "layout": "IPY_MODEL_9b97050770af4748aa0baae3eab55c05",
      "max": 33,
      "min": 0,
      "orientation": "horizontal",
      "style": "IPY_MODEL_c52b9383ad6b428cbffce5dcd3004afb",
      "value": 33
     }
    },
    "b90c5448a12d4783bc874005e3f6f057": {
     "model_module": "@jupyter-widgets/base",
     "model_module_version": "1.2.0",
     "model_name": "LayoutModel",
     "state": {
      "_model_module": "@jupyter-widgets/base",
      "_model_module_version": "1.2.0",
      "_model_name": "LayoutModel",
      "_view_count": null,
      "_view_module": "@jupyter-widgets/base",
      "_view_module_version": "1.2.0",
      "_view_name": "LayoutView",
      "align_content": null,
      "align_items": null,
      "align_self": null,
      "border": null,
      "bottom": null,
      "display": null,
      "flex": null,
      "flex_flow": null,
      "grid_area": null,
      "grid_auto_columns": null,
      "grid_auto_flow": null,
      "grid_auto_rows": null,
      "grid_column": null,
      "grid_gap": null,
      "grid_row": null,
      "grid_template_areas": null,
      "grid_template_columns": null,
      "grid_template_rows": null,
      "height": null,
      "justify_content": null,
      "justify_items": null,
      "left": null,
      "margin": null,
      "max_height": null,
      "max_width": null,
      "min_height": null,
      "min_width": null,
      "object_fit": null,
      "object_position": null,
      "order": null,
      "overflow": null,
      "overflow_x": null,
      "overflow_y": null,
      "padding": null,
      "right": null,
      "top": null,
      "visibility": null,
      "width": null
     }
    },
    "c52b9383ad6b428cbffce5dcd3004afb": {
     "model_module": "@jupyter-widgets/controls",
     "model_module_version": "1.5.0",
     "model_name": "ProgressStyleModel",
     "state": {
      "_model_module": "@jupyter-widgets/controls",
      "_model_module_version": "1.5.0",
      "_model_name": "ProgressStyleModel",
      "_view_count": null,
      "_view_module": "@jupyter-widgets/base",
      "_view_module_version": "1.2.0",
      "_view_name": "StyleView",
      "bar_color": null,
      "description_width": ""
     }
    },
    "c8551f80bc6f4de587eb0210f67c4468": {
     "model_module": "@jupyter-widgets/controls",
     "model_module_version": "1.5.0",
     "model_name": "FloatProgressModel",
     "state": {
      "_dom_classes": [],
      "_model_module": "@jupyter-widgets/controls",
      "_model_module_version": "1.5.0",
      "_model_name": "FloatProgressModel",
      "_view_count": null,
      "_view_module": "@jupyter-widgets/controls",
      "_view_module_version": "1.5.0",
      "_view_name": "ProgressView",
      "bar_style": "success",
      "description": "",
      "description_tooltip": null,
      "layout": "IPY_MODEL_64a27ff1ad5f44679793bb8a53b202de",
      "max": 33,
      "min": 0,
      "orientation": "horizontal",
      "style": "IPY_MODEL_58c69514504c46eabc7f36ca333fc40f",
      "value": 33
     }
    },
    "ccdfbcb39c2f440fa509ac260a31add2": {
     "model_module": "@jupyter-widgets/base",
     "model_module_version": "1.2.0",
     "model_name": "LayoutModel",
     "state": {
      "_model_module": "@jupyter-widgets/base",
      "_model_module_version": "1.2.0",
      "_model_name": "LayoutModel",
      "_view_count": null,
      "_view_module": "@jupyter-widgets/base",
      "_view_module_version": "1.2.0",
      "_view_name": "LayoutView",
      "align_content": null,
      "align_items": null,
      "align_self": null,
      "border": null,
      "bottom": null,
      "display": null,
      "flex": null,
      "flex_flow": null,
      "grid_area": null,
      "grid_auto_columns": null,
      "grid_auto_flow": null,
      "grid_auto_rows": null,
      "grid_column": null,
      "grid_gap": null,
      "grid_row": null,
      "grid_template_areas": null,
      "grid_template_columns": null,
      "grid_template_rows": null,
      "height": null,
      "justify_content": null,
      "justify_items": null,
      "left": null,
      "margin": null,
      "max_height": null,
      "max_width": null,
      "min_height": null,
      "min_width": null,
      "object_fit": null,
      "object_position": null,
      "order": null,
      "overflow": null,
      "overflow_x": null,
      "overflow_y": null,
      "padding": null,
      "right": null,
      "top": null,
      "visibility": null,
      "width": null
     }
    }
   }
  }
 },
 "nbformat": 4,
 "nbformat_minor": 4
}
