{
 "cells": [
  {
   "cell_type": "markdown",
   "id": "a7e281e6",
   "metadata": {},
   "source": [
    "# Использование Yandex ObjectStorage"
   ]
  },
  {
   "cell_type": "code",
   "execution_count": 1,
   "id": "60c0274e-f610-4f3b-9296-82ea2ded9640",
   "metadata": {},
   "outputs": [],
   "source": [
    "from tg.grammar_ru.ml.components.yandex_storage.s3_yandex_helpers import S3YandexHandler\n",
    "from pathlib import Path\n",
    "from tg.grammar_ru.common.loc import Loc"
   ]
  },
  {
   "cell_type": "markdown",
   "id": "774316c1",
   "metadata": {},
   "source": [
    "Реализован S3YandexHandler - измененная версия S3Handler.\n",
    "\n",
    "Для использования сервисного аккаунта Яндекс.Облака понадобятся ключи.\n",
    "Инструкция по их получению в readme.md."
   ]
  },
  {
   "cell_type": "markdown",
   "id": "c72d67d9",
   "metadata": {},
   "source": [
    "Загрузка ключей:"
   ]
  },
  {
   "cell_type": "code",
   "execution_count": 5,
   "id": "7b7d9136",
   "metadata": {},
   "outputs": [],
   "source": [
    "import os\n",
    "from pathlib import Path\n",
    "from dotenv import load_dotenv\n",
    "\n",
    "load_dotenv(Loc.root_path / 'environment.env')\n",
    "\n",
    "aws_access_key_id = os.environ.get('AWS_ACCESS_KEY_ID', None)\n",
    "aws_secret_access = os.environ.get('AWS_SECRET_ACCESS_KEY', None)\n",
    "# aws_access_key_id, aws_secret_access\n"
   ]
  },
  {
   "cell_type": "code",
   "execution_count": 6,
   "id": "08700386",
   "metadata": {},
   "outputs": [],
   "source": [
    "BUCKET_NAME = 'bucket-for-grammar-r'"
   ]
  },
  {
   "cell_type": "code",
   "execution_count": 8,
   "id": "1e692db0",
   "metadata": {},
   "outputs": [],
   "source": [
    "#Если бакет не создан, то его можно создать так:\n",
    "# S3YandexHandler.create_bucket(BUCKET_NAME)"
   ]
  },
  {
   "cell_type": "markdown",
   "id": "119b957c",
   "metadata": {},
   "source": [
    "### Примеры использования S3YandexHandler для upload/download"
   ]
  },
  {
   "cell_type": "markdown",
   "id": "341cbc9b",
   "metadata": {},
   "source": [
    "#### Files"
   ]
  },
  {
   "cell_type": "code",
   "execution_count": null,
   "id": "dbcd3bd9-3344-4342-a89d-a95e942866a7",
   "metadata": {},
   "outputs": [],
   "source": [
    "S3YandexHandler.upload_file(BUCKET_NAME, 'b/some.txt', 'some.txt')"
   ]
  },
  {
   "cell_type": "code",
   "execution_count": null,
   "id": "88e3882d-d405-4dea-a8d7-92c7c8273ad7",
   "metadata": {},
   "outputs": [],
   "source": [
    "downloaded_name = 'someDownloaded.txt'\n",
    "res = S3YandexHandler.download_file(BUCKET_NAME, 'b/some.txt', Path() / downloaded_name)\n",
    "assert downloaded_name == res"
   ]
  },
  {
   "cell_type": "markdown",
   "id": "e900d47c",
   "metadata": {},
   "source": [
    "#### Folders"
   ]
  },
  {
   "cell_type": "code",
   "execution_count": null,
   "id": "a4cc6db6",
   "metadata": {},
   "outputs": [],
   "source": [
    "uploaded_folder_name = 'TransferedFolder'\n",
    "S3YandexHandler.upload_folder(\n",
    "    BUCKET_NAME, uploaded_folder_name, Path()/uploaded_folder_name)\n"
   ]
  },
  {
   "cell_type": "code",
   "execution_count": null,
   "id": "ffbffbc1",
   "metadata": {},
   "outputs": [],
   "source": [
    "downloaded_folder_name = 'TransferedFolderDownloaded'\n",
    "S3YandexHandler.download_folder(\n",
    "    BUCKET_NAME, uploaded_folder_name, Path()/downloaded_folder_name)\n"
   ]
  }
 ],
 "metadata": {
  "kernelspec": {
   "display_name": "my_env",
   "language": "python",
   "name": "my_env"
  },
  "language_info": {
   "codemirror_mode": {
    "name": "ipython",
    "version": 3
   },
   "file_extension": ".py",
   "mimetype": "text/x-python",
   "name": "python",
   "nbconvert_exporter": "python",
   "pygments_lexer": "ipython3",
   "version": "3.10.7"
  },
  "vscode": {
   "interpreter": {
    "hash": "369f2c481f4da34e4445cda3fffd2e751bd1c4d706f27375911949ba6bb62e1c"
   }
  },
  "widgets": {
   "application/vnd.jupyter.widget-state+json": {
    "state": {},
    "version_major": 2,
    "version_minor": 0
   }
  }
 },
 "nbformat": 4,
 "nbformat_minor": 5
}
