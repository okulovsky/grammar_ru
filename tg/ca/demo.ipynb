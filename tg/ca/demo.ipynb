{
 "cells": [
  {
   "cell_type": "markdown",
   "metadata": {},
   "source": [
    "Устанавливаем библиотеку переводчика"
   ]
  },
  {
   "cell_type": "code",
   "execution_count": 5,
   "metadata": {},
   "outputs": [],
   "source": [
    "#!pip install googletrans"
   ]
  },
  {
   "cell_type": "markdown",
   "metadata": {},
   "source": [
    "### Создаем корпус для Преступления и наказания"
   ]
  },
  {
   "cell_type": "code",
   "execution_count": 13,
   "metadata": {},
   "outputs": [
    {
     "data": {
      "application/vnd.jupyter.widget-view+json": {
       "model_id": "0ca1b27482c74e8d86e205e8244a8da3",
       "version_major": 2,
       "version_minor": 0
      },
      "text/plain": [
       "  0%|          | 0/1 [00:00<?, ?it/s]"
      ]
     },
     "metadata": {},
     "output_type": "display_data"
    }
   ],
   "source": [
    "from tg.grammar_ru.corpus import CorpusBuilder\n",
    "from pathlib import Path\n",
    "\n",
    "\n",
    "\n",
    "CorpusBuilder.convert_interformat_folder_to_corpus(\n",
    "    Path('./files/crime_and_puhishment_corpus.base.zip'),\n",
    "    Path('./source/book'),\n",
    "    ['book']\n",
    ")"
   ]
  },
  {
   "cell_type": "code",
   "execution_count": 15,
   "metadata": {},
   "outputs": [
    {
     "data": {
      "text/html": [
       "<div>\n",
       "<style scoped>\n",
       "    .dataframe tbody tr th:only-of-type {\n",
       "        vertical-align: middle;\n",
       "    }\n",
       "\n",
       "    .dataframe tbody tr th {\n",
       "        vertical-align: top;\n",
       "    }\n",
       "\n",
       "    .dataframe thead th {\n",
       "        text-align: right;\n",
       "    }\n",
       "</style>\n",
       "<table border=\"1\" class=\"dataframe\">\n",
       "  <thead>\n",
       "    <tr style=\"text-align: right;\">\n",
       "      <th></th>\n",
       "      <th>filename</th>\n",
       "      <th>timestamp</th>\n",
       "      <th>part_index</th>\n",
       "      <th>token_count</th>\n",
       "      <th>character_count</th>\n",
       "      <th>ordinal</th>\n",
       "      <th>header_0</th>\n",
       "      <th>headers</th>\n",
       "      <th>book</th>\n",
       "      <th>max_id</th>\n",
       "    </tr>\n",
       "    <tr>\n",
       "      <th>file_id</th>\n",
       "      <th></th>\n",
       "      <th></th>\n",
       "      <th></th>\n",
       "      <th></th>\n",
       "      <th></th>\n",
       "      <th></th>\n",
       "      <th></th>\n",
       "      <th></th>\n",
       "      <th></th>\n",
       "      <th></th>\n",
       "    </tr>\n",
       "  </thead>\n",
       "  <tbody>\n",
       "    <tr>\n",
       "      <th>a14ba486-6c54-4fdf-83f3-be7eb5a503db</th>\n",
       "      <td>crime_and_punishment.md</td>\n",
       "      <td>2023-12-06 16:23:04.485297</td>\n",
       "      <td>0</td>\n",
       "      <td>43473</td>\n",
       "      <td>160523</td>\n",
       "      <td>0</td>\n",
       "      <td>Part One</td>\n",
       "      <td>Part One</td>\n",
       "      <td>crime_and_punishment</td>\n",
       "      <td>43474</td>\n",
       "    </tr>\n",
       "    <tr>\n",
       "      <th>2bb5198a-fa7d-49cd-afe8-6b4143bbf7f3</th>\n",
       "      <td>crime_and_punishment.md</td>\n",
       "      <td>2023-12-06 16:23:04.649603</td>\n",
       "      <td>1</td>\n",
       "      <td>52772</td>\n",
       "      <td>190235</td>\n",
       "      <td>1</td>\n",
       "      <td>Part Two</td>\n",
       "      <td>Part Two</td>\n",
       "      <td>crime_and_punishment</td>\n",
       "      <td>106247</td>\n",
       "    </tr>\n",
       "    <tr>\n",
       "      <th>f5a47bbe-33fa-4bec-9155-903efb6a7363</th>\n",
       "      <td>crime_and_punishment.md</td>\n",
       "      <td>2023-12-06 16:23:05.003476</td>\n",
       "      <td>2</td>\n",
       "      <td>41129</td>\n",
       "      <td>148930</td>\n",
       "      <td>2</td>\n",
       "      <td>Part Three</td>\n",
       "      <td>Part Three</td>\n",
       "      <td>crime_and_punishment</td>\n",
       "      <td>157377</td>\n",
       "    </tr>\n",
       "    <tr>\n",
       "      <th>5137b1e9-1c44-44f6-8b44-46cf28c34549</th>\n",
       "      <td>crime_and_punishment.md</td>\n",
       "      <td>2023-12-06 16:23:05.274258</td>\n",
       "      <td>3</td>\n",
       "      <td>39469</td>\n",
       "      <td>141079</td>\n",
       "      <td>3</td>\n",
       "      <td>Part Four</td>\n",
       "      <td>Part Four</td>\n",
       "      <td>crime_and_punishment</td>\n",
       "      <td>206847</td>\n",
       "    </tr>\n",
       "    <tr>\n",
       "      <th>cbbd142b-79cd-4485-9734-2ac3bbf84643</th>\n",
       "      <td>crime_and_punishment.md</td>\n",
       "      <td>2023-12-06 16:23:05.532992</td>\n",
       "      <td>4</td>\n",
       "      <td>38920</td>\n",
       "      <td>143326</td>\n",
       "      <td>4</td>\n",
       "      <td>Part Five</td>\n",
       "      <td>Part Five</td>\n",
       "      <td>crime_and_punishment</td>\n",
       "      <td>255768</td>\n",
       "    </tr>\n",
       "    <tr>\n",
       "      <th>cf3d3cbe-a063-461a-b71c-485ede3e53c9</th>\n",
       "      <td>crime_and_punishment.md</td>\n",
       "      <td>2023-12-06 16:23:05.798251</td>\n",
       "      <td>5</td>\n",
       "      <td>56645</td>\n",
       "      <td>205893</td>\n",
       "      <td>5</td>\n",
       "      <td>Part Six</td>\n",
       "      <td>Part Six</td>\n",
       "      <td>crime_and_punishment</td>\n",
       "      <td>322414</td>\n",
       "    </tr>\n",
       "  </tbody>\n",
       "</table>\n",
       "</div>"
      ],
      "text/plain": [
       "                                                     filename  \\\n",
       "file_id                                                         \n",
       "a14ba486-6c54-4fdf-83f3-be7eb5a503db  crime_and_punishment.md   \n",
       "2bb5198a-fa7d-49cd-afe8-6b4143bbf7f3  crime_and_punishment.md   \n",
       "f5a47bbe-33fa-4bec-9155-903efb6a7363  crime_and_punishment.md   \n",
       "5137b1e9-1c44-44f6-8b44-46cf28c34549  crime_and_punishment.md   \n",
       "cbbd142b-79cd-4485-9734-2ac3bbf84643  crime_and_punishment.md   \n",
       "cf3d3cbe-a063-461a-b71c-485ede3e53c9  crime_and_punishment.md   \n",
       "\n",
       "                                                      timestamp  part_index  \\\n",
       "file_id                                                                       \n",
       "a14ba486-6c54-4fdf-83f3-be7eb5a503db 2023-12-06 16:23:04.485297           0   \n",
       "2bb5198a-fa7d-49cd-afe8-6b4143bbf7f3 2023-12-06 16:23:04.649603           1   \n",
       "f5a47bbe-33fa-4bec-9155-903efb6a7363 2023-12-06 16:23:05.003476           2   \n",
       "5137b1e9-1c44-44f6-8b44-46cf28c34549 2023-12-06 16:23:05.274258           3   \n",
       "cbbd142b-79cd-4485-9734-2ac3bbf84643 2023-12-06 16:23:05.532992           4   \n",
       "cf3d3cbe-a063-461a-b71c-485ede3e53c9 2023-12-06 16:23:05.798251           5   \n",
       "\n",
       "                                      token_count  character_count  ordinal  \\\n",
       "file_id                                                                       \n",
       "a14ba486-6c54-4fdf-83f3-be7eb5a503db        43473           160523        0   \n",
       "2bb5198a-fa7d-49cd-afe8-6b4143bbf7f3        52772           190235        1   \n",
       "f5a47bbe-33fa-4bec-9155-903efb6a7363        41129           148930        2   \n",
       "5137b1e9-1c44-44f6-8b44-46cf28c34549        39469           141079        3   \n",
       "cbbd142b-79cd-4485-9734-2ac3bbf84643        38920           143326        4   \n",
       "cf3d3cbe-a063-461a-b71c-485ede3e53c9        56645           205893        5   \n",
       "\n",
       "                                        header_0     headers  \\\n",
       "file_id                                                        \n",
       "a14ba486-6c54-4fdf-83f3-be7eb5a503db    Part One    Part One   \n",
       "2bb5198a-fa7d-49cd-afe8-6b4143bbf7f3    Part Two    Part Two   \n",
       "f5a47bbe-33fa-4bec-9155-903efb6a7363  Part Three  Part Three   \n",
       "5137b1e9-1c44-44f6-8b44-46cf28c34549   Part Four   Part Four   \n",
       "cbbd142b-79cd-4485-9734-2ac3bbf84643   Part Five   Part Five   \n",
       "cf3d3cbe-a063-461a-b71c-485ede3e53c9    Part Six    Part Six   \n",
       "\n",
       "                                                      book  max_id  \n",
       "file_id                                                             \n",
       "a14ba486-6c54-4fdf-83f3-be7eb5a503db  crime_and_punishment   43474  \n",
       "2bb5198a-fa7d-49cd-afe8-6b4143bbf7f3  crime_and_punishment  106247  \n",
       "f5a47bbe-33fa-4bec-9155-903efb6a7363  crime_and_punishment  157377  \n",
       "5137b1e9-1c44-44f6-8b44-46cf28c34549  crime_and_punishment  206847  \n",
       "cbbd142b-79cd-4485-9734-2ac3bbf84643  crime_and_punishment  255768  \n",
       "cf3d3cbe-a063-461a-b71c-485ede3e53c9  crime_and_punishment  322414  "
      ]
     },
     "execution_count": 15,
     "metadata": {},
     "output_type": "execute_result"
    }
   ],
   "source": [
    "from tg.grammar_ru.corpus import CorpusReader\n",
    "\n",
    "cip_reader = CorpusReader(Path('./files/crime_and_puhishment_corpus.base.zip'))\n",
    "\n",
    "cip_reader.get_toc() "
   ]
  },
  {
   "cell_type": "markdown",
   "metadata": {},
   "source": [
    "### Создаем фрагменты (json/corpus)"
   ]
  },
  {
   "cell_type": "code",
   "execution_count": 16,
   "metadata": {},
   "outputs": [
    {
     "name": "stdout",
     "output_type": "stream",
     "text": [
      "Processing frame with id: a14ba486-6c54-4fdf-83f3-be7eb5a503db, 2/6\r"
     ]
    }
   ],
   "source": [
    "from tg.projects.book_tasks.fragments_builder import FragmentsBuilder\n",
    "\n",
    "\n",
    "fragments_builder = FragmentsBuilder(cip_reader, file_name=\"cip_fragments\")\n",
    "fragments_builder.construct_fragments_json()\n",
    "fragments_builder.construct_fragments_corpus()"
   ]
  },
  {
   "cell_type": "code",
   "execution_count": 17,
   "metadata": {},
   "outputs": [
    {
     "data": {
      "text/html": [
       "<div>\n",
       "<style scoped>\n",
       "    .dataframe tbody tr th:only-of-type {\n",
       "        vertical-align: middle;\n",
       "    }\n",
       "\n",
       "    .dataframe tbody tr th {\n",
       "        vertical-align: top;\n",
       "    }\n",
       "\n",
       "    .dataframe thead th {\n",
       "        text-align: right;\n",
       "    }\n",
       "</style>\n",
       "<table border=\"1\" class=\"dataframe\">\n",
       "  <thead>\n",
       "    <tr style=\"text-align: right;\">\n",
       "      <th></th>\n",
       "      <th>id</th>\n",
       "      <th>file_id</th>\n",
       "      <th>word</th>\n",
       "      <th>word_length</th>\n",
       "      <th>prompt</th>\n",
       "      <th>text_narrative</th>\n",
       "      <th>text_dialog</th>\n",
       "      <th>retell</th>\n",
       "      <th>word_start_id</th>\n",
       "      <th>word_end_id</th>\n",
       "      <th>word_id</th>\n",
       "      <th>sentence_id</th>\n",
       "      <th>paragraph_id</th>\n",
       "      <th>corpus_id</th>\n",
       "    </tr>\n",
       "  </thead>\n",
       "  <tbody>\n",
       "    <tr>\n",
       "      <th>0</th>\n",
       "      <td>84162b9e-942a-11ee-9582-c3d46d71b757</td>\n",
       "      <td>c5a3e891-d51d-4e53-bcb7-381bb98596ba</td>\n",
       "      <td>0</td>\n",
       "      <td>0</td>\n",
       "      <td>retell this text in simple sentences and simpl...</td>\n",
       "      <td>Yet everything worked out well. The caretaker'...</td>\n",
       "      <td>If the caretaker had asked him, “What do you w...</td>\n",
       "      <td></td>\n",
       "      <td>43251</td>\n",
       "      <td>187</td>\n",
       "      <td>1</td>\n",
       "      <td>1</td>\n",
       "      <td>1</td>\n",
       "      <td>cip_fragments.base.zip</td>\n",
       "    </tr>\n",
       "  </tbody>\n",
       "</table>\n",
       "</div>"
      ],
      "text/plain": [
       "                                     id                               file_id  \\\n",
       "0  84162b9e-942a-11ee-9582-c3d46d71b757  c5a3e891-d51d-4e53-bcb7-381bb98596ba   \n",
       "\n",
       "   word  word_length                                             prompt  \\\n",
       "0     0            0  retell this text in simple sentences and simpl...   \n",
       "\n",
       "                                      text_narrative  \\\n",
       "0  Yet everything worked out well. The caretaker'...   \n",
       "\n",
       "                                         text_dialog retell  word_start_id  \\\n",
       "0  If the caretaker had asked him, “What do you w...                 43251   \n",
       "\n",
       "   word_end_id  word_id  sentence_id  paragraph_id               corpus_id  \n",
       "0          187        1            1             1  cip_fragments.base.zip  "
      ]
     },
     "execution_count": 17,
     "metadata": {},
     "output_type": "execute_result"
    }
   ],
   "source": [
    "cip_fragments_corpus = Path('./files/cip_fragments.base.zip')\n",
    "cip_fragments_reader = CorpusReader(cip_fragments_corpus)\n",
    "\n",
    "cip_fragments_reader.get_frames().first()"
   ]
  },
  {
   "cell_type": "markdown",
   "metadata": {},
   "source": [
    "### Формируем корпус для русского переcказа"
   ]
  },
  {
   "cell_type": "markdown",
   "metadata": {},
   "source": [
    "convert_interformat_folder_to_corpus - добавить сепаратор"
   ]
  },
  {
   "cell_type": "code",
   "execution_count": 3,
   "metadata": {},
   "outputs": [
    {
     "data": {
      "application/vnd.jupyter.widget-view+json": {
       "model_id": "9d365b71b6e2418cae00d09d3424403c",
       "version_major": 2,
       "version_minor": 0
      },
      "text/plain": [
       "  0%|          | 0/1 [00:00<?, ?it/s]"
      ]
     },
     "metadata": {},
     "output_type": "display_data"
    }
   ],
   "source": [
    "from tg.grammar_ru.corpus import CorpusBuilder\n",
    "from pathlib import Path\n",
    "\n",
    "\n",
    "CorpusBuilder.convert_interformat_folder_to_corpus(\n",
    "        Path('./files/ru_example.base.zip'), \n",
    "        Path('./source/retell/ru'),\n",
    "        [\"Name\"],\n",
    "        \n",
    ")"
   ]
  },
  {
   "cell_type": "code",
   "execution_count": 4,
   "metadata": {},
   "outputs": [
    {
     "data": {
      "text/html": [
       "<div>\n",
       "<style scoped>\n",
       "    .dataframe tbody tr th:only-of-type {\n",
       "        vertical-align: middle;\n",
       "    }\n",
       "\n",
       "    .dataframe tbody tr th {\n",
       "        vertical-align: top;\n",
       "    }\n",
       "\n",
       "    .dataframe thead th {\n",
       "        text-align: right;\n",
       "    }\n",
       "</style>\n",
       "<table border=\"1\" class=\"dataframe\">\n",
       "  <thead>\n",
       "    <tr style=\"text-align: right;\">\n",
       "      <th></th>\n",
       "      <th>filename</th>\n",
       "      <th>timestamp</th>\n",
       "      <th>part_index</th>\n",
       "      <th>token_count</th>\n",
       "      <th>character_count</th>\n",
       "      <th>ordinal</th>\n",
       "      <th>header_0</th>\n",
       "      <th>headers</th>\n",
       "      <th>Name</th>\n",
       "      <th>max_id</th>\n",
       "    </tr>\n",
       "    <tr>\n",
       "      <th>file_id</th>\n",
       "      <th></th>\n",
       "      <th></th>\n",
       "      <th></th>\n",
       "      <th></th>\n",
       "      <th></th>\n",
       "      <th></th>\n",
       "      <th></th>\n",
       "      <th></th>\n",
       "      <th></th>\n",
       "      <th></th>\n",
       "    </tr>\n",
       "  </thead>\n",
       "  <tbody>\n",
       "    <tr>\n",
       "      <th>566f4e6b-a868-4381-9900-4eb16694f859</th>\n",
       "      <td>ru_retell.md</td>\n",
       "      <td>2023-12-06 14:03:51.810575</td>\n",
       "      <td>0</td>\n",
       "      <td>396</td>\n",
       "      <td>1814</td>\n",
       "      <td>0</td>\n",
       "      <td>Глава 1: Знакомство с Родионом</td>\n",
       "      <td>Глава 1: Знакомство с Родионом</td>\n",
       "      <td>ru_retell</td>\n",
       "      <td>397</td>\n",
       "    </tr>\n",
       "    <tr>\n",
       "      <th>22eb45f8-b799-4c08-ae36-ac3c63e42b44</th>\n",
       "      <td>ru_retell.md</td>\n",
       "      <td>2023-12-06 14:03:51.850895</td>\n",
       "      <td>1</td>\n",
       "      <td>704</td>\n",
       "      <td>3090</td>\n",
       "      <td>1</td>\n",
       "      <td>Глава 2: Встреча с Мармеладовым</td>\n",
       "      <td>Глава 2: Встреча с Мармеладовым</td>\n",
       "      <td>ru_retell</td>\n",
       "      <td>11102</td>\n",
       "    </tr>\n",
       "    <tr>\n",
       "      <th>47ba2899-a6f1-4220-baa3-bc1fce5d147c</th>\n",
       "      <td>ru_retell.md</td>\n",
       "      <td>2023-12-06 14:03:51.881517</td>\n",
       "      <td>2</td>\n",
       "      <td>280</td>\n",
       "      <td>1330</td>\n",
       "      <td>2</td>\n",
       "      <td>Глава 3: Письмо матери</td>\n",
       "      <td>Глава 3: Письмо матери</td>\n",
       "      <td>ru_retell</td>\n",
       "      <td>21383</td>\n",
       "    </tr>\n",
       "    <tr>\n",
       "      <th>2e9eca52-f6cf-4aff-b0e6-c7b798ad9c05</th>\n",
       "      <td>ru_retell.md</td>\n",
       "      <td>2023-12-06 14:03:51.908177</td>\n",
       "      <td>3</td>\n",
       "      <td>461</td>\n",
       "      <td>2020</td>\n",
       "      <td>3</td>\n",
       "      <td>Глава 4: Мысли о сестре</td>\n",
       "      <td>Глава 4: Мысли о сестре</td>\n",
       "      <td>ru_retell</td>\n",
       "      <td>31845</td>\n",
       "    </tr>\n",
       "    <tr>\n",
       "      <th>2f274a11-ef5f-4fde-bf06-1fd9e7a017fa</th>\n",
       "      <td>ru_retell.md</td>\n",
       "      <td>2023-12-06 14:03:51.940697</td>\n",
       "      <td>4</td>\n",
       "      <td>193</td>\n",
       "      <td>892</td>\n",
       "      <td>4</td>\n",
       "      <td>Глава 5: Сон Раскольникова</td>\n",
       "      <td>Глава 5: Сон Раскольникова</td>\n",
       "      <td>ru_retell</td>\n",
       "      <td>42039</td>\n",
       "    </tr>\n",
       "    <tr>\n",
       "      <th>409eca8b-248d-4206-8c75-843472a73511</th>\n",
       "      <td>ru_retell.md</td>\n",
       "      <td>2023-12-06 14:03:51.968261</td>\n",
       "      <td>5</td>\n",
       "      <td>330</td>\n",
       "      <td>1457</td>\n",
       "      <td>5</td>\n",
       "      <td>Глава 6: Подготовка к убийству</td>\n",
       "      <td>Глава 6: Подготовка к убийству</td>\n",
       "      <td>ru_retell</td>\n",
       "      <td>52370</td>\n",
       "    </tr>\n",
       "    <tr>\n",
       "      <th>cd4f9019-6470-4f54-8bc6-a2301c97a395</th>\n",
       "      <td>ru_retell.md</td>\n",
       "      <td>2023-12-06 14:03:51.998333</td>\n",
       "      <td>6</td>\n",
       "      <td>308</td>\n",
       "      <td>1383</td>\n",
       "      <td>6</td>\n",
       "      <td>Глава 7: Преступление</td>\n",
       "      <td>Глава 7: Преступление</td>\n",
       "      <td>ru_retell</td>\n",
       "      <td>62679</td>\n",
       "    </tr>\n",
       "  </tbody>\n",
       "</table>\n",
       "</div>"
      ],
      "text/plain": [
       "                                          filename                  timestamp  \\\n",
       "file_id                                                                         \n",
       "566f4e6b-a868-4381-9900-4eb16694f859  ru_retell.md 2023-12-06 14:03:51.810575   \n",
       "22eb45f8-b799-4c08-ae36-ac3c63e42b44  ru_retell.md 2023-12-06 14:03:51.850895   \n",
       "47ba2899-a6f1-4220-baa3-bc1fce5d147c  ru_retell.md 2023-12-06 14:03:51.881517   \n",
       "2e9eca52-f6cf-4aff-b0e6-c7b798ad9c05  ru_retell.md 2023-12-06 14:03:51.908177   \n",
       "2f274a11-ef5f-4fde-bf06-1fd9e7a017fa  ru_retell.md 2023-12-06 14:03:51.940697   \n",
       "409eca8b-248d-4206-8c75-843472a73511  ru_retell.md 2023-12-06 14:03:51.968261   \n",
       "cd4f9019-6470-4f54-8bc6-a2301c97a395  ru_retell.md 2023-12-06 14:03:51.998333   \n",
       "\n",
       "                                      part_index  token_count  \\\n",
       "file_id                                                         \n",
       "566f4e6b-a868-4381-9900-4eb16694f859           0          396   \n",
       "22eb45f8-b799-4c08-ae36-ac3c63e42b44           1          704   \n",
       "47ba2899-a6f1-4220-baa3-bc1fce5d147c           2          280   \n",
       "2e9eca52-f6cf-4aff-b0e6-c7b798ad9c05           3          461   \n",
       "2f274a11-ef5f-4fde-bf06-1fd9e7a017fa           4          193   \n",
       "409eca8b-248d-4206-8c75-843472a73511           5          330   \n",
       "cd4f9019-6470-4f54-8bc6-a2301c97a395           6          308   \n",
       "\n",
       "                                      character_count  ordinal  \\\n",
       "file_id                                                          \n",
       "566f4e6b-a868-4381-9900-4eb16694f859             1814        0   \n",
       "22eb45f8-b799-4c08-ae36-ac3c63e42b44             3090        1   \n",
       "47ba2899-a6f1-4220-baa3-bc1fce5d147c             1330        2   \n",
       "2e9eca52-f6cf-4aff-b0e6-c7b798ad9c05             2020        3   \n",
       "2f274a11-ef5f-4fde-bf06-1fd9e7a017fa              892        4   \n",
       "409eca8b-248d-4206-8c75-843472a73511             1457        5   \n",
       "cd4f9019-6470-4f54-8bc6-a2301c97a395             1383        6   \n",
       "\n",
       "                                                             header_0  \\\n",
       "file_id                                                                 \n",
       "566f4e6b-a868-4381-9900-4eb16694f859   Глава 1: Знакомство с Родионом   \n",
       "22eb45f8-b799-4c08-ae36-ac3c63e42b44  Глава 2: Встреча с Мармеладовым   \n",
       "47ba2899-a6f1-4220-baa3-bc1fce5d147c           Глава 3: Письмо матери   \n",
       "2e9eca52-f6cf-4aff-b0e6-c7b798ad9c05          Глава 4: Мысли о сестре   \n",
       "2f274a11-ef5f-4fde-bf06-1fd9e7a017fa       Глава 5: Сон Раскольникова   \n",
       "409eca8b-248d-4206-8c75-843472a73511   Глава 6: Подготовка к убийству   \n",
       "cd4f9019-6470-4f54-8bc6-a2301c97a395            Глава 7: Преступление   \n",
       "\n",
       "                                                              headers  \\\n",
       "file_id                                                                 \n",
       "566f4e6b-a868-4381-9900-4eb16694f859   Глава 1: Знакомство с Родионом   \n",
       "22eb45f8-b799-4c08-ae36-ac3c63e42b44  Глава 2: Встреча с Мармеладовым   \n",
       "47ba2899-a6f1-4220-baa3-bc1fce5d147c           Глава 3: Письмо матери   \n",
       "2e9eca52-f6cf-4aff-b0e6-c7b798ad9c05          Глава 4: Мысли о сестре   \n",
       "2f274a11-ef5f-4fde-bf06-1fd9e7a017fa       Глава 5: Сон Раскольникова   \n",
       "409eca8b-248d-4206-8c75-843472a73511   Глава 6: Подготовка к убийству   \n",
       "cd4f9019-6470-4f54-8bc6-a2301c97a395            Глава 7: Преступление   \n",
       "\n",
       "                                           Name  max_id  \n",
       "file_id                                                  \n",
       "566f4e6b-a868-4381-9900-4eb16694f859  ru_retell     397  \n",
       "22eb45f8-b799-4c08-ae36-ac3c63e42b44  ru_retell   11102  \n",
       "47ba2899-a6f1-4220-baa3-bc1fce5d147c  ru_retell   21383  \n",
       "2e9eca52-f6cf-4aff-b0e6-c7b798ad9c05  ru_retell   31845  \n",
       "2f274a11-ef5f-4fde-bf06-1fd9e7a017fa  ru_retell   42039  \n",
       "409eca8b-248d-4206-8c75-843472a73511  ru_retell   52370  \n",
       "cd4f9019-6470-4f54-8bc6-a2301c97a395  ru_retell   62679  "
      ]
     },
     "execution_count": 4,
     "metadata": {},
     "output_type": "execute_result"
    }
   ],
   "source": [
    "\n",
    "from tg.grammar_ru.corpus import CorpusReader\n",
    "\n",
    "ru_retell_corpus = CorpusReader(Path('./files/ru_example.base.zip'))\n",
    "\n",
    "ru_retell_corpus.get_toc() \n"
   ]
  },
  {
   "cell_type": "markdown",
   "metadata": {},
   "source": [
    "### Формируем корпус для английского переcказа"
   ]
  },
  {
   "cell_type": "code",
   "execution_count": 5,
   "metadata": {},
   "outputs": [
    {
     "data": {
      "application/vnd.jupyter.widget-view+json": {
       "model_id": "c2fc97e7196446f4abc5b7354a772f39",
       "version_major": 2,
       "version_minor": 0
      },
      "text/plain": [
       "  0%|          | 0/1 [00:00<?, ?it/s]"
      ]
     },
     "metadata": {},
     "output_type": "display_data"
    }
   ],
   "source": [
    "CorpusBuilder.convert_interformat_folder_to_corpus(\n",
    "        Path('./files/eng_example.base.zip'),\n",
    "        Path(\"./source/retell/eng\"),\n",
    "        [\"Name\"],\n",
    "        \n",
    ")"
   ]
  },
  {
   "cell_type": "code",
   "execution_count": 6,
   "metadata": {},
   "outputs": [
    {
     "data": {
      "text/html": [
       "<div>\n",
       "<style scoped>\n",
       "    .dataframe tbody tr th:only-of-type {\n",
       "        vertical-align: middle;\n",
       "    }\n",
       "\n",
       "    .dataframe tbody tr th {\n",
       "        vertical-align: top;\n",
       "    }\n",
       "\n",
       "    .dataframe thead th {\n",
       "        text-align: right;\n",
       "    }\n",
       "</style>\n",
       "<table border=\"1\" class=\"dataframe\">\n",
       "  <thead>\n",
       "    <tr style=\"text-align: right;\">\n",
       "      <th></th>\n",
       "      <th>filename</th>\n",
       "      <th>timestamp</th>\n",
       "      <th>part_index</th>\n",
       "      <th>token_count</th>\n",
       "      <th>character_count</th>\n",
       "      <th>ordinal</th>\n",
       "      <th>header_0</th>\n",
       "      <th>headers</th>\n",
       "      <th>Name</th>\n",
       "      <th>max_id</th>\n",
       "    </tr>\n",
       "    <tr>\n",
       "      <th>file_id</th>\n",
       "      <th></th>\n",
       "      <th></th>\n",
       "      <th></th>\n",
       "      <th></th>\n",
       "      <th></th>\n",
       "      <th></th>\n",
       "      <th></th>\n",
       "      <th></th>\n",
       "      <th></th>\n",
       "      <th></th>\n",
       "    </tr>\n",
       "  </thead>\n",
       "  <tbody>\n",
       "    <tr>\n",
       "      <th>2d536f03-bacc-4c39-b7f5-17907ccda476</th>\n",
       "      <td>eng_retell.md</td>\n",
       "      <td>2023-12-06 14:03:58.794609</td>\n",
       "      <td>0</td>\n",
       "      <td>782</td>\n",
       "      <td>3092</td>\n",
       "      <td>0</td>\n",
       "      <td>Chapter 1:</td>\n",
       "      <td>Chapter 1:</td>\n",
       "      <td>eng_retell</td>\n",
       "      <td>783</td>\n",
       "    </tr>\n",
       "    <tr>\n",
       "      <th>a5903b61-659a-4245-a135-1df095c23b2a</th>\n",
       "      <td>eng_retell.md</td>\n",
       "      <td>2023-12-06 14:03:58.803134</td>\n",
       "      <td>1</td>\n",
       "      <td>783</td>\n",
       "      <td>3274</td>\n",
       "      <td>1</td>\n",
       "      <td>Chapter 2:</td>\n",
       "      <td>Chapter 2:</td>\n",
       "      <td>eng_retell</td>\n",
       "      <td>11567</td>\n",
       "    </tr>\n",
       "    <tr>\n",
       "      <th>2e66faf9-3d14-4915-af97-b39521ac5657</th>\n",
       "      <td>eng_retell.md</td>\n",
       "      <td>2023-12-06 14:03:58.830937</td>\n",
       "      <td>2</td>\n",
       "      <td>729</td>\n",
       "      <td>3015</td>\n",
       "      <td>2</td>\n",
       "      <td>Chapter 3:</td>\n",
       "      <td>Chapter 3:</td>\n",
       "      <td>eng_retell</td>\n",
       "      <td>22297</td>\n",
       "    </tr>\n",
       "    <tr>\n",
       "      <th>98822bb0-6a08-4b54-96fd-fe6fc9f2487c</th>\n",
       "      <td>eng_retell.md</td>\n",
       "      <td>2023-12-06 14:03:58.858003</td>\n",
       "      <td>3</td>\n",
       "      <td>739</td>\n",
       "      <td>2927</td>\n",
       "      <td>3</td>\n",
       "      <td>Chapter 4:</td>\n",
       "      <td>Chapter 4:</td>\n",
       "      <td>eng_retell</td>\n",
       "      <td>33037</td>\n",
       "    </tr>\n",
       "    <tr>\n",
       "      <th>bd6cf58f-c26e-4f43-9cc2-306a298d8406</th>\n",
       "      <td>eng_retell.md</td>\n",
       "      <td>2023-12-06 14:03:58.886842</td>\n",
       "      <td>4</td>\n",
       "      <td>917</td>\n",
       "      <td>3598</td>\n",
       "      <td>4</td>\n",
       "      <td>Chapter 5:</td>\n",
       "      <td>Chapter 5:</td>\n",
       "      <td>eng_retell</td>\n",
       "      <td>43955</td>\n",
       "    </tr>\n",
       "    <tr>\n",
       "      <th>4e979663-35ef-489b-a0d2-3b3f388b67d6</th>\n",
       "      <td>eng_retell.md</td>\n",
       "      <td>2023-12-06 14:03:58.934016</td>\n",
       "      <td>5</td>\n",
       "      <td>1024</td>\n",
       "      <td>4168</td>\n",
       "      <td>5</td>\n",
       "      <td>Chapter 6:</td>\n",
       "      <td>Chapter 6:</td>\n",
       "      <td>eng_retell</td>\n",
       "      <td>54980</td>\n",
       "    </tr>\n",
       "    <tr>\n",
       "      <th>7759c011-1067-48c7-aa6c-c5409af79d02</th>\n",
       "      <td>eng_retell.md</td>\n",
       "      <td>2023-12-06 14:03:58.972185</td>\n",
       "      <td>6</td>\n",
       "      <td>1030</td>\n",
       "      <td>4085</td>\n",
       "      <td>6</td>\n",
       "      <td>Chapter 7:</td>\n",
       "      <td>Chapter 7:</td>\n",
       "      <td>eng_retell</td>\n",
       "      <td>66011</td>\n",
       "    </tr>\n",
       "  </tbody>\n",
       "</table>\n",
       "</div>"
      ],
      "text/plain": [
       "                                           filename  \\\n",
       "file_id                                               \n",
       "2d536f03-bacc-4c39-b7f5-17907ccda476  eng_retell.md   \n",
       "a5903b61-659a-4245-a135-1df095c23b2a  eng_retell.md   \n",
       "2e66faf9-3d14-4915-af97-b39521ac5657  eng_retell.md   \n",
       "98822bb0-6a08-4b54-96fd-fe6fc9f2487c  eng_retell.md   \n",
       "bd6cf58f-c26e-4f43-9cc2-306a298d8406  eng_retell.md   \n",
       "4e979663-35ef-489b-a0d2-3b3f388b67d6  eng_retell.md   \n",
       "7759c011-1067-48c7-aa6c-c5409af79d02  eng_retell.md   \n",
       "\n",
       "                                                      timestamp  part_index  \\\n",
       "file_id                                                                       \n",
       "2d536f03-bacc-4c39-b7f5-17907ccda476 2023-12-06 14:03:58.794609           0   \n",
       "a5903b61-659a-4245-a135-1df095c23b2a 2023-12-06 14:03:58.803134           1   \n",
       "2e66faf9-3d14-4915-af97-b39521ac5657 2023-12-06 14:03:58.830937           2   \n",
       "98822bb0-6a08-4b54-96fd-fe6fc9f2487c 2023-12-06 14:03:58.858003           3   \n",
       "bd6cf58f-c26e-4f43-9cc2-306a298d8406 2023-12-06 14:03:58.886842           4   \n",
       "4e979663-35ef-489b-a0d2-3b3f388b67d6 2023-12-06 14:03:58.934016           5   \n",
       "7759c011-1067-48c7-aa6c-c5409af79d02 2023-12-06 14:03:58.972185           6   \n",
       "\n",
       "                                      token_count  character_count  ordinal  \\\n",
       "file_id                                                                       \n",
       "2d536f03-bacc-4c39-b7f5-17907ccda476          782             3092        0   \n",
       "a5903b61-659a-4245-a135-1df095c23b2a          783             3274        1   \n",
       "2e66faf9-3d14-4915-af97-b39521ac5657          729             3015        2   \n",
       "98822bb0-6a08-4b54-96fd-fe6fc9f2487c          739             2927        3   \n",
       "bd6cf58f-c26e-4f43-9cc2-306a298d8406          917             3598        4   \n",
       "4e979663-35ef-489b-a0d2-3b3f388b67d6         1024             4168        5   \n",
       "7759c011-1067-48c7-aa6c-c5409af79d02         1030             4085        6   \n",
       "\n",
       "                                        header_0     headers        Name  \\\n",
       "file_id                                                                    \n",
       "2d536f03-bacc-4c39-b7f5-17907ccda476  Chapter 1:  Chapter 1:  eng_retell   \n",
       "a5903b61-659a-4245-a135-1df095c23b2a  Chapter 2:  Chapter 2:  eng_retell   \n",
       "2e66faf9-3d14-4915-af97-b39521ac5657  Chapter 3:  Chapter 3:  eng_retell   \n",
       "98822bb0-6a08-4b54-96fd-fe6fc9f2487c  Chapter 4:  Chapter 4:  eng_retell   \n",
       "bd6cf58f-c26e-4f43-9cc2-306a298d8406  Chapter 5:  Chapter 5:  eng_retell   \n",
       "4e979663-35ef-489b-a0d2-3b3f388b67d6  Chapter 6:  Chapter 6:  eng_retell   \n",
       "7759c011-1067-48c7-aa6c-c5409af79d02  Chapter 7:  Chapter 7:  eng_retell   \n",
       "\n",
       "                                      max_id  \n",
       "file_id                                       \n",
       "2d536f03-bacc-4c39-b7f5-17907ccda476     783  \n",
       "a5903b61-659a-4245-a135-1df095c23b2a   11567  \n",
       "2e66faf9-3d14-4915-af97-b39521ac5657   22297  \n",
       "98822bb0-6a08-4b54-96fd-fe6fc9f2487c   33037  \n",
       "bd6cf58f-c26e-4f43-9cc2-306a298d8406   43955  \n",
       "4e979663-35ef-489b-a0d2-3b3f388b67d6   54980  \n",
       "7759c011-1067-48c7-aa6c-c5409af79d02   66011  "
      ]
     },
     "execution_count": 6,
     "metadata": {},
     "output_type": "execute_result"
    }
   ],
   "source": [
    "en_retell_corpus = CorpusReader(Path('./files/eng_example.base.zip'))\n",
    "\n",
    "en_retell_corpus.get_toc() "
   ]
  },
  {
   "cell_type": "markdown",
   "metadata": {},
   "source": [
    "### Получаем текст пересказа из русского корпуса"
   ]
  },
  {
   "cell_type": "markdown",
   "metadata": {},
   "source": [
    "C:\\Users\\nikya\\PycharmProjects\\grammar\\grammar_ru\\tg\\grammar_ru\\common\\separator"
   ]
  },
  {
   "cell_type": "code",
   "execution_count": 7,
   "metadata": {},
   "outputs": [
    {
     "name": "stdout",
     "output_type": "stream",
     "text": [
      "В Петербурге жаркое и душное лето .\n",
      "Один молодой человек выходит из своей каморки , пытаясь избежать встречи с хозяйкой — он давно уже не платит за квартиру .\n",
      "Его гордость страдает от этого , а потому настроение героя нельзя назвать хорошим .\n",
      "В последнее время он вообще стал напоминать ипохондрика : тяготился обществом людей , избегал их и говорил преимущественно сам с собой .\n",
      "Выйдя на улицу , он обдумывает какое-то таинственное дело , на которое он якобы не способен .\n",
      "Его тревожит , что он не соответствует тому делу , на которое решился .\n",
      "Герой нарочно растравляет себя мыслями о том , что ему не по плечу задуманное .\n",
      "Колорит улиц вторит его мрачным думам : везде пьяные и развратные люди , крики , невеселый смех .\n",
      "На улице его грубо окликнули « немецким шляпником » из-за его дырявой рыжей шляпы с пятнами , о которой герой задумался с испугом , но не стыдом .\n",
      "Он рассуждает про себя , что шляпа погубит все дело .\n",
      "Она слишком приметная .\n",
      "Но весь вид молодого человека был таковым : он был настолько неряшливо и бедно одет , что даже нищий постеснялся бы пройтись так по улице .\n",
      "Герой дошел до дома и зашел в подъезд , попутно подмечая все несущественные детали : кто-то съезжает , кто-то делает ремонт .\n",
      "Он позвонил , и его на пороге встретила старуха со злыми глазами и жидкими волосами , обильно политыми маслом .\n",
      "Она подозрительно смотрит на него и неохотно завязывает диалог .\n",
      "Герой представился Родионом Раскольниковым и предложил в качестве заклада отцовские часы .\n",
      "Старуха оценила их на полтора рубля .\n",
      "Все попытки торга были безуспешными .\n",
      "Пока она возится с комодом и достает деньги , Родион наблюдает за каждой мелочью : отмечает феноменальную чистоту в доме , спрашивает старуху о сестре , на что получает сухой ответ .\n",
      "Судя по мыслям Родиона , можно заключить , что он очень многое знает о жизни процентщицы .\n",
      "Выйдя от старухи , герой ощущает отвращение к себе .\n",
      "Он точно не способен на ЭТО !\n",
      "Все мысли о деле кажутся ему мерзкими , недостойными , и он пришел к выводу , что они навеяны голодом ( двое суток он голодал ) .\n",
      "Он набрел на трактир и вошел .\n",
      "Там было мало народу , но Раскольникову бросился в глаза один тревожный и сосредоточенный пьяный , похожий на отставного чиновника .\n"
     ]
    }
   ],
   "source": [
    "from tg.projects.retell.translate.utils import get_array_chapters\n",
    "\n",
    "ru_retell = get_array_chapters(ru_retell_corpus)\n",
    "\n",
    "print(ru_retell[0])"
   ]
  },
  {
   "cell_type": "markdown",
   "metadata": {},
   "source": [
    "### Получаем текст пересказа из англиского корпуса"
   ]
  },
  {
   "cell_type": "code",
   "execution_count": 8,
   "metadata": {},
   "outputs": [
    {
     "name": "stdout",
     "output_type": "stream",
     "text": [
      "It is early July in St .\n",
      "Petersburg , and very hot .\n",
      "A good-looking young man who is nearly destitute and greatly in debt to his landlady manages to slip out of the house unnoticed .\n",
      "He is relieved , not because he is a coward by nature but because he has been irritable and tense for some time and dreads meeting anyone at all , let alone his landlady .\n",
      "The young man thinks to himself in a rapidly rambling fashion about some unknown deed which he seems torn about committing .\n",
      "On the one hand , he wants to do it , but on the other he tries to convince himself that he is merely toying with the idea and isn ' t serious about pursuing it into action .\n",
      "The youth is revolted by the heat and stench of his surroundings , but loses himself in his thoughts , which sometimes become muddled as he has not eaten much in two days .\n",
      "He is roused from his reverie by a drunk shouting an insult about his hat .\n",
      "Suddenly afraid , he clutches his hat , and mutters feverishly to himself that the hat is too conspicuous and can be \" noticed . . . and remembered \" as evidence .\n",
      "He approaches a house , where he is to \" make a trial of his undertaking \" ( i . e . the unknown deed preying on his mind ) .\n",
      "He climbs up the back stairs to the fourth floor , noting that one of the tenants on that floor is moving out , so that \" for a while only the old woman ' s apartment will be left occupied .\n",
      "That ' s good . . . just in case . . . , \" he thinks before ringing the bell .\n",
      "The door is answered by a suspicious sixty-year-old woman , who mistrustfully lets him in .\n",
      "The young man introduces himself as \" Raskolnikov , a student , \" who had been to her a month ago .\n",
      "The woman remembers him , and lets him come into another room .\n",
      "With his characteristic hyper-awareness , Raskolnikov notes every detail of the spotless room and its furniture .\n",
      "It turns out that this old lady , Alyona Ivanovna , is a pawnbroker , and Raskolnikov had gone to her a month ago with a ring of his father ' s .\n",
      "His pledge has expired , but he begs her to be patient and presents her with an old watch .\n",
      "He asks four roubles ; she offers one and a half with interest paid in advance .\n",
      "Raskolnikov is angered , but he has no other way , and recalling his original purpose of a \" trial , \" he reluctantly accepts her offer .\n",
      "He watches Alyona Ivanovna get out her keys and go into another room .\n",
      "As he waits , he listens and figures out what she is doingopening the top drawer , with which key , etc .\n",
      "She returns with his money , having deducted the interest from not only the current pledge but the previous one as well , so he gets only one rouble 15 kopecks .\n",
      "Raskolnikov doesn ' t argue , and takes the money , then mumbles something about bringing her a nice silver cigarette case later .\n",
      "As he walks out , he asks casually whether she stays at home alone , without her sister , but is answered with a suspicious question only .\n",
      "He leaves as quickly as he can , feeling disturbed , and his agitation increases until , in the middle of the street , he bursts out incredulously about his contemplation of \" such horror , \" which has been dogging his thoughts for a month .\n",
      "This outburst does nothing to relieve him , however , and weaves down the street unevenly until he returns to his senses near a tavern .\n",
      "He immediately enters , suddenly realizing how faint he is from hunger and thirst .\n",
      "Once he drinks a cold beer , he feels relieved , and starts to think more rationally , trying to tell himself that he only needed some nourishment and that there is really nothing to worry about .\n",
      "However , he does sense a dim foreboding that his cheerfulness is just as morbid as his previous state .\n",
      "There are not many people in the tavern : a tradesman , his friendwho has dozed off and awakens every so often to sing some maudlin tuneand someone who looks like a retired official and appears agitated .\n"
     ]
    }
   ],
   "source": [
    "true_retell = get_array_chapters(en_retell_corpus)\n",
    "\n",
    "print(true_retell[0])"
   ]
  },
  {
   "cell_type": "markdown",
   "metadata": {},
   "source": [
    "### Переводим текст из английского пересказа"
   ]
  },
  {
   "cell_type": "code",
   "execution_count": 9,
   "metadata": {},
   "outputs": [
    {
     "name": "stdout",
     "output_type": "stream",
     "text": [
      "В Санкт-Петербурге начало июля.\n",
      "В Петербурге, и очень жарко.\n",
      "Симпатичному молодому человеку, почти нищему и сильно обязанному своей хозяйке, удается незаметно выскользнуть из дома.\n",
      "Он чувствует облегчение не потому, что он трус по натуре, а потому, что с некоторых пор он раздражителен и напряжен и боится вообще с кем-либо встречаться, не говоря уже о своей хозяйке.\n",
      "Молодой человек быстро и бессвязно думает о каком-то неизвестном поступке, о совершении которого он, кажется, рвется.\n",
      "С одной стороны, он хочет это сделать, но с другой, он пытается убедить себя, что он просто играет с идеей и несерьезно претворяет ее в жизнь.\n",
      "Юноша испытывает отвращение к жаре и смраду окружающей среды, но теряется в своих мыслях, которые иногда путаются, поскольку он почти ничего не ел за два дня.\n",
      "Его выводит из задумчивости пьяный, выкрикивающий оскорбления в адрес его шляпы.\n",
      "Внезапно испугавшись, он хватается за шляпу и лихорадочно бормочет про себя, что шляпа слишком бросается в глаза и ее можно \"заметить... и запомнить\" как доказательство.\n",
      "Он приближается к дому, где ему предстоит «испытать свое начинание» (т. е. неизвестное дело терзает его разум).\n",
      "Он поднимается по черной лестнице на четвертый этаж, замечая, что один из жильцов этого этажа съезжает, так что «на время только квартира старухи останется занятой».\n",
      "Это хорошо . . . на всякий случай . . . \", - думает он, прежде чем позвонить в колокольчик.\n",
      "Дверь открывает подозрительная шестидесятилетняя женщина, которая недоверчиво впускает его.\n",
      "Молодой человек представляется как «Раскольников-студент», который был у нее месяц назад.\n",
      "Женщина вспоминает о нем и пропускает в другую комнату.\n",
      "Со свойственной ему сверхсознательностью Раскольников подмечает каждую деталь безупречной комнаты и ее мебели.\n",
      "Оказывается, эта старушка, Алена Ивановна, ростовщица, и Раскольников месяц назад ходил к ней с отцовским кольцом.\n",
      "Срок его залога истек, но он умоляет ее набраться терпения и дарит ей старые часы.\n",
      "Он просит четыре рубля; она предлагает полтора с предоплатой процентов.\n",
      "Раскольников возмущен, но другого выхода у него нет и, вспомнив о своей первоначальной цели «испытания», неохотно принимает ее предложение.\n",
      "Он смотрит, как Алена Ивановна достает ключи и уходит в другую комнату.\n",
      "Пока он ждет, он слушает и выясняет, что она делает: открывает верхний ящик, каким ключом и т. д.\n",
      "Она возвращается с его деньгами, вычитая проценты не только из текущего залога, но и из предыдущего, так что он получает только один рубль 15 копеек.\n",
      "Раскольников не спорит, берет деньги и бормочет что-то о том, чтобы потом принести ей красивый серебряный портсигар.\n",
      "Выходя, он небрежно спрашивает, остается ли она дома одна, без сестры, но ему отвечают только подозрительным вопросом.\n",
      "Он уходит так быстро, как только может, чувствуя себя встревоженным, и волнение его возрастает до тех пор, пока посреди улицы он не вырывается с недоверием о своем созерцании \"такого ужаса\", который преследовал его мысли уже месяц.\n",
      "Однако эта вспышка не приносит ему облегчения и неравномерно плетется по улице, пока он не приходит в себя возле таверны.\n",
      "Он тотчас же входит, вдруг осознав, насколько он слаб от голода и жажды.\n",
      "Как только он выпивает холодное пиво, он чувствует облегчение и начинает мыслить более рационально, пытаясь сказать себе, что ему нужно только немного подкрепиться и что на самом деле беспокоиться не о чем.\n",
      "Однако он чувствует смутное предчувствие, что его жизнерадостность столь же болезненна, как и его предыдущее состояние.\n",
      "Людей в таверне немного: торговец, его друг, который задремал и время от времени просыпается, чтобы спеть какую-нибудь сентиментальную мелодию, и кто-то, похожий на отставного чиновника и выглядящий взволнованным.\n"
     ]
    }
   ],
   "source": [
    "from tg.projects.retell.translate.utils import translate\n",
    "trans_retell = translate(true_retell)\n",
    "print(trans_retell[0])"
   ]
  },
  {
   "cell_type": "markdown",
   "metadata": {},
   "source": [
    "## Выводим индекс Жаккара для перевода и и русского пересказа"
   ]
  },
  {
   "cell_type": "markdown",
   "metadata": {},
   "source": [
    "Надо переделать!!!!!!!!!!!"
   ]
  },
  {
   "cell_type": "code",
   "execution_count": 10,
   "metadata": {},
   "outputs": [
    {
     "data": {
      "image/png": "[encoded data removed]",
      "text/plain": [
       "<Figure size 640x480 with 1 Axes>"
      ]
     },
     "metadata": {},
     "output_type": "display_data"
    }
   ],
   "source": [
    "from tg.projects.retell.retell_utils.metrics import get_jaccard_index\n",
    "from tg.projects.retell.translate.utils import jac_metric\n",
    "import numpy as np\n",
    "\n",
    "\n",
    "\n",
    "jaccard_sim = np.array([get_jaccard_index(ru_retell[i],trans_retell[i]) for i in range(len(trans_retell))])\n",
    "jac_metric(jaccard_sim)\n",
    "\n"
   ]
  },
  {
   "cell_type": "markdown",
   "metadata": {},
   "source": [
    "## Записываем получившийся перевод в md файл"
   ]
  },
  {
   "cell_type": "code",
   "execution_count": 12,
   "metadata": {},
   "outputs": [],
   "source": [
    "from yo_fluq_ds import FileIO\n",
    "\n",
    "result = ''\n",
    "\n",
    "for text in trans_retell:\n",
    "    result += text\n",
    "\n",
    "\n",
    "FileIO.write_text(result, Path(\"./source/translate.md\"))\n"
   ]
  },
  {
   "cell_type": "markdown",
   "metadata": {},
   "source": [
    "## Создаем корпус для перевода"
   ]
  },
  {
   "cell_type": "code",
   "execution_count": 16,
   "metadata": {},
   "outputs": [
    {
     "data": {
      "application/vnd.jupyter.widget-view+json": {
       "model_id": "db72635261a04024913e9e45f49d47bb",
       "version_major": 2,
       "version_minor": 0
      },
      "text/plain": [
       "  0%|          | 0/1 [00:00<?, ?it/s]"
      ]
     },
     "metadata": {},
     "output_type": "display_data"
    }
   ],
   "source": [
    "from tg.grammar_ru.common.loc import Loc\n",
    "\n",
    "\n",
    "CorpusBuilder.convert_interformat_folder_to_corpus(\n",
    "    Path(Loc.root_path/'tg/projects/retell/translate/demo/translate.base.zip'),\n",
    "    Path(Loc.root_path/\"corpus/example/processed/eng\"),\n",
    "    [\"Name\"],\n",
    "        \n",
    ")"
   ]
  }
 ],
 "metadata": {
  "kernelspec": {
   "display_name": "grammar",
   "language": "python",
   "name": "python3"
  },
  "language_info": {
   "codemirror_mode": {
    "name": "ipython",
    "version": 3
   },
   "file_extension": ".py",
   "mimetype": "text/x-python",
   "name": "python",
   "nbconvert_exporter": "python",
   "pygments_lexer": "ipython3",
   "version": "3.9.18"
  }
 },
 "nbformat": 4,
 "nbformat_minor": 2
}
