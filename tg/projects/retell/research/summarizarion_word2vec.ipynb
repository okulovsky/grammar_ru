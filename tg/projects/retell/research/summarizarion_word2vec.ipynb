{
 "cells": [
  {
   "cell_type": "code",
   "execution_count": 2,
   "metadata": {
    "ExecuteTime": {
     "end_time": "2023-05-11T14:04:04.911304480Z",
     "start_time": "2023-05-11T14:03:57.990780322Z"
    },
    "collapsed": true
   },
   "outputs": [],
   "source": [
    "import pandas as pd\n",
    "import torch\n",
    "import numpy as np\n",
    "import matplotlib.pyplot as plt\n",
    "from navec import Navec\n",
    "from slovnet.model.emb import NavecEmbedding\n",
    "from tg.projects.retell.retell_utils.metrics import get_cosine_sim, get_jaccard_index,plot_bar_jac_cos_metric\n",
    "from pathlib import Path\n",
    "from tg.projects.retell.retell_utils.corpora_sugar import CorpusSugar\n",
    "from tg.grammar_ru.corpus import CorpusReader"
   ]
  },
  {
   "cell_type": "markdown",
   "metadata": {
    "collapsed": false
   },
   "source": [
    "Подумать над тем, делать ли словарь для каждой главы отдельно, или для всей книги сразу.\n",
    "Логично, если для отдельной главы, то сохранится контекст главы. В разных главах персонаж может находиться в различных местах (Джон Сноу у стены, Джон Сноу в городе), и для пересказа контекст конкретной главы - важен.\n",
    "Но попробовать для всей книги ничего не мешает. Ведь можно дообучать Word2Vec идя по главам. Контекст в модели наверняка будет изменяться."
   ]
  },
  {
   "cell_type": "code",
   "execution_count": 3,
   "metadata": {
    "ExecuteTime": {
     "end_time": "2023-04-27T21:29:42.505529Z",
     "start_time": "2023-04-27T21:29:42.438145Z"
    },
    "collapsed": false
   },
   "outputs": [
    {
     "ename": "FileNotFoundError",
     "evalue": "[Errno 2] No such file or directory: 'featurized_corpuses\\\\All retell.featurized.retell.corpus.zip'",
     "output_type": "error",
     "traceback": [
      "\u001b[1;31m---------------------------------------------------------------------------\u001b[0m",
      "\u001b[1;31mFileNotFoundError\u001b[0m                         Traceback (most recent call last)",
      "\u001b[1;32mf:\\grammar_ru\\tg\\projects\\retell\\research\\summarizarion_word2vec.ipynb Cell 3\u001b[0m line \u001b[0;36m3\n\u001b[0;32m      <a href='vscode-notebook-cell:/f%3A/grammar_ru/tg/projects/retell/research/summarizarion_word2vec.ipynb#W2sZmlsZQ%3D%3D?line=0'>1</a>\u001b[0m retell_corpus \u001b[39m=\u001b[39m CorpusReader(Path(\u001b[39m\"\u001b[39m\u001b[39m./featurized_corpuses/All retell.featurized.retell.corpus.zip\u001b[39m\u001b[39m\"\u001b[39m))\n\u001b[0;32m      <a href='vscode-notebook-cell:/f%3A/grammar_ru/tg/projects/retell/research/summarizarion_word2vec.ipynb#W2sZmlsZQ%3D%3D?line=1'>2</a>\u001b[0m text_corpus \u001b[39m=\u001b[39m CorpusReader(Path(\u001b[39m\"\u001b[39m\u001b[39m./featurized_corpuses/books.featurized.zip\u001b[39m\u001b[39m\"\u001b[39m))\n\u001b[1;32m----> <a href='vscode-notebook-cell:/f%3A/grammar_ru/tg/projects/retell/research/summarizarion_word2vec.ipynb#W2sZmlsZQ%3D%3D?line=2'>3</a>\u001b[0m martin_mapping \u001b[39m=\u001b[39m retell_corpus\u001b[39m.\u001b[39;49mread_mapping_data()\n",
      "File \u001b[1;32mf:\\grammar_ru\\tg\\grammar_ru\\corpus\\corpus_reader.py:69\u001b[0m, in \u001b[0;36mCorpusReader.read_mapping_data\u001b[1;34m(self)\u001b[0m\n\u001b[0;32m     68\u001b[0m \u001b[39mdef\u001b[39;00m \u001b[39mread_mapping_data\u001b[39m(\u001b[39mself\u001b[39m):\n\u001b[1;32m---> 69\u001b[0m     archive \u001b[39m=\u001b[39m zipfile\u001b[39m.\u001b[39;49mZipFile(\u001b[39mself\u001b[39;49m\u001b[39m.\u001b[39;49mlocation)\n\u001b[0;32m     70\u001b[0m     \u001b[39mfor\u001b[39;00m file \u001b[39min\u001b[39;00m archive\u001b[39m.\u001b[39mnamelist():\n\u001b[0;32m     71\u001b[0m         \u001b[39mif\u001b[39;00m file\u001b[39m.\u001b[39mstartswith(\u001b[39m'\u001b[39m\u001b[39mmapping\u001b[39m\u001b[39m'\u001b[39m):\n",
      "File \u001b[1;32mf:\\grammar_ru\\.conda\\lib\\zipfile.py:1248\u001b[0m, in \u001b[0;36mZipFile.__init__\u001b[1;34m(self, file, mode, compression, allowZip64, compresslevel, strict_timestamps)\u001b[0m\n\u001b[0;32m   1246\u001b[0m \u001b[39mwhile\u001b[39;00m \u001b[39mTrue\u001b[39;00m:\n\u001b[0;32m   1247\u001b[0m     \u001b[39mtry\u001b[39;00m:\n\u001b[1;32m-> 1248\u001b[0m         \u001b[39mself\u001b[39m\u001b[39m.\u001b[39mfp \u001b[39m=\u001b[39m io\u001b[39m.\u001b[39;49mopen(file, filemode)\n\u001b[0;32m   1249\u001b[0m     \u001b[39mexcept\u001b[39;00m \u001b[39mOSError\u001b[39;00m:\n\u001b[0;32m   1250\u001b[0m         \u001b[39mif\u001b[39;00m filemode \u001b[39min\u001b[39;00m modeDict:\n",
      "\u001b[1;31mFileNotFoundError\u001b[0m: [Errno 2] No such file or directory: 'featurized_corpuses\\\\All retell.featurized.retell.corpus.zip'"
     ]
    }
   ],
   "source": [
    "retell_corpus = CorpusReader(Path(\"./featurized_corpuses/All retell.featurized.retell.corpus.zip\"))\n",
    "text_corpus = CorpusReader(Path(\"./featurized_corpuses/books.featurized.zip\"))\n",
    "martin_mapping = retell_corpus.read_mapping_data()"
   ]
  },
  {
   "cell_type": "code",
   "execution_count": null,
   "metadata": {
    "ExecuteTime": {
     "end_time": "2023-04-27T21:29:43.129370Z",
     "start_time": "2023-04-27T21:29:42.839423Z"
    },
    "collapsed": false
   },
   "outputs": [],
   "source": [
    "corpus_sugar = CorpusSugar(text_corpus, retell_corpus)\n",
    "books, retell_books, summar_books = corpus_sugar.get_books_retell_info_by_author('Мартин')"
   ]
  },
  {
   "cell_type": "code",
   "execution_count": null,
   "metadata": {
    "ExecuteTime": {
     "end_time": "2023-04-27T21:29:44.390743Z",
     "start_time": "2023-04-27T21:29:43.259025Z"
    },
    "collapsed": false
   },
   "outputs": [
    {
     "name": "stderr",
     "output_type": "stream",
     "text": [
      "/home/mixailkys/anaconda3/envs/grammar_ru/lib/python3.8/site-packages/slovnet/model/emb.py:46: UserWarning: The given NumPy array is not writable, and PyTorch does not support non-writable tensors. This means writing to this tensor will result in undefined behavior. You may want to copy the array to protect its data or make it writable before converting it to a tensor. This type of warning will be suppressed for the rest of this program. (Triggered internally at /opt/conda/conda-bld/pytorch_1678402316912/work/torch/csrc/utils/tensor_numpy.cpp:206.)\n",
      "  torch.from_numpy(navec.pq.indexes),\n"
     ]
    }
   ],
   "source": [
    "model_path = Path(\"./navec_hudlit_v1_12B_500K_300d_100q.tar\")\n",
    "navec = Navec.load(model_path)\n",
    "embeder = NavecEmbedding(navec)"
   ]
  },
  {
   "cell_type": "code",
   "execution_count": null,
   "metadata": {
    "ExecuteTime": {
     "end_time": "2023-04-27T21:29:44.468557Z",
     "start_time": "2023-04-27T21:29:44.396766Z"
    },
    "collapsed": false
   },
   "outputs": [],
   "source": [
    "def get_sentences(chapter):\n",
    "    chptr = text_corpus.get_bundles([chapter]).single()\n",
    "    chapter_id = chptr.src\n",
    "    sentences_id = np.array(chapter_id['sentence_id'].unique())\n",
    "    sentences = [chapter_id['word'].values[chapter_id['sentence_id'] == sentence_id]\n",
    "                 for sentence_id in sentences_id]\n",
    "    return sentences"
   ]
  },
  {
   "cell_type": "code",
   "execution_count": null,
   "metadata": {
    "ExecuteTime": {
     "end_time": "2023-04-27T21:44:22.031279Z",
     "start_time": "2023-04-27T21:39:42.282930Z"
    },
    "collapsed": false
   },
   "outputs": [],
   "source": [
    "ban_words = {'-', ',', '.', '!', '—'}\n",
    "retell_detail = 5\n",
    "for book in books[:1]:\n",
    "    extract_retell = []\n",
    "    for chapter in book.index:\n",
    "        sentences = get_sentences(chapter)\n",
    "        vec_sum_sentences = []\n",
    "        for sentence in sentences:\n",
    "            tokens = [word_ for word in sentence\n",
    "                      if word not in ban_words and (word_ := word.lower()) in navec.vocab]\n",
    "            sentence_vector_sum = sum([embeder(torch.tensor(navec.vocab[token])) for token in tokens])\n",
    "            vec_sum_sentences.append(sentence_vector_sum / len(tokens) if len(tokens) > 0 else torch.zeros(300))\n",
    "        importances = []\n",
    "        cos = torch.nn.CosineSimilarity(dim=0)\n",
    "        for i in range(len(vec_sum_sentences)):\n",
    "            importance = 0\n",
    "            for j in range(i,len(vec_sum_sentences)):\n",
    "                importance += cos(vec_sum_sentences[i],vec_sum_sentences[j])\n",
    "            importances.append(importance)\n",
    "        sorted_index_array = np.argsort(importances)[::-1]\n",
    "        top_sentences = [\" \".join(sentences[id]) for id in sorted_index_array[:retell_detail]]\n",
    "        extract_retell.append(\"\\n\".join(top_sentences))"
   ]
  },
  {
   "cell_type": "code",
   "execution_count": null,
   "metadata": {
    "ExecuteTime": {
     "end_time": "2023-04-27T21:51:43.592139Z",
     "start_time": "2023-04-27T21:51:37.309931Z"
    },
    "collapsed": false
   },
   "outputs": [],
   "source": [
    "true_retell = []\n",
    "for book in retell_books[:1]:\n",
    "    for chapter in book.index:\n",
    "        chptr = retell_corpus.get_bundles([chapter]).single().src\n",
    "        sentences_id = np.array(chptr['sentence_id'].unique())\n",
    "        sentences = [chptr['word'][chptr['sentence_id'] == sentence_id] for sentence_id in sentences_id]\n",
    "        true_retell.append(\"\\n\".join(\" \".join(sentence.values) for sentence in sentences[:retell_detail]))"
   ]
  },
  {
   "cell_type": "code",
   "execution_count": null,
   "metadata": {
    "ExecuteTime": {
     "end_time": "2023-04-27T21:45:44.440733Z",
     "start_time": "2023-04-27T21:45:44.293516Z"
    },
    "collapsed": false
   },
   "outputs": [],
   "source": [
    "jaccard_sim = np.array([jaccard_text(extract_retell[i],true_retell[i]) for i in range(len(true_retell))])\n",
    "cos_sim = np.array([get_cosine_sim(extract_retell[i],true_retell[i]) for i in range(len(true_retell))])"
   ]
  },
  {
   "cell_type": "code",
   "execution_count": null,
   "metadata": {
    "ExecuteTime": {
     "end_time": "2023-04-27T21:46:05.816145Z",
     "start_time": "2023-04-27T21:46:05.804353Z"
    },
    "collapsed": false
   },
   "outputs": [],
   "source": [
    "def bar_jac_cos_metric(jac, cos_):\n",
    "    fig, axis = plt.subplots(2, 1)\n",
    "    axis[0].bar(range(len(jac)), jac)\n",
    "    axis[0].set_title('Индекс Жаккара')\n",
    "    axis[1].bar(range(len(cos_)), cos_)\n",
    "    axis[1].set_title('Косинусное расстояние')\n",
    "    plt.subplots_adjust(left=0, right=1, wspace=0, hspace=0.5)\n"
   ]
  },
  {
   "cell_type": "code",
   "execution_count": null,
   "metadata": {
    "ExecuteTime": {
     "end_time": "2023-04-27T21:46:07.388834Z",
     "start_time": "2023-04-27T21:46:06.379436Z"
    },
    "collapsed": false
   },
   "outputs": [
    {
     "data": {
      "image/png": "[encoded data removed]",
      "text/plain": [
       "<Figure size 640x480 with 2 Axes>"
      ]
     },
     "metadata": {},
     "output_type": "display_data"
    }
   ],
   "source": [
    "bar_jac_cos_metric(jaccard_sim,cos_sim)"
   ]
  },
  {
   "cell_type": "code",
   "execution_count": null,
   "metadata": {
    "ExecuteTime": {
     "end_time": "2023-04-27T21:47:14.456715Z",
     "start_time": "2023-04-27T21:47:14.407706Z"
    },
    "collapsed": false
   },
   "outputs": [
    {
     "data": {
      "text/plain": [
       "array([0.38138504, 0.35781411, 0.31106654, 0.30382181, 0.29492349])"
      ]
     },
     "execution_count": 32,
     "metadata": {},
     "output_type": "execute_result"
    }
   ],
   "source": [
    "np.sort(cos_sim)[::-1][:5]"
   ]
  },
  {
   "cell_type": "code",
   "execution_count": null,
   "metadata": {
    "ExecuteTime": {
     "end_time": "2023-04-27T21:47:38.230543Z",
     "start_time": "2023-04-27T21:47:38.185029Z"
    },
    "collapsed": false
   },
   "outputs": [
    {
     "data": {
      "text/plain": [
       "array([0.18181818, 0.17171717, 0.16483516, 0.16304348, 0.15853659])"
      ]
     },
     "execution_count": 33,
     "metadata": {},
     "output_type": "execute_result"
    }
   ],
   "source": [
    "np.sort(jaccard_sim)[::-1][:5]"
   ]
  },
  {
   "cell_type": "code",
   "execution_count": null,
   "metadata": {
    "ExecuteTime": {
     "end_time": "2023-04-27T21:55:22.141600Z",
     "start_time": "2023-04-27T21:55:22.095830Z"
    },
    "collapsed": false
   },
   "outputs": [],
   "source": [
    "def display_arg_max_min_text(retell_,true_text,sim_metric):\n",
    "    argmax = sim_metric.argmax()\n",
    "    argmin = sim_metric.argmin()\n",
    "    display(\"Текст с наибольшим значением метрики\")\n",
    "    display(retell_[argmax])\n",
    "    display(true_text[argmax])\n",
    "    display(\"Текст с наименьшим значением метрики\")\n",
    "    display(retell_[argmin])\n",
    "    display(true_text[argmin])"
   ]
  },
  {
   "cell_type": "code",
   "execution_count": null,
   "metadata": {
    "ExecuteTime": {
     "end_time": "2023-04-27T21:55:30.457392Z",
     "start_time": "2023-04-27T21:55:30.331622Z"
    },
    "collapsed": false
   },
   "outputs": [
    {
     "data": {
      "text/plain": [
       "'Коэфициент Жаккара'"
      ]
     },
     "metadata": {},
     "output_type": "display_data"
    },
    {
     "data": {
      "text/plain": [
       "'Текст с наибольшим значением метрики'"
      ]
     },
     "metadata": {},
     "output_type": "display_data"
    },
    {
     "data": {
      "text/plain": [
       "'Но Роберта он найти не успел , потому что лорд Эддард и ваш дед подошли к городу и взяли приступом его стены .\\n— Люди Безумного Короля охотились за Робертом , стараясь схватить его до того , как он соединится с вашим отцом , — рассказывал он , когда они въезжали в ворота .\\nЭту битву потом назвали Колокольной , и Роберт всегда говорил , что ее выиграл ваш отец , а не он .\\n— Как у вас с едой ? — спросил его Том .\\nКаменная Септа была самым большим городом , который Арья видела после Королевской Гавани , и Харвин сказал ей , что здесь произошла битва , в которой одержал победу ее отец .'"
      ]
     },
     "metadata": {},
     "output_type": "display_data"
    },
    {
     "data": {
      "text/plain": [
       "'Арья , Джендри и разбойники из Братства Без Знамен добрались до Каменной Септы .\\nХарвин рассказал Арье , что одно из главных сражений восстания Роберта Баратеона - Колокольная битва случилась в Каменной Септе .\\nДесница лорд Коннингтон пришел в город с большим войском и стал обыскивать дом за домом .\\nВ это время Эддард Старк и Хостер Талли подошли к городу и взяли приступом его стены .\\nБорьба бушевала по всему городу .'"
      ]
     },
     "metadata": {},
     "output_type": "display_data"
    },
    {
     "data": {
      "text/plain": [
       "'Текст с наименьшим значением метрики'"
      ]
     },
     "metadata": {},
     "output_type": "display_data"
    },
    {
     "data": {
      "text/plain": [
       "'Но все равно Дейенерис Таргариен , стоя на баке и глядя , как ее драконы гоняются друг за дружкой в безоблачном небе , никогда еще на своей памяти не была так счастлива .\\nТеперь Дени думала , что в этом он был столь же глуп , как и во многом другом .\\nОднажды на пути в Браавос , глядя , как они спускают большой зеленый парус в преддверии шторма , она подумала даже , как хорошо было бы самой стать моряком .\\nПоначалу Гролео настаивал на том , чтобы драконов держали в клетке , и Дени уступила ему , но дети были так несчастны , что она передумала и добилась их освобождения .\\nНо когда она рассказала об этом брату , он так оттаскал ее за волосы , что она расплакалась .'"
      ]
     },
     "metadata": {},
     "output_type": "display_data"
    },
    {
     "data": {
      "text/plain": [
       "'Дейнерис и все её люди отплывают из Кварта в Пентос на трех кораблях Иллирио .\\nВскоре после отхода из Кварта корабли попадают в полосу шквальных ветров .\\nШесть дней длился шквал .\\nПосле этого погода изменилась - наступил штиль .\\nУ каждого из кораблей « Вхагар » и « Мираксес » на борту двести весел и команда сильных гребцов .'"
      ]
     },
     "metadata": {},
     "output_type": "display_data"
    }
   ],
   "source": [
    "display(\"Коэфициент Жаккара\")\n",
    "display_arg_max_min_text(extract_retell,true_retell,jaccard_sim)"
   ]
  },
  {
   "cell_type": "code",
   "execution_count": null,
   "metadata": {
    "ExecuteTime": {
     "end_time": "2023-04-27T21:55:44.856065Z",
     "start_time": "2023-04-27T21:55:44.779051Z"
    },
    "collapsed": false
   },
   "outputs": [
    {
     "data": {
      "text/plain": [
       "'Косинусное расстояние'"
      ]
     },
     "metadata": {},
     "output_type": "display_data"
    },
    {
     "data": {
      "text/plain": [
       "'Текст с наибольшим значением метрики'"
      ]
     },
     "metadata": {},
     "output_type": "display_data"
    },
    {
     "data": {
      "text/plain": [
       "'— Он и должен быть тяжелым , чтобы остановить меч .\\n— Не « он » , — отметил Джон про себя — « мы » .\\n— Что нужно от меня его величеству ? — спросил Джон , когда они вошли в клеть .\\nОна красивая … только очень уж не по себе становится от ее красных глаз .\\nЗначит , правда то , что все говорят .'"
      ]
     },
     "metadata": {},
     "output_type": "display_data"
    },
    {
     "data": {
      "text/plain": [
       "'Джон Сноу во дворе тренирует новобранцев Ночного Дозора .\\nЕго тренировку прерывает Мелисандра , и сообщает , что король Станнис ждёт его на Стене .\\nНаверху Джон пытается объяснить Станнису , что он не предатель , и король верит ему : Джон похож на своего отца Эддарда , а тот был человеком чести .\\nВ то же время Джон говорит , что у одичалых тоже есть своё понятие чести , правда не у всех .\\nСтаннис сообщает , что он приехал на Стену , потому что королевство нуждается в защите от действительно настоящего врага - Бога Ночи и Ужаса .'"
      ]
     },
     "metadata": {},
     "output_type": "display_data"
    },
    {
     "data": {
      "text/plain": [
       "'Текст с наименьшим значением метрики'"
      ]
     },
     "metadata": {},
     "output_type": "display_data"
    },
    {
     "data": {
      "text/plain": [
       "'Но Робб ел все это без жалоб , а ее брат был слишком занят своей молодой женой , чтобы обращать внимание на еду .\\nНу что ж , ее ведь только что обвенчали , и впереди у нее брачная ночь .\\nСир Риман пил так , словно завтра в Вестеросе вина больше не останется , и обильно потел .\\nИли все время смотрела на Неда , гадая , каков он , ее муж ?\\nОна по крайней мере полагала , что это « Алисанна » — у таких музыкантов это в равной степени могло быть « Медведем и прекрасной девой » .'"
      ]
     },
     "metadata": {},
     "output_type": "display_data"
    },
    {
     "data": {
      "text/plain": [
       "'Среди гула барабанов , воя труб , свиста флейт и какофонии прочих звуков у Кейтилин Старк разболелась голова .\\nВ ночи ещё падал дождь , но в забитой до отказа пиршественной зале стояла духота .\\nСама Кейтилин оказалась зажата между Риманом Фреем и Русе Болтоном .\\nУгощение было скудным и неаппетитным , а от некоторых блюд Кейтилин просто стало дурно .\\nВыпивки же было вдоволь : вино и эль текли рекой .'"
      ]
     },
     "metadata": {},
     "output_type": "display_data"
    }
   ],
   "source": [
    "display(\"Косинусное расстояние\")\n",
    "display_arg_max_min_text(extract_retell,true_retell,cos_sim)"
   ]
  },
  {
   "cell_type": "code",
   "execution_count": null,
   "metadata": {
    "collapsed": false
   },
   "outputs": [],
   "source": []
  }
 ],
 "metadata": {
  "kernelspec": {
   "display_name": "Python 3",
   "language": "python",
   "name": "python3"
  },
  "language_info": {
   "codemirror_mode": {
    "name": "ipython",
    "version": 3
   },
   "file_extension": ".py",
   "mimetype": "text/x-python",
   "name": "python",
   "nbconvert_exporter": "python",
   "pygments_lexer": "ipython3",
   "version": "3.9.18"
  }
 },
 "nbformat": 4,
 "nbformat_minor": 0
}
