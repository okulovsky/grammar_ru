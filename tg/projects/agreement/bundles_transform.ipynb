{
 "cells": [
  {
   "attachments": {},
   "cell_type": "markdown",
   "metadata": {},
   "source": [
    "imports"
   ]
  },
  {
   "cell_type": "code",
   "execution_count": 1,
   "metadata": {},
   "outputs": [],
   "source": [
    "import numpy as np\n",
    "import pandas as pd\n",
    "from tg.grammar_ru.common import Loc\n",
    "from dotenv import load_dotenv\n",
    "load_dotenv(Loc.root_path / 'environment.env')\n",
    "import re\n",
    "\n",
    "from tg.common import DataBundle\n",
    "from tg.common.ml.batched_training import train_display_test_split\n",
    "from tg.grammar_ru.features import PyMorphyFeaturizer\n",
    "\n",
    "from tg.grammar_ru.corpus import ITransfuseSelector\n",
    "from nltk.stem import SnowballStemmer\n",
    "from pymystem3 import Mystem\n",
    "from tg.grammar_ru.components.yandex_storage.s3_yandex_helpers import S3YandexHandler\n"
   ]
  },
  {
   "cell_type": "code",
   "execution_count": 1,
   "metadata": {},
   "outputs": [],
   "source": [
    "\n",
    "\n",
    "\n",
    "new = {'ая', 'ого', 'ое', 'ой', 'ом', 'ому',\n",
    "       'ую', 'ые', 'ый', 'ым', 'ыми', 'ых'} # тут нет окнчаний превосходных форм и ою\n",
    "\n",
    "# полнейшей, наипрочнейшего, важнейшие,меньшим, милейший, наистраннейшее, новейших, малейшем, слабейшему, меньшими\n",
    "good = {'ая', 'его', 'ее', 'ей', 'ем', 'ему',\n",
    "        'ие', 'ий', 'им', 'ими', 'их', 'ую', 'яя', 'юю'}\n",
    "#  'яя', 'юю' - последняя, последнюю\n",
    "\n",
    "big = {'ая', 'ие', 'им', 'ими', 'их', 'ого',\n",
    "       'ое', 'ой', 'ом', 'ому', 'ою', 'ую'}\n",
    "\n",
    "POSSIBLE_ENDINGS = set().union(new, good, big)\n",
    "endings_nums = {e: i for i, e in enumerate(\n",
    "    sorted(list(POSSIBLE_ENDINGS)))}\n",
    "num_by_ending = endings_nums\n",
    "ending_by_num = {v:k for k, v in endings_nums.items()}\n",
    "\n",
    "new_declination_labels = {num for e, num in endings_nums.items() if e in new}\n",
    "good_declination_labels = {num for e, num in endings_nums.items() if e in good}\n",
    "big_declination_labels = {num for e, num in endings_nums.items() if e in big}\n",
    "\n",
    "\n"
   ]
  },
  {
   "cell_type": "code",
   "execution_count": 8,
   "metadata": {},
   "outputs": [
    {
     "data": {
      "text/plain": [
       "{0, 1, 2, 3, 4, 5, 6, 7, 8, 9, 10, 17, 23, 24}"
      ]
     },
     "execution_count": 8,
     "metadata": {},
     "output_type": "execute_result"
    }
   ],
   "source": [
    "good_declination_labels"
   ]
  },
  {
   "cell_type": "code",
   "execution_count": 2,
   "metadata": {},
   "outputs": [],
   "source": [
    "from tg.common import DataBundle\n",
    "from tg.common.ml.batched_training import IndexedDataBundle\n",
    "from tg.grammar_ru.components.plain_context_builder import PlainContextBuilder\n",
    "bundle_1_declination_path = Loc.data_cache_path/'bundles/agreement/mid50_1_declination'\n",
    "bundle_2_declination_path = Loc.data_cache_path/'bundles/agreement/mid50_2_declination'\n",
    "# bundle_full_0_declination_path = Loc.data_cache_path/'bundles/agreement/full_mystemless_0_declination'\n"
   ]
  },
  {
   "cell_type": "code",
   "execution_count": 3,
   "metadata": {},
   "outputs": [],
   "source": [
    "# db = DataBundle.load(Loc.data_cache_path/'bundles/agreement/mid50')\n",
    "# ids_2_type=set(db.src[db.src.declension_type==2].word_id)\n",
    "# db['index'] = db.index[db.index.word_id.isin(ids_2_type) & db.index.label.isin(big_declination_labels)]\n",
    "# db = db.copy()\n",
    "# db.save(bundle_2_declination_path)"
   ]
  },
  {
   "cell_type": "code",
   "execution_count": 4,
   "metadata": {},
   "outputs": [],
   "source": [
    "db = DataBundle.load(Loc.data_cache_path/'bundles/agreement/mid50')\n",
    "ids_1_type=set(db.src[db.src.declension_type==1].word_id)\n",
    "db['index'] = db.index[db.index.word_id.isin(ids_1_type) & db.index.label.isin(good_declination_labels)]\n",
    "db = db.copy()\n",
    "db.save(bundle_1_declination_path)"
   ]
  },
  {
   "cell_type": "code",
   "execution_count": 12,
   "metadata": {},
   "outputs": [],
   "source": [
    "# db2 = DataBundle.load(bundle_2_declination_path)\n",
    "# db2.src"
   ]
  },
  {
   "cell_type": "code",
   "execution_count": 14,
   "metadata": {},
   "outputs": [
    {
     "data": {
      "text/plain": [
       "719          последняя\n",
       "10989        последнюю\n",
       "11450           заднюю\n",
       "13351        последнюю\n",
       "16397         домашнюю\n",
       "              ...     \n",
       "2465177    многолетняя\n",
       "2465614         нижнюю\n",
       "2467733       домашнюю\n",
       "2483982     внутренняя\n",
       "2488018          Синяя\n",
       "Name: word, Length: 514, dtype: object"
      ]
     },
     "execution_count": 14,
     "metadata": {},
     "output_type": "execute_result"
    }
   ],
   "source": [
    "ids_1_type=db.src[db.src.declension_type==1]\n",
    "db.src[db.src.word_id.isin(db.index[db.index.label.isin([23, 24])].word_id)].word"
   ]
  },
  {
   "attachments": {},
   "cell_type": "markdown",
   "metadata": {},
   "source": [
    "Отправка"
   ]
  },
  {
   "cell_type": "code",
   "execution_count": 2,
   "metadata": {},
   "outputs": [],
   "source": [
    "project_name = 'agreementproject'\n",
    "# dataset_name = 'agreement_adj_mid50_1_declination'#tiny_0_declination\n",
    "# dataset_name = 'agreement_noun_mid50'\n",
    "dataset_name = 'agreement_noun_mid50'\n",
    "# dataset_name = 'agreement_adj_mid50'\n",
    "# dataset_name = 'agreement_adj_mid50_2_declination'#tiny_0_declination\n",
    "# dataset_name = 'agreement_adj_mid50_all_decl_masked'#tiny_0_declination\n",
    "# dataset_name = 'agreement_adj_tiny_all_decl_masked'#tiny_0_declination\n",
    "# dataset_name = 'agreement_adj_debug4labels'\n",
    "# dataset_name = 'agreement_adj_toy'\n",
    "\n",
    "bucket = 'agreementadjbucket'"
   ]
  },
  {
   "cell_type": "code",
   "execution_count": 6,
   "metadata": {},
   "outputs": [],
   "source": [
    "s3path = f'datasphere/{project_name}/datasets/{dataset_name}'\n",
    "S3YandexHandler.upload_folder(bucket, s3path, Loc.data_cache_path/f'bundles/agreement/noun_mid50')"
   ]
  },
  {
   "cell_type": "markdown",
   "metadata": {},
   "source": []
  }
 ],
 "metadata": {
  "kernelspec": {
   "display_name": "env",
   "language": "python",
   "name": "python3"
  },
  "language_info": {
   "codemirror_mode": {
    "name": "ipython",
    "version": 3
   },
   "file_extension": ".py",
   "mimetype": "text/x-python",
   "name": "python",
   "nbconvert_exporter": "python",
   "pygments_lexer": "ipython3",
   "version": "3.10.6"
  },
  "orig_nbformat": 4
 },
 "nbformat": 4,
 "nbformat_minor": 2
}
