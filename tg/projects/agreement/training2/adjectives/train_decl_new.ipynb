{
 "cells": [
  {
   "cell_type": "code",
   "execution_count": null,
   "outputs": [],
   "source": [
    "from pathlib import Path\n",
    "from tg.common import Loc\n",
    "\n",
    "DB_PATH = Loc.data_cache_path / 'bundles/agreement/adj_full'\n",
    "MODEL_NAME = 'adjectives_decl_new_task.pkl'"
   ],
   "metadata": {
    "collapsed": false
   },
   "id": "c2f3260bfd41ab3c"
  },
  {
   "cell_type": "code",
   "execution_count": null,
   "outputs": [],
   "source": [
    "OUTPUT_DIR = Path('trained')\n",
    "OUTPUT_DIR.mkdir(exist_ok=True)\n",
    "\n",
    "OUTPUT_PATH = OUTPUT_DIR / MODEL_NAME"
   ],
   "metadata": {
    "collapsed": false
   },
   "id": "4bba3ef34125d398"
  },
  {
   "cell_type": "code",
   "execution_count": null,
   "id": "initial_id",
   "metadata": {
    "collapsed": true
   },
   "outputs": [],
   "source": [
    "from tg.projects.agreement.training2.adjectives.common import read_train_bundle\n",
    "from tg.projects.agreement.training2.adjectives.task import train_adjectives_model, load_trained_task\n",
    "from tg.projects.agreement.training2.adjectives.metrics import plot_confusion_matrix"
   ]
  },
  {
   "cell_type": "code",
   "execution_count": null,
   "outputs": [],
   "source": [
    "idb = read_train_bundle(DB_PATH)\n",
    "idb.index_frame = idb.index_frame[idb.index_frame.declension_type == 0]"
   ],
   "metadata": {
    "collapsed": false
   },
   "id": "7a9eee5593103c5d"
  },
  {
   "cell_type": "code",
   "execution_count": null,
   "outputs": [],
   "source": [
    "train_adjectives_model(idb, OUTPUT_PATH, epoch_count=3)"
   ],
   "metadata": {
    "collapsed": false
   },
   "id": "66814e1048876234"
  },
  {
   "cell_type": "code",
   "execution_count": null,
   "outputs": [],
   "source": [
    "trained_task = load_trained_task(OUTPUT_PATH)\n",
    "pred_db = trained_task.predict(idb)"
   ],
   "metadata": {
    "collapsed": false
   },
   "id": "1f1b094bc917ed38"
  },
  {
   "cell_type": "code",
   "execution_count": null,
   "outputs": [],
   "source": [
    "\n",
    "from tg.projects.agreement.training2.adjectives.endings import NEW_list\n",
    "\n",
    "plot_confusion_matrix(pred_db, labels=NEW_list)"
   ],
   "metadata": {
    "collapsed": false
   },
   "id": "6635ccea939a7048"
  }
 ],
 "metadata": {
  "kernelspec": {
   "display_name": "Python 3",
   "language": "python",
   "name": "python3"
  },
  "language_info": {
   "codemirror_mode": {
    "name": "ipython",
    "version": 2
   },
   "file_extension": ".py",
   "mimetype": "text/x-python",
   "name": "python",
   "nbconvert_exporter": "python",
   "pygments_lexer": "ipython2",
   "version": "2.7.6"
  }
 },
 "nbformat": 4,
 "nbformat_minor": 5
}
