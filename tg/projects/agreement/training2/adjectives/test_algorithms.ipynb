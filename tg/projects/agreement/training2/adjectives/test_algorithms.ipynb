{
 "cells": [
  {
   "cell_type": "code",
   "execution_count": 1,
   "outputs": [],
   "source": [
    "from pathlib import Path\n",
    "\n",
    "NEW_MODEL_NAME = 'adjectives_decl_new_task.pkl'\n",
    "GOOD_MODEL_NAME = 'adjectives_decl_good_task.pkl'\n",
    "BIG_MODEL_NAME = 'adjectives_decl_big_task.pkl'\n",
    "\n",
    "TRAINED_DIR = Path('trained')"
   ],
   "metadata": {
    "collapsed": false
   }
  },
  {
   "cell_type": "code",
   "execution_count": 2,
   "outputs": [],
   "source": [
    "from tg.projects.agreement.training2.adjectives.task import load_trained_task\n",
    "\n",
    "new_task = load_trained_task(TRAINED_DIR / NEW_MODEL_NAME)\n",
    "good_task = load_trained_task(TRAINED_DIR / GOOD_MODEL_NAME)\n",
    "big_task = load_trained_task(TRAINED_DIR / BIG_MODEL_NAME)"
   ],
   "metadata": {
    "collapsed": false
   }
  },
  {
   "cell_type": "code",
   "execution_count": 3,
   "metadata": {
    "collapsed": true
   },
   "outputs": [],
   "source": [
    "from tg.projects.agreement.training2.adjectives.algorithm import AdjectivesAgreementAlgorithm\n",
    "\n",
    "new_alg = AdjectivesAgreementAlgorithm(new_task, declension_type=0)\n",
    "good_alg = AdjectivesAgreementAlgorithm(good_task, declension_type=1)\n",
    "big_alg = AdjectivesAgreementAlgorithm(big_task, declension_type=2)"
   ]
  },
  {
   "cell_type": "code",
   "execution_count": 4,
   "outputs": [
    {
     "name": "stdout",
     "output_type": "stream",
     "text": [
      "2024-01-16 20:50:31.293369 INFO: Evaluating prediction: 0/1\n",
      "2024-01-16 20:50:31.330274 INFO: Evaluating prediction: 0/1\n"
     ]
    },
    {
     "data": {
      "text/plain": "    error                     algorithm   suggest  hint error_type\n0   False                          None      None  None       None\n1    True  AdjectivesAgreementAlgorithm  красивая  None  grammatic\n2   False                          None      None  None       None\n3   False                          None      None  None       None\n4    True  AdjectivesAgreementAlgorithm  Отличный  None  grammatic\n5   False                          None      None  None       None\n6   False                          None      None  None       None\n7   False                          None      None  None       None\n8   False                          None      None  None       None\n9   False                          None      None  None       None\n10  False                          None      None  None       None\n11   True  AdjectivesAgreementAlgorithm  классной  None  grammatic\n12  False                          None      None  None       None",
      "text/html": "<div>\n<style scoped>\n    .dataframe tbody tr th:only-of-type {\n        vertical-align: middle;\n    }\n\n    .dataframe tbody tr th {\n        vertical-align: top;\n    }\n\n    .dataframe thead th {\n        text-align: right;\n    }\n</style>\n<table border=\"1\" class=\"dataframe\">\n  <thead>\n    <tr style=\"text-align: right;\">\n      <th></th>\n      <th>error</th>\n      <th>algorithm</th>\n      <th>suggest</th>\n      <th>hint</th>\n      <th>error_type</th>\n    </tr>\n  </thead>\n  <tbody>\n    <tr>\n      <th>0</th>\n      <td>False</td>\n      <td>None</td>\n      <td>None</td>\n      <td>None</td>\n      <td>None</td>\n    </tr>\n    <tr>\n      <th>1</th>\n      <td>True</td>\n      <td>AdjectivesAgreementAlgorithm</td>\n      <td>красивая</td>\n      <td>None</td>\n      <td>grammatic</td>\n    </tr>\n    <tr>\n      <th>2</th>\n      <td>False</td>\n      <td>None</td>\n      <td>None</td>\n      <td>None</td>\n      <td>None</td>\n    </tr>\n    <tr>\n      <th>3</th>\n      <td>False</td>\n      <td>None</td>\n      <td>None</td>\n      <td>None</td>\n      <td>None</td>\n    </tr>\n    <tr>\n      <th>4</th>\n      <td>True</td>\n      <td>AdjectivesAgreementAlgorithm</td>\n      <td>Отличный</td>\n      <td>None</td>\n      <td>grammatic</td>\n    </tr>\n    <tr>\n      <th>5</th>\n      <td>False</td>\n      <td>None</td>\n      <td>None</td>\n      <td>None</td>\n      <td>None</td>\n    </tr>\n    <tr>\n      <th>6</th>\n      <td>False</td>\n      <td>None</td>\n      <td>None</td>\n      <td>None</td>\n      <td>None</td>\n    </tr>\n    <tr>\n      <th>7</th>\n      <td>False</td>\n      <td>None</td>\n      <td>None</td>\n      <td>None</td>\n      <td>None</td>\n    </tr>\n    <tr>\n      <th>8</th>\n      <td>False</td>\n      <td>None</td>\n      <td>None</td>\n      <td>None</td>\n      <td>None</td>\n    </tr>\n    <tr>\n      <th>9</th>\n      <td>False</td>\n      <td>None</td>\n      <td>None</td>\n      <td>None</td>\n      <td>None</td>\n    </tr>\n    <tr>\n      <th>10</th>\n      <td>False</td>\n      <td>None</td>\n      <td>None</td>\n      <td>None</td>\n      <td>None</td>\n    </tr>\n    <tr>\n      <th>11</th>\n      <td>True</td>\n      <td>AdjectivesAgreementAlgorithm</td>\n      <td>классной</td>\n      <td>None</td>\n      <td>grammatic</td>\n    </tr>\n    <tr>\n      <th>12</th>\n      <td>False</td>\n      <td>None</td>\n      <td>None</td>\n      <td>None</td>\n      <td>None</td>\n    </tr>\n  </tbody>\n</table>\n</div>"
     },
     "execution_count": 4,
     "metadata": {},
     "output_type": "execute_result"
    }
   ],
   "source": [
    "from tg.grammar_ru import Separator\n",
    "from tg.grammar_ru.algorithms import NlpAlgorithm\n",
    "\n",
    "db = Separator.build_bundle('Очень красивый машина. Отличную дом, я бы себе купил классный такой')\n",
    "NlpAlgorithm.combine_algorithms(db, db.src.index, new_alg, good_alg, big_alg)"
   ],
   "metadata": {
    "collapsed": false
   }
  },
  {
   "cell_type": "code",
   "execution_count": 4,
   "outputs": [],
   "source": [],
   "metadata": {
    "collapsed": false
   }
  }
 ],
 "metadata": {
  "kernelspec": {
   "display_name": "Python 3",
   "language": "python",
   "name": "python3"
  },
  "language_info": {
   "codemirror_mode": {
    "name": "ipython",
    "version": 2
   },
   "file_extension": ".py",
   "mimetype": "text/x-python",
   "name": "python",
   "nbconvert_exporter": "python",
   "pygments_lexer": "ipython2",
   "version": "2.7.6"
  }
 },
 "nbformat": 4,
 "nbformat_minor": 0
}
