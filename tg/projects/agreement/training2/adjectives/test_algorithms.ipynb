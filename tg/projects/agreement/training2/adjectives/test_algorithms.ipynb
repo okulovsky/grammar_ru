{
 "cells": [
  {
   "cell_type": "code",
   "execution_count": null,
   "outputs": [],
   "source": [
    "from pathlib import Path\n",
    "\n",
    "NEW_MODEL_NAME = 'adjectives_decl_new_task.pkl'\n",
    "GOOD_MODEL_NAME = 'adjectives_decl_good_task.pkl'\n",
    "BIG_MODEL_NAME = 'adjectives_decl_big_task.pkl'\n",
    "\n",
    "TRAINED_DIR = Path('trained')"
   ],
   "metadata": {
    "collapsed": false
   }
  },
  {
   "cell_type": "code",
   "execution_count": null,
   "outputs": [],
   "source": [
    "from tg.projects.agreement.training2.adjectives.task import load_trained_task\n",
    "\n",
    "new_task = load_trained_task(TRAINED_DIR / NEW_MODEL_NAME)\n",
    "good_task = load_trained_task(TRAINED_DIR / GOOD_MODEL_NAME)\n",
    "big_task = load_trained_task(TRAINED_DIR / BIG_MODEL_NAME)"
   ],
   "metadata": {
    "collapsed": false
   }
  },
  {
   "cell_type": "code",
   "execution_count": null,
   "metadata": {
    "collapsed": true
   },
   "outputs": [],
   "source": [
    "from tg.projects.agreement.training2.adjectives.algorithm import AdjectivesAgreementAlgorithm\n",
    "\n",
    "new_alg = AdjectivesAgreementAlgorithm(new_task, declension_type=0)\n",
    "good_alg = AdjectivesAgreementAlgorithm(good_task, declension_type=1)\n",
    "big_alg = AdjectivesAgreementAlgorithm(big_task, declension_type=2)"
   ]
  },
  {
   "cell_type": "code",
   "execution_count": null,
   "outputs": [],
   "source": [
    "from tg.grammar_ru import Separator\n",
    "from tg.grammar_ru.algorithms import NlpAlgorithm\n",
    "\n",
    "db = Separator.build_bundle('Очень красивый машина. Отличную дом, я бы себе купил классный такой')\n",
    "NlpAlgorithm.combine_algorithms(db, db.src.index, new_alg, good_alg, big_alg)"
   ],
   "metadata": {
    "collapsed": false
   }
  },
  {
   "cell_type": "code",
   "execution_count": null,
   "outputs": [],
   "source": [],
   "metadata": {
    "collapsed": false
   }
  }
 ],
 "metadata": {
  "kernelspec": {
   "display_name": "Python 3",
   "language": "python",
   "name": "python3"
  },
  "language_info": {
   "codemirror_mode": {
    "name": "ipython",
    "version": 2
   },
   "file_extension": ".py",
   "mimetype": "text/x-python",
   "name": "python",
   "nbconvert_exporter": "python",
   "pygments_lexer": "ipython2",
   "version": "2.7.6"
  }
 },
 "nbformat": 4,
 "nbformat_minor": 0
}
