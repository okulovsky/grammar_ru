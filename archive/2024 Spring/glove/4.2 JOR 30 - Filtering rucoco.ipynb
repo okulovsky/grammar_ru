{
 "cells": [
  {
   "cell_type": "code",
   "execution_count": 1,
   "id": "8379b48d",
   "metadata": {},
   "outputs": [],
   "source": [
    "from tg.grammar_ru import *\n",
    "import os\n",
    "import pandas as pd\n",
    "import numpy as np\n",
    "from yo_fluq_ds import *\n",
    "import subprocess\n",
    "import ipywidgets as widgets\n",
    "\n",
    "rucoco_dir = Loc.data_cache_path/'rucoco'\n",
    "db = DataBundle.load(rucoco_dir/'bundle-full.zip')\n",
    "word_to_normal_form = db.words.set_index('word').nf_n.to_dict()\n",
    "LEN = len(set(word_to_normal_form.values()))"
   ]
  },
  {
   "cell_type": "code",
   "execution_count": 2,
   "id": "ae814a68",
   "metadata": {},
   "outputs": [
    {
     "data": {
      "text/plain": [
       "(82560, 25841)"
      ]
     },
     "execution_count": 2,
     "metadata": {},
     "output_type": "execute_result"
    }
   ],
   "source": [
    "len(word_to_normal_form), LEN"
   ]
  },
  {
   "cell_type": "code",
   "execution_count": 3,
   "id": "39f498ca",
   "metadata": {},
   "outputs": [],
   "source": [
    "DATASET = rucoco_dir/'ds'"
   ]
  },
  {
   "cell_type": "code",
   "execution_count": 4,
   "id": "38b88270",
   "metadata": {},
   "outputs": [],
   "source": [
    "from jordan_lib.preprocessing import LibrusecTranslator\n",
    "\n",
    "lenta_path = rucoco_dir/'lenta-ru-news.csv.gz'\n",
    "ltr = LibrusecTranslator(lenta_path, word_to_normal_form)"
   ]
  },
  {
   "cell_type": "code",
   "execution_count": 5,
   "id": "4ec8d397",
   "metadata": {
    "scrolled": false
   },
   "outputs": [
    {
     "data": {
      "application/json": {
       "ascii": false,
       "bar_format": null,
       "colour": null,
       "elapsed": 0.03126168251037598,
       "initial": 0,
       "n": 0,
       "ncols": null,
       "nrows": 49,
       "postfix": null,
       "prefix": "",
       "rate": null,
       "total": 301871,
       "unit": "it",
       "unit_divisor": 1000,
       "unit_scale": false
      },
      "application/vnd.jupyter.widget-view+json": {
       "model_id": "c02b1e99a17548eeb8550cc36aba8f28",
       "version_major": 2,
       "version_minor": 0
      },
      "text/plain": [
       "  0%|          | 0/301871 [00:00<?, ?it/s]"
      ]
     },
     "metadata": {},
     "output_type": "display_data"
    }
   ],
   "source": [
    "from glove_helpers.prep import CoocSelector, MatrixCollector, VocabStatsCollector\n",
    "\n",
    "if True:\n",
    "    cs = CoocSelector(15, LEN, True)\n",
    "    cl = MatrixCollector(LEN, DATASET/'matrix', 1000)\n",
    "    vsc = VocabStatsCollector(LEN, DATASET/'vocab', 1000)\n",
    "    (ltr\n",
    "     .get_dfs()\n",
    "     .feed(fluq.with_progress_bar())\n",
    "     .take(50000)\n",
    "     .foreach_and_continue(vsc.observe)\n",
    "     .select(cs.compute_cooc)\n",
    "     .foreach(cl.observe)\n",
    "    )"
   ]
  },
  {
   "cell_type": "code",
   "execution_count": 10,
   "id": "e9d94f36",
   "metadata": {},
   "outputs": [],
   "source": [
    "import numpy as np\n",
    "np.save(cl.file, cl.matrix)"
   ]
  },
  {
   "cell_type": "code",
   "execution_count": 11,
   "id": "d3665884",
   "metadata": {},
   "outputs": [
    {
     "data": {
      "application/json": {
       "ascii": false,
       "bar_format": null,
       "colour": null,
       "elapsed": 0.2656214237213135,
       "initial": 0,
       "n": 0,
       "ncols": null,
       "nrows": 49,
       "postfix": null,
       "prefix": "",
       "rate": null,
       "total": 12998188,
       "unit": "it",
       "unit_divisor": 1000,
       "unit_scale": false
      },
      "application/vnd.jupyter.widget-view+json": {
       "model_id": "848276ed4bcb4dd5b93e53dc38c0f79f",
       "version_major": 2,
       "version_minor": 0
      },
      "text/plain": [
       "  0%|          | 0/12998188 [00:00<?, ?it/s]"
      ]
     },
     "metadata": {},
     "output_type": "display_data"
    }
   ],
   "source": [
    "import numpy as np\n",
    "from glove_helpers.prep import MatrixCollector\n",
    "import time\n",
    "\n",
    "start = time.time()\n",
    "if True:\n",
    "    os.makedirs(DATASET/'assembled', exist_ok=True)\n",
    "    (MatrixCollector\n",
    "     .matrix_to_glove_tuples(cl.matrix, LEN, True)\n",
    "     .feed(fluq.with_progress_bar())\n",
    "     .where(lambda z: z[1]<z[2])\n",
    "     .select(lambda z: (z[0], z[3]))\n",
    "     .feed(fluq.partition_by_count(500000))\n",
    "     .select(lambda z: pd.DataFrame(z, columns=['idx','value']).set_index('idx'))\n",
    "     .with_indices()\n",
    "     .foreach(lambda z: z.item.to_parquet(DATASET/'assembled'/str(z.index)))\n",
    "    )"
   ]
  },
  {
   "cell_type": "code",
   "execution_count": null,
   "id": "dda2e8ef",
   "metadata": {},
   "outputs": [],
   "source": []
  }
 ],
 "metadata": {
  "kernelspec": {
   "display_name": "Python 3 (ipykernel)",
   "language": "python",
   "name": "python3"
  },
  "language_info": {
   "codemirror_mode": {
    "name": "ipython",
    "version": 3
   },
   "file_extension": ".py",
   "mimetype": "text/x-python",
   "name": "python",
   "nbconvert_exporter": "python",
   "pygments_lexer": "ipython3",
   "version": "3.9.7"
  }
 },
 "nbformat": 4,
 "nbformat_minor": 5
}
