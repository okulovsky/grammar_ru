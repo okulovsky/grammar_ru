{
 "cells": [
  {
   "cell_type": "code",
   "execution_count": 1,
   "id": "b8798fd0",
   "metadata": {},
   "outputs": [],
   "source": [
    "from tg.grammar_ru import *\n",
    "import numpy as np\n",
    "\n",
    "FOLDER = Loc.data_cache_path/'Martin'\n",
    "librusec_path = FOLDER/'50K_decrease_fix'/'matrix.npy'\n",
    "martin_path = FOLDER/'50K_Martin_on_Martin'/'Martin_cooc'\n",
    "combo_path = FOLDER/'comb_cooc_2d_fixed'"
   ]
  },
  {
   "cell_type": "code",
   "execution_count": 2,
   "id": "b69143ba",
   "metadata": {},
   "outputs": [],
   "source": [
    "import pandas as pd\n",
    "\n",
    "tuning_candidates = pd.read_csv(FOLDER/'tuning_candidates.csv', sep='\\t').set_index('nf_n')\n",
    "all_freq_nnf = tuning_candidates[tuning_candidates.in_freq_prop | \n",
    "                                 tuning_candidates.is_name_by_cnt].index.values\n",
    "#tuning_candidates.is_nonce_by_freq\n",
    "#del tuning_candidates"
   ]
  },
  {
   "cell_type": "code",
   "execution_count": null,
   "id": "55b6237b",
   "metadata": {},
   "outputs": [],
   "source": [
    "all_freq_nnf"
   ]
  },
  {
   "cell_type": "code",
   "execution_count": 3,
   "id": "85de362d",
   "metadata": {},
   "outputs": [],
   "source": [
    "LEN = 22724"
   ]
  },
  {
   "cell_type": "code",
   "execution_count": 4,
   "id": "ba027adb",
   "metadata": {},
   "outputs": [],
   "source": [
    "lrc = np.load(librusec_path)\n",
    "with open(combo_path, 'wb') as f:\n",
    "    np.save(f, lrc.reshape(LEN, LEN))\n",
    "del lrc"
   ]
  },
  {
   "cell_type": "code",
   "execution_count": 5,
   "id": "30b161ab",
   "metadata": {},
   "outputs": [],
   "source": [
    "row_mask = np.array([[(x in all_freq_nnf) for x in range(LEN)]])\n",
    "huge_mask = np.repeat(row_mask, repeats=LEN, axis=0)\n",
    "huge_mask[all_freq_nnf] = [True]"
   ]
  },
  {
   "cell_type": "code",
   "execution_count": 6,
   "id": "7a57125a",
   "metadata": {},
   "outputs": [
    {
     "name": "stdout",
     "output_type": "stream",
     "text": [
      "4.940652266795022e-09\n"
     ]
    }
   ],
   "source": [
    "### Div librusec \n",
    "combo = np.load(combo_path)\n",
    "combo_sum = sum(combo[~huge_mask])\n",
    "combo /= combo_sum\n",
    "with open(combo_path, 'wb') as f:\n",
    "    np.save(f, combo)\n",
    "print(combo[3][3])\n",
    "del combo"
   ]
  },
  {
   "cell_type": "code",
   "execution_count": 7,
   "id": "e3d749f0",
   "metadata": {},
   "outputs": [
    {
     "name": "stdout",
     "output_type": "stream",
     "text": [
      "2.142873344850158e-06\n"
     ]
    }
   ],
   "source": [
    "### Get Martin divisor\n",
    "author = np.load(martin_path)\n",
    "author_sum = sum(author[huge_mask])\n",
    "print(author[3][3] / author_sum)\n",
    "del author\n",
    "del huge_mask"
   ]
  },
  {
   "cell_type": "code",
   "execution_count": 8,
   "id": "76db6a9f",
   "metadata": {},
   "outputs": [
    {
     "name": "stderr",
     "output_type": "stream",
     "text": [
      "100%|██████████████████████████████████████████████████████████████████████| 101/101 [2:36:25<00:00, 92.93s/it]\n"
     ]
    }
   ],
   "source": [
    "from tqdm import tqdm\n",
    "\n",
    "parts = 100\n",
    "size = LEN // parts\n",
    "for i in tqdm(range(parts + 1)):\n",
    "    start = i * size\n",
    "    end = (i + 1) * size\n",
    "    if i < parts:\n",
    "        part_mask = np.repeat(row_mask, repeats=size, axis=0)\n",
    "    else:\n",
    "        part_mask = np.repeat(row_mask, repeats=(LEN % parts), axis=0)\n",
    "    nonce_rows = [(x - start) for x in range(start, end) if x in all_freq_nnf]\n",
    "    part_mask[nonce_rows] = [True]\n",
    "    del nonce_rows\n",
    "    \n",
    "    author = np.load(martin_path)\n",
    "    author_rows = author[start:end]\n",
    "    author_rows /= author_sum\n",
    "    masked = author_rows[part_mask]\n",
    "    del author\n",
    "    del author_rows\n",
    "    \n",
    "    combo = np.load(combo_path)\n",
    "    combo_rows = combo[start:end]\n",
    "    combo_rows[part_mask] = masked\n",
    "    combo[start:end] = combo_rows\n",
    "    with open(combo_path, 'wb') as f:\n",
    "        np.save(f, combo)\n",
    "    del combo"
   ]
  },
  {
   "cell_type": "code",
   "execution_count": 3,
   "id": "f3178bdb",
   "metadata": {},
   "outputs": [],
   "source": [
    "combo = np.load(combo_path)\n",
    "# with open(FOLDER/'comb_cooc_fixed_flt', 'wb') as f:\n",
    "#     np.save(f, combo.flatten())"
   ]
  },
  {
   "cell_type": "code",
   "execution_count": 10,
   "id": "aa80192b",
   "metadata": {},
   "outputs": [],
   "source": [
    "#combo.flatten()"
   ]
  },
  {
   "cell_type": "code",
   "execution_count": 11,
   "id": "3d0754ff",
   "metadata": {},
   "outputs": [],
   "source": [
    "#combo_fl = np.load(FOLDER/'comb_cooc_fixed_flt')"
   ]
  },
  {
   "cell_type": "code",
   "execution_count": 4,
   "id": "18252db0",
   "metadata": {},
   "outputs": [
    {
     "data": {
      "application/json": {
       "ascii": false,
       "bar_format": null,
       "colour": null,
       "elapsed": 0.0937659740447998,
       "initial": 0,
       "n": 0,
       "ncols": null,
       "nrows": 30,
       "postfix": null,
       "prefix": "",
       "rate": null,
       "total": 157442608,
       "unit": "it",
       "unit_divisor": 1000,
       "unit_scale": false
      },
      "application/vnd.jupyter.widget-view+json": {
       "model_id": "e0c2d0e5d9ec498b9b422c349cd59ae3",
       "version_major": 2,
       "version_minor": 0
      },
      "text/plain": [
       "  0%|          | 0/157442608 [00:00<?, ?it/s]"
      ]
     },
     "metadata": {},
     "output_type": "display_data"
    }
   ],
   "source": [
    "from glove_helpers.prep import MatrixCollector\n",
    "from glove_helpers.training import Training\n",
    "from yo_fluq_ds import *\n",
    "\n",
    "Training.write_cooc(\n",
    "    MatrixCollector.matrix_to_glove_tuples(combo.flatten(), 22724).feed(fluq.with_progress_bar()),\n",
    "    FOLDER/'cooc_ifp_inbc_mixed'\n",
    ")"
   ]
  },
  {
   "cell_type": "code",
   "execution_count": null,
   "id": "a8eb2f14",
   "metadata": {},
   "outputs": [],
   "source": []
  }
 ],
 "metadata": {
  "kernelspec": {
   "display_name": "Python 3 (ipykernel)",
   "language": "python",
   "name": "python3"
  },
  "language_info": {
   "codemirror_mode": {
    "name": "ipython",
    "version": 3
   },
   "file_extension": ".py",
   "mimetype": "text/x-python",
   "name": "python",
   "nbconvert_exporter": "python",
   "pygments_lexer": "ipython3",
   "version": "3.9.7"
  }
 },
 "nbformat": 4,
 "nbformat_minor": 5
}
