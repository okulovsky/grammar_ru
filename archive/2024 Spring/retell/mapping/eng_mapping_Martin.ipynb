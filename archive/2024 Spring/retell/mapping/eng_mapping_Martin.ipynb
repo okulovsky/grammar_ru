{
 "cells": [
  {
   "cell_type": "code",
   "execution_count": 1,
   "metadata": {
    "collapsed": true,
    "ExecuteTime": {
     "end_time": "2023-08-17T14:54:14.533035691Z",
     "start_time": "2023-08-17T14:54:12.341012362Z"
    }
   },
   "outputs": [],
   "source": [
    "from pathlib import Path\n",
    "from tg.grammar_ru.corpus import CorpusReader, CorpusBuilder\n",
    "import pandas as pd"
   ]
  },
  {
   "cell_type": "code",
   "execution_count": 2,
   "outputs": [],
   "source": [
    "books_reader = CorpusReader(Path(\"../corpuses/books/eng/Martin.books.corpus.zip\"))\n",
    "retell_reader = CorpusReader(Path(\"../corpuses/eng/Martin.retell.corpus.zip\"))"
   ],
   "metadata": {
    "collapsed": false,
    "ExecuteTime": {
     "end_time": "2023-08-17T14:54:14.563689620Z",
     "start_time": "2023-08-17T14:54:14.541673874Z"
    }
   }
  },
  {
   "cell_type": "code",
   "execution_count": 3,
   "outputs": [
    {
     "data": {
      "text/plain": "                                                                 filename  \\\nfile_id                                                                     \n18dd3057-1e44-4734-8325-9fcac272263b     Martin-A Feast for Crows-book.md   \n47b227a4-68dc-4d0f-b7d7-ba93d8efc50a     Martin-A Feast for Crows-book.md   \na3e9041d-c56b-461b-b8ab-965f09d3e9bc     Martin-A Feast for Crows-book.md   \n3e0e3927-d0ba-458b-b136-09e7fa1b9460     Martin-A Feast for Crows-book.md   \n2c035de5-751d-45e5-a14a-2eb61e52e190     Martin-A Feast for Crows-book.md   \n...                                                                   ...   \nf336ab7d-78ae-454a-aad8-6435b2e1c421  Martin-A Dance with Dragons-book.md   \nafce8beb-4754-4eb0-bd9e-a70217e33363  Martin-A Dance with Dragons-book.md   \ncff38c73-d81a-45c6-9bae-2085d7e43c51  Martin-A Dance with Dragons-book.md   \ndcc9df0f-880a-485d-97a7-3a07689c8a13  Martin-A Dance with Dragons-book.md   \nc23a1119-c5b9-4e0f-8d2c-67e2ab89a890  Martin-A Dance with Dragons-book.md   \n\n                                                      timestamp  part_index  \\\nfile_id                                                                       \n18dd3057-1e44-4734-8325-9fcac272263b 2023-08-10 22:22:23.925508           0   \n47b227a4-68dc-4d0f-b7d7-ba93d8efc50a 2023-08-10 22:22:23.944272           1   \na3e9041d-c56b-461b-b8ab-965f09d3e9bc 2023-08-10 22:22:23.992741           2   \n3e0e3927-d0ba-458b-b136-09e7fa1b9460 2023-08-10 22:22:24.050110           3   \n2c035de5-751d-45e5-a14a-2eb61e52e190 2023-08-10 22:22:24.092195           4   \n...                                                         ...         ...   \nf336ab7d-78ae-454a-aad8-6435b2e1c421 2023-08-10 22:24:00.112468          68   \nafce8beb-4754-4eb0-bd9e-a70217e33363 2023-08-10 22:24:00.158963          69   \ncff38c73-d81a-45c6-9bae-2085d7e43c51 2023-08-10 22:24:00.207251          70   \ndcc9df0f-880a-485d-97a7-3a07689c8a13 2023-08-10 22:24:00.258637          71   \nc23a1119-c5b9-4e0f-8d2c-67e2ab89a890 2023-08-10 22:24:00.311388          72   \n\n                                      token_count  character_count  ordinal  \\\nfile_id                                                                       \n18dd3057-1e44-4734-8325-9fcac272263b         7859            28184        0   \n47b227a4-68dc-4d0f-b7d7-ba93d8efc50a         7079            25303        1   \na3e9041d-c56b-461b-b8ab-965f09d3e9bc         8541            30490        2   \n3e0e3927-d0ba-458b-b136-09e7fa1b9460         5484            19477        3   \n2c035de5-751d-45e5-a14a-2eb61e52e190         7989            28644        4   \n...                                           ...              ...      ...   \nf336ab7d-78ae-454a-aad8-6435b2e1c421         6084            22183      339   \nafce8beb-4754-4eb0-bd9e-a70217e33363         7623            26837      340   \ncff38c73-d81a-45c6-9bae-2085d7e43c51         7982            28786      341   \ndcc9df0f-880a-485d-97a7-3a07689c8a13         7965            28896      342   \nc23a1119-c5b9-4e0f-8d2c-67e2ab89a890         8435            30799      343   \n\n                                                             header_0  \\\nfile_id                                                                 \n18dd3057-1e44-4734-8325-9fcac272263b               Prologue-Chapter_0   \n47b227a4-68dc-4d0f-b7d7-ba93d8efc50a            The prophet-Chapter_1   \na3e9041d-c56b-461b-b8ab-965f09d3e9bc  The captain of guards-Chapter_2   \n3e0e3927-d0ba-458b-b136-09e7fa1b9460                 Cersei-Chapter_3   \n2c035de5-751d-45e5-a14a-2eb61e52e190                Brienne-Chapter_4   \n...                                                               ...   \nf336ab7d-78ae-454a-aad8-6435b2e1c421       The dragontamer-Chapter_68   \nafce8beb-4754-4eb0-bd9e-a70217e33363                   Jon-Chapter_69   \ncff38c73-d81a-45c6-9bae-2085d7e43c51      The queen's hand-Chapter_70   \ndcc9df0f-880a-485d-97a7-3a07689c8a13              Daenerys-Chapter_71   \nc23a1119-c5b9-4e0f-8d2c-67e2ab89a890              Epilogue-Chapter_72   \n\n                                                              headers  author  \\\nfile_id                                                                         \n18dd3057-1e44-4734-8325-9fcac272263b               Prologue-Chapter_0  Martin   \n47b227a4-68dc-4d0f-b7d7-ba93d8efc50a            The prophet-Chapter_1  Martin   \na3e9041d-c56b-461b-b8ab-965f09d3e9bc  The captain of guards-Chapter_2  Martin   \n3e0e3927-d0ba-458b-b136-09e7fa1b9460                 Cersei-Chapter_3  Martin   \n2c035de5-751d-45e5-a14a-2eb61e52e190                Brienne-Chapter_4  Martin   \n...                                                               ...     ...   \nf336ab7d-78ae-454a-aad8-6435b2e1c421       The dragontamer-Chapter_68  Martin   \nafce8beb-4754-4eb0-bd9e-a70217e33363                   Jon-Chapter_69  Martin   \ncff38c73-d81a-45c6-9bae-2085d7e43c51      The queen's hand-Chapter_70  Martin   \ndcc9df0f-880a-485d-97a7-3a07689c8a13              Daenerys-Chapter_71  Martin   \nc23a1119-c5b9-4e0f-8d2c-67e2ab89a890              Epilogue-Chapter_72  Martin   \n\n                                                 book_name text_type   max_id  \nfile_id                                                                        \n18dd3057-1e44-4734-8325-9fcac272263b     A Feast for Crows      book     7860  \n47b227a4-68dc-4d0f-b7d7-ba93d8efc50a     A Feast for Crows      book    24940  \na3e9041d-c56b-461b-b8ab-965f09d3e9bc     A Feast for Crows      book    43482  \n3e0e3927-d0ba-458b-b136-09e7fa1b9460     A Feast for Crows      book    58967  \n2c035de5-751d-45e5-a14a-2eb61e52e190     A Feast for Crows      book    76957  \n...                                                    ...       ...      ...  \nf336ab7d-78ae-454a-aad8-6435b2e1c421  A Dance with Dragons      book  5515052  \nafce8beb-4754-4eb0-bd9e-a70217e33363  A Dance with Dragons      book  5532676  \ncff38c73-d81a-45c6-9bae-2085d7e43c51  A Dance with Dragons      book  5550659  \ndcc9df0f-880a-485d-97a7-3a07689c8a13  A Dance with Dragons      book  5568625  \nc23a1119-c5b9-4e0f-8d2c-67e2ab89a890  A Dance with Dragons      book  5587061  \n\n[344 rows x 12 columns]",
      "text/html": "<div>\n<style scoped>\n    .dataframe tbody tr th:only-of-type {\n        vertical-align: middle;\n    }\n\n    .dataframe tbody tr th {\n        vertical-align: top;\n    }\n\n    .dataframe thead th {\n        text-align: right;\n    }\n</style>\n<table border=\"1\" class=\"dataframe\">\n  <thead>\n    <tr style=\"text-align: right;\">\n      <th></th>\n      <th>filename</th>\n      <th>timestamp</th>\n      <th>part_index</th>\n      <th>token_count</th>\n      <th>character_count</th>\n      <th>ordinal</th>\n      <th>header_0</th>\n      <th>headers</th>\n      <th>author</th>\n      <th>book_name</th>\n      <th>text_type</th>\n      <th>max_id</th>\n    </tr>\n    <tr>\n      <th>file_id</th>\n      <th></th>\n      <th></th>\n      <th></th>\n      <th></th>\n      <th></th>\n      <th></th>\n      <th></th>\n      <th></th>\n      <th></th>\n      <th></th>\n      <th></th>\n      <th></th>\n    </tr>\n  </thead>\n  <tbody>\n    <tr>\n      <th>18dd3057-1e44-4734-8325-9fcac272263b</th>\n      <td>Martin-A Feast for Crows-book.md</td>\n      <td>2023-08-10 22:22:23.925508</td>\n      <td>0</td>\n      <td>7859</td>\n      <td>28184</td>\n      <td>0</td>\n      <td>Prologue-Chapter_0</td>\n      <td>Prologue-Chapter_0</td>\n      <td>Martin</td>\n      <td>A Feast for Crows</td>\n      <td>book</td>\n      <td>7860</td>\n    </tr>\n    <tr>\n      <th>47b227a4-68dc-4d0f-b7d7-ba93d8efc50a</th>\n      <td>Martin-A Feast for Crows-book.md</td>\n      <td>2023-08-10 22:22:23.944272</td>\n      <td>1</td>\n      <td>7079</td>\n      <td>25303</td>\n      <td>1</td>\n      <td>The prophet-Chapter_1</td>\n      <td>The prophet-Chapter_1</td>\n      <td>Martin</td>\n      <td>A Feast for Crows</td>\n      <td>book</td>\n      <td>24940</td>\n    </tr>\n    <tr>\n      <th>a3e9041d-c56b-461b-b8ab-965f09d3e9bc</th>\n      <td>Martin-A Feast for Crows-book.md</td>\n      <td>2023-08-10 22:22:23.992741</td>\n      <td>2</td>\n      <td>8541</td>\n      <td>30490</td>\n      <td>2</td>\n      <td>The captain of guards-Chapter_2</td>\n      <td>The captain of guards-Chapter_2</td>\n      <td>Martin</td>\n      <td>A Feast for Crows</td>\n      <td>book</td>\n      <td>43482</td>\n    </tr>\n    <tr>\n      <th>3e0e3927-d0ba-458b-b136-09e7fa1b9460</th>\n      <td>Martin-A Feast for Crows-book.md</td>\n      <td>2023-08-10 22:22:24.050110</td>\n      <td>3</td>\n      <td>5484</td>\n      <td>19477</td>\n      <td>3</td>\n      <td>Cersei-Chapter_3</td>\n      <td>Cersei-Chapter_3</td>\n      <td>Martin</td>\n      <td>A Feast for Crows</td>\n      <td>book</td>\n      <td>58967</td>\n    </tr>\n    <tr>\n      <th>2c035de5-751d-45e5-a14a-2eb61e52e190</th>\n      <td>Martin-A Feast for Crows-book.md</td>\n      <td>2023-08-10 22:22:24.092195</td>\n      <td>4</td>\n      <td>7989</td>\n      <td>28644</td>\n      <td>4</td>\n      <td>Brienne-Chapter_4</td>\n      <td>Brienne-Chapter_4</td>\n      <td>Martin</td>\n      <td>A Feast for Crows</td>\n      <td>book</td>\n      <td>76957</td>\n    </tr>\n    <tr>\n      <th>...</th>\n      <td>...</td>\n      <td>...</td>\n      <td>...</td>\n      <td>...</td>\n      <td>...</td>\n      <td>...</td>\n      <td>...</td>\n      <td>...</td>\n      <td>...</td>\n      <td>...</td>\n      <td>...</td>\n      <td>...</td>\n    </tr>\n    <tr>\n      <th>f336ab7d-78ae-454a-aad8-6435b2e1c421</th>\n      <td>Martin-A Dance with Dragons-book.md</td>\n      <td>2023-08-10 22:24:00.112468</td>\n      <td>68</td>\n      <td>6084</td>\n      <td>22183</td>\n      <td>339</td>\n      <td>The dragontamer-Chapter_68</td>\n      <td>The dragontamer-Chapter_68</td>\n      <td>Martin</td>\n      <td>A Dance with Dragons</td>\n      <td>book</td>\n      <td>5515052</td>\n    </tr>\n    <tr>\n      <th>afce8beb-4754-4eb0-bd9e-a70217e33363</th>\n      <td>Martin-A Dance with Dragons-book.md</td>\n      <td>2023-08-10 22:24:00.158963</td>\n      <td>69</td>\n      <td>7623</td>\n      <td>26837</td>\n      <td>340</td>\n      <td>Jon-Chapter_69</td>\n      <td>Jon-Chapter_69</td>\n      <td>Martin</td>\n      <td>A Dance with Dragons</td>\n      <td>book</td>\n      <td>5532676</td>\n    </tr>\n    <tr>\n      <th>cff38c73-d81a-45c6-9bae-2085d7e43c51</th>\n      <td>Martin-A Dance with Dragons-book.md</td>\n      <td>2023-08-10 22:24:00.207251</td>\n      <td>70</td>\n      <td>7982</td>\n      <td>28786</td>\n      <td>341</td>\n      <td>The queen's hand-Chapter_70</td>\n      <td>The queen's hand-Chapter_70</td>\n      <td>Martin</td>\n      <td>A Dance with Dragons</td>\n      <td>book</td>\n      <td>5550659</td>\n    </tr>\n    <tr>\n      <th>dcc9df0f-880a-485d-97a7-3a07689c8a13</th>\n      <td>Martin-A Dance with Dragons-book.md</td>\n      <td>2023-08-10 22:24:00.258637</td>\n      <td>71</td>\n      <td>7965</td>\n      <td>28896</td>\n      <td>342</td>\n      <td>Daenerys-Chapter_71</td>\n      <td>Daenerys-Chapter_71</td>\n      <td>Martin</td>\n      <td>A Dance with Dragons</td>\n      <td>book</td>\n      <td>5568625</td>\n    </tr>\n    <tr>\n      <th>c23a1119-c5b9-4e0f-8d2c-67e2ab89a890</th>\n      <td>Martin-A Dance with Dragons-book.md</td>\n      <td>2023-08-10 22:24:00.311388</td>\n      <td>72</td>\n      <td>8435</td>\n      <td>30799</td>\n      <td>343</td>\n      <td>Epilogue-Chapter_72</td>\n      <td>Epilogue-Chapter_72</td>\n      <td>Martin</td>\n      <td>A Dance with Dragons</td>\n      <td>book</td>\n      <td>5587061</td>\n    </tr>\n  </tbody>\n</table>\n<p>344 rows × 12 columns</p>\n</div>"
     },
     "execution_count": 3,
     "metadata": {},
     "output_type": "execute_result"
    }
   ],
   "source": [
    "books_reader.get_toc()"
   ],
   "metadata": {
    "collapsed": false,
    "ExecuteTime": {
     "end_time": "2023-08-17T14:54:14.627405767Z",
     "start_time": "2023-08-17T14:54:14.547346525Z"
    }
   }
  },
  {
   "cell_type": "code",
   "execution_count": 4,
   "outputs": [
    {
     "data": {
      "text/plain": "                                                                   filename  \\\nfile_id                                                                       \naebf9cd8-770e-4f4c-9778-77166d4ee87d      Martin-A Clash of Kings-retell.md   \nc67d8477-4a35-4c0c-a5f1-a1cd61ed7900      Martin-A Clash of Kings-retell.md   \n5d191b46-a50c-4ebd-bc9e-4cb4d801992b      Martin-A Clash of Kings-retell.md   \n6c8fc056-db82-4c14-82f3-c56a03d560ec      Martin-A Clash of Kings-retell.md   \n99ef0c8c-d5c2-457c-87c0-0a3c68293e3c      Martin-A Clash of Kings-retell.md   \n...                                                                     ...   \n9aa00f14-54ec-44c6-865f-73bba133f8a8  Martin-A Dance with Dragons-retell.md   \nb5ee9c31-b294-45ce-a455-724fa9b35e8b  Martin-A Dance with Dragons-retell.md   \nb51bb5e2-da83-4f43-ad11-6d9bbf92e2a5  Martin-A Dance with Dragons-retell.md   \n687a2160-08d6-4abf-8365-19f43d85620c  Martin-A Dance with Dragons-retell.md   \n73263dfb-f207-4d6a-a0b8-58465d47688b  Martin-A Dance with Dragons-retell.md   \n\n                                                      timestamp  part_index  \\\nfile_id                                                                       \naebf9cd8-770e-4f4c-9778-77166d4ee87d 2023-08-10 22:21:29.332969           0   \nc67d8477-4a35-4c0c-a5f1-a1cd61ed7900 2023-08-10 22:21:29.356369           1   \n5d191b46-a50c-4ebd-bc9e-4cb4d801992b 2023-08-10 22:21:29.380943           2   \n6c8fc056-db82-4c14-82f3-c56a03d560ec 2023-08-10 22:21:29.417667           3   \n99ef0c8c-d5c2-457c-87c0-0a3c68293e3c 2023-08-10 22:21:29.445902           4   \n...                                                         ...         ...   \n9aa00f14-54ec-44c6-865f-73bba133f8a8 2023-08-10 22:21:42.145730          68   \nb5ee9c31-b294-45ce-a455-724fa9b35e8b 2023-08-10 22:21:42.162876          69   \nb51bb5e2-da83-4f43-ad11-6d9bbf92e2a5 2023-08-10 22:21:42.180743          70   \n687a2160-08d6-4abf-8365-19f43d85620c 2023-08-10 22:21:42.200605          71   \n73263dfb-f207-4d6a-a0b8-58465d47688b 2023-08-10 22:21:42.217808          72   \n\n                                      token_count  character_count  ordinal  \\\nfile_id                                                                       \naebf9cd8-770e-4f4c-9778-77166d4ee87d         3536            14150        0   \nc67d8477-4a35-4c0c-a5f1-a1cd61ed7900         1201             4561        1   \n5d191b46-a50c-4ebd-bc9e-4cb4d801992b         2031             8290        2   \n6c8fc056-db82-4c14-82f3-c56a03d560ec         2221             8933        3   \n99ef0c8c-d5c2-457c-87c0-0a3c68293e3c         2380             9242        4   \n...                                           ...              ...      ...   \n9aa00f14-54ec-44c6-865f-73bba133f8a8          179              702      339   \nb5ee9c31-b294-45ce-a455-724fa9b35e8b          367             1416      340   \nb51bb5e2-da83-4f43-ad11-6d9bbf92e2a5          999             4143      341   \n687a2160-08d6-4abf-8365-19f43d85620c          199              779      342   \n73263dfb-f207-4d6a-a0b8-58465d47688b         1598             6641      343   \n\n                                                         header_0  \\\nfile_id                                                             \naebf9cd8-770e-4f4c-9778-77166d4ee87d           Prologue-Chapter_0   \nc67d8477-4a35-4c0c-a5f1-a1cd61ed7900             Arya_I-Chapter_1   \n5d191b46-a50c-4ebd-bc9e-4cb4d801992b            Sansa_I-Chapter_2   \n6c8fc056-db82-4c14-82f3-c56a03d560ec           Tyrion_I-Chapter_3   \n99ef0c8c-d5c2-457c-87c0-0a3c68293e3c             Bran_I-Chapter_4   \n...                                                           ...   \n9aa00f14-54ec-44c6-865f-73bba133f8a8   The_Dragontamer-Chapter_68   \nb5ee9c31-b294-45ce-a455-724fa9b35e8b          Jon_XIII-Chapter_69   \nb51bb5e2-da83-4f43-ad11-6d9bbf92e2a5  The_Queen's_Hand-Chapter_70   \n687a2160-08d6-4abf-8365-19f43d85620c        Daenerys_X-Chapter_71   \n73263dfb-f207-4d6a-a0b8-58465d47688b          Epilogue-Chapter_72   \n\n                                                          headers  author  \\\nfile_id                                                                     \naebf9cd8-770e-4f4c-9778-77166d4ee87d           Prologue-Chapter_0  Martin   \nc67d8477-4a35-4c0c-a5f1-a1cd61ed7900             Arya_I-Chapter_1  Martin   \n5d191b46-a50c-4ebd-bc9e-4cb4d801992b            Sansa_I-Chapter_2  Martin   \n6c8fc056-db82-4c14-82f3-c56a03d560ec           Tyrion_I-Chapter_3  Martin   \n99ef0c8c-d5c2-457c-87c0-0a3c68293e3c             Bran_I-Chapter_4  Martin   \n...                                                           ...     ...   \n9aa00f14-54ec-44c6-865f-73bba133f8a8   The_Dragontamer-Chapter_68  Martin   \nb5ee9c31-b294-45ce-a455-724fa9b35e8b          Jon_XIII-Chapter_69  Martin   \nb51bb5e2-da83-4f43-ad11-6d9bbf92e2a5  The_Queen's_Hand-Chapter_70  Martin   \n687a2160-08d6-4abf-8365-19f43d85620c        Daenerys_X-Chapter_71  Martin   \n73263dfb-f207-4d6a-a0b8-58465d47688b          Epilogue-Chapter_72  Martin   \n\n                                                 book_name text_type   max_id  \nfile_id                                                                        \naebf9cd8-770e-4f4c-9778-77166d4ee87d      A Clash of Kings    retell     3537  \nc67d8477-4a35-4c0c-a5f1-a1cd61ed7900      A Clash of Kings    retell    14739  \n5d191b46-a50c-4ebd-bc9e-4cb4d801992b      A Clash of Kings    retell    26771  \n6c8fc056-db82-4c14-82f3-c56a03d560ec      A Clash of Kings    retell    38993  \n99ef0c8c-d5c2-457c-87c0-0a3c68293e3c      A Clash of Kings    retell    51374  \n...                                                    ...       ...      ...  \n9aa00f14-54ec-44c6-865f-73bba133f8a8  A Dance with Dragons    retell  3655455  \nb5ee9c31-b294-45ce-a455-724fa9b35e8b  A Dance with Dragons    retell  3665823  \nb51bb5e2-da83-4f43-ad11-6d9bbf92e2a5  A Dance with Dragons    retell  3676823  \n687a2160-08d6-4abf-8365-19f43d85620c  A Dance with Dragons    retell  3687023  \n73263dfb-f207-4d6a-a0b8-58465d47688b  A Dance with Dragons    retell  3698622  \n\n[344 rows x 12 columns]",
      "text/html": "<div>\n<style scoped>\n    .dataframe tbody tr th:only-of-type {\n        vertical-align: middle;\n    }\n\n    .dataframe tbody tr th {\n        vertical-align: top;\n    }\n\n    .dataframe thead th {\n        text-align: right;\n    }\n</style>\n<table border=\"1\" class=\"dataframe\">\n  <thead>\n    <tr style=\"text-align: right;\">\n      <th></th>\n      <th>filename</th>\n      <th>timestamp</th>\n      <th>part_index</th>\n      <th>token_count</th>\n      <th>character_count</th>\n      <th>ordinal</th>\n      <th>header_0</th>\n      <th>headers</th>\n      <th>author</th>\n      <th>book_name</th>\n      <th>text_type</th>\n      <th>max_id</th>\n    </tr>\n    <tr>\n      <th>file_id</th>\n      <th></th>\n      <th></th>\n      <th></th>\n      <th></th>\n      <th></th>\n      <th></th>\n      <th></th>\n      <th></th>\n      <th></th>\n      <th></th>\n      <th></th>\n      <th></th>\n    </tr>\n  </thead>\n  <tbody>\n    <tr>\n      <th>aebf9cd8-770e-4f4c-9778-77166d4ee87d</th>\n      <td>Martin-A Clash of Kings-retell.md</td>\n      <td>2023-08-10 22:21:29.332969</td>\n      <td>0</td>\n      <td>3536</td>\n      <td>14150</td>\n      <td>0</td>\n      <td>Prologue-Chapter_0</td>\n      <td>Prologue-Chapter_0</td>\n      <td>Martin</td>\n      <td>A Clash of Kings</td>\n      <td>retell</td>\n      <td>3537</td>\n    </tr>\n    <tr>\n      <th>c67d8477-4a35-4c0c-a5f1-a1cd61ed7900</th>\n      <td>Martin-A Clash of Kings-retell.md</td>\n      <td>2023-08-10 22:21:29.356369</td>\n      <td>1</td>\n      <td>1201</td>\n      <td>4561</td>\n      <td>1</td>\n      <td>Arya_I-Chapter_1</td>\n      <td>Arya_I-Chapter_1</td>\n      <td>Martin</td>\n      <td>A Clash of Kings</td>\n      <td>retell</td>\n      <td>14739</td>\n    </tr>\n    <tr>\n      <th>5d191b46-a50c-4ebd-bc9e-4cb4d801992b</th>\n      <td>Martin-A Clash of Kings-retell.md</td>\n      <td>2023-08-10 22:21:29.380943</td>\n      <td>2</td>\n      <td>2031</td>\n      <td>8290</td>\n      <td>2</td>\n      <td>Sansa_I-Chapter_2</td>\n      <td>Sansa_I-Chapter_2</td>\n      <td>Martin</td>\n      <td>A Clash of Kings</td>\n      <td>retell</td>\n      <td>26771</td>\n    </tr>\n    <tr>\n      <th>6c8fc056-db82-4c14-82f3-c56a03d560ec</th>\n      <td>Martin-A Clash of Kings-retell.md</td>\n      <td>2023-08-10 22:21:29.417667</td>\n      <td>3</td>\n      <td>2221</td>\n      <td>8933</td>\n      <td>3</td>\n      <td>Tyrion_I-Chapter_3</td>\n      <td>Tyrion_I-Chapter_3</td>\n      <td>Martin</td>\n      <td>A Clash of Kings</td>\n      <td>retell</td>\n      <td>38993</td>\n    </tr>\n    <tr>\n      <th>99ef0c8c-d5c2-457c-87c0-0a3c68293e3c</th>\n      <td>Martin-A Clash of Kings-retell.md</td>\n      <td>2023-08-10 22:21:29.445902</td>\n      <td>4</td>\n      <td>2380</td>\n      <td>9242</td>\n      <td>4</td>\n      <td>Bran_I-Chapter_4</td>\n      <td>Bran_I-Chapter_4</td>\n      <td>Martin</td>\n      <td>A Clash of Kings</td>\n      <td>retell</td>\n      <td>51374</td>\n    </tr>\n    <tr>\n      <th>...</th>\n      <td>...</td>\n      <td>...</td>\n      <td>...</td>\n      <td>...</td>\n      <td>...</td>\n      <td>...</td>\n      <td>...</td>\n      <td>...</td>\n      <td>...</td>\n      <td>...</td>\n      <td>...</td>\n      <td>...</td>\n    </tr>\n    <tr>\n      <th>9aa00f14-54ec-44c6-865f-73bba133f8a8</th>\n      <td>Martin-A Dance with Dragons-retell.md</td>\n      <td>2023-08-10 22:21:42.145730</td>\n      <td>68</td>\n      <td>179</td>\n      <td>702</td>\n      <td>339</td>\n      <td>The_Dragontamer-Chapter_68</td>\n      <td>The_Dragontamer-Chapter_68</td>\n      <td>Martin</td>\n      <td>A Dance with Dragons</td>\n      <td>retell</td>\n      <td>3655455</td>\n    </tr>\n    <tr>\n      <th>b5ee9c31-b294-45ce-a455-724fa9b35e8b</th>\n      <td>Martin-A Dance with Dragons-retell.md</td>\n      <td>2023-08-10 22:21:42.162876</td>\n      <td>69</td>\n      <td>367</td>\n      <td>1416</td>\n      <td>340</td>\n      <td>Jon_XIII-Chapter_69</td>\n      <td>Jon_XIII-Chapter_69</td>\n      <td>Martin</td>\n      <td>A Dance with Dragons</td>\n      <td>retell</td>\n      <td>3665823</td>\n    </tr>\n    <tr>\n      <th>b51bb5e2-da83-4f43-ad11-6d9bbf92e2a5</th>\n      <td>Martin-A Dance with Dragons-retell.md</td>\n      <td>2023-08-10 22:21:42.180743</td>\n      <td>70</td>\n      <td>999</td>\n      <td>4143</td>\n      <td>341</td>\n      <td>The_Queen's_Hand-Chapter_70</td>\n      <td>The_Queen's_Hand-Chapter_70</td>\n      <td>Martin</td>\n      <td>A Dance with Dragons</td>\n      <td>retell</td>\n      <td>3676823</td>\n    </tr>\n    <tr>\n      <th>687a2160-08d6-4abf-8365-19f43d85620c</th>\n      <td>Martin-A Dance with Dragons-retell.md</td>\n      <td>2023-08-10 22:21:42.200605</td>\n      <td>71</td>\n      <td>199</td>\n      <td>779</td>\n      <td>342</td>\n      <td>Daenerys_X-Chapter_71</td>\n      <td>Daenerys_X-Chapter_71</td>\n      <td>Martin</td>\n      <td>A Dance with Dragons</td>\n      <td>retell</td>\n      <td>3687023</td>\n    </tr>\n    <tr>\n      <th>73263dfb-f207-4d6a-a0b8-58465d47688b</th>\n      <td>Martin-A Dance with Dragons-retell.md</td>\n      <td>2023-08-10 22:21:42.217808</td>\n      <td>72</td>\n      <td>1598</td>\n      <td>6641</td>\n      <td>343</td>\n      <td>Epilogue-Chapter_72</td>\n      <td>Epilogue-Chapter_72</td>\n      <td>Martin</td>\n      <td>A Dance with Dragons</td>\n      <td>retell</td>\n      <td>3698622</td>\n    </tr>\n  </tbody>\n</table>\n<p>344 rows × 12 columns</p>\n</div>"
     },
     "execution_count": 4,
     "metadata": {},
     "output_type": "execute_result"
    }
   ],
   "source": [
    "retell_reader.get_toc()"
   ],
   "metadata": {
    "collapsed": false,
    "ExecuteTime": {
     "end_time": "2023-08-17T14:54:14.809020035Z",
     "start_time": "2023-08-17T14:54:14.611789949Z"
    }
   }
  },
  {
   "cell_type": "code",
   "execution_count": 5,
   "outputs": [],
   "source": [
    "martin_df = books_reader.get_toc()\n",
    "retell_martin_df = retell_reader.get_toc()"
   ],
   "metadata": {
    "collapsed": false,
    "ExecuteTime": {
     "end_time": "2023-08-17T14:54:15.032276788Z",
     "start_time": "2023-08-17T14:54:14.890406394Z"
    }
   }
  },
  {
   "cell_type": "code",
   "execution_count": 6,
   "outputs": [
    {
     "data": {
      "text/plain": "array(['A Clash of Kings', 'A Feast for Crows', 'A Game of Thrones',\n       'A Storm of Swords', 'A Dance with Dragons'], dtype=object)"
     },
     "execution_count": 6,
     "metadata": {},
     "output_type": "execute_result"
    }
   ],
   "source": [
    "books_names = retell_martin_df['book_name'].unique()\n",
    "books_names"
   ],
   "metadata": {
    "collapsed": false,
    "ExecuteTime": {
     "end_time": "2023-08-17T14:54:15.429694679Z",
     "start_time": "2023-08-17T14:54:15.414440193Z"
    }
   }
  },
  {
   "cell_type": "code",
   "execution_count": 7,
   "outputs": [
    {
     "data": {
      "text/plain": "                                                              filename  \\\nfile_id                                                                  \n965bc900-f3c4-403d-abb7-5bc72a648793  Martin-A Game of Thrones-book.md   \n6dda4183-f8d7-4429-9a94-b2ae747f237e  Martin-A Game of Thrones-book.md   \nac50c9a1-bf67-4c84-856d-1a950c4d7edf  Martin-A Game of Thrones-book.md   \ndfe9fad2-2668-41ff-a22d-b84eaeb05714  Martin-A Game of Thrones-book.md   \n4471b4d5-7be1-4d43-9a29-49f1c6a4dab2  Martin-A Game of Thrones-book.md   \n...                                                                ...   \n313dbe26-9706-4248-9353-6cf1e10eee90  Martin-A Game of Thrones-book.md   \n4be9bb78-63af-4e0e-ad68-178dc1b31157  Martin-A Game of Thrones-book.md   \n03150e7d-b2df-4994-a94f-880fc59d3c9f  Martin-A Game of Thrones-book.md   \n7f9eed66-4296-42e5-a713-1cb883588568  Martin-A Game of Thrones-book.md   \nca9901a2-9414-4973-bb72-cfae61e7db9d  Martin-A Game of Thrones-book.md   \n\n                                                      timestamp  part_index  \\\nfile_id                                                                       \n965bc900-f3c4-403d-abb7-5bc72a648793 2023-08-10 22:23:09.901632           0   \n6dda4183-f8d7-4429-9a94-b2ae747f237e 2023-08-10 22:23:09.943642           1   \nac50c9a1-bf67-4c84-856d-1a950c4d7edf 2023-08-10 22:23:09.978890           2   \ndfe9fad2-2668-41ff-a22d-b84eaeb05714 2023-08-10 22:23:10.008981           3   \n4471b4d5-7be1-4d43-9a29-49f1c6a4dab2 2023-08-10 22:23:10.048166           4   \n...                                                         ...         ...   \n313dbe26-9706-4248-9353-6cf1e10eee90 2023-08-10 22:23:12.613910          68   \n4be9bb78-63af-4e0e-ad68-178dc1b31157 2023-08-10 22:23:12.655658          69   \n03150e7d-b2df-4994-a94f-880fc59d3c9f 2023-08-10 22:23:12.691643          70   \n7f9eed66-4296-42e5-a713-1cb883588568 2023-08-10 22:23:12.735405          71   \nca9901a2-9414-4973-bb72-cfae61e7db9d 2023-08-10 22:23:12.776510          72   \n\n                                      token_count  character_count  ordinal  \\\nfile_id                                                                       \n965bc900-f3c4-403d-abb7-5bc72a648793         4734            16869      128   \n6dda4183-f8d7-4429-9a94-b2ae747f237e         3822            13181      129   \nac50c9a1-bf67-4c84-856d-1a950c4d7edf         2540             8950      130   \ndfe9fad2-2668-41ff-a22d-b84eaeb05714         5013            18750      131   \n4471b4d5-7be1-4d43-9a29-49f1c6a4dab2         4653            16504      132   \n...                                           ...              ...      ...   \n313dbe26-9706-4248-9353-6cf1e10eee90         5222            17774      196   \n4be9bb78-63af-4e0e-ad68-178dc1b31157         4293            15484      197   \n03150e7d-b2df-4994-a94f-880fc59d3c9f         6249            20999      198   \n7f9eed66-4296-42e5-a713-1cb883588568         5718            20187      199   \nca9901a2-9414-4973-bb72-cfae61e7db9d         4248            15317      200   \n\n                                                 header_0  \\\nfile_id                                                     \n965bc900-f3c4-403d-abb7-5bc72a648793   Prologue-Chapter_0   \n6dda4183-f8d7-4429-9a94-b2ae747f237e       Bran-Chapter_1   \nac50c9a1-bf67-4c84-856d-1a950c4d7edf    Catelyn-Chapter_2   \ndfe9fad2-2668-41ff-a22d-b84eaeb05714   Daenerys-Chapter_3   \n4471b4d5-7be1-4d43-9a29-49f1c6a4dab2     Eddard-Chapter_4   \n...                                                   ...   \n313dbe26-9706-4248-9353-6cf1e10eee90  Daenerys-Chapter_68   \n4be9bb78-63af-4e0e-ad68-178dc1b31157    Tyrion-Chapter_69   \n03150e7d-b2df-4994-a94f-880fc59d3c9f       Jon-Chapter_70   \n7f9eed66-4296-42e5-a713-1cb883588568   Catelyn-Chapter_71   \nca9901a2-9414-4973-bb72-cfae61e7db9d  Daenerys-Chapter_72   \n\n                                                  headers  author  \\\nfile_id                                                             \n965bc900-f3c4-403d-abb7-5bc72a648793   Prologue-Chapter_0  Martin   \n6dda4183-f8d7-4429-9a94-b2ae747f237e       Bran-Chapter_1  Martin   \nac50c9a1-bf67-4c84-856d-1a950c4d7edf    Catelyn-Chapter_2  Martin   \ndfe9fad2-2668-41ff-a22d-b84eaeb05714   Daenerys-Chapter_3  Martin   \n4471b4d5-7be1-4d43-9a29-49f1c6a4dab2     Eddard-Chapter_4  Martin   \n...                                                   ...     ...   \n313dbe26-9706-4248-9353-6cf1e10eee90  Daenerys-Chapter_68  Martin   \n4be9bb78-63af-4e0e-ad68-178dc1b31157    Tyrion-Chapter_69  Martin   \n03150e7d-b2df-4994-a94f-880fc59d3c9f       Jon-Chapter_70  Martin   \n7f9eed66-4296-42e5-a713-1cb883588568   Catelyn-Chapter_71  Martin   \nca9901a2-9414-4973-bb72-cfae61e7db9d  Daenerys-Chapter_72  Martin   \n\n                                              book_name text_type   max_id  \nfile_id                                                                     \n965bc900-f3c4-403d-abb7-5bc72a648793  A Game of Thrones      book  2170256  \n6dda4183-f8d7-4429-9a94-b2ae747f237e  A Game of Thrones      book  2184079  \nac50c9a1-bf67-4c84-856d-1a950c4d7edf  A Game of Thrones      book  2196620  \ndfe9fad2-2668-41ff-a22d-b84eaeb05714  A Game of Thrones      book  2211634  \n4471b4d5-7be1-4d43-9a29-49f1c6a4dab2  A Game of Thrones      book  2226288  \n...                                                 ...       ...      ...  \n313dbe26-9706-4248-9353-6cf1e10eee90  A Game of Thrones      book  3188913  \n4be9bb78-63af-4e0e-ad68-178dc1b31157  A Game of Thrones      book  3203207  \n03150e7d-b2df-4994-a94f-880fc59d3c9f  A Game of Thrones      book  3219457  \n7f9eed66-4296-42e5-a713-1cb883588568  A Game of Thrones      book  3235176  \nca9901a2-9414-4973-bb72-cfae61e7db9d  A Game of Thrones      book  3249425  \n\n[73 rows x 12 columns]",
      "text/html": "<div>\n<style scoped>\n    .dataframe tbody tr th:only-of-type {\n        vertical-align: middle;\n    }\n\n    .dataframe tbody tr th {\n        vertical-align: top;\n    }\n\n    .dataframe thead th {\n        text-align: right;\n    }\n</style>\n<table border=\"1\" class=\"dataframe\">\n  <thead>\n    <tr style=\"text-align: right;\">\n      <th></th>\n      <th>filename</th>\n      <th>timestamp</th>\n      <th>part_index</th>\n      <th>token_count</th>\n      <th>character_count</th>\n      <th>ordinal</th>\n      <th>header_0</th>\n      <th>headers</th>\n      <th>author</th>\n      <th>book_name</th>\n      <th>text_type</th>\n      <th>max_id</th>\n    </tr>\n    <tr>\n      <th>file_id</th>\n      <th></th>\n      <th></th>\n      <th></th>\n      <th></th>\n      <th></th>\n      <th></th>\n      <th></th>\n      <th></th>\n      <th></th>\n      <th></th>\n      <th></th>\n      <th></th>\n    </tr>\n  </thead>\n  <tbody>\n    <tr>\n      <th>965bc900-f3c4-403d-abb7-5bc72a648793</th>\n      <td>Martin-A Game of Thrones-book.md</td>\n      <td>2023-08-10 22:23:09.901632</td>\n      <td>0</td>\n      <td>4734</td>\n      <td>16869</td>\n      <td>128</td>\n      <td>Prologue-Chapter_0</td>\n      <td>Prologue-Chapter_0</td>\n      <td>Martin</td>\n      <td>A Game of Thrones</td>\n      <td>book</td>\n      <td>2170256</td>\n    </tr>\n    <tr>\n      <th>6dda4183-f8d7-4429-9a94-b2ae747f237e</th>\n      <td>Martin-A Game of Thrones-book.md</td>\n      <td>2023-08-10 22:23:09.943642</td>\n      <td>1</td>\n      <td>3822</td>\n      <td>13181</td>\n      <td>129</td>\n      <td>Bran-Chapter_1</td>\n      <td>Bran-Chapter_1</td>\n      <td>Martin</td>\n      <td>A Game of Thrones</td>\n      <td>book</td>\n      <td>2184079</td>\n    </tr>\n    <tr>\n      <th>ac50c9a1-bf67-4c84-856d-1a950c4d7edf</th>\n      <td>Martin-A Game of Thrones-book.md</td>\n      <td>2023-08-10 22:23:09.978890</td>\n      <td>2</td>\n      <td>2540</td>\n      <td>8950</td>\n      <td>130</td>\n      <td>Catelyn-Chapter_2</td>\n      <td>Catelyn-Chapter_2</td>\n      <td>Martin</td>\n      <td>A Game of Thrones</td>\n      <td>book</td>\n      <td>2196620</td>\n    </tr>\n    <tr>\n      <th>dfe9fad2-2668-41ff-a22d-b84eaeb05714</th>\n      <td>Martin-A Game of Thrones-book.md</td>\n      <td>2023-08-10 22:23:10.008981</td>\n      <td>3</td>\n      <td>5013</td>\n      <td>18750</td>\n      <td>131</td>\n      <td>Daenerys-Chapter_3</td>\n      <td>Daenerys-Chapter_3</td>\n      <td>Martin</td>\n      <td>A Game of Thrones</td>\n      <td>book</td>\n      <td>2211634</td>\n    </tr>\n    <tr>\n      <th>4471b4d5-7be1-4d43-9a29-49f1c6a4dab2</th>\n      <td>Martin-A Game of Thrones-book.md</td>\n      <td>2023-08-10 22:23:10.048166</td>\n      <td>4</td>\n      <td>4653</td>\n      <td>16504</td>\n      <td>132</td>\n      <td>Eddard-Chapter_4</td>\n      <td>Eddard-Chapter_4</td>\n      <td>Martin</td>\n      <td>A Game of Thrones</td>\n      <td>book</td>\n      <td>2226288</td>\n    </tr>\n    <tr>\n      <th>...</th>\n      <td>...</td>\n      <td>...</td>\n      <td>...</td>\n      <td>...</td>\n      <td>...</td>\n      <td>...</td>\n      <td>...</td>\n      <td>...</td>\n      <td>...</td>\n      <td>...</td>\n      <td>...</td>\n      <td>...</td>\n    </tr>\n    <tr>\n      <th>313dbe26-9706-4248-9353-6cf1e10eee90</th>\n      <td>Martin-A Game of Thrones-book.md</td>\n      <td>2023-08-10 22:23:12.613910</td>\n      <td>68</td>\n      <td>5222</td>\n      <td>17774</td>\n      <td>196</td>\n      <td>Daenerys-Chapter_68</td>\n      <td>Daenerys-Chapter_68</td>\n      <td>Martin</td>\n      <td>A Game of Thrones</td>\n      <td>book</td>\n      <td>3188913</td>\n    </tr>\n    <tr>\n      <th>4be9bb78-63af-4e0e-ad68-178dc1b31157</th>\n      <td>Martin-A Game of Thrones-book.md</td>\n      <td>2023-08-10 22:23:12.655658</td>\n      <td>69</td>\n      <td>4293</td>\n      <td>15484</td>\n      <td>197</td>\n      <td>Tyrion-Chapter_69</td>\n      <td>Tyrion-Chapter_69</td>\n      <td>Martin</td>\n      <td>A Game of Thrones</td>\n      <td>book</td>\n      <td>3203207</td>\n    </tr>\n    <tr>\n      <th>03150e7d-b2df-4994-a94f-880fc59d3c9f</th>\n      <td>Martin-A Game of Thrones-book.md</td>\n      <td>2023-08-10 22:23:12.691643</td>\n      <td>70</td>\n      <td>6249</td>\n      <td>20999</td>\n      <td>198</td>\n      <td>Jon-Chapter_70</td>\n      <td>Jon-Chapter_70</td>\n      <td>Martin</td>\n      <td>A Game of Thrones</td>\n      <td>book</td>\n      <td>3219457</td>\n    </tr>\n    <tr>\n      <th>7f9eed66-4296-42e5-a713-1cb883588568</th>\n      <td>Martin-A Game of Thrones-book.md</td>\n      <td>2023-08-10 22:23:12.735405</td>\n      <td>71</td>\n      <td>5718</td>\n      <td>20187</td>\n      <td>199</td>\n      <td>Catelyn-Chapter_71</td>\n      <td>Catelyn-Chapter_71</td>\n      <td>Martin</td>\n      <td>A Game of Thrones</td>\n      <td>book</td>\n      <td>3235176</td>\n    </tr>\n    <tr>\n      <th>ca9901a2-9414-4973-bb72-cfae61e7db9d</th>\n      <td>Martin-A Game of Thrones-book.md</td>\n      <td>2023-08-10 22:23:12.776510</td>\n      <td>72</td>\n      <td>4248</td>\n      <td>15317</td>\n      <td>200</td>\n      <td>Daenerys-Chapter_72</td>\n      <td>Daenerys-Chapter_72</td>\n      <td>Martin</td>\n      <td>A Game of Thrones</td>\n      <td>book</td>\n      <td>3249425</td>\n    </tr>\n  </tbody>\n</table>\n<p>73 rows × 12 columns</p>\n</div>"
     },
     "execution_count": 7,
     "metadata": {},
     "output_type": "execute_result"
    }
   ],
   "source": [
    "martin_df[martin_df['book_name'] == \"A Game of Thrones\"]"
   ],
   "metadata": {
    "collapsed": false,
    "ExecuteTime": {
     "end_time": "2023-08-17T14:54:51.271612207Z",
     "start_time": "2023-08-17T14:54:51.225953839Z"
    }
   }
  },
  {
   "cell_type": "code",
   "execution_count": 9,
   "outputs": [
    {
     "data": {
      "text/plain": "                                                                filename  \\\nfile_id                                                                    \n464aa483-e700-4951-87ef-7c8d4de3574e  Martin-A Game of Thrones-retell.md   \n5c8389e0-8e41-4b99-8329-50271c109acb  Martin-A Game of Thrones-retell.md   \nb76938f7-c681-4c27-b528-981d989b52b0  Martin-A Game of Thrones-retell.md   \nd3640f19-3272-4246-a8d3-187ef89a9db2  Martin-A Game of Thrones-retell.md   \nd27e0b2d-72d5-4027-b3c3-1ba12a7e99dc  Martin-A Game of Thrones-retell.md   \n...                                                                  ...   \n91e7b902-4303-48b6-a022-2c844a9b66b1  Martin-A Game of Thrones-retell.md   \n5ffe608a-177d-4cbd-8897-7890b814f468  Martin-A Game of Thrones-retell.md   \nfa47ad01-0256-40cf-985d-19188be20adc  Martin-A Game of Thrones-retell.md   \n714d7f1d-91c1-470f-9af1-eb39f096c20d  Martin-A Game of Thrones-retell.md   \n80d4eb45-83b7-448f-98a1-f9a080a77a63  Martin-A Game of Thrones-retell.md   \n\n                                                      timestamp  part_index  \\\nfile_id                                                                       \n464aa483-e700-4951-87ef-7c8d4de3574e 2023-08-10 22:21:35.300213           0   \n5c8389e0-8e41-4b99-8329-50271c109acb 2023-08-10 22:21:35.320120           1   \nb76938f7-c681-4c27-b528-981d989b52b0 2023-08-10 22:21:35.339326           2   \nd3640f19-3272-4246-a8d3-187ef89a9db2 2023-08-10 22:21:35.357523           3   \nd27e0b2d-72d5-4027-b3c3-1ba12a7e99dc 2023-08-10 22:21:35.378132           4   \n...                                                         ...         ...   \n91e7b902-4303-48b6-a022-2c844a9b66b1 2023-08-10 22:21:36.844772          68   \n5ffe608a-177d-4cbd-8897-7890b814f468 2023-08-10 22:21:36.869826          69   \nfa47ad01-0256-40cf-985d-19188be20adc 2023-08-10 22:21:36.896820          70   \n714d7f1d-91c1-470f-9af1-eb39f096c20d 2023-08-10 22:21:36.924236          71   \n80d4eb45-83b7-448f-98a1-f9a080a77a63 2023-08-10 22:21:36.950423          72   \n\n                                      token_count  character_count  ordinal  \\\nfile_id                                                                       \n464aa483-e700-4951-87ef-7c8d4de3574e          802             3056      116   \n5c8389e0-8e41-4b99-8329-50271c109acb          693             2766      117   \nb76938f7-c681-4c27-b528-981d989b52b0          477             1979      118   \nd3640f19-3272-4246-a8d3-187ef89a9db2         1067             4452      119   \nd27e0b2d-72d5-4027-b3c3-1ba12a7e99dc          921             3703      120   \n...                                           ...              ...      ...   \n91e7b902-4303-48b6-a022-2c844a9b66b1         1339             5077      184   \n5ffe608a-177d-4cbd-8897-7890b814f468         1426             5875      185   \nfa47ad01-0256-40cf-985d-19188be20adc         1868             7090      186   \n714d7f1d-91c1-470f-9af1-eb39f096c20d         1794             7323      187   \n80d4eb45-83b7-448f-98a1-f9a080a77a63         1268             4963      188   \n\n                                                    header_0  \\\nfile_id                                                        \n464aa483-e700-4951-87ef-7c8d4de3574e      Prologue-Chapter_0   \n5c8389e0-8e41-4b99-8329-50271c109acb        Bran_I-Chapter_1   \nb76938f7-c681-4c27-b528-981d989b52b0     Catelyn_I-Chapter_2   \nd3640f19-3272-4246-a8d3-187ef89a9db2    Daenerys_I-Chapter_3   \nd27e0b2d-72d5-4027-b3c3-1ba12a7e99dc      Eddard_I-Chapter_4   \n...                                                      ...   \n91e7b902-4303-48b6-a022-2c844a9b66b1  Daenerys_IX-Chapter_68   \n5ffe608a-177d-4cbd-8897-7890b814f468    Tyrion_IX-Chapter_69   \nfa47ad01-0256-40cf-985d-19188be20adc       Jon_IX-Chapter_70   \n714d7f1d-91c1-470f-9af1-eb39f096c20d   Catelyn_XI-Chapter_71   \n80d4eb45-83b7-448f-98a1-f9a080a77a63   Daenerys_X-Chapter_72   \n\n                                                     headers  author  \\\nfile_id                                                                \n464aa483-e700-4951-87ef-7c8d4de3574e      Prologue-Chapter_0  Martin   \n5c8389e0-8e41-4b99-8329-50271c109acb        Bran_I-Chapter_1  Martin   \nb76938f7-c681-4c27-b528-981d989b52b0     Catelyn_I-Chapter_2  Martin   \nd3640f19-3272-4246-a8d3-187ef89a9db2    Daenerys_I-Chapter_3  Martin   \nd27e0b2d-72d5-4027-b3c3-1ba12a7e99dc      Eddard_I-Chapter_4  Martin   \n...                                                      ...     ...   \n91e7b902-4303-48b6-a022-2c844a9b66b1  Daenerys_IX-Chapter_68  Martin   \n5ffe608a-177d-4cbd-8897-7890b814f468    Tyrion_IX-Chapter_69  Martin   \nfa47ad01-0256-40cf-985d-19188be20adc       Jon_IX-Chapter_70  Martin   \n714d7f1d-91c1-470f-9af1-eb39f096c20d   Catelyn_XI-Chapter_71  Martin   \n80d4eb45-83b7-448f-98a1-f9a080a77a63   Daenerys_X-Chapter_72  Martin   \n\n                                              book_name text_type   max_id  \nfile_id                                                                     \n464aa483-e700-4951-87ef-7c8d4de3574e  A Game of Thrones    retell  1274431  \n5c8389e0-8e41-4b99-8329-50271c109acb  A Game of Thrones    retell  1285125  \nb76938f7-c681-4c27-b528-981d989b52b0  A Game of Thrones    retell  1295603  \nd3640f19-3272-4246-a8d3-187ef89a9db2  A Game of Thrones    retell  1306671  \nd27e0b2d-72d5-4027-b3c3-1ba12a7e99dc  A Game of Thrones    retell  1317593  \n...                                                 ...       ...      ...  \n91e7b902-4303-48b6-a022-2c844a9b66b1  A Game of Thrones    retell  2034417  \n5ffe608a-177d-4cbd-8897-7890b814f468  A Game of Thrones    retell  2045844  \nfa47ad01-0256-40cf-985d-19188be20adc  A Game of Thrones    retell  2057713  \n714d7f1d-91c1-470f-9af1-eb39f096c20d  A Game of Thrones    retell  2069508  \n80d4eb45-83b7-448f-98a1-f9a080a77a63  A Game of Thrones    retell  2080777  \n\n[73 rows x 12 columns]",
      "text/html": "<div>\n<style scoped>\n    .dataframe tbody tr th:only-of-type {\n        vertical-align: middle;\n    }\n\n    .dataframe tbody tr th {\n        vertical-align: top;\n    }\n\n    .dataframe thead th {\n        text-align: right;\n    }\n</style>\n<table border=\"1\" class=\"dataframe\">\n  <thead>\n    <tr style=\"text-align: right;\">\n      <th></th>\n      <th>filename</th>\n      <th>timestamp</th>\n      <th>part_index</th>\n      <th>token_count</th>\n      <th>character_count</th>\n      <th>ordinal</th>\n      <th>header_0</th>\n      <th>headers</th>\n      <th>author</th>\n      <th>book_name</th>\n      <th>text_type</th>\n      <th>max_id</th>\n    </tr>\n    <tr>\n      <th>file_id</th>\n      <th></th>\n      <th></th>\n      <th></th>\n      <th></th>\n      <th></th>\n      <th></th>\n      <th></th>\n      <th></th>\n      <th></th>\n      <th></th>\n      <th></th>\n      <th></th>\n    </tr>\n  </thead>\n  <tbody>\n    <tr>\n      <th>464aa483-e700-4951-87ef-7c8d4de3574e</th>\n      <td>Martin-A Game of Thrones-retell.md</td>\n      <td>2023-08-10 22:21:35.300213</td>\n      <td>0</td>\n      <td>802</td>\n      <td>3056</td>\n      <td>116</td>\n      <td>Prologue-Chapter_0</td>\n      <td>Prologue-Chapter_0</td>\n      <td>Martin</td>\n      <td>A Game of Thrones</td>\n      <td>retell</td>\n      <td>1274431</td>\n    </tr>\n    <tr>\n      <th>5c8389e0-8e41-4b99-8329-50271c109acb</th>\n      <td>Martin-A Game of Thrones-retell.md</td>\n      <td>2023-08-10 22:21:35.320120</td>\n      <td>1</td>\n      <td>693</td>\n      <td>2766</td>\n      <td>117</td>\n      <td>Bran_I-Chapter_1</td>\n      <td>Bran_I-Chapter_1</td>\n      <td>Martin</td>\n      <td>A Game of Thrones</td>\n      <td>retell</td>\n      <td>1285125</td>\n    </tr>\n    <tr>\n      <th>b76938f7-c681-4c27-b528-981d989b52b0</th>\n      <td>Martin-A Game of Thrones-retell.md</td>\n      <td>2023-08-10 22:21:35.339326</td>\n      <td>2</td>\n      <td>477</td>\n      <td>1979</td>\n      <td>118</td>\n      <td>Catelyn_I-Chapter_2</td>\n      <td>Catelyn_I-Chapter_2</td>\n      <td>Martin</td>\n      <td>A Game of Thrones</td>\n      <td>retell</td>\n      <td>1295603</td>\n    </tr>\n    <tr>\n      <th>d3640f19-3272-4246-a8d3-187ef89a9db2</th>\n      <td>Martin-A Game of Thrones-retell.md</td>\n      <td>2023-08-10 22:21:35.357523</td>\n      <td>3</td>\n      <td>1067</td>\n      <td>4452</td>\n      <td>119</td>\n      <td>Daenerys_I-Chapter_3</td>\n      <td>Daenerys_I-Chapter_3</td>\n      <td>Martin</td>\n      <td>A Game of Thrones</td>\n      <td>retell</td>\n      <td>1306671</td>\n    </tr>\n    <tr>\n      <th>d27e0b2d-72d5-4027-b3c3-1ba12a7e99dc</th>\n      <td>Martin-A Game of Thrones-retell.md</td>\n      <td>2023-08-10 22:21:35.378132</td>\n      <td>4</td>\n      <td>921</td>\n      <td>3703</td>\n      <td>120</td>\n      <td>Eddard_I-Chapter_4</td>\n      <td>Eddard_I-Chapter_4</td>\n      <td>Martin</td>\n      <td>A Game of Thrones</td>\n      <td>retell</td>\n      <td>1317593</td>\n    </tr>\n    <tr>\n      <th>...</th>\n      <td>...</td>\n      <td>...</td>\n      <td>...</td>\n      <td>...</td>\n      <td>...</td>\n      <td>...</td>\n      <td>...</td>\n      <td>...</td>\n      <td>...</td>\n      <td>...</td>\n      <td>...</td>\n      <td>...</td>\n    </tr>\n    <tr>\n      <th>91e7b902-4303-48b6-a022-2c844a9b66b1</th>\n      <td>Martin-A Game of Thrones-retell.md</td>\n      <td>2023-08-10 22:21:36.844772</td>\n      <td>68</td>\n      <td>1339</td>\n      <td>5077</td>\n      <td>184</td>\n      <td>Daenerys_IX-Chapter_68</td>\n      <td>Daenerys_IX-Chapter_68</td>\n      <td>Martin</td>\n      <td>A Game of Thrones</td>\n      <td>retell</td>\n      <td>2034417</td>\n    </tr>\n    <tr>\n      <th>5ffe608a-177d-4cbd-8897-7890b814f468</th>\n      <td>Martin-A Game of Thrones-retell.md</td>\n      <td>2023-08-10 22:21:36.869826</td>\n      <td>69</td>\n      <td>1426</td>\n      <td>5875</td>\n      <td>185</td>\n      <td>Tyrion_IX-Chapter_69</td>\n      <td>Tyrion_IX-Chapter_69</td>\n      <td>Martin</td>\n      <td>A Game of Thrones</td>\n      <td>retell</td>\n      <td>2045844</td>\n    </tr>\n    <tr>\n      <th>fa47ad01-0256-40cf-985d-19188be20adc</th>\n      <td>Martin-A Game of Thrones-retell.md</td>\n      <td>2023-08-10 22:21:36.896820</td>\n      <td>70</td>\n      <td>1868</td>\n      <td>7090</td>\n      <td>186</td>\n      <td>Jon_IX-Chapter_70</td>\n      <td>Jon_IX-Chapter_70</td>\n      <td>Martin</td>\n      <td>A Game of Thrones</td>\n      <td>retell</td>\n      <td>2057713</td>\n    </tr>\n    <tr>\n      <th>714d7f1d-91c1-470f-9af1-eb39f096c20d</th>\n      <td>Martin-A Game of Thrones-retell.md</td>\n      <td>2023-08-10 22:21:36.924236</td>\n      <td>71</td>\n      <td>1794</td>\n      <td>7323</td>\n      <td>187</td>\n      <td>Catelyn_XI-Chapter_71</td>\n      <td>Catelyn_XI-Chapter_71</td>\n      <td>Martin</td>\n      <td>A Game of Thrones</td>\n      <td>retell</td>\n      <td>2069508</td>\n    </tr>\n    <tr>\n      <th>80d4eb45-83b7-448f-98a1-f9a080a77a63</th>\n      <td>Martin-A Game of Thrones-retell.md</td>\n      <td>2023-08-10 22:21:36.950423</td>\n      <td>72</td>\n      <td>1268</td>\n      <td>4963</td>\n      <td>188</td>\n      <td>Daenerys_X-Chapter_72</td>\n      <td>Daenerys_X-Chapter_72</td>\n      <td>Martin</td>\n      <td>A Game of Thrones</td>\n      <td>retell</td>\n      <td>2080777</td>\n    </tr>\n  </tbody>\n</table>\n<p>73 rows × 12 columns</p>\n</div>"
     },
     "execution_count": 9,
     "metadata": {},
     "output_type": "execute_result"
    }
   ],
   "source": [
    "retell_martin_df[retell_martin_df.book_name == \"A Game of Thrones\"]"
   ],
   "metadata": {
    "collapsed": false,
    "ExecuteTime": {
     "end_time": "2023-08-17T14:55:45.551607229Z",
     "start_time": "2023-08-17T14:55:45.504212509Z"
    }
   }
  },
  {
   "cell_type": "code",
   "execution_count": 10,
   "outputs": [
    {
     "name": "stderr",
     "output_type": "stream",
     "text": [
      "/tmp/ipykernel_25932/1396371389.py:1: FutureWarning: The default dtype for empty Series will be 'object' instead of 'float64' in a future version. Specify a dtype explicitly to silence this warning.\n",
      "  mapping = pd.Series()\n"
     ]
    }
   ],
   "source": [
    "mapping = pd.Series()\n",
    "for book_name in books_names:\n",
    "    book_chapters, retell_chapters = (martin_df[martin_df.book_name == book_name],\n",
    "                                      retell_martin_df[retell_martin_df.book_name == book_name])\n",
    "    for retell_indx, book_index in zip(retell_chapters.index, book_chapters.index):\n",
    "        mapping[retell_indx] = book_index"
   ],
   "metadata": {
    "collapsed": false,
    "ExecuteTime": {
     "end_time": "2023-08-17T14:56:50.183472611Z",
     "start_time": "2023-08-17T14:56:49.841772784Z"
    }
   }
  },
  {
   "cell_type": "code",
   "execution_count": 21,
   "outputs": [],
   "source": [
    "pd.DataFrame(mapping,columns=['book_chapter_id']).to_parquet(Path(\"./mapping_eng.parquet\"),compression=None)"
   ],
   "metadata": {
    "collapsed": false,
    "ExecuteTime": {
     "end_time": "2023-08-17T14:59:48.142868539Z",
     "start_time": "2023-08-17T14:59:48.091857250Z"
    }
   }
  },
  {
   "cell_type": "code",
   "execution_count": 20,
   "outputs": [],
   "source": [
    "qq = pd.DataFrame(mapping,columns=['book_chapter_id'])"
   ],
   "metadata": {
    "collapsed": false,
    "ExecuteTime": {
     "end_time": "2023-08-10T17:34:18.781405970Z",
     "start_time": "2023-08-10T17:34:18.767515450Z"
    }
   }
  },
  {
   "cell_type": "code",
   "execution_count": 28,
   "outputs": [
    {
     "data": {
      "text/plain": "                                                               filename  \\\naebf9cd8-770e-4f4c-9778-77166d4ee87d  Martin-A Clash of Kings-retell.md   \nc67d8477-4a35-4c0c-a5f1-a1cd61ed7900  Martin-A Clash of Kings-retell.md   \n5d191b46-a50c-4ebd-bc9e-4cb4d801992b  Martin-A Clash of Kings-retell.md   \n6c8fc056-db82-4c14-82f3-c56a03d560ec  Martin-A Clash of Kings-retell.md   \n99ef0c8c-d5c2-457c-87c0-0a3c68293e3c  Martin-A Clash of Kings-retell.md   \n\n                                                      timestamp  part_index  \\\naebf9cd8-770e-4f4c-9778-77166d4ee87d 2023-08-10 22:21:29.332969           0   \nc67d8477-4a35-4c0c-a5f1-a1cd61ed7900 2023-08-10 22:21:29.356369           1   \n5d191b46-a50c-4ebd-bc9e-4cb4d801992b 2023-08-10 22:21:29.380943           2   \n6c8fc056-db82-4c14-82f3-c56a03d560ec 2023-08-10 22:21:29.417667           3   \n99ef0c8c-d5c2-457c-87c0-0a3c68293e3c 2023-08-10 22:21:29.445902           4   \n\n                                      token_count  character_count  ordinal  \\\naebf9cd8-770e-4f4c-9778-77166d4ee87d         3536            14150        0   \nc67d8477-4a35-4c0c-a5f1-a1cd61ed7900         1201             4561        1   \n5d191b46-a50c-4ebd-bc9e-4cb4d801992b         2031             8290        2   \n6c8fc056-db82-4c14-82f3-c56a03d560ec         2221             8933        3   \n99ef0c8c-d5c2-457c-87c0-0a3c68293e3c         2380             9242        4   \n\n                                                header_0             headers  \\\naebf9cd8-770e-4f4c-9778-77166d4ee87d  Prologue-Chapter_0  Prologue-Chapter_0   \nc67d8477-4a35-4c0c-a5f1-a1cd61ed7900    Arya_I-Chapter_1    Arya_I-Chapter_1   \n5d191b46-a50c-4ebd-bc9e-4cb4d801992b   Sansa_I-Chapter_2   Sansa_I-Chapter_2   \n6c8fc056-db82-4c14-82f3-c56a03d560ec  Tyrion_I-Chapter_3  Tyrion_I-Chapter_3   \n99ef0c8c-d5c2-457c-87c0-0a3c68293e3c    Bran_I-Chapter_4    Bran_I-Chapter_4   \n\n                                      author         book_name text_type  \\\naebf9cd8-770e-4f4c-9778-77166d4ee87d  Martin  A Clash of Kings    retell   \nc67d8477-4a35-4c0c-a5f1-a1cd61ed7900  Martin  A Clash of Kings    retell   \n5d191b46-a50c-4ebd-bc9e-4cb4d801992b  Martin  A Clash of Kings    retell   \n6c8fc056-db82-4c14-82f3-c56a03d560ec  Martin  A Clash of Kings    retell   \n99ef0c8c-d5c2-457c-87c0-0a3c68293e3c  Martin  A Clash of Kings    retell   \n\n                                      max_id  \naebf9cd8-770e-4f4c-9778-77166d4ee87d    3537  \nc67d8477-4a35-4c0c-a5f1-a1cd61ed7900   14739  \n5d191b46-a50c-4ebd-bc9e-4cb4d801992b   26771  \n6c8fc056-db82-4c14-82f3-c56a03d560ec   38993  \n99ef0c8c-d5c2-457c-87c0-0a3c68293e3c   51374  ",
      "text/html": "<div>\n<style scoped>\n    .dataframe tbody tr th:only-of-type {\n        vertical-align: middle;\n    }\n\n    .dataframe tbody tr th {\n        vertical-align: top;\n    }\n\n    .dataframe thead th {\n        text-align: right;\n    }\n</style>\n<table border=\"1\" class=\"dataframe\">\n  <thead>\n    <tr style=\"text-align: right;\">\n      <th></th>\n      <th>filename</th>\n      <th>timestamp</th>\n      <th>part_index</th>\n      <th>token_count</th>\n      <th>character_count</th>\n      <th>ordinal</th>\n      <th>header_0</th>\n      <th>headers</th>\n      <th>author</th>\n      <th>book_name</th>\n      <th>text_type</th>\n      <th>max_id</th>\n    </tr>\n  </thead>\n  <tbody>\n    <tr>\n      <th>aebf9cd8-770e-4f4c-9778-77166d4ee87d</th>\n      <td>Martin-A Clash of Kings-retell.md</td>\n      <td>2023-08-10 22:21:29.332969</td>\n      <td>0</td>\n      <td>3536</td>\n      <td>14150</td>\n      <td>0</td>\n      <td>Prologue-Chapter_0</td>\n      <td>Prologue-Chapter_0</td>\n      <td>Martin</td>\n      <td>A Clash of Kings</td>\n      <td>retell</td>\n      <td>3537</td>\n    </tr>\n    <tr>\n      <th>c67d8477-4a35-4c0c-a5f1-a1cd61ed7900</th>\n      <td>Martin-A Clash of Kings-retell.md</td>\n      <td>2023-08-10 22:21:29.356369</td>\n      <td>1</td>\n      <td>1201</td>\n      <td>4561</td>\n      <td>1</td>\n      <td>Arya_I-Chapter_1</td>\n      <td>Arya_I-Chapter_1</td>\n      <td>Martin</td>\n      <td>A Clash of Kings</td>\n      <td>retell</td>\n      <td>14739</td>\n    </tr>\n    <tr>\n      <th>5d191b46-a50c-4ebd-bc9e-4cb4d801992b</th>\n      <td>Martin-A Clash of Kings-retell.md</td>\n      <td>2023-08-10 22:21:29.380943</td>\n      <td>2</td>\n      <td>2031</td>\n      <td>8290</td>\n      <td>2</td>\n      <td>Sansa_I-Chapter_2</td>\n      <td>Sansa_I-Chapter_2</td>\n      <td>Martin</td>\n      <td>A Clash of Kings</td>\n      <td>retell</td>\n      <td>26771</td>\n    </tr>\n    <tr>\n      <th>6c8fc056-db82-4c14-82f3-c56a03d560ec</th>\n      <td>Martin-A Clash of Kings-retell.md</td>\n      <td>2023-08-10 22:21:29.417667</td>\n      <td>3</td>\n      <td>2221</td>\n      <td>8933</td>\n      <td>3</td>\n      <td>Tyrion_I-Chapter_3</td>\n      <td>Tyrion_I-Chapter_3</td>\n      <td>Martin</td>\n      <td>A Clash of Kings</td>\n      <td>retell</td>\n      <td>38993</td>\n    </tr>\n    <tr>\n      <th>99ef0c8c-d5c2-457c-87c0-0a3c68293e3c</th>\n      <td>Martin-A Clash of Kings-retell.md</td>\n      <td>2023-08-10 22:21:29.445902</td>\n      <td>4</td>\n      <td>2380</td>\n      <td>9242</td>\n      <td>4</td>\n      <td>Bran_I-Chapter_4</td>\n      <td>Bran_I-Chapter_4</td>\n      <td>Martin</td>\n      <td>A Clash of Kings</td>\n      <td>retell</td>\n      <td>51374</td>\n    </tr>\n  </tbody>\n</table>\n</div>"
     },
     "execution_count": 28,
     "metadata": {},
     "output_type": "execute_result"
    }
   ],
   "source": [
    "retell_martin_df.loc[qq.index[:5]]"
   ],
   "metadata": {
    "collapsed": false,
    "ExecuteTime": {
     "end_time": "2023-08-10T17:36:17.766332285Z",
     "start_time": "2023-08-10T17:36:17.720554675Z"
    }
   }
  },
  {
   "cell_type": "code",
   "execution_count": null,
   "outputs": [],
   "source": [],
   "metadata": {
    "collapsed": false
   }
  }
 ],
 "metadata": {
  "kernelspec": {
   "display_name": "Python 3",
   "language": "python",
   "name": "python3"
  },
  "language_info": {
   "codemirror_mode": {
    "name": "ipython",
    "version": 2
   },
   "file_extension": ".py",
   "mimetype": "text/x-python",
   "name": "python",
   "nbconvert_exporter": "python",
   "pygments_lexer": "ipython2",
   "version": "2.7.6"
  }
 },
 "nbformat": 4,
 "nbformat_minor": 0
}
