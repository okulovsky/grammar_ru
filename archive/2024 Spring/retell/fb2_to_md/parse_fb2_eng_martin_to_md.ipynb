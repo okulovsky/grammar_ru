{
 "cells": [
  {
   "cell_type": "code",
   "execution_count": 1,
   "id": "initial_id",
   "metadata": {
    "ExecuteTime": {
     "end_time": "2023-08-10T17:03:29.658065414Z",
     "start_time": "2023-08-10T17:03:26.876016518Z"
    },
    "collapsed": true
   },
   "outputs": [],
   "source": [
    "from bs4 import BeautifulSoup as Soup, Tag\n",
    "from os import listdir\n",
    "from pathlib import Path\n",
    "from itertools import takewhile,dropwhile\n",
    "from tg.projects.retell.retell_utils import ChapterInfo,BookInfo\n",
    "from typing import *\n",
    "import re"
   ]
  },
  {
   "cell_type": "code",
   "execution_count": 2,
   "id": "f672335fc5bb726b",
   "metadata": {
    "ExecuteTime": {
     "end_time": "2023-08-10T17:03:30.145368240Z",
     "start_time": "2023-08-10T17:03:30.137755451Z"
    },
    "collapsed": false
   },
   "outputs": [],
   "source": [
    "path_plio_books = Path(\"../fb2_to_md/eng_martin/fb2\")\n",
    "plio_books = listdir(path_plio_books)"
   ]
  },
  {
   "cell_type": "code",
   "execution_count": 3,
   "id": "2c02a4107363128d",
   "metadata": {
    "ExecuteTime": {
     "end_time": "2023-08-10T17:03:30.560107413Z",
     "start_time": "2023-08-10T17:03:30.554346971Z"
    },
    "collapsed": false
   },
   "outputs": [
    {
     "data": {
      "text/plain": [
       "['Martin-A Game of Thrones.fb2',\n",
       " 'Martin-A Storm of Swords.fb2',\n",
       " 'Martin-A Feast for Crows.fb2',\n",
       " 'Martin-A Dance with Dragons.fb2',\n",
       " 'Martin-A Clash of Kings.fb2']"
      ]
     },
     "execution_count": 3,
     "metadata": {},
     "output_type": "execute_result"
    }
   ],
   "source": [
    "plio_books"
   ]
  },
  {
   "cell_type": "code",
   "execution_count": 4,
   "id": "ce36a4513501da56",
   "metadata": {
    "ExecuteTime": {
     "end_time": "2023-08-10T17:03:33.753147726Z",
     "start_time": "2023-08-10T17:03:31.003673726Z"
    },
    "collapsed": false
   },
   "outputs": [
    {
     "name": "stderr",
     "output_type": "stream",
     "text": [
      "/home/mixailkys/anaconda3/envs/grammar_ru/lib/python3.8/site-packages/bs4/builder/__init__.py:545: XMLParsedAsHTMLWarning: It looks like you're parsing an XML document using an HTML parser. If this really is an HTML document (maybe it's XHTML?), you can ignore or filter this warning. If it's XML, you should know that using an XML parser will be more reliable. To parse this document as XML, make sure you have the lxml package installed, and pass the keyword argument `features=\"xml\"` into the BeautifulSoup constructor.\n",
      "  warnings.warn(\n"
     ]
    }
   ],
   "source": [
    "def compile_chapter(section: Tag):\n",
    "    title = title_tag.get_text(strip=True) if (\n",
    "        title_tag := section.find('title')\n",
    "    ) else ''\n",
    "    rows = ''\n",
    "    if hasattr(title_tag, 'find_next_siblings'):\n",
    "        rows = '\\n'.join(\n",
    "            [p.get_text(strip=True) for p in title_tag.find_next_siblings('p')]\n",
    "        )\n",
    "    return title, rows\n",
    "\n",
    "\n",
    "books: List[BookInfo] = []\n",
    "\n",
    "for book in plio_books:\n",
    "    book_name = book.split('.')[0].split('-')[-1]\n",
    "    book_info = BookInfo(book_name, [])\n",
    "    with open(path_plio_books / book, 'r', encoding='utf-8') as xml:\n",
    "        soup = Soup(xml.read(), 'lxml')\n",
    "        book_info.chapters = [\n",
    "            ChapterInfo(name=chapter_info[0], retell=chapter_info[1])\n",
    "            for chapter_info in\n",
    "                takewhile(\n",
    "                    lambda chapter_data: not chapter_data[0].lower().startswith('appendix') and\n",
    "                                         not chapter_data[0].lower().startswith('meanwhile'),\n",
    "                    dropwhile(\n",
    "                        lambda chapter_data: not chapter_data[0].lower().startswith('prologue'),\n",
    "                        map(compile_chapter, soup.find_all('section'))\n",
    "                    )\n",
    "                )\n",
    "        ]\n",
    "        books.append(book_info)"
   ]
  },
  {
   "cell_type": "code",
   "execution_count": 5,
   "id": "1050ca44809cb9ce",
   "metadata": {
    "ExecuteTime": {
     "end_time": "2023-08-10T17:03:34.260981656Z",
     "start_time": "2023-08-10T17:03:34.243242252Z"
    },
    "collapsed": false
   },
   "outputs": [],
   "source": [
    "book_data_path = Path(\"../fb2_to_md/eng_martin/md\")"
   ]
  },
  {
   "cell_type": "code",
   "execution_count": 6,
   "id": "506b2548d7dd1af4",
   "metadata": {
    "ExecuteTime": {
     "end_time": "2023-08-10T17:03:34.717959709Z",
     "start_time": "2023-08-10T17:03:34.706661056Z"
    },
    "collapsed": false
   },
   "outputs": [],
   "source": [
    "def eng_write_game_o_trones_md(game_o_trones):\n",
    "    for book in game_o_trones:\n",
    "        with open(Path(book_data_path / f'Martin-{book.name.replace(\"_\", \" \")}-book.md'), 'w') as file:\n",
    "            for i,chapter in enumerate(book.chapters):\n",
    "                retell = re.sub(\"[\\(\\[].*?[\\)\\]]\", \"\", chapter.retell)\n",
    "                retell = re.sub(r\"[(\\[{})\\]]\", \"\", retell)\n",
    "                file.write(f\"##{chapter.name.capitalize()}-Chapter_{i}\\n\\n{retell}\\n\\n\")"
   ]
  },
  {
   "cell_type": "code",
   "execution_count": 7,
   "id": "fb2debad4fbf5673",
   "metadata": {
    "ExecuteTime": {
     "end_time": "2023-08-10T17:03:36.216058900Z",
     "start_time": "2023-08-10T17:03:36.028701596Z"
    },
    "collapsed": false
   },
   "outputs": [],
   "source": [
    "eng_write_game_o_trones_md(books)"
   ]
  },
  {
   "cell_type": "code",
   "execution_count": null,
   "id": "2a6c4ca72d2b8169",
   "metadata": {
    "collapsed": false
   },
   "outputs": [],
   "source": []
  }
 ],
 "metadata": {
  "kernelspec": {
   "display_name": "Python 3",
   "language": "python",
   "name": "python3"
  },
  "language_info": {
   "codemirror_mode": {
    "name": "ipython",
    "version": 2
   },
   "file_extension": ".py",
   "mimetype": "text/x-python",
   "name": "python",
   "nbconvert_exporter": "python",
   "pygments_lexer": "ipython2",
   "version": "3.9.18"
  }
 },
 "nbformat": 4,
 "nbformat_minor": 5
}
