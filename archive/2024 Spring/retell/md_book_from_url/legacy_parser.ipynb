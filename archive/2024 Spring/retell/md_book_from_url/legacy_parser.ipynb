{
 "cells": [
  {
   "cell_type": "code",
   "execution_count": 1,
   "metadata": {
    "collapsed": true,
    "ExecuteTime": {
     "start_time": "2023-04-07T14:55:42.580216Z",
     "end_time": "2023-04-07T14:55:42.774125Z"
    }
   },
   "outputs": [],
   "source": [
    "from pathlib import Path\n",
    "\n",
    "import re\n",
    "import requests\n",
    "from dataclasses import dataclass\n",
    "from bs4 import BeautifulSoup\n",
    "\n",
    "\n",
    "@dataclass\n",
    "class ChapterInfo:\n",
    "    name: str\n",
    "    retail: str\n",
    "    summary: str\n",
    "\n",
    "\n",
    "@dataclass\n",
    "class BookInfo:\n",
    "    name: str\n",
    "    chapters: list[ChapterInfo]\n"
   ]
  },
  {
   "cell_type": "code",
   "execution_count": 2,
   "outputs": [],
   "source": [
    "def it_is_garry_p_chapter(tag):\n",
    "    is_a_tag = tag.name == 'a'\n",
    "    ban_words = [\"Книга\", \"Игра\", \"Саундтрек\", \"Фильм\", \"Саундтрек (часть 1)\", \"Саундтрек (часть 2)\"]\n",
    "    has_no_class_atrr = not tag.has_attr('class')\n",
    "    class_attr_is_mw, isnt_template = True, True\n",
    "    havent_ban_words = all(ban_word not in tag.contents for ban_word in ban_words)\n",
    "    if tag.has_attr('class'):\n",
    "        class_attr_is_mw = \"mw-redirect\" in tag.attrs['class']\n",
    "    if tag.has_attr('title'):\n",
    "        isnt_template = \"шаблон:главы\" not in tag.attrs['title'].lower()\n",
    "    return is_a_tag and (has_no_class_atrr or class_attr_is_mw) and havent_ban_words and isnt_template\n",
    "\n",
    "\n",
    "def witcher_retail_tag(tag):\n",
    "    is_p_tag = tag.name == 'p'\n",
    "    only_one_content = len(tag.contents) == 1\n",
    "    return is_p_tag and only_one_content\n",
    "\n",
    "\n",
    "def Checkov_retell_tag(tag):\n",
    "    is_p_tag = tag.name == 'p'\n",
    "    parent_tag = tag.parent\n",
    "    isnt_end = 'За основу пересказа' not in tag.text\n",
    "    parent_div_is_not_poem = False\n",
    "    if parent_tag.has_attr('class'):\n",
    "        parent_div_is_not_poem = parent_tag.attrs['class'][0] != 'poem'\n",
    "    return is_p_tag and isnt_end and parent_div_is_not_poem\n",
    "\n",
    "\n",
    "def Chekov_book_tag(tag):\n",
    "    is_a_tag = tag.name == 'a'\n",
    "    author_name_in_a = False\n",
    "    if tag.has_attr('title'):\n",
    "        author_name_in_a = '(Чехов)' in tag.attrs['title']\n",
    "    return is_a_tag and author_name_in_a\n",
    "\n",
    "\n",
    "def get_parsed_retell_g_p(url: str) -> list[str]:\n",
    "    collected_data: list[BookInfo] = []\n",
    "    with requests.get(url) as response:\n",
    "        soup = BeautifulSoup(response.text)\n",
    "    books = soup.findAll('table')\n",
    "    for book in books:\n",
    "        book_name = book.find('tbody').find('tr').find('th').find('span', {'style': 'font-size:110%'}) \\\n",
    "            .text.replace(' (главы)', '')\n",
    "        book_info = BookInfo(book_name, [])\n",
    "        chapters = book.findAll(it_is_garry_p_chapter)\n",
    "        for chapter in chapters:\n",
    "            chapter_name = chapter.attrs['title']#chapter.contents[0]\n",
    "            chapter_url = url.replace('Категория:Главы_книг',\n",
    "                                      chapter_name.replace(' ', '_'))\n",
    "            with requests.get(chapter_url) as response:\n",
    "                soup = BeautifulSoup(response.text)\n",
    "            data = [tag.text for tag in soup.findAll('p')[3:]]\n",
    "            summary: str = data[0]\n",
    "            retelling: str = ''.join(data[1:])\n",
    "            book_info.chapters.append(ChapterInfo(chapter_name, retelling, summary))\n",
    "        collected_data.append(book_info)\n",
    "    return collected_data\n",
    "\n",
    "\n",
    "def get_parsed_retell_witch(url: str) -> list[str]:\n",
    "    collected_data: list[BookInfo] = []\n",
    "    with requests.get(url) as response:\n",
    "        soup = BeautifulSoup(response.text)\n",
    "    books_names = [tag.contents[2].attrs['title'].replace(' ', '_') for tag in\n",
    "                   soup.findAll('p', {\"class\": \"read-more\"})]\n",
    "    base_url = \"https://wiki.briefly.ru/\"\n",
    "    for book_name in books_names:\n",
    "        book_info = BookInfo(book_name, [])\n",
    "        book_url = base_url + book_name\n",
    "        with requests.get(book_url) as response:\n",
    "            soup = BeautifulSoup(response.text)\n",
    "        retail = [tag.text for tag in soup.findAll(witcher_retail_tag)]\n",
    "        retail_str = ''.join(retail)\n",
    "        book_info.chapters.append(retail_str)\n",
    "        collected_data.append(book_info)\n",
    "    return collected_data\n",
    "\n",
    "\n",
    "def get_parsed_retell_Checov(url):\n",
    "    collected_data: list[BookInfo] = []\n",
    "    with requests.get(url) as response:\n",
    "        soup = BeautifulSoup(response.text)\n",
    "    books_names = [tag.contents[0].replace(' ', '_') for tag in soup.findAll(Chekov_book_tag)]\n",
    "    base_url = \"https://wiki.briefly.ru/\"\n",
    "    for book_name in books_names:\n",
    "        book_info = BookInfo(book_name, [])\n",
    "        book_url = base_url + book_name\n",
    "        with requests.get(book_url) as response:\n",
    "            soup = BeautifulSoup(response.text)\n",
    "        retail = [tag.text for tag in soup.findAll(Checkov_retell_tag)]\n",
    "        retail_str = ''.join(retail)\n",
    "        book_info.chapters.append(retail_str)\n",
    "        collected_data.append(book_info)\n",
    "    return collected_data\n",
    "\n",
    "\n",
    "def get_parsed_retell_game_o_t(url):\n",
    "    collected_data: list[BookInfo] = []\n",
    "    with requests.get(url) as response:\n",
    "        soup = BeautifulSoup(response.text)\n",
    "    books_names = [tag.contents[0].attrs['title'].replace(' ', '_') for tag in soup.findAll('b')[:5]]\n",
    "    base_url = \"https://7kingdoms.ru/wiki/\"\n",
    "    for book_name in books_names:\n",
    "        book_info = BookInfo(book_name, [])\n",
    "        book_url = base_url + book_name\n",
    "        with requests.get(book_url) as response:\n",
    "            soup = BeautifulSoup(response.text)\n",
    "\n",
    "        table = soup.find('table', {\"class\": \"toc plainlinks common-table\"})\n",
    "        chapters = table.find('tbody').findAll('tr')[1].find('td').findAll('a')\n",
    "        for chapter in chapters:\n",
    "            chapter_name = chapter.attrs['title'].replace(' ', '_')\n",
    "            chapter_url = base_url + chapter_name\n",
    "            with requests.get(chapter_url) as response:\n",
    "                soup = BeautifulSoup(response.text)\n",
    "            all_p = soup.findAll('p')\n",
    "            summary = all_p[0].text.replace('Краткое содержание:', '').strip()\n",
    "            retell = [all_p[1].text]\n",
    "            for elem in all_p[1].next_siblings:\n",
    "                if elem.name == 'h2':\n",
    "                    break\n",
    "                if elem.name == 'p':\n",
    "                    retell.append(elem.text)\n",
    "            chapter_info = ChapterInfo(chapter_name, ''.join(retell), summary)\n",
    "            book_info.chapters.append(chapter_info)\n",
    "        collected_data.append(book_info)\n",
    "    return collected_data"
   ],
   "metadata": {
    "collapsed": false,
    "ExecuteTime": {
     "start_time": "2023-04-07T14:55:42.795100Z",
     "end_time": "2023-04-07T14:55:42.838221Z"
    }
   }
  },
  {
   "cell_type": "code",
   "execution_count": 3,
   "outputs": [],
   "source": [
    "gp_url = 'https://harrypotter.fandom.com/ru/wiki/Категория:Главы_книг'\n",
    "witcher_url = \"https://wiki.briefly.ru/%D0%92%D0%B5%D0%B4%D1%8C%D0%BC%D0%B0%D0%BA_(%D0%A1%D0%B0%D0%BF%D0%BA%D0%BE%D0%B2%D1%81%D0%BA%D0%B8%D0%B9)\"\n",
    "chekof = \"https://wiki.briefly.ru/Категория:Чехов,_Антон_Павлович\"\n",
    "game_o_t = \"https://7kingdoms.ru/wiki/Портал:Цикл_Песнь_Льда_и_Пламени\""
   ],
   "metadata": {
    "collapsed": false,
    "ExecuteTime": {
     "start_time": "2023-04-07T14:55:42.838330Z",
     "end_time": "2023-04-07T14:55:42.846426Z"
    }
   }
  },
  {
   "cell_type": "code",
   "execution_count": 4,
   "outputs": [],
   "source": [
    "gp = get_parsed_retell_g_p(gp_url)"
   ],
   "metadata": {
    "collapsed": false,
    "ExecuteTime": {
     "start_time": "2023-04-07T14:55:42.849683Z",
     "end_time": "2023-04-07T14:57:21.388371Z"
    }
   }
  },
  {
   "cell_type": "code",
   "execution_count": 5,
   "outputs": [],
   "source": [
    "witcher = get_parsed_retell_witch(witcher_url)"
   ],
   "metadata": {
    "collapsed": false,
    "ExecuteTime": {
     "start_time": "2023-04-07T14:57:21.388157Z",
     "end_time": "2023-04-07T14:57:26.874022Z"
    }
   }
  },
  {
   "cell_type": "code",
   "execution_count": 6,
   "outputs": [],
   "source": [
    "Checov = get_parsed_retell_Checov(chekof)"
   ],
   "metadata": {
    "collapsed": false,
    "ExecuteTime": {
     "start_time": "2023-04-07T14:57:26.879518Z",
     "end_time": "2023-04-07T14:58:06.704347Z"
    }
   }
  },
  {
   "cell_type": "code",
   "execution_count": 7,
   "outputs": [],
   "source": [
    "game_o_trones = get_parsed_retell_game_o_t(game_o_t)"
   ],
   "metadata": {
    "collapsed": false,
    "ExecuteTime": {
     "start_time": "2023-04-07T14:58:06.704199Z",
     "end_time": "2023-04-07T15:00:16.440503Z"
    }
   }
  },
  {
   "cell_type": "code",
   "execution_count": 19,
   "outputs": [],
   "source": [
    "for book in gp:\n",
    "    with open(Path(f'./parsed_data/gp/{book.name.replace(\"_\",\" \")}_summary.md'),'w') as file:\n",
    "        for chapter in book.chapters:\n",
    "            if 'В настоящее время на этой странице нет текста.' not in chapter.summary and chapter.summary != '\\n':\n",
    "                file.write(f\"##{chapter.name}\\n\\n{chapter.summary}\\n\")\n",
    "    with open(Path(f'./parsed_data/gp/{book.name.replace(\"_\",\" \")}_retell.md'),'w') as file:\n",
    "        for chapter in book.chapters:\n",
    "            if len(chapter.retail) > 0:\n",
    "                file.write(f\"##{chapter.name}\\n\\n{chapter.retail}\\n\")"
   ],
   "metadata": {
    "collapsed": false,
    "ExecuteTime": {
     "start_time": "2023-04-07T15:09:18.992267Z",
     "end_time": "2023-04-07T15:09:19.077119Z"
    }
   }
  },
  {
   "cell_type": "code",
   "execution_count": 16,
   "outputs": [],
   "source": [
    "for book in witcher:\n",
    "    with open(Path(f'./parsed_data/witcher/{book.name.replace(\"_\",\" \")}.md'),'w') as file:\n",
    "        file.write(f\"##{book.name}\\n\\n{book.chapters[0]}\\n\")"
   ],
   "metadata": {
    "collapsed": false,
    "ExecuteTime": {
     "start_time": "2023-04-07T15:06:12.854690Z",
     "end_time": "2023-04-07T15:06:12.897088Z"
    }
   }
  },
  {
   "cell_type": "code",
   "execution_count": 17,
   "outputs": [],
   "source": [
    "for book in Checov:\n",
    "    with open(Path(f'./parsed_data/Chekhov/{book.name.replace(\"_\",\" \")}.md'),'w') as file:\n",
    "        file.write(f\"##{book.name}\\n\\n{book.chapters[0]}\\n\")"
   ],
   "metadata": {
    "collapsed": false,
    "ExecuteTime": {
     "start_time": "2023-04-07T15:06:13.473243Z",
     "end_time": "2023-04-07T15:06:13.490058Z"
    }
   }
  },
  {
   "cell_type": "code",
   "execution_count": 15,
   "outputs": [],
   "source": [
    "for book in game_o_trones:\n",
    "    with open(Path(f'./parsed_data/game_of_t/{book.name.replace(\"_\",\" \")}_summary.md'),'w') as file:\n",
    "        for chapter in book.chapters:\n",
    "            file.write(f\"##{chapter.name}\\n\\n{chapter.summary.replace('Краткое cодержание: ','').replace('Краткое Содержание: ','')}\\n\\n\")\n",
    "    with open(Path(f'./parsed_data/game_of_t/{book.name.replace(\"_\",\" \")}_retell.md'),'w') as file:\n",
    "        for chapter in book.chapters:\n",
    "            retell = re.sub(\"[\\(\\[].*?[\\)\\]]\", \"\", chapter.retail)\n",
    "            file.write(f\"##{chapter.name}\\n\\n{retell}\\n\")"
   ],
   "metadata": {
    "collapsed": false,
    "ExecuteTime": {
     "start_time": "2023-04-07T15:03:38.240259Z",
     "end_time": "2023-04-07T15:03:38.240745Z"
    }
   }
  },
  {
   "cell_type": "code",
   "execution_count": null,
   "outputs": [],
   "source": [],
   "metadata": {
    "collapsed": false
   }
  }
 ],
 "metadata": {
  "kernelspec": {
   "display_name": "Python 3",
   "language": "python",
   "name": "python3"
  },
  "language_info": {
   "codemirror_mode": {
    "name": "ipython",
    "version": 2
   },
   "file_extension": ".py",
   "mimetype": "text/x-python",
   "name": "python",
   "nbconvert_exporter": "python",
   "pygments_lexer": "ipython2",
   "version": "2.7.6"
  }
 },
 "nbformat": 4,
 "nbformat_minor": 0
}
