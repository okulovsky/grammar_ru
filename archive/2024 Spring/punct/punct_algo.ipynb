{
 "cells": [
  {
   "cell_type": "code",
   "execution_count": 1,
   "metadata": {},
   "outputs": [],
   "source": [
    "import pandas as pd\n",
    "import numpy as np\n",
    "import torch\n",
    "\n",
    "from tg.projects.punct import extractors as ext\n",
    "from tg.projects.punct.filterer import PunctFilterer\n",
    "\n",
    "from tg.grammar_ru import features\n",
    "from tg.grammar_ru.common import Loc, DataBundle, Separator\n",
    "from tg.grammar_ru.algorithms import NlpAlgorithm\n",
    "from tg.common.ml import batched_training as bt"
   ]
  },
  {
   "cell_type": "code",
   "execution_count": 2,
   "metadata": {},
   "outputs": [],
   "source": [
    "class PunctNlpAlgorithm(NlpAlgorithm):\n",
    "    def __init__(self, model, batcher, path_to_navec_vocab):\n",
    "        self.featurizer = features.PyMorphyFeaturizer()\n",
    "        self.model = model\n",
    "        self.path_to_navec_vocab = path_to_navec_vocab\n",
    "\n",
    "        self._vocab = pd.read_parquet(path_to_navec_vocab)\n",
    "        self._batcher = batcher\n",
    "        self._filter_batcher_extractors()\n",
    "\n",
    "    def _filter_batcher_extractors(self):\n",
    "        allowed_extractors = ['features', 'navec', 'label']\n",
    "        filtered_extractors = list(filter(lambda e: e.name in allowed_extractors, self._batcher.extractors))\n",
    "        self._batcher.extractors = filtered_extractors\n",
    "\n",
    "    def _create_idb(self, db: DataBundle) -> bt.IndexedDataBundle:\n",
    "        index = db.src.copy()\n",
    "        index['label'] = np.full(index.shape[0], 0)\n",
    "        index['target_word'] = np.full(index.shape[0], 'no')\n",
    "        index.loc[index.shape[0] - 3, 'target_word'] = '-'  # FIXME\n",
    "        index.loc[index.shape[0] - 2, 'target_word'] = ','  \n",
    "        index.loc[index.shape[0] - 1, 'target_word'] = ':'  \n",
    "\n",
    "        idb = bt.IndexedDataBundle(\n",
    "            index_frame=index,\n",
    "            bundle=db,\n",
    "        )\n",
    "\n",
    "        return idb\n",
    "\n",
    "    def _add_feature_frames(self, db: DataBundle):\n",
    "        self.featurizer.featurize(db)\n",
    "        db['sample_to_navec'] = self._vocab\n",
    "\n",
    "    def _extract_features(self, db: DataBundle) -> DataBundle:\n",
    "        db.src.index.name = 'sample_id'\n",
    "        db.src['is_target'] = np.full(db.src.shape[0], True)\n",
    "        self._add_feature_frames(db)\n",
    "        ibundle = self._create_idb(db)\n",
    "\n",
    "        sequence_length = db.src.shape[0]\n",
    "        extracted = self._batcher.get_batch(sequence_length, ibundle, 0)\n",
    "\n",
    "        return extracted\n",
    "\n",
    "    def _get_predicted_symbols(self, db: DataBundle):\n",
    "        features = self._extract_features(db)\n",
    "        pred_df = self.model.predict(features)\n",
    "        predicted_columns = pred_df.columns[pred_df.columns.str.startswith('predicted')]\n",
    "        symbols = predicted_columns.map(lambda x: x.split('_')[1]).values\n",
    "\n",
    "        predictions = np.argmax(pred_df[predicted_columns].values, axis=1)\n",
    "\n",
    "        return np.repeat(symbols.reshape(1, -1), len(predictions), axis=0)[range(len(predictions)),predictions]\n",
    "\n",
    "    def _run_inner(self, db: DataBundle, index: pd.Index) -> pd.DataFrame:\n",
    "        df = db.src.loc[index]\n",
    "        result = pd.DataFrame({}, index=df.index)\n",
    "\n",
    "        to_check = (df.word_type == 'ru')\n",
    "        to_check[df.shape[0] - 1] = False\n",
    "        result[NlpAlgorithm.Error] = False\n",
    "        predicted_symbols = self._get_predicted_symbols(db)\n",
    "\n",
    "        shifted_words = df.word.shift(-1)\n",
    "        wrong = (shifted_words != predicted_symbols) & (predicted_symbols != 'no')\n",
    "        wrong = wrong | (predicted_symbols == 'no') & (shifted_words.isin((',', ':', '—')))\n",
    "        wrong = wrong[to_check]\n",
    "\n",
    "        result.loc[to_check, NlpAlgorithm.Error] = wrong\n",
    "        result.loc[result[NlpAlgorithm.Error], NlpAlgorithm.Suggest] = predicted_symbols[to_check & wrong]\n",
    "\n",
    "        result[NlpAlgorithm.ErrorType] = 'syntax'  # TODO: add error type\n",
    "\n",
    "        return result\n"
   ]
  },
  {
   "cell_type": "code",
   "execution_count": 6,
   "metadata": {},
   "outputs": [
    {
     "data": {
      "text/html": [
       "<div>\n",
       "<style scoped>\n",
       "    .dataframe tbody tr th:only-of-type {\n",
       "        vertical-align: middle;\n",
       "    }\n",
       "\n",
       "    .dataframe tbody tr th {\n",
       "        vertical-align: top;\n",
       "    }\n",
       "\n",
       "    .dataframe thead th {\n",
       "        text-align: right;\n",
       "    }\n",
       "</style>\n",
       "<table border=\"1\" class=\"dataframe\">\n",
       "  <thead>\n",
       "    <tr style=\"text-align: right;\">\n",
       "      <th></th>\n",
       "      <th>error</th>\n",
       "      <th>suggest</th>\n",
       "      <th>error_type</th>\n",
       "      <th>algorithm</th>\n",
       "      <th>hint</th>\n",
       "    </tr>\n",
       "    <tr>\n",
       "      <th>sample_id</th>\n",
       "      <th></th>\n",
       "      <th></th>\n",
       "      <th></th>\n",
       "      <th></th>\n",
       "      <th></th>\n",
       "    </tr>\n",
       "  </thead>\n",
       "  <tbody>\n",
       "    <tr>\n",
       "      <th>0</th>\n",
       "      <td>True</td>\n",
       "      <td>no</td>\n",
       "      <td>syntax</td>\n",
       "      <td>PunctNlpAlgorithm</td>\n",
       "      <td>None</td>\n",
       "    </tr>\n",
       "    <tr>\n",
       "      <th>1</th>\n",
       "      <td>False</td>\n",
       "      <td>None</td>\n",
       "      <td>None</td>\n",
       "      <td>None</td>\n",
       "      <td>None</td>\n",
       "    </tr>\n",
       "    <tr>\n",
       "      <th>2</th>\n",
       "      <td>False</td>\n",
       "      <td>None</td>\n",
       "      <td>None</td>\n",
       "      <td>None</td>\n",
       "      <td>None</td>\n",
       "    </tr>\n",
       "    <tr>\n",
       "      <th>3</th>\n",
       "      <td>False</td>\n",
       "      <td>None</td>\n",
       "      <td>None</td>\n",
       "      <td>None</td>\n",
       "      <td>None</td>\n",
       "    </tr>\n",
       "    <tr>\n",
       "      <th>4</th>\n",
       "      <td>False</td>\n",
       "      <td>None</td>\n",
       "      <td>None</td>\n",
       "      <td>None</td>\n",
       "      <td>None</td>\n",
       "    </tr>\n",
       "  </tbody>\n",
       "</table>\n",
       "</div>"
      ],
      "text/plain": [
       "           error suggest error_type          algorithm  hint\n",
       "sample_id                                                   \n",
       "0           True      no     syntax  PunctNlpAlgorithm  None\n",
       "1          False    None       None               None  None\n",
       "2          False    None       None               None  None\n",
       "3          False    None       None               None  None\n",
       "4          False    None       None               None  None"
      ]
     },
     "execution_count": 6,
     "metadata": {},
     "output_type": "execute_result"
    }
   ],
   "source": [
    "algo = PunctNlpAlgorithm(model, batcher, Loc.bundles_path/'punct/550k/sample_to_navec.parquet')\n",
    "src = Separator.separate_string('Нагнувшись, я поднял монету')\n",
    "db = DataBundle(src=src)\n",
    "algo.run(db)"
   ]
  },
  {
   "cell_type": "code",
   "execution_count": 3,
   "metadata": {},
   "outputs": [],
   "source": [
    "from tg.projects.punct.models import punct_network_factory_navec, PunctNetworkNavec"
   ]
  },
  {
   "cell_type": "code",
   "execution_count": 4,
   "metadata": {},
   "outputs": [],
   "source": [
    "import pickle\n",
    "\n",
    "\n",
    "with open('model.pkl', 'rb') as f:\n",
    "    model = pickle.load(f)"
   ]
  },
  {
   "cell_type": "code",
   "execution_count": 5,
   "metadata": {},
   "outputs": [],
   "source": [
    "import pickle\n",
    "\n",
    "\n",
    "with open('batcher.pkl', 'rb') as f:\n",
    "    batcher = pickle.load(f)"
   ]
  },
  {
   "cell_type": "code",
   "execution_count": 12,
   "metadata": {},
   "outputs": [],
   "source": [
    "\n",
    "\n",
    "pred = model.predict(extracted)"
   ]
  },
  {
   "cell_type": "code",
   "execution_count": 14,
   "metadata": {},
   "outputs": [],
   "source": [
    "predicted_columns = pred.columns[pred.columns.str.startswith('predicted')]\n",
    "\n",
    "predictions = pred[predicted_columns].values"
   ]
  },
  {
   "cell_type": "code",
   "execution_count": 49,
   "metadata": {},
   "outputs": [
    {
     "data": {
      "text/plain": [
       "Index([',', ':', 'no', '—'], dtype='object')"
      ]
     },
     "execution_count": 49,
     "metadata": {},
     "output_type": "execute_result"
    }
   ],
   "source": [
    "predicted_columns.map(lambda x: x.split('_')[1])"
   ]
  },
  {
   "cell_type": "code",
   "execution_count": 15,
   "metadata": {},
   "outputs": [
    {
     "data": {
      "text/plain": [
       "array([[0.20510103, 0.18192026, 0.37472251, 0.23825614],\n",
       "       [0.2162893 , 0.20009008, 0.3513042 , 0.23231645],\n",
       "       [0.21935478, 0.19502789, 0.34054622, 0.24507117],\n",
       "       [0.25823358, 0.21744584, 0.28012186, 0.24419875],\n",
       "       [0.21406138, 0.18375522, 0.36840007, 0.23378342]])"
      ]
     },
     "execution_count": 15,
     "metadata": {},
     "output_type": "execute_result"
    }
   ],
   "source": [
    "predictions"
   ]
  },
  {
   "cell_type": "code",
   "execution_count": 31,
   "metadata": {},
   "outputs": [
    {
     "data": {
      "text/plain": [
       "array([['predicted_,', 'predicted_:', 'predicted_no', 'predicted_—'],\n",
       "       ['predicted_,', 'predicted_:', 'predicted_no', 'predicted_—'],\n",
       "       ['predicted_,', 'predicted_:', 'predicted_no', 'predicted_—'],\n",
       "       ['predicted_,', 'predicted_:', 'predicted_no', 'predicted_—'],\n",
       "       ['predicted_,', 'predicted_:', 'predicted_no', 'predicted_—']],\n",
       "      dtype=object)"
      ]
     },
     "execution_count": 31,
     "metadata": {},
     "output_type": "execute_result"
    }
   ],
   "source": [
    "np.repeat(predicted_columns.values.reshape(1, -1), 5, axis=0)"
   ]
  },
  {
   "cell_type": "code",
   "execution_count": null,
   "metadata": {},
   "outputs": [],
   "source": []
  }
 ],
 "metadata": {
  "kernelspec": {
   "display_name": ".venv",
   "language": "python",
   "name": "python3"
  },
  "language_info": {
   "codemirror_mode": {
    "name": "ipython",
    "version": 3
   },
   "file_extension": ".py",
   "mimetype": "text/x-python",
   "name": "python",
   "nbconvert_exporter": "python",
   "pygments_lexer": "ipython3",
   "version": "3.8.10 (default, Mar 13 2023, 10:26:41) \n[GCC 9.4.0]"
  },
  "orig_nbformat": 4,
  "vscode": {
   "interpreter": {
    "hash": "06d5edd100e8af3ad61bcb86118b225055d5ada911b896704585f9e786ce8d1b"
   }
  }
 },
 "nbformat": 4,
 "nbformat_minor": 2
}
