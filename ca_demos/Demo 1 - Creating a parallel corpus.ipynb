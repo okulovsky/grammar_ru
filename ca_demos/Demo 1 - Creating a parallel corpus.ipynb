{
 "cells": [
  {
   "cell_type": "markdown",
   "metadata": {},
   "source": [
    "# Creative Articulator \n",
    "\n",
    "## Overview"
   ]
  },
  {
   "cell_type": "markdown",
   "metadata": {},
   "source": [
    "In this demo, we will look at all the processes in Creative Articulator namely:\n",
    " - the creation of a parallel corpus\n",
    " - the division of text into fragments \n",
    " - translation of text."
   ]
  },
  {
   "cell_type": "markdown",
   "metadata": {},
   "source": [
    "## Parallel corpus\n",
    "\n",
    "A parallel corpus is a handy tool that allows you to link parts from different corpus. With it, all the corpus will be stored in a single zip file.\n",
    "\n",
    "In this demonstration, we will work with texts and retellings of Fyodor Mikhailovich Dostoevsky's novel Crime and Punishment, which are located in the `sourse` folder.\n",
    "\n",
    "\n",
    "The first step is to create a corpus of texts and retellings that are stored in md format."
   ]
  },
  {
   "cell_type": "markdown",
   "metadata": {},
   "source": [
    "#### Сorpus for English text:"
   ]
  },
  {
   "cell_type": "code",
   "execution_count": 1,
   "metadata": {
    "ExecuteTime": {
     "end_time": "2023-12-27T10:08:12.798956256Z",
     "start_time": "2023-12-27T10:07:58.229463647Z"
    }
   },
   "outputs": [
    {
     "data": {
      "application/vnd.jupyter.widget-view+json": {
       "model_id": "b796ddf34d8340d2a813096b3ebaf296",
       "version_major": 2,
       "version_minor": 0
      },
      "text/plain": [
       "  0%|          | 0/1 [00:00<?, ?it/s]"
      ]
     },
     "metadata": {},
     "output_type": "display_data"
    }
   ],
   "source": [
    "from grammar_ru.corpus import CorpusBuilder\n",
    "from pathlib import Path\n",
    "\n",
    "\n",
    "CorpusBuilder.convert_interformat_folder_to_corpus(\n",
    "    Path('./files/en_crime_and_puhishment.base.zip'),\n",
    "    Path('./source/book/en'),\n",
    "    ['book'],\n",
    "    custom_guid_factory = lambda index: f'en_book_{index}'\n",
    ")\n"
   ]
  },
  {
   "cell_type": "markdown",
   "metadata": {},
   "source": [
    "Note: for all the corpora in this demos we use a custom file naming, provided by `custom_guid_factory`. This is because these names will be used to bind the ML-retells to the original fragments in the following parts. You don't need to do it, if you build a corpus only once and then spread in as a zip-files."
   ]
  },
  {
   "cell_type": "code",
   "execution_count": 2,
   "metadata": {
    "ExecuteTime": {
     "end_time": "2023-12-27T10:10:49.581536158Z",
     "start_time": "2023-12-27T10:10:49.492842709Z"
    }
   },
   "outputs": [
    {
     "data": {
      "text/html": [
       "<div>\n",
       "<style scoped>\n",
       "    .dataframe tbody tr th:only-of-type {\n",
       "        vertical-align: middle;\n",
       "    }\n",
       "\n",
       "    .dataframe tbody tr th {\n",
       "        vertical-align: top;\n",
       "    }\n",
       "\n",
       "    .dataframe thead th {\n",
       "        text-align: right;\n",
       "    }\n",
       "</style>\n",
       "<table border=\"1\" class=\"dataframe\">\n",
       "  <thead>\n",
       "    <tr style=\"text-align: right;\">\n",
       "      <th></th>\n",
       "      <th>filename</th>\n",
       "      <th>timestamp</th>\n",
       "      <th>part_index</th>\n",
       "      <th>token_count</th>\n",
       "      <th>character_count</th>\n",
       "      <th>ordinal</th>\n",
       "      <th>header_0</th>\n",
       "      <th>header_1</th>\n",
       "      <th>headers</th>\n",
       "      <th>book</th>\n",
       "      <th>max_id</th>\n",
       "    </tr>\n",
       "    <tr>\n",
       "      <th>file_id</th>\n",
       "      <th></th>\n",
       "      <th></th>\n",
       "      <th></th>\n",
       "      <th></th>\n",
       "      <th></th>\n",
       "      <th></th>\n",
       "      <th></th>\n",
       "      <th></th>\n",
       "      <th></th>\n",
       "      <th></th>\n",
       "      <th></th>\n",
       "    </tr>\n",
       "  </thead>\n",
       "  <tbody>\n",
       "    <tr>\n",
       "      <th>en_book_0</th>\n",
       "      <td>en_crime_and_punishment.md</td>\n",
       "      <td>2024-03-31 12:51:22.640883</td>\n",
       "      <td>0</td>\n",
       "      <td>4028</td>\n",
       "      <td>15089</td>\n",
       "      <td>0</td>\n",
       "      <td>Part One</td>\n",
       "      <td>I</td>\n",
       "      <td>Part One / I</td>\n",
       "      <td>en_crime_and_punishment</td>\n",
       "      <td>4029</td>\n",
       "    </tr>\n",
       "    <tr>\n",
       "      <th>en_book_1</th>\n",
       "      <td>en_crime_and_punishment.md</td>\n",
       "      <td>2024-03-31 12:51:22.656883</td>\n",
       "      <td>1</td>\n",
       "      <td>8965</td>\n",
       "      <td>32957</td>\n",
       "      <td>1</td>\n",
       "      <td>Part One</td>\n",
       "      <td>II</td>\n",
       "      <td>Part One / II</td>\n",
       "      <td>en_crime_and_punishment</td>\n",
       "      <td>22995</td>\n",
       "    </tr>\n",
       "    <tr>\n",
       "      <th>en_book_2</th>\n",
       "      <td>en_crime_and_punishment.md</td>\n",
       "      <td>2024-03-31 12:51:22.678882</td>\n",
       "      <td>2</td>\n",
       "      <td>6439</td>\n",
       "      <td>24251</td>\n",
       "      <td>2</td>\n",
       "      <td>Part One</td>\n",
       "      <td>III</td>\n",
       "      <td>Part One / III</td>\n",
       "      <td>en_crime_and_punishment</td>\n",
       "      <td>39435</td>\n",
       "    </tr>\n",
       "    <tr>\n",
       "      <th>en_book_3</th>\n",
       "      <td>en_crime_and_punishment.md</td>\n",
       "      <td>2024-03-31 12:51:22.696882</td>\n",
       "      <td>3</td>\n",
       "      <td>6473</td>\n",
       "      <td>23395</td>\n",
       "      <td>3</td>\n",
       "      <td>Part One</td>\n",
       "      <td>IV</td>\n",
       "      <td>Part One / IV</td>\n",
       "      <td>en_crime_and_punishment</td>\n",
       "      <td>55909</td>\n",
       "    </tr>\n",
       "    <tr>\n",
       "      <th>en_book_4</th>\n",
       "      <td>en_crime_and_punishment.md</td>\n",
       "      <td>2024-03-31 12:51:22.713882</td>\n",
       "      <td>4</td>\n",
       "      <td>5342</td>\n",
       "      <td>19413</td>\n",
       "      <td>4</td>\n",
       "      <td>Part One</td>\n",
       "      <td>V</td>\n",
       "      <td>Part One / V</td>\n",
       "      <td>en_crime_and_punishment</td>\n",
       "      <td>71252</td>\n",
       "    </tr>\n",
       "  </tbody>\n",
       "</table>\n",
       "</div>"
      ],
      "text/plain": [
       "                             filename                  timestamp  part_index  \\\n",
       "file_id                                                                        \n",
       "en_book_0  en_crime_and_punishment.md 2024-03-31 12:51:22.640883           0   \n",
       "en_book_1  en_crime_and_punishment.md 2024-03-31 12:51:22.656883           1   \n",
       "en_book_2  en_crime_and_punishment.md 2024-03-31 12:51:22.678882           2   \n",
       "en_book_3  en_crime_and_punishment.md 2024-03-31 12:51:22.696882           3   \n",
       "en_book_4  en_crime_and_punishment.md 2024-03-31 12:51:22.713882           4   \n",
       "\n",
       "           token_count  character_count  ordinal  header_0 header_1  \\\n",
       "file_id                                                               \n",
       "en_book_0         4028            15089        0  Part One        I   \n",
       "en_book_1         8965            32957        1  Part One       II   \n",
       "en_book_2         6439            24251        2  Part One      III   \n",
       "en_book_3         6473            23395        3  Part One       IV   \n",
       "en_book_4         5342            19413        4  Part One        V   \n",
       "\n",
       "                  headers                     book  max_id  \n",
       "file_id                                                     \n",
       "en_book_0    Part One / I  en_crime_and_punishment    4029  \n",
       "en_book_1   Part One / II  en_crime_and_punishment   22995  \n",
       "en_book_2  Part One / III  en_crime_and_punishment   39435  \n",
       "en_book_3   Part One / IV  en_crime_and_punishment   55909  \n",
       "en_book_4    Part One / V  en_crime_and_punishment   71252  "
      ]
     },
     "execution_count": 2,
     "metadata": {},
     "output_type": "execute_result"
    }
   ],
   "source": [
    "from grammar_ru.corpus import CorpusReader\n",
    "\n",
    "\n",
    "en_book_reader = CorpusReader(Path('./files/en_crime_and_puhishment.base.zip'))\n",
    "en_book = en_book_reader.get_toc().index\n",
    "\n",
    "en_book_reader.get_toc()[:5]"
   ]
  },
  {
   "cell_type": "markdown",
   "metadata": {},
   "source": [
    "#### Corpus for English retelling:"
   ]
  },
  {
   "cell_type": "code",
   "execution_count": 3,
   "metadata": {
    "ExecuteTime": {
     "end_time": "2023-12-27T10:10:58.738525631Z",
     "start_time": "2023-12-27T10:10:52.219412569Z"
    }
   },
   "outputs": [
    {
     "data": {
      "application/vnd.jupyter.widget-view+json": {
       "model_id": "9c27f595eb1a49c4ac06fad4d6227241",
       "version_major": 2,
       "version_minor": 0
      },
      "text/plain": [
       "  0%|          | 0/1 [00:00<?, ?it/s]"
      ]
     },
     "metadata": {},
     "output_type": "display_data"
    }
   ],
   "source": [
    "CorpusBuilder.convert_interformat_folder_to_corpus(\n",
    "    Path('./files/en_retell.base.zip'),\n",
    "    Path('./source/retell/en'),\n",
    "    ['book'],\n",
    "    custom_guid_factory = lambda index: f'en_retell_{index}'\n",
    ")"
   ]
  },
  {
   "cell_type": "code",
   "execution_count": 4,
   "metadata": {
    "ExecuteTime": {
     "end_time": "2023-12-27T10:10:58.755700800Z",
     "start_time": "2023-12-27T10:10:58.738101794Z"
    },
    "scrolled": true
   },
   "outputs": [
    {
     "data": {
      "text/html": [
       "<div>\n",
       "<style scoped>\n",
       "    .dataframe tbody tr th:only-of-type {\n",
       "        vertical-align: middle;\n",
       "    }\n",
       "\n",
       "    .dataframe tbody tr th {\n",
       "        vertical-align: top;\n",
       "    }\n",
       "\n",
       "    .dataframe thead th {\n",
       "        text-align: right;\n",
       "    }\n",
       "</style>\n",
       "<table border=\"1\" class=\"dataframe\">\n",
       "  <thead>\n",
       "    <tr style=\"text-align: right;\">\n",
       "      <th></th>\n",
       "      <th>filename</th>\n",
       "      <th>timestamp</th>\n",
       "      <th>part_index</th>\n",
       "      <th>token_count</th>\n",
       "      <th>character_count</th>\n",
       "      <th>ordinal</th>\n",
       "      <th>header_0</th>\n",
       "      <th>header_1</th>\n",
       "      <th>headers</th>\n",
       "      <th>book</th>\n",
       "      <th>max_id</th>\n",
       "    </tr>\n",
       "    <tr>\n",
       "      <th>file_id</th>\n",
       "      <th></th>\n",
       "      <th></th>\n",
       "      <th></th>\n",
       "      <th></th>\n",
       "      <th></th>\n",
       "      <th></th>\n",
       "      <th></th>\n",
       "      <th></th>\n",
       "      <th></th>\n",
       "      <th></th>\n",
       "      <th></th>\n",
       "    </tr>\n",
       "  </thead>\n",
       "  <tbody>\n",
       "    <tr>\n",
       "      <th>en_retell_0</th>\n",
       "      <td>en_retell.md</td>\n",
       "      <td>2024-03-31 12:51:25.453882</td>\n",
       "      <td>0</td>\n",
       "      <td>776</td>\n",
       "      <td>3295</td>\n",
       "      <td>0</td>\n",
       "      <td>Part I</td>\n",
       "      <td>Chapter 1</td>\n",
       "      <td>Part I / Chapter 1</td>\n",
       "      <td>en_retell</td>\n",
       "      <td>777</td>\n",
       "    </tr>\n",
       "    <tr>\n",
       "      <th>en_retell_1</th>\n",
       "      <td>en_retell.md</td>\n",
       "      <td>2024-03-31 12:51:25.457882</td>\n",
       "      <td>1</td>\n",
       "      <td>1191</td>\n",
       "      <td>5178</td>\n",
       "      <td>1</td>\n",
       "      <td>Part I</td>\n",
       "      <td>Chapter 2</td>\n",
       "      <td>Part I / Chapter 2</td>\n",
       "      <td>en_retell</td>\n",
       "      <td>11969</td>\n",
       "    </tr>\n",
       "    <tr>\n",
       "      <th>en_retell_2</th>\n",
       "      <td>en_retell.md</td>\n",
       "      <td>2024-03-31 12:51:25.473883</td>\n",
       "      <td>2</td>\n",
       "      <td>1042</td>\n",
       "      <td>4464</td>\n",
       "      <td>2</td>\n",
       "      <td>Part I</td>\n",
       "      <td>Chapter 3</td>\n",
       "      <td>Part I / Chapter 3</td>\n",
       "      <td>en_retell</td>\n",
       "      <td>23012</td>\n",
       "    </tr>\n",
       "    <tr>\n",
       "      <th>en_retell_3</th>\n",
       "      <td>en_retell.md</td>\n",
       "      <td>2024-03-31 12:51:25.488882</td>\n",
       "      <td>3</td>\n",
       "      <td>1098</td>\n",
       "      <td>4711</td>\n",
       "      <td>3</td>\n",
       "      <td>Part I</td>\n",
       "      <td>Chapter 4</td>\n",
       "      <td>Part I / Chapter 4</td>\n",
       "      <td>en_retell</td>\n",
       "      <td>34111</td>\n",
       "    </tr>\n",
       "    <tr>\n",
       "      <th>en_retell_4</th>\n",
       "      <td>en_retell.md</td>\n",
       "      <td>2024-03-31 12:51:25.503883</td>\n",
       "      <td>4</td>\n",
       "      <td>954</td>\n",
       "      <td>3932</td>\n",
       "      <td>4</td>\n",
       "      <td>Part I</td>\n",
       "      <td>Chapter 5</td>\n",
       "      <td>Part I / Chapter 5</td>\n",
       "      <td>en_retell</td>\n",
       "      <td>45066</td>\n",
       "    </tr>\n",
       "  </tbody>\n",
       "</table>\n",
       "</div>"
      ],
      "text/plain": [
       "                 filename                  timestamp  part_index  token_count  \\\n",
       "file_id                                                                         \n",
       "en_retell_0  en_retell.md 2024-03-31 12:51:25.453882           0          776   \n",
       "en_retell_1  en_retell.md 2024-03-31 12:51:25.457882           1         1191   \n",
       "en_retell_2  en_retell.md 2024-03-31 12:51:25.473883           2         1042   \n",
       "en_retell_3  en_retell.md 2024-03-31 12:51:25.488882           3         1098   \n",
       "en_retell_4  en_retell.md 2024-03-31 12:51:25.503883           4          954   \n",
       "\n",
       "             character_count  ordinal header_0   header_1             headers  \\\n",
       "file_id                                                                         \n",
       "en_retell_0             3295        0   Part I  Chapter 1  Part I / Chapter 1   \n",
       "en_retell_1             5178        1   Part I  Chapter 2  Part I / Chapter 2   \n",
       "en_retell_2             4464        2   Part I  Chapter 3  Part I / Chapter 3   \n",
       "en_retell_3             4711        3   Part I  Chapter 4  Part I / Chapter 4   \n",
       "en_retell_4             3932        4   Part I  Chapter 5  Part I / Chapter 5   \n",
       "\n",
       "                  book  max_id  \n",
       "file_id                         \n",
       "en_retell_0  en_retell     777  \n",
       "en_retell_1  en_retell   11969  \n",
       "en_retell_2  en_retell   23012  \n",
       "en_retell_3  en_retell   34111  \n",
       "en_retell_4  en_retell   45066  "
      ]
     },
     "execution_count": 4,
     "metadata": {},
     "output_type": "execute_result"
    }
   ],
   "source": [
    "en_retell_reader = CorpusReader(Path('./files/en_retell.base.zip'))\n",
    "en_retell = en_retell_reader.get_toc().index\n",
    "en_retell_reader.get_toc()[:5]"
   ]
  },
  {
   "cell_type": "markdown",
   "metadata": {},
   "source": [
    "#### Сorpus for Russian text:"
   ]
  },
  {
   "cell_type": "code",
   "execution_count": 5,
   "metadata": {
    "ExecuteTime": {
     "end_time": "2023-12-27T10:11:13.218878242Z",
     "start_time": "2023-12-27T10:10:58.758121653Z"
    }
   },
   "outputs": [
    {
     "data": {
      "application/vnd.jupyter.widget-view+json": {
       "model_id": "a19ab33eadec4886849cb8c5814cb6e2",
       "version_major": 2,
       "version_minor": 0
      },
      "text/plain": [
       "  0%|          | 0/1 [00:00<?, ?it/s]"
      ]
     },
     "metadata": {},
     "output_type": "display_data"
    }
   ],
   "source": [
    "CorpusBuilder.convert_interformat_folder_to_corpus(\n",
    "    Path('./files/ru_crime_and_puhishment.base.zip'),\n",
    "    Path('./source/book/ru'),\n",
    "    ['book'],\n",
    "    custom_guid_factory = lambda index: f'ru_book_{index}'\n",
    ")"
   ]
  },
  {
   "cell_type": "code",
   "execution_count": 6,
   "metadata": {
    "ExecuteTime": {
     "end_time": "2023-12-27T10:11:13.374289516Z",
     "start_time": "2023-12-27T10:11:13.224873451Z"
    }
   },
   "outputs": [
    {
     "data": {
      "text/html": [
       "<div>\n",
       "<style scoped>\n",
       "    .dataframe tbody tr th:only-of-type {\n",
       "        vertical-align: middle;\n",
       "    }\n",
       "\n",
       "    .dataframe tbody tr th {\n",
       "        vertical-align: top;\n",
       "    }\n",
       "\n",
       "    .dataframe thead th {\n",
       "        text-align: right;\n",
       "    }\n",
       "</style>\n",
       "<table border=\"1\" class=\"dataframe\">\n",
       "  <thead>\n",
       "    <tr style=\"text-align: right;\">\n",
       "      <th></th>\n",
       "      <th>filename</th>\n",
       "      <th>timestamp</th>\n",
       "      <th>part_index</th>\n",
       "      <th>token_count</th>\n",
       "      <th>character_count</th>\n",
       "      <th>ordinal</th>\n",
       "      <th>header_0</th>\n",
       "      <th>header_1</th>\n",
       "      <th>headers</th>\n",
       "      <th>book</th>\n",
       "      <th>max_id</th>\n",
       "    </tr>\n",
       "    <tr>\n",
       "      <th>file_id</th>\n",
       "      <th></th>\n",
       "      <th></th>\n",
       "      <th></th>\n",
       "      <th></th>\n",
       "      <th></th>\n",
       "      <th></th>\n",
       "      <th></th>\n",
       "      <th></th>\n",
       "      <th></th>\n",
       "      <th></th>\n",
       "      <th></th>\n",
       "    </tr>\n",
       "  </thead>\n",
       "  <tbody>\n",
       "    <tr>\n",
       "      <th>ru_book_0</th>\n",
       "      <td>ru_crime_and_punishment.md</td>\n",
       "      <td>2024-03-31 12:51:34.489882</td>\n",
       "      <td>0</td>\n",
       "      <td>3243</td>\n",
       "      <td>13794</td>\n",
       "      <td>0</td>\n",
       "      <td>ЧАСТЬ ПЕРВАЯ</td>\n",
       "      <td>I</td>\n",
       "      <td>ЧАСТЬ ПЕРВАЯ / I</td>\n",
       "      <td>ru_crime_and_punishment</td>\n",
       "      <td>3244</td>\n",
       "    </tr>\n",
       "    <tr>\n",
       "      <th>ru_book_1</th>\n",
       "      <td>ru_crime_and_punishment.md</td>\n",
       "      <td>2024-03-31 12:51:34.496883</td>\n",
       "      <td>1</td>\n",
       "      <td>7122</td>\n",
       "      <td>29360</td>\n",
       "      <td>1</td>\n",
       "      <td>ЧАСТЬ ПЕРВАЯ</td>\n",
       "      <td>II</td>\n",
       "      <td>ЧАСТЬ ПЕРВАЯ / II</td>\n",
       "      <td>ru_crime_and_punishment</td>\n",
       "      <td>20367</td>\n",
       "    </tr>\n",
       "    <tr>\n",
       "      <th>ru_book_2</th>\n",
       "      <td>ru_crime_and_punishment.md</td>\n",
       "      <td>2024-03-31 12:51:34.527882</td>\n",
       "      <td>2</td>\n",
       "      <td>5526</td>\n",
       "      <td>22721</td>\n",
       "      <td>2</td>\n",
       "      <td>ЧАСТЬ ПЕРВАЯ</td>\n",
       "      <td>III</td>\n",
       "      <td>ЧАСТЬ ПЕРВАЯ / III</td>\n",
       "      <td>ru_crime_and_punishment</td>\n",
       "      <td>35894</td>\n",
       "    </tr>\n",
       "    <tr>\n",
       "      <th>ru_book_3</th>\n",
       "      <td>ru_crime_and_punishment.md</td>\n",
       "      <td>2024-03-31 12:51:34.553882</td>\n",
       "      <td>3</td>\n",
       "      <td>5231</td>\n",
       "      <td>21071</td>\n",
       "      <td>3</td>\n",
       "      <td>ЧАСТЬ ПЕРВАЯ</td>\n",
       "      <td>IV</td>\n",
       "      <td>ЧАСТЬ ПЕРВАЯ / IV</td>\n",
       "      <td>ru_crime_and_punishment</td>\n",
       "      <td>51126</td>\n",
       "    </tr>\n",
       "    <tr>\n",
       "      <th>ru_book_4</th>\n",
       "      <td>ru_crime_and_punishment.md</td>\n",
       "      <td>2024-03-31 12:51:34.580882</td>\n",
       "      <td>4</td>\n",
       "      <td>4285</td>\n",
       "      <td>17322</td>\n",
       "      <td>4</td>\n",
       "      <td>ЧАСТЬ ПЕРВАЯ</td>\n",
       "      <td>V</td>\n",
       "      <td>ЧАСТЬ ПЕРВАЯ / V</td>\n",
       "      <td>ru_crime_and_punishment</td>\n",
       "      <td>65412</td>\n",
       "    </tr>\n",
       "  </tbody>\n",
       "</table>\n",
       "</div>"
      ],
      "text/plain": [
       "                             filename                  timestamp  part_index  \\\n",
       "file_id                                                                        \n",
       "ru_book_0  ru_crime_and_punishment.md 2024-03-31 12:51:34.489882           0   \n",
       "ru_book_1  ru_crime_and_punishment.md 2024-03-31 12:51:34.496883           1   \n",
       "ru_book_2  ru_crime_and_punishment.md 2024-03-31 12:51:34.527882           2   \n",
       "ru_book_3  ru_crime_and_punishment.md 2024-03-31 12:51:34.553882           3   \n",
       "ru_book_4  ru_crime_and_punishment.md 2024-03-31 12:51:34.580882           4   \n",
       "\n",
       "           token_count  character_count  ordinal      header_0 header_1  \\\n",
       "file_id                                                                   \n",
       "ru_book_0         3243            13794        0  ЧАСТЬ ПЕРВАЯ        I   \n",
       "ru_book_1         7122            29360        1  ЧАСТЬ ПЕРВАЯ       II   \n",
       "ru_book_2         5526            22721        2  ЧАСТЬ ПЕРВАЯ      III   \n",
       "ru_book_3         5231            21071        3  ЧАСТЬ ПЕРВАЯ       IV   \n",
       "ru_book_4         4285            17322        4  ЧАСТЬ ПЕРВАЯ        V   \n",
       "\n",
       "                      headers                     book  max_id  \n",
       "file_id                                                         \n",
       "ru_book_0    ЧАСТЬ ПЕРВАЯ / I  ru_crime_and_punishment    3244  \n",
       "ru_book_1   ЧАСТЬ ПЕРВАЯ / II  ru_crime_and_punishment   20367  \n",
       "ru_book_2  ЧАСТЬ ПЕРВАЯ / III  ru_crime_and_punishment   35894  \n",
       "ru_book_3   ЧАСТЬ ПЕРВАЯ / IV  ru_crime_and_punishment   51126  \n",
       "ru_book_4    ЧАСТЬ ПЕРВАЯ / V  ru_crime_and_punishment   65412  "
      ]
     },
     "execution_count": 6,
     "metadata": {},
     "output_type": "execute_result"
    }
   ],
   "source": [
    "ru_book_reader = CorpusReader(Path('./files/ru_crime_and_puhishment.base.zip'))\n",
    "ru_book = ru_book_reader.get_toc().index\n",
    "ru_book_reader.get_toc()[:5]"
   ]
  },
  {
   "cell_type": "markdown",
   "metadata": {},
   "source": [
    "#### Corpus for Russian retelling:"
   ]
  },
  {
   "cell_type": "code",
   "execution_count": 7,
   "metadata": {
    "ExecuteTime": {
     "end_time": "2023-12-27T10:11:15.647984626Z",
     "start_time": "2023-12-27T10:11:13.297490387Z"
    }
   },
   "outputs": [
    {
     "data": {
      "application/vnd.jupyter.widget-view+json": {
       "model_id": "ecc581f3dcc84e8daab44b1437cfc562",
       "version_major": 2,
       "version_minor": 0
      },
      "text/plain": [
       "  0%|          | 0/1 [00:00<?, ?it/s]"
      ]
     },
     "metadata": {},
     "output_type": "display_data"
    }
   ],
   "source": [
    "CorpusBuilder.convert_interformat_folder_to_corpus(\n",
    "    Path('./files/ru_retell.base.zip'),\n",
    "    Path('./source/retell/ru'),\n",
    "    ['book'],\n",
    "    custom_guid_factory = lambda index: f'ru_retell_{index}'\n",
    "    )"
   ]
  },
  {
   "cell_type": "code",
   "execution_count": 8,
   "metadata": {
    "ExecuteTime": {
     "end_time": "2023-12-27T10:11:15.697244850Z",
     "start_time": "2023-12-27T10:11:15.652093330Z"
    }
   },
   "outputs": [
    {
     "data": {
      "text/html": [
       "<div>\n",
       "<style scoped>\n",
       "    .dataframe tbody tr th:only-of-type {\n",
       "        vertical-align: middle;\n",
       "    }\n",
       "\n",
       "    .dataframe tbody tr th {\n",
       "        vertical-align: top;\n",
       "    }\n",
       "\n",
       "    .dataframe thead th {\n",
       "        text-align: right;\n",
       "    }\n",
       "</style>\n",
       "<table border=\"1\" class=\"dataframe\">\n",
       "  <thead>\n",
       "    <tr style=\"text-align: right;\">\n",
       "      <th></th>\n",
       "      <th>filename</th>\n",
       "      <th>timestamp</th>\n",
       "      <th>part_index</th>\n",
       "      <th>token_count</th>\n",
       "      <th>character_count</th>\n",
       "      <th>ordinal</th>\n",
       "      <th>header_0</th>\n",
       "      <th>header_1</th>\n",
       "      <th>headers</th>\n",
       "      <th>book</th>\n",
       "      <th>max_id</th>\n",
       "    </tr>\n",
       "    <tr>\n",
       "      <th>file_id</th>\n",
       "      <th></th>\n",
       "      <th></th>\n",
       "      <th></th>\n",
       "      <th></th>\n",
       "      <th></th>\n",
       "      <th></th>\n",
       "      <th></th>\n",
       "      <th></th>\n",
       "      <th></th>\n",
       "      <th></th>\n",
       "      <th></th>\n",
       "    </tr>\n",
       "  </thead>\n",
       "  <tbody>\n",
       "    <tr>\n",
       "      <th>ru_retell_0</th>\n",
       "      <td>ru_retell.md</td>\n",
       "      <td>2024-03-31 12:51:36.176882</td>\n",
       "      <td>0</td>\n",
       "      <td>396</td>\n",
       "      <td>1814</td>\n",
       "      <td>0</td>\n",
       "      <td>Часть 1</td>\n",
       "      <td>Глава 1: Знакомство с Родионом</td>\n",
       "      <td>Часть 1 / Глава 1: Знакомство с Родионом</td>\n",
       "      <td>ru_retell</td>\n",
       "      <td>397</td>\n",
       "    </tr>\n",
       "    <tr>\n",
       "      <th>ru_retell_1</th>\n",
       "      <td>ru_retell.md</td>\n",
       "      <td>2024-03-31 12:51:36.179882</td>\n",
       "      <td>1</td>\n",
       "      <td>704</td>\n",
       "      <td>3090</td>\n",
       "      <td>1</td>\n",
       "      <td>Часть 1</td>\n",
       "      <td>Глава 2: Встреча с Мармеладовым</td>\n",
       "      <td>Часть 1 / Глава 2: Встреча с Мармеладовым</td>\n",
       "      <td>ru_retell</td>\n",
       "      <td>11102</td>\n",
       "    </tr>\n",
       "    <tr>\n",
       "      <th>ru_retell_2</th>\n",
       "      <td>ru_retell.md</td>\n",
       "      <td>2024-03-31 12:51:36.193882</td>\n",
       "      <td>2</td>\n",
       "      <td>280</td>\n",
       "      <td>1330</td>\n",
       "      <td>2</td>\n",
       "      <td>Часть 1</td>\n",
       "      <td>Глава 3: Письмо матери</td>\n",
       "      <td>Часть 1 / Глава 3: Письмо матери</td>\n",
       "      <td>ru_retell</td>\n",
       "      <td>21383</td>\n",
       "    </tr>\n",
       "    <tr>\n",
       "      <th>ru_retell_3</th>\n",
       "      <td>ru_retell.md</td>\n",
       "      <td>2024-03-31 12:51:36.206882</td>\n",
       "      <td>3</td>\n",
       "      <td>461</td>\n",
       "      <td>2020</td>\n",
       "      <td>3</td>\n",
       "      <td>Часть 1</td>\n",
       "      <td>Глава 4: Мысли о сестре</td>\n",
       "      <td>Часть 1 / Глава 4: Мысли о сестре</td>\n",
       "      <td>ru_retell</td>\n",
       "      <td>31845</td>\n",
       "    </tr>\n",
       "    <tr>\n",
       "      <th>ru_retell_4</th>\n",
       "      <td>ru_retell.md</td>\n",
       "      <td>2024-03-31 12:51:36.219882</td>\n",
       "      <td>4</td>\n",
       "      <td>193</td>\n",
       "      <td>892</td>\n",
       "      <td>4</td>\n",
       "      <td>Часть 1</td>\n",
       "      <td>Глава 5: Сон Раскольникова</td>\n",
       "      <td>Часть 1 / Глава 5: Сон Раскольникова</td>\n",
       "      <td>ru_retell</td>\n",
       "      <td>42039</td>\n",
       "    </tr>\n",
       "  </tbody>\n",
       "</table>\n",
       "</div>"
      ],
      "text/plain": [
       "                 filename                  timestamp  part_index  token_count  \\\n",
       "file_id                                                                         \n",
       "ru_retell_0  ru_retell.md 2024-03-31 12:51:36.176882           0          396   \n",
       "ru_retell_1  ru_retell.md 2024-03-31 12:51:36.179882           1          704   \n",
       "ru_retell_2  ru_retell.md 2024-03-31 12:51:36.193882           2          280   \n",
       "ru_retell_3  ru_retell.md 2024-03-31 12:51:36.206882           3          461   \n",
       "ru_retell_4  ru_retell.md 2024-03-31 12:51:36.219882           4          193   \n",
       "\n",
       "             character_count  ordinal header_0  \\\n",
       "file_id                                          \n",
       "ru_retell_0             1814        0  Часть 1   \n",
       "ru_retell_1             3090        1  Часть 1   \n",
       "ru_retell_2             1330        2  Часть 1   \n",
       "ru_retell_3             2020        3  Часть 1   \n",
       "ru_retell_4              892        4  Часть 1   \n",
       "\n",
       "                                    header_1  \\\n",
       "file_id                                        \n",
       "ru_retell_0   Глава 1: Знакомство с Родионом   \n",
       "ru_retell_1  Глава 2: Встреча с Мармеладовым   \n",
       "ru_retell_2           Глава 3: Письмо матери   \n",
       "ru_retell_3          Глава 4: Мысли о сестре   \n",
       "ru_retell_4       Глава 5: Сон Раскольникова   \n",
       "\n",
       "                                               headers       book  max_id  \n",
       "file_id                                                                    \n",
       "ru_retell_0   Часть 1 / Глава 1: Знакомство с Родионом  ru_retell     397  \n",
       "ru_retell_1  Часть 1 / Глава 2: Встреча с Мармеладовым  ru_retell   11102  \n",
       "ru_retell_2           Часть 1 / Глава 3: Письмо матери  ru_retell   21383  \n",
       "ru_retell_3          Часть 1 / Глава 4: Мысли о сестре  ru_retell   31845  \n",
       "ru_retell_4       Часть 1 / Глава 5: Сон Раскольникова  ru_retell   42039  "
      ]
     },
     "execution_count": 8,
     "metadata": {},
     "output_type": "execute_result"
    }
   ],
   "source": [
    "ru_retell_reader = CorpusReader(Path('./files/ru_retell.base.zip'))\n",
    "ru_retell = ru_retell_reader.get_toc().index\n",
    "ru_retell_reader.get_toc()[:5]"
   ]
  },
  {
   "cell_type": "markdown",
   "metadata": {},
   "source": [
    "Next, we form a parallel corpus"
   ]
  },
  {
   "cell_type": "code",
   "execution_count": 9,
   "metadata": {
    "ExecuteTime": {
     "end_time": "2023-12-27T10:11:15.802079118Z",
     "start_time": "2023-12-27T10:11:15.693570783Z"
    }
   },
   "outputs": [],
   "source": [
    "import pandas as pd\n",
    "import os\n",
    "\n",
    "PARALLEL_CORPUS_PATH = Path('./files/parallel_corpus.zip')\n",
    "if PARALLEL_CORPUS_PATH.is_file():\n",
    "    os.unlink(PARALLEL_CORPUS_PATH)\n",
    "\n",
    "def add_relation(df_1,df_2,name_1,name_2):\n",
    "    rel_1 = pd.DataFrame({'file_1':df_1, 'file_2':df_2,'relation_name':f\"{name_1}_{name_2}\"})\n",
    "    rel_2 = pd.DataFrame({'file_1':df_2, 'file_2':df_1,'relation_name':f\"{name_2}_{name_1}\"})\n",
    "    rel = pd.concat([rel_1,rel_2])\n",
    "    return rel\n",
    "\n",
    "CorpusBuilder.update_parallel_data(\n",
    "    PARALLEL_CORPUS_PATH,\n",
    "    ru_book_reader,\n",
    "    \"ru_book\",\n",
    "    None)\n",
    "\n",
    "CorpusBuilder.update_parallel_data(\n",
    "    PARALLEL_CORPUS_PATH,\n",
    "    ru_retell_reader,\n",
    "    \"ru_retell\",\n",
    "    add_relation(ru_book_reader.get_toc().index,ru_retell_reader.get_toc().index,\"ru_book\",\"ru_retell\"))\n",
    "\n",
    "CorpusBuilder.update_parallel_data(\n",
    "    PARALLEL_CORPUS_PATH,\n",
    "    en_book_reader,\n",
    "    \"en_book\",\n",
    "    add_relation(ru_book_reader.get_toc().index,en_book_reader.get_toc().index,\"ru_book\",\"en_book\"))\n",
    "\n",
    "\n",
    "CorpusBuilder.update_parallel_data(\n",
    "    PARALLEL_CORPUS_PATH,\n",
    "    en_retell_reader,\n",
    "    \"en_retell\",\n",
    "    add_relation(en_book_reader.get_toc().index,en_retell_reader.get_toc().index,\"en_book\",\"en_retell\"))\n",
    "\n"
   ]
  },
  {
   "cell_type": "markdown",
   "metadata": {},
   "source": [
    "## Browsing the parallel corpus\n",
    "\n",
    "We check that all parts have been successfully recorded"
   ]
  },
  {
   "cell_type": "code",
   "execution_count": 10,
   "metadata": {
    "ExecuteTime": {
     "end_time": "2023-12-27T10:11:24.202616716Z",
     "start_time": "2023-12-27T10:11:24.181180370Z"
    }
   },
   "outputs": [
    {
     "data": {
      "text/plain": [
       "array(['ru_book', 'ru_retell', 'en_book', 'en_retell'], dtype=object)"
      ]
     },
     "execution_count": 10,
     "metadata": {},
     "output_type": "execute_result"
    }
   ],
   "source": [
    "from grammar_ru.corpus import ParallelCorpus\n",
    "\n",
    "reader = ParallelCorpus(Path('./files/parallel_corpus.zip'))\n",
    "\n",
    "df = reader.get_toc()\n",
    "\n",
    "df.subcorpus_name.unique()"
   ]
  },
  {
   "cell_type": "code",
   "execution_count": 11,
   "metadata": {},
   "outputs": [
    {
     "data": {
      "text/html": [
       "<div>\n",
       "<style scoped>\n",
       "    .dataframe tbody tr th:only-of-type {\n",
       "        vertical-align: middle;\n",
       "    }\n",
       "\n",
       "    .dataframe tbody tr th {\n",
       "        vertical-align: top;\n",
       "    }\n",
       "\n",
       "    .dataframe thead th {\n",
       "        text-align: right;\n",
       "    }\n",
       "</style>\n",
       "<table border=\"1\" class=\"dataframe\">\n",
       "  <thead>\n",
       "    <tr style=\"text-align: right;\">\n",
       "      <th></th>\n",
       "      <th>filename</th>\n",
       "      <th>timestamp</th>\n",
       "      <th>part_index</th>\n",
       "      <th>token_count</th>\n",
       "      <th>character_count</th>\n",
       "      <th>ordinal</th>\n",
       "      <th>header_0</th>\n",
       "      <th>header_1</th>\n",
       "      <th>headers</th>\n",
       "      <th>book</th>\n",
       "      <th>max_id</th>\n",
       "      <th>subcorpus_name</th>\n",
       "    </tr>\n",
       "    <tr>\n",
       "      <th>file_id</th>\n",
       "      <th></th>\n",
       "      <th></th>\n",
       "      <th></th>\n",
       "      <th></th>\n",
       "      <th></th>\n",
       "      <th></th>\n",
       "      <th></th>\n",
       "      <th></th>\n",
       "      <th></th>\n",
       "      <th></th>\n",
       "      <th></th>\n",
       "      <th></th>\n",
       "    </tr>\n",
       "  </thead>\n",
       "  <tbody>\n",
       "    <tr>\n",
       "      <th>en_book_0</th>\n",
       "      <td>en_crime_and_punishment.md</td>\n",
       "      <td>2024-03-31 12:51:39.028882</td>\n",
       "      <td>0</td>\n",
       "      <td>4028</td>\n",
       "      <td>15089</td>\n",
       "      <td>0</td>\n",
       "      <td>Part One</td>\n",
       "      <td>I</td>\n",
       "      <td>Part One / I</td>\n",
       "      <td>en_crime_and_punishment</td>\n",
       "      <td>1056634</td>\n",
       "      <td>en_book</td>\n",
       "    </tr>\n",
       "    <tr>\n",
       "      <th>en_book_1</th>\n",
       "      <td>en_crime_and_punishment.md</td>\n",
       "      <td>2024-03-31 12:51:39.057882</td>\n",
       "      <td>1</td>\n",
       "      <td>8965</td>\n",
       "      <td>32957</td>\n",
       "      <td>1</td>\n",
       "      <td>Part One</td>\n",
       "      <td>II</td>\n",
       "      <td>Part One / II</td>\n",
       "      <td>en_crime_and_punishment</td>\n",
       "      <td>1075600</td>\n",
       "      <td>en_book</td>\n",
       "    </tr>\n",
       "    <tr>\n",
       "      <th>en_book_2</th>\n",
       "      <td>en_crime_and_punishment.md</td>\n",
       "      <td>2024-03-31 12:51:39.098882</td>\n",
       "      <td>2</td>\n",
       "      <td>6439</td>\n",
       "      <td>24251</td>\n",
       "      <td>2</td>\n",
       "      <td>Part One</td>\n",
       "      <td>III</td>\n",
       "      <td>Part One / III</td>\n",
       "      <td>en_crime_and_punishment</td>\n",
       "      <td>1092040</td>\n",
       "      <td>en_book</td>\n",
       "    </tr>\n",
       "    <tr>\n",
       "      <th>en_book_3</th>\n",
       "      <td>en_crime_and_punishment.md</td>\n",
       "      <td>2024-03-31 12:51:39.133882</td>\n",
       "      <td>3</td>\n",
       "      <td>6473</td>\n",
       "      <td>23395</td>\n",
       "      <td>3</td>\n",
       "      <td>Part One</td>\n",
       "      <td>IV</td>\n",
       "      <td>Part One / IV</td>\n",
       "      <td>en_crime_and_punishment</td>\n",
       "      <td>1108514</td>\n",
       "      <td>en_book</td>\n",
       "    </tr>\n",
       "    <tr>\n",
       "      <th>en_book_4</th>\n",
       "      <td>en_crime_and_punishment.md</td>\n",
       "      <td>2024-03-31 12:51:39.168882</td>\n",
       "      <td>4</td>\n",
       "      <td>5342</td>\n",
       "      <td>19413</td>\n",
       "      <td>4</td>\n",
       "      <td>Part One</td>\n",
       "      <td>V</td>\n",
       "      <td>Part One / V</td>\n",
       "      <td>en_crime_and_punishment</td>\n",
       "      <td>1123857</td>\n",
       "      <td>en_book</td>\n",
       "    </tr>\n",
       "  </tbody>\n",
       "</table>\n",
       "</div>"
      ],
      "text/plain": [
       "                             filename                  timestamp  part_index  \\\n",
       "file_id                                                                        \n",
       "en_book_0  en_crime_and_punishment.md 2024-03-31 12:51:39.028882           0   \n",
       "en_book_1  en_crime_and_punishment.md 2024-03-31 12:51:39.057882           1   \n",
       "en_book_2  en_crime_and_punishment.md 2024-03-31 12:51:39.098882           2   \n",
       "en_book_3  en_crime_and_punishment.md 2024-03-31 12:51:39.133882           3   \n",
       "en_book_4  en_crime_and_punishment.md 2024-03-31 12:51:39.168882           4   \n",
       "\n",
       "           token_count  character_count  ordinal  header_0 header_1  \\\n",
       "file_id                                                               \n",
       "en_book_0         4028            15089        0  Part One        I   \n",
       "en_book_1         8965            32957        1  Part One       II   \n",
       "en_book_2         6439            24251        2  Part One      III   \n",
       "en_book_3         6473            23395        3  Part One       IV   \n",
       "en_book_4         5342            19413        4  Part One        V   \n",
       "\n",
       "                  headers                     book   max_id subcorpus_name  \n",
       "file_id                                                                     \n",
       "en_book_0    Part One / I  en_crime_and_punishment  1056634        en_book  \n",
       "en_book_1   Part One / II  en_crime_and_punishment  1075600        en_book  \n",
       "en_book_2  Part One / III  en_crime_and_punishment  1092040        en_book  \n",
       "en_book_3   Part One / IV  en_crime_and_punishment  1108514        en_book  \n",
       "en_book_4    Part One / V  en_crime_and_punishment  1123857        en_book  "
      ]
     },
     "execution_count": 11,
     "metadata": {},
     "output_type": "execute_result"
    }
   ],
   "source": [
    "reader.en_book.get_toc().head()"
   ]
  },
  {
   "cell_type": "code",
   "execution_count": 12,
   "metadata": {},
   "outputs": [
    {
     "data": {
      "text/html": [
       "<div>\n",
       "<style scoped>\n",
       "    .dataframe tbody tr th:only-of-type {\n",
       "        vertical-align: middle;\n",
       "    }\n",
       "\n",
       "    .dataframe tbody tr th {\n",
       "        vertical-align: top;\n",
       "    }\n",
       "\n",
       "    .dataframe thead th {\n",
       "        text-align: right;\n",
       "    }\n",
       "</style>\n",
       "<table border=\"1\" class=\"dataframe\">\n",
       "  <thead>\n",
       "    <tr style=\"text-align: right;\">\n",
       "      <th></th>\n",
       "      <th>file_1</th>\n",
       "      <th>file_2</th>\n",
       "      <th>relation_name</th>\n",
       "    </tr>\n",
       "  </thead>\n",
       "  <tbody>\n",
       "    <tr>\n",
       "      <th>0</th>\n",
       "      <td>ru_book_0</td>\n",
       "      <td>ru_retell_0</td>\n",
       "      <td>ru_book_ru_retell</td>\n",
       "    </tr>\n",
       "    <tr>\n",
       "      <th>1</th>\n",
       "      <td>ru_book_1</td>\n",
       "      <td>ru_retell_1</td>\n",
       "      <td>ru_book_ru_retell</td>\n",
       "    </tr>\n",
       "    <tr>\n",
       "      <th>2</th>\n",
       "      <td>ru_book_2</td>\n",
       "      <td>ru_retell_2</td>\n",
       "      <td>ru_book_ru_retell</td>\n",
       "    </tr>\n",
       "    <tr>\n",
       "      <th>3</th>\n",
       "      <td>ru_book_3</td>\n",
       "      <td>ru_retell_3</td>\n",
       "      <td>ru_book_ru_retell</td>\n",
       "    </tr>\n",
       "    <tr>\n",
       "      <th>4</th>\n",
       "      <td>ru_book_4</td>\n",
       "      <td>ru_retell_4</td>\n",
       "      <td>ru_book_ru_retell</td>\n",
       "    </tr>\n",
       "    <tr>\n",
       "      <th>...</th>\n",
       "      <td>...</td>\n",
       "      <td>...</td>\n",
       "      <td>...</td>\n",
       "    </tr>\n",
       "    <tr>\n",
       "      <th>36</th>\n",
       "      <td>en_retell_36</td>\n",
       "      <td>en_book_36</td>\n",
       "      <td>en_retell_en_book</td>\n",
       "    </tr>\n",
       "    <tr>\n",
       "      <th>37</th>\n",
       "      <td>en_retell_37</td>\n",
       "      <td>en_book_37</td>\n",
       "      <td>en_retell_en_book</td>\n",
       "    </tr>\n",
       "    <tr>\n",
       "      <th>38</th>\n",
       "      <td>en_retell_38</td>\n",
       "      <td>en_book_38</td>\n",
       "      <td>en_retell_en_book</td>\n",
       "    </tr>\n",
       "    <tr>\n",
       "      <th>39</th>\n",
       "      <td>en_retell_39</td>\n",
       "      <td>en_book_39</td>\n",
       "      <td>en_retell_en_book</td>\n",
       "    </tr>\n",
       "    <tr>\n",
       "      <th>40</th>\n",
       "      <td>en_retell_40</td>\n",
       "      <td>en_book_40</td>\n",
       "      <td>en_retell_en_book</td>\n",
       "    </tr>\n",
       "  </tbody>\n",
       "</table>\n",
       "<p>246 rows × 3 columns</p>\n",
       "</div>"
      ],
      "text/plain": [
       "          file_1       file_2      relation_name\n",
       "0      ru_book_0  ru_retell_0  ru_book_ru_retell\n",
       "1      ru_book_1  ru_retell_1  ru_book_ru_retell\n",
       "2      ru_book_2  ru_retell_2  ru_book_ru_retell\n",
       "3      ru_book_3  ru_retell_3  ru_book_ru_retell\n",
       "4      ru_book_4  ru_retell_4  ru_book_ru_retell\n",
       "..           ...          ...                ...\n",
       "36  en_retell_36   en_book_36  en_retell_en_book\n",
       "37  en_retell_37   en_book_37  en_retell_en_book\n",
       "38  en_retell_38   en_book_38  en_retell_en_book\n",
       "39  en_retell_39   en_book_39  en_retell_en_book\n",
       "40  en_retell_40   en_book_40  en_retell_en_book\n",
       "\n",
       "[246 rows x 3 columns]"
      ]
     },
     "execution_count": 12,
     "metadata": {},
     "output_type": "execute_result"
    }
   ],
   "source": [
    "reader.get_relations()"
   ]
  },
  {
   "cell_type": "markdown",
   "metadata": {},
   "source": [
    "## Translate text"
   ]
  },
  {
   "cell_type": "code",
   "execution_count": 13,
   "metadata": {
    "ExecuteTime": {
     "end_time": "2023-12-27T10:12:34.800301835Z",
     "start_time": "2023-12-27T10:12:11.969197975Z"
    }
   },
   "outputs": [
    {
     "data": {
      "application/vnd.jupyter.widget-view+json": {
       "model_id": "a7d5604f2c974fdf877dc649e01e12df",
       "version_major": 2,
       "version_minor": 0
      },
      "text/plain": [
       "  0%|          | 0/1 [00:00<?, ?it/s]"
      ]
     },
     "metadata": {},
     "output_type": "display_data"
    }
   ],
   "source": [
    "from ca.utils_translate import translate_subcorpus\n",
    "\n",
    "translate_subcorpus(\n",
    "    PARALLEL_CORPUS_PATH,\n",
    "    \"en_retell\",\n",
    "    'en_to_ru_retell', \n",
    "    custom_guid_factory = lambda index: f'en_to_ru_retell_{index}'\n",
    ")"
   ]
  },
  {
   "cell_type": "code",
   "execution_count": 14,
   "metadata": {
    "ExecuteTime": {
     "end_time": "2023-12-27T10:12:37.079624810Z",
     "start_time": "2023-12-27T10:12:37.046708502Z"
    }
   },
   "outputs": [
    {
     "data": {
      "text/plain": [
       "array(['ru_book', 'ru_retell', 'en_book', 'en_retell', 'en_to_ru_retell'],\n",
       "      dtype=object)"
      ]
     },
     "execution_count": 14,
     "metadata": {},
     "output_type": "execute_result"
    }
   ],
   "source": [
    "reader = ParallelCorpus(PARALLEL_CORPUS_PATH)\n",
    "\n",
    "df = reader.get_toc()\n",
    "\n",
    "df.subcorpus_name.unique()"
   ]
  },
  {
   "cell_type": "code",
   "execution_count": 15,
   "metadata": {},
   "outputs": [
    {
     "data": {
      "text/html": [
       "<div>\n",
       "<style scoped>\n",
       "    .dataframe tbody tr th:only-of-type {\n",
       "        vertical-align: middle;\n",
       "    }\n",
       "\n",
       "    .dataframe tbody tr th {\n",
       "        vertical-align: top;\n",
       "    }\n",
       "\n",
       "    .dataframe thead th {\n",
       "        text-align: right;\n",
       "    }\n",
       "</style>\n",
       "<table border=\"1\" class=\"dataframe\">\n",
       "  <thead>\n",
       "    <tr style=\"text-align: right;\">\n",
       "      <th></th>\n",
       "      <th>file_1</th>\n",
       "      <th>file_2</th>\n",
       "      <th>relation_name</th>\n",
       "    </tr>\n",
       "  </thead>\n",
       "  <tbody>\n",
       "    <tr>\n",
       "      <th>0</th>\n",
       "      <td>en_to_ru_retell_0</td>\n",
       "      <td>en_retell_0</td>\n",
       "      <td>en_to_ru_retell_en_retell</td>\n",
       "    </tr>\n",
       "    <tr>\n",
       "      <th>1</th>\n",
       "      <td>en_to_ru_retell_1</td>\n",
       "      <td>en_retell_1</td>\n",
       "      <td>en_to_ru_retell_en_retell</td>\n",
       "    </tr>\n",
       "    <tr>\n",
       "      <th>2</th>\n",
       "      <td>en_to_ru_retell_2</td>\n",
       "      <td>en_retell_2</td>\n",
       "      <td>en_to_ru_retell_en_retell</td>\n",
       "    </tr>\n",
       "    <tr>\n",
       "      <th>3</th>\n",
       "      <td>en_to_ru_retell_3</td>\n",
       "      <td>en_retell_3</td>\n",
       "      <td>en_to_ru_retell_en_retell</td>\n",
       "    </tr>\n",
       "    <tr>\n",
       "      <th>4</th>\n",
       "      <td>en_to_ru_retell_4</td>\n",
       "      <td>en_retell_4</td>\n",
       "      <td>en_to_ru_retell_en_retell</td>\n",
       "    </tr>\n",
       "  </tbody>\n",
       "</table>\n",
       "</div>"
      ],
      "text/plain": [
       "              file_1       file_2              relation_name\n",
       "0  en_to_ru_retell_0  en_retell_0  en_to_ru_retell_en_retell\n",
       "1  en_to_ru_retell_1  en_retell_1  en_to_ru_retell_en_retell\n",
       "2  en_to_ru_retell_2  en_retell_2  en_to_ru_retell_en_retell\n",
       "3  en_to_ru_retell_3  en_retell_3  en_to_ru_retell_en_retell\n",
       "4  en_to_ru_retell_4  en_retell_4  en_to_ru_retell_en_retell"
      ]
     },
     "execution_count": 15,
     "metadata": {},
     "output_type": "execute_result"
    }
   ],
   "source": [
    "reader.get_relations().feed(lambda z: z.loc[z.file_1.str.startswith('en_to_ru')]).head()"
   ]
  },
  {
   "cell_type": "markdown",
   "metadata": {},
   "source": [
    "### Remove redundant files"
   ]
  },
  {
   "cell_type": "code",
   "execution_count": 16,
   "metadata": {
    "ExecuteTime": {
     "end_time": "2023-12-27T11:27:10.090582428Z",
     "start_time": "2023-12-27T11:27:10.089352836Z"
    }
   },
   "outputs": [],
   "source": [
    "import os\n",
    "from pathlib import Path\n",
    "\n",
    "os.remove(Path('./files/en_crime_and_puhishment.base.zip'))\n",
    "os.remove(Path('./files/en_retell.base.zip'))\n",
    "os.remove(Path('./files/ru_crime_and_puhishment.base.zip'))\n",
    "os.remove(Path('./files/ru_retell.base.zip'))"
   ]
  }
 ],
 "metadata": {
  "kernelspec": {
   "display_name": "Python 3 (ipykernel)",
   "language": "python",
   "name": "python3"
  },
  "language_info": {
   "codemirror_mode": {
    "name": "ipython",
    "version": 3
   },
   "file_extension": ".py",
   "mimetype": "text/x-python",
   "name": "python",
   "nbconvert_exporter": "python",
   "pygments_lexer": "ipython3",
   "version": "3.8.18"
  }
 },
 "nbformat": 4,
 "nbformat_minor": 2
}
