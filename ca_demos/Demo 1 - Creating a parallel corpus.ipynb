{
 "cells": [
  {
   "cell_type": "markdown",
   "metadata": {},
   "source": [
    "# Creative Articulator \n",
    "\n",
    "## Overview"
   ]
  },
  {
   "cell_type": "markdown",
   "metadata": {},
   "source": [
    "In this demo, we will look at all the processes in Creative Articulator namely:\n",
    " - the creation of a parallel corpus\n",
    " - the division of text into fragments \n",
    " - translation of text."
   ]
  },
  {
   "cell_type": "markdown",
   "metadata": {},
   "source": [
    "## Parallel corpus\n",
    "\n",
    "A parallel corpus is a handy tool that allows you to link parts from different corpus. With it, all the corpus will be stored in a single zip file.\n",
    "\n",
    "In this demonstration, we will work with texts and retellings of Fyodor Mikhailovich Dostoevsky's novel Crime and Punishment, which are located in the `sourse` folder.\n",
    "\n",
    "\n",
    "The first step is to create a corpus of texts and retellings that are stored in md format."
   ]
  },
  {
   "cell_type": "markdown",
   "metadata": {},
   "source": [
    "#### Сorpus for English text:"
   ]
  },
  {
   "cell_type": "code",
   "execution_count": 1,
   "metadata": {
    "ExecuteTime": {
     "end_time": "2023-12-27T10:08:12.798956256Z",
     "start_time": "2023-12-27T10:07:58.229463647Z"
    }
   },
   "outputs": [
    {
     "data": {
      "application/vnd.jupyter.widget-view+json": {
       "model_id": "b22714a246d342ffb70503864fd46c91",
       "version_major": 2,
       "version_minor": 0
      },
      "text/plain": [
       "  0%|          | 0/1 [00:00<?, ?it/s]"
      ]
     },
     "metadata": {},
     "output_type": "display_data"
    }
   ],
   "source": [
    "from grammar_ru.corpus import CorpusBuilder\n",
    "from pathlib import Path\n",
    "\n",
    "\n",
    "CorpusBuilder.convert_interformat_folder_to_corpus(\n",
    "    Path('./files/eng_crime_and_puhishment.base.zip'),\n",
    "    Path('./source/book/eng'),\n",
    "    ['book'],\n",
    "    custom_guid_factory = lambda index: f'eng_book_{index}'\n",
    ")\n"
   ]
  },
  {
   "cell_type": "markdown",
   "metadata": {},
   "source": [
    "Note: for all the corpora in this demos we use a custom file naming, provided by `custom_guid_factory`. This is because these names will be used to "
   ]
  },
  {
   "cell_type": "code",
   "execution_count": 2,
   "metadata": {
    "ExecuteTime": {
     "end_time": "2023-12-27T10:10:49.581536158Z",
     "start_time": "2023-12-27T10:10:49.492842709Z"
    }
   },
   "outputs": [
    {
     "data": {
      "text/html": [
       "<div>\n",
       "<style scoped>\n",
       "    .dataframe tbody tr th:only-of-type {\n",
       "        vertical-align: middle;\n",
       "    }\n",
       "\n",
       "    .dataframe tbody tr th {\n",
       "        vertical-align: top;\n",
       "    }\n",
       "\n",
       "    .dataframe thead th {\n",
       "        text-align: right;\n",
       "    }\n",
       "</style>\n",
       "<table border=\"1\" class=\"dataframe\">\n",
       "  <thead>\n",
       "    <tr style=\"text-align: right;\">\n",
       "      <th></th>\n",
       "      <th>filename</th>\n",
       "      <th>timestamp</th>\n",
       "      <th>part_index</th>\n",
       "      <th>token_count</th>\n",
       "      <th>character_count</th>\n",
       "      <th>ordinal</th>\n",
       "      <th>header_0</th>\n",
       "      <th>header_1</th>\n",
       "      <th>headers</th>\n",
       "      <th>book</th>\n",
       "      <th>max_id</th>\n",
       "    </tr>\n",
       "    <tr>\n",
       "      <th>file_id</th>\n",
       "      <th></th>\n",
       "      <th></th>\n",
       "      <th></th>\n",
       "      <th></th>\n",
       "      <th></th>\n",
       "      <th></th>\n",
       "      <th></th>\n",
       "      <th></th>\n",
       "      <th></th>\n",
       "      <th></th>\n",
       "      <th></th>\n",
       "    </tr>\n",
       "  </thead>\n",
       "  <tbody>\n",
       "    <tr>\n",
       "      <th>eng_book_0</th>\n",
       "      <td>eng_crime_and_punishment.md</td>\n",
       "      <td>2024-03-31 12:04:53.320693</td>\n",
       "      <td>0</td>\n",
       "      <td>4028</td>\n",
       "      <td>15089</td>\n",
       "      <td>0</td>\n",
       "      <td>Part One</td>\n",
       "      <td>I</td>\n",
       "      <td>Part One / I</td>\n",
       "      <td>eng_crime_and_punishment</td>\n",
       "      <td>4029</td>\n",
       "    </tr>\n",
       "    <tr>\n",
       "      <th>eng_book_1</th>\n",
       "      <td>eng_crime_and_punishment.md</td>\n",
       "      <td>2024-03-31 12:04:53.347693</td>\n",
       "      <td>1</td>\n",
       "      <td>8965</td>\n",
       "      <td>32957</td>\n",
       "      <td>1</td>\n",
       "      <td>Part One</td>\n",
       "      <td>II</td>\n",
       "      <td>Part One / II</td>\n",
       "      <td>eng_crime_and_punishment</td>\n",
       "      <td>22995</td>\n",
       "    </tr>\n",
       "    <tr>\n",
       "      <th>eng_book_2</th>\n",
       "      <td>eng_crime_and_punishment.md</td>\n",
       "      <td>2024-03-31 12:04:53.382693</td>\n",
       "      <td>2</td>\n",
       "      <td>6439</td>\n",
       "      <td>24251</td>\n",
       "      <td>2</td>\n",
       "      <td>Part One</td>\n",
       "      <td>III</td>\n",
       "      <td>Part One / III</td>\n",
       "      <td>eng_crime_and_punishment</td>\n",
       "      <td>39435</td>\n",
       "    </tr>\n",
       "    <tr>\n",
       "      <th>eng_book_3</th>\n",
       "      <td>eng_crime_and_punishment.md</td>\n",
       "      <td>2024-03-31 12:04:53.410693</td>\n",
       "      <td>3</td>\n",
       "      <td>6473</td>\n",
       "      <td>23395</td>\n",
       "      <td>3</td>\n",
       "      <td>Part One</td>\n",
       "      <td>IV</td>\n",
       "      <td>Part One / IV</td>\n",
       "      <td>eng_crime_and_punishment</td>\n",
       "      <td>55909</td>\n",
       "    </tr>\n",
       "    <tr>\n",
       "      <th>eng_book_4</th>\n",
       "      <td>eng_crime_and_punishment.md</td>\n",
       "      <td>2024-03-31 12:04:53.438693</td>\n",
       "      <td>4</td>\n",
       "      <td>5342</td>\n",
       "      <td>19413</td>\n",
       "      <td>4</td>\n",
       "      <td>Part One</td>\n",
       "      <td>V</td>\n",
       "      <td>Part One / V</td>\n",
       "      <td>eng_crime_and_punishment</td>\n",
       "      <td>71252</td>\n",
       "    </tr>\n",
       "  </tbody>\n",
       "</table>\n",
       "</div>"
      ],
      "text/plain": [
       "                               filename                  timestamp  \\\n",
       "file_id                                                              \n",
       "eng_book_0  eng_crime_and_punishment.md 2024-03-31 12:04:53.320693   \n",
       "eng_book_1  eng_crime_and_punishment.md 2024-03-31 12:04:53.347693   \n",
       "eng_book_2  eng_crime_and_punishment.md 2024-03-31 12:04:53.382693   \n",
       "eng_book_3  eng_crime_and_punishment.md 2024-03-31 12:04:53.410693   \n",
       "eng_book_4  eng_crime_and_punishment.md 2024-03-31 12:04:53.438693   \n",
       "\n",
       "            part_index  token_count  character_count  ordinal  header_0  \\\n",
       "file_id                                                                   \n",
       "eng_book_0           0         4028            15089        0  Part One   \n",
       "eng_book_1           1         8965            32957        1  Part One   \n",
       "eng_book_2           2         6439            24251        2  Part One   \n",
       "eng_book_3           3         6473            23395        3  Part One   \n",
       "eng_book_4           4         5342            19413        4  Part One   \n",
       "\n",
       "           header_1         headers                      book  max_id  \n",
       "file_id                                                                \n",
       "eng_book_0        I    Part One / I  eng_crime_and_punishment    4029  \n",
       "eng_book_1       II   Part One / II  eng_crime_and_punishment   22995  \n",
       "eng_book_2      III  Part One / III  eng_crime_and_punishment   39435  \n",
       "eng_book_3       IV   Part One / IV  eng_crime_and_punishment   55909  \n",
       "eng_book_4        V    Part One / V  eng_crime_and_punishment   71252  "
      ]
     },
     "execution_count": 2,
     "metadata": {},
     "output_type": "execute_result"
    }
   ],
   "source": [
    "from grammar_ru.corpus import CorpusReader\n",
    "\n",
    "\n",
    "eng_book_reader = CorpusReader(Path('./files/eng_crime_and_puhishment.base.zip'))\n",
    "eng_book = eng_book_reader.get_toc().index\n",
    "\n",
    "eng_book_reader.get_toc()[:5]"
   ]
  },
  {
   "cell_type": "markdown",
   "metadata": {},
   "source": [
    "#### Corpus for English retelling:"
   ]
  },
  {
   "cell_type": "code",
   "execution_count": 3,
   "metadata": {
    "ExecuteTime": {
     "end_time": "2023-12-27T10:10:58.738525631Z",
     "start_time": "2023-12-27T10:10:52.219412569Z"
    }
   },
   "outputs": [
    {
     "data": {
      "application/vnd.jupyter.widget-view+json": {
       "model_id": "886c93b94d344c1c945976164632a9e8",
       "version_major": 2,
       "version_minor": 0
      },
      "text/plain": [
       "  0%|          | 0/1 [00:00<?, ?it/s]"
      ]
     },
     "metadata": {},
     "output_type": "display_data"
    }
   ],
   "source": [
    "CorpusBuilder.convert_interformat_folder_to_corpus(\n",
    "    Path('./files/eng_retell.base.zip'),\n",
    "    Path('./source/retell/eng'),\n",
    "    ['book'],\n",
    "    custom_guid_factory = lambda index: f'eng_retell_{index}'\n",
    ")"
   ]
  },
  {
   "cell_type": "code",
   "execution_count": 4,
   "metadata": {
    "ExecuteTime": {
     "end_time": "2023-12-27T10:10:58.755700800Z",
     "start_time": "2023-12-27T10:10:58.738101794Z"
    },
    "scrolled": true
   },
   "outputs": [
    {
     "data": {
      "text/html": [
       "<div>\n",
       "<style scoped>\n",
       "    .dataframe tbody tr th:only-of-type {\n",
       "        vertical-align: middle;\n",
       "    }\n",
       "\n",
       "    .dataframe tbody tr th {\n",
       "        vertical-align: top;\n",
       "    }\n",
       "\n",
       "    .dataframe thead th {\n",
       "        text-align: right;\n",
       "    }\n",
       "</style>\n",
       "<table border=\"1\" class=\"dataframe\">\n",
       "  <thead>\n",
       "    <tr style=\"text-align: right;\">\n",
       "      <th></th>\n",
       "      <th>filename</th>\n",
       "      <th>timestamp</th>\n",
       "      <th>part_index</th>\n",
       "      <th>token_count</th>\n",
       "      <th>character_count</th>\n",
       "      <th>ordinal</th>\n",
       "      <th>header_0</th>\n",
       "      <th>header_1</th>\n",
       "      <th>headers</th>\n",
       "      <th>book</th>\n",
       "      <th>max_id</th>\n",
       "    </tr>\n",
       "    <tr>\n",
       "      <th>file_id</th>\n",
       "      <th></th>\n",
       "      <th></th>\n",
       "      <th></th>\n",
       "      <th></th>\n",
       "      <th></th>\n",
       "      <th></th>\n",
       "      <th></th>\n",
       "      <th></th>\n",
       "      <th></th>\n",
       "      <th></th>\n",
       "      <th></th>\n",
       "    </tr>\n",
       "  </thead>\n",
       "  <tbody>\n",
       "    <tr>\n",
       "      <th>eng_retell_0</th>\n",
       "      <td>eng_retell.md</td>\n",
       "      <td>2024-03-31 12:05:27.271693</td>\n",
       "      <td>0</td>\n",
       "      <td>776</td>\n",
       "      <td>3295</td>\n",
       "      <td>0</td>\n",
       "      <td>Part I</td>\n",
       "      <td>Chapter 1</td>\n",
       "      <td>Part I / Chapter 1</td>\n",
       "      <td>eng_retell</td>\n",
       "      <td>777</td>\n",
       "    </tr>\n",
       "    <tr>\n",
       "      <th>eng_retell_1</th>\n",
       "      <td>eng_retell.md</td>\n",
       "      <td>2024-03-31 12:05:27.275693</td>\n",
       "      <td>1</td>\n",
       "      <td>1191</td>\n",
       "      <td>5178</td>\n",
       "      <td>1</td>\n",
       "      <td>Part I</td>\n",
       "      <td>Chapter 2</td>\n",
       "      <td>Part I / Chapter 2</td>\n",
       "      <td>eng_retell</td>\n",
       "      <td>11969</td>\n",
       "    </tr>\n",
       "    <tr>\n",
       "      <th>eng_retell_2</th>\n",
       "      <td>eng_retell.md</td>\n",
       "      <td>2024-03-31 12:05:27.291693</td>\n",
       "      <td>2</td>\n",
       "      <td>1042</td>\n",
       "      <td>4464</td>\n",
       "      <td>2</td>\n",
       "      <td>Part I</td>\n",
       "      <td>Chapter 3</td>\n",
       "      <td>Part I / Chapter 3</td>\n",
       "      <td>eng_retell</td>\n",
       "      <td>23012</td>\n",
       "    </tr>\n",
       "    <tr>\n",
       "      <th>eng_retell_3</th>\n",
       "      <td>eng_retell.md</td>\n",
       "      <td>2024-03-31 12:05:27.305693</td>\n",
       "      <td>3</td>\n",
       "      <td>1098</td>\n",
       "      <td>4711</td>\n",
       "      <td>3</td>\n",
       "      <td>Part I</td>\n",
       "      <td>Chapter 4</td>\n",
       "      <td>Part I / Chapter 4</td>\n",
       "      <td>eng_retell</td>\n",
       "      <td>34111</td>\n",
       "    </tr>\n",
       "    <tr>\n",
       "      <th>eng_retell_4</th>\n",
       "      <td>eng_retell.md</td>\n",
       "      <td>2024-03-31 12:05:27.320693</td>\n",
       "      <td>4</td>\n",
       "      <td>954</td>\n",
       "      <td>3932</td>\n",
       "      <td>4</td>\n",
       "      <td>Part I</td>\n",
       "      <td>Chapter 5</td>\n",
       "      <td>Part I / Chapter 5</td>\n",
       "      <td>eng_retell</td>\n",
       "      <td>45066</td>\n",
       "    </tr>\n",
       "  </tbody>\n",
       "</table>\n",
       "</div>"
      ],
      "text/plain": [
       "                   filename                  timestamp  part_index  \\\n",
       "file_id                                                              \n",
       "eng_retell_0  eng_retell.md 2024-03-31 12:05:27.271693           0   \n",
       "eng_retell_1  eng_retell.md 2024-03-31 12:05:27.275693           1   \n",
       "eng_retell_2  eng_retell.md 2024-03-31 12:05:27.291693           2   \n",
       "eng_retell_3  eng_retell.md 2024-03-31 12:05:27.305693           3   \n",
       "eng_retell_4  eng_retell.md 2024-03-31 12:05:27.320693           4   \n",
       "\n",
       "              token_count  character_count  ordinal header_0   header_1  \\\n",
       "file_id                                                                   \n",
       "eng_retell_0          776             3295        0   Part I  Chapter 1   \n",
       "eng_retell_1         1191             5178        1   Part I  Chapter 2   \n",
       "eng_retell_2         1042             4464        2   Part I  Chapter 3   \n",
       "eng_retell_3         1098             4711        3   Part I  Chapter 4   \n",
       "eng_retell_4          954             3932        4   Part I  Chapter 5   \n",
       "\n",
       "                         headers        book  max_id  \n",
       "file_id                                               \n",
       "eng_retell_0  Part I / Chapter 1  eng_retell     777  \n",
       "eng_retell_1  Part I / Chapter 2  eng_retell   11969  \n",
       "eng_retell_2  Part I / Chapter 3  eng_retell   23012  \n",
       "eng_retell_3  Part I / Chapter 4  eng_retell   34111  \n",
       "eng_retell_4  Part I / Chapter 5  eng_retell   45066  "
      ]
     },
     "execution_count": 4,
     "metadata": {},
     "output_type": "execute_result"
    }
   ],
   "source": [
    "eng_retell_reader = CorpusReader(Path('./files/eng_retell.base.zip'))\n",
    "eng_retell = eng_retell_reader.get_toc().index\n",
    "eng_retell_reader.get_toc()[:5]"
   ]
  },
  {
   "cell_type": "markdown",
   "metadata": {},
   "source": [
    "#### Сorpus for Russian text:"
   ]
  },
  {
   "cell_type": "code",
   "execution_count": 5,
   "metadata": {
    "ExecuteTime": {
     "end_time": "2023-12-27T10:11:13.218878242Z",
     "start_time": "2023-12-27T10:10:58.758121653Z"
    }
   },
   "outputs": [
    {
     "data": {
      "application/vnd.jupyter.widget-view+json": {
       "model_id": "57aa31d42fff4f16b7905e0a3d58a103",
       "version_major": 2,
       "version_minor": 0
      },
      "text/plain": [
       "  0%|          | 0/1 [00:00<?, ?it/s]"
      ]
     },
     "metadata": {},
     "output_type": "display_data"
    }
   ],
   "source": [
    "CorpusBuilder.convert_interformat_folder_to_corpus(\n",
    "    Path('./files/ru_crime_and_puhishment.base.zip'),\n",
    "    Path('./source/book/ru'),\n",
    "    ['book'],\n",
    "    custom_guid_factory = lambda index: f'ru_book_{index}'\n",
    ")"
   ]
  },
  {
   "cell_type": "code",
   "execution_count": 6,
   "metadata": {
    "ExecuteTime": {
     "end_time": "2023-12-27T10:11:13.374289516Z",
     "start_time": "2023-12-27T10:11:13.224873451Z"
    }
   },
   "outputs": [
    {
     "data": {
      "text/html": [
       "<div>\n",
       "<style scoped>\n",
       "    .dataframe tbody tr th:only-of-type {\n",
       "        vertical-align: middle;\n",
       "    }\n",
       "\n",
       "    .dataframe tbody tr th {\n",
       "        vertical-align: top;\n",
       "    }\n",
       "\n",
       "    .dataframe thead th {\n",
       "        text-align: right;\n",
       "    }\n",
       "</style>\n",
       "<table border=\"1\" class=\"dataframe\">\n",
       "  <thead>\n",
       "    <tr style=\"text-align: right;\">\n",
       "      <th></th>\n",
       "      <th>filename</th>\n",
       "      <th>timestamp</th>\n",
       "      <th>part_index</th>\n",
       "      <th>token_count</th>\n",
       "      <th>character_count</th>\n",
       "      <th>ordinal</th>\n",
       "      <th>header_0</th>\n",
       "      <th>header_1</th>\n",
       "      <th>headers</th>\n",
       "      <th>book</th>\n",
       "      <th>max_id</th>\n",
       "    </tr>\n",
       "    <tr>\n",
       "      <th>file_id</th>\n",
       "      <th></th>\n",
       "      <th></th>\n",
       "      <th></th>\n",
       "      <th></th>\n",
       "      <th></th>\n",
       "      <th></th>\n",
       "      <th></th>\n",
       "      <th></th>\n",
       "      <th></th>\n",
       "      <th></th>\n",
       "      <th></th>\n",
       "    </tr>\n",
       "  </thead>\n",
       "  <tbody>\n",
       "    <tr>\n",
       "      <th>ru_book_0</th>\n",
       "      <td>ru_crime_and_punishment.md</td>\n",
       "      <td>2024-03-31 12:05:47.681693</td>\n",
       "      <td>0</td>\n",
       "      <td>3243</td>\n",
       "      <td>13794</td>\n",
       "      <td>0</td>\n",
       "      <td>ЧАСТЬ ПЕРВАЯ</td>\n",
       "      <td>I</td>\n",
       "      <td>ЧАСТЬ ПЕРВАЯ / I</td>\n",
       "      <td>ru_crime_and_punishment</td>\n",
       "      <td>3244</td>\n",
       "    </tr>\n",
       "    <tr>\n",
       "      <th>ru_book_1</th>\n",
       "      <td>ru_crime_and_punishment.md</td>\n",
       "      <td>2024-03-31 12:05:47.688693</td>\n",
       "      <td>1</td>\n",
       "      <td>7122</td>\n",
       "      <td>29360</td>\n",
       "      <td>1</td>\n",
       "      <td>ЧАСТЬ ПЕРВАЯ</td>\n",
       "      <td>II</td>\n",
       "      <td>ЧАСТЬ ПЕРВАЯ / II</td>\n",
       "      <td>ru_crime_and_punishment</td>\n",
       "      <td>20367</td>\n",
       "    </tr>\n",
       "    <tr>\n",
       "      <th>ru_book_2</th>\n",
       "      <td>ru_crime_and_punishment.md</td>\n",
       "      <td>2024-03-31 12:05:47.720693</td>\n",
       "      <td>2</td>\n",
       "      <td>5526</td>\n",
       "      <td>22721</td>\n",
       "      <td>2</td>\n",
       "      <td>ЧАСТЬ ПЕРВАЯ</td>\n",
       "      <td>III</td>\n",
       "      <td>ЧАСТЬ ПЕРВАЯ / III</td>\n",
       "      <td>ru_crime_and_punishment</td>\n",
       "      <td>35894</td>\n",
       "    </tr>\n",
       "    <tr>\n",
       "      <th>ru_book_3</th>\n",
       "      <td>ru_crime_and_punishment.md</td>\n",
       "      <td>2024-03-31 12:05:47.747693</td>\n",
       "      <td>3</td>\n",
       "      <td>5231</td>\n",
       "      <td>21071</td>\n",
       "      <td>3</td>\n",
       "      <td>ЧАСТЬ ПЕРВАЯ</td>\n",
       "      <td>IV</td>\n",
       "      <td>ЧАСТЬ ПЕРВАЯ / IV</td>\n",
       "      <td>ru_crime_and_punishment</td>\n",
       "      <td>51126</td>\n",
       "    </tr>\n",
       "    <tr>\n",
       "      <th>ru_book_4</th>\n",
       "      <td>ru_crime_and_punishment.md</td>\n",
       "      <td>2024-03-31 12:05:47.772693</td>\n",
       "      <td>4</td>\n",
       "      <td>4285</td>\n",
       "      <td>17322</td>\n",
       "      <td>4</td>\n",
       "      <td>ЧАСТЬ ПЕРВАЯ</td>\n",
       "      <td>V</td>\n",
       "      <td>ЧАСТЬ ПЕРВАЯ / V</td>\n",
       "      <td>ru_crime_and_punishment</td>\n",
       "      <td>65412</td>\n",
       "    </tr>\n",
       "  </tbody>\n",
       "</table>\n",
       "</div>"
      ],
      "text/plain": [
       "                             filename                  timestamp  part_index  \\\n",
       "file_id                                                                        \n",
       "ru_book_0  ru_crime_and_punishment.md 2024-03-31 12:05:47.681693           0   \n",
       "ru_book_1  ru_crime_and_punishment.md 2024-03-31 12:05:47.688693           1   \n",
       "ru_book_2  ru_crime_and_punishment.md 2024-03-31 12:05:47.720693           2   \n",
       "ru_book_3  ru_crime_and_punishment.md 2024-03-31 12:05:47.747693           3   \n",
       "ru_book_4  ru_crime_and_punishment.md 2024-03-31 12:05:47.772693           4   \n",
       "\n",
       "           token_count  character_count  ordinal      header_0 header_1  \\\n",
       "file_id                                                                   \n",
       "ru_book_0         3243            13794        0  ЧАСТЬ ПЕРВАЯ        I   \n",
       "ru_book_1         7122            29360        1  ЧАСТЬ ПЕРВАЯ       II   \n",
       "ru_book_2         5526            22721        2  ЧАСТЬ ПЕРВАЯ      III   \n",
       "ru_book_3         5231            21071        3  ЧАСТЬ ПЕРВАЯ       IV   \n",
       "ru_book_4         4285            17322        4  ЧАСТЬ ПЕРВАЯ        V   \n",
       "\n",
       "                      headers                     book  max_id  \n",
       "file_id                                                         \n",
       "ru_book_0    ЧАСТЬ ПЕРВАЯ / I  ru_crime_and_punishment    3244  \n",
       "ru_book_1   ЧАСТЬ ПЕРВАЯ / II  ru_crime_and_punishment   20367  \n",
       "ru_book_2  ЧАСТЬ ПЕРВАЯ / III  ru_crime_and_punishment   35894  \n",
       "ru_book_3   ЧАСТЬ ПЕРВАЯ / IV  ru_crime_and_punishment   51126  \n",
       "ru_book_4    ЧАСТЬ ПЕРВАЯ / V  ru_crime_and_punishment   65412  "
      ]
     },
     "execution_count": 6,
     "metadata": {},
     "output_type": "execute_result"
    }
   ],
   "source": [
    "ru_book_reader = CorpusReader(Path('./files/ru_crime_and_puhishment.base.zip'))\n",
    "ru_book = ru_book_reader.get_toc().index\n",
    "ru_book_reader.get_toc()[:5]"
   ]
  },
  {
   "cell_type": "markdown",
   "metadata": {},
   "source": [
    "#### Corpus for Russian retelling:"
   ]
  },
  {
   "cell_type": "code",
   "execution_count": 7,
   "metadata": {
    "ExecuteTime": {
     "end_time": "2023-12-27T10:11:15.647984626Z",
     "start_time": "2023-12-27T10:11:13.297490387Z"
    }
   },
   "outputs": [
    {
     "data": {
      "application/vnd.jupyter.widget-view+json": {
       "model_id": "05c29186921341a79225e90f25db14f5",
       "version_major": 2,
       "version_minor": 0
      },
      "text/plain": [
       "  0%|          | 0/1 [00:00<?, ?it/s]"
      ]
     },
     "metadata": {},
     "output_type": "display_data"
    }
   ],
   "source": [
    "CorpusBuilder.convert_interformat_folder_to_corpus(\n",
    "    Path('./files/ru_retell.base.zip'),\n",
    "    Path('./source/retell/ru'),\n",
    "    ['book'],\n",
    "    custom_guid_factory = lambda index: f'ru_retell_{index}'\n",
    "    )"
   ]
  },
  {
   "cell_type": "code",
   "execution_count": 8,
   "metadata": {
    "ExecuteTime": {
     "end_time": "2023-12-27T10:11:15.697244850Z",
     "start_time": "2023-12-27T10:11:15.652093330Z"
    }
   },
   "outputs": [
    {
     "data": {
      "text/html": [
       "<div>\n",
       "<style scoped>\n",
       "    .dataframe tbody tr th:only-of-type {\n",
       "        vertical-align: middle;\n",
       "    }\n",
       "\n",
       "    .dataframe tbody tr th {\n",
       "        vertical-align: top;\n",
       "    }\n",
       "\n",
       "    .dataframe thead th {\n",
       "        text-align: right;\n",
       "    }\n",
       "</style>\n",
       "<table border=\"1\" class=\"dataframe\">\n",
       "  <thead>\n",
       "    <tr style=\"text-align: right;\">\n",
       "      <th></th>\n",
       "      <th>filename</th>\n",
       "      <th>timestamp</th>\n",
       "      <th>part_index</th>\n",
       "      <th>token_count</th>\n",
       "      <th>character_count</th>\n",
       "      <th>ordinal</th>\n",
       "      <th>header_0</th>\n",
       "      <th>header_1</th>\n",
       "      <th>headers</th>\n",
       "      <th>book</th>\n",
       "      <th>max_id</th>\n",
       "    </tr>\n",
       "    <tr>\n",
       "      <th>file_id</th>\n",
       "      <th></th>\n",
       "      <th></th>\n",
       "      <th></th>\n",
       "      <th></th>\n",
       "      <th></th>\n",
       "      <th></th>\n",
       "      <th></th>\n",
       "      <th></th>\n",
       "      <th></th>\n",
       "      <th></th>\n",
       "      <th></th>\n",
       "    </tr>\n",
       "  </thead>\n",
       "  <tbody>\n",
       "    <tr>\n",
       "      <th>ru_retell_0</th>\n",
       "      <td>ru_retell.md</td>\n",
       "      <td>2024-03-31 12:06:42.880248</td>\n",
       "      <td>0</td>\n",
       "      <td>396</td>\n",
       "      <td>1814</td>\n",
       "      <td>0</td>\n",
       "      <td>Часть 1</td>\n",
       "      <td>Глава 1: Знакомство с Родионом</td>\n",
       "      <td>Часть 1 / Глава 1: Знакомство с Родионом</td>\n",
       "      <td>ru_retell</td>\n",
       "      <td>397</td>\n",
       "    </tr>\n",
       "    <tr>\n",
       "      <th>ru_retell_1</th>\n",
       "      <td>ru_retell.md</td>\n",
       "      <td>2024-03-31 12:06:42.884248</td>\n",
       "      <td>1</td>\n",
       "      <td>704</td>\n",
       "      <td>3090</td>\n",
       "      <td>1</td>\n",
       "      <td>Часть 1</td>\n",
       "      <td>Глава 2: Встреча с Мармеладовым</td>\n",
       "      <td>Часть 1 / Глава 2: Встреча с Мармеладовым</td>\n",
       "      <td>ru_retell</td>\n",
       "      <td>11102</td>\n",
       "    </tr>\n",
       "    <tr>\n",
       "      <th>ru_retell_2</th>\n",
       "      <td>ru_retell.md</td>\n",
       "      <td>2024-03-31 12:06:42.898249</td>\n",
       "      <td>2</td>\n",
       "      <td>280</td>\n",
       "      <td>1330</td>\n",
       "      <td>2</td>\n",
       "      <td>Часть 1</td>\n",
       "      <td>Глава 3: Письмо матери</td>\n",
       "      <td>Часть 1 / Глава 3: Письмо матери</td>\n",
       "      <td>ru_retell</td>\n",
       "      <td>21383</td>\n",
       "    </tr>\n",
       "    <tr>\n",
       "      <th>ru_retell_3</th>\n",
       "      <td>ru_retell.md</td>\n",
       "      <td>2024-03-31 12:06:42.911249</td>\n",
       "      <td>3</td>\n",
       "      <td>461</td>\n",
       "      <td>2020</td>\n",
       "      <td>3</td>\n",
       "      <td>Часть 1</td>\n",
       "      <td>Глава 4: Мысли о сестре</td>\n",
       "      <td>Часть 1 / Глава 4: Мысли о сестре</td>\n",
       "      <td>ru_retell</td>\n",
       "      <td>31845</td>\n",
       "    </tr>\n",
       "    <tr>\n",
       "      <th>ru_retell_4</th>\n",
       "      <td>ru_retell.md</td>\n",
       "      <td>2024-03-31 12:06:42.924248</td>\n",
       "      <td>4</td>\n",
       "      <td>193</td>\n",
       "      <td>892</td>\n",
       "      <td>4</td>\n",
       "      <td>Часть 1</td>\n",
       "      <td>Глава 5: Сон Раскольникова</td>\n",
       "      <td>Часть 1 / Глава 5: Сон Раскольникова</td>\n",
       "      <td>ru_retell</td>\n",
       "      <td>42039</td>\n",
       "    </tr>\n",
       "  </tbody>\n",
       "</table>\n",
       "</div>"
      ],
      "text/plain": [
       "                 filename                  timestamp  part_index  token_count  \\\n",
       "file_id                                                                         \n",
       "ru_retell_0  ru_retell.md 2024-03-31 12:06:42.880248           0          396   \n",
       "ru_retell_1  ru_retell.md 2024-03-31 12:06:42.884248           1          704   \n",
       "ru_retell_2  ru_retell.md 2024-03-31 12:06:42.898249           2          280   \n",
       "ru_retell_3  ru_retell.md 2024-03-31 12:06:42.911249           3          461   \n",
       "ru_retell_4  ru_retell.md 2024-03-31 12:06:42.924248           4          193   \n",
       "\n",
       "             character_count  ordinal header_0  \\\n",
       "file_id                                          \n",
       "ru_retell_0             1814        0  Часть 1   \n",
       "ru_retell_1             3090        1  Часть 1   \n",
       "ru_retell_2             1330        2  Часть 1   \n",
       "ru_retell_3             2020        3  Часть 1   \n",
       "ru_retell_4              892        4  Часть 1   \n",
       "\n",
       "                                    header_1  \\\n",
       "file_id                                        \n",
       "ru_retell_0   Глава 1: Знакомство с Родионом   \n",
       "ru_retell_1  Глава 2: Встреча с Мармеладовым   \n",
       "ru_retell_2           Глава 3: Письмо матери   \n",
       "ru_retell_3          Глава 4: Мысли о сестре   \n",
       "ru_retell_4       Глава 5: Сон Раскольникова   \n",
       "\n",
       "                                               headers       book  max_id  \n",
       "file_id                                                                    \n",
       "ru_retell_0   Часть 1 / Глава 1: Знакомство с Родионом  ru_retell     397  \n",
       "ru_retell_1  Часть 1 / Глава 2: Встреча с Мармеладовым  ru_retell   11102  \n",
       "ru_retell_2           Часть 1 / Глава 3: Письмо матери  ru_retell   21383  \n",
       "ru_retell_3          Часть 1 / Глава 4: Мысли о сестре  ru_retell   31845  \n",
       "ru_retell_4       Часть 1 / Глава 5: Сон Раскольникова  ru_retell   42039  "
      ]
     },
     "execution_count": 8,
     "metadata": {},
     "output_type": "execute_result"
    }
   ],
   "source": [
    "ru_retell_reader = CorpusReader(Path('./files/ru_retell.base.zip'))\n",
    "ru_retell = ru_retell_reader.get_toc().index\n",
    "ru_retell_reader.get_toc()[:5]"
   ]
  },
  {
   "cell_type": "markdown",
   "metadata": {},
   "source": [
    "Next, we form a parallel corpus"
   ]
  },
  {
   "cell_type": "code",
   "execution_count": 9,
   "metadata": {
    "ExecuteTime": {
     "end_time": "2023-12-27T10:11:15.802079118Z",
     "start_time": "2023-12-27T10:11:15.693570783Z"
    }
   },
   "outputs": [],
   "source": [
    "import pandas as pd\n",
    "\n",
    "def add_relation(df_1,df_2,name_1,name_2):\n",
    "    rel_1 = pd.DataFrame({'file_1':df_1, 'file_2':df_2,'relation_name':f\"{name_1}_{name_2}\"})\n",
    "    rel_2 = pd.DataFrame({'file_1':df_2, 'file_2':df_1,'relation_name':f\"{name_2}_{name_1}\"})\n",
    "    rel = pd.concat([rel_1,rel_2])\n",
    "    return rel\n",
    "\n",
    "def add_dfs(name):\n",
    "    frames = list(name.get_frames())\n",
    "    dfs = dict(zip(name.get_toc().index,frames))\n",
    "\n",
    "    return dfs"
   ]
  },
  {
   "cell_type": "code",
   "execution_count": 10,
   "metadata": {
    "ExecuteTime": {
     "end_time": "2023-12-27T10:11:24.178484376Z",
     "start_time": "2023-12-27T10:11:15.737510951Z"
    }
   },
   "outputs": [],
   "source": [
    "CorpusBuilder.update_parallel_data(\n",
    "    Path('./files/parallel_corpus.zip'),\n",
    "    add_dfs(ru_book_reader),\n",
    "    \"ru_book\",\n",
    "    None)\n",
    "\n",
    "CorpusBuilder.update_parallel_data(\n",
    "    Path('./files/parallel_corpus.zip'),\n",
    "    add_dfs(ru_retell_reader),\n",
    "    \"ru_retell\",\n",
    "    add_relation(ru_book_reader.get_toc().index,ru_retell_reader.get_toc().index,\"ru_book\",\"ru_retell\"))\n",
    "\n",
    "CorpusBuilder.update_parallel_data(\n",
    "    Path('./files/parallel_corpus.zip'),\n",
    "    add_dfs(eng_book_reader),\n",
    "    \"eng_book\",\n",
    "    add_relation(ru_book_reader.get_toc().index,eng_book_reader.get_toc().index,\"ru_book\",\"eng_book\"))\n",
    "\n",
    "\n",
    "CorpusBuilder.update_parallel_data(\n",
    "    Path('./files/parallel_corpus.zip'),\n",
    "    add_dfs(eng_retell_reader),\n",
    "    \"eng_retell\",\n",
    "    add_relation(eng_book_reader.get_toc().index,eng_retell_reader.get_toc().index,\"eng_book\",\"eng_retell\"))\n",
    "\n"
   ]
  },
  {
   "cell_type": "markdown",
   "metadata": {},
   "source": [
    "We check that all parts have been successfully recorded"
   ]
  },
  {
   "cell_type": "code",
   "execution_count": 11,
   "metadata": {
    "ExecuteTime": {
     "end_time": "2023-12-27T10:11:24.202616716Z",
     "start_time": "2023-12-27T10:11:24.181180370Z"
    }
   },
   "outputs": [
    {
     "data": {
      "text/plain": [
       "array(['ru_book', 'ru_retell', 'eng_book', 'eng_retell'], dtype=object)"
      ]
     },
     "execution_count": 11,
     "metadata": {},
     "output_type": "execute_result"
    }
   ],
   "source": [
    "reader = CorpusReader(Path('./files/parallel_corpus.zip'))\n",
    "\n",
    "df = reader.get_toc()\n",
    "\n",
    "df.subcorpus_name.unique()"
   ]
  },
  {
   "cell_type": "markdown",
   "metadata": {},
   "source": [
    "## Translate text"
   ]
  },
  {
   "cell_type": "code",
   "execution_count": 12,
   "metadata": {
    "ExecuteTime": {
     "end_time": "2023-12-27T10:11:24.223443617Z",
     "start_time": "2023-12-27T10:11:24.200518817Z"
    }
   },
   "outputs": [],
   "source": [
    "path_parallel_corpus = Path('./files/parallel_corpus.zip')"
   ]
  },
  {
   "cell_type": "code",
   "execution_count": 13,
   "metadata": {
    "ExecuteTime": {
     "end_time": "2023-12-27T10:12:34.800301835Z",
     "start_time": "2023-12-27T10:12:11.969197975Z"
    }
   },
   "outputs": [
    {
     "data": {
      "application/vnd.jupyter.widget-view+json": {
       "model_id": "adf29c71ce01469193453e682dbfac37",
       "version_major": 2,
       "version_minor": 0
      },
      "text/plain": [
       "  0%|          | 0/1 [00:00<?, ?it/s]"
      ]
     },
     "metadata": {},
     "output_type": "display_data"
    }
   ],
   "source": [
    "from ca.utils_translate import translate_subcorpus\n",
    "\n",
    "translate_subcorpus(path_parallel_corpus,\"eng_retell\")"
   ]
  },
  {
   "cell_type": "code",
   "execution_count": 14,
   "metadata": {
    "ExecuteTime": {
     "end_time": "2023-12-27T10:12:37.079624810Z",
     "start_time": "2023-12-27T10:12:37.046708502Z"
    }
   },
   "outputs": [
    {
     "data": {
      "text/plain": [
       "array(['ru_book', 'ru_retell', 'eng_book', 'eng_retell', 'ru_translate'],\n",
       "      dtype=object)"
      ]
     },
     "execution_count": 14,
     "metadata": {},
     "output_type": "execute_result"
    }
   ],
   "source": [
    "reader = CorpusReader(Path('./files/parallel_corpus.zip'))\n",
    "\n",
    "df = reader.get_toc()\n",
    "\n",
    "df.subcorpus_name.unique()"
   ]
  },
  {
   "cell_type": "markdown",
   "metadata": {},
   "source": [
    "### Remove Corpuses"
   ]
  },
  {
   "cell_type": "code",
   "execution_count": 15,
   "metadata": {
    "ExecuteTime": {
     "end_time": "2023-12-27T11:27:10.090582428Z",
     "start_time": "2023-12-27T11:27:10.089352836Z"
    }
   },
   "outputs": [],
   "source": [
    "import os\n",
    "from pathlib import Path\n",
    "\n",
    "os.remove(Path('./files/eng_crime_and_puhishment.base.zip'))\n",
    "os.remove(Path('./files/eng_retell.base.zip'))\n",
    "os.remove(Path('./files/ru_crime_and_puhishment.base.zip'))\n",
    "os.remove(Path('./files/ru_retell.base.zip'))\n",
    "os.remove(Path('./files/translate.base.zip'))"
   ]
  }
 ],
 "metadata": {
  "kernelspec": {
   "display_name": "Python 3 (ipykernel)",
   "language": "python",
   "name": "python3"
  },
  "language_info": {
   "codemirror_mode": {
    "name": "ipython",
    "version": 3
   },
   "file_extension": ".py",
   "mimetype": "text/x-python",
   "name": "python",
   "nbconvert_exporter": "python",
   "pygments_lexer": "ipython3",
   "version": "3.8.18"
  }
 },
 "nbformat": 4,
 "nbformat_minor": 2
}
