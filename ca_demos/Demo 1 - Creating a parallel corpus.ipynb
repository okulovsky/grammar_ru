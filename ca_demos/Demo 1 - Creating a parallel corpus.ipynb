{
 "cells": [
  {
   "cell_type": "markdown",
   "metadata": {},
   "source": [
    "# Creative Articulator \n",
    "\n",
    "## Overview"
   ]
  },
  {
   "cell_type": "markdown",
   "metadata": {},
   "source": [
    "In this demo, we will look at all the processes in Creative Articulator namely:\n",
    " - the creation of a parallel corpus\n",
    " - the division of text into fragments \n",
    " - translation of text."
   ]
  },
  {
   "cell_type": "markdown",
   "metadata": {},
   "source": [
    "## Parallel corpus\n",
    "\n",
    "A parallel corpus is a handy tool that allows you to link parts from different corpus. With it, all the corpus will be stored in a single zip file.\n",
    "\n",
    "In this demonstration, we will work with texts and retellings of Fyodor Mikhailovich Dostoevsky's novel Crime and Punishment, which are located in the `sourse` folder.\n",
    "\n",
    "\n",
    "The first step is to create a corpus of texts and retellings that are stored in md format."
   ]
  },
  {
   "cell_type": "markdown",
   "metadata": {},
   "source": [
    "#### Сorpus for English text:"
   ]
  },
  {
   "cell_type": "code",
   "execution_count": 1,
   "metadata": {
    "ExecuteTime": {
     "end_time": "2023-12-27T10:08:12.798956256Z",
     "start_time": "2023-12-27T10:07:58.229463647Z"
    }
   },
   "outputs": [
    {
     "data": {
      "application/vnd.jupyter.widget-view+json": {
       "model_id": "9dc26bd33b604239ba71813914c74dfe",
       "version_major": 2,
       "version_minor": 0
      },
      "text/plain": [
       "  0%|          | 0/1 [00:00<?, ?it/s]"
      ]
     },
     "metadata": {},
     "output_type": "display_data"
    }
   ],
   "source": [
    "from grammar_ru.corpus import CorpusBuilder\n",
    "from pathlib import Path\n",
    "\n",
    "\n",
    "CorpusBuilder.convert_interformat_folder_to_corpus(\n",
    "    Path('./files/eng_crime_and_puhishment.base.zip'),\n",
    "    Path('./source/book/eng'),\n",
    "    ['book']\n",
    ")\n"
   ]
  },
  {
   "cell_type": "code",
   "execution_count": 2,
   "metadata": {
    "ExecuteTime": {
     "end_time": "2023-12-27T10:10:49.581536158Z",
     "start_time": "2023-12-27T10:10:49.492842709Z"
    }
   },
   "outputs": [
    {
     "data": {
      "text/html": [
       "<div>\n",
       "<style scoped>\n",
       "    .dataframe tbody tr th:only-of-type {\n",
       "        vertical-align: middle;\n",
       "    }\n",
       "\n",
       "    .dataframe tbody tr th {\n",
       "        vertical-align: top;\n",
       "    }\n",
       "\n",
       "    .dataframe thead th {\n",
       "        text-align: right;\n",
       "    }\n",
       "</style>\n",
       "<table border=\"1\" class=\"dataframe\">\n",
       "  <thead>\n",
       "    <tr style=\"text-align: right;\">\n",
       "      <th></th>\n",
       "      <th>filename</th>\n",
       "      <th>timestamp</th>\n",
       "      <th>part_index</th>\n",
       "      <th>token_count</th>\n",
       "      <th>character_count</th>\n",
       "      <th>ordinal</th>\n",
       "      <th>header_0</th>\n",
       "      <th>header_1</th>\n",
       "      <th>headers</th>\n",
       "      <th>book</th>\n",
       "      <th>max_id</th>\n",
       "    </tr>\n",
       "    <tr>\n",
       "      <th>file_id</th>\n",
       "      <th></th>\n",
       "      <th></th>\n",
       "      <th></th>\n",
       "      <th></th>\n",
       "      <th></th>\n",
       "      <th></th>\n",
       "      <th></th>\n",
       "      <th></th>\n",
       "      <th></th>\n",
       "      <th></th>\n",
       "      <th></th>\n",
       "    </tr>\n",
       "  </thead>\n",
       "  <tbody>\n",
       "    <tr>\n",
       "      <th>25107a73-3506-42f4-8cd4-25cf70535747</th>\n",
       "      <td>eng_crime_and_punishment.md</td>\n",
       "      <td>2024-03-30 15:49:43.545227</td>\n",
       "      <td>0</td>\n",
       "      <td>4028</td>\n",
       "      <td>15089</td>\n",
       "      <td>0</td>\n",
       "      <td>Part One</td>\n",
       "      <td>I</td>\n",
       "      <td>Part One / I</td>\n",
       "      <td>eng_crime_and_punishment</td>\n",
       "      <td>4029</td>\n",
       "    </tr>\n",
       "    <tr>\n",
       "      <th>5c009685-0056-421a-aad4-f6c579e3c2d0</th>\n",
       "      <td>eng_crime_and_punishment.md</td>\n",
       "      <td>2024-03-30 15:49:43.558227</td>\n",
       "      <td>1</td>\n",
       "      <td>8965</td>\n",
       "      <td>32957</td>\n",
       "      <td>1</td>\n",
       "      <td>Part One</td>\n",
       "      <td>II</td>\n",
       "      <td>Part One / II</td>\n",
       "      <td>eng_crime_and_punishment</td>\n",
       "      <td>22995</td>\n",
       "    </tr>\n",
       "    <tr>\n",
       "      <th>9a5bc191-da76-46de-bdbd-c6cdd16206fa</th>\n",
       "      <td>eng_crime_and_punishment.md</td>\n",
       "      <td>2024-03-30 15:49:43.579227</td>\n",
       "      <td>2</td>\n",
       "      <td>6439</td>\n",
       "      <td>24251</td>\n",
       "      <td>2</td>\n",
       "      <td>Part One</td>\n",
       "      <td>III</td>\n",
       "      <td>Part One / III</td>\n",
       "      <td>eng_crime_and_punishment</td>\n",
       "      <td>39435</td>\n",
       "    </tr>\n",
       "    <tr>\n",
       "      <th>ed93829c-6110-4d26-b76c-85f2dbd18194</th>\n",
       "      <td>eng_crime_and_punishment.md</td>\n",
       "      <td>2024-03-30 15:49:43.596227</td>\n",
       "      <td>3</td>\n",
       "      <td>6473</td>\n",
       "      <td>23395</td>\n",
       "      <td>3</td>\n",
       "      <td>Part One</td>\n",
       "      <td>IV</td>\n",
       "      <td>Part One / IV</td>\n",
       "      <td>eng_crime_and_punishment</td>\n",
       "      <td>55909</td>\n",
       "    </tr>\n",
       "    <tr>\n",
       "      <th>268d3381-533c-4aa2-9d57-7715aa293e29</th>\n",
       "      <td>eng_crime_and_punishment.md</td>\n",
       "      <td>2024-03-30 15:49:43.613226</td>\n",
       "      <td>4</td>\n",
       "      <td>5342</td>\n",
       "      <td>19413</td>\n",
       "      <td>4</td>\n",
       "      <td>Part One</td>\n",
       "      <td>V</td>\n",
       "      <td>Part One / V</td>\n",
       "      <td>eng_crime_and_punishment</td>\n",
       "      <td>71252</td>\n",
       "    </tr>\n",
       "  </tbody>\n",
       "</table>\n",
       "</div>"
      ],
      "text/plain": [
       "                                                         filename  \\\n",
       "file_id                                                             \n",
       "25107a73-3506-42f4-8cd4-25cf70535747  eng_crime_and_punishment.md   \n",
       "5c009685-0056-421a-aad4-f6c579e3c2d0  eng_crime_and_punishment.md   \n",
       "9a5bc191-da76-46de-bdbd-c6cdd16206fa  eng_crime_and_punishment.md   \n",
       "ed93829c-6110-4d26-b76c-85f2dbd18194  eng_crime_and_punishment.md   \n",
       "268d3381-533c-4aa2-9d57-7715aa293e29  eng_crime_and_punishment.md   \n",
       "\n",
       "                                                      timestamp  part_index  \\\n",
       "file_id                                                                       \n",
       "25107a73-3506-42f4-8cd4-25cf70535747 2024-03-30 15:49:43.545227           0   \n",
       "5c009685-0056-421a-aad4-f6c579e3c2d0 2024-03-30 15:49:43.558227           1   \n",
       "9a5bc191-da76-46de-bdbd-c6cdd16206fa 2024-03-30 15:49:43.579227           2   \n",
       "ed93829c-6110-4d26-b76c-85f2dbd18194 2024-03-30 15:49:43.596227           3   \n",
       "268d3381-533c-4aa2-9d57-7715aa293e29 2024-03-30 15:49:43.613226           4   \n",
       "\n",
       "                                      token_count  character_count  ordinal  \\\n",
       "file_id                                                                       \n",
       "25107a73-3506-42f4-8cd4-25cf70535747         4028            15089        0   \n",
       "5c009685-0056-421a-aad4-f6c579e3c2d0         8965            32957        1   \n",
       "9a5bc191-da76-46de-bdbd-c6cdd16206fa         6439            24251        2   \n",
       "ed93829c-6110-4d26-b76c-85f2dbd18194         6473            23395        3   \n",
       "268d3381-533c-4aa2-9d57-7715aa293e29         5342            19413        4   \n",
       "\n",
       "                                      header_0 header_1         headers  \\\n",
       "file_id                                                                   \n",
       "25107a73-3506-42f4-8cd4-25cf70535747  Part One        I    Part One / I   \n",
       "5c009685-0056-421a-aad4-f6c579e3c2d0  Part One       II   Part One / II   \n",
       "9a5bc191-da76-46de-bdbd-c6cdd16206fa  Part One      III  Part One / III   \n",
       "ed93829c-6110-4d26-b76c-85f2dbd18194  Part One       IV   Part One / IV   \n",
       "268d3381-533c-4aa2-9d57-7715aa293e29  Part One        V    Part One / V   \n",
       "\n",
       "                                                          book  max_id  \n",
       "file_id                                                                 \n",
       "25107a73-3506-42f4-8cd4-25cf70535747  eng_crime_and_punishment    4029  \n",
       "5c009685-0056-421a-aad4-f6c579e3c2d0  eng_crime_and_punishment   22995  \n",
       "9a5bc191-da76-46de-bdbd-c6cdd16206fa  eng_crime_and_punishment   39435  \n",
       "ed93829c-6110-4d26-b76c-85f2dbd18194  eng_crime_and_punishment   55909  \n",
       "268d3381-533c-4aa2-9d57-7715aa293e29  eng_crime_and_punishment   71252  "
      ]
     },
     "execution_count": 2,
     "metadata": {},
     "output_type": "execute_result"
    }
   ],
   "source": [
    "from grammar_ru.corpus import CorpusReader\n",
    "\n",
    "\n",
    "eng_book_reader = CorpusReader(Path('./files/eng_crime_and_puhishment.base.zip'))\n",
    "eng_book = eng_book_reader.get_toc().index\n",
    "\n",
    "eng_book_reader.get_toc()[:5]"
   ]
  },
  {
   "cell_type": "markdown",
   "metadata": {},
   "source": [
    "#### Corpus for English retelling:"
   ]
  },
  {
   "cell_type": "code",
   "execution_count": 3,
   "metadata": {
    "ExecuteTime": {
     "end_time": "2023-12-27T10:10:58.738525631Z",
     "start_time": "2023-12-27T10:10:52.219412569Z"
    }
   },
   "outputs": [
    {
     "data": {
      "application/vnd.jupyter.widget-view+json": {
       "model_id": "6cec74d6eb75493c94e8b28b3f114904",
       "version_major": 2,
       "version_minor": 0
      },
      "text/plain": [
       "  0%|          | 0/1 [00:00<?, ?it/s]"
      ]
     },
     "metadata": {},
     "output_type": "display_data"
    }
   ],
   "source": [
    "CorpusBuilder.convert_interformat_folder_to_corpus(\n",
    "    Path('./files/eng_retell.base.zip'),\n",
    "    Path('./source/retell/eng'),\n",
    "    ['book']\n",
    ")"
   ]
  },
  {
   "cell_type": "code",
   "execution_count": 4,
   "metadata": {
    "ExecuteTime": {
     "end_time": "2023-12-27T10:10:58.755700800Z",
     "start_time": "2023-12-27T10:10:58.738101794Z"
    }
   },
   "outputs": [
    {
     "data": {
      "text/html": [
       "<div>\n",
       "<style scoped>\n",
       "    .dataframe tbody tr th:only-of-type {\n",
       "        vertical-align: middle;\n",
       "    }\n",
       "\n",
       "    .dataframe tbody tr th {\n",
       "        vertical-align: top;\n",
       "    }\n",
       "\n",
       "    .dataframe thead th {\n",
       "        text-align: right;\n",
       "    }\n",
       "</style>\n",
       "<table border=\"1\" class=\"dataframe\">\n",
       "  <thead>\n",
       "    <tr style=\"text-align: right;\">\n",
       "      <th></th>\n",
       "      <th>filename</th>\n",
       "      <th>timestamp</th>\n",
       "      <th>part_index</th>\n",
       "      <th>token_count</th>\n",
       "      <th>character_count</th>\n",
       "      <th>ordinal</th>\n",
       "      <th>header_0</th>\n",
       "      <th>header_1</th>\n",
       "      <th>headers</th>\n",
       "      <th>book</th>\n",
       "      <th>max_id</th>\n",
       "    </tr>\n",
       "    <tr>\n",
       "      <th>file_id</th>\n",
       "      <th></th>\n",
       "      <th></th>\n",
       "      <th></th>\n",
       "      <th></th>\n",
       "      <th></th>\n",
       "      <th></th>\n",
       "      <th></th>\n",
       "      <th></th>\n",
       "      <th></th>\n",
       "      <th></th>\n",
       "      <th></th>\n",
       "    </tr>\n",
       "  </thead>\n",
       "  <tbody>\n",
       "    <tr>\n",
       "      <th>fa5a2451-7eb8-4872-80b7-0cb5b0b02d18</th>\n",
       "      <td>eng_retell.md</td>\n",
       "      <td>2024-03-30 15:49:46.614792</td>\n",
       "      <td>0</td>\n",
       "      <td>776</td>\n",
       "      <td>3295</td>\n",
       "      <td>0</td>\n",
       "      <td>Part I</td>\n",
       "      <td>Chapter 1</td>\n",
       "      <td>Part I / Chapter 1</td>\n",
       "      <td>eng_retell</td>\n",
       "      <td>777</td>\n",
       "    </tr>\n",
       "    <tr>\n",
       "      <th>2ee63fc9-4a07-46c4-b3b4-c131199a5da9</th>\n",
       "      <td>eng_retell.md</td>\n",
       "      <td>2024-03-30 15:49:46.618792</td>\n",
       "      <td>1</td>\n",
       "      <td>1191</td>\n",
       "      <td>5178</td>\n",
       "      <td>1</td>\n",
       "      <td>Part I</td>\n",
       "      <td>Chapter 2</td>\n",
       "      <td>Part I / Chapter 2</td>\n",
       "      <td>eng_retell</td>\n",
       "      <td>11969</td>\n",
       "    </tr>\n",
       "    <tr>\n",
       "      <th>04882510-a03b-4414-b44c-5f93469e7641</th>\n",
       "      <td>eng_retell.md</td>\n",
       "      <td>2024-03-30 15:49:46.634792</td>\n",
       "      <td>2</td>\n",
       "      <td>1042</td>\n",
       "      <td>4464</td>\n",
       "      <td>2</td>\n",
       "      <td>Part I</td>\n",
       "      <td>Chapter 3</td>\n",
       "      <td>Part I / Chapter 3</td>\n",
       "      <td>eng_retell</td>\n",
       "      <td>23012</td>\n",
       "    </tr>\n",
       "    <tr>\n",
       "      <th>e241242c-60dd-4ba8-9ac5-e5e3d6155897</th>\n",
       "      <td>eng_retell.md</td>\n",
       "      <td>2024-03-30 15:49:46.649792</td>\n",
       "      <td>3</td>\n",
       "      <td>1098</td>\n",
       "      <td>4711</td>\n",
       "      <td>3</td>\n",
       "      <td>Part I</td>\n",
       "      <td>Chapter 4</td>\n",
       "      <td>Part I / Chapter 4</td>\n",
       "      <td>eng_retell</td>\n",
       "      <td>34111</td>\n",
       "    </tr>\n",
       "    <tr>\n",
       "      <th>ef0722e1-f963-4f2b-9565-53812544ada6</th>\n",
       "      <td>eng_retell.md</td>\n",
       "      <td>2024-03-30 15:49:46.664792</td>\n",
       "      <td>4</td>\n",
       "      <td>954</td>\n",
       "      <td>3932</td>\n",
       "      <td>4</td>\n",
       "      <td>Part I</td>\n",
       "      <td>Chapter 5</td>\n",
       "      <td>Part I / Chapter 5</td>\n",
       "      <td>eng_retell</td>\n",
       "      <td>45066</td>\n",
       "    </tr>\n",
       "  </tbody>\n",
       "</table>\n",
       "</div>"
      ],
      "text/plain": [
       "                                           filename  \\\n",
       "file_id                                               \n",
       "fa5a2451-7eb8-4872-80b7-0cb5b0b02d18  eng_retell.md   \n",
       "2ee63fc9-4a07-46c4-b3b4-c131199a5da9  eng_retell.md   \n",
       "04882510-a03b-4414-b44c-5f93469e7641  eng_retell.md   \n",
       "e241242c-60dd-4ba8-9ac5-e5e3d6155897  eng_retell.md   \n",
       "ef0722e1-f963-4f2b-9565-53812544ada6  eng_retell.md   \n",
       "\n",
       "                                                      timestamp  part_index  \\\n",
       "file_id                                                                       \n",
       "fa5a2451-7eb8-4872-80b7-0cb5b0b02d18 2024-03-30 15:49:46.614792           0   \n",
       "2ee63fc9-4a07-46c4-b3b4-c131199a5da9 2024-03-30 15:49:46.618792           1   \n",
       "04882510-a03b-4414-b44c-5f93469e7641 2024-03-30 15:49:46.634792           2   \n",
       "e241242c-60dd-4ba8-9ac5-e5e3d6155897 2024-03-30 15:49:46.649792           3   \n",
       "ef0722e1-f963-4f2b-9565-53812544ada6 2024-03-30 15:49:46.664792           4   \n",
       "\n",
       "                                      token_count  character_count  ordinal  \\\n",
       "file_id                                                                       \n",
       "fa5a2451-7eb8-4872-80b7-0cb5b0b02d18          776             3295        0   \n",
       "2ee63fc9-4a07-46c4-b3b4-c131199a5da9         1191             5178        1   \n",
       "04882510-a03b-4414-b44c-5f93469e7641         1042             4464        2   \n",
       "e241242c-60dd-4ba8-9ac5-e5e3d6155897         1098             4711        3   \n",
       "ef0722e1-f963-4f2b-9565-53812544ada6          954             3932        4   \n",
       "\n",
       "                                     header_0   header_1             headers  \\\n",
       "file_id                                                                        \n",
       "fa5a2451-7eb8-4872-80b7-0cb5b0b02d18   Part I  Chapter 1  Part I / Chapter 1   \n",
       "2ee63fc9-4a07-46c4-b3b4-c131199a5da9   Part I  Chapter 2  Part I / Chapter 2   \n",
       "04882510-a03b-4414-b44c-5f93469e7641   Part I  Chapter 3  Part I / Chapter 3   \n",
       "e241242c-60dd-4ba8-9ac5-e5e3d6155897   Part I  Chapter 4  Part I / Chapter 4   \n",
       "ef0722e1-f963-4f2b-9565-53812544ada6   Part I  Chapter 5  Part I / Chapter 5   \n",
       "\n",
       "                                            book  max_id  \n",
       "file_id                                                   \n",
       "fa5a2451-7eb8-4872-80b7-0cb5b0b02d18  eng_retell     777  \n",
       "2ee63fc9-4a07-46c4-b3b4-c131199a5da9  eng_retell   11969  \n",
       "04882510-a03b-4414-b44c-5f93469e7641  eng_retell   23012  \n",
       "e241242c-60dd-4ba8-9ac5-e5e3d6155897  eng_retell   34111  \n",
       "ef0722e1-f963-4f2b-9565-53812544ada6  eng_retell   45066  "
      ]
     },
     "execution_count": 4,
     "metadata": {},
     "output_type": "execute_result"
    }
   ],
   "source": [
    "eng_retell_reader = CorpusReader(Path('./files/eng_retell.base.zip'))\n",
    "eng_retell = eng_retell_reader.get_toc().index\n",
    "eng_retell_reader.get_toc()[:5]"
   ]
  },
  {
   "cell_type": "markdown",
   "metadata": {},
   "source": [
    "#### Сorpus for Russian text:"
   ]
  },
  {
   "cell_type": "code",
   "execution_count": 5,
   "metadata": {
    "ExecuteTime": {
     "end_time": "2023-12-27T10:11:13.218878242Z",
     "start_time": "2023-12-27T10:10:58.758121653Z"
    }
   },
   "outputs": [
    {
     "data": {
      "application/vnd.jupyter.widget-view+json": {
       "model_id": "25e7d0f484d74324a532a175ebc88d5d",
       "version_major": 2,
       "version_minor": 0
      },
      "text/plain": [
       "  0%|          | 0/1 [00:00<?, ?it/s]"
      ]
     },
     "metadata": {},
     "output_type": "display_data"
    }
   ],
   "source": [
    "CorpusBuilder.convert_interformat_folder_to_corpus(\n",
    "    Path('./files/ru_crime_and_puhishment.base.zip'),\n",
    "    Path('./source/book/ru'),\n",
    "    ['book']\n",
    ")"
   ]
  },
  {
   "cell_type": "code",
   "execution_count": 6,
   "metadata": {
    "ExecuteTime": {
     "end_time": "2023-12-27T10:11:13.374289516Z",
     "start_time": "2023-12-27T10:11:13.224873451Z"
    }
   },
   "outputs": [
    {
     "data": {
      "text/html": [
       "<div>\n",
       "<style scoped>\n",
       "    .dataframe tbody tr th:only-of-type {\n",
       "        vertical-align: middle;\n",
       "    }\n",
       "\n",
       "    .dataframe tbody tr th {\n",
       "        vertical-align: top;\n",
       "    }\n",
       "\n",
       "    .dataframe thead th {\n",
       "        text-align: right;\n",
       "    }\n",
       "</style>\n",
       "<table border=\"1\" class=\"dataframe\">\n",
       "  <thead>\n",
       "    <tr style=\"text-align: right;\">\n",
       "      <th></th>\n",
       "      <th>filename</th>\n",
       "      <th>timestamp</th>\n",
       "      <th>part_index</th>\n",
       "      <th>token_count</th>\n",
       "      <th>character_count</th>\n",
       "      <th>ordinal</th>\n",
       "      <th>header_0</th>\n",
       "      <th>header_1</th>\n",
       "      <th>headers</th>\n",
       "      <th>book</th>\n",
       "      <th>max_id</th>\n",
       "    </tr>\n",
       "    <tr>\n",
       "      <th>file_id</th>\n",
       "      <th></th>\n",
       "      <th></th>\n",
       "      <th></th>\n",
       "      <th></th>\n",
       "      <th></th>\n",
       "      <th></th>\n",
       "      <th></th>\n",
       "      <th></th>\n",
       "      <th></th>\n",
       "      <th></th>\n",
       "      <th></th>\n",
       "    </tr>\n",
       "  </thead>\n",
       "  <tbody>\n",
       "    <tr>\n",
       "      <th>8ce8c632-7e8f-40a3-850d-31924bf42ca5</th>\n",
       "      <td>ru_crime_and_punishment.md</td>\n",
       "      <td>2024-03-30 15:49:55.816047</td>\n",
       "      <td>0</td>\n",
       "      <td>3243</td>\n",
       "      <td>13794</td>\n",
       "      <td>0</td>\n",
       "      <td>ЧАСТЬ ПЕРВАЯ</td>\n",
       "      <td>I</td>\n",
       "      <td>ЧАСТЬ ПЕРВАЯ / I</td>\n",
       "      <td>ru_crime_and_punishment</td>\n",
       "      <td>3244</td>\n",
       "    </tr>\n",
       "    <tr>\n",
       "      <th>4c1b3705-7199-49a7-b7d8-44a2e7a7c37a</th>\n",
       "      <td>ru_crime_and_punishment.md</td>\n",
       "      <td>2024-03-30 15:49:55.823047</td>\n",
       "      <td>1</td>\n",
       "      <td>7122</td>\n",
       "      <td>29360</td>\n",
       "      <td>1</td>\n",
       "      <td>ЧАСТЬ ПЕРВАЯ</td>\n",
       "      <td>II</td>\n",
       "      <td>ЧАСТЬ ПЕРВАЯ / II</td>\n",
       "      <td>ru_crime_and_punishment</td>\n",
       "      <td>20367</td>\n",
       "    </tr>\n",
       "    <tr>\n",
       "      <th>c1f49617-5911-4bd4-8258-90c49f3d1cdc</th>\n",
       "      <td>ru_crime_and_punishment.md</td>\n",
       "      <td>2024-03-30 15:49:55.853120</td>\n",
       "      <td>2</td>\n",
       "      <td>5526</td>\n",
       "      <td>22721</td>\n",
       "      <td>2</td>\n",
       "      <td>ЧАСТЬ ПЕРВАЯ</td>\n",
       "      <td>III</td>\n",
       "      <td>ЧАСТЬ ПЕРВАЯ / III</td>\n",
       "      <td>ru_crime_and_punishment</td>\n",
       "      <td>35894</td>\n",
       "    </tr>\n",
       "    <tr>\n",
       "      <th>cc29bddf-1dd9-49a3-bc8d-7a323cc3f59c</th>\n",
       "      <td>ru_crime_and_punishment.md</td>\n",
       "      <td>2024-03-30 15:49:55.880047</td>\n",
       "      <td>3</td>\n",
       "      <td>5231</td>\n",
       "      <td>21071</td>\n",
       "      <td>3</td>\n",
       "      <td>ЧАСТЬ ПЕРВАЯ</td>\n",
       "      <td>IV</td>\n",
       "      <td>ЧАСТЬ ПЕРВАЯ / IV</td>\n",
       "      <td>ru_crime_and_punishment</td>\n",
       "      <td>51126</td>\n",
       "    </tr>\n",
       "    <tr>\n",
       "      <th>5e98b7f6-c134-4eee-bc45-df0ecf8a9459</th>\n",
       "      <td>ru_crime_and_punishment.md</td>\n",
       "      <td>2024-03-30 15:49:55.904048</td>\n",
       "      <td>4</td>\n",
       "      <td>4285</td>\n",
       "      <td>17322</td>\n",
       "      <td>4</td>\n",
       "      <td>ЧАСТЬ ПЕРВАЯ</td>\n",
       "      <td>V</td>\n",
       "      <td>ЧАСТЬ ПЕРВАЯ / V</td>\n",
       "      <td>ru_crime_and_punishment</td>\n",
       "      <td>65412</td>\n",
       "    </tr>\n",
       "  </tbody>\n",
       "</table>\n",
       "</div>"
      ],
      "text/plain": [
       "                                                        filename  \\\n",
       "file_id                                                            \n",
       "8ce8c632-7e8f-40a3-850d-31924bf42ca5  ru_crime_and_punishment.md   \n",
       "4c1b3705-7199-49a7-b7d8-44a2e7a7c37a  ru_crime_and_punishment.md   \n",
       "c1f49617-5911-4bd4-8258-90c49f3d1cdc  ru_crime_and_punishment.md   \n",
       "cc29bddf-1dd9-49a3-bc8d-7a323cc3f59c  ru_crime_and_punishment.md   \n",
       "5e98b7f6-c134-4eee-bc45-df0ecf8a9459  ru_crime_and_punishment.md   \n",
       "\n",
       "                                                      timestamp  part_index  \\\n",
       "file_id                                                                       \n",
       "8ce8c632-7e8f-40a3-850d-31924bf42ca5 2024-03-30 15:49:55.816047           0   \n",
       "4c1b3705-7199-49a7-b7d8-44a2e7a7c37a 2024-03-30 15:49:55.823047           1   \n",
       "c1f49617-5911-4bd4-8258-90c49f3d1cdc 2024-03-30 15:49:55.853120           2   \n",
       "cc29bddf-1dd9-49a3-bc8d-7a323cc3f59c 2024-03-30 15:49:55.880047           3   \n",
       "5e98b7f6-c134-4eee-bc45-df0ecf8a9459 2024-03-30 15:49:55.904048           4   \n",
       "\n",
       "                                      token_count  character_count  ordinal  \\\n",
       "file_id                                                                       \n",
       "8ce8c632-7e8f-40a3-850d-31924bf42ca5         3243            13794        0   \n",
       "4c1b3705-7199-49a7-b7d8-44a2e7a7c37a         7122            29360        1   \n",
       "c1f49617-5911-4bd4-8258-90c49f3d1cdc         5526            22721        2   \n",
       "cc29bddf-1dd9-49a3-bc8d-7a323cc3f59c         5231            21071        3   \n",
       "5e98b7f6-c134-4eee-bc45-df0ecf8a9459         4285            17322        4   \n",
       "\n",
       "                                          header_0 header_1  \\\n",
       "file_id                                                       \n",
       "8ce8c632-7e8f-40a3-850d-31924bf42ca5  ЧАСТЬ ПЕРВАЯ        I   \n",
       "4c1b3705-7199-49a7-b7d8-44a2e7a7c37a  ЧАСТЬ ПЕРВАЯ       II   \n",
       "c1f49617-5911-4bd4-8258-90c49f3d1cdc  ЧАСТЬ ПЕРВАЯ      III   \n",
       "cc29bddf-1dd9-49a3-bc8d-7a323cc3f59c  ЧАСТЬ ПЕРВАЯ       IV   \n",
       "5e98b7f6-c134-4eee-bc45-df0ecf8a9459  ЧАСТЬ ПЕРВАЯ        V   \n",
       "\n",
       "                                                 headers  \\\n",
       "file_id                                                    \n",
       "8ce8c632-7e8f-40a3-850d-31924bf42ca5    ЧАСТЬ ПЕРВАЯ / I   \n",
       "4c1b3705-7199-49a7-b7d8-44a2e7a7c37a   ЧАСТЬ ПЕРВАЯ / II   \n",
       "c1f49617-5911-4bd4-8258-90c49f3d1cdc  ЧАСТЬ ПЕРВАЯ / III   \n",
       "cc29bddf-1dd9-49a3-bc8d-7a323cc3f59c   ЧАСТЬ ПЕРВАЯ / IV   \n",
       "5e98b7f6-c134-4eee-bc45-df0ecf8a9459    ЧАСТЬ ПЕРВАЯ / V   \n",
       "\n",
       "                                                         book  max_id  \n",
       "file_id                                                                \n",
       "8ce8c632-7e8f-40a3-850d-31924bf42ca5  ru_crime_and_punishment    3244  \n",
       "4c1b3705-7199-49a7-b7d8-44a2e7a7c37a  ru_crime_and_punishment   20367  \n",
       "c1f49617-5911-4bd4-8258-90c49f3d1cdc  ru_crime_and_punishment   35894  \n",
       "cc29bddf-1dd9-49a3-bc8d-7a323cc3f59c  ru_crime_and_punishment   51126  \n",
       "5e98b7f6-c134-4eee-bc45-df0ecf8a9459  ru_crime_and_punishment   65412  "
      ]
     },
     "execution_count": 6,
     "metadata": {},
     "output_type": "execute_result"
    }
   ],
   "source": [
    "ru_book_reader = CorpusReader(Path('./files/ru_crime_and_puhishment.base.zip'))\n",
    "ru_book = ru_book_reader.get_toc().index\n",
    "ru_book_reader.get_toc()[:5]"
   ]
  },
  {
   "cell_type": "markdown",
   "metadata": {},
   "source": [
    "#### Corpus for Russian retelling:"
   ]
  },
  {
   "cell_type": "code",
   "execution_count": 7,
   "metadata": {
    "ExecuteTime": {
     "end_time": "2023-12-27T10:11:15.647984626Z",
     "start_time": "2023-12-27T10:11:13.297490387Z"
    }
   },
   "outputs": [
    {
     "data": {
      "application/vnd.jupyter.widget-view+json": {
       "model_id": "b813e862abb34fa7bea53c68f7f7291e",
       "version_major": 2,
       "version_minor": 0
      },
      "text/plain": [
       "  0%|          | 0/1 [00:00<?, ?it/s]"
      ]
     },
     "metadata": {},
     "output_type": "display_data"
    }
   ],
   "source": [
    "CorpusBuilder.convert_interformat_folder_to_corpus(\n",
    "    Path('./files/ru_retell.base.zip'),\n",
    "    Path('./source/retell/ru'),\n",
    "    ['book']\n",
    "    )"
   ]
  },
  {
   "cell_type": "code",
   "execution_count": 8,
   "metadata": {
    "ExecuteTime": {
     "end_time": "2023-12-27T10:11:15.697244850Z",
     "start_time": "2023-12-27T10:11:15.652093330Z"
    }
   },
   "outputs": [
    {
     "data": {
      "text/html": [
       "<div>\n",
       "<style scoped>\n",
       "    .dataframe tbody tr th:only-of-type {\n",
       "        vertical-align: middle;\n",
       "    }\n",
       "\n",
       "    .dataframe tbody tr th {\n",
       "        vertical-align: top;\n",
       "    }\n",
       "\n",
       "    .dataframe thead th {\n",
       "        text-align: right;\n",
       "    }\n",
       "</style>\n",
       "<table border=\"1\" class=\"dataframe\">\n",
       "  <thead>\n",
       "    <tr style=\"text-align: right;\">\n",
       "      <th></th>\n",
       "      <th>filename</th>\n",
       "      <th>timestamp</th>\n",
       "      <th>part_index</th>\n",
       "      <th>token_count</th>\n",
       "      <th>character_count</th>\n",
       "      <th>ordinal</th>\n",
       "      <th>header_0</th>\n",
       "      <th>header_1</th>\n",
       "      <th>headers</th>\n",
       "      <th>book</th>\n",
       "      <th>max_id</th>\n",
       "    </tr>\n",
       "    <tr>\n",
       "      <th>file_id</th>\n",
       "      <th></th>\n",
       "      <th></th>\n",
       "      <th></th>\n",
       "      <th></th>\n",
       "      <th></th>\n",
       "      <th></th>\n",
       "      <th></th>\n",
       "      <th></th>\n",
       "      <th></th>\n",
       "      <th></th>\n",
       "      <th></th>\n",
       "    </tr>\n",
       "  </thead>\n",
       "  <tbody>\n",
       "    <tr>\n",
       "      <th>03e9e420-c07c-447f-933e-8c22203b3293</th>\n",
       "      <td>ru_retell.md</td>\n",
       "      <td>2024-03-30 15:49:57.499147</td>\n",
       "      <td>0</td>\n",
       "      <td>396</td>\n",
       "      <td>1814</td>\n",
       "      <td>0</td>\n",
       "      <td>Часть 1</td>\n",
       "      <td>Глава 1: Знакомство с Родионом</td>\n",
       "      <td>Часть 1 / Глава 1: Знакомство с Родионом</td>\n",
       "      <td>ru_retell</td>\n",
       "      <td>397</td>\n",
       "    </tr>\n",
       "    <tr>\n",
       "      <th>0cac389e-95a6-40de-bd74-0cf8c65b1f43</th>\n",
       "      <td>ru_retell.md</td>\n",
       "      <td>2024-03-30 15:49:57.503147</td>\n",
       "      <td>1</td>\n",
       "      <td>704</td>\n",
       "      <td>3090</td>\n",
       "      <td>1</td>\n",
       "      <td>Часть 1</td>\n",
       "      <td>Глава 2: Встреча с Мармеладовым</td>\n",
       "      <td>Часть 1 / Глава 2: Встреча с Мармеладовым</td>\n",
       "      <td>ru_retell</td>\n",
       "      <td>11102</td>\n",
       "    </tr>\n",
       "    <tr>\n",
       "      <th>82477b01-06dd-4d57-a9f8-c1c703ac0320</th>\n",
       "      <td>ru_retell.md</td>\n",
       "      <td>2024-03-30 15:49:57.517147</td>\n",
       "      <td>2</td>\n",
       "      <td>280</td>\n",
       "      <td>1330</td>\n",
       "      <td>2</td>\n",
       "      <td>Часть 1</td>\n",
       "      <td>Глава 3: Письмо матери</td>\n",
       "      <td>Часть 1 / Глава 3: Письмо матери</td>\n",
       "      <td>ru_retell</td>\n",
       "      <td>21383</td>\n",
       "    </tr>\n",
       "    <tr>\n",
       "      <th>2061975f-e7f4-4b2a-9674-854cb68b418c</th>\n",
       "      <td>ru_retell.md</td>\n",
       "      <td>2024-03-30 15:49:57.530147</td>\n",
       "      <td>3</td>\n",
       "      <td>461</td>\n",
       "      <td>2020</td>\n",
       "      <td>3</td>\n",
       "      <td>Часть 1</td>\n",
       "      <td>Глава 4: Мысли о сестре</td>\n",
       "      <td>Часть 1 / Глава 4: Мысли о сестре</td>\n",
       "      <td>ru_retell</td>\n",
       "      <td>31845</td>\n",
       "    </tr>\n",
       "    <tr>\n",
       "      <th>a8cb9f27-3fec-41dd-9bd8-e44f3dad31e6</th>\n",
       "      <td>ru_retell.md</td>\n",
       "      <td>2024-03-30 15:49:57.544147</td>\n",
       "      <td>4</td>\n",
       "      <td>193</td>\n",
       "      <td>892</td>\n",
       "      <td>4</td>\n",
       "      <td>Часть 1</td>\n",
       "      <td>Глава 5: Сон Раскольникова</td>\n",
       "      <td>Часть 1 / Глава 5: Сон Раскольникова</td>\n",
       "      <td>ru_retell</td>\n",
       "      <td>42039</td>\n",
       "    </tr>\n",
       "  </tbody>\n",
       "</table>\n",
       "</div>"
      ],
      "text/plain": [
       "                                          filename                  timestamp  \\\n",
       "file_id                                                                         \n",
       "03e9e420-c07c-447f-933e-8c22203b3293  ru_retell.md 2024-03-30 15:49:57.499147   \n",
       "0cac389e-95a6-40de-bd74-0cf8c65b1f43  ru_retell.md 2024-03-30 15:49:57.503147   \n",
       "82477b01-06dd-4d57-a9f8-c1c703ac0320  ru_retell.md 2024-03-30 15:49:57.517147   \n",
       "2061975f-e7f4-4b2a-9674-854cb68b418c  ru_retell.md 2024-03-30 15:49:57.530147   \n",
       "a8cb9f27-3fec-41dd-9bd8-e44f3dad31e6  ru_retell.md 2024-03-30 15:49:57.544147   \n",
       "\n",
       "                                      part_index  token_count  \\\n",
       "file_id                                                         \n",
       "03e9e420-c07c-447f-933e-8c22203b3293           0          396   \n",
       "0cac389e-95a6-40de-bd74-0cf8c65b1f43           1          704   \n",
       "82477b01-06dd-4d57-a9f8-c1c703ac0320           2          280   \n",
       "2061975f-e7f4-4b2a-9674-854cb68b418c           3          461   \n",
       "a8cb9f27-3fec-41dd-9bd8-e44f3dad31e6           4          193   \n",
       "\n",
       "                                      character_count  ordinal header_0  \\\n",
       "file_id                                                                   \n",
       "03e9e420-c07c-447f-933e-8c22203b3293             1814        0  Часть 1   \n",
       "0cac389e-95a6-40de-bd74-0cf8c65b1f43             3090        1  Часть 1   \n",
       "82477b01-06dd-4d57-a9f8-c1c703ac0320             1330        2  Часть 1   \n",
       "2061975f-e7f4-4b2a-9674-854cb68b418c             2020        3  Часть 1   \n",
       "a8cb9f27-3fec-41dd-9bd8-e44f3dad31e6              892        4  Часть 1   \n",
       "\n",
       "                                                             header_1  \\\n",
       "file_id                                                                 \n",
       "03e9e420-c07c-447f-933e-8c22203b3293   Глава 1: Знакомство с Родионом   \n",
       "0cac389e-95a6-40de-bd74-0cf8c65b1f43  Глава 2: Встреча с Мармеладовым   \n",
       "82477b01-06dd-4d57-a9f8-c1c703ac0320           Глава 3: Письмо матери   \n",
       "2061975f-e7f4-4b2a-9674-854cb68b418c          Глава 4: Мысли о сестре   \n",
       "a8cb9f27-3fec-41dd-9bd8-e44f3dad31e6       Глава 5: Сон Раскольникова   \n",
       "\n",
       "                                                                        headers  \\\n",
       "file_id                                                                           \n",
       "03e9e420-c07c-447f-933e-8c22203b3293   Часть 1 / Глава 1: Знакомство с Родионом   \n",
       "0cac389e-95a6-40de-bd74-0cf8c65b1f43  Часть 1 / Глава 2: Встреча с Мармеладовым   \n",
       "82477b01-06dd-4d57-a9f8-c1c703ac0320           Часть 1 / Глава 3: Письмо матери   \n",
       "2061975f-e7f4-4b2a-9674-854cb68b418c          Часть 1 / Глава 4: Мысли о сестре   \n",
       "a8cb9f27-3fec-41dd-9bd8-e44f3dad31e6       Часть 1 / Глава 5: Сон Раскольникова   \n",
       "\n",
       "                                           book  max_id  \n",
       "file_id                                                  \n",
       "03e9e420-c07c-447f-933e-8c22203b3293  ru_retell     397  \n",
       "0cac389e-95a6-40de-bd74-0cf8c65b1f43  ru_retell   11102  \n",
       "82477b01-06dd-4d57-a9f8-c1c703ac0320  ru_retell   21383  \n",
       "2061975f-e7f4-4b2a-9674-854cb68b418c  ru_retell   31845  \n",
       "a8cb9f27-3fec-41dd-9bd8-e44f3dad31e6  ru_retell   42039  "
      ]
     },
     "execution_count": 8,
     "metadata": {},
     "output_type": "execute_result"
    }
   ],
   "source": [
    "ru_retell_reader = CorpusReader(Path('./files/ru_retell.base.zip'))\n",
    "ru_retell = ru_retell_reader.get_toc().index\n",
    "ru_retell_reader.get_toc()[:5]"
   ]
  },
  {
   "cell_type": "markdown",
   "metadata": {},
   "source": [
    "Next, we form a parallel corpus"
   ]
  },
  {
   "cell_type": "code",
   "execution_count": 9,
   "metadata": {
    "ExecuteTime": {
     "end_time": "2023-12-27T10:11:15.802079118Z",
     "start_time": "2023-12-27T10:11:15.693570783Z"
    }
   },
   "outputs": [],
   "source": [
    "import pandas as pd\n",
    "\n",
    "def add_relation(df_1,df_2,name_1,name_2):\n",
    "    rel_1 = pd.DataFrame({'file_1':df_1, 'file_2':df_2,'relation_name':f\"{name_1}_{name_2}\"})\n",
    "    rel_2 = pd.DataFrame({'file_1':df_2, 'file_2':df_1,'relation_name':f\"{name_2}_{name_1}\"})\n",
    "    rel = pd.concat([rel_1,rel_2])\n",
    "    return rel\n",
    "\n",
    "def add_dfs(name):\n",
    "    frames = list(name.get_frames())\n",
    "    dfs = dict(zip(name.get_toc().index,frames))\n",
    "\n",
    "    return dfs"
   ]
  },
  {
   "cell_type": "code",
   "execution_count": 10,
   "metadata": {
    "ExecuteTime": {
     "end_time": "2023-12-27T10:11:24.178484376Z",
     "start_time": "2023-12-27T10:11:15.737510951Z"
    }
   },
   "outputs": [],
   "source": [
    "CorpusBuilder.update_parallel_data(\n",
    "    Path('./files/parallel_corpus.zip'),\n",
    "    add_dfs(ru_book_reader),\n",
    "    \"ru_book\",\n",
    "    None)\n",
    "\n",
    "CorpusBuilder.update_parallel_data(\n",
    "    Path('./files/parallel_corpus.zip'),\n",
    "    add_dfs(ru_retell_reader),\n",
    "    \"ru_retell\",\n",
    "    add_relation(ru_book_reader.get_toc().index,ru_retell_reader.get_toc().index,\"ru_book\",\"ru_retell\"))\n",
    "\n",
    "CorpusBuilder.update_parallel_data(\n",
    "    Path('./files/parallel_corpus.zip'),\n",
    "    add_dfs(eng_book_reader),\n",
    "    \"eng_book\",\n",
    "    add_relation(ru_book_reader.get_toc().index,eng_book_reader.get_toc().index,\"ru_book\",\"eng_book\"))\n",
    "\n",
    "\n",
    "CorpusBuilder.update_parallel_data(\n",
    "    Path('./files/parallel_corpus.zip'),\n",
    "    add_dfs(eng_retell_reader),\n",
    "    \"eng_retell\",\n",
    "    add_relation(eng_book_reader.get_toc().index,eng_retell_reader.get_toc().index,\"eng_book\",\"eng_retell\"))\n",
    "\n"
   ]
  },
  {
   "cell_type": "markdown",
   "metadata": {},
   "source": [
    "We check that all parts have been successfully recorded"
   ]
  },
  {
   "cell_type": "code",
   "execution_count": 11,
   "metadata": {
    "ExecuteTime": {
     "end_time": "2023-12-27T10:11:24.202616716Z",
     "start_time": "2023-12-27T10:11:24.181180370Z"
    }
   },
   "outputs": [
    {
     "data": {
      "text/plain": [
       "array(['ru_book', 'ru_retell', 'eng_book', 'eng_retell'], dtype=object)"
      ]
     },
     "execution_count": 11,
     "metadata": {},
     "output_type": "execute_result"
    }
   ],
   "source": [
    "reader = CorpusReader(Path('./files/parallel_corpus.zip'))\n",
    "\n",
    "df = reader.get_toc()\n",
    "\n",
    "df.subcorpus_name.unique()"
   ]
  },
  {
   "cell_type": "markdown",
   "metadata": {},
   "source": [
    "## Translate text"
   ]
  },
  {
   "cell_type": "code",
   "execution_count": 12,
   "metadata": {
    "ExecuteTime": {
     "end_time": "2023-12-27T10:11:24.223443617Z",
     "start_time": "2023-12-27T10:11:24.200518817Z"
    }
   },
   "outputs": [],
   "source": [
    "path_parallel_corpus = Path('./files/parallel_corpus.zip')"
   ]
  },
  {
   "cell_type": "code",
   "execution_count": 13,
   "metadata": {
    "ExecuteTime": {
     "end_time": "2023-12-27T10:12:34.800301835Z",
     "start_time": "2023-12-27T10:12:11.969197975Z"
    }
   },
   "outputs": [
    {
     "data": {
      "application/vnd.jupyter.widget-view+json": {
       "model_id": "adf29c71ce01469193453e682dbfac37",
       "version_major": 2,
       "version_minor": 0
      },
      "text/plain": [
       "  0%|          | 0/1 [00:00<?, ?it/s]"
      ]
     },
     "metadata": {},
     "output_type": "display_data"
    }
   ],
   "source": [
    "from ca.utils_translate import translate_subcorpus\n",
    "\n",
    "translate_subcorpus(path_parallel_corpus,\"eng_retell\")"
   ]
  },
  {
   "cell_type": "code",
   "execution_count": 14,
   "metadata": {
    "ExecuteTime": {
     "end_time": "2023-12-27T10:12:37.079624810Z",
     "start_time": "2023-12-27T10:12:37.046708502Z"
    }
   },
   "outputs": [
    {
     "data": {
      "text/plain": [
       "array(['ru_book', 'ru_retell', 'eng_book', 'eng_retell', 'ru_translate'],\n",
       "      dtype=object)"
      ]
     },
     "execution_count": 14,
     "metadata": {},
     "output_type": "execute_result"
    }
   ],
   "source": [
    "reader = CorpusReader(Path('./files/parallel_corpus.zip'))\n",
    "\n",
    "df = reader.get_toc()\n",
    "\n",
    "df.subcorpus_name.unique()"
   ]
  },
  {
   "cell_type": "markdown",
   "metadata": {},
   "source": [
    "### Remove Corpuses"
   ]
  },
  {
   "cell_type": "code",
   "execution_count": 15,
   "metadata": {
    "ExecuteTime": {
     "end_time": "2023-12-27T11:27:10.090582428Z",
     "start_time": "2023-12-27T11:27:10.089352836Z"
    }
   },
   "outputs": [],
   "source": [
    "import os\n",
    "from pathlib import Path\n",
    "\n",
    "os.remove(Path('./files/eng_crime_and_puhishment.base.zip'))\n",
    "os.remove(Path('./files/eng_retell.base.zip'))\n",
    "os.remove(Path('./files/ru_crime_and_puhishment.base.zip'))\n",
    "os.remove(Path('./files/ru_retell.base.zip'))\n",
    "os.remove(Path('./files/translate.base.zip'))"
   ]
  }
 ],
 "metadata": {
  "kernelspec": {
   "display_name": "Python 3 (ipykernel)",
   "language": "python",
   "name": "python3"
  },
  "language_info": {
   "codemirror_mode": {
    "name": "ipython",
    "version": 3
   },
   "file_extension": ".py",
   "mimetype": "text/x-python",
   "name": "python",
   "nbconvert_exporter": "python",
   "pygments_lexer": "ipython3",
   "version": "3.8.18"
  }
 },
 "nbformat": 4,
 "nbformat_minor": 2
}
