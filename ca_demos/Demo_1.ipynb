{
 "cells": [
  {
   "cell_type": "markdown",
   "metadata": {},
   "source": [
    "# Creative Articulator \n",
    "\n",
    "## Overview"
   ]
  },
  {
   "cell_type": "markdown",
   "metadata": {},
   "source": [
    "In this demo, we will look at all the processes in Creative Articulator namely:\n",
    " - the creation of a parallel corpus\n",
    " - the division of text into fragments \n",
    " - translation of text."
   ]
  },
  {
   "cell_type": "markdown",
   "metadata": {},
   "source": [
    "## Parallel corpus\n",
    "\n",
    "A parallel corpus is a handy tool that allows you to link parts from different corpus. With it, all the corpus will be stored in a single zip file.\n",
    "\n",
    "In this demonstration, we will work with texts and retellings of Fyodor Mikhailovich Dostoevsky's novel Crime and Punishment, which are located in the `sourse` folder.\n",
    "\n",
    "\n",
    "The first step is to create a corpus of texts and retellings that are stored in md format."
   ]
  },
  {
   "cell_type": "markdown",
   "metadata": {},
   "source": [
    "#### Сorpus for English text:"
   ]
  },
  {
   "cell_type": "code",
   "execution_count": 2,
   "metadata": {
    "ExecuteTime": {
     "end_time": "2023-12-27T10:08:12.798956256Z",
     "start_time": "2023-12-27T10:07:58.229463647Z"
    }
   },
   "outputs": [
    {
     "data": {
      "application/vnd.jupyter.widget-view+json": {
       "model_id": "7ec532c47d404e18b3e575193222954d",
       "version_major": 2,
       "version_minor": 0
      },
      "text/plain": [
       "  0%|          | 0/1 [00:00<?, ?it/s]"
      ]
     },
     "metadata": {},
     "output_type": "display_data"
    }
   ],
   "source": [
    "from grammar_ru.corpus import CorpusBuilder\n",
    "from pathlib import Path\n",
    "\n",
    "\n",
    "CorpusBuilder.convert_interformat_folder_to_corpus(\n",
    "    Path('./files/eng_crime_and_puhishment.base.zip'),\n",
    "    Path('./source/book/eng'),\n",
    "    ['book']\n",
    ")\n"
   ]
  },
  {
   "cell_type": "code",
   "execution_count": 3,
   "metadata": {
    "ExecuteTime": {
     "end_time": "2023-12-27T10:10:49.581536158Z",
     "start_time": "2023-12-27T10:10:49.492842709Z"
    }
   },
   "outputs": [
    {
     "data": {
      "text/html": [
       "<div>\n",
       "<style scoped>\n",
       "    .dataframe tbody tr th:only-of-type {\n",
       "        vertical-align: middle;\n",
       "    }\n",
       "\n",
       "    .dataframe tbody tr th {\n",
       "        vertical-align: top;\n",
       "    }\n",
       "\n",
       "    .dataframe thead th {\n",
       "        text-align: right;\n",
       "    }\n",
       "</style>\n",
       "<table border=\"1\" class=\"dataframe\">\n",
       "  <thead>\n",
       "    <tr style=\"text-align: right;\">\n",
       "      <th></th>\n",
       "      <th>filename</th>\n",
       "      <th>timestamp</th>\n",
       "      <th>part_index</th>\n",
       "      <th>token_count</th>\n",
       "      <th>character_count</th>\n",
       "      <th>ordinal</th>\n",
       "      <th>header_0</th>\n",
       "      <th>header_1</th>\n",
       "      <th>headers</th>\n",
       "      <th>book</th>\n",
       "      <th>max_id</th>\n",
       "    </tr>\n",
       "    <tr>\n",
       "      <th>file_id</th>\n",
       "      <th></th>\n",
       "      <th></th>\n",
       "      <th></th>\n",
       "      <th></th>\n",
       "      <th></th>\n",
       "      <th></th>\n",
       "      <th></th>\n",
       "      <th></th>\n",
       "      <th></th>\n",
       "      <th></th>\n",
       "      <th></th>\n",
       "    </tr>\n",
       "  </thead>\n",
       "  <tbody>\n",
       "    <tr>\n",
       "      <th>cc38e433-6796-4d25-a3ee-a5982742e3d0</th>\n",
       "      <td>eng_crime_and_punishment.md</td>\n",
       "      <td>2024-03-30 15:37:17.115350</td>\n",
       "      <td>0</td>\n",
       "      <td>4028</td>\n",
       "      <td>15089</td>\n",
       "      <td>0</td>\n",
       "      <td>Part One</td>\n",
       "      <td>I</td>\n",
       "      <td>Part One / I</td>\n",
       "      <td>eng_crime_and_punishment</td>\n",
       "      <td>4029</td>\n",
       "    </tr>\n",
       "    <tr>\n",
       "      <th>568b7de7-1ecc-4fc3-9def-9d5879d43da3</th>\n",
       "      <td>eng_crime_and_punishment.md</td>\n",
       "      <td>2024-03-30 15:37:17.140350</td>\n",
       "      <td>1</td>\n",
       "      <td>8965</td>\n",
       "      <td>32957</td>\n",
       "      <td>1</td>\n",
       "      <td>Part One</td>\n",
       "      <td>II</td>\n",
       "      <td>Part One / II</td>\n",
       "      <td>eng_crime_and_punishment</td>\n",
       "      <td>22995</td>\n",
       "    </tr>\n",
       "    <tr>\n",
       "      <th>60529b8e-41a2-4723-96f1-bf037f21571d</th>\n",
       "      <td>eng_crime_and_punishment.md</td>\n",
       "      <td>2024-03-30 15:37:17.176350</td>\n",
       "      <td>2</td>\n",
       "      <td>6439</td>\n",
       "      <td>24251</td>\n",
       "      <td>2</td>\n",
       "      <td>Part One</td>\n",
       "      <td>III</td>\n",
       "      <td>Part One / III</td>\n",
       "      <td>eng_crime_and_punishment</td>\n",
       "      <td>39435</td>\n",
       "    </tr>\n",
       "    <tr>\n",
       "      <th>30ec0316-f3f1-490c-af0c-39de9b2371db</th>\n",
       "      <td>eng_crime_and_punishment.md</td>\n",
       "      <td>2024-03-30 15:37:17.204350</td>\n",
       "      <td>3</td>\n",
       "      <td>6473</td>\n",
       "      <td>23395</td>\n",
       "      <td>3</td>\n",
       "      <td>Part One</td>\n",
       "      <td>IV</td>\n",
       "      <td>Part One / IV</td>\n",
       "      <td>eng_crime_and_punishment</td>\n",
       "      <td>55909</td>\n",
       "    </tr>\n",
       "    <tr>\n",
       "      <th>77798194-7a9b-4f40-9782-0055745c8506</th>\n",
       "      <td>eng_crime_and_punishment.md</td>\n",
       "      <td>2024-03-30 15:37:17.231937</td>\n",
       "      <td>4</td>\n",
       "      <td>5342</td>\n",
       "      <td>19413</td>\n",
       "      <td>4</td>\n",
       "      <td>Part One</td>\n",
       "      <td>V</td>\n",
       "      <td>Part One / V</td>\n",
       "      <td>eng_crime_and_punishment</td>\n",
       "      <td>71252</td>\n",
       "    </tr>\n",
       "  </tbody>\n",
       "</table>\n",
       "</div>"
      ],
      "text/plain": [
       "                                                         filename  \\\n",
       "file_id                                                             \n",
       "cc38e433-6796-4d25-a3ee-a5982742e3d0  eng_crime_and_punishment.md   \n",
       "568b7de7-1ecc-4fc3-9def-9d5879d43da3  eng_crime_and_punishment.md   \n",
       "60529b8e-41a2-4723-96f1-bf037f21571d  eng_crime_and_punishment.md   \n",
       "30ec0316-f3f1-490c-af0c-39de9b2371db  eng_crime_and_punishment.md   \n",
       "77798194-7a9b-4f40-9782-0055745c8506  eng_crime_and_punishment.md   \n",
       "\n",
       "                                                      timestamp  part_index  \\\n",
       "file_id                                                                       \n",
       "cc38e433-6796-4d25-a3ee-a5982742e3d0 2024-03-30 15:37:17.115350           0   \n",
       "568b7de7-1ecc-4fc3-9def-9d5879d43da3 2024-03-30 15:37:17.140350           1   \n",
       "60529b8e-41a2-4723-96f1-bf037f21571d 2024-03-30 15:37:17.176350           2   \n",
       "30ec0316-f3f1-490c-af0c-39de9b2371db 2024-03-30 15:37:17.204350           3   \n",
       "77798194-7a9b-4f40-9782-0055745c8506 2024-03-30 15:37:17.231937           4   \n",
       "\n",
       "                                      token_count  character_count  ordinal  \\\n",
       "file_id                                                                       \n",
       "cc38e433-6796-4d25-a3ee-a5982742e3d0         4028            15089        0   \n",
       "568b7de7-1ecc-4fc3-9def-9d5879d43da3         8965            32957        1   \n",
       "60529b8e-41a2-4723-96f1-bf037f21571d         6439            24251        2   \n",
       "30ec0316-f3f1-490c-af0c-39de9b2371db         6473            23395        3   \n",
       "77798194-7a9b-4f40-9782-0055745c8506         5342            19413        4   \n",
       "\n",
       "                                      header_0 header_1         headers  \\\n",
       "file_id                                                                   \n",
       "cc38e433-6796-4d25-a3ee-a5982742e3d0  Part One        I    Part One / I   \n",
       "568b7de7-1ecc-4fc3-9def-9d5879d43da3  Part One       II   Part One / II   \n",
       "60529b8e-41a2-4723-96f1-bf037f21571d  Part One      III  Part One / III   \n",
       "30ec0316-f3f1-490c-af0c-39de9b2371db  Part One       IV   Part One / IV   \n",
       "77798194-7a9b-4f40-9782-0055745c8506  Part One        V    Part One / V   \n",
       "\n",
       "                                                          book  max_id  \n",
       "file_id                                                                 \n",
       "cc38e433-6796-4d25-a3ee-a5982742e3d0  eng_crime_and_punishment    4029  \n",
       "568b7de7-1ecc-4fc3-9def-9d5879d43da3  eng_crime_and_punishment   22995  \n",
       "60529b8e-41a2-4723-96f1-bf037f21571d  eng_crime_and_punishment   39435  \n",
       "30ec0316-f3f1-490c-af0c-39de9b2371db  eng_crime_and_punishment   55909  \n",
       "77798194-7a9b-4f40-9782-0055745c8506  eng_crime_and_punishment   71252  "
      ]
     },
     "execution_count": 3,
     "metadata": {},
     "output_type": "execute_result"
    }
   ],
   "source": [
    "from grammar_ru.corpus import CorpusReader\n",
    "\n",
    "\n",
    "eng_book_reader = CorpusReader(Path('./files/eng_crime_and_puhishment.base.zip'))\n",
    "eng_book = eng_book_reader.get_toc().index\n",
    "\n",
    "eng_book_reader.get_toc()[:5]"
   ]
  },
  {
   "cell_type": "markdown",
   "metadata": {},
   "source": [
    "#### Corpus for English retelling:"
   ]
  },
  {
   "cell_type": "code",
   "execution_count": 4,
   "metadata": {
    "ExecuteTime": {
     "end_time": "2023-12-27T10:10:58.738525631Z",
     "start_time": "2023-12-27T10:10:52.219412569Z"
    }
   },
   "outputs": [
    {
     "data": {
      "application/vnd.jupyter.widget-view+json": {
       "model_id": "10d95a492db049bfa4a3d038270ff5fc",
       "version_major": 2,
       "version_minor": 0
      },
      "text/plain": [
       "  0%|          | 0/1 [00:00<?, ?it/s]"
      ]
     },
     "metadata": {},
     "output_type": "display_data"
    }
   ],
   "source": [
    "CorpusBuilder.convert_interformat_folder_to_corpus(\n",
    "    Path('./files/eng_retell.base.zip'),\n",
    "    Path('./source/retell/eng'),\n",
    "    ['book']\n",
    ")"
   ]
  },
  {
   "cell_type": "code",
   "execution_count": 5,
   "metadata": {
    "ExecuteTime": {
     "end_time": "2023-12-27T10:10:58.755700800Z",
     "start_time": "2023-12-27T10:10:58.738101794Z"
    }
   },
   "outputs": [
    {
     "data": {
      "text/html": [
       "<div>\n",
       "<style scoped>\n",
       "    .dataframe tbody tr th:only-of-type {\n",
       "        vertical-align: middle;\n",
       "    }\n",
       "\n",
       "    .dataframe tbody tr th {\n",
       "        vertical-align: top;\n",
       "    }\n",
       "\n",
       "    .dataframe thead th {\n",
       "        text-align: right;\n",
       "    }\n",
       "</style>\n",
       "<table border=\"1\" class=\"dataframe\">\n",
       "  <thead>\n",
       "    <tr style=\"text-align: right;\">\n",
       "      <th></th>\n",
       "      <th>filename</th>\n",
       "      <th>timestamp</th>\n",
       "      <th>part_index</th>\n",
       "      <th>token_count</th>\n",
       "      <th>character_count</th>\n",
       "      <th>ordinal</th>\n",
       "      <th>header_0</th>\n",
       "      <th>header_1</th>\n",
       "      <th>headers</th>\n",
       "      <th>book</th>\n",
       "      <th>max_id</th>\n",
       "    </tr>\n",
       "    <tr>\n",
       "      <th>file_id</th>\n",
       "      <th></th>\n",
       "      <th></th>\n",
       "      <th></th>\n",
       "      <th></th>\n",
       "      <th></th>\n",
       "      <th></th>\n",
       "      <th></th>\n",
       "      <th></th>\n",
       "      <th></th>\n",
       "      <th></th>\n",
       "      <th></th>\n",
       "    </tr>\n",
       "  </thead>\n",
       "  <tbody>\n",
       "    <tr>\n",
       "      <th>e6db9747-dc60-42b8-945e-872587b93fd3</th>\n",
       "      <td>eng_retell.md</td>\n",
       "      <td>2024-03-30 15:37:35.948428</td>\n",
       "      <td>0</td>\n",
       "      <td>776</td>\n",
       "      <td>3295</td>\n",
       "      <td>0</td>\n",
       "      <td>Part I</td>\n",
       "      <td>Chapter 1</td>\n",
       "      <td>Part I / Chapter 1</td>\n",
       "      <td>eng_retell</td>\n",
       "      <td>777</td>\n",
       "    </tr>\n",
       "    <tr>\n",
       "      <th>b3343946-b506-45f6-bd28-df42e1c6340a</th>\n",
       "      <td>eng_retell.md</td>\n",
       "      <td>2024-03-30 15:37:35.952428</td>\n",
       "      <td>1</td>\n",
       "      <td>1191</td>\n",
       "      <td>5178</td>\n",
       "      <td>1</td>\n",
       "      <td>Part I</td>\n",
       "      <td>Chapter 2</td>\n",
       "      <td>Part I / Chapter 2</td>\n",
       "      <td>eng_retell</td>\n",
       "      <td>11969</td>\n",
       "    </tr>\n",
       "    <tr>\n",
       "      <th>6e473327-e079-4809-8768-e944e6e3e542</th>\n",
       "      <td>eng_retell.md</td>\n",
       "      <td>2024-03-30 15:37:35.967428</td>\n",
       "      <td>2</td>\n",
       "      <td>1042</td>\n",
       "      <td>4464</td>\n",
       "      <td>2</td>\n",
       "      <td>Part I</td>\n",
       "      <td>Chapter 3</td>\n",
       "      <td>Part I / Chapter 3</td>\n",
       "      <td>eng_retell</td>\n",
       "      <td>23012</td>\n",
       "    </tr>\n",
       "    <tr>\n",
       "      <th>2a77f3b5-9391-4b8b-8af3-15d71f7fb012</th>\n",
       "      <td>eng_retell.md</td>\n",
       "      <td>2024-03-30 15:37:35.982428</td>\n",
       "      <td>3</td>\n",
       "      <td>1098</td>\n",
       "      <td>4711</td>\n",
       "      <td>3</td>\n",
       "      <td>Part I</td>\n",
       "      <td>Chapter 4</td>\n",
       "      <td>Part I / Chapter 4</td>\n",
       "      <td>eng_retell</td>\n",
       "      <td>34111</td>\n",
       "    </tr>\n",
       "    <tr>\n",
       "      <th>1df4debe-0d2d-4b4a-94df-d55d6911d0c0</th>\n",
       "      <td>eng_retell.md</td>\n",
       "      <td>2024-03-30 15:37:35.997428</td>\n",
       "      <td>4</td>\n",
       "      <td>954</td>\n",
       "      <td>3932</td>\n",
       "      <td>4</td>\n",
       "      <td>Part I</td>\n",
       "      <td>Chapter 5</td>\n",
       "      <td>Part I / Chapter 5</td>\n",
       "      <td>eng_retell</td>\n",
       "      <td>45066</td>\n",
       "    </tr>\n",
       "  </tbody>\n",
       "</table>\n",
       "</div>"
      ],
      "text/plain": [
       "                                           filename  \\\n",
       "file_id                                               \n",
       "e6db9747-dc60-42b8-945e-872587b93fd3  eng_retell.md   \n",
       "b3343946-b506-45f6-bd28-df42e1c6340a  eng_retell.md   \n",
       "6e473327-e079-4809-8768-e944e6e3e542  eng_retell.md   \n",
       "2a77f3b5-9391-4b8b-8af3-15d71f7fb012  eng_retell.md   \n",
       "1df4debe-0d2d-4b4a-94df-d55d6911d0c0  eng_retell.md   \n",
       "\n",
       "                                                      timestamp  part_index  \\\n",
       "file_id                                                                       \n",
       "e6db9747-dc60-42b8-945e-872587b93fd3 2024-03-30 15:37:35.948428           0   \n",
       "b3343946-b506-45f6-bd28-df42e1c6340a 2024-03-30 15:37:35.952428           1   \n",
       "6e473327-e079-4809-8768-e944e6e3e542 2024-03-30 15:37:35.967428           2   \n",
       "2a77f3b5-9391-4b8b-8af3-15d71f7fb012 2024-03-30 15:37:35.982428           3   \n",
       "1df4debe-0d2d-4b4a-94df-d55d6911d0c0 2024-03-30 15:37:35.997428           4   \n",
       "\n",
       "                                      token_count  character_count  ordinal  \\\n",
       "file_id                                                                       \n",
       "e6db9747-dc60-42b8-945e-872587b93fd3          776             3295        0   \n",
       "b3343946-b506-45f6-bd28-df42e1c6340a         1191             5178        1   \n",
       "6e473327-e079-4809-8768-e944e6e3e542         1042             4464        2   \n",
       "2a77f3b5-9391-4b8b-8af3-15d71f7fb012         1098             4711        3   \n",
       "1df4debe-0d2d-4b4a-94df-d55d6911d0c0          954             3932        4   \n",
       "\n",
       "                                     header_0   header_1             headers  \\\n",
       "file_id                                                                        \n",
       "e6db9747-dc60-42b8-945e-872587b93fd3   Part I  Chapter 1  Part I / Chapter 1   \n",
       "b3343946-b506-45f6-bd28-df42e1c6340a   Part I  Chapter 2  Part I / Chapter 2   \n",
       "6e473327-e079-4809-8768-e944e6e3e542   Part I  Chapter 3  Part I / Chapter 3   \n",
       "2a77f3b5-9391-4b8b-8af3-15d71f7fb012   Part I  Chapter 4  Part I / Chapter 4   \n",
       "1df4debe-0d2d-4b4a-94df-d55d6911d0c0   Part I  Chapter 5  Part I / Chapter 5   \n",
       "\n",
       "                                            book  max_id  \n",
       "file_id                                                   \n",
       "e6db9747-dc60-42b8-945e-872587b93fd3  eng_retell     777  \n",
       "b3343946-b506-45f6-bd28-df42e1c6340a  eng_retell   11969  \n",
       "6e473327-e079-4809-8768-e944e6e3e542  eng_retell   23012  \n",
       "2a77f3b5-9391-4b8b-8af3-15d71f7fb012  eng_retell   34111  \n",
       "1df4debe-0d2d-4b4a-94df-d55d6911d0c0  eng_retell   45066  "
      ]
     },
     "execution_count": 5,
     "metadata": {},
     "output_type": "execute_result"
    }
   ],
   "source": [
    "eng_retell_reader = CorpusReader(Path('./files/eng_retell.base.zip'))\n",
    "eng_retell = eng_retell_reader.get_toc().index\n",
    "eng_retell_reader.get_toc()[:5]"
   ]
  },
  {
   "cell_type": "markdown",
   "metadata": {},
   "source": [
    "#### Сorpus for Russian text:"
   ]
  },
  {
   "cell_type": "code",
   "execution_count": 6,
   "metadata": {
    "ExecuteTime": {
     "end_time": "2023-12-27T10:11:13.218878242Z",
     "start_time": "2023-12-27T10:10:58.758121653Z"
    }
   },
   "outputs": [
    {
     "data": {
      "application/vnd.jupyter.widget-view+json": {
       "model_id": "4b442c74b3734140b89415e3507056d2",
       "version_major": 2,
       "version_minor": 0
      },
      "text/plain": [
       "  0%|          | 0/1 [00:00<?, ?it/s]"
      ]
     },
     "metadata": {},
     "output_type": "display_data"
    }
   ],
   "source": [
    "CorpusBuilder.convert_interformat_folder_to_corpus(\n",
    "    Path('./files/ru_crime_and_puhishment.base.zip'),\n",
    "    Path('./source/book/ru'),\n",
    "    ['book']\n",
    ")"
   ]
  },
  {
   "cell_type": "code",
   "execution_count": 7,
   "metadata": {
    "ExecuteTime": {
     "end_time": "2023-12-27T10:11:13.374289516Z",
     "start_time": "2023-12-27T10:11:13.224873451Z"
    }
   },
   "outputs": [
    {
     "data": {
      "text/html": [
       "<div>\n",
       "<style scoped>\n",
       "    .dataframe tbody tr th:only-of-type {\n",
       "        vertical-align: middle;\n",
       "    }\n",
       "\n",
       "    .dataframe tbody tr th {\n",
       "        vertical-align: top;\n",
       "    }\n",
       "\n",
       "    .dataframe thead th {\n",
       "        text-align: right;\n",
       "    }\n",
       "</style>\n",
       "<table border=\"1\" class=\"dataframe\">\n",
       "  <thead>\n",
       "    <tr style=\"text-align: right;\">\n",
       "      <th></th>\n",
       "      <th>filename</th>\n",
       "      <th>timestamp</th>\n",
       "      <th>part_index</th>\n",
       "      <th>token_count</th>\n",
       "      <th>character_count</th>\n",
       "      <th>ordinal</th>\n",
       "      <th>header_0</th>\n",
       "      <th>header_1</th>\n",
       "      <th>headers</th>\n",
       "      <th>book</th>\n",
       "      <th>max_id</th>\n",
       "    </tr>\n",
       "    <tr>\n",
       "      <th>file_id</th>\n",
       "      <th></th>\n",
       "      <th></th>\n",
       "      <th></th>\n",
       "      <th></th>\n",
       "      <th></th>\n",
       "      <th></th>\n",
       "      <th></th>\n",
       "      <th></th>\n",
       "      <th></th>\n",
       "      <th></th>\n",
       "      <th></th>\n",
       "    </tr>\n",
       "  </thead>\n",
       "  <tbody>\n",
       "    <tr>\n",
       "      <th>94b0e6bd-3e6c-4a0e-9da2-cca7757da2cf</th>\n",
       "      <td>ru_crime_and_punishment.md</td>\n",
       "      <td>2024-03-30 15:37:51.485159</td>\n",
       "      <td>0</td>\n",
       "      <td>3243</td>\n",
       "      <td>13794</td>\n",
       "      <td>0</td>\n",
       "      <td>ЧАСТЬ ПЕРВАЯ</td>\n",
       "      <td>I</td>\n",
       "      <td>ЧАСТЬ ПЕРВАЯ / I</td>\n",
       "      <td>ru_crime_and_punishment</td>\n",
       "      <td>3244</td>\n",
       "    </tr>\n",
       "    <tr>\n",
       "      <th>461aa443-fee8-4c28-8017-8b94d2dbe447</th>\n",
       "      <td>ru_crime_and_punishment.md</td>\n",
       "      <td>2024-03-30 15:37:51.492159</td>\n",
       "      <td>1</td>\n",
       "      <td>7122</td>\n",
       "      <td>29360</td>\n",
       "      <td>1</td>\n",
       "      <td>ЧАСТЬ ПЕРВАЯ</td>\n",
       "      <td>II</td>\n",
       "      <td>ЧАСТЬ ПЕРВАЯ / II</td>\n",
       "      <td>ru_crime_and_punishment</td>\n",
       "      <td>20367</td>\n",
       "    </tr>\n",
       "    <tr>\n",
       "      <th>a327e0a4-7ce1-41f1-b7bd-7f372ed126ff</th>\n",
       "      <td>ru_crime_and_punishment.md</td>\n",
       "      <td>2024-03-30 15:37:51.522159</td>\n",
       "      <td>2</td>\n",
       "      <td>5526</td>\n",
       "      <td>22721</td>\n",
       "      <td>2</td>\n",
       "      <td>ЧАСТЬ ПЕРВАЯ</td>\n",
       "      <td>III</td>\n",
       "      <td>ЧАСТЬ ПЕРВАЯ / III</td>\n",
       "      <td>ru_crime_and_punishment</td>\n",
       "      <td>35894</td>\n",
       "    </tr>\n",
       "    <tr>\n",
       "      <th>6788000a-00bf-46c4-b6ff-09781e99de94</th>\n",
       "      <td>ru_crime_and_punishment.md</td>\n",
       "      <td>2024-03-30 15:37:51.549159</td>\n",
       "      <td>3</td>\n",
       "      <td>5231</td>\n",
       "      <td>21071</td>\n",
       "      <td>3</td>\n",
       "      <td>ЧАСТЬ ПЕРВАЯ</td>\n",
       "      <td>IV</td>\n",
       "      <td>ЧАСТЬ ПЕРВАЯ / IV</td>\n",
       "      <td>ru_crime_and_punishment</td>\n",
       "      <td>51126</td>\n",
       "    </tr>\n",
       "    <tr>\n",
       "      <th>7ef3b5bd-00d9-4838-b388-8c7fd53d0925</th>\n",
       "      <td>ru_crime_and_punishment.md</td>\n",
       "      <td>2024-03-30 15:37:51.575159</td>\n",
       "      <td>4</td>\n",
       "      <td>4285</td>\n",
       "      <td>17322</td>\n",
       "      <td>4</td>\n",
       "      <td>ЧАСТЬ ПЕРВАЯ</td>\n",
       "      <td>V</td>\n",
       "      <td>ЧАСТЬ ПЕРВАЯ / V</td>\n",
       "      <td>ru_crime_and_punishment</td>\n",
       "      <td>65412</td>\n",
       "    </tr>\n",
       "  </tbody>\n",
       "</table>\n",
       "</div>"
      ],
      "text/plain": [
       "                                                        filename  \\\n",
       "file_id                                                            \n",
       "94b0e6bd-3e6c-4a0e-9da2-cca7757da2cf  ru_crime_and_punishment.md   \n",
       "461aa443-fee8-4c28-8017-8b94d2dbe447  ru_crime_and_punishment.md   \n",
       "a327e0a4-7ce1-41f1-b7bd-7f372ed126ff  ru_crime_and_punishment.md   \n",
       "6788000a-00bf-46c4-b6ff-09781e99de94  ru_crime_and_punishment.md   \n",
       "7ef3b5bd-00d9-4838-b388-8c7fd53d0925  ru_crime_and_punishment.md   \n",
       "\n",
       "                                                      timestamp  part_index  \\\n",
       "file_id                                                                       \n",
       "94b0e6bd-3e6c-4a0e-9da2-cca7757da2cf 2024-03-30 15:37:51.485159           0   \n",
       "461aa443-fee8-4c28-8017-8b94d2dbe447 2024-03-30 15:37:51.492159           1   \n",
       "a327e0a4-7ce1-41f1-b7bd-7f372ed126ff 2024-03-30 15:37:51.522159           2   \n",
       "6788000a-00bf-46c4-b6ff-09781e99de94 2024-03-30 15:37:51.549159           3   \n",
       "7ef3b5bd-00d9-4838-b388-8c7fd53d0925 2024-03-30 15:37:51.575159           4   \n",
       "\n",
       "                                      token_count  character_count  ordinal  \\\n",
       "file_id                                                                       \n",
       "94b0e6bd-3e6c-4a0e-9da2-cca7757da2cf         3243            13794        0   \n",
       "461aa443-fee8-4c28-8017-8b94d2dbe447         7122            29360        1   \n",
       "a327e0a4-7ce1-41f1-b7bd-7f372ed126ff         5526            22721        2   \n",
       "6788000a-00bf-46c4-b6ff-09781e99de94         5231            21071        3   \n",
       "7ef3b5bd-00d9-4838-b388-8c7fd53d0925         4285            17322        4   \n",
       "\n",
       "                                          header_0 header_1  \\\n",
       "file_id                                                       \n",
       "94b0e6bd-3e6c-4a0e-9da2-cca7757da2cf  ЧАСТЬ ПЕРВАЯ        I   \n",
       "461aa443-fee8-4c28-8017-8b94d2dbe447  ЧАСТЬ ПЕРВАЯ       II   \n",
       "a327e0a4-7ce1-41f1-b7bd-7f372ed126ff  ЧАСТЬ ПЕРВАЯ      III   \n",
       "6788000a-00bf-46c4-b6ff-09781e99de94  ЧАСТЬ ПЕРВАЯ       IV   \n",
       "7ef3b5bd-00d9-4838-b388-8c7fd53d0925  ЧАСТЬ ПЕРВАЯ        V   \n",
       "\n",
       "                                                 headers  \\\n",
       "file_id                                                    \n",
       "94b0e6bd-3e6c-4a0e-9da2-cca7757da2cf    ЧАСТЬ ПЕРВАЯ / I   \n",
       "461aa443-fee8-4c28-8017-8b94d2dbe447   ЧАСТЬ ПЕРВАЯ / II   \n",
       "a327e0a4-7ce1-41f1-b7bd-7f372ed126ff  ЧАСТЬ ПЕРВАЯ / III   \n",
       "6788000a-00bf-46c4-b6ff-09781e99de94   ЧАСТЬ ПЕРВАЯ / IV   \n",
       "7ef3b5bd-00d9-4838-b388-8c7fd53d0925    ЧАСТЬ ПЕРВАЯ / V   \n",
       "\n",
       "                                                         book  max_id  \n",
       "file_id                                                                \n",
       "94b0e6bd-3e6c-4a0e-9da2-cca7757da2cf  ru_crime_and_punishment    3244  \n",
       "461aa443-fee8-4c28-8017-8b94d2dbe447  ru_crime_and_punishment   20367  \n",
       "a327e0a4-7ce1-41f1-b7bd-7f372ed126ff  ru_crime_and_punishment   35894  \n",
       "6788000a-00bf-46c4-b6ff-09781e99de94  ru_crime_and_punishment   51126  \n",
       "7ef3b5bd-00d9-4838-b388-8c7fd53d0925  ru_crime_and_punishment   65412  "
      ]
     },
     "execution_count": 7,
     "metadata": {},
     "output_type": "execute_result"
    }
   ],
   "source": [
    "ru_book_reader = CorpusReader(Path('./files/ru_crime_and_puhishment.base.zip'))\n",
    "ru_book = ru_book_reader.get_toc().index\n",
    "ru_book_reader.get_toc()[:5]"
   ]
  },
  {
   "cell_type": "markdown",
   "metadata": {},
   "source": [
    "#### Corpus for Russian retelling:"
   ]
  },
  {
   "cell_type": "code",
   "execution_count": 8,
   "metadata": {
    "ExecuteTime": {
     "end_time": "2023-12-27T10:11:15.647984626Z",
     "start_time": "2023-12-27T10:11:13.297490387Z"
    }
   },
   "outputs": [
    {
     "data": {
      "application/vnd.jupyter.widget-view+json": {
       "model_id": "517b4ed0e5ad4a46a0174da47d49c293",
       "version_major": 2,
       "version_minor": 0
      },
      "text/plain": [
       "  0%|          | 0/1 [00:00<?, ?it/s]"
      ]
     },
     "metadata": {},
     "output_type": "display_data"
    }
   ],
   "source": [
    "CorpusBuilder.convert_interformat_folder_to_corpus(\n",
    "    Path('./files/ru_retell.base.zip'),\n",
    "    Path('./source/retell/ru'),\n",
    "    ['book']\n",
    "    )"
   ]
  },
  {
   "cell_type": "code",
   "execution_count": 9,
   "metadata": {
    "ExecuteTime": {
     "end_time": "2023-12-27T10:11:15.697244850Z",
     "start_time": "2023-12-27T10:11:15.652093330Z"
    }
   },
   "outputs": [
    {
     "data": {
      "text/html": [
       "<div>\n",
       "<style scoped>\n",
       "    .dataframe tbody tr th:only-of-type {\n",
       "        vertical-align: middle;\n",
       "    }\n",
       "\n",
       "    .dataframe tbody tr th {\n",
       "        vertical-align: top;\n",
       "    }\n",
       "\n",
       "    .dataframe thead th {\n",
       "        text-align: right;\n",
       "    }\n",
       "</style>\n",
       "<table border=\"1\" class=\"dataframe\">\n",
       "  <thead>\n",
       "    <tr style=\"text-align: right;\">\n",
       "      <th></th>\n",
       "      <th>filename</th>\n",
       "      <th>timestamp</th>\n",
       "      <th>part_index</th>\n",
       "      <th>token_count</th>\n",
       "      <th>character_count</th>\n",
       "      <th>ordinal</th>\n",
       "      <th>header_0</th>\n",
       "      <th>header_1</th>\n",
       "      <th>headers</th>\n",
       "      <th>book</th>\n",
       "      <th>max_id</th>\n",
       "    </tr>\n",
       "    <tr>\n",
       "      <th>file_id</th>\n",
       "      <th></th>\n",
       "      <th></th>\n",
       "      <th></th>\n",
       "      <th></th>\n",
       "      <th></th>\n",
       "      <th></th>\n",
       "      <th></th>\n",
       "      <th></th>\n",
       "      <th></th>\n",
       "      <th></th>\n",
       "      <th></th>\n",
       "    </tr>\n",
       "  </thead>\n",
       "  <tbody>\n",
       "    <tr>\n",
       "      <th>10123a96-3c96-45d5-8b9e-cf82bc0abf15</th>\n",
       "      <td>ru_retell.md</td>\n",
       "      <td>2024-03-30 15:37:59.033062</td>\n",
       "      <td>0</td>\n",
       "      <td>396</td>\n",
       "      <td>1814</td>\n",
       "      <td>0</td>\n",
       "      <td>Часть 1</td>\n",
       "      <td>Глава 1: Знакомство с Родионом</td>\n",
       "      <td>Часть 1 / Глава 1: Знакомство с Родионом</td>\n",
       "      <td>ru_retell</td>\n",
       "      <td>397</td>\n",
       "    </tr>\n",
       "    <tr>\n",
       "      <th>86d6bc3e-55ba-4c62-9e50-2609188a5bfd</th>\n",
       "      <td>ru_retell.md</td>\n",
       "      <td>2024-03-30 15:37:59.037062</td>\n",
       "      <td>1</td>\n",
       "      <td>704</td>\n",
       "      <td>3090</td>\n",
       "      <td>1</td>\n",
       "      <td>Часть 1</td>\n",
       "      <td>Глава 2: Встреча с Мармеладовым</td>\n",
       "      <td>Часть 1 / Глава 2: Встреча с Мармеладовым</td>\n",
       "      <td>ru_retell</td>\n",
       "      <td>11102</td>\n",
       "    </tr>\n",
       "    <tr>\n",
       "      <th>eaf051a7-d816-4d4e-ad43-50fb67adbbae</th>\n",
       "      <td>ru_retell.md</td>\n",
       "      <td>2024-03-30 15:37:59.051062</td>\n",
       "      <td>2</td>\n",
       "      <td>280</td>\n",
       "      <td>1330</td>\n",
       "      <td>2</td>\n",
       "      <td>Часть 1</td>\n",
       "      <td>Глава 3: Письмо матери</td>\n",
       "      <td>Часть 1 / Глава 3: Письмо матери</td>\n",
       "      <td>ru_retell</td>\n",
       "      <td>21383</td>\n",
       "    </tr>\n",
       "    <tr>\n",
       "      <th>e97c6801-8a3e-479b-a016-166c175b2899</th>\n",
       "      <td>ru_retell.md</td>\n",
       "      <td>2024-03-30 15:37:59.064062</td>\n",
       "      <td>3</td>\n",
       "      <td>461</td>\n",
       "      <td>2020</td>\n",
       "      <td>3</td>\n",
       "      <td>Часть 1</td>\n",
       "      <td>Глава 4: Мысли о сестре</td>\n",
       "      <td>Часть 1 / Глава 4: Мысли о сестре</td>\n",
       "      <td>ru_retell</td>\n",
       "      <td>31845</td>\n",
       "    </tr>\n",
       "    <tr>\n",
       "      <th>4cc5e1a2-3bd6-4011-a946-2112bee95fe4</th>\n",
       "      <td>ru_retell.md</td>\n",
       "      <td>2024-03-30 15:37:59.077062</td>\n",
       "      <td>4</td>\n",
       "      <td>193</td>\n",
       "      <td>892</td>\n",
       "      <td>4</td>\n",
       "      <td>Часть 1</td>\n",
       "      <td>Глава 5: Сон Раскольникова</td>\n",
       "      <td>Часть 1 / Глава 5: Сон Раскольникова</td>\n",
       "      <td>ru_retell</td>\n",
       "      <td>42039</td>\n",
       "    </tr>\n",
       "  </tbody>\n",
       "</table>\n",
       "</div>"
      ],
      "text/plain": [
       "                                          filename                  timestamp  \\\n",
       "file_id                                                                         \n",
       "10123a96-3c96-45d5-8b9e-cf82bc0abf15  ru_retell.md 2024-03-30 15:37:59.033062   \n",
       "86d6bc3e-55ba-4c62-9e50-2609188a5bfd  ru_retell.md 2024-03-30 15:37:59.037062   \n",
       "eaf051a7-d816-4d4e-ad43-50fb67adbbae  ru_retell.md 2024-03-30 15:37:59.051062   \n",
       "e97c6801-8a3e-479b-a016-166c175b2899  ru_retell.md 2024-03-30 15:37:59.064062   \n",
       "4cc5e1a2-3bd6-4011-a946-2112bee95fe4  ru_retell.md 2024-03-30 15:37:59.077062   \n",
       "\n",
       "                                      part_index  token_count  \\\n",
       "file_id                                                         \n",
       "10123a96-3c96-45d5-8b9e-cf82bc0abf15           0          396   \n",
       "86d6bc3e-55ba-4c62-9e50-2609188a5bfd           1          704   \n",
       "eaf051a7-d816-4d4e-ad43-50fb67adbbae           2          280   \n",
       "e97c6801-8a3e-479b-a016-166c175b2899           3          461   \n",
       "4cc5e1a2-3bd6-4011-a946-2112bee95fe4           4          193   \n",
       "\n",
       "                                      character_count  ordinal header_0  \\\n",
       "file_id                                                                   \n",
       "10123a96-3c96-45d5-8b9e-cf82bc0abf15             1814        0  Часть 1   \n",
       "86d6bc3e-55ba-4c62-9e50-2609188a5bfd             3090        1  Часть 1   \n",
       "eaf051a7-d816-4d4e-ad43-50fb67adbbae             1330        2  Часть 1   \n",
       "e97c6801-8a3e-479b-a016-166c175b2899             2020        3  Часть 1   \n",
       "4cc5e1a2-3bd6-4011-a946-2112bee95fe4              892        4  Часть 1   \n",
       "\n",
       "                                                             header_1  \\\n",
       "file_id                                                                 \n",
       "10123a96-3c96-45d5-8b9e-cf82bc0abf15   Глава 1: Знакомство с Родионом   \n",
       "86d6bc3e-55ba-4c62-9e50-2609188a5bfd  Глава 2: Встреча с Мармеладовым   \n",
       "eaf051a7-d816-4d4e-ad43-50fb67adbbae           Глава 3: Письмо матери   \n",
       "e97c6801-8a3e-479b-a016-166c175b2899          Глава 4: Мысли о сестре   \n",
       "4cc5e1a2-3bd6-4011-a946-2112bee95fe4       Глава 5: Сон Раскольникова   \n",
       "\n",
       "                                                                        headers  \\\n",
       "file_id                                                                           \n",
       "10123a96-3c96-45d5-8b9e-cf82bc0abf15   Часть 1 / Глава 1: Знакомство с Родионом   \n",
       "86d6bc3e-55ba-4c62-9e50-2609188a5bfd  Часть 1 / Глава 2: Встреча с Мармеладовым   \n",
       "eaf051a7-d816-4d4e-ad43-50fb67adbbae           Часть 1 / Глава 3: Письмо матери   \n",
       "e97c6801-8a3e-479b-a016-166c175b2899          Часть 1 / Глава 4: Мысли о сестре   \n",
       "4cc5e1a2-3bd6-4011-a946-2112bee95fe4       Часть 1 / Глава 5: Сон Раскольникова   \n",
       "\n",
       "                                           book  max_id  \n",
       "file_id                                                  \n",
       "10123a96-3c96-45d5-8b9e-cf82bc0abf15  ru_retell     397  \n",
       "86d6bc3e-55ba-4c62-9e50-2609188a5bfd  ru_retell   11102  \n",
       "eaf051a7-d816-4d4e-ad43-50fb67adbbae  ru_retell   21383  \n",
       "e97c6801-8a3e-479b-a016-166c175b2899  ru_retell   31845  \n",
       "4cc5e1a2-3bd6-4011-a946-2112bee95fe4  ru_retell   42039  "
      ]
     },
     "execution_count": 9,
     "metadata": {},
     "output_type": "execute_result"
    }
   ],
   "source": [
    "ru_retell_reader = CorpusReader(Path('./files/ru_retell.base.zip'))\n",
    "ru_retell = ru_retell_reader.get_toc().index\n",
    "ru_retell_reader.get_toc()[:5]"
   ]
  },
  {
   "cell_type": "markdown",
   "metadata": {},
   "source": [
    "Next, we form a parallel corpus"
   ]
  },
  {
   "cell_type": "code",
   "execution_count": 10,
   "metadata": {
    "ExecuteTime": {
     "end_time": "2023-12-27T10:11:15.802079118Z",
     "start_time": "2023-12-27T10:11:15.693570783Z"
    }
   },
   "outputs": [],
   "source": [
    "import pandas as pd\n",
    "\n",
    "def add_relation(df_1,df_2,name_1,name_2):\n",
    "    rel_1 = pd.DataFrame({'file_1':df_1, 'file_2':df_2,'relation_name':f\"{name_1}_{name_2}\"})\n",
    "    rel_2 = pd.DataFrame({'file_1':df_2, 'file_2':df_1,'relation_name':f\"{name_2}_{name_1}\"})\n",
    "    rel = pd.concat([rel_1,rel_2])\n",
    "    return rel\n",
    "\n",
    "def add_dfs(name):\n",
    "    frames = list(name.get_frames())\n",
    "    dfs = dict(zip(name.get_toc().index,frames))\n",
    "\n",
    "    return dfs"
   ]
  },
  {
   "cell_type": "code",
   "execution_count": 11,
   "metadata": {
    "ExecuteTime": {
     "end_time": "2023-12-27T10:11:24.178484376Z",
     "start_time": "2023-12-27T10:11:15.737510951Z"
    }
   },
   "outputs": [],
   "source": [
    "CorpusBuilder.update_parallel_data(\n",
    "    Path('./files/parallel_corpus.zip'),\n",
    "    add_dfs(ru_book_reader),\n",
    "    \"ru_book\",\n",
    "    None)\n",
    "\n",
    "CorpusBuilder.update_parallel_data(\n",
    "    Path('./files/parallel_corpus.zip'),\n",
    "    add_dfs(ru_retell_reader),\n",
    "    \"ru_retell\",\n",
    "    add_relation(ru_book_reader.get_toc().index,ru_retell_reader.get_toc().index,\"ru_book\",\"ru_retell\"))\n",
    "\n",
    "CorpusBuilder.update_parallel_data(\n",
    "    Path('./files/parallel_corpus.zip'),\n",
    "    add_dfs(eng_book_reader),\n",
    "    \"eng_book\",\n",
    "    add_relation(ru_book_reader.get_toc().index,eng_book_reader.get_toc().index,\"ru_book\",\"eng_book\"))\n",
    "\n",
    "\n",
    "CorpusBuilder.update_parallel_data(\n",
    "    Path('./files/parallel_corpus.zip'),\n",
    "    add_dfs(eng_retell_reader),\n",
    "    \"eng_retell\",\n",
    "    add_relation(eng_book_reader.get_toc().index,eng_retell_reader.get_toc().index,\"eng_book\",\"eng_retell\"))\n",
    "\n"
   ]
  },
  {
   "cell_type": "markdown",
   "metadata": {},
   "source": [
    "We check that all parts have been successfully recorded"
   ]
  },
  {
   "cell_type": "code",
   "execution_count": 12,
   "metadata": {
    "ExecuteTime": {
     "end_time": "2023-12-27T10:11:24.202616716Z",
     "start_time": "2023-12-27T10:11:24.181180370Z"
    }
   },
   "outputs": [
    {
     "data": {
      "text/plain": [
       "array(['ru_book', 'ru_retell', 'eng_book', 'eng_retell'], dtype=object)"
      ]
     },
     "execution_count": 12,
     "metadata": {},
     "output_type": "execute_result"
    }
   ],
   "source": [
    "reader = CorpusReader(Path('./files/parallel_corpus.zip'))\n",
    "\n",
    "df = reader.get_toc()\n",
    "\n",
    "df.subcorpus_name.unique()"
   ]
  },
  {
   "cell_type": "markdown",
   "metadata": {},
   "source": [
    "## Translate text"
   ]
  },
  {
   "cell_type": "code",
   "execution_count": 13,
   "metadata": {
    "ExecuteTime": {
     "end_time": "2023-12-27T10:11:24.223443617Z",
     "start_time": "2023-12-27T10:11:24.200518817Z"
    }
   },
   "outputs": [],
   "source": [
    "path_parallel_corpus = Path('./files/parallel_corpus.zip')"
   ]
  },
  {
   "cell_type": "code",
   "execution_count": 20,
   "metadata": {
    "ExecuteTime": {
     "end_time": "2023-12-27T10:12:34.800301835Z",
     "start_time": "2023-12-27T10:12:11.969197975Z"
    }
   },
   "outputs": [
    {
     "ename": "ImportError",
     "evalue": "cannot import name 'SeparatorRu' from 'tg.grammar_ru' (unknown location)",
     "output_type": "error",
     "traceback": [
      "\u001b[1;31m---------------------------------------------------------------------------\u001b[0m",
      "\u001b[1;31mImportError\u001b[0m                               Traceback (most recent call last)",
      "Cell \u001b[1;32mIn[20], line 1\u001b[0m\n\u001b[1;32m----> 1\u001b[0m \u001b[38;5;28;01mfrom\u001b[39;00m \u001b[38;5;21;01mca\u001b[39;00m\u001b[38;5;21;01m.\u001b[39;00m\u001b[38;5;21;01mutils_translate\u001b[39;00m \u001b[38;5;28;01mimport\u001b[39;00m translate_subcorpus\n\u001b[0;32m      3\u001b[0m translate_subcorpus(path_parallel_corpus,\u001b[38;5;124m\"\u001b[39m\u001b[38;5;124meng_retell\u001b[39m\u001b[38;5;124m\"\u001b[39m)\n",
      "File \u001b[1;32mc:\\users\\yura\\desktop\\repos\\grammar_ru\\ca\\__init__.py:1\u001b[0m\n\u001b[1;32m----> 1\u001b[0m \u001b[38;5;28;01mfrom\u001b[39;00m \u001b[38;5;21;01m.\u001b[39;00m\u001b[38;5;21;01mSeq2VecMatching\u001b[39;00m \u001b[38;5;28;01mimport\u001b[39;00m Seq2VecMatcher\n\u001b[0;32m      2\u001b[0m \u001b[38;5;28;01mfrom\u001b[39;00m \u001b[38;5;21;01m.\u001b[39;00m\u001b[38;5;21;01mutils_translate\u001b[39;00m \u001b[38;5;28;01mimport\u001b[39;00m \u001b[38;5;241m*\u001b[39m\n",
      "File \u001b[1;32mc:\\users\\yura\\desktop\\repos\\grammar_ru\\ca\\Seq2VecMatching.py:4\u001b[0m\n\u001b[0;32m      2\u001b[0m \u001b[38;5;28;01mimport\u001b[39;00m \u001b[38;5;21;01mpandas\u001b[39;00m \u001b[38;5;28;01mas\u001b[39;00m \u001b[38;5;21;01mpd\u001b[39;00m\n\u001b[0;32m      3\u001b[0m \u001b[38;5;28;01mimport\u001b[39;00m \u001b[38;5;21;01mnumpy\u001b[39;00m \u001b[38;5;28;01mas\u001b[39;00m \u001b[38;5;21;01mnp\u001b[39;00m\n\u001b[1;32m----> 4\u001b[0m \u001b[38;5;28;01mfrom\u001b[39;00m \u001b[38;5;21;01mtg\u001b[39;00m\u001b[38;5;21;01m.\u001b[39;00m\u001b[38;5;21;01mgrammar_ru\u001b[39;00m \u001b[38;5;28;01mimport\u001b[39;00m SeparatorRu\n\u001b[0;32m      5\u001b[0m \u001b[38;5;28;01mfrom\u001b[39;00m \u001b[38;5;21;01mcollections\u001b[39;00m \u001b[38;5;28;01mimport\u001b[39;00m defaultdict\n\u001b[0;32m      8\u001b[0m \u001b[38;5;28;01mclass\u001b[39;00m \u001b[38;5;21;01mSeq2VecMatcher\u001b[39;00m:\n",
      "\u001b[1;31mImportError\u001b[0m: cannot import name 'SeparatorRu' from 'tg.grammar_ru' (unknown location)"
     ]
    }
   ],
   "source": [
    "from ca.utils_translate import translate_subcorpus\n",
    "\n",
    "translate_subcorpus(path_parallel_corpus,\"eng_retell\")"
   ]
  },
  {
   "cell_type": "code",
   "execution_count": 15,
   "metadata": {
    "ExecuteTime": {
     "end_time": "2023-12-27T10:12:37.079624810Z",
     "start_time": "2023-12-27T10:12:37.046708502Z"
    }
   },
   "outputs": [
    {
     "data": {
      "text/plain": [
       "array(['ru_book', 'ru_retell', 'eng_book', 'eng_retell', 'ru_translate'],\n",
       "      dtype=object)"
      ]
     },
     "execution_count": 15,
     "metadata": {},
     "output_type": "execute_result"
    }
   ],
   "source": [
    "reader = CorpusReader(Path('./files/parallel_corpus.zip'))\n",
    "\n",
    "df = reader.get_toc()\n",
    "\n",
    "df.subcorpus_name.unique()"
   ]
  },
  {
   "cell_type": "markdown",
   "metadata": {},
   "source": [
    "### Remove Corpuses"
   ]
  },
  {
   "cell_type": "code",
   "execution_count": 1,
   "metadata": {
    "ExecuteTime": {
     "end_time": "2023-12-27T11:27:10.090582428Z",
     "start_time": "2023-12-27T11:27:10.089352836Z"
    }
   },
   "outputs": [],
   "source": [
    "import os\n",
    "from pathlib import Path\n",
    "\n",
    "os.remove(Path('./files/eng_crime_and_puhishment.base.zip'))\n",
    "os.remove(Path('./files/eng_retell.base.zip'))\n",
    "os.remove(Path('./files/ru_crime_and_puhishment.base.zip'))\n",
    "os.remove(Path('./files/ru_retell.base.zip'))\n",
    "os.remove(Path('./files/translate.base.zip'))"
   ]
  }
 ],
 "metadata": {
  "kernelspec": {
   "display_name": "Python 3 (ipykernel)",
   "language": "python",
   "name": "python3"
  },
  "language_info": {
   "codemirror_mode": {
    "name": "ipython",
    "version": 3
   },
   "file_extension": ".py",
   "mimetype": "text/x-python",
   "name": "python",
   "nbconvert_exporter": "python",
   "pygments_lexer": "ipython3",
   "version": "3.8.18"
  }
 },
 "nbformat": 4,
 "nbformat_minor": 2
}
