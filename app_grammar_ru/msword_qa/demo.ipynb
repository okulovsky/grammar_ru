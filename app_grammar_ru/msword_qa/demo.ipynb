{
 "cells": [
  {
   "cell_type": "markdown",
   "source": [
    "# Проверка бандла в Microsoft Word"
   ],
   "metadata": {
    "collapsed": false
   },
   "id": "1da33d89e42d7990"
  },
  {
   "cell_type": "markdown",
   "source": [
    "Загрузим Data Bundle"
   ],
   "metadata": {
    "collapsed": false
   },
   "id": "d06a1b51207a8843"
  },
  {
   "cell_type": "code",
   "outputs": [
    {
     "data": {
      "text/plain": "   word_id  sentence_id  word_index  paragraph_id  word_tail          word  \\\n0        0            0           0             0          1             —   \n1        1            0           1             0          1         Фильм   \n2        2            0           2             0          0             «   \n3        3            0           3             0          0  Растворяться   \n4        4            0           4             0          1             »   \n\n  word_type  word_length                               file_id  \\\n0     punct            1  273a88ef-0d47-4a69-8c84-9b91e2d5427f   \n1        ru            5  273a88ef-0d47-4a69-8c84-9b91e2d5427f   \n2     punct            1  273a88ef-0d47-4a69-8c84-9b91e2d5427f   \n3        ru           12  273a88ef-0d47-4a69-8c84-9b91e2d5427f   \n4     punct            1  273a88ef-0d47-4a69-8c84-9b91e2d5427f   \n\n        corpus_id  is_target  label original_corpus  original_word_id  \\\n0  transfuzed.zip      False      0    pub.base.zip                68   \n1  transfuzed.zip      False      0    pub.base.zip                69   \n2  transfuzed.zip      False      0    pub.base.zip                70   \n3  transfuzed.zip       True      0    pub.base.zip                71   \n4  transfuzed.zip      False      0    pub.base.zip                72   \n\n   original_sentence_id  original_paragraph_id  updated  \n0                     4                      2    False  \n1                     4                      2    False  \n2                     4                      2    False  \n3                     4                      2    False  \n4                     4                      2    False  ",
      "text/html": "<div>\n<style scoped>\n    .dataframe tbody tr th:only-of-type {\n        vertical-align: middle;\n    }\n\n    .dataframe tbody tr th {\n        vertical-align: top;\n    }\n\n    .dataframe thead th {\n        text-align: right;\n    }\n</style>\n<table border=\"1\" class=\"dataframe\">\n  <thead>\n    <tr style=\"text-align: right;\">\n      <th></th>\n      <th>word_id</th>\n      <th>sentence_id</th>\n      <th>word_index</th>\n      <th>paragraph_id</th>\n      <th>word_tail</th>\n      <th>word</th>\n      <th>word_type</th>\n      <th>word_length</th>\n      <th>file_id</th>\n      <th>corpus_id</th>\n      <th>is_target</th>\n      <th>label</th>\n      <th>original_corpus</th>\n      <th>original_word_id</th>\n      <th>original_sentence_id</th>\n      <th>original_paragraph_id</th>\n      <th>updated</th>\n    </tr>\n  </thead>\n  <tbody>\n    <tr>\n      <th>0</th>\n      <td>0</td>\n      <td>0</td>\n      <td>0</td>\n      <td>0</td>\n      <td>1</td>\n      <td>—</td>\n      <td>punct</td>\n      <td>1</td>\n      <td>273a88ef-0d47-4a69-8c84-9b91e2d5427f</td>\n      <td>transfuzed.zip</td>\n      <td>False</td>\n      <td>0</td>\n      <td>pub.base.zip</td>\n      <td>68</td>\n      <td>4</td>\n      <td>2</td>\n      <td>False</td>\n    </tr>\n    <tr>\n      <th>1</th>\n      <td>1</td>\n      <td>0</td>\n      <td>1</td>\n      <td>0</td>\n      <td>1</td>\n      <td>Фильм</td>\n      <td>ru</td>\n      <td>5</td>\n      <td>273a88ef-0d47-4a69-8c84-9b91e2d5427f</td>\n      <td>transfuzed.zip</td>\n      <td>False</td>\n      <td>0</td>\n      <td>pub.base.zip</td>\n      <td>69</td>\n      <td>4</td>\n      <td>2</td>\n      <td>False</td>\n    </tr>\n    <tr>\n      <th>2</th>\n      <td>2</td>\n      <td>0</td>\n      <td>2</td>\n      <td>0</td>\n      <td>0</td>\n      <td>«</td>\n      <td>punct</td>\n      <td>1</td>\n      <td>273a88ef-0d47-4a69-8c84-9b91e2d5427f</td>\n      <td>transfuzed.zip</td>\n      <td>False</td>\n      <td>0</td>\n      <td>pub.base.zip</td>\n      <td>70</td>\n      <td>4</td>\n      <td>2</td>\n      <td>False</td>\n    </tr>\n    <tr>\n      <th>3</th>\n      <td>3</td>\n      <td>0</td>\n      <td>3</td>\n      <td>0</td>\n      <td>0</td>\n      <td>Растворяться</td>\n      <td>ru</td>\n      <td>12</td>\n      <td>273a88ef-0d47-4a69-8c84-9b91e2d5427f</td>\n      <td>transfuzed.zip</td>\n      <td>True</td>\n      <td>0</td>\n      <td>pub.base.zip</td>\n      <td>71</td>\n      <td>4</td>\n      <td>2</td>\n      <td>False</td>\n    </tr>\n    <tr>\n      <th>4</th>\n      <td>4</td>\n      <td>0</td>\n      <td>4</td>\n      <td>0</td>\n      <td>1</td>\n      <td>»</td>\n      <td>punct</td>\n      <td>1</td>\n      <td>273a88ef-0d47-4a69-8c84-9b91e2d5427f</td>\n      <td>transfuzed.zip</td>\n      <td>False</td>\n      <td>0</td>\n      <td>pub.base.zip</td>\n      <td>72</td>\n      <td>4</td>\n      <td>2</td>\n      <td>False</td>\n    </tr>\n  </tbody>\n</table>\n</div>"
     },
     "execution_count": 22,
     "metadata": {},
     "output_type": "execute_result"
    }
   ],
   "source": [
    "from tg.common import DataBundle\n",
    "\n",
    "db = DataBundle.load(r'../demos/files/tsa-test.zip')\n",
    "\n",
    "src = db.src\n",
    "src.head()"
   ],
   "metadata": {
    "collapsed": true,
    "ExecuteTime": {
     "end_time": "2024-01-17T18:12:24.919919200Z",
     "start_time": "2024-01-17T18:12:24.667923Z"
    }
   },
   "id": "initial_id",
   "execution_count": 22
  },
  {
   "cell_type": "markdown",
   "source": [
    "Подключим клиент для работы с MS Word"
   ],
   "metadata": {
    "collapsed": false
   },
   "id": "8b03c1988ae35b3b"
  },
  {
   "cell_type": "code",
   "outputs": [
    {
     "data": {
      "text/plain": "[SpellError(word='боротся', index=3, start_position=21, end_position=28, suggestions=['борется', 'борются', 'бороться', 'берётся', 'берется', 'берутся', 'бурится', 'бурятся', 'боролся', 'боротая'])]"
     },
     "execution_count": 21,
     "metadata": {},
     "output_type": "execute_result"
    }
   ],
   "source": [
    "from qa.enums.language import Language\n",
    "from word_client import MSWordClient\n",
    "\n",
    "client = MSWordClient(Language.RUSSIAN)\n",
    "\n",
    "client.spell_check(\"Мне часто приходится боротся с трудностями\")"
   ],
   "metadata": {
    "collapsed": false,
    "ExecuteTime": {
     "end_time": "2024-01-17T18:11:52.727034700Z",
     "start_time": "2024-01-17T18:11:52.501048200Z"
    }
   },
   "id": "d6c85205dfd10d16",
   "execution_count": 21
  },
  {
   "cell_type": "markdown",
   "source": [
    "Получим список случайных идентификаторов предложений"
   ],
   "metadata": {
    "collapsed": false
   },
   "id": "736a1fb9f60f37d0"
  },
  {
   "cell_type": "code",
   "outputs": [],
   "source": [
    "import numpy as np\n",
    "\n",
    "\n",
    "ALL_SENTENCES_COUNT = 500\n",
    "NEGATIVE_SENTENCES_COUNT = 300\n",
    "\n",
    "uniq_sentence_ids = np.random.choice(src['sentence_id'].unique(), ALL_SENTENCES_COUNT, replace=False)"
   ],
   "metadata": {
    "collapsed": false,
    "ExecuteTime": {
     "end_time": "2024-01-17T17:40:51.914432200Z",
     "start_time": "2024-01-17T17:40:51.857426200Z"
    }
   },
   "id": "ad1399837da42d1f",
   "execution_count": 3
  },
  {
   "cell_type": "markdown",
   "source": [
    "Получим dataframe с корректными предложениями"
   ],
   "metadata": {
    "collapsed": false
   },
   "id": "659ff00a29d2047b"
  },
  {
   "cell_type": "code",
   "outputs": [
    {
     "data": {
      "text/plain": "     word_id  sentence_id  word_index  paragraph_id  word_tail         word  \\\n115      115           76           0            76          1            —   \n116      116           76           1            76          1            В   \n117      117           76           2            76          0            «   \n118      118           76           3            76          0  Растворятся   \n119      119           76           4            76          1            »   \n\n    word_type  word_length                               file_id  \\\n115     punct            1  273a88ef-0d47-4a69-8c84-9b91e2d5427f   \n116        ru            1  273a88ef-0d47-4a69-8c84-9b91e2d5427f   \n117     punct            1  273a88ef-0d47-4a69-8c84-9b91e2d5427f   \n118        ru           12  273a88ef-0d47-4a69-8c84-9b91e2d5427f   \n119     punct            1  273a88ef-0d47-4a69-8c84-9b91e2d5427f   \n\n          corpus_id  is_target  label original_corpus  original_word_id  \\\n115  transfuzed.zip      False      1    pub.base.zip               777   \n116  transfuzed.zip      False      1    pub.base.zip               778   \n117  transfuzed.zip      False      1    pub.base.zip               779   \n118  transfuzed.zip       True      1    pub.base.zip               780   \n119  transfuzed.zip      False      1    pub.base.zip               781   \n\n     original_sentence_id  original_paragraph_id  updated  \n115                    59                     34    False  \n116                    59                     34    False  \n117                    59                     34    False  \n118                    59                     34    False  \n119                    59                     34    False  ",
      "text/html": "<div>\n<style scoped>\n    .dataframe tbody tr th:only-of-type {\n        vertical-align: middle;\n    }\n\n    .dataframe tbody tr th {\n        vertical-align: top;\n    }\n\n    .dataframe thead th {\n        text-align: right;\n    }\n</style>\n<table border=\"1\" class=\"dataframe\">\n  <thead>\n    <tr style=\"text-align: right;\">\n      <th></th>\n      <th>word_id</th>\n      <th>sentence_id</th>\n      <th>word_index</th>\n      <th>paragraph_id</th>\n      <th>word_tail</th>\n      <th>word</th>\n      <th>word_type</th>\n      <th>word_length</th>\n      <th>file_id</th>\n      <th>corpus_id</th>\n      <th>is_target</th>\n      <th>label</th>\n      <th>original_corpus</th>\n      <th>original_word_id</th>\n      <th>original_sentence_id</th>\n      <th>original_paragraph_id</th>\n      <th>updated</th>\n    </tr>\n  </thead>\n  <tbody>\n    <tr>\n      <th>115</th>\n      <td>115</td>\n      <td>76</td>\n      <td>0</td>\n      <td>76</td>\n      <td>1</td>\n      <td>—</td>\n      <td>punct</td>\n      <td>1</td>\n      <td>273a88ef-0d47-4a69-8c84-9b91e2d5427f</td>\n      <td>transfuzed.zip</td>\n      <td>False</td>\n      <td>1</td>\n      <td>pub.base.zip</td>\n      <td>777</td>\n      <td>59</td>\n      <td>34</td>\n      <td>False</td>\n    </tr>\n    <tr>\n      <th>116</th>\n      <td>116</td>\n      <td>76</td>\n      <td>1</td>\n      <td>76</td>\n      <td>1</td>\n      <td>В</td>\n      <td>ru</td>\n      <td>1</td>\n      <td>273a88ef-0d47-4a69-8c84-9b91e2d5427f</td>\n      <td>transfuzed.zip</td>\n      <td>False</td>\n      <td>1</td>\n      <td>pub.base.zip</td>\n      <td>778</td>\n      <td>59</td>\n      <td>34</td>\n      <td>False</td>\n    </tr>\n    <tr>\n      <th>117</th>\n      <td>117</td>\n      <td>76</td>\n      <td>2</td>\n      <td>76</td>\n      <td>0</td>\n      <td>«</td>\n      <td>punct</td>\n      <td>1</td>\n      <td>273a88ef-0d47-4a69-8c84-9b91e2d5427f</td>\n      <td>transfuzed.zip</td>\n      <td>False</td>\n      <td>1</td>\n      <td>pub.base.zip</td>\n      <td>779</td>\n      <td>59</td>\n      <td>34</td>\n      <td>False</td>\n    </tr>\n    <tr>\n      <th>118</th>\n      <td>118</td>\n      <td>76</td>\n      <td>3</td>\n      <td>76</td>\n      <td>0</td>\n      <td>Растворятся</td>\n      <td>ru</td>\n      <td>12</td>\n      <td>273a88ef-0d47-4a69-8c84-9b91e2d5427f</td>\n      <td>transfuzed.zip</td>\n      <td>True</td>\n      <td>1</td>\n      <td>pub.base.zip</td>\n      <td>780</td>\n      <td>59</td>\n      <td>34</td>\n      <td>False</td>\n    </tr>\n    <tr>\n      <th>119</th>\n      <td>119</td>\n      <td>76</td>\n      <td>4</td>\n      <td>76</td>\n      <td>1</td>\n      <td>»</td>\n      <td>punct</td>\n      <td>1</td>\n      <td>273a88ef-0d47-4a69-8c84-9b91e2d5427f</td>\n      <td>transfuzed.zip</td>\n      <td>False</td>\n      <td>1</td>\n      <td>pub.base.zip</td>\n      <td>781</td>\n      <td>59</td>\n      <td>34</td>\n      <td>False</td>\n    </tr>\n  </tbody>\n</table>\n</div>"
     },
     "execution_count": 4,
     "metadata": {},
     "output_type": "execute_result"
    }
   ],
   "source": [
    "positive_sentence_ids = uniq_sentence_ids[NEGATIVE_SENTENCES_COUNT:]\n",
    "\n",
    "positive_src = src[src['sentence_id'].isin(positive_sentence_ids)]\n",
    "\n",
    "positive_src.head()"
   ],
   "metadata": {
    "collapsed": false,
    "ExecuteTime": {
     "end_time": "2024-01-17T17:40:56.012465800Z",
     "start_time": "2024-01-17T17:40:55.939782700Z"
    }
   },
   "id": "6411ddf081cff5ea",
   "execution_count": 4
  },
  {
   "cell_type": "markdown",
   "source": [
    "Получим отрицательный dataframe с предложениями, где правильные глаголы на -тся/-ться заменены на ошибочные"
   ],
   "metadata": {
    "collapsed": false
   },
   "id": "14b55be8d314d686"
  },
  {
   "cell_type": "code",
   "outputs": [
    {
     "data": {
      "text/plain": "    word_id  sentence_id  word_index  paragraph_id  word_tail     word  \\\n27       27            2           0             2          0    Думаю   \n28       28            2           1             2          1        ,   \n29       29            2           2             2          1      что   \n30       30            2           3             2          0  зрителю   \n31       31            2           4             2          1        ,   \n\n   word_type  word_length                               file_id  \\\n27        ru            5  273a88ef-0d47-4a69-8c84-9b91e2d5427f   \n28     punct            1  273a88ef-0d47-4a69-8c84-9b91e2d5427f   \n29        ru            3  273a88ef-0d47-4a69-8c84-9b91e2d5427f   \n30        ru            7  273a88ef-0d47-4a69-8c84-9b91e2d5427f   \n31     punct            1  273a88ef-0d47-4a69-8c84-9b91e2d5427f   \n\n         corpus_id  is_target  label original_corpus  original_word_id  \\\n27  transfuzed.zip      False      0    pub.base.zip               408   \n28  transfuzed.zip      False      0    pub.base.zip               409   \n29  transfuzed.zip      False      0    pub.base.zip               410   \n30  transfuzed.zip      False      0    pub.base.zip               411   \n31  transfuzed.zip      False      0    pub.base.zip               412   \n\n    original_sentence_id  original_paragraph_id  updated  \n27                    27                     14    False  \n28                    27                     14    False  \n29                    27                     14    False  \n30                    27                     14    False  \n31                    27                     14    False  ",
      "text/html": "<div>\n<style scoped>\n    .dataframe tbody tr th:only-of-type {\n        vertical-align: middle;\n    }\n\n    .dataframe tbody tr th {\n        vertical-align: top;\n    }\n\n    .dataframe thead th {\n        text-align: right;\n    }\n</style>\n<table border=\"1\" class=\"dataframe\">\n  <thead>\n    <tr style=\"text-align: right;\">\n      <th></th>\n      <th>word_id</th>\n      <th>sentence_id</th>\n      <th>word_index</th>\n      <th>paragraph_id</th>\n      <th>word_tail</th>\n      <th>word</th>\n      <th>word_type</th>\n      <th>word_length</th>\n      <th>file_id</th>\n      <th>corpus_id</th>\n      <th>is_target</th>\n      <th>label</th>\n      <th>original_corpus</th>\n      <th>original_word_id</th>\n      <th>original_sentence_id</th>\n      <th>original_paragraph_id</th>\n      <th>updated</th>\n    </tr>\n  </thead>\n  <tbody>\n    <tr>\n      <th>27</th>\n      <td>27</td>\n      <td>2</td>\n      <td>0</td>\n      <td>2</td>\n      <td>0</td>\n      <td>Думаю</td>\n      <td>ru</td>\n      <td>5</td>\n      <td>273a88ef-0d47-4a69-8c84-9b91e2d5427f</td>\n      <td>transfuzed.zip</td>\n      <td>False</td>\n      <td>0</td>\n      <td>pub.base.zip</td>\n      <td>408</td>\n      <td>27</td>\n      <td>14</td>\n      <td>False</td>\n    </tr>\n    <tr>\n      <th>28</th>\n      <td>28</td>\n      <td>2</td>\n      <td>1</td>\n      <td>2</td>\n      <td>1</td>\n      <td>,</td>\n      <td>punct</td>\n      <td>1</td>\n      <td>273a88ef-0d47-4a69-8c84-9b91e2d5427f</td>\n      <td>transfuzed.zip</td>\n      <td>False</td>\n      <td>0</td>\n      <td>pub.base.zip</td>\n      <td>409</td>\n      <td>27</td>\n      <td>14</td>\n      <td>False</td>\n    </tr>\n    <tr>\n      <th>29</th>\n      <td>29</td>\n      <td>2</td>\n      <td>2</td>\n      <td>2</td>\n      <td>1</td>\n      <td>что</td>\n      <td>ru</td>\n      <td>3</td>\n      <td>273a88ef-0d47-4a69-8c84-9b91e2d5427f</td>\n      <td>transfuzed.zip</td>\n      <td>False</td>\n      <td>0</td>\n      <td>pub.base.zip</td>\n      <td>410</td>\n      <td>27</td>\n      <td>14</td>\n      <td>False</td>\n    </tr>\n    <tr>\n      <th>30</th>\n      <td>30</td>\n      <td>2</td>\n      <td>3</td>\n      <td>2</td>\n      <td>0</td>\n      <td>зрителю</td>\n      <td>ru</td>\n      <td>7</td>\n      <td>273a88ef-0d47-4a69-8c84-9b91e2d5427f</td>\n      <td>transfuzed.zip</td>\n      <td>False</td>\n      <td>0</td>\n      <td>pub.base.zip</td>\n      <td>411</td>\n      <td>27</td>\n      <td>14</td>\n      <td>False</td>\n    </tr>\n    <tr>\n      <th>31</th>\n      <td>31</td>\n      <td>2</td>\n      <td>4</td>\n      <td>2</td>\n      <td>1</td>\n      <td>,</td>\n      <td>punct</td>\n      <td>1</td>\n      <td>273a88ef-0d47-4a69-8c84-9b91e2d5427f</td>\n      <td>transfuzed.zip</td>\n      <td>False</td>\n      <td>0</td>\n      <td>pub.base.zip</td>\n      <td>412</td>\n      <td>27</td>\n      <td>14</td>\n      <td>False</td>\n    </tr>\n  </tbody>\n</table>\n</div>"
     },
     "execution_count": 5,
     "metadata": {},
     "output_type": "execute_result"
    }
   ],
   "source": [
    "negative_sentence_ids = uniq_sentence_ids[:NEGATIVE_SENTENCES_COUNT]\n",
    "negative_src = src[src['sentence_id'].isin(negative_sentence_ids)]\n",
    "\n",
    "def replace_endings(word):\n",
    "    if word.endswith('тся'):\n",
    "        return word[:-3] + 'ться'\n",
    "    elif word.endswith('ться'):\n",
    "        return word[:-4] + 'тся'\n",
    "    else:\n",
    "        return word\n",
    "\n",
    "negative_src = negative_src.copy()\n",
    "negative_src['word'] = negative_src['word'].apply(replace_endings)\n",
    "\n",
    "negative_src.head()"
   ],
   "metadata": {
    "collapsed": false,
    "ExecuteTime": {
     "end_time": "2024-01-17T17:40:59.588048900Z",
     "start_time": "2024-01-17T17:40:59.533046200Z"
    }
   },
   "id": "4633c6595a4778a5",
   "execution_count": 5
  },
  {
   "cell_type": "code",
   "outputs": [],
   "source": [
    "from pandas import DataFrame\n",
    "\n",
    "from tg.grammar_ru import Separator\n",
    "from qa.entities.error_qualifier import TsaErrorQualifier\n",
    "\n",
    "\n",
    "def get_errors_count(df: DataFrame) -> int:\n",
    "    errors_count = 0\n",
    "\n",
    "    for id in df['sentence_id'].unique():\n",
    "        sentence = Separator.Viewer().to_text(df.loc[df.sentence_id == id])\n",
    "        errors_count += len(client.spell_check(sentence, error_qualifier=TsaErrorQualifier))\n",
    "\n",
    "    return errors_count"
   ],
   "metadata": {
    "collapsed": false,
    "ExecuteTime": {
     "end_time": "2024-01-17T17:42:31.524165900Z",
     "start_time": "2024-01-17T17:42:31.470177100Z"
    }
   },
   "id": "be41003f100b46e1",
   "execution_count": 8
  },
  {
   "cell_type": "markdown",
   "source": [
    "Получим число ошибок употребления -тся/-ться, которое найдет MS Word в предложениях из позитивного dataframe"
   ],
   "metadata": {
    "collapsed": false
   },
   "id": "27d7ac9f4d454133"
  },
  {
   "cell_type": "code",
   "outputs": [
    {
     "data": {
      "text/plain": "0"
     },
     "execution_count": 9,
     "metadata": {},
     "output_type": "execute_result"
    }
   ],
   "source": [
    "positive_errors_count = get_errors_count(positive_src)\n",
    "positive_errors_count"
   ],
   "metadata": {
    "collapsed": false,
    "ExecuteTime": {
     "end_time": "2024-01-17T17:44:13.577520100Z",
     "start_time": "2024-01-17T17:42:33.933598700Z"
    }
   },
   "id": "a1f96d12bdfe2988",
   "execution_count": 9
  },
  {
   "cell_type": "markdown",
   "source": [
    "Получим число ошибок употребления -тся/-ться, которое найдет MS Word в предложениях из отрицательного dataframe"
   ],
   "metadata": {
    "collapsed": false
   },
   "id": "c379b838c264222a"
  },
  {
   "cell_type": "code",
   "outputs": [
    {
     "data": {
      "text/plain": "68"
     },
     "execution_count": 10,
     "metadata": {},
     "output_type": "execute_result"
    }
   ],
   "source": [
    "negative_errors_count = get_errors_count(negative_src)\n",
    "negative_errors_count"
   ],
   "metadata": {
    "collapsed": false,
    "ExecuteTime": {
     "end_time": "2024-01-17T17:47:55.701359Z",
     "start_time": "2024-01-17T17:44:47.256087700Z"
    }
   },
   "id": "8daf85ee8411787c",
   "execution_count": 10
  },
  {
   "cell_type": "code",
   "outputs": [
    {
     "data": {
      "text/plain": "(68, 0, 200, 236)"
     },
     "execution_count": 11,
     "metadata": {},
     "output_type": "execute_result"
    }
   ],
   "source": [
    "true_positive = negative_errors_count # ошибка есть и она найдена\n",
    "false_positive = positive_errors_count # ошибки нет, но она найдена\n",
    "true_negative = positive_src[positive_src['is_target'] == True].shape[0] - positive_errors_count # ошибки нет и она не найдена\n",
    "false_negative = negative_src[negative_src['is_target'] == True].shape[0] - negative_errors_count # ошибка есть, но она не найдена\n",
    "\n",
    "true_positive, false_positive, true_negative, false_negative"
   ],
   "metadata": {
    "collapsed": false,
    "ExecuteTime": {
     "end_time": "2024-01-17T17:48:03.864452300Z",
     "start_time": "2024-01-17T17:48:03.756456100Z"
    }
   },
   "id": "2c6005e1a921f11b",
   "execution_count": 11
  },
  {
   "cell_type": "markdown",
   "source": [
    "Построим матрицу ошибок"
   ],
   "metadata": {
    "collapsed": false
   },
   "id": "4ee59c3a00db955f"
  },
  {
   "cell_type": "code",
   "outputs": [
    {
     "data": {
      "text/plain": "<Figure size 640x480 with 2 Axes>",
      "image/png": "[encoded data removed]"
     },
     "metadata": {},
     "output_type": "display_data"
    }
   ],
   "source": [
    "import seaborn as sns\n",
    "import matplotlib.pyplot as plt\n",
    "\n",
    "ax = plt.subplot()\n",
    "sns.heatmap([[true_positive, false_negative], [false_positive, true_negative]], annot=True, cmap='Blues', ax=ax, fmt='g')\n",
    "\n",
    "ax.set_xlabel('\\n\"Предсказанные\" значения')\n",
    "ax.set_ylabel('Реальные значения\\n')\n",
    "\n",
    "\n",
    "ax.xaxis.set_ticklabels(['Ошибка', 'Не ошибка'])\n",
    "ax.yaxis.set_ticklabels(['Ошибка', 'Не ошибка'])\n",
    "\n",
    "plt.show()"
   ],
   "metadata": {
    "collapsed": false,
    "ExecuteTime": {
     "end_time": "2024-01-17T18:04:39.771829800Z",
     "start_time": "2024-01-17T18:04:39.500834500Z"
    }
   },
   "id": "7e18215f458279a9",
   "execution_count": 18
  },
  {
   "cell_type": "markdown",
   "source": [
    "Посчитаем точность"
   ],
   "metadata": {
    "collapsed": false
   },
   "id": "8b67d07712a5c8e4"
  },
  {
   "cell_type": "code",
   "outputs": [
    {
     "data": {
      "text/plain": "1.0"
     },
     "execution_count": 12,
     "metadata": {},
     "output_type": "execute_result"
    }
   ],
   "source": [
    "precision = true_positive / (true_positive + false_positive)\n",
    "\n",
    "precision"
   ],
   "metadata": {
    "collapsed": false,
    "ExecuteTime": {
     "end_time": "2024-01-17T17:48:08.805574100Z",
     "start_time": "2024-01-17T17:48:08.776576900Z"
    }
   },
   "id": "913dc6fc72b2460",
   "execution_count": 12
  },
  {
   "cell_type": "markdown",
   "source": [
    "Посчитаем полноту"
   ],
   "metadata": {
    "collapsed": false
   },
   "id": "c28d883e8236b20e"
  },
  {
   "cell_type": "code",
   "outputs": [
    {
     "data": {
      "text/plain": "0.2236842105263158"
     },
     "execution_count": 13,
     "metadata": {},
     "output_type": "execute_result"
    }
   ],
   "source": [
    "recall = true_positive / (true_positive + false_negative)\n",
    "\n",
    "recall"
   ],
   "metadata": {
    "collapsed": false,
    "ExecuteTime": {
     "end_time": "2024-01-17T17:48:12.321162600Z",
     "start_time": "2024-01-17T17:48:12.283159400Z"
    }
   },
   "id": "c7988077785219fe",
   "execution_count": 13
  },
  {
   "cell_type": "markdown",
   "source": [
    "Посчитаем f1"
   ],
   "metadata": {
    "collapsed": false
   },
   "id": "80be25ba42fb0897"
  },
  {
   "cell_type": "code",
   "outputs": [
    {
     "data": {
      "text/plain": "0.3655913978494624"
     },
     "execution_count": 14,
     "metadata": {},
     "output_type": "execute_result"
    }
   ],
   "source": [
    "f1_score = 2 * precision * recall / (recall + precision)\n",
    "\n",
    "f1_score"
   ],
   "metadata": {
    "collapsed": false,
    "ExecuteTime": {
     "end_time": "2024-01-17T17:48:14.514605Z",
     "start_time": "2024-01-17T17:48:14.468613700Z"
    }
   },
   "id": "13e29e0ca5e6f1dc",
   "execution_count": 14
  }
 ],
 "metadata": {
  "kernelspec": {
   "display_name": "Python 3",
   "language": "python",
   "name": "python3"
  },
  "language_info": {
   "codemirror_mode": {
    "name": "ipython",
    "version": 2
   },
   "file_extension": ".py",
   "mimetype": "text/x-python",
   "name": "python",
   "nbconvert_exporter": "python",
   "pygments_lexer": "ipython2",
   "version": "2.7.6"
  }
 },
 "nbformat": 4,
 "nbformat_minor": 5
}
