{
 "cells": [
  {
   "cell_type": "markdown",
   "metadata": {},
   "source": [
    "## Yandex DataSphere Delivery example"
   ]
  },
  {
   "cell_type": "markdown",
   "metadata": {},
   "source": [
    "**Задача**: доставить Training Job на DataSphere и запустить там."
   ]
  },
  {
   "cell_type": "markdown",
   "metadata": {},
   "source": [
    "#### План\n",
    "\n",
    "* Создать локально TrainingJob со списком task'ов и всей необходимой информацией о датасете\n",
    "\n",
    "* Запустить локально тем образом, каким будем запускать в DataSphere\n",
    "\n",
    "* Запустить в DataSphere с помощью Docker, как описано в training_grounds/Delivery.md"
   ]
  },
  {
   "cell_type": "markdown",
   "metadata": {},
   "source": [
    "### Загрузим бандл на YandexStorage"
   ]
  },
  {
   "cell_type": "code",
   "execution_count": 1,
   "metadata": {},
   "outputs": [],
   "source": [
    "from sklearn import datasets\n",
    "import pandas as pd\n",
    "from tg.common.ml import batched_training as bt\n"
   ]
  },
  {
   "cell_type": "code",
   "execution_count": 2,
   "metadata": {},
   "outputs": [],
   "source": [
    "project_name = 'testirisproject'\n",
    "dataset_name = 'irisdataset'\n",
    "bucket = 'testirisbucket'\n"
   ]
  },
  {
   "cell_type": "code",
   "execution_count": 3,
   "metadata": {},
   "outputs": [
    {
     "data": {
      "text/plain": [
       "True"
      ]
     },
     "execution_count": 3,
     "metadata": {},
     "output_type": "execute_result"
    }
   ],
   "source": [
    "import os\n",
    "from pathlib import Path\n",
    "from tg.grammar_ru.common.loc import Loc\n",
    "from dotenv import load_dotenv\n",
    "load_dotenv(Loc.root_path / 'environment.env')\n"
   ]
  },
  {
   "cell_type": "markdown",
   "metadata": {},
   "source": [
    "#### Создадим бандл"
   ]
  },
  {
   "cell_type": "code",
   "execution_count": 4,
   "metadata": {},
   "outputs": [],
   "source": [
    "from tg.grammar_ru.common.loc import Loc\n",
    "\n",
    "\n",
    "def get_multilabel_classification_bundle():\n",
    "    ds = datasets.load_iris()\n",
    "    features = pd.DataFrame(ds['data'], columns=ds['feature_names'])\n",
    "    df = pd.DataFrame(ds['target_names'][ds['target']], columns=['label'])\n",
    "    df['split'] = bt.train_display_test_split(df, 0.2, 0.2, 'label')\n",
    "    bundle = bt.DataBundle(index=df, features=features)\n",
    "    return bundle\n",
    "\n",
    "\n",
    "bundle_temp_folder = Loc.temp_path / 'temp_bundle'\n",
    "bundle = get_multilabel_classification_bundle()\n",
    "bundle.save(bundle_temp_folder)\n"
   ]
  },
  {
   "cell_type": "markdown",
   "metadata": {},
   "source": [
    "##### Создадим бакет"
   ]
  },
  {
   "cell_type": "code",
   "execution_count": 5,
   "metadata": {},
   "outputs": [],
   "source": [
    "from tg.grammar_ru.ml.components.yandex_storage.s3_yandex_helpers import S3YandexHandler\n",
    "\n",
    "try:\n",
    "    S3YandexHandler.create_bucket(bucket)\n",
    "except:\n",
    "    pass  # TODO удалять бакет перед созданием?\n"
   ]
  },
  {
   "cell_type": "markdown",
   "metadata": {},
   "source": [
    "##### Загрузим бандл в бакет"
   ]
  },
  {
   "cell_type": "code",
   "execution_count": 6,
   "metadata": {},
   "outputs": [],
   "source": [
    "s3path = f'datasphere/{project_name}/datasets/{dataset_name}'\n",
    "S3YandexHandler.upload_folder(bucket, s3path, bundle_temp_folder)\n"
   ]
  },
  {
   "cell_type": "markdown",
   "metadata": {},
   "source": [
    "### Создадим task - TaskFactory\n"
   ]
  },
  {
   "cell_type": "markdown",
   "metadata": {},
   "source": [
    "copy-paste from TrainingTaskDemo"
   ]
  },
  {
   "cell_type": "code",
   "execution_count": 7,
   "metadata": {},
   "outputs": [],
   "source": [
    "from tg.grammar_ru.ml.components.training_task_factory import TaskFactory, Conventions\n",
    "from tg.common.ml import dft\n",
    "\n",
    "\n",
    "def get_feature_extractor():\n",
    "    feature_extractor = (bt.PlainExtractor\n",
    "                         .build('features')\n",
    "                         .index('features')\n",
    "                         .apply(transformer=dft.DataFrameTransformerFactory.default_factory())\n",
    "                         )\n",
    "    return feature_extractor\n",
    "\n",
    "\n",
    "def get_multilabel_extractor():\n",
    "    label_extractor = (bt.PlainExtractor\n",
    "                       .build(Conventions.LabelFrame)\n",
    "                       .index()\n",
    "                       .apply(take_columns=['label'], transformer=dft.DataFrameTransformerFactory.default_factory())\n",
    "                       )\n",
    "    return label_extractor\n"
   ]
  },
  {
   "cell_type": "code",
   "execution_count": 8,
   "metadata": {},
   "outputs": [],
   "source": [
    "import torch\n",
    "\n",
    "\n",
    "class ClassificationNetwork(torch.nn.Module):\n",
    "    def __init__(self, hidden_size, sample):\n",
    "        super(ClassificationNetwork, self).__init__()\n",
    "        self.hidden = torch.nn.Linear(sample['features'].shape[1], hidden_size)\n",
    "        self.output = torch.nn.Linear(hidden_size, sample['label'].shape[1])\n",
    "\n",
    "    def forward(self, input):\n",
    "        X = input['features']\n",
    "        X = torch.tensor(X.astype(float).values).float()\n",
    "        X = self.hidden(X)\n",
    "        X = torch.sigmoid(X)\n",
    "        X = self.output(X)\n",
    "        X = torch.sigmoid(X)\n",
    "        return X\n"
   ]
  },
  {
   "cell_type": "code",
   "execution_count": 9,
   "metadata": {},
   "outputs": [],
   "source": [
    "from sklearn.metrics import roc_auc_score\n",
    "from tg.common import Logger\n",
    "from yo_fluq_ds import *\n",
    "\n",
    "Logger.disable()\n",
    "\n",
    "\n",
    "class MulticlassMetrics(bt.Metric):\n",
    "    def __init__(self, add_accuracy=True, add_rating=False):\n",
    "        self.add_accuracy = add_accuracy\n",
    "        self.add_rating = add_rating\n",
    "\n",
    "    def get_names(self):\n",
    "        result = []\n",
    "        if self.add_accuracy:\n",
    "            result.append('accuracy')\n",
    "        if self.add_rating:\n",
    "            result.append('rating')\n",
    "        return result\n",
    "\n",
    "    def measure(self, df, _):\n",
    "        prefix = 'true_label_'\n",
    "        labels = []\n",
    "        for c in df.columns:\n",
    "            if c.startswith(prefix):\n",
    "                labels.append(c.replace(prefix, ''))\n",
    "\n",
    "        def ustack(df, prefix, cols, name):\n",
    "            df = df[[prefix+c for c in cols]]\n",
    "            df.columns = [c for c in cols]\n",
    "            df = df.unstack().to_frame(name)\n",
    "            return df\n",
    "\n",
    "        predicted = ustack(df, 'predicted_label_', labels, 'predicted')\n",
    "        true = ustack(df, 'true_label_', labels, 'true')\n",
    "        df = predicted.merge(true, left_index=True,\n",
    "                             right_index=True).reset_index()\n",
    "        df.columns = ['label', 'sample', 'predicted', 'true']\n",
    "        df = df.feed(fluq.add_ordering_column(\n",
    "            'sample', ('predicted', False), 'predicted_rating'))\n",
    "\n",
    "        match = (df.loc[df.predicted_rating ==\n",
    "                 0].set_index('sample').true > 0.5)\n",
    "        rating = df.loc[df.true > 0.5].set_index('sample').predicted_rating\n",
    "        result = []\n",
    "        if self.add_accuracy:\n",
    "            result.append(match.mean())\n",
    "        if self.add_rating:\n",
    "            result.append(rating.mean())\n",
    "        return result\n",
    "\n",
    "\n",
    "def _inner(x, sample):\n",
    "    return ClassificationNetwork(20, sample)\n",
    "\n",
    "\n",
    "class ClassificationTask(TaskFactory):\n",
    "    def create_task(self, data, env):\n",
    "        metrics = bt.MetricPool().add(MulticlassMetrics())\n",
    "        self.instantiate_default_task(\n",
    "            epoch_count=20, batch_size=10000, mini_batch_size=None, metric_pool=metrics)\n",
    "        self.setup_batcher(\n",
    "            data, [get_feature_extractor(), get_multilabel_extractor()])\n",
    "        self.setup_model(_inner, learning_rate=1)\n",
    "\n",
    "\n",
    "task = ClassificationTask()\n",
    "task.info['dataset'] = dataset_name\n",
    "task.info['name'] = 'classification_iris_task'\n"
   ]
  },
  {
   "cell_type": "markdown",
   "metadata": {},
   "source": [
    "**Промежуточный результат**: создали task. Обернем его в TrainingJob (~ DeliverableJob)."
   ]
  },
  {
   "cell_type": "markdown",
   "metadata": {},
   "source": [
    "##### Класс TrainingJob.\n",
    "\n",
    "Принимает список task'ов, название проекта и название бандла.\n",
    "\n",
    "Для каждой таски\n",
    "\n",
    "* Загружает бандл из ObjectStorage\n",
    "\n",
    "* Запускает task\n",
    "\n",
    "* Получает output task'а - модель. Архивирует её и отправляет в ObjectStorage.\n",
    "\n",
    "* Exception'ы, возникшие при запуске task'а записывает в ObjectStorage."
   ]
  },
  {
   "cell_type": "code",
   "execution_count": 10,
   "metadata": {},
   "outputs": [],
   "source": [
    "from tg.grammar_ru.ml.components.yandex_delivery.training_job import TrainingJob\n",
    "\n",
    "\n",
    "job = TrainingJob(tasks=[task],\n",
    "                  project_name=project_name,\n",
    "                  bucket=bucket)\n"
   ]
  },
  {
   "cell_type": "code",
   "execution_count": 11,
   "metadata": {},
   "outputs": [],
   "source": [
    "# job.run()\n"
   ]
  },
  {
   "cell_type": "markdown",
   "metadata": {},
   "source": [
    "#### Структура ObjectStorage после обучения\n",
    "\n",
    "* datasphere/project_name\n",
    "    * datasets/dataset_name\n",
    "        * file1_of_bundle .parquet\n",
    "        * file2_of_bundle .parquet\n",
    "    * output/task_name\n",
    "        * output/model.tar.gz\n",
    "    * exceptions\n",
    "        * task_name_time1.txt\n",
    "        * task_name_time2.txt"
   ]
  },
  {
   "cell_type": "markdown",
   "metadata": {},
   "source": []
  },
  {
   "cell_type": "markdown",
   "metadata": {},
   "source": [
    "## Delivery"
   ]
  },
  {
   "cell_type": "markdown",
   "metadata": {},
   "source": [
    "1. Из корня проекта, в котором используется tg, запустить скрипт dependencies_fix.py\n"
   ]
  },
  {
   "cell_type": "code",
   "execution_count": 12,
   "metadata": {},
   "outputs": [],
   "source": [
    "# ! cd ~/grammar_ru && python3 dependencies_fix.py"
   ]
  },
  {
   "cell_type": "markdown",
   "metadata": {},
   "source": [
    "2. Убедиться, что докер выполняет команды без ```sudo```. Если это не так, то [выполнить шаги](https://docs.docker.com/engine/install/linux-postinstall/) из документации."
   ]
  },
  {
   "cell_type": "code",
   "execution_count": 13,
   "metadata": {},
   "outputs": [],
   "source": [
    "# ! docker run hello-world"
   ]
  },
  {
   "cell_type": "markdown",
   "metadata": {},
   "source": [
    "### Fix по [документации](https://docs.docker.com/engine/install/linux-postinstall/)."
   ]
  },
  {
   "cell_type": "code",
   "execution_count": 14,
   "metadata": {},
   "outputs": [],
   "source": [
    "# !sudo groupadd docker"
   ]
  },
  {
   "cell_type": "code",
   "execution_count": 15,
   "metadata": {},
   "outputs": [],
   "source": [
    "# !sudo usermod -aG docker $USER\n"
   ]
  },
  {
   "cell_type": "code",
   "execution_count": 16,
   "metadata": {},
   "outputs": [],
   "source": [
    "# !newgrp docker"
   ]
  },
  {
   "cell_type": "code",
   "execution_count": 17,
   "metadata": {},
   "outputs": [],
   "source": [
    "# !docker run hello-world"
   ]
  },
  {
   "cell_type": "markdown",
   "metadata": {},
   "source": [
    "# *"
   ]
  },
  {
   "cell_type": "markdown",
   "metadata": {},
   "source": [
    "3. Объявить `ClassificationTask(TaskFactory)` в отдельном py-файле, в котором будут только относительные import.</br></br>\n",
    "Т.е. вместо </br>\n",
    "`from tg.grammar_ru.ml.components.training_task_factory import TaskFactory` </br> должно быть </br> `from ...components.training_task_factory import TaskFactory`\n",
    "\n",
    "    Пример такого файла - `training_exapmle.py`"
   ]
  },
  {
   "cell_type": "markdown",
   "metadata": {},
   "source": [
    "4. Создать репозиторий на dockerhub. Залогиниться с помощью команды ```docker login --username=user```, ввести пароль от аккаунта."
   ]
  },
  {
   "cell_type": "markdown",
   "metadata": {},
   "source": [
    "**Note**: Пример выполнения шагов 5-7 вы можете найти в `runner.py`"
   ]
  },
  {
   "cell_type": "markdown",
   "metadata": {},
   "source": [
    "5. Создать task - экземпляр ClassificationTask. Создать TrainingJob.\n",
    "\n",
    "    ```\n",
    "    job = TrainingJob(tasks=[task],\n",
    "                    project_name=project_name,\n",
    "                    bucket=bucket)\n",
    "    ```\n",
    "\n",
    "    Пример - `runner.py`"
   ]
  },
  {
   "cell_type": "markdown",
   "metadata": {},
   "source": [
    "6. a) Если вы хотите создать контейнер и убедиться, что он работает, создайте SSHDockerJobRoutine и запустите ее локально:\n",
    "    ```\n",
    "    from tg.common.delivery.jobs import SSHDockerJobRoutine, DockerOptions\n",
    "    from tg.common.delivery.packaging import FakeContainerHandler\n",
    "\n",
    "    routine = SSHDockerJobRoutine(\n",
    "        job = job,\n",
    "        remote_host_address=None,\n",
    "        remote_host_user=None,\n",
    "        handler_factory = FakeContainerHandler.Factory(),\n",
    "        options = DockerOptions(propagate_environmental_variables=[])\n",
    "    )\n",
    "    routine.local.execute()\n",
    "    ```"
   ]
  },
  {
   "cell_type": "markdown",
   "metadata": {},
   "source": [
    "6. b) Если вы не хотите запускать локально, соберите контейнер помощью метода ```build_container```.\n",
    "\n",
    "    ```\n",
    "    from tg.common.delivery.jobs.ssh_docker_job_routine import build_container\n",
    "\n",
    "    build_container(job, 'test_job_iris', '1', 'test_iris_img',\n",
    "                    image_tag='test_iris_tag')\n",
    "    ```\n"
   ]
  },
  {
   "cell_type": "markdown",
   "metadata": {},
   "source": [
    "7. Доставьте контейнер на dockerHub\n",
    "\n",
    "    ```\n",
    "    deploy_container(local_img, dockerhub_repo, dockerhub_login, tag)\n",
    "    ```"
   ]
  },
  {
   "cell_type": "markdown",
   "metadata": {},
   "source": [
    "8. Зайдите в ваш репозиторий на [dockerhub](hub.docker.com) и скопируйте тэг только что добавленного образа."
   ]
  },
  {
   "cell_type": "markdown",
   "metadata": {},
   "source": [
    "9. Перейдите в [DataSphere](https://datasphere.yandex.ru/communities/546594d7-3d57-40f8-8056-151241a9468e)"
   ]
  },
  {
   "cell_type": "markdown",
   "metadata": {},
   "source": [
    "10. Зайдите в проект и откройте его в JupyterLab"
   ]
  },
  {
   "cell_type": "markdown",
   "metadata": {},
   "source": [
    "11. Запустите docker-контейнер из ячейки."
   ]
  },
  {
   "cell_type": "markdown",
   "metadata": {},
   "source": [
    "```\n",
    "#!:docker-run dockerhub_login/dockerhub_repo:tag python3 /featurization/run.py AWS_ACCESS_KEY_ID AWS_SECRET_ACCESS_KEY\n",
    "```"
   ]
  },
  {
   "cell_type": "markdown",
   "metadata": {},
   "source": [
    "tag - скопированный из dockerhub тэг образа"
   ]
  },
  {
   "cell_type": "markdown",
   "metadata": {},
   "source": [
    "### Результаты обучения"
   ]
  },
  {
   "cell_type": "markdown",
   "metadata": {},
   "source": [
    "После обучения вы увидите в ячейке путь файла с названиями task'ов.\n",
    "\n",
    "`List of tasks uploaded to datasphere/testirisproject/job_info/job_testirisproject_10:45:47.927894.txt`\n",
    "\n",
    "Скачаем этот файл, передадим LogsReader'у."
   ]
  },
  {
   "cell_type": "code",
   "execution_count": 18,
   "metadata": {},
   "outputs": [
    {
     "name": "stdout",
     "output_type": "stream",
     "text": [
      "['classification_iris_task 12:35:10.627455']\n"
     ]
    }
   ],
   "source": [
    "from tg.common._common import Loc\n",
    "from tg.grammar_ru.ml.components.yandex_storage.s3_yandex_helpers import S3YandexHandler\n",
    "import ast \n",
    "tasks_list_s3_path = 'datasphere/testirisproject/job_info/job_testirisproject_12:35:10.627376.txt'\n",
    "\n",
    "tmp_local_file = Loc.temp_path / tasks_list_s3_path.split('/')[-1]\n",
    "S3YandexHandler.download_file(bucket, tasks_list_s3_path, tmp_local_file)\n",
    "with open(tmp_local_file,'r') as f:\n",
    "    tasks = ast.literal_eval(f.read())\n",
    "\n",
    "print(tasks)"
   ]
  },
  {
   "cell_type": "code",
   "execution_count": 19,
   "metadata": {},
   "outputs": [
    {
     "name": "stdout",
     "output_type": "stream",
     "text": [
      "output/\n",
      "output/batcher.pkl\n",
      "output/history.pkl\n",
      "output/info.pkl\n",
      "output/metrics.pkl\n",
      "output/model.pkl\n",
      "output/result_df.parquet\n",
      "output/test_splits.pkl\n",
      "output/train_split.pkl\n",
      "output/training_task.pkl\n"
     ]
    }
   ],
   "source": [
    "from tg.grammar_ru.ml.components.yandex_delivery.training_logs import S3TrainingLogsLoader, TrainingLogsViewer\n",
    "\n",
    "loader = S3TrainingLogsLoader(bucket, project_name)\n",
    "metrics = loader.load_metrics(tasks)"
   ]
  },
  {
   "cell_type": "code",
   "execution_count": 20,
   "metadata": {},
   "outputs": [
    {
     "data": {
      "text/html": [
       "<div>\n",
       "<style scoped>\n",
       "    .dataframe tbody tr th:only-of-type {\n",
       "        vertical-align: middle;\n",
       "    }\n",
       "\n",
       "    .dataframe tbody tr th {\n",
       "        vertical-align: top;\n",
       "    }\n",
       "\n",
       "    .dataframe thead th {\n",
       "        text-align: right;\n",
       "    }\n",
       "</style>\n",
       "<table border=\"1\" class=\"dataframe\">\n",
       "  <thead>\n",
       "    <tr style=\"text-align: right;\">\n",
       "      <th></th>\n",
       "      <th>metric</th>\n",
       "      <th>ordinal</th>\n",
       "      <th>value</th>\n",
       "      <th>timestamp</th>\n",
       "      <th>job_id</th>\n",
       "    </tr>\n",
       "  </thead>\n",
       "  <tbody>\n",
       "    <tr>\n",
       "      <th>0</th>\n",
       "      <td>accuracy_test</td>\n",
       "      <td>0</td>\n",
       "      <td>0.400000</td>\n",
       "      <td>2022-12-02 12:35:11.276117</td>\n",
       "      <td>classification_iris_task 12:35:10.627455</td>\n",
       "    </tr>\n",
       "    <tr>\n",
       "      <th>1</th>\n",
       "      <td>accuracy_display</td>\n",
       "      <td>0</td>\n",
       "      <td>0.400000</td>\n",
       "      <td>2022-12-02 12:35:11.276117</td>\n",
       "      <td>classification_iris_task 12:35:10.627455</td>\n",
       "    </tr>\n",
       "    <tr>\n",
       "      <th>2</th>\n",
       "      <td>loss</td>\n",
       "      <td>0</td>\n",
       "      <td>0.234695</td>\n",
       "      <td>2022-12-02 12:35:11.276117</td>\n",
       "      <td>classification_iris_task 12:35:10.627455</td>\n",
       "    </tr>\n",
       "    <tr>\n",
       "      <th>3</th>\n",
       "      <td>iteration</td>\n",
       "      <td>0</td>\n",
       "      <td>0.000000</td>\n",
       "      <td>2022-12-02 12:35:11.276117</td>\n",
       "      <td>classification_iris_task 12:35:10.627455</td>\n",
       "    </tr>\n",
       "    <tr>\n",
       "      <th>4</th>\n",
       "      <td>accuracy_test</td>\n",
       "      <td>1</td>\n",
       "      <td>0.533333</td>\n",
       "      <td>2022-12-02 12:35:11.339536</td>\n",
       "      <td>classification_iris_task 12:35:10.627455</td>\n",
       "    </tr>\n",
       "    <tr>\n",
       "      <th>5</th>\n",
       "      <td>accuracy_display</td>\n",
       "      <td>1</td>\n",
       "      <td>0.533333</td>\n",
       "      <td>2022-12-02 12:35:11.339536</td>\n",
       "      <td>classification_iris_task 12:35:10.627455</td>\n",
       "    </tr>\n",
       "    <tr>\n",
       "      <th>6</th>\n",
       "      <td>loss</td>\n",
       "      <td>1</td>\n",
       "      <td>0.225464</td>\n",
       "      <td>2022-12-02 12:35:11.339536</td>\n",
       "      <td>classification_iris_task 12:35:10.627455</td>\n",
       "    </tr>\n",
       "    <tr>\n",
       "      <th>7</th>\n",
       "      <td>iteration</td>\n",
       "      <td>1</td>\n",
       "      <td>1.000000</td>\n",
       "      <td>2022-12-02 12:35:11.339536</td>\n",
       "      <td>classification_iris_task 12:35:10.627455</td>\n",
       "    </tr>\n",
       "  </tbody>\n",
       "</table>\n",
       "</div>"
      ],
      "text/plain": [
       "             metric  ordinal     value                  timestamp  \\\n",
       "0     accuracy_test        0  0.400000 2022-12-02 12:35:11.276117   \n",
       "1  accuracy_display        0  0.400000 2022-12-02 12:35:11.276117   \n",
       "2              loss        0  0.234695 2022-12-02 12:35:11.276117   \n",
       "3         iteration        0  0.000000 2022-12-02 12:35:11.276117   \n",
       "4     accuracy_test        1  0.533333 2022-12-02 12:35:11.339536   \n",
       "5  accuracy_display        1  0.533333 2022-12-02 12:35:11.339536   \n",
       "6              loss        1  0.225464 2022-12-02 12:35:11.339536   \n",
       "7         iteration        1  1.000000 2022-12-02 12:35:11.339536   \n",
       "\n",
       "                                     job_id  \n",
       "0  classification_iris_task 12:35:10.627455  \n",
       "1  classification_iris_task 12:35:10.627455  \n",
       "2  classification_iris_task 12:35:10.627455  \n",
       "3  classification_iris_task 12:35:10.627455  \n",
       "4  classification_iris_task 12:35:10.627455  \n",
       "5  classification_iris_task 12:35:10.627455  \n",
       "6  classification_iris_task 12:35:10.627455  \n",
       "7  classification_iris_task 12:35:10.627455  "
      ]
     },
     "execution_count": 20,
     "metadata": {},
     "output_type": "execute_result"
    }
   ],
   "source": [
    "metrics.head(8)"
   ]
  },
  {
   "cell_type": "code",
   "execution_count": 21,
   "metadata": {},
   "outputs": [],
   "source": [
    "import matplotlib.pyplot as plt\n"
   ]
  },
  {
   "cell_type": "code",
   "execution_count": 22,
   "metadata": {},
   "outputs": [
    {
     "data": {
      "text/plain": [
       "[<matplotlib.lines.Line2D at 0x7f89830c5870>]"
      ]
     },
     "execution_count": 22,
     "metadata": {},
     "output_type": "execute_result"
    },
    {
     "data": {
      "image/png": "[encoded data removed]",
      "text/plain": [
       "<Figure size 640x480 with 1 Axes>"
      ]
     },
     "metadata": {},
     "output_type": "display_data"
    }
   ],
   "source": [
    "plt.plot(TrainingLogsViewer.get_metric_by_job(metrics, 'accuracy_display'))"
   ]
  },
  {
   "cell_type": "code",
   "execution_count": 23,
   "metadata": {},
   "outputs": [
    {
     "data": {
      "text/plain": [
       "[<matplotlib.lines.Line2D at 0x7f8983232da0>]"
      ]
     },
     "execution_count": 23,
     "metadata": {},
     "output_type": "execute_result"
    },
    {
     "data": {
      "image/png": "[encoded data removed]",
      "text/plain": [
       "<Figure size 640x480 with 1 Axes>"
      ]
     },
     "metadata": {},
     "output_type": "display_data"
    }
   ],
   "source": [
    "plt.plot(TrainingLogsViewer.get_metric_by_job(metrics, 'accuracy_test'))\n"
   ]
  },
  {
   "cell_type": "code",
   "execution_count": 24,
   "metadata": {},
   "outputs": [
    {
     "data": {
      "text/plain": [
       "[<matplotlib.lines.Line2D at 0x7f8981e96560>]"
      ]
     },
     "execution_count": 24,
     "metadata": {},
     "output_type": "execute_result"
    },
    {
     "data": {
      "image/png": "[encoded data removed]",
      "text/plain": [
       "<Figure size 640x480 with 1 Axes>"
      ]
     },
     "metadata": {},
     "output_type": "display_data"
    }
   ],
   "source": [
    "plt.plot(TrainingLogsViewer.get_metric_by_job(metrics, 'loss'))"
   ]
  }
 ],
 "metadata": {
  "kernelspec": {
   "display_name": "Python 3.10.6 64-bit",
   "language": "python",
   "name": "python3"
  },
  "language_info": {
   "codemirror_mode": {
    "name": "ipython",
    "version": 3
   },
   "file_extension": ".py",
   "mimetype": "text/x-python",
   "name": "python",
   "nbconvert_exporter": "python",
   "pygments_lexer": "ipython3",
   "version": "3.10.6"
  },
  "orig_nbformat": 4,
  "vscode": {
   "interpreter": {
    "hash": "916dbcbb3f70747c44a77c7bcd40155683ae19c65e1c03b4aa3499c5328201f1"
   }
  }
 },
 "nbformat": 4,
 "nbformat_minor": 2
}
