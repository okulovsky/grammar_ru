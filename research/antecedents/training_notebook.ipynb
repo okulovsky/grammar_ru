{
 "cells": [
  {
   "cell_type": "code",
   "execution_count": 2,
   "id": "65997846",
   "metadata": {},
   "outputs": [
    {
     "data": {
      "text/plain": [
       "True"
      ]
     },
     "execution_count": 2,
     "metadata": {},
     "output_type": "execute_result"
    }
   ],
   "source": [
    "from tg.grammar_ru.ml.components.yandex_storage.s3_yandex_helpers import S3YandexHandler\n",
    "from tg.grammar_ru.common import Loc\n",
    "from dotenv import load_dotenv\n",
    "import boto3\n",
    "\n",
    "project_name = 'antecedents_project'\n",
    "dataset_name = 'antecedents_simple_dataset'\n",
    "bucket = 'antecedents-simple'\n",
    "load_dotenv(Loc.root_path / 'environment.env')"
   ]
  },
  {
   "cell_type": "markdown",
   "id": "16956c11",
   "metadata": {},
   "source": [
    "Первый запуск.\n",
    "Загрузка бандла:"
   ]
  },
  {
   "cell_type": "code",
   "execution_count": 11,
   "id": "4c2352f1",
   "metadata": {},
   "outputs": [],
   "source": [
    "#S3YandexHandler.create_bucket(bucket)"
   ]
  },
  {
   "cell_type": "code",
   "execution_count": 2,
   "id": "e2fda9cf",
   "metadata": {},
   "outputs": [],
   "source": [
    "bundle_folder = Loc.bundles_path/'antcd/simple/last'\n",
    "s3path = f'datasphere/{project_name}/datasets/{dataset_name}'"
   ]
  },
  {
   "cell_type": "code",
   "execution_count": 13,
   "id": "df598804",
   "metadata": {},
   "outputs": [],
   "source": [
    "#S3YandexHandler.upload_folder(bucket, s3path, bundle_folder)"
   ]
  },
  {
   "cell_type": "code",
   "execution_count": 3,
   "id": "07d1ca81",
   "metadata": {},
   "outputs": [
    {
     "data": {
      "text/plain": [
       "{'index': {'shape': (101065, 8), 'index_name': 'sample_id'}, 'pymorphy': {'shape': (570787, 16), 'index_name': 'word_id'}, 'slovnet': {'shape': (570787, 17), 'index_name': 'word_id'}, 'src': {'shape': (570787, 14), 'index_name': None}}"
      ]
     },
     "execution_count": 3,
     "metadata": {},
     "output_type": "execute_result"
    }
   ],
   "source": [
    "from tg.grammar_ru.common import DataBundle\n",
    "db = DataBundle.load(bundle_folder)\n",
    "db"
   ]
  },
  {
   "cell_type": "code",
   "execution_count": 5,
   "id": "abae3e17",
   "metadata": {},
   "outputs": [
    {
     "name": "stdout",
     "output_type": "stream",
     "text": [
      "datasphere/antecedents_project/datasets/antecedents_simple_dataset/add_info.pkl\n",
      "datasphere/antecedents_project/datasets/antecedents_simple_dataset/index.parquet\n",
      "datasphere/antecedents_project/datasets/antecedents_simple_dataset/pymorphy.parquet\n",
      "datasphere/antecedents_project/datasets/antecedents_simple_dataset/slovnet.parquet\n",
      "datasphere/antecedents_project/datasets/antecedents_simple_dataset/src.parquet\n",
      "datasphere/antecedents_project/exceptions/antc_task 07:44:15.020543.txt\n",
      "datasphere/antecedents_project/exceptions/antc_task 09:13:38.508279.txt\n",
      "datasphere/antecedents_project/exceptions/antc_task 12:48:42.138251.txt\n",
      "datasphere/antecedents_project/exceptions/antc_task 13:19:53.252689.txt\n",
      "datasphere/antecedents_project/job_info/job_antecedents_project_07:44:15.020470.txt\n",
      "datasphere/antecedents_project/job_info/job_antecedents_project_09:13:38.508218.txt\n",
      "datasphere/antecedents_project/job_info/job_antecedents_project_12:48:42.138251.txt\n",
      "datasphere/antecedents_project/job_info/job_antecedents_project_13:19:53.252629.txt\n"
     ]
    }
   ],
   "source": [
    "s3_path = r'datasphere/antecedents_project'\n",
    "\n",
    "kwargs = S3YandexHandler._get_access_keys()\n",
    "s3_resource = boto3.resource('s3', **kwargs)\n",
    "bucket_obj = s3_resource.Bucket(bucket)\n",
    "\n",
    "keys = [z.key for z in bucket_obj.objects.filter(Prefix=s3_path)]\n",
    "for key in keys:\n",
    "    print(key)"
   ]
  },
  {
   "cell_type": "markdown",
   "id": "ba912ed2",
   "metadata": {},
   "source": [
    "Первый результат на 50 эпох:"
   ]
  },
  {
   "cell_type": "code",
   "execution_count": 31,
   "id": "7468820c",
   "metadata": {},
   "outputs": [],
   "source": [
    "from pathlib import Path\n",
    "from yo_fluq_ds import *\n",
    "import subprocess\n",
    "from tg.common.delivery.training.architecture import ResultPickleReader\n",
    "\n",
    "task_id = 'antc_task 05:50:39.308735'\n",
    "rs = None\n",
    "try:\n",
    "    rs = ResultPickleReader(Path(r'c:\\users\\alexandra\\desktop\\output-unzipped'))\n",
    "except:\n",
    "    raise\n",
    "metrics = _load_metrics_df(rs)\n",
    "metrics['job_id'] = task_id"
   ]
  },
  {
   "cell_type": "code",
   "execution_count": 36,
   "id": "4bb2fe45",
   "metadata": {},
   "outputs": [
    {
     "data": {
      "text/html": [
       "<div>\n",
       "<style scoped>\n",
       "    .dataframe tbody tr th:only-of-type {\n",
       "        vertical-align: middle;\n",
       "    }\n",
       "\n",
       "    .dataframe tbody tr th {\n",
       "        vertical-align: top;\n",
       "    }\n",
       "\n",
       "    .dataframe thead th {\n",
       "        text-align: right;\n",
       "    }\n",
       "</style>\n",
       "<table border=\"1\" class=\"dataframe\">\n",
       "  <thead>\n",
       "    <tr style=\"text-align: right;\">\n",
       "      <th></th>\n",
       "      <th>metric</th>\n",
       "      <th>ordinal</th>\n",
       "      <th>value</th>\n",
       "      <th>timestamp</th>\n",
       "      <th>job_id</th>\n",
       "    </tr>\n",
       "  </thead>\n",
       "  <tbody>\n",
       "    <tr>\n",
       "      <th>0</th>\n",
       "      <td>roc_auc_score_test</td>\n",
       "      <td>0</td>\n",
       "      <td>0.501481</td>\n",
       "      <td>2022-12-15 05:52:44.735476</td>\n",
       "      <td>antc_task 05:50:39.308735</td>\n",
       "    </tr>\n",
       "    <tr>\n",
       "      <th>1</th>\n",
       "      <td>roc_auc_score_display</td>\n",
       "      <td>0</td>\n",
       "      <td>0.503828</td>\n",
       "      <td>2022-12-15 05:52:44.735476</td>\n",
       "      <td>antc_task 05:50:39.308735</td>\n",
       "    </tr>\n",
       "    <tr>\n",
       "      <th>2</th>\n",
       "      <td>loss</td>\n",
       "      <td>0</td>\n",
       "      <td>0.127502</td>\n",
       "      <td>2022-12-15 05:52:44.735476</td>\n",
       "      <td>antc_task 05:50:39.308735</td>\n",
       "    </tr>\n",
       "    <tr>\n",
       "      <th>3</th>\n",
       "      <td>iteration</td>\n",
       "      <td>0</td>\n",
       "      <td>0.000000</td>\n",
       "      <td>2022-12-15 05:52:44.735476</td>\n",
       "      <td>antc_task 05:50:39.308735</td>\n",
       "    </tr>\n",
       "    <tr>\n",
       "      <th>4</th>\n",
       "      <td>roc_auc_score_test</td>\n",
       "      <td>1</td>\n",
       "      <td>0.516618</td>\n",
       "      <td>2022-12-15 05:54:45.970556</td>\n",
       "      <td>antc_task 05:50:39.308735</td>\n",
       "    </tr>\n",
       "    <tr>\n",
       "      <th>5</th>\n",
       "      <td>roc_auc_score_display</td>\n",
       "      <td>1</td>\n",
       "      <td>0.518373</td>\n",
       "      <td>2022-12-15 05:54:45.970556</td>\n",
       "      <td>antc_task 05:50:39.308735</td>\n",
       "    </tr>\n",
       "    <tr>\n",
       "      <th>6</th>\n",
       "      <td>loss</td>\n",
       "      <td>1</td>\n",
       "      <td>0.126335</td>\n",
       "      <td>2022-12-15 05:54:45.970556</td>\n",
       "      <td>antc_task 05:50:39.308735</td>\n",
       "    </tr>\n",
       "    <tr>\n",
       "      <th>7</th>\n",
       "      <td>iteration</td>\n",
       "      <td>1</td>\n",
       "      <td>1.000000</td>\n",
       "      <td>2022-12-15 05:54:45.970556</td>\n",
       "      <td>antc_task 05:50:39.308735</td>\n",
       "    </tr>\n",
       "  </tbody>\n",
       "</table>\n",
       "</div>"
      ],
      "text/plain": [
       "                  metric  ordinal     value                  timestamp  \\\n",
       "0     roc_auc_score_test        0  0.501481 2022-12-15 05:52:44.735476   \n",
       "1  roc_auc_score_display        0  0.503828 2022-12-15 05:52:44.735476   \n",
       "2                   loss        0  0.127502 2022-12-15 05:52:44.735476   \n",
       "3              iteration        0  0.000000 2022-12-15 05:52:44.735476   \n",
       "4     roc_auc_score_test        1  0.516618 2022-12-15 05:54:45.970556   \n",
       "5  roc_auc_score_display        1  0.518373 2022-12-15 05:54:45.970556   \n",
       "6                   loss        1  0.126335 2022-12-15 05:54:45.970556   \n",
       "7              iteration        1  1.000000 2022-12-15 05:54:45.970556   \n",
       "\n",
       "                      job_id  \n",
       "0  antc_task 05:50:39.308735  \n",
       "1  antc_task 05:50:39.308735  \n",
       "2  antc_task 05:50:39.308735  \n",
       "3  antc_task 05:50:39.308735  \n",
       "4  antc_task 05:50:39.308735  \n",
       "5  antc_task 05:50:39.308735  \n",
       "6  antc_task 05:50:39.308735  \n",
       "7  antc_task 05:50:39.308735  "
      ]
     },
     "execution_count": 36,
     "metadata": {},
     "output_type": "execute_result"
    }
   ],
   "source": [
    "metrics.head(8)"
   ]
  },
  {
   "cell_type": "code",
   "execution_count": 37,
   "id": "19a06a40",
   "metadata": {},
   "outputs": [
    {
     "data": {
      "text/plain": [
       "[<matplotlib.lines.Line2D at 0x1d2ddd8f790>]"
      ]
     },
     "execution_count": 37,
     "metadata": {},
     "output_type": "execute_result"
    },
    {
     "data": {
      "image/png": "[encoded data removed]",
      "text/plain": [
       "<Figure size 640x480 with 1 Axes>"
      ]
     },
     "metadata": {},
     "output_type": "display_data"
    }
   ],
   "source": [
    "import matplotlib.pyplot as plt\n",
    "plt.plot(TrainingLogsViewer.get_metric_by_job(metrics, 'roc_auc_score_test'))"
   ]
  },
  {
   "cell_type": "code",
   "execution_count": 38,
   "id": "e3421925",
   "metadata": {},
   "outputs": [
    {
     "data": {
      "text/plain": [
       "[<matplotlib.lines.Line2D at 0x1d2dddf1670>]"
      ]
     },
     "execution_count": 38,
     "metadata": {},
     "output_type": "execute_result"
    },
    {
     "data": {
      "image/png": "[encoded data removed]",
      "text/plain": [
       "<Figure size 640x480 with 1 Axes>"
      ]
     },
     "metadata": {},
     "output_type": "display_data"
    }
   ],
   "source": [
    "plt.plot(TrainingLogsViewer.get_metric_by_job(metrics, 'roc_auc_score_display'))"
   ]
  },
  {
   "cell_type": "code",
   "execution_count": 39,
   "id": "1cebd37c",
   "metadata": {},
   "outputs": [
    {
     "data": {
      "text/plain": [
       "[<matplotlib.lines.Line2D at 0x1d2dde528b0>]"
      ]
     },
     "execution_count": 39,
     "metadata": {},
     "output_type": "execute_result"
    },
    {
     "data": {
      "image/png": "[encoded data removed]",
      "text/plain": [
       "<Figure size 640x480 with 1 Axes>"
      ]
     },
     "metadata": {},
     "output_type": "display_data"
    }
   ],
   "source": [
    "plt.plot(TrainingLogsViewer.get_metric_by_job(metrics, 'loss'))"
   ]
  },
  {
   "cell_type": "markdown",
   "id": "21cfe491",
   "metadata": {},
   "source": [
    "Исправление разбиения бандла (строки, относящиеся к одному местоимению, вместе попадают в `test`, `train` или `display`):"
   ]
  },
  {
   "cell_type": "code",
   "execution_count": 10,
   "id": "17787b8f",
   "metadata": {
    "scrolled": true
   },
   "outputs": [
    {
     "data": {
      "text/html": [
       "<div>\n",
       "<style scoped>\n",
       "    .dataframe tbody tr th:only-of-type {\n",
       "        vertical-align: middle;\n",
       "    }\n",
       "\n",
       "    .dataframe tbody tr th {\n",
       "        vertical-align: top;\n",
       "    }\n",
       "\n",
       "    .dataframe thead th {\n",
       "        text-align: right;\n",
       "    }\n",
       "</style>\n",
       "<table border=\"1\" class=\"dataframe\">\n",
       "  <thead>\n",
       "    <tr style=\"text-align: right;\">\n",
       "      <th></th>\n",
       "      <th>pronoun_word_id</th>\n",
       "      <th>pronoun_sentence_id</th>\n",
       "      <th>candidate_word_id</th>\n",
       "      <th>candidate_sentence_id</th>\n",
       "      <th>candidate_distance</th>\n",
       "      <th>label</th>\n",
       "      <th>word_distance</th>\n",
       "      <th>split</th>\n",
       "    </tr>\n",
       "    <tr>\n",
       "      <th>sample_id</th>\n",
       "      <th></th>\n",
       "      <th></th>\n",
       "      <th></th>\n",
       "      <th></th>\n",
       "      <th></th>\n",
       "      <th></th>\n",
       "      <th></th>\n",
       "      <th></th>\n",
       "    </tr>\n",
       "  </thead>\n",
       "  <tbody>\n",
       "    <tr>\n",
       "      <th>0</th>\n",
       "      <td>7</td>\n",
       "      <td>0</td>\n",
       "      <td>4</td>\n",
       "      <td>0</td>\n",
       "      <td>1</td>\n",
       "      <td>1</td>\n",
       "      <td>3</td>\n",
       "      <td>train</td>\n",
       "    </tr>\n",
       "    <tr>\n",
       "      <th>1</th>\n",
       "      <td>7</td>\n",
       "      <td>0</td>\n",
       "      <td>5</td>\n",
       "      <td>0</td>\n",
       "      <td>0</td>\n",
       "      <td>0</td>\n",
       "      <td>2</td>\n",
       "      <td>train</td>\n",
       "    </tr>\n",
       "    <tr>\n",
       "      <th>2</th>\n",
       "      <td>514887</td>\n",
       "      <td>514880</td>\n",
       "      <td>514884</td>\n",
       "      <td>514880</td>\n",
       "      <td>1</td>\n",
       "      <td>1</td>\n",
       "      <td>3</td>\n",
       "      <td>test</td>\n",
       "    </tr>\n",
       "    <tr>\n",
       "      <th>3</th>\n",
       "      <td>514887</td>\n",
       "      <td>514880</td>\n",
       "      <td>514885</td>\n",
       "      <td>514880</td>\n",
       "      <td>0</td>\n",
       "      <td>0</td>\n",
       "      <td>2</td>\n",
       "      <td>test</td>\n",
       "    </tr>\n",
       "    <tr>\n",
       "      <th>4</th>\n",
       "      <td>1903357</td>\n",
       "      <td>1903337</td>\n",
       "      <td>1903342</td>\n",
       "      <td>1903335</td>\n",
       "      <td>3</td>\n",
       "      <td>0</td>\n",
       "      <td>12</td>\n",
       "      <td>train</td>\n",
       "    </tr>\n",
       "    <tr>\n",
       "      <th>...</th>\n",
       "      <td>...</td>\n",
       "      <td>...</td>\n",
       "      <td>...</td>\n",
       "      <td>...</td>\n",
       "      <td>...</td>\n",
       "      <td>...</td>\n",
       "      <td>...</td>\n",
       "      <td>...</td>\n",
       "    </tr>\n",
       "    <tr>\n",
       "      <th>101060</th>\n",
       "      <td>22837552</td>\n",
       "      <td>22837430</td>\n",
       "      <td>22837513</td>\n",
       "      <td>22837429</td>\n",
       "      <td>4</td>\n",
       "      <td>0</td>\n",
       "      <td>33</td>\n",
       "      <td>test</td>\n",
       "    </tr>\n",
       "    <tr>\n",
       "      <th>101061</th>\n",
       "      <td>22837552</td>\n",
       "      <td>22837430</td>\n",
       "      <td>22837524</td>\n",
       "      <td>22837430</td>\n",
       "      <td>3</td>\n",
       "      <td>0</td>\n",
       "      <td>25</td>\n",
       "      <td>test</td>\n",
       "    </tr>\n",
       "    <tr>\n",
       "      <th>101062</th>\n",
       "      <td>22837552</td>\n",
       "      <td>22837430</td>\n",
       "      <td>22837537</td>\n",
       "      <td>22837430</td>\n",
       "      <td>2</td>\n",
       "      <td>0</td>\n",
       "      <td>14</td>\n",
       "      <td>test</td>\n",
       "    </tr>\n",
       "    <tr>\n",
       "      <th>101063</th>\n",
       "      <td>22837552</td>\n",
       "      <td>22837430</td>\n",
       "      <td>22837545</td>\n",
       "      <td>22837430</td>\n",
       "      <td>1</td>\n",
       "      <td>0</td>\n",
       "      <td>7</td>\n",
       "      <td>test</td>\n",
       "    </tr>\n",
       "    <tr>\n",
       "      <th>101064</th>\n",
       "      <td>22837552</td>\n",
       "      <td>22837430</td>\n",
       "      <td>22837547</td>\n",
       "      <td>22837430</td>\n",
       "      <td>0</td>\n",
       "      <td>0</td>\n",
       "      <td>5</td>\n",
       "      <td>test</td>\n",
       "    </tr>\n",
       "  </tbody>\n",
       "</table>\n",
       "<p>101065 rows × 8 columns</p>\n",
       "</div>"
      ],
      "text/plain": [
       "           pronoun_word_id  pronoun_sentence_id  candidate_word_id  \\\n",
       "sample_id                                                            \n",
       "0                        7                    0                  4   \n",
       "1                        7                    0                  5   \n",
       "2                   514887               514880             514884   \n",
       "3                   514887               514880             514885   \n",
       "4                  1903357              1903337            1903342   \n",
       "...                    ...                  ...                ...   \n",
       "101060            22837552             22837430           22837513   \n",
       "101061            22837552             22837430           22837524   \n",
       "101062            22837552             22837430           22837537   \n",
       "101063            22837552             22837430           22837545   \n",
       "101064            22837552             22837430           22837547   \n",
       "\n",
       "           candidate_sentence_id  candidate_distance  label  word_distance  \\\n",
       "sample_id                                                                    \n",
       "0                              0                   1      1              3   \n",
       "1                              0                   0      0              2   \n",
       "2                         514880                   1      1              3   \n",
       "3                         514880                   0      0              2   \n",
       "4                        1903335                   3      0             12   \n",
       "...                          ...                 ...    ...            ...   \n",
       "101060                  22837429                   4      0             33   \n",
       "101061                  22837430                   3      0             25   \n",
       "101062                  22837430                   2      0             14   \n",
       "101063                  22837430                   1      0              7   \n",
       "101064                  22837430                   0      0              5   \n",
       "\n",
       "           split  \n",
       "sample_id         \n",
       "0          train  \n",
       "1          train  \n",
       "2           test  \n",
       "3           test  \n",
       "4          train  \n",
       "...          ...  \n",
       "101060      test  \n",
       "101061      test  \n",
       "101062      test  \n",
       "101063      test  \n",
       "101064      test  \n",
       "\n",
       "[101065 rows x 8 columns]"
      ]
     },
     "execution_count": 10,
     "metadata": {},
     "output_type": "execute_result"
    }
   ],
   "source": [
    "import numpy as np\n",
    "import pandas as pd\n",
    "from sklearn.model_selection import train_test_split\n",
    "\n",
    "def train_display_test_split(df, group_column, test_size=0.3, display_size=0.3):\n",
    "    classes, group_indices = np.unique(df[group_column], return_inverse=True)\n",
    "    train_group, test_group = train_test_split(\n",
    "        classes,\n",
    "        test_size=test_size)\n",
    "    train_group, display_group = train_test_split(\n",
    "        train_group,\n",
    "        test_size=display_size/(1-test_size))\n",
    "    split = np.where(\n",
    "        df[group_column].isin(test_group),\n",
    "        'test',\n",
    "        np.where(df[group_column].isin(display_group),\n",
    "                 'display',\n",
    "                 'train'))\n",
    "    return pd.Series(split, index = df.index)\n",
    "\n",
    "db['index']['split'] = train_display_test_split(db['index'], 'pronoun_word_id')\n",
    "db.index"
   ]
  },
  {
   "cell_type": "code",
   "execution_count": 15,
   "id": "f02cb377",
   "metadata": {},
   "outputs": [],
   "source": [
    "bundle_folder = Loc.bundles_path/'antcd/simple/last'\n",
    "s3path = f'datasphere/{project_name}/datasets/{dataset_name}'\n",
    "#db.save(bundle_folder)\n",
    "#S3YandexHandler.upload_folder(bucket, s3path, bundle_folder)"
   ]
  },
  {
   "cell_type": "markdown",
   "id": "1154f4db",
   "metadata": {},
   "source": [
    "600 epochs, learning_rate=1"
   ]
  },
  {
   "cell_type": "code",
   "execution_count": 14,
   "id": "13d27be6",
   "metadata": {},
   "outputs": [],
   "source": [
    "from pathlib import Path\n",
    "from yo_fluq_ds import *\n",
    "from tg.common.delivery.training.architecture import ResultPickleReader\n",
    "\n",
    "def _load_metrics_df(rs):\n",
    "    df = pd.DataFrame(FileIO.read_pickle(\n",
    "        rs.get_path('output/history.pkl')))\n",
    "    rdf = df.drop('timestamp', axis=1).unstack().to_frame().reset_index()\n",
    "    rdf.columns = ['metric', 'ordinal', 'value']\n",
    "    if 'timestamp' in df.columns:\n",
    "        rdf = rdf.merge(pd.to_datetime(\n",
    "            df.timestamp), left_on='ordinal', right_index=True).reset_index(drop=True)\n",
    "    return rdf\n",
    "\n",
    "rs = None\n",
    "try:\n",
    "    rs = ResultPickleReader(Path(r'c:\\users\\alexandra\\desktop\\600'))\n",
    "except:\n",
    "    raise\n",
    "metrics = _load_metrics_df(rs)\n",
    "metrics['job_id'] = task_id"
   ]
  },
  {
   "cell_type": "code",
   "execution_count": 15,
   "id": "9b1ef2a7",
   "metadata": {},
   "outputs": [
    {
     "data": {
      "text/plain": [
       "[<matplotlib.lines.Line2D at 0x290222d0640>]"
      ]
     },
     "execution_count": 15,
     "metadata": {},
     "output_type": "execute_result"
    },
    {
     "data": {
      "image/png": "[encoded data removed]",
      "text/plain": [
       "<Figure size 640x480 with 1 Axes>"
      ]
     },
     "metadata": {},
     "output_type": "display_data"
    }
   ],
   "source": [
    "from tg.grammar_ru.ml.components.yandex_delivery.training_logs import TrainingLogsViewer\n",
    "\n",
    "import matplotlib.pyplot as plt\n",
    "plt.plot(TrainingLogsViewer.get_metric_by_job(metrics, 'roc_auc_score_test'))"
   ]
  },
  {
   "cell_type": "code",
   "execution_count": 16,
   "id": "062a03e1",
   "metadata": {},
   "outputs": [
    {
     "data": {
      "text/plain": [
       "[<matplotlib.lines.Line2D at 0x2902454ab20>]"
      ]
     },
     "execution_count": 16,
     "metadata": {},
     "output_type": "execute_result"
    },
    {
     "data": {
      "image/png": "[encoded data removed]",
      "text/plain": [
       "<Figure size 640x480 with 1 Axes>"
      ]
     },
     "metadata": {},
     "output_type": "display_data"
    }
   ],
   "source": [
    "plt.plot(TrainingLogsViewer.get_metric_by_job(metrics, 'roc_auc_score_display'))"
   ]
  },
  {
   "cell_type": "code",
   "execution_count": 17,
   "id": "6272b6cc",
   "metadata": {},
   "outputs": [
    {
     "data": {
      "text/plain": [
       "[<matplotlib.lines.Line2D at 0x29024633d00>]"
      ]
     },
     "execution_count": 17,
     "metadata": {},
     "output_type": "execute_result"
    },
    {
     "data": {
      "image/png": "[encoded data removed]",
      "text/plain": [
       "<Figure size 640x480 with 1 Axes>"
      ]
     },
     "metadata": {},
     "output_type": "display_data"
    }
   ],
   "source": [
    "plt.plot(TrainingLogsViewer.get_metric_by_job(metrics, 'loss'))"
   ]
  },
  {
   "cell_type": "code",
   "execution_count": null,
   "id": "d2f7aeed",
   "metadata": {},
   "outputs": [],
   "source": []
  }
 ],
 "metadata": {
  "kernelspec": {
   "display_name": "Python 3 (ipykernel)",
   "language": "python",
   "name": "python3"
  },
  "language_info": {
   "codemirror_mode": {
    "name": "ipython",
    "version": 3
   },
   "file_extension": ".py",
   "mimetype": "text/x-python",
   "name": "python",
   "nbconvert_exporter": "python",
   "pygments_lexer": "ipython3",
   "version": "3.9.7"
  }
 },
 "nbformat": 4,
 "nbformat_minor": 5
}
