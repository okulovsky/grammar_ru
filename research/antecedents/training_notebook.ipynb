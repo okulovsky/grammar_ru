{
 "cells": [
  {
   "cell_type": "code",
   "execution_count": 1,
   "id": "65997846",
   "metadata": {},
   "outputs": [
    {
     "data": {
      "text/plain": [
       "True"
      ]
     },
     "execution_count": 1,
     "metadata": {},
     "output_type": "execute_result"
    }
   ],
   "source": [
    "from tg.grammar_ru.ml.components.yandex_storage.s3_yandex_helpers import S3YandexHandler\n",
    "from tg.grammar_ru.common import Loc\n",
    "from dotenv import load_dotenv\n",
    "\n",
    "project_name = 'antecedents_project'\n",
    "dataset_name = 'antecedents_simple_dataset'\n",
    "bucket = 'antecedents-simple'\n",
    "load_dotenv(Loc.root_path / 'environment.env')"
   ]
  },
  {
   "cell_type": "markdown",
   "id": "16956c11",
   "metadata": {},
   "source": [
    "Загрузка бандла:"
   ]
  },
  {
   "cell_type": "code",
   "execution_count": 2,
   "id": "4c2352f1",
   "metadata": {},
   "outputs": [],
   "source": [
    "#S3YandexHandler.create_bucket(bucket)"
   ]
  },
  {
   "cell_type": "code",
   "execution_count": 3,
   "id": "e2fda9cf",
   "metadata": {},
   "outputs": [],
   "source": [
    "bundle_folder = Loc.bundles_path/'antcd/simple/last'\n",
    "s3path = f'datasphere/{project_name}/datasets/{dataset_name}'"
   ]
  },
  {
   "cell_type": "code",
   "execution_count": 7,
   "id": "df598804",
   "metadata": {},
   "outputs": [],
   "source": [
    "#S3YandexHandler.upload_folder(bucket, s3path, bundle_folder)"
   ]
  },
  {
   "cell_type": "code",
   "execution_count": 6,
   "id": "07d1ca81",
   "metadata": {},
   "outputs": [
    {
     "data": {
      "text/plain": [
       "{'index': {'shape': (101065, 7), 'index_name': 'sample_id'}, 'pymorphy': {'shape': (570787, 16), 'index_name': 'word_id'}, 'slovnet': {'shape': (570787, 17), 'index_name': 'word_id'}, 'src': {'shape': (570787, 14), 'index_name': None}}"
      ]
     },
     "execution_count": 6,
     "metadata": {},
     "output_type": "execute_result"
    }
   ],
   "source": [
    "from tg.grammar_ru.common import DataBundle\n",
    "db = DataBundle.load(bundle_folder)\n",
    "db"
   ]
  },
  {
   "cell_type": "code",
   "execution_count": null,
   "id": "a2e9e6be",
   "metadata": {},
   "outputs": [],
   "source": []
  }
 ],
 "metadata": {
  "kernelspec": {
   "display_name": "Python 3 (ipykernel)",
   "language": "python",
   "name": "python3"
  },
  "language_info": {
   "codemirror_mode": {
    "name": "ipython",
    "version": 3
   },
   "file_extension": ".py",
   "mimetype": "text/x-python",
   "name": "python",
   "nbconvert_exporter": "python",
   "pygments_lexer": "ipython3",
   "version": "3.9.7"
  }
 },
 "nbformat": 4,
 "nbformat_minor": 5
}
