{
 "cells": [
  {
   "cell_type": "code",
   "execution_count": 14,
   "metadata": {},
   "outputs": [],
   "source": [
    "import pandas as pd\n",
    "from tg.grammar_ru.common import Loc\n",
    "from tg.grammar_ru.ml.corpus import CorpusReader\n",
    "import re\n",
    "import numpy as np\n",
    "import zipfile\n",
    "import io"
   ]
  },
  {
   "cell_type": "markdown",
   "metadata": {},
   "source": [
    "# Loading data"
   ]
  },
  {
   "cell_type": "code",
   "execution_count": 2,
   "metadata": {},
   "outputs": [],
   "source": [
    "reader = CorpusReader(Loc.corpus_path/'lenta.base.zip')"
   ]
  },
  {
   "cell_type": "code",
   "execution_count": 3,
   "metadata": {},
   "outputs": [],
   "source": [
    "frames = reader.get_frames()"
   ]
  },
  {
   "cell_type": "code",
   "execution_count": 4,
   "metadata": {},
   "outputs": [],
   "source": [
    "df = frames.first()"
   ]
  },
  {
   "cell_type": "markdown",
   "metadata": {},
   "source": [
    "# Чтобы что бы"
   ]
  },
  {
   "cell_type": "code",
   "execution_count": 44,
   "metadata": {},
   "outputs": [],
   "source": [
    "def get_chto_by(df):\n",
    "    what = df[df['word'] == 'что']\n",
    "    what_next = what[['sentence_id', 'word_index']].copy()\n",
    "    what_next['word_index'] += 1\n",
    "    what_neighbour = df.merge(what_next, on=['sentence_id', 'word_index'], how='inner')\n",
    "    \n",
    "    by = what_neighbour[what_neighbour['word'] == 'бы']\n",
    "    \n",
    "    return pd.concat([what.merge(by['word_id'] - 1, on=['word_id'], how='inner'), by]).sort_values(['word_id'])"
   ]
  },
  {
   "cell_type": "code",
   "execution_count": 384,
   "metadata": {},
   "outputs": [
    {
     "data": {
      "text/html": [
       "<div>\n",
       "<style scoped>\n",
       "    .dataframe tbody tr th:only-of-type {\n",
       "        vertical-align: middle;\n",
       "    }\n",
       "\n",
       "    .dataframe tbody tr th {\n",
       "        vertical-align: top;\n",
       "    }\n",
       "\n",
       "    .dataframe thead th {\n",
       "        text-align: right;\n",
       "    }\n",
       "</style>\n",
       "<table border=\"1\" class=\"dataframe\">\n",
       "  <thead>\n",
       "    <tr style=\"text-align: right;\">\n",
       "      <th></th>\n",
       "      <th>word_id</th>\n",
       "      <th>sentence_id</th>\n",
       "      <th>word_index</th>\n",
       "      <th>paragraph_id</th>\n",
       "      <th>word_tail</th>\n",
       "      <th>word</th>\n",
       "      <th>word_type</th>\n",
       "      <th>word_length</th>\n",
       "      <th>original_word_id</th>\n",
       "      <th>original_sentence_id</th>\n",
       "      <th>original_paragraph_id</th>\n",
       "      <th>updated</th>\n",
       "      <th>file_id</th>\n",
       "      <th>corpus_id</th>\n",
       "      <th>original_corpus_id</th>\n",
       "      <th>is_target</th>\n",
       "    </tr>\n",
       "  </thead>\n",
       "  <tbody>\n",
       "    <tr>\n",
       "      <th>0</th>\n",
       "      <td>241295</td>\n",
       "      <td>197321</td>\n",
       "      <td>22</td>\n",
       "      <td>195180</td>\n",
       "      <td>1</td>\n",
       "      <td>что</td>\n",
       "      <td>ru</td>\n",
       "      <td>3</td>\n",
       "      <td>46295</td>\n",
       "      <td>2321</td>\n",
       "      <td>180</td>\n",
       "      <td>False</td>\n",
       "      <td>092b10a4-1328-4cd6-bae6-0367fd502a19</td>\n",
       "      <td>lenta.base.zip</td>\n",
       "      <td>lenta.base.zip</td>\n",
       "      <td>True</td>\n",
       "    </tr>\n",
       "    <tr>\n",
       "      <th>438</th>\n",
       "      <td>241296</td>\n",
       "      <td>197321</td>\n",
       "      <td>23</td>\n",
       "      <td>195180</td>\n",
       "      <td>1</td>\n",
       "      <td>бы</td>\n",
       "      <td>ru</td>\n",
       "      <td>2</td>\n",
       "      <td>46296</td>\n",
       "      <td>2321</td>\n",
       "      <td>180</td>\n",
       "      <td>False</td>\n",
       "      <td>092b10a4-1328-4cd6-bae6-0367fd502a19</td>\n",
       "      <td>lenta.base.zip</td>\n",
       "      <td>lenta.base.zip</td>\n",
       "      <td>False</td>\n",
       "    </tr>\n",
       "  </tbody>\n",
       "</table>\n",
       "</div>"
      ],
      "text/plain": [
       "     word_id  sentence_id  word_index  paragraph_id  word_tail word word_type  \\\n",
       "0     241295       197321          22        195180          1  что        ru   \n",
       "438   241296       197321          23        195180          1   бы        ru   \n",
       "\n",
       "     word_length  original_word_id  original_sentence_id  \\\n",
       "0              3             46295                  2321   \n",
       "438            2             46296                  2321   \n",
       "\n",
       "     original_paragraph_id  updated                               file_id  \\\n",
       "0                      180    False  092b10a4-1328-4cd6-bae6-0367fd502a19   \n",
       "438                    180    False  092b10a4-1328-4cd6-bae6-0367fd502a19   \n",
       "\n",
       "          corpus_id original_corpus_id  is_target  \n",
       "0    lenta.base.zip     lenta.base.zip       True  \n",
       "438  lenta.base.zip     lenta.base.zip      False  "
      ]
     },
     "execution_count": 384,
     "metadata": {},
     "output_type": "execute_result"
    }
   ],
   "source": [
    "chto_by = get_chto_by(df)\n",
    "chto_by"
   ]
  },
  {
   "cell_type": "code",
   "execution_count": 385,
   "metadata": {},
   "outputs": [],
   "source": [
    "def get_targets(df):\n",
    "    targets = df.set_index('word_id').word.str.lower() == 'чтобы'\n",
    "\n",
    "    chto = df[df['word'] == 'что']\n",
    "    chto_next = chto['word_id'] + 1\n",
    "    chto_neighbour = df.merge(chto_next, how='inner')\n",
    "    by = chto_neighbour[chto_neighbour['word'] == 'бы']\n",
    "\n",
    "    targets[by['word_id'] - 1] = True\n",
    "\n",
    "    return targets.values"
   ]
  },
  {
   "cell_type": "markdown",
   "metadata": {},
   "source": [
    "Negative sample building"
   ]
  },
  {
   "cell_type": "code",
   "execution_count": 386,
   "metadata": {},
   "outputs": [],
   "source": [
    "import re\n",
    "import itertools"
   ]
  },
  {
   "cell_type": "code",
   "execution_count": 387,
   "metadata": {},
   "outputs": [],
   "source": [
    "sentence = 'что бы то ни было, чтобы это решить.'"
   ]
  },
  {
   "cell_type": "code",
   "execution_count": 490,
   "metadata": {},
   "outputs": [
    {
     "data": {
      "text/plain": [
       "['Чтобы']"
      ]
     },
     "execution_count": 490,
     "metadata": {},
     "output_type": "execute_result"
    }
   ],
   "source": [
    "target_regex = r'[чЧ]то бы|[чЧ]тобы'\n",
    "re.findall(target_regex, sentence, re.IGNORECASE)"
   ]
  },
  {
   "cell_type": "code",
   "execution_count": 468,
   "metadata": {},
   "outputs": [],
   "source": [
    "def get_alternatives(word):\n",
    "    if word.lower() not in ('чтобы', 'что бы'):\n",
    "        raise ValueError()\n",
    "\n",
    "    alternatives = [word]\n",
    "    # saving first letter register\n",
    "    if word.lower() == 'чтобы':\n",
    "        alternatives.append(word[0] + 'то бы')\n",
    "    if word.lower() == 'что бы':\n",
    "        alternatives.append(word[0] + 'тобы')\n",
    "\n",
    "    return alternatives"
   ]
  },
  {
   "cell_type": "code",
   "execution_count": 464,
   "metadata": {},
   "outputs": [],
   "source": [
    "sentence = 'Чтобы принять участие в конкурсе, необходимо зарегистрироваться на сайте axeapollo.com. '"
   ]
  },
  {
   "cell_type": "code",
   "execution_count": 494,
   "metadata": {},
   "outputs": [],
   "source": [
    "def get_word_combinations(sentence, target_regex):\n",
    "    words = re.findall(target_regex, sentence, re.IGNORECASE)\n",
    "\n",
    "    return set(itertools.product(*(get_alternatives(word) for word in words))) - set([tuple(words)])"
   ]
  },
  {
   "cell_type": "code",
   "execution_count": 495,
   "metadata": {},
   "outputs": [
    {
     "data": {
      "text/plain": [
       "{('Что бы',)}"
      ]
     },
     "execution_count": 495,
     "metadata": {},
     "output_type": "execute_result"
    }
   ],
   "source": [
    "get_word_combinations(sentence, target_regex)"
   ]
  },
  {
   "cell_type": "code",
   "execution_count": 496,
   "metadata": {},
   "outputs": [
    {
     "data": {
      "text/plain": [
       "['',\n",
       " ' принять участие в конкурсе, необходимо зарегистрироваться на сайте axeapollo.com. ']"
      ]
     },
     "execution_count": 496,
     "metadata": {},
     "output_type": "execute_result"
    }
   ],
   "source": [
    "re.split(target_regex, sentence)"
   ]
  },
  {
   "cell_type": "code",
   "execution_count": 497,
   "metadata": {},
   "outputs": [],
   "source": [
    "def join_sentence_parts(sentence_parts, words_combination, starts_with_target):\n",
    "    rebuilt_sentence = [''] * (len(words_combination) + len(sentence_parts))\n",
    "    if starts_with_target:\n",
    "        rebuilt_sentence[::2] = words_combination\n",
    "        rebuilt_sentence[1::2] = sentence_parts\n",
    "    else:\n",
    "        rebuilt_sentence[1::2] = words_combination\n",
    "        rebuilt_sentence[::2] = sentence_parts\n",
    "\n",
    "    return ''.join(rebuilt_sentence)"
   ]
  },
  {
   "cell_type": "code",
   "execution_count": 498,
   "metadata": {},
   "outputs": [],
   "source": [
    "def build_negative_samples_from_sentence(sentence, target_regex):\n",
    "    sentence_parts = re.split(target_regex, sentence, re.IGNORECASE)\n",
    "    starts_with_target = sentence_parts[0] == ''\n",
    "    sentence_parts = list(filter(lambda word: word != '', sentence_parts))\n",
    "    negative_samples = []\n",
    "    for combination in get_word_combinations(sentence, target_regex):\n",
    "        negative_samples.append(join_sentence_parts(sentence_parts, combination, starts_with_target))\n",
    "    \n",
    "    return negative_samples"
   ]
  },
  {
   "cell_type": "code",
   "execution_count": 499,
   "metadata": {},
   "outputs": [
    {
     "data": {
      "text/plain": [
       "['Что бы принять участие в конкурсе, необходимо зарегистрироваться на сайте axeapollo.com. ']"
      ]
     },
     "execution_count": 499,
     "metadata": {},
     "output_type": "execute_result"
    }
   ],
   "source": [
    "build_negative_samples_from_sentence(sentence, target_regex)"
   ]
  },
  {
   "cell_type": "code",
   "execution_count": 500,
   "metadata": {},
   "outputs": [],
   "source": [
    "negative = sentences_df.apply(build_negative_samples_from_sentence, target_regex=target_regex).explode()"
   ]
  },
  {
   "cell_type": "code",
   "execution_count": 518,
   "metadata": {},
   "outputs": [],
   "source": [
    "from tg.grammar_ru.common.separator import Separator\n",
    "\n",
    "\n",
    "def build_negative_sample_from_positive(positive_sample: pd.DataFrame) -> pd.DataFrame:\n",
    "    sentences_df = (  # grouping all setnences\n",
    "        positive_sample\n",
    "        .assign(word_print=positive_sample.word+pd.Series(' ', index=positive_sample.index) * positive_sample.word_tail)\n",
    "        .groupby('sentence_id').word_print\n",
    "        .sum()\n",
    "    )\n",
    "    negative = sentences_df.apply(build_negative_samples_from_sentence, target_regex=target_regex).explode()\n",
    "    negative = Separator.separate_string(negative.str.cat(sep=' '))\n",
    "    negative['is_target'] = ChtobyIndexBuilder()._get_targets(negative)\n",
    "\n",
    "    negative['label'] = 1\n",
    "\n",
    "    return negative"
   ]
  },
  {
   "cell_type": "code",
   "execution_count": 519,
   "metadata": {},
   "outputs": [],
   "source": [
    "negative_sample = build_negative_sample_from_positive(positive)"
   ]
  },
  {
   "cell_type": "code",
   "execution_count": 512,
   "metadata": {},
   "outputs": [
    {
     "data": {
      "text/html": [
       "<div>\n",
       "<style scoped>\n",
       "    .dataframe tbody tr th:only-of-type {\n",
       "        vertical-align: middle;\n",
       "    }\n",
       "\n",
       "    .dataframe tbody tr th {\n",
       "        vertical-align: top;\n",
       "    }\n",
       "\n",
       "    .dataframe thead th {\n",
       "        text-align: right;\n",
       "    }\n",
       "</style>\n",
       "<table border=\"1\" class=\"dataframe\">\n",
       "  <thead>\n",
       "    <tr style=\"text-align: right;\">\n",
       "      <th></th>\n",
       "      <th>word_id</th>\n",
       "      <th>sentence_id</th>\n",
       "      <th>word_index</th>\n",
       "      <th>paragraph_id</th>\n",
       "      <th>word_tail</th>\n",
       "      <th>word</th>\n",
       "      <th>word_type</th>\n",
       "      <th>word_length</th>\n",
       "      <th>is_target</th>\n",
       "      <th>label</th>\n",
       "    </tr>\n",
       "  </thead>\n",
       "  <tbody>\n",
       "    <tr>\n",
       "      <th>808</th>\n",
       "      <td>808</td>\n",
       "      <td>27</td>\n",
       "      <td>22</td>\n",
       "      <td>0</td>\n",
       "      <td>1</td>\n",
       "      <td>чтобы</td>\n",
       "      <td>ru</td>\n",
       "      <td>5</td>\n",
       "      <td>True</td>\n",
       "      <td>1</td>\n",
       "    </tr>\n",
       "    <tr>\n",
       "      <th>1110</th>\n",
       "      <td>1110</td>\n",
       "      <td>40</td>\n",
       "      <td>9</td>\n",
       "      <td>0</td>\n",
       "      <td>1</td>\n",
       "      <td>чтобы</td>\n",
       "      <td>ru</td>\n",
       "      <td>5</td>\n",
       "      <td>True</td>\n",
       "      <td>1</td>\n",
       "    </tr>\n",
       "    <tr>\n",
       "      <th>1176</th>\n",
       "      <td>1176</td>\n",
       "      <td>41</td>\n",
       "      <td>14</td>\n",
       "      <td>0</td>\n",
       "      <td>1</td>\n",
       "      <td>чтобы</td>\n",
       "      <td>ru</td>\n",
       "      <td>5</td>\n",
       "      <td>True</td>\n",
       "      <td>1</td>\n",
       "    </tr>\n",
       "    <tr>\n",
       "      <th>4008</th>\n",
       "      <td>4008</td>\n",
       "      <td>144</td>\n",
       "      <td>10</td>\n",
       "      <td>0</td>\n",
       "      <td>1</td>\n",
       "      <td>чтобы</td>\n",
       "      <td>ru</td>\n",
       "      <td>5</td>\n",
       "      <td>True</td>\n",
       "      <td>1</td>\n",
       "    </tr>\n",
       "    <tr>\n",
       "      <th>4040</th>\n",
       "      <td>4040</td>\n",
       "      <td>145</td>\n",
       "      <td>15</td>\n",
       "      <td>0</td>\n",
       "      <td>1</td>\n",
       "      <td>чтобы</td>\n",
       "      <td>ru</td>\n",
       "      <td>5</td>\n",
       "      <td>True</td>\n",
       "      <td>1</td>\n",
       "    </tr>\n",
       "  </tbody>\n",
       "</table>\n",
       "</div>"
      ],
      "text/plain": [
       "      word_id  sentence_id  word_index  paragraph_id  word_tail   word  \\\n",
       "808       808           27          22             0          1  чтобы   \n",
       "1110     1110           40           9             0          1  чтобы   \n",
       "1176     1176           41          14             0          1  чтобы   \n",
       "4008     4008          144          10             0          1  чтобы   \n",
       "4040     4040          145          15             0          1  чтобы   \n",
       "\n",
       "     word_type  word_length  is_target  label  \n",
       "808         ru            5       True      1  \n",
       "1110        ru            5       True      1  \n",
       "1176        ru            5       True      1  \n",
       "4008        ru            5       True      1  \n",
       "4040        ru            5       True      1  "
      ]
     },
     "execution_count": 512,
     "metadata": {},
     "output_type": "execute_result"
    }
   ],
   "source": [
    "negative_sample[negative_sample['is_target'] & (negative_sample['word'] == 'чтобы')]"
   ]
  },
  {
   "cell_type": "markdown",
   "metadata": {},
   "source": [
    "Building index"
   ]
  },
  {
   "cell_type": "code",
   "execution_count": 67,
   "metadata": {},
   "outputs": [],
   "source": [
    "import numpy as np\n",
    "from tg.grammar_ru.ml.tasks.train_index_builder.index_builders import ChtobyIndexBuilder"
   ]
  },
  {
   "cell_type": "code",
   "execution_count": 130,
   "metadata": {},
   "outputs": [],
   "source": [
    "import importlib\n",
    "from tg.grammar_ru.ml.tasks.train_index_builder import index_builders\n",
    "\n",
    "ChtobyIndexBuilder = importlib.reload(index_builders).ChtobyIndexBuilder"
   ]
  },
  {
   "cell_type": "code",
   "execution_count": 68,
   "metadata": {},
   "outputs": [],
   "source": [
    "builder = ChtobyIndexBuilder()"
   ]
  },
  {
   "cell_type": "code",
   "execution_count": 132,
   "metadata": {},
   "outputs": [],
   "source": [
    "index = builder.build_train_index(df)"
   ]
  },
  {
   "cell_type": "code",
   "execution_count": 133,
   "metadata": {},
   "outputs": [],
   "source": [
    "positive, negative = index"
   ]
  },
  {
   "cell_type": "markdown",
   "metadata": {},
   "source": [
    "Filtering sentences"
   ]
  },
  {
   "cell_type": "code",
   "execution_count": 19,
   "metadata": {},
   "outputs": [],
   "source": [
    "from tg.grammar_ru.ml.tasks.train_index_builder.sentence_filterer import ChtobyFilterer"
   ]
  },
  {
   "cell_type": "code",
   "execution_count": 21,
   "metadata": {},
   "outputs": [],
   "source": [
    "from importlib import reload\n",
    "from tg.grammar_ru.ml.tasks.train_index_builder import sentence_filterer\n",
    "ChtobyFilterer = reload(sentence_filterer).ChtobyFilterer"
   ]
  },
  {
   "cell_type": "code",
   "execution_count": null,
   "metadata": {},
   "outputs": [],
   "source": [
    "filterer = ChtobyFilterer()\n",
    "filtered_df = filterer.get_filtered_df(df)\n",
    "filtered_df"
   ]
  },
  {
   "cell_type": "markdown",
   "metadata": {},
   "source": [
    "# Balancing"
   ]
  },
  {
   "cell_type": "code",
   "execution_count": 2,
   "metadata": {},
   "outputs": [],
   "source": [
    "from tg.grammar_ru.common import Loc"
   ]
  },
  {
   "cell_type": "code",
   "execution_count": 8,
   "metadata": {},
   "outputs": [],
   "source": [
    "corpuses = [\n",
    "    Loc.corpus_path/'lenta.base.zip',\n",
    "    Loc.corpus_path/'proza.base.zip',\n",
    "]"
   ]
  },
  {
   "cell_type": "code",
   "execution_count": 9,
   "metadata": {},
   "outputs": [],
   "source": [
    "from tg.grammar_ru.ml.tasks.train_index_builder.sentence_filterer import ChtobyFilterer\n",
    "from tg.grammar_ru.ml.corpus import CorpusBuilder"
   ]
  },
  {
   "cell_type": "code",
   "execution_count": null,
   "metadata": {},
   "outputs": [],
   "source": [
    "for corpus_path in corpuses:\n",
    "    corpus_name = corpus_path.name.split('.')[0]\n",
    "    filtered_path = Loc.bundles_path/f'chtoby/filtered_{corpus_name}'\n",
    "    print(corpus_path)\n",
    "    print(filtered_path)\n",
    "\n",
    "    CorpusBuilder.transfuse_corpus(\n",
    "        [corpus_path],\n",
    "        filtered_path,\n",
    "        selector=ChtobyFilterer().select\n",
    "    )"
   ]
  },
  {
   "cell_type": "code",
   "execution_count": 11,
   "metadata": {},
   "outputs": [],
   "source": [
    "from tg.grammar_ru.ml.corpus import CorpusReader, CorpusBuilder, BucketCorpusBalancer\n",
    "from tg.grammar_ru.ml.corpus.corpus_reader import read_data"
   ]
  },
  {
   "cell_type": "code",
   "execution_count": 12,
   "metadata": {},
   "outputs": [],
   "source": [
    "def get_sentences_count(corpus_path):\n",
    "    return sum([\n",
    "        len(frame.groupby(\"sentence_id\")) \n",
    "        for frame in read_data(corpus_path)\n",
    "    ])"
   ]
  },
  {
   "cell_type": "code",
   "execution_count": 15,
   "metadata": {},
   "outputs": [],
   "source": [
    "filtered_corpuses = [\n",
    "    Loc.bundles_path/'chtoby/prepare/filtered/filtered_lenta.zip',\n",
    "    Loc.bundles_path/'chtoby/prepare/filtered/filtered_proza.zip',\n",
    "]"
   ]
  },
  {
   "cell_type": "code",
   "execution_count": 16,
   "metadata": {},
   "outputs": [
    {
     "name": "stdout",
     "output_type": "stream",
     "text": [
      "filtered_lenta.zip\n"
     ]
    },
    {
     "name": "stderr",
     "output_type": "stream",
     "text": [
      "100%|██████████| 67/67 [00:05<00:00, 13.06it/s]\n"
     ]
    },
    {
     "name": "stdout",
     "output_type": "stream",
     "text": [
      "129677\n",
      "filtered_proza.zip\n"
     ]
    },
    {
     "name": "stderr",
     "output_type": "stream",
     "text": [
      "100%|██████████| 11/11 [00:00<00:00, 13.83it/s]"
     ]
    },
    {
     "name": "stdout",
     "output_type": "stream",
     "text": [
      "27186\n"
     ]
    },
    {
     "name": "stderr",
     "output_type": "stream",
     "text": [
      "\n"
     ]
    }
   ],
   "source": [
    "for filtered_corpus in filtered_corpuses:\n",
    "    print(filtered_corpus.name)\n",
    "    print(get_sentences_count(filtered_corpus))"
   ]
  },
  {
   "cell_type": "code",
   "execution_count": 23,
   "metadata": {},
   "outputs": [],
   "source": [
    "from pathlib import Path\n",
    "import pandas as pd"
   ]
  },
  {
   "cell_type": "code",
   "execution_count": 21,
   "metadata": {},
   "outputs": [
    {
     "name": "stderr",
     "output_type": "stream",
     "text": [
      "100%|██████████| 78/78 [00:17<00:00,  4.40it/s]\n"
     ]
    }
   ],
   "source": [
    "bucket_path = Path.cwd() / 'chtoby/buckets.parquet'\n",
    "BucketCorpusBalancer.build_buckets_frame(filtered_corpuses, bucket_path)"
   ]
  },
  {
   "cell_type": "code",
   "execution_count": 24,
   "metadata": {},
   "outputs": [
    {
     "data": {
      "text/html": [
       "<div>\n",
       "<style scoped>\n",
       "    .dataframe tbody tr th:only-of-type {\n",
       "        vertical-align: middle;\n",
       "    }\n",
       "\n",
       "    .dataframe tbody tr th {\n",
       "        vertical-align: top;\n",
       "    }\n",
       "\n",
       "    .dataframe thead th {\n",
       "        text-align: right;\n",
       "    }\n",
       "</style>\n",
       "<table border=\"1\" class=\"dataframe\">\n",
       "  <thead>\n",
       "    <tr style=\"text-align: right;\">\n",
       "      <th></th>\n",
       "      <th>sentences</th>\n",
       "      <th>bucket_size</th>\n",
       "    </tr>\n",
       "    <tr>\n",
       "      <th>bucket</th>\n",
       "      <th></th>\n",
       "      <th></th>\n",
       "    </tr>\n",
       "  </thead>\n",
       "  <tbody>\n",
       "    <tr>\n",
       "      <th>filtered_lenta.zip/1</th>\n",
       "      <td>[1684107, 1949513, 2022972, 2161642, 2592794]</td>\n",
       "      <td>5</td>\n",
       "    </tr>\n",
       "    <tr>\n",
       "      <th>filtered_lenta.zip/2</th>\n",
       "      <td>[30, 50, 60, 63, 65, 66, 95, 152, 5007, 5027, ...</td>\n",
       "      <td>5399</td>\n",
       "    </tr>\n",
       "    <tr>\n",
       "      <th>filtered_lenta.zip/3</th>\n",
       "      <td>[0, 1, 2, 4, 5, 6, 7, 8, 9, 10, 13, 14, 15, 16...</td>\n",
       "      <td>100378</td>\n",
       "    </tr>\n",
       "    <tr>\n",
       "      <th>filtered_lenta.zip/4</th>\n",
       "      <td>[3, 11, 12, 20, 21, 31, 39, 40, 44, 52, 54, 55...</td>\n",
       "      <td>23809</td>\n",
       "    </tr>\n",
       "    <tr>\n",
       "      <th>filtered_lenta.zip/5</th>\n",
       "      <td>[12990, 19207, 74205, 88661, 105936, 114223, 1...</td>\n",
       "      <td>86</td>\n",
       "    </tr>\n",
       "    <tr>\n",
       "      <th>filtered_proza.zip/1</th>\n",
       "      <td>[4677, 11804, 31764, 72125, 79288, 88905, 1123...</td>\n",
       "      <td>56</td>\n",
       "    </tr>\n",
       "    <tr>\n",
       "      <th>filtered_proza.zip/2</th>\n",
       "      <td>[231, 326, 327, 328, 330, 423, 424, 425, 579, ...</td>\n",
       "      <td>5728</td>\n",
       "    </tr>\n",
       "    <tr>\n",
       "      <th>filtered_proza.zip/3</th>\n",
       "      <td>[0, 30, 31, 32, 103, 104, 105, 106, 107, 230, ...</td>\n",
       "      <td>18915</td>\n",
       "    </tr>\n",
       "    <tr>\n",
       "      <th>filtered_proza.zip/4</th>\n",
       "      <td>[233, 427, 581, 727, 773, 875, 1283, 1285, 128...</td>\n",
       "      <td>2446</td>\n",
       "    </tr>\n",
       "    <tr>\n",
       "      <th>filtered_proza.zip/5</th>\n",
       "      <td>[210095, 218482, 300175, 302454, 302839, 30319...</td>\n",
       "      <td>41</td>\n",
       "    </tr>\n",
       "  </tbody>\n",
       "</table>\n",
       "</div>"
      ],
      "text/plain": [
       "                                                              sentences  \\\n",
       "bucket                                                                    \n",
       "filtered_lenta.zip/1      [1684107, 1949513, 2022972, 2161642, 2592794]   \n",
       "filtered_lenta.zip/2  [30, 50, 60, 63, 65, 66, 95, 152, 5007, 5027, ...   \n",
       "filtered_lenta.zip/3  [0, 1, 2, 4, 5, 6, 7, 8, 9, 10, 13, 14, 15, 16...   \n",
       "filtered_lenta.zip/4  [3, 11, 12, 20, 21, 31, 39, 40, 44, 52, 54, 55...   \n",
       "filtered_lenta.zip/5  [12990, 19207, 74205, 88661, 105936, 114223, 1...   \n",
       "filtered_proza.zip/1  [4677, 11804, 31764, 72125, 79288, 88905, 1123...   \n",
       "filtered_proza.zip/2  [231, 326, 327, 328, 330, 423, 424, 425, 579, ...   \n",
       "filtered_proza.zip/3  [0, 30, 31, 32, 103, 104, 105, 106, 107, 230, ...   \n",
       "filtered_proza.zip/4  [233, 427, 581, 727, 773, 875, 1283, 1285, 128...   \n",
       "filtered_proza.zip/5  [210095, 218482, 300175, 302454, 302839, 30319...   \n",
       "\n",
       "                      bucket_size  \n",
       "bucket                             \n",
       "filtered_lenta.zip/1            5  \n",
       "filtered_lenta.zip/2         5399  \n",
       "filtered_lenta.zip/3       100378  \n",
       "filtered_lenta.zip/4        23809  \n",
       "filtered_lenta.zip/5           86  \n",
       "filtered_proza.zip/1           56  \n",
       "filtered_proza.zip/2         5728  \n",
       "filtered_proza.zip/3        18915  \n",
       "filtered_proza.zip/4         2446  \n",
       "filtered_proza.zip/5           41  "
      ]
     },
     "execution_count": 24,
     "metadata": {},
     "output_type": "execute_result"
    }
   ],
   "source": [
    "pd.read_parquet(bucket_path)"
   ]
  },
  {
   "cell_type": "code",
   "execution_count": 25,
   "metadata": {},
   "outputs": [],
   "source": [
    "bucket_numbers = [2, 3, 4]\n",
    "bucket_limit = 2400"
   ]
  },
  {
   "cell_type": "code",
   "execution_count": 2,
   "metadata": {},
   "outputs": [],
   "source": [
    "balanced_path = Loc.bundles_path/'chtoby/prepare/balanced/balanced.zip'"
   ]
  },
  {
   "cell_type": "code",
   "execution_count": null,
   "metadata": {},
   "outputs": [],
   "source": [
    "import math\n",
    "\n",
    "\n",
    "balancer = BucketCorpusBalancer(\n",
    "    buckets=pd.read_parquet(bucket_path), \n",
    "    log_base=math.e,\n",
    "    bucket_limit=bucket_limit,\n",
    ")\n",
    "\n",
    "CorpusBuilder.transfuse_corpus(\n",
    "    sources=filtered_corpuses,\n",
    "    destination=balanced_path,\n",
    "    selector=balancer.select\n",
    ")"
   ]
  },
  {
   "cell_type": "markdown",
   "metadata": {},
   "source": [
    "# Proza to interformat"
   ]
  },
  {
   "cell_type": "code",
   "execution_count": 10,
   "metadata": {},
   "outputs": [],
   "source": [
    "import os\n",
    "from pathlib import Path\n",
    "\n",
    "\n",
    "for idx, filename in enumerate(Path(Loc.data_cache_path/'processed/proza/').iterdir(), 1):\n",
    "    print(filename)\n",
    "    #filename.rename(f'{idx}.md')"
   ]
  },
  {
   "cell_type": "code",
   "execution_count": 3,
   "metadata": {},
   "outputs": [
    {
     "data": {
      "application/json": {
       "ascii": false,
       "bar_format": null,
       "colour": null,
       "elapsed": 0.040834665298461914,
       "initial": 0,
       "n": 0,
       "ncols": null,
       "nrows": null,
       "postfix": null,
       "prefix": "",
       "rate": null,
       "total": 63,
       "unit": "it",
       "unit_divisor": 1000,
       "unit_scale": false
      },
      "application/vnd.jupyter.widget-view+json": {
       "model_id": "99441dcffdff440da8be0d36d15c899f",
       "version_major": 2,
       "version_minor": 0
      },
      "text/plain": [
       "  0%|          | 0/63 [00:00<?, ?it/s]"
      ]
     },
     "metadata": {},
     "output_type": "display_data"
    }
   ],
   "source": [
    "CorpusBuilder.convert_interformat_folder_to_corpus(\n",
    "    Loc.corpus_path/'proza.base.zip',\n",
    "    Loc.data_cache_path/'processed/proza',\n",
    "    ['']\n",
    ")"
   ]
  },
  {
   "cell_type": "markdown",
   "metadata": {},
   "source": [
    "# Training"
   ]
  },
  {
   "cell_type": "code",
   "execution_count": 12,
   "metadata": {},
   "outputs": [],
   "source": [
    "from pathlib import Path\n",
    "\n",
    "from tg.grammar_ru.common import Loc\n",
    "from research.common import run_training\n",
    "\n",
    "\n",
    "bundle_path = Loc.bundles_path/f'chtoby/toy'"
   ]
  },
  {
   "cell_type": "code",
   "execution_count": 13,
   "metadata": {},
   "outputs": [
    {
     "name": "stdout",
     "output_type": "stream",
     "text": [
      "2022-12-16 10:03:44.332556+00:00 INFO: Training starts. Info: {'name': 'TSAG-'}\n",
      "2022-12-16 10:03:44.333942+00:00 INFO: Ensuring/loading bundle. Bundle before:\n",
      "{'slovnet': {'shape': (699701, 17), 'index_name': 'word_id'}, 'syntax_fixes': {'shape': (699701, 4), 'index_name': 'word_id'}, 'syntax_stats': {'shape': (699701, 6), 'index_name': 'word_id'}, 'index': {'shape': (26537, 5), 'index_name': 'sample_id'}, 'syntax_closure': {'shape': (1861619, 4), 'index_name': 'entry_id'}, 'src': {'shape': (699701, 18), 'index_name': None}, 'pymorphy': {'shape': (699701, 16), 'index_name': 'word_id'}}\n",
      "2022-12-16 10:03:44.337217+00:00 INFO: Bundle loaded\n",
      "{'slovnet': {'shape': (699701, 17), 'index_name': 'word_id', 'columns': ['POS', 'Case', 'Number', 'Person', 'Polarity', '...'], 'index': [0, 1, 2, 3, 4, '...']}, 'syntax_fixes': {'shape': (699701, 4), 'index_name': 'word_id', 'columns': ['syntax_parent_id', 'root', 'cycle_status', 'correct_root'], 'index': [0, 1, 2, 3, 4, '...']}, 'syntax_stats': {'shape': (699701, 6), 'index_name': 'word_id', 'columns': ['children', 'descendants', 'up_depth', 'down_depth', 'sentence_length', '...'], 'index': [0, 1, 2, 3, 4, '...']}, 'index': {'shape': (26537, 5), 'index_name': 'sample_id', 'columns': ['word_id', 'sentence_id', 'label', 'reference_sentence_id', 'split'], 'index': [0, 1, 2, 3, 4, '...']}, 'syntax_closure': {'shape': (1861619, 4), 'index_name': 'entry_id', 'columns': ['word_id', 'syntax_parent_id', 'relation', 'distance'], 'index': [0, 1, 2, 3, 4, '...']}, 'src': {'shape': (699701, 18), 'index_name': None, 'columns': ['word_id', 'sentence_id', 'word_index', 'paragraph_id', 'word_tail', '...'], 'index': [0, 1, 2, 3, 4, '...']}, 'pymorphy': {'shape': (699701, 16), 'index_name': 'word_id', 'columns': ['normal_form', 'alternatives', 'score', 'delta_score', 'POS', '...'], 'index': [0, 1, 2, 3, 4, '...']}}\n",
      "2022-12-16 10:03:44.338796+00:00 INFO: Index frame is set to index, shape is (26537, 5)\n",
      "2022-12-16 10:03:44.340777+00:00 INFO: Running late initizalization\n",
      "2022-12-16 10:03:44.342776+00:00 INFO: No basis tasks are available\n",
      "2022-12-16 10:03:44.344258+00:00 INFO: Preprocessing bundle\n",
      "2022-12-16 10:03:44.345702+00:00 INFO: Creating extractors\n",
      "2022-12-16 10:03:44.347894+00:00 INFO: Extractors: plain_context, label\n",
      "2022-12-16 10:03:44.349091+00:00 INFO: Setting batcher\n",
      "2022-12-16 10:03:44.353654+00:00 INFO: Preprocessing bundle by batcher\n",
      "2022-12-16 10:03:44.373347+00:00 INFO: Splits: train 18575, test 7962, display 7961\n",
      "2022-12-16 10:03:44.374531+00:00 INFO: New training. Instantiating the system\n",
      "2022-12-16 10:03:44.379775+00:00 INFO: Fitting the transformers\n",
      "2022-12-16 10:03:44.483530+00:00 INFO: Fitting extractor pymorphy in CoreExtractor\n",
      "2022-12-16 10:03:44.939639+00:00 INFO: Success\n",
      "2022-12-16 10:03:44.940694+00:00 INFO: Fitting extractor slovnet_morph in CoreExtractor\n",
      "2022-12-16 10:03:45.358639+00:00 INFO: Success\n",
      "2022-12-16 10:03:45.360053+00:00 INFO: Fitting extractor slovnet_syntax in CoreExtractor\n",
      "2022-12-16 10:03:45.732855+00:00 INFO: Success\n",
      "2022-12-16 10:03:45.733849+00:00 INFO: Fitting extractor syntax_fixes in CoreExtractor\n",
      "2022-12-16 10:03:45.905285+00:00 INFO: Success\n",
      "2022-12-16 10:03:45.906353+00:00 INFO: Fitting extractor syntax_stats in CoreExtractor\n",
      "2022-12-16 10:03:46.237924+00:00 INFO: Success\n",
      "2022-12-16 10:03:53.315426+00:00 INFO: Instantiating model\n"
     ]
    },
    {
     "ename": "ValueError",
     "evalue": "Network type ContextualNetworkType.Plain is not recognized",
     "output_type": "error",
     "traceback": [
      "\u001b[0;31m---------------------------------------------------------------------------\u001b[0m",
      "\u001b[0;31mValueError\u001b[0m                                Traceback (most recent call last)",
      "\u001b[1;32m/home/alabai/studies/grammar_ru/grammar_ru/research/alternative/research.ipynb Cell 56'\u001b[0m in \u001b[0;36m<cell line: 1>\u001b[0;34m()\u001b[0m\n\u001b[0;32m----> <a href='vscode-notebook-cell:/home/alabai/studies/grammar_ru/grammar_ru/research/alternative/research.ipynb#ch0000045?line=0'>1</a>\u001b[0m result \u001b[39m=\u001b[39m run_training\u001b[39m.\u001b[39;49mrun_local(bundle_path)\n",
      "File \u001b[0;32m~/studies/grammar_ru/grammar_ru/research/common/run_training.py:70\u001b[0m, in \u001b[0;36mrun_local\u001b[0;34m(bundle_path)\u001b[0m\n\u001b[1;32m     <a href='file:///home/alabai/studies/grammar_ru/grammar_ru/research/common/run_training.py?line=66'>67</a>\u001b[0m task\u001b[39m.\u001b[39msettings\u001b[39m.\u001b[39mevaluation_batch_limit \u001b[39m=\u001b[39m \u001b[39mNone\u001b[39;00m\n\u001b[1;32m     <a href='file:///home/alabai/studies/grammar_ru/grammar_ru/research/common/run_training.py?line=67'>68</a>\u001b[0m bundle \u001b[39m=\u001b[39m bt\u001b[39m.\u001b[39mDataBundle\u001b[39m.\u001b[39mload(bundle_path)\n\u001b[0;32m---> <a href='file:///home/alabai/studies/grammar_ru/grammar_ru/research/common/run_training.py?line=69'>70</a>\u001b[0m \u001b[39mreturn\u001b[39;00m (task, task\u001b[39m.\u001b[39;49mrun(bundle))\n",
      "File \u001b[0;32m~/studies/grammar_ru/grammar_ru/tg/common/ml/training_core/arch.py:78\u001b[0m, in \u001b[0;36mAbstractTrainingTask.run\u001b[0;34m(self, data)\u001b[0m\n\u001b[1;32m     <a href='file:///home/alabai/studies/grammar_ru/grammar_ru/tg/common/ml/training_core/arch.py?line=75'>76</a>\u001b[0m \u001b[39mdef\u001b[39;00m \u001b[39mrun\u001b[39m(\u001b[39mself\u001b[39m, data: Any):\n\u001b[1;32m     <a href='file:///home/alabai/studies/grammar_ru/grammar_ru/tg/common/ml/training_core/arch.py?line=76'>77</a>\u001b[0m     env \u001b[39m=\u001b[39m InMemoryTrainingEnvironment()\n\u001b[0;32m---> <a href='file:///home/alabai/studies/grammar_ru/grammar_ru/tg/common/ml/training_core/arch.py?line=77'>78</a>\u001b[0m     \u001b[39mself\u001b[39;49m\u001b[39m.\u001b[39;49mrun_with_environment(data, env)\n\u001b[1;32m     <a href='file:///home/alabai/studies/grammar_ru/grammar_ru/tg/common/ml/training_core/arch.py?line=78'>79</a>\u001b[0m     \u001b[39mreturn\u001b[39;00m env\u001b[39m.\u001b[39mresult\n",
      "File \u001b[0;32m~/studies/grammar_ru/grammar_ru/tg/common/ml/batched_training/training_task.py:354\u001b[0m, in \u001b[0;36mBatchedTrainingTask.run_with_environment\u001b[0;34m(self, _bundle, env)\u001b[0m\n\u001b[1;32m    <a href='file:///home/alabai/studies/grammar_ru/grammar_ru/tg/common/ml/batched_training/training_task.py?line=352'>353</a>\u001b[0m \u001b[39mdef\u001b[39;00m \u001b[39mrun_with_environment\u001b[39m(\u001b[39mself\u001b[39m, _bundle: Union[\u001b[39mstr\u001b[39m, Path, DataBundle], env: Optional[TrainingEnvironment] \u001b[39m=\u001b[39m \u001b[39mNone\u001b[39;00m):\n\u001b[0;32m--> <a href='file:///home/alabai/studies/grammar_ru/grammar_ru/tg/common/ml/batched_training/training_task.py?line=353'>354</a>\u001b[0m     temp_data \u001b[39m=\u001b[39m \u001b[39mself\u001b[39;49m\u001b[39m.\u001b[39;49m_prepare_all(_bundle, env)\n\u001b[1;32m    <a href='file:///home/alabai/studies/grammar_ru/grammar_ru/tg/common/ml/batched_training/training_task.py?line=354'>355</a>\u001b[0m     Logger\u001b[39m.\u001b[39minfo(\u001b[39m'\u001b[39m\u001b[39mInitialization completed\u001b[39m\u001b[39m'\u001b[39m)\n\u001b[1;32m    <a href='file:///home/alabai/studies/grammar_ru/grammar_ru/tg/common/ml/batched_training/training_task.py?line=356'>357</a>\u001b[0m     temp_data\u001b[39m.\u001b[39mtrain_bundle \u001b[39m=\u001b[39m temp_data\u001b[39m.\u001b[39moriginal_ibundle\u001b[39m.\u001b[39mchange_index(temp_data\u001b[39m.\u001b[39msplit\u001b[39m.\u001b[39mtrain)\n",
      "File \u001b[0;32m~/studies/grammar_ru/grammar_ru/tg/common/ml/batched_training/training_task.py:177\u001b[0m, in \u001b[0;36mBatchedTrainingTask._prepare_all\u001b[0;34m(self, bundle, env)\u001b[0m\n\u001b[1;32m    <a href='file:///home/alabai/studies/grammar_ru/grammar_ru/tg/common/ml/batched_training/training_task.py?line=174'>175</a>\u001b[0m \u001b[39mif\u001b[39;00m \u001b[39mnot\u001b[39;00m \u001b[39mself\u001b[39m\u001b[39m.\u001b[39msettings\u001b[39m.\u001b[39mcontinue_training:\n\u001b[1;32m    <a href='file:///home/alabai/studies/grammar_ru/grammar_ru/tg/common/ml/batched_training/training_task.py?line=175'>176</a>\u001b[0m     Logger\u001b[39m.\u001b[39minfo(\u001b[39m'\u001b[39m\u001b[39mNew training. Instantiating the system\u001b[39m\u001b[39m'\u001b[39m)\n\u001b[0;32m--> <a href='file:///home/alabai/studies/grammar_ru/grammar_ru/tg/common/ml/batched_training/training_task.py?line=176'>177</a>\u001b[0m     \u001b[39mself\u001b[39;49m\u001b[39m.\u001b[39;49m_instantiate_all(ibundle\u001b[39m.\u001b[39;49mchange_index(split\u001b[39m.\u001b[39;49mtrain))\n\u001b[1;32m    <a href='file:///home/alabai/studies/grammar_ru/grammar_ru/tg/common/ml/batched_training/training_task.py?line=177'>178</a>\u001b[0m     first_iteration \u001b[39m=\u001b[39m \u001b[39m0\u001b[39m\n\u001b[1;32m    <a href='file:///home/alabai/studies/grammar_ru/grammar_ru/tg/common/ml/batched_training/training_task.py?line=178'>179</a>\u001b[0m \u001b[39melse\u001b[39;00m:\n",
      "File \u001b[0;32m~/studies/grammar_ru/grammar_ru/tg/common/ml/batched_training/training_task.py:125\u001b[0m, in \u001b[0;36mBatchedTrainingTask._instantiate_all\u001b[0;34m(self, ibundle)\u001b[0m\n\u001b[1;32m    <a href='file:///home/alabai/studies/grammar_ru/grammar_ru/tg/common/ml/batched_training/training_task.py?line=121'>122</a>\u001b[0m test_batch \u001b[39m=\u001b[39m \u001b[39mself\u001b[39m\u001b[39m.\u001b[39mbatcher\u001b[39m.\u001b[39mfit_extract(ibundle)\n\u001b[1;32m    <a href='file:///home/alabai/studies/grammar_ru/grammar_ru/tg/common/ml/batched_training/training_task.py?line=123'>124</a>\u001b[0m Logger\u001b[39m.\u001b[39minfo(\u001b[39m'\u001b[39m\u001b[39mInstantiating model\u001b[39m\u001b[39m'\u001b[39m)\n\u001b[0;32m--> <a href='file:///home/alabai/studies/grammar_ru/grammar_ru/tg/common/ml/batched_training/training_task.py?line=124'>125</a>\u001b[0m \u001b[39mself\u001b[39;49m\u001b[39m.\u001b[39;49mmodel_handler\u001b[39m.\u001b[39;49minstantiate(\u001b[39mself\u001b[39;49m, test_batch)\n",
      "File \u001b[0;32m~/studies/grammar_ru/grammar_ru/tg/common/ml/batched_training/torch/torch_task.py:62\u001b[0m, in \u001b[0;36m_TorchNetworkHandler.instantiate\u001b[0;34m(self, task, input)\u001b[0m\n\u001b[1;32m     <a href='file:///home/alabai/studies/grammar_ru/grammar_ru/tg/common/ml/batched_training/torch/torch_task.py?line=59'>60</a>\u001b[0m \u001b[39mdef\u001b[39;00m \u001b[39minstantiate\u001b[39m(\u001b[39mself\u001b[39m, task: \u001b[39m'\u001b[39m\u001b[39mTorchTrainingTask\u001b[39m\u001b[39m'\u001b[39m, \u001b[39minput\u001b[39m: Dict[\u001b[39mstr\u001b[39m, pd\u001b[39m.\u001b[39mDataFrame]) \u001b[39m-\u001b[39m\u001b[39m>\u001b[39m \u001b[39mNone\u001b[39;00m:\n\u001b[1;32m     <a href='file:///home/alabai/studies/grammar_ru/grammar_ru/tg/common/ml/batched_training/torch/torch_task.py?line=60'>61</a>\u001b[0m     task\u001b[39m.\u001b[39mnetwork_factory\u001b[39m.\u001b[39mpreview_batch(\u001b[39minput\u001b[39m)\n\u001b[0;32m---> <a href='file:///home/alabai/studies/grammar_ru/grammar_ru/tg/common/ml/batched_training/torch/torch_task.py?line=61'>62</a>\u001b[0m     \u001b[39mself\u001b[39m\u001b[39m.\u001b[39mnetwork \u001b[39m=\u001b[39m task\u001b[39m.\u001b[39;49mnetwork_factory\u001b[39m.\u001b[39;49mcreate_network(task, \u001b[39minput\u001b[39;49m)\n\u001b[1;32m     <a href='file:///home/alabai/studies/grammar_ru/grammar_ru/tg/common/ml/batched_training/torch/torch_task.py?line=62'>63</a>\u001b[0m     \u001b[39mself\u001b[39m\u001b[39m.\u001b[39moptimizer \u001b[39m=\u001b[39m task\u001b[39m.\u001b[39mtorch_settings\u001b[39m.\u001b[39moptimizer_ctor\u001b[39m.\u001b[39minstantiate(\u001b[39mself\u001b[39m\u001b[39m.\u001b[39mnetwork\u001b[39m.\u001b[39mparameters())\n\u001b[1;32m     <a href='file:///home/alabai/studies/grammar_ru/grammar_ru/tg/common/ml/batched_training/torch/torch_task.py?line=63'>64</a>\u001b[0m     \u001b[39mself\u001b[39m\u001b[39m.\u001b[39mloss \u001b[39m=\u001b[39m task\u001b[39m.\u001b[39mtorch_settings\u001b[39m.\u001b[39mloss_ctor()\n",
      "File \u001b[0;32m~/studies/grammar_ru/grammar_ru/tg/common/ml/batched_training/mirrors/arch.py:61\u001b[0m, in \u001b[0;36m_MirrorNetworkFactory.create_network\u001b[0;34m(self, task, input)\u001b[0m\n\u001b[1;32m     <a href='file:///home/alabai/studies/grammar_ru/grammar_ru/tg/common/ml/batched_training/mirrors/arch.py?line=59'>60</a>\u001b[0m \u001b[39mdef\u001b[39;00m \u001b[39mcreate_network\u001b[39m(\u001b[39mself\u001b[39m, task, \u001b[39minput\u001b[39m):\n\u001b[0;32m---> <a href='file:///home/alabai/studies/grammar_ru/grammar_ru/tg/common/ml/batched_training/mirrors/arch.py?line=60'>61</a>\u001b[0m     first_layer_networks \u001b[39m=\u001b[39m {c\u001b[39m.\u001b[39mget_name(): c\u001b[39m.\u001b[39mcreate_network_factory(task, \u001b[39minput\u001b[39m) \u001b[39mfor\u001b[39;00m c \u001b[39min\u001b[39;00m \u001b[39mself\u001b[39m\u001b[39m.\u001b[39msettings\u001b[39m.\u001b[39mbindings}\n\u001b[1;32m     <a href='file:///home/alabai/studies/grammar_ru/grammar_ru/tg/common/ml/batched_training/mirrors/arch.py?line=61'>62</a>\u001b[0m     factory \u001b[39m=\u001b[39m btt\u001b[39m.\u001b[39mFeedForwardNetwork\u001b[39m.\u001b[39mFactory(\n\u001b[1;32m     <a href='file:///home/alabai/studies/grammar_ru/grammar_ru/tg/common/ml/batched_training/mirrors/arch.py?line=62'>63</a>\u001b[0m         btt\u001b[39m.\u001b[39mParallelNetwork\u001b[39m.\u001b[39mFactory(\u001b[39m*\u001b[39m\u001b[39m*\u001b[39mfirst_layer_networks),\n\u001b[1;32m     <a href='file:///home/alabai/studies/grammar_ru/grammar_ru/tg/common/ml/batched_training/mirrors/arch.py?line=63'>64</a>\u001b[0m         \u001b[39m*\u001b[39m\u001b[39mself\u001b[39m\u001b[39m.\u001b[39msettings\u001b[39m.\u001b[39mtail_network_factories\n\u001b[1;32m     <a href='file:///home/alabai/studies/grammar_ru/grammar_ru/tg/common/ml/batched_training/mirrors/arch.py?line=64'>65</a>\u001b[0m     )\n\u001b[1;32m     <a href='file:///home/alabai/studies/grammar_ru/grammar_ru/tg/common/ml/batched_training/mirrors/arch.py?line=65'>66</a>\u001b[0m     factory\u001b[39m.\u001b[39mpreview_batch(\u001b[39minput\u001b[39m)\n",
      "File \u001b[0;32m~/studies/grammar_ru/grammar_ru/tg/common/ml/batched_training/mirrors/arch.py:61\u001b[0m, in \u001b[0;36m<dictcomp>\u001b[0;34m(.0)\u001b[0m\n\u001b[1;32m     <a href='file:///home/alabai/studies/grammar_ru/grammar_ru/tg/common/ml/batched_training/mirrors/arch.py?line=59'>60</a>\u001b[0m \u001b[39mdef\u001b[39;00m \u001b[39mcreate_network\u001b[39m(\u001b[39mself\u001b[39m, task, \u001b[39minput\u001b[39m):\n\u001b[0;32m---> <a href='file:///home/alabai/studies/grammar_ru/grammar_ru/tg/common/ml/batched_training/mirrors/arch.py?line=60'>61</a>\u001b[0m     first_layer_networks \u001b[39m=\u001b[39m {c\u001b[39m.\u001b[39mget_name(): c\u001b[39m.\u001b[39;49mcreate_network_factory(task, \u001b[39minput\u001b[39;49m) \u001b[39mfor\u001b[39;00m c \u001b[39min\u001b[39;00m \u001b[39mself\u001b[39m\u001b[39m.\u001b[39msettings\u001b[39m.\u001b[39mbindings}\n\u001b[1;32m     <a href='file:///home/alabai/studies/grammar_ru/grammar_ru/tg/common/ml/batched_training/mirrors/arch.py?line=61'>62</a>\u001b[0m     factory \u001b[39m=\u001b[39m btt\u001b[39m.\u001b[39mFeedForwardNetwork\u001b[39m.\u001b[39mFactory(\n\u001b[1;32m     <a href='file:///home/alabai/studies/grammar_ru/grammar_ru/tg/common/ml/batched_training/mirrors/arch.py?line=62'>63</a>\u001b[0m         btt\u001b[39m.\u001b[39mParallelNetwork\u001b[39m.\u001b[39mFactory(\u001b[39m*\u001b[39m\u001b[39m*\u001b[39mfirst_layer_networks),\n\u001b[1;32m     <a href='file:///home/alabai/studies/grammar_ru/grammar_ru/tg/common/ml/batched_training/mirrors/arch.py?line=63'>64</a>\u001b[0m         \u001b[39m*\u001b[39m\u001b[39mself\u001b[39m\u001b[39m.\u001b[39msettings\u001b[39m.\u001b[39mtail_network_factories\n\u001b[1;32m     <a href='file:///home/alabai/studies/grammar_ru/grammar_ru/tg/common/ml/batched_training/mirrors/arch.py?line=64'>65</a>\u001b[0m     )\n\u001b[1;32m     <a href='file:///home/alabai/studies/grammar_ru/grammar_ru/tg/common/ml/batched_training/mirrors/arch.py?line=65'>66</a>\u001b[0m     factory\u001b[39m.\u001b[39mpreview_batch(\u001b[39minput\u001b[39m)\n",
      "File \u001b[0;32m~/studies/grammar_ru/grammar_ru/tg/grammar_ru/ml/components/contextual_binding.py:54\u001b[0m, in \u001b[0;36mContextualBinding.create_network_factory\u001b[0;34m(self, task, input)\u001b[0m\n\u001b[1;32m     <a href='file:///home/alabai/studies/grammar_ru/grammar_ru/tg/grammar_ru/ml/components/contextual_binding.py?line=52'>53</a>\u001b[0m \u001b[39mdef\u001b[39;00m \u001b[39mcreate_network_factory\u001b[39m(\u001b[39mself\u001b[39m, task, \u001b[39minput\u001b[39m):\n\u001b[0;32m---> <a href='file:///home/alabai/studies/grammar_ru/grammar_ru/tg/grammar_ru/ml/components/contextual_binding.py?line=53'>54</a>\u001b[0m     \u001b[39mreturn\u001b[39;00m \u001b[39mself\u001b[39;49m\u001b[39m.\u001b[39;49massemble_network_factory()\n",
      "File \u001b[0;32m~/studies/grammar_ru/grammar_ru/tg/grammar_ru/ml/components/contextual_binding.py:69\u001b[0m, in \u001b[0;36mContextualBinding.assemble_network_factory\u001b[0;34m(self)\u001b[0m\n\u001b[1;32m     <a href='file:///home/alabai/studies/grammar_ru/grammar_ru/tg/grammar_ru/ml/components/contextual_binding.py?line=66'>67</a>\u001b[0m     \u001b[39mreturn\u001b[39;00m BidirectLSTMNetwork\u001b[39m.\u001b[39mFactory(\u001b[39mself\u001b[39m\u001b[39m.\u001b[39mhidden_size)\u001b[39m.\u001b[39mprepend_extraction(\u001b[39mself\u001b[39m\u001b[39m.\u001b[39mname)\n\u001b[1;32m     <a href='file:///home/alabai/studies/grammar_ru/grammar_ru/tg/grammar_ru/ml/components/contextual_binding.py?line=67'>68</a>\u001b[0m \u001b[39melse\u001b[39;00m:\n\u001b[0;32m---> <a href='file:///home/alabai/studies/grammar_ru/grammar_ru/tg/grammar_ru/ml/components/contextual_binding.py?line=68'>69</a>\u001b[0m     \u001b[39mraise\u001b[39;00m \u001b[39mValueError\u001b[39;00m(\u001b[39mf\u001b[39m\u001b[39m\"\u001b[39m\u001b[39mNetwork type \u001b[39m\u001b[39m{\u001b[39;00m\u001b[39mself\u001b[39m\u001b[39m.\u001b[39mnetwork_type\u001b[39m}\u001b[39;00m\u001b[39m is not recognized\u001b[39m\u001b[39m\"\u001b[39m)\n",
      "\u001b[0;31mValueError\u001b[0m: Network type ContextualNetworkType.Plain is not recognized"
     ]
    }
   ],
   "source": [
    "result = run_training.run_local(bundle_path)"
   ]
  },
  {
   "cell_type": "code",
   "execution_count": null,
   "metadata": {},
   "outputs": [],
   "source": []
  },
  {
   "cell_type": "markdown",
   "metadata": {},
   "source": [
    "# Debug"
   ]
  },
  {
   "cell_type": "code",
   "execution_count": 30,
   "metadata": {},
   "outputs": [],
   "source": [
    "reader = CorpusReader(Loc.bundles_path/'chtoby/prepare/balanced/balanced.zip')"
   ]
  },
  {
   "cell_type": "code",
   "execution_count": 31,
   "metadata": {},
   "outputs": [],
   "source": [
    "frames = reader.get_frames()"
   ]
  },
  {
   "cell_type": "code",
   "execution_count": 32,
   "metadata": {},
   "outputs": [],
   "source": [
    "frame = frames.first()"
   ]
  },
  {
   "cell_type": "code",
   "execution_count": 66,
   "metadata": {},
   "outputs": [
    {
     "data": {
      "text/html": [
       "<div>\n",
       "<style scoped>\n",
       "    .dataframe tbody tr th:only-of-type {\n",
       "        vertical-align: middle;\n",
       "    }\n",
       "\n",
       "    .dataframe tbody tr th {\n",
       "        vertical-align: top;\n",
       "    }\n",
       "\n",
       "    .dataframe thead th {\n",
       "        text-align: right;\n",
       "    }\n",
       "</style>\n",
       "<table border=\"1\" class=\"dataframe\">\n",
       "  <thead>\n",
       "    <tr style=\"text-align: right;\">\n",
       "      <th></th>\n",
       "      <th>word_id</th>\n",
       "      <th>sentence_id</th>\n",
       "      <th>word_index</th>\n",
       "      <th>paragraph_id</th>\n",
       "      <th>word_tail</th>\n",
       "      <th>word</th>\n",
       "      <th>word_type</th>\n",
       "      <th>word_length</th>\n",
       "      <th>file_id</th>\n",
       "      <th>corpus_id</th>\n",
       "      <th>is_target</th>\n",
       "      <th>original_word_id</th>\n",
       "      <th>original_sentence_id</th>\n",
       "      <th>original_paragraph_id</th>\n",
       "      <th>updated</th>\n",
       "      <th>original_corpus_id</th>\n",
       "    </tr>\n",
       "  </thead>\n",
       "  <tbody>\n",
       "    <tr>\n",
       "      <th>0</th>\n",
       "      <td>0</td>\n",
       "      <td>0</td>\n",
       "      <td>0</td>\n",
       "      <td>0</td>\n",
       "      <td>0</td>\n",
       "      <td>\"</td>\n",
       "      <td>punct</td>\n",
       "      <td>1</td>\n",
       "      <td>05e87080-f026-4b0d-a850-76cdd9b668ee</td>\n",
       "      <td>balanced.zip</td>\n",
       "      <td>False</td>\n",
       "      <td>809</td>\n",
       "      <td>30</td>\n",
       "      <td>23</td>\n",
       "      <td>False</td>\n",
       "      <td>filtered_lenta.zip</td>\n",
       "    </tr>\n",
       "    <tr>\n",
       "      <th>1</th>\n",
       "      <td>1</td>\n",
       "      <td>0</td>\n",
       "      <td>1</td>\n",
       "      <td>0</td>\n",
       "      <td>1</td>\n",
       "      <td>Вам</td>\n",
       "      <td>ru</td>\n",
       "      <td>3</td>\n",
       "      <td>05e87080-f026-4b0d-a850-76cdd9b668ee</td>\n",
       "      <td>balanced.zip</td>\n",
       "      <td>False</td>\n",
       "      <td>810</td>\n",
       "      <td>30</td>\n",
       "      <td>23</td>\n",
       "      <td>False</td>\n",
       "      <td>filtered_lenta.zip</td>\n",
       "    </tr>\n",
       "    <tr>\n",
       "      <th>2</th>\n",
       "      <td>2</td>\n",
       "      <td>0</td>\n",
       "      <td>2</td>\n",
       "      <td>0</td>\n",
       "      <td>1</td>\n",
       "      <td>не</td>\n",
       "      <td>ru</td>\n",
       "      <td>2</td>\n",
       "      <td>05e87080-f026-4b0d-a850-76cdd9b668ee</td>\n",
       "      <td>balanced.zip</td>\n",
       "      <td>False</td>\n",
       "      <td>811</td>\n",
       "      <td>30</td>\n",
       "      <td>23</td>\n",
       "      <td>False</td>\n",
       "      <td>filtered_lenta.zip</td>\n",
       "    </tr>\n",
       "    <tr>\n",
       "      <th>3</th>\n",
       "      <td>3</td>\n",
       "      <td>0</td>\n",
       "      <td>3</td>\n",
       "      <td>0</td>\n",
       "      <td>1</td>\n",
       "      <td>построить</td>\n",
       "      <td>ru</td>\n",
       "      <td>9</td>\n",
       "      <td>05e87080-f026-4b0d-a850-76cdd9b668ee</td>\n",
       "      <td>balanced.zip</td>\n",
       "      <td>False</td>\n",
       "      <td>812</td>\n",
       "      <td>30</td>\n",
       "      <td>23</td>\n",
       "      <td>False</td>\n",
       "      <td>filtered_lenta.zip</td>\n",
       "    </tr>\n",
       "    <tr>\n",
       "      <th>4</th>\n",
       "      <td>4</td>\n",
       "      <td>0</td>\n",
       "      <td>4</td>\n",
       "      <td>0</td>\n",
       "      <td>1</td>\n",
       "      <td>тюрьмы</td>\n",
       "      <td>ru</td>\n",
       "      <td>6</td>\n",
       "      <td>05e87080-f026-4b0d-a850-76cdd9b668ee</td>\n",
       "      <td>balanced.zip</td>\n",
       "      <td>False</td>\n",
       "      <td>813</td>\n",
       "      <td>30</td>\n",
       "      <td>23</td>\n",
       "      <td>False</td>\n",
       "      <td>filtered_lenta.zip</td>\n",
       "    </tr>\n",
       "  </tbody>\n",
       "</table>\n",
       "</div>"
      ],
      "text/plain": [
       "   word_id  sentence_id  word_index  paragraph_id  word_tail       word  \\\n",
       "0        0            0           0             0          0          \"   \n",
       "1        1            0           1             0          1        Вам   \n",
       "2        2            0           2             0          1         не   \n",
       "3        3            0           3             0          1  построить   \n",
       "4        4            0           4             0          1     тюрьмы   \n",
       "\n",
       "  word_type  word_length                               file_id     corpus_id  \\\n",
       "0     punct            1  05e87080-f026-4b0d-a850-76cdd9b668ee  balanced.zip   \n",
       "1        ru            3  05e87080-f026-4b0d-a850-76cdd9b668ee  balanced.zip   \n",
       "2        ru            2  05e87080-f026-4b0d-a850-76cdd9b668ee  balanced.zip   \n",
       "3        ru            9  05e87080-f026-4b0d-a850-76cdd9b668ee  balanced.zip   \n",
       "4        ru            6  05e87080-f026-4b0d-a850-76cdd9b668ee  balanced.zip   \n",
       "\n",
       "   is_target  original_word_id  original_sentence_id  original_paragraph_id  \\\n",
       "0      False               809                    30                     23   \n",
       "1      False               810                    30                     23   \n",
       "2      False               811                    30                     23   \n",
       "3      False               812                    30                     23   \n",
       "4      False               813                    30                     23   \n",
       "\n",
       "   updated  original_corpus_id  \n",
       "0    False  filtered_lenta.zip  \n",
       "1    False  filtered_lenta.zip  \n",
       "2    False  filtered_lenta.zip  \n",
       "3    False  filtered_lenta.zip  \n",
       "4    False  filtered_lenta.zip  "
      ]
     },
     "execution_count": 66,
     "metadata": {},
     "output_type": "execute_result"
    }
   ],
   "source": [
    "frame.head()"
   ]
  },
  {
   "cell_type": "markdown",
   "metadata": {},
   "source": []
  },
  {
   "cell_type": "code",
   "execution_count": 32,
   "metadata": {},
   "outputs": [],
   "source": [
    "from importlib import reload"
   ]
  },
  {
   "cell_type": "code",
   "execution_count": 16,
   "metadata": {},
   "outputs": [],
   "source": [
    "from tg.grammar_ru.ml.tasks.train_index_builder.index_builders import ChtobyIndexBuilder\n",
    "from tg.grammar_ru.ml.corpus import CorpusBuilder"
   ]
  },
  {
   "cell_type": "code",
   "execution_count": 19,
   "metadata": {},
   "outputs": [],
   "source": [
    "from tg.grammar_ru.common import Separator, DataBundle\n",
    "from tg.grammar_ru.ml.tasks.train_index_builder.sentence_filterer import ChtobyFilterer"
   ]
  },
  {
   "cell_type": "code",
   "execution_count": 33,
   "metadata": {},
   "outputs": [],
   "source": [
    "from tg.grammar_ru.ml.tasks.train_index_builder import sentence_filterer\n",
    "\n",
    "\n",
    "ChtobyFilterer = reload(sentence_filterer).ChtobyFilterer"
   ]
  },
  {
   "cell_type": "code",
   "execution_count": 39,
   "metadata": {},
   "outputs": [],
   "source": [
    "db = Separator.build_bundle(\n",
    "    'Чтобы приготовить суп. Нужно купить продукты. Что бы мне сделать. С Новым Годом!. Для того, чтобы. Во что бы мне поиграть.'\n",
    ")\n",
    "filterer = ChtobyFilterer()"
   ]
  },
  {
   "cell_type": "code",
   "execution_count": 40,
   "metadata": {},
   "outputs": [
    {
     "data": {
      "text/plain": [
       "{'src': {'shape': (28, 8), 'index_name': None}}"
      ]
     },
     "execution_count": 40,
     "metadata": {},
     "output_type": "execute_result"
    }
   ],
   "source": [
    "db"
   ]
  },
  {
   "cell_type": "code",
   "execution_count": 41,
   "metadata": {},
   "outputs": [
    {
     "data": {
      "text/html": [
       "<div>\n",
       "<style scoped>\n",
       "    .dataframe tbody tr th:only-of-type {\n",
       "        vertical-align: middle;\n",
       "    }\n",
       "\n",
       "    .dataframe tbody tr th {\n",
       "        vertical-align: top;\n",
       "    }\n",
       "\n",
       "    .dataframe thead th {\n",
       "        text-align: right;\n",
       "    }\n",
       "</style>\n",
       "<table border=\"1\" class=\"dataframe\">\n",
       "  <thead>\n",
       "    <tr style=\"text-align: right;\">\n",
       "      <th></th>\n",
       "      <th>word_id</th>\n",
       "      <th>sentence_id</th>\n",
       "      <th>word_index</th>\n",
       "      <th>paragraph_id</th>\n",
       "      <th>word_tail</th>\n",
       "      <th>word</th>\n",
       "      <th>word_type</th>\n",
       "      <th>word_length</th>\n",
       "    </tr>\n",
       "  </thead>\n",
       "  <tbody>\n",
       "    <tr>\n",
       "      <th>0</th>\n",
       "      <td>0</td>\n",
       "      <td>0</td>\n",
       "      <td>0</td>\n",
       "      <td>0</td>\n",
       "      <td>1</td>\n",
       "      <td>Чтобы</td>\n",
       "      <td>ru</td>\n",
       "      <td>5</td>\n",
       "    </tr>\n",
       "    <tr>\n",
       "      <th>1</th>\n",
       "      <td>1</td>\n",
       "      <td>0</td>\n",
       "      <td>1</td>\n",
       "      <td>0</td>\n",
       "      <td>1</td>\n",
       "      <td>приготовить</td>\n",
       "      <td>ru</td>\n",
       "      <td>11</td>\n",
       "    </tr>\n",
       "    <tr>\n",
       "      <th>2</th>\n",
       "      <td>2</td>\n",
       "      <td>0</td>\n",
       "      <td>2</td>\n",
       "      <td>0</td>\n",
       "      <td>0</td>\n",
       "      <td>суп</td>\n",
       "      <td>ru</td>\n",
       "      <td>3</td>\n",
       "    </tr>\n",
       "    <tr>\n",
       "      <th>3</th>\n",
       "      <td>3</td>\n",
       "      <td>0</td>\n",
       "      <td>3</td>\n",
       "      <td>0</td>\n",
       "      <td>1</td>\n",
       "      <td>.</td>\n",
       "      <td>punct</td>\n",
       "      <td>1</td>\n",
       "    </tr>\n",
       "    <tr>\n",
       "      <th>4</th>\n",
       "      <td>4</td>\n",
       "      <td>1</td>\n",
       "      <td>0</td>\n",
       "      <td>0</td>\n",
       "      <td>1</td>\n",
       "      <td>Нужно</td>\n",
       "      <td>ru</td>\n",
       "      <td>5</td>\n",
       "    </tr>\n",
       "    <tr>\n",
       "      <th>5</th>\n",
       "      <td>5</td>\n",
       "      <td>1</td>\n",
       "      <td>1</td>\n",
       "      <td>0</td>\n",
       "      <td>1</td>\n",
       "      <td>купить</td>\n",
       "      <td>ru</td>\n",
       "      <td>6</td>\n",
       "    </tr>\n",
       "    <tr>\n",
       "      <th>6</th>\n",
       "      <td>6</td>\n",
       "      <td>1</td>\n",
       "      <td>2</td>\n",
       "      <td>0</td>\n",
       "      <td>0</td>\n",
       "      <td>продукты</td>\n",
       "      <td>ru</td>\n",
       "      <td>8</td>\n",
       "    </tr>\n",
       "    <tr>\n",
       "      <th>7</th>\n",
       "      <td>7</td>\n",
       "      <td>1</td>\n",
       "      <td>3</td>\n",
       "      <td>0</td>\n",
       "      <td>1</td>\n",
       "      <td>.</td>\n",
       "      <td>punct</td>\n",
       "      <td>1</td>\n",
       "    </tr>\n",
       "    <tr>\n",
       "      <th>8</th>\n",
       "      <td>8</td>\n",
       "      <td>2</td>\n",
       "      <td>0</td>\n",
       "      <td>0</td>\n",
       "      <td>1</td>\n",
       "      <td>Что</td>\n",
       "      <td>ru</td>\n",
       "      <td>3</td>\n",
       "    </tr>\n",
       "    <tr>\n",
       "      <th>9</th>\n",
       "      <td>9</td>\n",
       "      <td>2</td>\n",
       "      <td>1</td>\n",
       "      <td>0</td>\n",
       "      <td>1</td>\n",
       "      <td>бы</td>\n",
       "      <td>ru</td>\n",
       "      <td>2</td>\n",
       "    </tr>\n",
       "    <tr>\n",
       "      <th>10</th>\n",
       "      <td>10</td>\n",
       "      <td>2</td>\n",
       "      <td>2</td>\n",
       "      <td>0</td>\n",
       "      <td>1</td>\n",
       "      <td>мне</td>\n",
       "      <td>ru</td>\n",
       "      <td>3</td>\n",
       "    </tr>\n",
       "    <tr>\n",
       "      <th>11</th>\n",
       "      <td>11</td>\n",
       "      <td>2</td>\n",
       "      <td>3</td>\n",
       "      <td>0</td>\n",
       "      <td>0</td>\n",
       "      <td>сделать</td>\n",
       "      <td>ru</td>\n",
       "      <td>7</td>\n",
       "    </tr>\n",
       "    <tr>\n",
       "      <th>12</th>\n",
       "      <td>12</td>\n",
       "      <td>2</td>\n",
       "      <td>4</td>\n",
       "      <td>0</td>\n",
       "      <td>1</td>\n",
       "      <td>.</td>\n",
       "      <td>punct</td>\n",
       "      <td>1</td>\n",
       "    </tr>\n",
       "    <tr>\n",
       "      <th>13</th>\n",
       "      <td>13</td>\n",
       "      <td>3</td>\n",
       "      <td>0</td>\n",
       "      <td>0</td>\n",
       "      <td>1</td>\n",
       "      <td>С</td>\n",
       "      <td>ru</td>\n",
       "      <td>1</td>\n",
       "    </tr>\n",
       "    <tr>\n",
       "      <th>14</th>\n",
       "      <td>14</td>\n",
       "      <td>3</td>\n",
       "      <td>1</td>\n",
       "      <td>0</td>\n",
       "      <td>1</td>\n",
       "      <td>Новым</td>\n",
       "      <td>ru</td>\n",
       "      <td>5</td>\n",
       "    </tr>\n",
       "    <tr>\n",
       "      <th>15</th>\n",
       "      <td>15</td>\n",
       "      <td>3</td>\n",
       "      <td>2</td>\n",
       "      <td>0</td>\n",
       "      <td>0</td>\n",
       "      <td>Годом</td>\n",
       "      <td>ru</td>\n",
       "      <td>5</td>\n",
       "    </tr>\n",
       "    <tr>\n",
       "      <th>16</th>\n",
       "      <td>16</td>\n",
       "      <td>3</td>\n",
       "      <td>3</td>\n",
       "      <td>0</td>\n",
       "      <td>1</td>\n",
       "      <td>!.</td>\n",
       "      <td>punct</td>\n",
       "      <td>2</td>\n",
       "    </tr>\n",
       "    <tr>\n",
       "      <th>17</th>\n",
       "      <td>17</td>\n",
       "      <td>4</td>\n",
       "      <td>0</td>\n",
       "      <td>0</td>\n",
       "      <td>1</td>\n",
       "      <td>Для</td>\n",
       "      <td>ru</td>\n",
       "      <td>3</td>\n",
       "    </tr>\n",
       "    <tr>\n",
       "      <th>18</th>\n",
       "      <td>18</td>\n",
       "      <td>4</td>\n",
       "      <td>1</td>\n",
       "      <td>0</td>\n",
       "      <td>0</td>\n",
       "      <td>того</td>\n",
       "      <td>ru</td>\n",
       "      <td>4</td>\n",
       "    </tr>\n",
       "    <tr>\n",
       "      <th>19</th>\n",
       "      <td>19</td>\n",
       "      <td>4</td>\n",
       "      <td>2</td>\n",
       "      <td>0</td>\n",
       "      <td>1</td>\n",
       "      <td>,</td>\n",
       "      <td>punct</td>\n",
       "      <td>1</td>\n",
       "    </tr>\n",
       "    <tr>\n",
       "      <th>20</th>\n",
       "      <td>20</td>\n",
       "      <td>4</td>\n",
       "      <td>3</td>\n",
       "      <td>0</td>\n",
       "      <td>0</td>\n",
       "      <td>чтобы</td>\n",
       "      <td>ru</td>\n",
       "      <td>5</td>\n",
       "    </tr>\n",
       "    <tr>\n",
       "      <th>21</th>\n",
       "      <td>21</td>\n",
       "      <td>4</td>\n",
       "      <td>4</td>\n",
       "      <td>0</td>\n",
       "      <td>1</td>\n",
       "      <td>.</td>\n",
       "      <td>punct</td>\n",
       "      <td>1</td>\n",
       "    </tr>\n",
       "    <tr>\n",
       "      <th>22</th>\n",
       "      <td>22</td>\n",
       "      <td>5</td>\n",
       "      <td>0</td>\n",
       "      <td>0</td>\n",
       "      <td>1</td>\n",
       "      <td>Во</td>\n",
       "      <td>ru</td>\n",
       "      <td>2</td>\n",
       "    </tr>\n",
       "    <tr>\n",
       "      <th>23</th>\n",
       "      <td>23</td>\n",
       "      <td>5</td>\n",
       "      <td>1</td>\n",
       "      <td>0</td>\n",
       "      <td>1</td>\n",
       "      <td>что</td>\n",
       "      <td>ru</td>\n",
       "      <td>3</td>\n",
       "    </tr>\n",
       "    <tr>\n",
       "      <th>24</th>\n",
       "      <td>24</td>\n",
       "      <td>5</td>\n",
       "      <td>2</td>\n",
       "      <td>0</td>\n",
       "      <td>1</td>\n",
       "      <td>бы</td>\n",
       "      <td>ru</td>\n",
       "      <td>2</td>\n",
       "    </tr>\n",
       "    <tr>\n",
       "      <th>25</th>\n",
       "      <td>25</td>\n",
       "      <td>5</td>\n",
       "      <td>3</td>\n",
       "      <td>0</td>\n",
       "      <td>1</td>\n",
       "      <td>мне</td>\n",
       "      <td>ru</td>\n",
       "      <td>3</td>\n",
       "    </tr>\n",
       "    <tr>\n",
       "      <th>26</th>\n",
       "      <td>26</td>\n",
       "      <td>5</td>\n",
       "      <td>4</td>\n",
       "      <td>0</td>\n",
       "      <td>0</td>\n",
       "      <td>поиграть</td>\n",
       "      <td>ru</td>\n",
       "      <td>8</td>\n",
       "    </tr>\n",
       "    <tr>\n",
       "      <th>27</th>\n",
       "      <td>27</td>\n",
       "      <td>5</td>\n",
       "      <td>5</td>\n",
       "      <td>0</td>\n",
       "      <td>0</td>\n",
       "      <td>.</td>\n",
       "      <td>punct</td>\n",
       "      <td>1</td>\n",
       "    </tr>\n",
       "  </tbody>\n",
       "</table>\n",
       "</div>"
      ],
      "text/plain": [
       "    word_id  sentence_id  word_index  paragraph_id  word_tail         word  \\\n",
       "0         0            0           0             0          1        Чтобы   \n",
       "1         1            0           1             0          1  приготовить   \n",
       "2         2            0           2             0          0          суп   \n",
       "3         3            0           3             0          1            .   \n",
       "4         4            1           0             0          1        Нужно   \n",
       "5         5            1           1             0          1       купить   \n",
       "6         6            1           2             0          0     продукты   \n",
       "7         7            1           3             0          1            .   \n",
       "8         8            2           0             0          1          Что   \n",
       "9         9            2           1             0          1           бы   \n",
       "10       10            2           2             0          1          мне   \n",
       "11       11            2           3             0          0      сделать   \n",
       "12       12            2           4             0          1            .   \n",
       "13       13            3           0             0          1            С   \n",
       "14       14            3           1             0          1        Новым   \n",
       "15       15            3           2             0          0        Годом   \n",
       "16       16            3           3             0          1           !.   \n",
       "17       17            4           0             0          1          Для   \n",
       "18       18            4           1             0          0         того   \n",
       "19       19            4           2             0          1            ,   \n",
       "20       20            4           3             0          0        чтобы   \n",
       "21       21            4           4             0          1            .   \n",
       "22       22            5           0             0          1           Во   \n",
       "23       23            5           1             0          1          что   \n",
       "24       24            5           2             0          1           бы   \n",
       "25       25            5           3             0          1          мне   \n",
       "26       26            5           4             0          0     поиграть   \n",
       "27       27            5           5             0          0            .   \n",
       "\n",
       "   word_type  word_length  \n",
       "0         ru            5  \n",
       "1         ru           11  \n",
       "2         ru            3  \n",
       "3      punct            1  \n",
       "4         ru            5  \n",
       "5         ru            6  \n",
       "6         ru            8  \n",
       "7      punct            1  \n",
       "8         ru            3  \n",
       "9         ru            2  \n",
       "10        ru            3  \n",
       "11        ru            7  \n",
       "12     punct            1  \n",
       "13        ru            1  \n",
       "14        ru            5  \n",
       "15        ru            5  \n",
       "16     punct            2  \n",
       "17        ru            3  \n",
       "18        ru            4  \n",
       "19     punct            1  \n",
       "20        ru            5  \n",
       "21     punct            1  \n",
       "22        ru            2  \n",
       "23        ru            3  \n",
       "24        ru            2  \n",
       "25        ru            3  \n",
       "26        ru            8  \n",
       "27     punct            1  "
      ]
     },
     "execution_count": 41,
     "metadata": {},
     "output_type": "execute_result"
    }
   ],
   "source": [
    "frame = db.data_frames['src']\n",
    "frame"
   ]
  },
  {
   "cell_type": "code",
   "execution_count": 47,
   "metadata": {},
   "outputs": [],
   "source": [
    "filtered_words = filterer.get_filtered_df(frame)"
   ]
  },
  {
   "cell_type": "code",
   "execution_count": 48,
   "metadata": {},
   "outputs": [],
   "source": [
    "exprected_words = filtered_words['word']"
   ]
  },
  {
   "cell_type": "code",
   "execution_count": 49,
   "metadata": {},
   "outputs": [
    {
     "data": {
      "text/plain": [
       "['Чтобы',\n",
       " 'приготовить',\n",
       " 'суп',\n",
       " '.',\n",
       " 'Что',\n",
       " 'бы',\n",
       " 'мне',\n",
       " 'сделать',\n",
       " '.',\n",
       " 'Для',\n",
       " 'того',\n",
       " ',',\n",
       " 'чтобы',\n",
       " '.',\n",
       " 'Во',\n",
       " 'что',\n",
       " 'бы',\n",
       " 'мне',\n",
       " 'поиграть',\n",
       " '.']"
      ]
     },
     "execution_count": 49,
     "metadata": {},
     "output_type": "execute_result"
    }
   ],
   "source": [
    "list(exprected_words)"
   ]
  },
  {
   "cell_type": "code",
   "execution_count": 56,
   "metadata": {},
   "outputs": [],
   "source": [
    "db = Separator.build_bundle(\n",
    "    '''Чтобы приготовить суп. \n",
    "    Что бы мне сделать. Для того, чтобы. \n",
    "    Во что бы мне поиграть, чтобы развлечься.'''\n",
    ")"
   ]
  },
  {
   "cell_type": "code",
   "execution_count": 57,
   "metadata": {},
   "outputs": [],
   "source": [
    "frame = db.data_frames['src']"
   ]
  },
  {
   "cell_type": "code",
   "execution_count": 58,
   "metadata": {},
   "outputs": [
    {
     "data": {
      "text/html": [
       "<div>\n",
       "<style scoped>\n",
       "    .dataframe tbody tr th:only-of-type {\n",
       "        vertical-align: middle;\n",
       "    }\n",
       "\n",
       "    .dataframe tbody tr th {\n",
       "        vertical-align: top;\n",
       "    }\n",
       "\n",
       "    .dataframe thead th {\n",
       "        text-align: right;\n",
       "    }\n",
       "</style>\n",
       "<table border=\"1\" class=\"dataframe\">\n",
       "  <thead>\n",
       "    <tr style=\"text-align: right;\">\n",
       "      <th></th>\n",
       "      <th>word_id</th>\n",
       "      <th>sentence_id</th>\n",
       "      <th>word_index</th>\n",
       "      <th>paragraph_id</th>\n",
       "      <th>word_tail</th>\n",
       "      <th>word</th>\n",
       "      <th>word_type</th>\n",
       "      <th>word_length</th>\n",
       "    </tr>\n",
       "  </thead>\n",
       "  <tbody>\n",
       "    <tr>\n",
       "      <th>0</th>\n",
       "      <td>0</td>\n",
       "      <td>0</td>\n",
       "      <td>0</td>\n",
       "      <td>0</td>\n",
       "      <td>1</td>\n",
       "      <td>Чтобы</td>\n",
       "      <td>ru</td>\n",
       "      <td>5</td>\n",
       "    </tr>\n",
       "    <tr>\n",
       "      <th>1</th>\n",
       "      <td>1</td>\n",
       "      <td>0</td>\n",
       "      <td>1</td>\n",
       "      <td>0</td>\n",
       "      <td>1</td>\n",
       "      <td>приготовить</td>\n",
       "      <td>ru</td>\n",
       "      <td>11</td>\n",
       "    </tr>\n",
       "    <tr>\n",
       "      <th>2</th>\n",
       "      <td>2</td>\n",
       "      <td>0</td>\n",
       "      <td>2</td>\n",
       "      <td>0</td>\n",
       "      <td>0</td>\n",
       "      <td>суп</td>\n",
       "      <td>ru</td>\n",
       "      <td>3</td>\n",
       "    </tr>\n",
       "    <tr>\n",
       "      <th>3</th>\n",
       "      <td>3</td>\n",
       "      <td>0</td>\n",
       "      <td>3</td>\n",
       "      <td>0</td>\n",
       "      <td>1</td>\n",
       "      <td>.</td>\n",
       "      <td>punct</td>\n",
       "      <td>1</td>\n",
       "    </tr>\n",
       "    <tr>\n",
       "      <th>4</th>\n",
       "      <td>4</td>\n",
       "      <td>1</td>\n",
       "      <td>0</td>\n",
       "      <td>1</td>\n",
       "      <td>1</td>\n",
       "      <td>Что</td>\n",
       "      <td>ru</td>\n",
       "      <td>3</td>\n",
       "    </tr>\n",
       "    <tr>\n",
       "      <th>5</th>\n",
       "      <td>5</td>\n",
       "      <td>1</td>\n",
       "      <td>1</td>\n",
       "      <td>1</td>\n",
       "      <td>1</td>\n",
       "      <td>бы</td>\n",
       "      <td>ru</td>\n",
       "      <td>2</td>\n",
       "    </tr>\n",
       "    <tr>\n",
       "      <th>6</th>\n",
       "      <td>6</td>\n",
       "      <td>1</td>\n",
       "      <td>2</td>\n",
       "      <td>1</td>\n",
       "      <td>1</td>\n",
       "      <td>мне</td>\n",
       "      <td>ru</td>\n",
       "      <td>3</td>\n",
       "    </tr>\n",
       "    <tr>\n",
       "      <th>7</th>\n",
       "      <td>7</td>\n",
       "      <td>1</td>\n",
       "      <td>3</td>\n",
       "      <td>1</td>\n",
       "      <td>0</td>\n",
       "      <td>сделать</td>\n",
       "      <td>ru</td>\n",
       "      <td>7</td>\n",
       "    </tr>\n",
       "    <tr>\n",
       "      <th>8</th>\n",
       "      <td>8</td>\n",
       "      <td>1</td>\n",
       "      <td>4</td>\n",
       "      <td>1</td>\n",
       "      <td>1</td>\n",
       "      <td>.</td>\n",
       "      <td>punct</td>\n",
       "      <td>1</td>\n",
       "    </tr>\n",
       "    <tr>\n",
       "      <th>9</th>\n",
       "      <td>9</td>\n",
       "      <td>2</td>\n",
       "      <td>0</td>\n",
       "      <td>1</td>\n",
       "      <td>1</td>\n",
       "      <td>Для</td>\n",
       "      <td>ru</td>\n",
       "      <td>3</td>\n",
       "    </tr>\n",
       "    <tr>\n",
       "      <th>10</th>\n",
       "      <td>10</td>\n",
       "      <td>2</td>\n",
       "      <td>1</td>\n",
       "      <td>1</td>\n",
       "      <td>0</td>\n",
       "      <td>того</td>\n",
       "      <td>ru</td>\n",
       "      <td>4</td>\n",
       "    </tr>\n",
       "    <tr>\n",
       "      <th>11</th>\n",
       "      <td>11</td>\n",
       "      <td>2</td>\n",
       "      <td>2</td>\n",
       "      <td>1</td>\n",
       "      <td>1</td>\n",
       "      <td>,</td>\n",
       "      <td>punct</td>\n",
       "      <td>1</td>\n",
       "    </tr>\n",
       "    <tr>\n",
       "      <th>12</th>\n",
       "      <td>12</td>\n",
       "      <td>2</td>\n",
       "      <td>3</td>\n",
       "      <td>1</td>\n",
       "      <td>0</td>\n",
       "      <td>чтобы</td>\n",
       "      <td>ru</td>\n",
       "      <td>5</td>\n",
       "    </tr>\n",
       "    <tr>\n",
       "      <th>13</th>\n",
       "      <td>13</td>\n",
       "      <td>2</td>\n",
       "      <td>4</td>\n",
       "      <td>1</td>\n",
       "      <td>1</td>\n",
       "      <td>.</td>\n",
       "      <td>punct</td>\n",
       "      <td>1</td>\n",
       "    </tr>\n",
       "    <tr>\n",
       "      <th>14</th>\n",
       "      <td>14</td>\n",
       "      <td>3</td>\n",
       "      <td>0</td>\n",
       "      <td>2</td>\n",
       "      <td>1</td>\n",
       "      <td>Во</td>\n",
       "      <td>ru</td>\n",
       "      <td>2</td>\n",
       "    </tr>\n",
       "    <tr>\n",
       "      <th>15</th>\n",
       "      <td>15</td>\n",
       "      <td>3</td>\n",
       "      <td>1</td>\n",
       "      <td>2</td>\n",
       "      <td>1</td>\n",
       "      <td>что</td>\n",
       "      <td>ru</td>\n",
       "      <td>3</td>\n",
       "    </tr>\n",
       "    <tr>\n",
       "      <th>16</th>\n",
       "      <td>16</td>\n",
       "      <td>3</td>\n",
       "      <td>2</td>\n",
       "      <td>2</td>\n",
       "      <td>1</td>\n",
       "      <td>бы</td>\n",
       "      <td>ru</td>\n",
       "      <td>2</td>\n",
       "    </tr>\n",
       "    <tr>\n",
       "      <th>17</th>\n",
       "      <td>17</td>\n",
       "      <td>3</td>\n",
       "      <td>3</td>\n",
       "      <td>2</td>\n",
       "      <td>1</td>\n",
       "      <td>мне</td>\n",
       "      <td>ru</td>\n",
       "      <td>3</td>\n",
       "    </tr>\n",
       "    <tr>\n",
       "      <th>18</th>\n",
       "      <td>18</td>\n",
       "      <td>3</td>\n",
       "      <td>4</td>\n",
       "      <td>2</td>\n",
       "      <td>0</td>\n",
       "      <td>поиграть</td>\n",
       "      <td>ru</td>\n",
       "      <td>8</td>\n",
       "    </tr>\n",
       "    <tr>\n",
       "      <th>19</th>\n",
       "      <td>19</td>\n",
       "      <td>3</td>\n",
       "      <td>5</td>\n",
       "      <td>2</td>\n",
       "      <td>1</td>\n",
       "      <td>,</td>\n",
       "      <td>punct</td>\n",
       "      <td>1</td>\n",
       "    </tr>\n",
       "    <tr>\n",
       "      <th>20</th>\n",
       "      <td>20</td>\n",
       "      <td>3</td>\n",
       "      <td>6</td>\n",
       "      <td>2</td>\n",
       "      <td>1</td>\n",
       "      <td>чтобы</td>\n",
       "      <td>ru</td>\n",
       "      <td>5</td>\n",
       "    </tr>\n",
       "    <tr>\n",
       "      <th>21</th>\n",
       "      <td>21</td>\n",
       "      <td>3</td>\n",
       "      <td>7</td>\n",
       "      <td>2</td>\n",
       "      <td>0</td>\n",
       "      <td>развлечься</td>\n",
       "      <td>ru</td>\n",
       "      <td>10</td>\n",
       "    </tr>\n",
       "    <tr>\n",
       "      <th>22</th>\n",
       "      <td>22</td>\n",
       "      <td>3</td>\n",
       "      <td>8</td>\n",
       "      <td>2</td>\n",
       "      <td>0</td>\n",
       "      <td>.</td>\n",
       "      <td>punct</td>\n",
       "      <td>1</td>\n",
       "    </tr>\n",
       "  </tbody>\n",
       "</table>\n",
       "</div>"
      ],
      "text/plain": [
       "    word_id  sentence_id  word_index  paragraph_id  word_tail         word  \\\n",
       "0         0            0           0             0          1        Чтобы   \n",
       "1         1            0           1             0          1  приготовить   \n",
       "2         2            0           2             0          0          суп   \n",
       "3         3            0           3             0          1            .   \n",
       "4         4            1           0             1          1          Что   \n",
       "5         5            1           1             1          1           бы   \n",
       "6         6            1           2             1          1          мне   \n",
       "7         7            1           3             1          0      сделать   \n",
       "8         8            1           4             1          1            .   \n",
       "9         9            2           0             1          1          Для   \n",
       "10       10            2           1             1          0         того   \n",
       "11       11            2           2             1          1            ,   \n",
       "12       12            2           3             1          0        чтобы   \n",
       "13       13            2           4             1          1            .   \n",
       "14       14            3           0             2          1           Во   \n",
       "15       15            3           1             2          1          что   \n",
       "16       16            3           2             2          1           бы   \n",
       "17       17            3           3             2          1          мне   \n",
       "18       18            3           4             2          0     поиграть   \n",
       "19       19            3           5             2          1            ,   \n",
       "20       20            3           6             2          1        чтобы   \n",
       "21       21            3           7             2          0   развлечься   \n",
       "22       22            3           8             2          0            .   \n",
       "\n",
       "   word_type  word_length  \n",
       "0         ru            5  \n",
       "1         ru           11  \n",
       "2         ru            3  \n",
       "3      punct            1  \n",
       "4         ru            3  \n",
       "5         ru            2  \n",
       "6         ru            3  \n",
       "7         ru            7  \n",
       "8      punct            1  \n",
       "9         ru            3  \n",
       "10        ru            4  \n",
       "11     punct            1  \n",
       "12        ru            5  \n",
       "13     punct            1  \n",
       "14        ru            2  \n",
       "15        ru            3  \n",
       "16        ru            2  \n",
       "17        ru            3  \n",
       "18        ru            8  \n",
       "19     punct            1  \n",
       "20        ru            5  \n",
       "21        ru           10  \n",
       "22     punct            1  "
      ]
     },
     "execution_count": 58,
     "metadata": {},
     "output_type": "execute_result"
    }
   ],
   "source": [
    "frame"
   ]
  },
  {
   "cell_type": "code",
   "execution_count": 59,
   "metadata": {},
   "outputs": [],
   "source": [
    "from tg.grammar_ru.ml.tasks.train_index_builder.negative_sampler import ChtobyNegativeSampler"
   ]
  },
  {
   "cell_type": "code",
   "execution_count": 60,
   "metadata": {},
   "outputs": [],
   "source": [
    "sampler = ChtobyNegativeSampler()"
   ]
  },
  {
   "cell_type": "code",
   "execution_count": 62,
   "metadata": {},
   "outputs": [],
   "source": [
    "negative_samples = sampler.build_negative_sample_from_positive(frame)"
   ]
  },
  {
   "cell_type": "code",
   "execution_count": 63,
   "metadata": {},
   "outputs": [],
   "source": [
    "expected_words = list(negative_samples['word'])"
   ]
  },
  {
   "cell_type": "code",
   "execution_count": 64,
   "metadata": {},
   "outputs": [
    {
     "data": {
      "text/plain": [
       "['Что',\n",
       " 'бы',\n",
       " 'приготовить',\n",
       " 'суп',\n",
       " '.',\n",
       " 'Чтобы',\n",
       " 'мне',\n",
       " 'сделать',\n",
       " '.',\n",
       " 'Для',\n",
       " 'того',\n",
       " ',',\n",
       " 'что',\n",
       " 'бы',\n",
       " '.',\n",
       " 'Во',\n",
       " 'чтобы',\n",
       " 'мне',\n",
       " 'поиграть',\n",
       " ',',\n",
       " 'что',\n",
       " 'бы',\n",
       " 'развлечься',\n",
       " '.',\n",
       " 'Во',\n",
       " 'что',\n",
       " 'бы',\n",
       " 'мне',\n",
       " 'поиграть',\n",
       " ',',\n",
       " 'что',\n",
       " 'бы',\n",
       " 'развлечься',\n",
       " '.',\n",
       " 'Во',\n",
       " 'чтобы',\n",
       " 'мне',\n",
       " 'поиграть',\n",
       " ',',\n",
       " 'чтобы',\n",
       " 'развлечься',\n",
       " '.']"
      ]
     },
     "execution_count": 64,
     "metadata": {},
     "output_type": "execute_result"
    }
   ],
   "source": [
    "expected_words"
   ]
  },
  {
   "cell_type": "code",
   "execution_count": null,
   "metadata": {},
   "outputs": [],
   "source": []
  }
 ],
 "metadata": {
  "interpreter": {
   "hash": "06d5edd100e8af3ad61bcb86118b225055d5ada911b896704585f9e786ce8d1b"
  },
  "kernelspec": {
   "display_name": "Python 3.8.10 ('.venv': venv)",
   "language": "python",
   "name": "python3"
  },
  "language_info": {
   "codemirror_mode": {
    "name": "ipython",
    "version": 3
   },
   "file_extension": ".py",
   "mimetype": "text/x-python",
   "name": "python",
   "nbconvert_exporter": "python",
   "pygments_lexer": "ipython3",
   "version": "3.8.10"
  },
  "orig_nbformat": 4
 },
 "nbformat": 4,
 "nbformat_minor": 2
}
