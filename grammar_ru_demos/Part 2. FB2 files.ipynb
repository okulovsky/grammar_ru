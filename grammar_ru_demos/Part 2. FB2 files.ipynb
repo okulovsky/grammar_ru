{
 "cells": [
  {
   "cell_type": "markdown",
   "id": "74fcdf35",
   "metadata": {},
   "source": [
    "Assume you happen to have a collection of `fb2` files, and you want to build a corpus from those. For instance, we have a small collection here in repository:"
   ]
  },
  {
   "cell_type": "code",
   "execution_count": 1,
   "id": "80ff664f",
   "metadata": {},
   "outputs": [
    {
     "name": "stdout",
     "output_type": "stream",
     "text": [
      "source\\averchenko\\Gerakl.zip\n",
      "source\\averchenko\\Yad.zip\n",
      "source\\chekhov\\Detvora.zip\n"
     ]
    }
   ],
   "source": [
    "from yo_fluq_ds import *\n",
    "from pathlib import Path\n",
    "\n",
    "PATH = Path('./source')\n",
    "Query.folder(PATH,'**/*.zip').foreach(print)"
   ]
  },
  {
   "cell_type": "markdown",
   "id": "3b4e76f5",
   "metadata": {},
   "source": [
    "The files are organized into folders, here, only one level (for author).\n",
    "\n",
    "First, the files need to be converted to \"pseudo-md\" format."
   ]
  },
  {
   "cell_type": "code",
   "execution_count": 2,
   "id": "2e95702f",
   "metadata": {},
   "outputs": [
    {
     "name": "stdout",
     "output_type": "stream",
     "text": [
      "c:\\users\\yura\\desktop\\repos\\grammar_ru\\data-cache\\processed\\books\\averchenko\\Gerakl.md\n",
      "c:\\users\\yura\\desktop\\repos\\grammar_ru\\data-cache\\processed\\books\\averchenko\\Yad.md\n",
      "c:\\users\\yura\\desktop\\repos\\grammar_ru\\data-cache\\processed\\books\\chekhov\\Detvora.md\n"
     ]
    }
   ],
   "source": [
    "from grammar_ru.corpus.formats import Fb2Scripts\n",
    "from grammar_ru import Loc\n",
    "\n",
    "PROCESSED_PATH = Loc.processed_path/'books'\n",
    "Fb2Scripts.convert_all(PATH, PROCESSED_PATH)\n",
    "Query.folder(PROCESSED_PATH,'**/*.md').foreach(print)"
   ]
  },
  {
   "cell_type": "markdown",
   "id": "6a67a912",
   "metadata": {},
   "source": [
    "At this step, it might help to review these md-files, as they may contain prefaces, appendices that are not desired for NLP.\n",
    "\n",
    "After this, we can convert files to corpus:"
   ]
  },
  {
   "cell_type": "code",
   "execution_count": 3,
   "id": "239428ce",
   "metadata": {},
   "outputs": [
    {
     "data": {
      "application/vnd.jupyter.widget-view+json": {
       "model_id": "6a5fb0d064564a6aa4e81eada51859b3",
       "version_major": 2,
       "version_minor": 0
      },
      "text/plain": [
       "  0%|          | 0/3 [00:00<?, ?it/s]"
      ]
     },
     "metadata": {},
     "output_type": "display_data"
    }
   ],
   "source": [
    "from grammar_ru.corpus import CorpusBuilder\n",
    "\n",
    "CorpusBuilder.convert_interformat_folder_to_corpus(\n",
    "   Loc.corpus_path/'book s.base.zip',\n",
    "    PROCESSED_PATH,\n",
    "    ['author','title']\n",
    ")"
   ]
  },
  {
   "cell_type": "code",
   "execution_count": null,
   "id": "c4bb9e68",
   "metadata": {},
   "outputs": [],
   "source": []
  }
 ],
 "metadata": {
  "kernelspec": {
   "display_name": "Python 3 (ipykernel)",
   "language": "python",
   "name": "python3"
  },
  "language_info": {
   "codemirror_mode": {
    "name": "ipython",
    "version": 3
   },
   "file_extension": ".py",
   "mimetype": "text/x-python",
   "name": "python",
   "nbconvert_exporter": "python",
   "pygments_lexer": "ipython3",
   "version": "3.8.18"
  }
 },
 "nbformat": 4,
 "nbformat_minor": 5
}
