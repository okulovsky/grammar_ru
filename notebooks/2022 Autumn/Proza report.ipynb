{
 "cells": [
  {
   "cell_type": "code",
   "execution_count": 1,
   "id": "0da151b0-2724-4353-b796-555daffdeb45",
   "metadata": {},
   "outputs": [],
   "source": [
    "import matplotlib.pyplot as plt\n"
   ]
  },
  {
   "cell_type": "markdown",
   "id": "739ef6c6-d33b-4bc8-89c3-97d7cd25c5f9",
   "metadata": {},
   "source": [
    "## Parsing proza.ru"
   ]
  },
  {
   "cell_type": "markdown",
   "id": "ef387172-2e59-495a-8b83-3807199395d0",
   "metadata": {},
   "source": [
    "TODO сколько авторов, сколько знаков на автора, статистика по кол-ву рецнзий?"
   ]
  },
  {
   "cell_type": "markdown",
   "id": "935e522a-5b89-43ca-b8df-fa7a62a82987",
   "metadata": {},
   "source": [
    "**Цель**: собрать корпус средней и плохой литературы."
   ]
  },
  {
   "cell_type": "markdown",
   "id": "00067003-8a60-4aa9-a568-b859721b86d1",
   "metadata": {},
   "source": [
    "Требования:\n",
    "* Объем ~100 романов ~100 Мб\n",
    "\n",
    "* Только фэнтези\n",
    "\n",
    "* Разделение произведения на фреймы не слишком большого размера чтобы можно было join'ить фрейм с самим собой\n",
    "\n",
    "* В начале фрейма указать мета-информацию: оценки произведения с сайта т.к. оценки, вероятно, коррелируют с количеством ошибок в тексте"
   ]
  },
  {
   "cell_type": "markdown",
   "id": "93b5c840-20be-47e2-8f22-0047a74e7333",
   "metadata": {},
   "source": [
    "**Результат**:\n",
    "* Загружено 81 произведение жанра фэнтези\n",
    "\n",
    "* Суммарный объем - 177 Мб\n",
    "\n",
    "* 33 автора\n",
    "\n",
    "* Каждое произведение размером больше 1 Мб\n",
    "\n",
    "* Произведение разбито на фреймы. Каждый не больше 20 тысяч символов\n",
    "\n",
    "* Оценки на proza.ru не нашел. Нашел рейтинг, в котором только 1000 произведений.\n",
    "Вместо оценок указал количество рецензий, написанных пользователями на это произведение. Также указал статистику на странице автора."
   ]
  },
  {
   "cell_type": "markdown",
   "id": "28544a38-4bea-4fd2-b476-11fb9b6f9e95",
   "metadata": {},
   "source": [
    "Статистика автора содержит \n",
    "* Количество читателей\n",
    "\n",
    "* Количество публикаций\n",
    "\n",
    "* Количество рецензий, написанных на произведения автора\n",
    "\n",
    "* Количество рецензий, написанных автором"
   ]
  },
  {
   "cell_type": "markdown",
   "id": "d39f0acc-b89b-4998-9d46-1175894f7fb7",
   "metadata": {
    "tags": []
   },
   "source": [
    "##### Информация по авторам"
   ]
  },
  {
   "cell_type": "markdown",
   "id": "25fa2bc3-5e89-4c59-b0e8-cd93f1274f45",
   "metadata": {},
   "source": [
    "auth_reviews_sent_count is None если на странице автора не указаны рецнзии, написанные им"
   ]
  },
  {
   "cell_type": "code",
   "execution_count": 2,
   "id": "0a4a057f-fdfe-469a-8cae-9847166a1385",
   "metadata": {},
   "outputs": [],
   "source": [
    "authors_info = {'/avtor/alanaenoch': {'auth_publication_count': 173, 'auth_reviews_received_count': 261,\n",
    "                                      'auth_reviews_sent_count': 147, 'auth_readers_count': 52683,\n",
    "                                      'dumped_total_len': 11811535, 'dumped_cnt': 4},\n",
    "                '/avtor/klodia1': {'auth_publication_count': 58, 'auth_reviews_received_count': 2,\n",
    "                                   'auth_reviews_sent_count': None, 'auth_readers_count': 2737,\n",
    "                                   'dumped_total_len': 845807, 'dumped_cnt': 1},\n",
    "                '/avtor/dinna2': {'auth_publication_count': 66, 'auth_reviews_received_count': 35,\n",
    "                                  'auth_reviews_sent_count': 10, 'auth_readers_count': 5283,\n",
    "                                  'dumped_total_len': 3354356, 'dumped_cnt': 3},\n",
    "                '/avtor/likaakadianka': {'auth_publication_count': 111, 'auth_reviews_received_count': 4,\n",
    "                                         'auth_reviews_sent_count': 11, 'auth_readers_count': 9380,\n",
    "                                         'dumped_total_len': 1212689, 'dumped_cnt': 1},\n",
    "                '/avtor/ulissu': {'auth_publication_count': 205, 'auth_reviews_received_count': 153,\n",
    "                                  'auth_reviews_sent_count': 76, 'auth_readers_count': 29020,\n",
    "                                  'dumped_total_len': 3318007, 'dumped_cnt': 3},\n",
    "                '/avtor/trelly': {'auth_publication_count': 169, 'auth_reviews_received_count': 127,\n",
    "                                  'auth_reviews_sent_count': 125, 'auth_readers_count': 16619,\n",
    "                                  'dumped_total_len': 7872214, 'dumped_cnt': 7},\n",
    "                '/avtor/yahsma': {'auth_publication_count': 499, 'auth_reviews_received_count': 87,\n",
    "                                  'auth_reviews_sent_count': None, 'auth_readers_count': 35083,\n",
    "                                  'dumped_total_len': 3720774, 'dumped_cnt': 2},\n",
    "                '/avtor/radchenkoxenia': {'auth_publication_count': 246, 'auth_reviews_received_count': 22,\n",
    "                                          'auth_reviews_sent_count': None, 'auth_readers_count': 9827,\n",
    "                                          'dumped_total_len': 1689303, 'dumped_cnt': 1},\n",
    "                '/avtor/rasskazchik': {'auth_publication_count': 413, 'auth_reviews_received_count': 90,\n",
    "                                       'auth_reviews_sent_count': 9, 'auth_readers_count': 63033,\n",
    "                                       'dumped_total_len': 1076837, 'dumped_cnt': 1},\n",
    "                '/avtor/sharl1': {'auth_publication_count': 169, 'auth_reviews_received_count': 1004,\n",
    "                                  'auth_reviews_sent_count': 392, 'auth_readers_count': 37068,\n",
    "                                  'dumped_total_len': 776296, 'dumped_cnt': 1},\n",
    "                '/avtor/login185': {'auth_publication_count': 267, 'auth_reviews_received_count': 1031,\n",
    "                                    'auth_reviews_sent_count': 507, 'auth_readers_count': 95734,\n",
    "                                    'dumped_total_len': 1489929, 'dumped_cnt': 1},\n",
    "                '/avtor/visay1': {'auth_publication_count': 62, 'auth_reviews_received_count': 4,\n",
    "                                  'auth_reviews_sent_count': None, 'auth_readers_count': 7117,\n",
    "                                  'dumped_total_len': 737555, 'dumped_cnt': 1},\n",
    "                '/avtor/xeniakostina': {'auth_publication_count': 256, 'auth_reviews_received_count': 23,\n",
    "                                        'auth_reviews_sent_count': None, 'auth_readers_count': 13273,\n",
    "                                        'dumped_total_len': 2555939, 'dumped_cnt': 1},\n",
    "                '/avtor/areteiny': {'auth_publication_count': 214, 'auth_reviews_received_count': 23,\n",
    "                                    'auth_reviews_sent_count': 34, 'auth_readers_count': 13374,\n",
    "                                    'dumped_total_len': 2099152, 'dumped_cnt': 1},\n",
    "                '/avtor/cooler1': {'auth_publication_count': 289, 'auth_reviews_received_count': 70,\n",
    "                                   'auth_reviews_sent_count': None, 'auth_readers_count': 61467,\n",
    "                                   'dumped_total_len': 2072565, 'dumped_cnt': 1},\n",
    "                '/avtor/iandri': {'auth_publication_count': 77, 'auth_reviews_received_count': 21,\n",
    "                                  'auth_reviews_sent_count': 9, 'auth_readers_count': 19933,\n",
    "                                  'dumped_total_len': 1086876, 'dumped_cnt': 1},\n",
    "                '/avtor/lenderia': {'auth_publication_count': 69, 'auth_reviews_received_count': 8,\n",
    "                                    'auth_reviews_sent_count': 22, 'auth_readers_count': 4269,\n",
    "                                    'dumped_total_len': 781890, 'dumped_cnt': 1},\n",
    "                '/avtor/lvstef': {'auth_publication_count': 91, 'auth_reviews_received_count': 18,\n",
    "                                  'auth_reviews_sent_count': 7, 'auth_readers_count': 8978, 'dumped_total_len': 1537760,\n",
    "                                  'dumped_cnt': 1},\n",
    "                '/avtor/sovichev': {'auth_publication_count': 99, 'auth_reviews_received_count': 13,\n",
    "                                    'auth_reviews_sent_count': None, 'auth_readers_count': 7507,\n",
    "                                    'dumped_total_len': 827139, 'dumped_cnt': 1},\n",
    "                '/avtor/shuburshunchik': {'auth_publication_count': 58, 'auth_reviews_received_count': 33,\n",
    "                                          'auth_reviews_sent_count': 23, 'auth_readers_count': 4752,\n",
    "                                          'dumped_total_len': 825823, 'dumped_cnt': 1},\n",
    "                '/avtor/zzaaz': {'auth_publication_count': 275, 'auth_reviews_received_count': 249,\n",
    "                                 'auth_reviews_sent_count': 605, 'auth_readers_count': 78352,\n",
    "                                 'dumped_total_len': 2917226, 'dumped_cnt': 2},\n",
    "                '/avtor/molvad': {'auth_publication_count': 285, 'auth_reviews_received_count': 61,\n",
    "                                  'auth_reviews_sent_count': None, 'auth_readers_count': 51387,\n",
    "                                  'dumped_total_len': 3321780, 'dumped_cnt': 4},\n",
    "                '/avtor/khrisevian': {'auth_publication_count': 246, 'auth_reviews_received_count': 67,\n",
    "                                      'auth_reviews_sent_count': 4, 'auth_readers_count': 110585,\n",
    "                                      'dumped_total_len': 4077475, 'dumped_cnt': 4},\n",
    "                '/avtor/anarhoret': {'auth_publication_count': 576, 'auth_reviews_received_count': 4133,\n",
    "                                     'auth_reviews_sent_count': 4673, 'auth_readers_count': 149096,\n",
    "                                     'dumped_total_len': 28410091, 'dumped_cnt': 15},\n",
    "                '/avtor/aleksandr': {'auth_publication_count': 249, 'auth_reviews_received_count': 573,\n",
    "                                     'auth_reviews_sent_count': 214, 'auth_readers_count': 75737,\n",
    "                                     'dumped_total_len': 721618, 'dumped_cnt': 1},\n",
    "                '/avtor/buzman39': {'auth_publication_count': 79, 'auth_reviews_received_count': 37,\n",
    "                                    'auth_reviews_sent_count': 32, 'auth_readers_count': 3374,\n",
    "                                    'dumped_total_len': 867475, 'dumped_cnt': 1},\n",
    "                '/avtor/russbarbarian': {'auth_publication_count': 142, 'auth_reviews_received_count': 22,\n",
    "                                         'auth_reviews_sent_count': 21, 'auth_readers_count': 13541,\n",
    "                                         'dumped_total_len': 1225847, 'dumped_cnt': 1},\n",
    "                '/avtor/lanter': {'auth_publication_count': 88, 'auth_reviews_received_count': 432,\n",
    "                                  'auth_reviews_sent_count': 328, 'auth_readers_count': 27599,\n",
    "                                  'dumped_total_len': 1030921, 'dumped_cnt': 1},\n",
    "                '/avtor/mizinatamara': {'auth_publication_count': 135, 'auth_reviews_received_count': 299,\n",
    "                                        'auth_reviews_sent_count': 358, 'auth_readers_count': 30174,\n",
    "                                        'dumped_total_len': 1352121, 'dumped_cnt': 1},\n",
    "                '/avtor/villi1': {'auth_publication_count': 247, 'auth_reviews_received_count': 575,\n",
    "                                  'auth_reviews_sent_count': 841, 'auth_readers_count': 61930,\n",
    "                                  'dumped_total_len': 773291, 'dumped_cnt': 1},\n",
    "                '/avtor/antonim': {'auth_publication_count': 83, 'auth_reviews_received_count': 71,\n",
    "                                   'auth_reviews_sent_count': 21, 'auth_readers_count': 56967,\n",
    "                                   'dumped_total_len': 3161351, 'dumped_cnt': 1},\n",
    "                '/avtor/maylin': {'auth_publication_count': 181, 'auth_reviews_received_count': 113,\n",
    "                                  'auth_reviews_sent_count': 107, 'auth_readers_count': 71242,\n",
    "                                  'dumped_total_len': 2296632, 'dumped_cnt': 1},\n",
    "                '/avtor/josedalais': {'auth_publication_count': 180, 'auth_reviews_received_count': 141,\n",
    "                                      'auth_reviews_sent_count': 3, 'auth_readers_count': 60887,\n",
    "                                      'dumped_total_len': 3913467, 'dumped_cnt': 3}}\n",
    "\n",
    "pub_cnts = [173, 58, 66, 111, 205, 169, 499, 246, 413, 169, 267, 62, 256, 214, 289, 77, 69, 91, 99, 58, 275, 285, 246,\n",
    "            576, 249, 79, 142, 88, 135, 247, 83, 181, 180]\n",
    "rev_rcvd_cnts = [261, 2, 35, 4, 153, 127, 87, 22, 90, 1004, 1031, 4, 23, 23, 70, 21, 8, 18, 13, 33, 249, 61, 67, 4133,\n",
    "                 573, 37, 22, 432, 299, 575, 71, 113, 141]\n",
    "rev_sent_cnts = [147, None, 10, 11, 76, 125, None, None, 9, 392, 507, None, None, 34, None, 9, 22, 7, None, 23, 605,\n",
    "                 None, 4, 4673, 214, 32, 21, 328, 358, 841, 21, 107, 3]\n",
    "readers_cnts = [52683, 2737, 5283, 9380, 29020, 16619, 35083, 9827, 63033, 37068, 95734, 7117, 13273, 13374, 61467,\n",
    "                19933, 4269, 8978, 7507, 4752, 78352, 51387, 110585, 149096, 75737, 3374, 13541, 27599, 30174, 61930,\n",
    "                56967, 71242, 60887]"
   ]
  },
  {
   "cell_type": "markdown",
   "id": "7e2a1a95-16c2-45c8-a00a-9bd1b5cc7d4b",
   "metadata": {},
   "source": [
    "#### Статистика"
   ]
  },
  {
   "cell_type": "code",
   "execution_count": 3,
   "id": "78349cd3-1af3-4452-ab5d-d8fc99e40b52",
   "metadata": {},
   "outputs": [
    {
     "data": {
      "image/png": "[encoded data removed]",
      "text/plain": [
       "<Figure size 1152x432 with 1 Axes>"
      ]
     },
     "metadata": {
      "needs_background": "light"
     },
     "output_type": "display_data"
    }
   ],
   "source": [
    "fig, ax = plt.subplots(figsize=(16, 6))\n",
    "ax.hist(pub_cnts, 30)\n",
    "plt.xlabel(\"Кол-во публикаций\")\n",
    "plt.ylabel(\"Кол-во авторов\")\n",
    "plt.show()\n",
    "\n",
    "\n"
   ]
  },
  {
   "cell_type": "code",
   "execution_count": 4,
   "id": "9e74cbb9-6332-4f6d-a857-0bac79ff1c19",
   "metadata": {},
   "outputs": [
    {
     "data": {
      "image/png": "[encoded data removed]",
      "text/plain": [
       "<Figure size 1152x432 with 1 Axes>"
      ]
     },
     "metadata": {
      "needs_background": "light"
     },
     "output_type": "display_data"
    }
   ],
   "source": [
    "fig, ax = plt.subplots(figsize=(16, 6))\n",
    "plt.xticks(range(0,150000,10000))\n",
    "ax.hist(readers_cnts, 80)\n",
    "plt.xlabel(\"Кол-во читателей автора\")\n",
    "plt.ylabel(\"Кол-во авторов\")\n",
    "plt.show()"
   ]
  },
  {
   "cell_type": "code",
   "execution_count": 9,
   "id": "a5280765-fd0b-47a6-973a-60a84549e9da",
   "metadata": {},
   "outputs": [
    {
     "data": {
      "image/png": "[encoded data removed]",
      "text/plain": [
       "<Figure size 1152x432 with 1 Axes>"
      ]
     },
     "metadata": {
      "needs_background": "light"
     },
     "output_type": "display_data"
    }
   ],
   "source": [
    "fig, ax = plt.subplots(figsize=(16, 6))\n",
    "plt.xticks(range(0,5000,200))\n",
    "ax.hist(rev_rcvd_cnts, 100)\n",
    "plt.xlabel(\"Кол-во полученных рецензий\")\n",
    "plt.ylabel(\"Кол-во авторов\")\n",
    "plt.show()\n",
    "\n"
   ]
  },
  {
   "cell_type": "code",
   "execution_count": 10,
   "id": "5bc8b440-6486-4882-a9b6-d50f17dfd6c2",
   "metadata": {},
   "outputs": [
    {
     "data": {
      "image/png": "[encoded data removed]",
      "text/plain": [
       "<Figure size 1152x432 with 1 Axes>"
      ]
     },
     "metadata": {
      "needs_background": "light"
     },
     "output_type": "display_data"
    }
   ],
   "source": [
    "noneless = [x for x in rev_sent_cnts if x is not None]\n",
    "fig, ax = plt.subplots(figsize=(16, 6))\n",
    "plt.xticks(range(0,5000,500))\n",
    "ax.hist(noneless, 100)\n",
    "plt.xlabel(\"Кол-во написанных автором рецензий\")\n",
    "plt.ylabel(\"Кол-во авторов\")\n",
    "plt.show()\n"
   ]
  },
  {
   "cell_type": "code",
   "execution_count": 15,
   "id": "1ea85ec8-a360-4c77-a86f-2a005334d708",
   "metadata": {},
   "outputs": [
    {
     "name": "stdout",
     "output_type": "stream",
     "text": [
      "/avtor/anarhoret\n"
     ]
    }
   ],
   "source": [
    "for a, i in authors_info.items():\n",
    "    if i['auth_reviews_sent_count'] and  i['auth_reviews_sent_count']>4000:\n",
    "        print(a)"
   ]
  },
  {
   "cell_type": "markdown",
   "id": "770720c6-5dcb-4693-9718-29efdd457bf1",
   "metadata": {},
   "source": [
    "https://proza.ru/avtor/anarhoret - написал 4500 рецензий 0_о."
   ]
  },
  {
   "cell_type": "code",
   "execution_count": null,
   "id": "458ab847-f973-443d-9872-1dd0cfdfe474",
   "metadata": {},
   "outputs": [],
   "source": []
  }
 ],
 "metadata": {
  "kernelspec": {
   "display_name": "Python 3 (ipykernel)",
   "language": "python",
   "name": "python3"
  },
  "language_info": {
   "codemirror_mode": {
    "name": "ipython",
    "version": 3
   },
   "file_extension": ".py",
   "mimetype": "text/x-python",
   "name": "python",
   "nbconvert_exporter": "python",
   "pygments_lexer": "ipython3",
   "version": "3.10.7"
  },
  "vscode": {
   "interpreter": {
    "hash": "516a59b297476480460c2e45243361e747fbdc1732c0cf4f6a7f257120316361"
   }
  }
 },
 "nbformat": 4,
 "nbformat_minor": 5
}
